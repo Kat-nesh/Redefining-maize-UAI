{
  "nbformat": 4,
  "nbformat_minor": 0,
  "metadata": {
    "colab": {
      "provenance": [],
      "mount_file_id": "1jThikvBjMC5CP_WkLiECqWNoPCZGb22u",
      "authorship_tag": "ABX9TyOpOwCCJF8gybURaCt96OK+",
      "include_colab_link": true
    },
    "kernelspec": {
      "name": "python3",
      "display_name": "Python 3"
    },
    "language_info": {
      "name": "python"
    }
  },
  "cells": [
    {
      "cell_type": "markdown",
      "metadata": {
        "id": "view-in-github",
        "colab_type": "text"
      },
      "source": [
        "<a href=\"https://colab.research.google.com/github/Kat-nesh/Redefining-maize-UAI/blob/main/Zone_Delineation.ipynb\" target=\"_parent\"><img src=\"https://colab.research.google.com/assets/colab-badge.svg\" alt=\"Open In Colab\"/></a>"
      ]
    },
    {
      "cell_type": "markdown",
      "source": [
        "To run, without connecting to earth engine, you can skip run:\n",
        "1. Imports & Pre-requisites\n",
        "2. SKIP to Step 3 where the data is loaded: Data is called soil_variables.csv."
      ],
      "metadata": {
        "id": "kpXy6rIaIuhn"
      }
    },
    {
      "cell_type": "markdown",
      "source": [
        "# 1. Imports & Pre-requisites"
      ],
      "metadata": {
        "id": "w_eIj3SyKd8m"
      }
    },
    {
      "cell_type": "code",
      "source": [
        "try:\n",
        "  import geemap\n",
        "  import ee\n",
        "  import geopandas\n",
        "  import math\n",
        "except Exception as e:\n",
        "  !pip install geopandas\n",
        "  !pip install geemap\n",
        "  Restart()\n",
        "finally:\n",
        "  import geemap\n",
        "  import ee\n",
        "try:\n",
        "  ee.Initialize(project='ee-maizeyield')\n",
        "\n",
        "except Exception as e:\n",
        "  ee.Authenticate()\n",
        "  ee.Initialize(project='ee-maizeyield')\n"
      ],
      "metadata": {
        "id": "pFin9MdlJC93"
      },
      "execution_count": null,
      "outputs": []
    },
    {
      "cell_type": "code",
      "execution_count": 3,
      "metadata": {
        "id": "bcgH2MctXBCj",
        "colab": {
          "base_uri": "https://localhost:8080/",
          "height": 17
        },
        "outputId": "dc8fb61b-2ba8-4a82-c5cf-b43d26754248"
      },
      "outputs": [
        {
          "output_type": "display_data",
          "data": {
            "text/plain": [
              "<IPython.core.display.HTML object>"
            ],
            "text/html": [
              "\n",
              "            <style>\n",
              "                .geemap-dark {\n",
              "                    --jp-widgets-color: white;\n",
              "                    --jp-widgets-label-color: white;\n",
              "                    --jp-ui-font-color1: white;\n",
              "                    --jp-layout-color2: #454545;\n",
              "                    background-color: #383838;\n",
              "                }\n",
              "\n",
              "                .geemap-dark .jupyter-button {\n",
              "                    --jp-layout-color3: #383838;\n",
              "                }\n",
              "\n",
              "                .geemap-colab {\n",
              "                    background-color: var(--colab-primary-surface-color, white);\n",
              "                }\n",
              "\n",
              "                .geemap-colab .jupyter-button {\n",
              "                    --jp-layout-color3: var(--colab-primary-surface-color, white);\n",
              "                }\n",
              "            </style>\n",
              "            "
            ]
          },
          "metadata": {}
        }
      ],
      "source": [
        "import pandas as pd\n",
        "import geopandas as gpd\n",
        "import numpy as np\n",
        "import seaborn as sns\n",
        "from sklearn.cluster import KMeans\n",
        "from sklearn.preprocessing import StandardScaler\n",
        "from IPython.core.magics.execution import Restart\n",
        "\n"
      ]
    },
    {
      "cell_type": "code",
      "source": [
        "Map = geemap.Map(project='ee-maizeyield')"
      ],
      "metadata": {
        "colab": {
          "base_uri": "https://localhost:8080/",
          "height": 17
        },
        "id": "FQFmPgibEGbu",
        "outputId": "f9d36702-af17-4d86-d7c8-7ce556aa35e6"
      },
      "execution_count": 2,
      "outputs": [
        {
          "output_type": "display_data",
          "data": {
            "text/plain": [
              "<IPython.core.display.HTML object>"
            ],
            "text/html": [
              "\n",
              "            <style>\n",
              "                .geemap-dark {\n",
              "                    --jp-widgets-color: white;\n",
              "                    --jp-widgets-label-color: white;\n",
              "                    --jp-ui-font-color1: white;\n",
              "                    --jp-layout-color2: #454545;\n",
              "                    background-color: #383838;\n",
              "                }\n",
              "\n",
              "                .geemap-dark .jupyter-button {\n",
              "                    --jp-layout-color3: #383838;\n",
              "                }\n",
              "\n",
              "                .geemap-colab {\n",
              "                    background-color: var(--colab-primary-surface-color, white);\n",
              "                }\n",
              "\n",
              "                .geemap-colab .jupyter-button {\n",
              "                    --jp-layout-color3: var(--colab-primary-surface-color, white);\n",
              "                }\n",
              "            </style>\n",
              "            "
            ]
          },
          "metadata": {}
        }
      ]
    },
    {
      "cell_type": "markdown",
      "source": [
        "### 1.1 Load clustering variables data and study area"
      ],
      "metadata": {
        "id": "ofGhECXVhzsH"
      }
    },
    {
      "cell_type": "code",
      "source": [
        "start = ee.Date('2018-04-01');\n",
        "end   = ee.Date('2018-08-31');\n",
        "aoi = ee.FeatureCollection(\"projects/ee-maizeyield/assets/county_maize_yield_2010-18\").geometry()\n",
        "orgcarb = ee.Image(\"OpenLandMap/SOL/SOL_ORGANIC-CARBON_USDA-6A1C_M/v02\").select('b0').clip(aoi)\n",
        "soilText = ee.Image(\"OpenLandMap/SOL/SOL_TEXTURE-CLASS_USDA-TT_M/v02\").select('b0').clip(aoi)\n",
        "smois = ee.ImageCollection(\"NASA_USDA/HSL/SMAP_soil_moisture\").filterDate(start, end).filterBounds(aoi).select('ssm').mean().clip(aoi)\n",
        "dem = ee.Image(\"CGIAR/SRTM90_V4\").clip(aoi)\n",
        "sph = ee.Image(\"ISDASOIL/Africa/v1/ph\").select('mean_0_20')\n",
        "nitrogen = ee.Image(\"ISDASOIL/Africa/v1/nitrogen_total\").clip(aoi).select('mean_0_20');\n",
        "aluminium = ee.Image(\"ISDASOIL/Africa/v1/aluminium_extractable\").clip(aoi).select('mean_0_20')\n",
        "bound = ee.FeatureCollection(\"users/Prod/boundary\")\n"
      ],
      "metadata": {
        "id": "Zib7a23phvA8",
        "colab": {
          "base_uri": "https://localhost:8080/",
          "height": 17
        },
        "outputId": "30ca2978-c68f-4427-fecc-b1dfd9cdb807"
      },
      "execution_count": 4,
      "outputs": [
        {
          "output_type": "display_data",
          "data": {
            "text/plain": [
              "<IPython.core.display.HTML object>"
            ],
            "text/html": [
              "\n",
              "            <style>\n",
              "                .geemap-dark {\n",
              "                    --jp-widgets-color: white;\n",
              "                    --jp-widgets-label-color: white;\n",
              "                    --jp-ui-font-color1: white;\n",
              "                    --jp-layout-color2: #454545;\n",
              "                    background-color: #383838;\n",
              "                }\n",
              "\n",
              "                .geemap-dark .jupyter-button {\n",
              "                    --jp-layout-color3: #383838;\n",
              "                }\n",
              "\n",
              "                .geemap-colab {\n",
              "                    background-color: var(--colab-primary-surface-color, white);\n",
              "                }\n",
              "\n",
              "                .geemap-colab .jupyter-button {\n",
              "                    --jp-layout-color3: var(--colab-primary-surface-color, white);\n",
              "                }\n",
              "            </style>\n",
              "            "
            ]
          },
          "metadata": {}
        }
      ]
    },
    {
      "cell_type": "code",
      "source": [
        "img10 = ee.Image(\"users/Prod/YieldMaps10to20/Class2010\")\n",
        "img11 = ee.Image(\"users/Prod/YieldMaps10to20/Class2011\")\n",
        "img12 = ee.Image(\"users/Prod/YieldMaps10to20/Class2012\")\n",
        "img13 = ee.Image(\"users/Prod/YieldMaps10to20/Class2013\")\n",
        "img14 = ee.Image(\"users/Prod/YieldMaps10to20/Class2014\")\n",
        "img15 = ee.Image(\"users/Prod/YieldMaps10to20/Class2015\")\n",
        "img16 = ee.Image(\"users/Prod/YieldMaps10to20/Class2016\")\n",
        "img17 = ee.Image(\"users/Prod/YieldMaps10to20/Class2017\")\n",
        "img18 = ee.Image(\"users/Prod/YieldMaps10to20/Class2018\")\n",
        "img19 = ee.Image(\"users/Prod/YieldMaps10to20/Class2019\")\n",
        "img20 = ee.Image(\"users/Prod/YieldMaps10to20/Class2020\")\n",
        "imgcol  = ee.ImageCollection.fromImages([img10,img11,img12,img13,img14,img15, img16, img17,img18])\n",
        "imgvar= imgcol.reduce(ee.Reducer.variance()) #Temporal Variance\n",
        "Map.addLayer(imgvar, {},'Variance')"
      ],
      "metadata": {
        "colab": {
          "base_uri": "https://localhost:8080/",
          "height": 17
        },
        "id": "co9wwxz8XkLg",
        "outputId": "6da824b3-0ca5-4f79-f2ec-2ab2fcb85083"
      },
      "execution_count": 5,
      "outputs": [
        {
          "output_type": "display_data",
          "data": {
            "text/plain": [
              "<IPython.core.display.HTML object>"
            ],
            "text/html": [
              "\n",
              "            <style>\n",
              "                .geemap-dark {\n",
              "                    --jp-widgets-color: white;\n",
              "                    --jp-widgets-label-color: white;\n",
              "                    --jp-ui-font-color1: white;\n",
              "                    --jp-layout-color2: #454545;\n",
              "                    background-color: #383838;\n",
              "                }\n",
              "\n",
              "                .geemap-dark .jupyter-button {\n",
              "                    --jp-layout-color3: #383838;\n",
              "                }\n",
              "\n",
              "                .geemap-colab {\n",
              "                    background-color: var(--colab-primary-surface-color, white);\n",
              "                }\n",
              "\n",
              "                .geemap-colab .jupyter-button {\n",
              "                    --jp-layout-color3: var(--colab-primary-surface-color, white);\n",
              "                }\n",
              "            </style>\n",
              "            "
            ]
          },
          "metadata": {}
        }
      ]
    },
    {
      "cell_type": "code",
      "source": [
        "palette = [ '#a6cee3', '#1f78b4', '#b2df8a', '#33a02c', '#fb9a99', '#e31a1c', '#fdbf6f', '#ff7f00', '#cab2d6', '#6a3d9a',\n",
        "'#ffff99', '#b15928', '#8dd3c7', '#ffffb3', '#bebada', '#fb8072', '#80b1d3', '#fdb462', '#b3de69', '#fccde5']"
      ],
      "metadata": {
        "id": "XhPJzQuDk9lI",
        "colab": {
          "base_uri": "https://localhost:8080/",
          "height": 17
        },
        "outputId": "80d2de47-81a3-4c9f-c540-740a9aaa89db"
      },
      "execution_count": 6,
      "outputs": [
        {
          "output_type": "display_data",
          "data": {
            "text/plain": [
              "<IPython.core.display.HTML object>"
            ],
            "text/html": [
              "\n",
              "            <style>\n",
              "                .geemap-dark {\n",
              "                    --jp-widgets-color: white;\n",
              "                    --jp-widgets-label-color: white;\n",
              "                    --jp-ui-font-color1: white;\n",
              "                    --jp-layout-color2: #454545;\n",
              "                    background-color: #383838;\n",
              "                }\n",
              "\n",
              "                .geemap-dark .jupyter-button {\n",
              "                    --jp-layout-color3: #383838;\n",
              "                }\n",
              "\n",
              "                .geemap-colab {\n",
              "                    background-color: var(--colab-primary-surface-color, white);\n",
              "                }\n",
              "\n",
              "                .geemap-colab .jupyter-button {\n",
              "                    --jp-layout-color3: var(--colab-primary-surface-color, white);\n",
              "                }\n",
              "            </style>\n",
              "            "
            ]
          },
          "metadata": {}
        }
      ]
    },
    {
      "cell_type": "markdown",
      "source": [
        "### 1.2 Resample all Images to a Common Scale"
      ],
      "metadata": {
        "id": "AFK0wZ5LSelD"
      }
    },
    {
      "cell_type": "code",
      "source": [
        "proj = ee.Image(imgvar).projection()\n",
        "crs_info = proj.getInfo()\n",
        "rsn2 = nitrogen.projection();\n",
        "\n",
        "proj1 =  ee.Image(imgvar).projection()\n",
        "# print('Average Variance projection:',  proj1.getInfo())\n",
        "\n",
        "projSRTM = dem.reproject(rsn2)\n",
        "# print('ReProjected SRTM rsn', projSRTM.projection().nominalScale().getInfo())\n",
        "\n",
        "projSMOS = smois.reproject(rsn2)\n",
        "# print('ReProjected SMOS rsn', projSMOS.projection().nominalScale().getInfo())\n",
        "\n",
        "projPH = sph.reproject(rsn2)\n",
        "# print('ReProjected PH rsn', projPH.projection().nominalScale().getInfo())\n",
        "\n",
        "projText = soilText.reproject(rsn2)\n",
        "# print('ReProjected Texture rsn', projText.projection().nominalScale().getInfo())\n",
        "\n",
        "projnitr = nitrogen.reproject(rsn2)\n",
        "# print('ReProjected Nitrogen rsn', projnitr.projection().nominalScale().getInfo())\n",
        "\n",
        "projCO2 = orgcarb.reproject(rsn2)\n",
        "# print('ReProjected CO2 rsn', projCO2.projection().nominalScale().getInfo())\n",
        "\n",
        "projalumn = aluminium.reproject(rsn2)\n",
        "# print('ReProjected Aluminium rsn', projalumn.projection().nominalScale().getInfo())"
      ],
      "metadata": {
        "colab": {
          "base_uri": "https://localhost:8080/",
          "height": 17
        },
        "id": "B09vLWT9majy",
        "outputId": "ab71ec23-1e20-4f36-e610-25396e62269c"
      },
      "execution_count": 7,
      "outputs": [
        {
          "output_type": "display_data",
          "data": {
            "text/plain": [
              "<IPython.core.display.HTML object>"
            ],
            "text/html": [
              "\n",
              "            <style>\n",
              "                .geemap-dark {\n",
              "                    --jp-widgets-color: white;\n",
              "                    --jp-widgets-label-color: white;\n",
              "                    --jp-ui-font-color1: white;\n",
              "                    --jp-layout-color2: #454545;\n",
              "                    background-color: #383838;\n",
              "                }\n",
              "\n",
              "                .geemap-dark .jupyter-button {\n",
              "                    --jp-layout-color3: #383838;\n",
              "                }\n",
              "\n",
              "                .geemap-colab {\n",
              "                    background-color: var(--colab-primary-surface-color, white);\n",
              "                }\n",
              "\n",
              "                .geemap-colab .jupyter-button {\n",
              "                    --jp-layout-color3: var(--colab-primary-surface-color, white);\n",
              "                }\n",
              "            </style>\n",
              "            "
            ]
          },
          "metadata": {}
        }
      ]
    },
    {
      "cell_type": "code",
      "source": [
        "input =  ee.ImageCollection.fromImages([projalumn,projPH,projnitr,imgvar,projCO2,projText,projSRTM,projSMOS,img18]) \\\n",
        ".toBands().rename(['Aluminium','PH','Nitrogen','Variance','Organic Carbon','Texture','Elevation','Soil Moisture','Yield'])\n",
        "input = input.toFloat()"
      ],
      "metadata": {
        "colab": {
          "base_uri": "https://localhost:8080/",
          "height": 17
        },
        "id": "qmid_m8xYpfC",
        "outputId": "8403e384-0e09-4f09-a7fc-7f99d243bd73"
      },
      "execution_count": 8,
      "outputs": [
        {
          "output_type": "display_data",
          "data": {
            "text/plain": [
              "<IPython.core.display.HTML object>"
            ],
            "text/html": [
              "\n",
              "            <style>\n",
              "                .geemap-dark {\n",
              "                    --jp-widgets-color: white;\n",
              "                    --jp-widgets-label-color: white;\n",
              "                    --jp-ui-font-color1: white;\n",
              "                    --jp-layout-color2: #454545;\n",
              "                    background-color: #383838;\n",
              "                }\n",
              "\n",
              "                .geemap-dark .jupyter-button {\n",
              "                    --jp-layout-color3: #383838;\n",
              "                }\n",
              "\n",
              "                .geemap-colab {\n",
              "                    background-color: var(--colab-primary-surface-color, white);\n",
              "                }\n",
              "\n",
              "                .geemap-colab .jupyter-button {\n",
              "                    --jp-layout-color3: var(--colab-primary-surface-color, white);\n",
              "                }\n",
              "            </style>\n",
              "            "
            ]
          },
          "metadata": {}
        }
      ]
    },
    {
      "cell_type": "markdown",
      "source": [
        "# 2 Prepare the training dataset"
      ],
      "metadata": {
        "id": "KMiLxGt2KpC0"
      }
    },
    {
      "cell_type": "code",
      "source": [
        "input = input.clip(aoi)\n",
        "\n",
        "# Make the training dataset.\n",
        "training = input.sample(**{\n",
        "  'region': aoi,\n",
        "  'scale': 30,\n",
        "  'numPixels': 5000\n",
        "})\n",
        "\n",
        "bands = input.bandNames()"
      ],
      "metadata": {
        "colab": {
          "base_uri": "https://localhost:8080/",
          "height": 17
        },
        "id": "_H8c1iTHmuT8",
        "outputId": "4b8c2cfa-513d-4304-dafb-c8389a8f6323"
      },
      "execution_count": 9,
      "outputs": [
        {
          "output_type": "display_data",
          "data": {
            "text/plain": [
              "<IPython.core.display.HTML object>"
            ],
            "text/html": [
              "\n",
              "            <style>\n",
              "                .geemap-dark {\n",
              "                    --jp-widgets-color: white;\n",
              "                    --jp-widgets-label-color: white;\n",
              "                    --jp-ui-font-color1: white;\n",
              "                    --jp-layout-color2: #454545;\n",
              "                    background-color: #383838;\n",
              "                }\n",
              "\n",
              "                .geemap-dark .jupyter-button {\n",
              "                    --jp-layout-color3: #383838;\n",
              "                }\n",
              "\n",
              "                .geemap-colab {\n",
              "                    background-color: var(--colab-primary-surface-color, white);\n",
              "                }\n",
              "\n",
              "                .geemap-colab .jupyter-button {\n",
              "                    --jp-layout-color3: var(--colab-primary-surface-color, white);\n",
              "                }\n",
              "            </style>\n",
              "            "
            ]
          },
          "metadata": {}
        }
      ]
    },
    {
      "cell_type": "markdown",
      "source": [
        "## 2.1 Pairwise Correlation\n",
        "- Review the correlation to between the variables"
      ],
      "metadata": {
        "id": "bN7VFTgqwGQz"
      }
    },
    {
      "cell_type": "code",
      "source": [
        "def func_fnf(i):\n",
        "\n",
        "  def func_sny(j):\n",
        "    stats = training.reduceColumns(**{\n",
        "      'reducer': ee.Reducer.pearsonsCorrelation(),\n",
        "      'selectors': [i,j]\n",
        "    })\n",
        "    bandNames = ee.String(i).cat('_').cat(j)\n",
        "    return ee.Feature(None, {'correlation': stats.get('correlation'), 'band': bandNames})\n",
        "\n",
        "  return bands.map(func_sny)\n",
        "\n",
        "\n",
        "pairwiseCorr = ee.FeatureCollection(bands.map(func_fnf).flatten())\n"
      ],
      "metadata": {
        "id": "EFnews7flQ_C",
        "colab": {
          "base_uri": "https://localhost:8080/",
          "height": 17
        },
        "outputId": "9d0b33c1-039b-4d3a-df71-1af6ec9fe3ec"
      },
      "execution_count": 10,
      "outputs": [
        {
          "output_type": "display_data",
          "data": {
            "text/plain": [
              "<IPython.core.display.HTML object>"
            ],
            "text/html": [
              "\n",
              "            <style>\n",
              "                .geemap-dark {\n",
              "                    --jp-widgets-color: white;\n",
              "                    --jp-widgets-label-color: white;\n",
              "                    --jp-ui-font-color1: white;\n",
              "                    --jp-layout-color2: #454545;\n",
              "                    background-color: #383838;\n",
              "                }\n",
              "\n",
              "                .geemap-dark .jupyter-button {\n",
              "                    --jp-layout-color3: #383838;\n",
              "                }\n",
              "\n",
              "                .geemap-colab {\n",
              "                    background-color: var(--colab-primary-surface-color, white);\n",
              "                }\n",
              "\n",
              "                .geemap-colab .jupyter-button {\n",
              "                    --jp-layout-color3: var(--colab-primary-surface-color, white);\n",
              "                }\n",
              "            </style>\n",
              "            "
            ]
          },
          "metadata": {}
        }
      ]
    },
    {
      "source": [
        "# Convert the ee.FeatureCollection to a client-side list\n",
        "pairwiseCorr_list = pairwiseCorr.getInfo()['features']\n",
        "\n",
        "# Extract correlation and band names\n",
        "data = []\n",
        "for feature in pairwiseCorr_list:\n",
        "    data.append([feature['properties']['band'], feature['properties']['correlation']])\n",
        "\n",
        "# Create a pandas DataFrame\n",
        "df = pd.DataFrame(data, columns=['band', 'correlation'])\n",
        "\n",
        "# Split the 'band' column into two separate columns for index and columns\n",
        "df[['band1', 'band2']] = df['band'].str.split('_', expand=True)\n",
        "\n",
        "# Pivot the DataFrame using the new columns\n",
        "df_pivot = df.pivot(index='band1', columns='band2', values='correlation')\n",
        "\n",
        "# Remove index name 'correlation' to avoid confusion\n",
        "df_pivot.index.name = None\n",
        "\n",
        "# Replace NaN values with 0\n",
        "df_pivot = df_pivot.fillna(0)"
      ],
      "cell_type": "code",
      "metadata": {
        "id": "YTEnLYaNFdgZ"
      },
      "execution_count": null,
      "outputs": []
    },
    {
      "cell_type": "markdown",
      "source": [
        "#### 2.1.1 Plotting the correlation matrix\n"
      ],
      "metadata": {
        "id": "itUq9sb4Td8g"
      }
    },
    {
      "cell_type": "code",
      "source": [
        "import seaborn as sns\n",
        "import matplotlib.pyplot as plt\n",
        "plt.figure(figsize=(10, 10))\n",
        "sns.heatmap(df_pivot, annot=True, cmap='coolwarm', annot_kws={\"size\": 9})\n",
        "# plt.title('Pairwise Correlation Matrix')\n",
        "plt.xticks(fontsize=9)\n",
        "plt.yticks(fontsize=9)\n",
        "plt.show()"
      ],
      "metadata": {
        "id": "nnz-mun-IXU3",
        "collapsed": true
      },
      "execution_count": null,
      "outputs": []
    },
    {
      "cell_type": "markdown",
      "source": [
        "## 2.2 K-Means clustering initialization"
      ],
      "metadata": {
        "id": "1v_9TruPwX2e"
      }
    },
    {
      "cell_type": "code",
      "source": [
        "\n",
        "# Instantiate the clusterer and train it.\n",
        "clusterer10 = ee.Clusterer.wekaKMeans(10).train(training)\n",
        "\n",
        "# Cluster the input using the trained clusterer.\n",
        "result = input.cluster(clusterer10)\n",
        "\n",
        "#Majority analysis: Smooth with a mode filter.\n",
        "mode = result.focal_mode()\n",
        "\n",
        "# Use erosion and dilation to get rid of small islands.\n",
        "smooth = result.focal_max(3).focal_min(5).focal_max(3)"
      ],
      "metadata": {
        "collapsed": true,
        "id": "SRvHqg4JlnN2",
        "colab": {
          "base_uri": "https://localhost:8080/",
          "height": 17
        },
        "outputId": "fab53541-cf01-4899-9539-0503dc37d128"
      },
      "execution_count": 13,
      "outputs": [
        {
          "output_type": "display_data",
          "data": {
            "text/plain": [
              "<IPython.core.display.HTML object>"
            ],
            "text/html": [
              "\n",
              "            <style>\n",
              "                .geemap-dark {\n",
              "                    --jp-widgets-color: white;\n",
              "                    --jp-widgets-label-color: white;\n",
              "                    --jp-ui-font-color1: white;\n",
              "                    --jp-layout-color2: #454545;\n",
              "                    background-color: #383838;\n",
              "                }\n",
              "\n",
              "                .geemap-dark .jupyter-button {\n",
              "                    --jp-layout-color3: #383838;\n",
              "                }\n",
              "\n",
              "                .geemap-colab {\n",
              "                    background-color: var(--colab-primary-surface-color, white);\n",
              "                }\n",
              "\n",
              "                .geemap-colab .jupyter-button {\n",
              "                    --jp-layout-color3: var(--colab-primary-surface-color, white);\n",
              "                }\n",
              "            </style>\n",
              "            "
            ]
          },
          "metadata": {}
        }
      ]
    },
    {
      "cell_type": "code",
      "source": [
        "# Display the clusters with random colors.\n",
        "palette = ['#e41a1c','#377eb8','#4daf4a','#984ea3','#ff7f00','#ffff33','#a65628','#f781bf']\n",
        "Map.addLayer(mode, { 'min':1, 'max':12, 'palette':palette}, 'Zones-Mode',False)\n",
        "Map.addLayer(smooth.clip(aoi), { 'min':1, 'max':12, 'palette':palette}, 'Zones-smooth',False)"
      ],
      "metadata": {
        "collapsed": true,
        "id": "3dRwj0TXyl6X"
      },
      "execution_count": null,
      "outputs": []
    },
    {
      "cell_type": "code",
      "source": [
        "# Map"
      ],
      "metadata": {
        "collapsed": true,
        "id": "JsDo1UbYxEyk"
      },
      "execution_count": null,
      "outputs": []
    },
    {
      "cell_type": "markdown",
      "source": [
        "# 3 Evaluate the clustering variables via PCA and PLS\n",
        "-  comparison of PLS/PCA using Root Mean Squared Error & Mean Squared Error"
      ],
      "metadata": {
        "id": "VvYIAduwLnmE"
      }
    },
    {
      "cell_type": "code",
      "source": [
        "# Initialize an empty list to store the data\n",
        "data = []\n",
        "\n",
        "# Iterate through the training features\n",
        "# for feature in training.getInfo().get('features'):\n",
        "#   properties = feature.get('properties')\n",
        "#   data.append(properties)\n",
        "\n",
        "# Create a Pandas DataFrame from the data\n",
        "# df = pd.DataFrame(data)\n",
        "\n",
        "\n",
        "file_path = '/data/Soil_variables.csv'\n",
        "df = pd.read_csv(file_path)"
      ],
      "metadata": {
        "id": "MfwWrAGdAcpI"
      },
      "execution_count": null,
      "outputs": []
    },
    {
      "cell_type": "markdown",
      "source": [
        "## 3.1 PCA\n"
      ],
      "metadata": {
        "id": "wb1n_fq6yw2X"
      }
    },
    {
      "source": [
        "from sklearn.decomposition import PCA\n",
        "from sklearn.cross_decomposition import PLSRegression\n",
        "from xgboost import XGBRegressor\n",
        "from sklearn.metrics import mean_squared_error, root_mean_squared_error\n",
        "from sklearn.preprocessing import StandardScaler  # Import StandardScaler\n",
        "import matplotlib.pyplot as plt\n",
        "\n",
        "X = df\n",
        "y = df.iloc[:, 8]\n",
        "\n",
        "# Standardize the features using StandardScaler\n",
        "scaler = StandardScaler()\n",
        "X_scaled = scaler.fit_transform(X)  # Fit and transform the data\n",
        "\n",
        "# Define the maximum number of components to consider\n",
        "max_components = 9\n",
        "\n",
        "# Train PCA and PLS models for different number of components\n",
        "pca_mse = []\n",
        "pca_rmse = []\n",
        "pls_mse = []\n",
        "pls_rmse = []\n",
        "\n",
        "for i in range(1, max_components + 1):\n",
        "    # Train a PCA model on scaled data\n",
        "    pca = PCA(n_components=i)\n",
        "    pca.fit(X_scaled)  # Fit PCA on scaled data\n",
        "    X_pca = pca.transform(X_scaled)  # Transform scaled data\n",
        "    xgb = XGBRegressor()\n",
        "    xgb.fit(X_pca, y)\n",
        "    y_pred = xgb.predict(X_pca)\n",
        "    rmse = root_mean_squared_error(y, y_pred)  # Calculate RMSE\n",
        "    pca_rmse.append(rmse)\n",
        "\n",
        "    # # Train a PLS model on scaled data\n",
        "    # pls = PLSRegression(n_components=i)\n",
        "    # pls.fit(X_scaled, y)  # Fit PLS on scaled data\n",
        "    # X_pls = pls.transform(X_scaled)  # Transform scaled data\n",
        "    # xgb = XGBRegressor()\n",
        "    # xgb.fit(X_pls, y)\n",
        "    # y_pred = xgb.predict(X_pls)\n",
        "    # rmse = root_mean_squared_error(y, y_pred)  # Calculate RMSE\n",
        "    # pls_rmse.append(rmse)\n",
        "\n",
        "\n",
        "# Plot the results (RMSE)\n",
        "plt.figure(figsize=(12, 8))\n",
        "plt.plot(range(1, max_components + 1), pca_rmse, label='PCA RMSE', marker='o')\n",
        "# plt.plot(range(1, max_components + 1), pls_rmse, label='PLS RMSE', marker='s')\n",
        "plt.xlabel('Number of components')\n",
        "plt.ylabel('RMSE')\n",
        "# plt.title('')\n",
        "plt.legend()\n",
        "# plt.grid(True)\n",
        "plt.show()"
      ],
      "cell_type": "code",
      "metadata": {
        "colab": {
          "base_uri": "https://localhost:8080/",
          "height": 459
        },
        "id": "qDm_GiG2_gBo",
        "outputId": "02db8865-51f2-4b30-bea7-6bd65d71d6ce"
      },
      "execution_count": 17,
      "outputs": [
        {
          "output_type": "display_data",
          "data": {
            "text/plain": [
              "<IPython.core.display.HTML object>"
            ],
            "text/html": [
              "\n",
              "            <style>\n",
              "                .geemap-dark {\n",
              "                    --jp-widgets-color: white;\n",
              "                    --jp-widgets-label-color: white;\n",
              "                    --jp-ui-font-color1: white;\n",
              "                    --jp-layout-color2: #454545;\n",
              "                    background-color: #383838;\n",
              "                }\n",
              "\n",
              "                .geemap-dark .jupyter-button {\n",
              "                    --jp-layout-color3: #383838;\n",
              "                }\n",
              "\n",
              "                .geemap-colab {\n",
              "                    background-color: var(--colab-primary-surface-color, white);\n",
              "                }\n",
              "\n",
              "                .geemap-colab .jupyter-button {\n",
              "                    --jp-layout-color3: var(--colab-primary-surface-color, white);\n",
              "                }\n",
              "            </style>\n",
              "            "
            ]
          },
          "metadata": {}
        },
        {
          "output_type": "display_data",
          "data": {
            "text/plain": [
              "<Figure size 1200x800 with 1 Axes>"
            ],
            "image/png": "[encoded data removed]"
          },
          "metadata": {}
        }
      ]
    },
    {
      "cell_type": "markdown",
      "source": [
        "Outcomes show"
      ],
      "metadata": {
        "id": "hoCSGh4dL1I4"
      }
    },
    {
      "cell_type": "markdown",
      "source": [
        "# 4 Clusters Evaluation\n",
        "To ascertain the most suitable clustering scheme for insurance zone delineation, we utilized two metrics:\n",
        "- Average Silhouette Index - precision of the insurance zones\n",
        "- Variation Reduction Index (VRI) - quantify the effectiveness of the zone delineation"
      ],
      "metadata": {
        "id": "WbfWW9XyxrRq"
      }
    },
    {
      "cell_type": "markdown",
      "source": [
        "##4.1 Average Silhouette Score (ASC)"
      ],
      "metadata": {
        "id": "lU7sSm0YxQUh"
      }
    },
    {
      "source": [
        "import matplotlib.cm as cm\n",
        "import matplotlib.pyplot as plt\n",
        "import numpy as np\n",
        "from sklearn.cluster import KMeans\n",
        "\n",
        "X = df\n",
        "\n",
        "# Range of clusters to try\n",
        "range_n_clusters = range(2,15)\n",
        "\n",
        "# List to store average silhouette scores\n",
        "silhouette_avg_scores = []\n",
        "\n",
        "for n_clusters in range_n_clusters:\n",
        "    # Initialize and fit KMeans\n",
        "    clusterer = KMeans(n_clusters=n_clusters, random_state=10)\n",
        "    cluster_labels = clusterer.fit_predict(X)\n",
        "\n",
        "    # Calculate average silhouette score\n",
        "    silhouette_avg = silhouette_score(X, cluster_labels)\n",
        "    silhouette_avg_scores.append(silhouette_avg)  # Store the score\n",
        "    print(\n",
        "        # \"For n_clusters =\",\n",
        "        # n_clusters,\n",
        "        # \"For cluster labels =\",\n",
        "        # cluster_labels,\n",
        "        # \"The average silhouette_score is :\",\n",
        "        silhouette_avg,\n",
        "    )\n",
        "\n",
        "# Create the plot of average Silhouette score vs. number of clusters\n",
        "plt.figure(figsize=(8, 6))  # Adjust figure size if needed\n",
        "plt.plot(range_n_clusters, silhouette_avg_scores)\n",
        "\n",
        "# Get the current Axes object and set the x-axis scale\n",
        "ax = plt.gca()  # Get current axes\n",
        "ax.set_xscale('log') # Set x-axis scale to logarithmic\n",
        "\n",
        "plt.xlabel(\"Number of Clusters (log scale)\")\n",
        "plt.ylabel(\"Average Silhouette Score\")\n",
        "plt.title(\"Silhouette Score vs. Number of Clusters\")\n",
        "plt.grid(True)\n",
        "plt.show()"
      ],
      "cell_type": "code",
      "metadata": {
        "colab": {
          "base_uri": "https://localhost:8080/",
          "height": 764
        },
        "id": "4zQdIPkwKtJe",
        "outputId": "5bc2cb3e-7d63-4bff-c796-1029113873a2",
        "collapsed": true
      },
      "execution_count": 40,
      "outputs": [
        {
          "output_type": "display_data",
          "data": {
            "text/plain": [
              "<IPython.core.display.HTML object>"
            ],
            "text/html": [
              "\n",
              "            <style>\n",
              "                .geemap-dark {\n",
              "                    --jp-widgets-color: white;\n",
              "                    --jp-widgets-label-color: white;\n",
              "                    --jp-ui-font-color1: white;\n",
              "                    --jp-layout-color2: #454545;\n",
              "                    background-color: #383838;\n",
              "                }\n",
              "\n",
              "                .geemap-dark .jupyter-button {\n",
              "                    --jp-layout-color3: #383838;\n",
              "                }\n",
              "\n",
              "                .geemap-colab {\n",
              "                    background-color: var(--colab-primary-surface-color, white);\n",
              "                }\n",
              "\n",
              "                .geemap-colab .jupyter-button {\n",
              "                    --jp-layout-color3: var(--colab-primary-surface-color, white);\n",
              "                }\n",
              "            </style>\n",
              "            "
            ]
          },
          "metadata": {}
        },
        {
          "output_type": "stream",
          "name": "stdout",
          "text": [
            "0.559607406266223\n",
            "0.5732111327115477\n",
            "0.5803797682243951\n",
            "0.5933456321424502\n",
            "0.5850782769441851\n",
            "0.5722394483976215\n",
            "0.5691035390274884\n",
            "0.5470669647143205\n",
            "0.5403430392583275\n",
            "0.5434312446865369\n",
            "0.5309692602142515\n",
            "0.5125778745058762\n",
            "0.5100676060659525\n"
          ]
        },
        {
          "output_type": "display_data",
          "data": {
            "text/plain": [
              "<Figure size 800x600 with 1 Axes>"
            ],
            "image/png": "[encoded data removed]"
          },
          "metadata": {}
        }
      ]
    },
    {
      "cell_type": "markdown",
      "source": [
        "## 4.2 Variance Reduction Index (VRI)"
      ],
      "metadata": {
        "id": "HMl3Xy5Lx7a9"
      }
    },
    {
      "cell_type": "code",
      "source": [
        "import pandas as pd\n",
        "from sklearn.cluster import KMeans\n",
        "from sklearn.metrics import silhouette_score\n",
        "from sklearn.preprocessing import StandardScaler\n",
        "import matplotlib.pyplot as plt\n",
        "from scipy.stats import f_oneway\n",
        "import numpy as np\n",
        "\n",
        "# 1. Data Loading & Preparation\n",
        "# Assuming your data is in a CSV file\n",
        "data = df\n",
        "\n",
        "# Select the relevant features for clustering\n",
        "features =['Aluminium','PH','Nitrogen','Variance','Organic Carbon','Texture','Elevation','Soil Moisture']\n",
        "X = data[features]\n",
        "\n",
        "# Standardize the features\n",
        "scaler = StandardScaler()\n",
        "X_scaled = scaler.fit_transform(X)\n",
        "\n",
        "# 2. K-Means Clustering and Metric Calculation\n",
        "k_range = range(2, 100)  # Range of K values to test\n",
        "inertia_scores = []\n",
        "variance_reduction_scores = []\n",
        "\n",
        "# Calculate total sum of squares (TSS)\n",
        "tss = ((X_scaled - X_scaled.mean(axis=0))**2).sum()\n",
        "\n",
        "for k in k_range:\n",
        "    kmeans = KMeans(n_clusters=k, random_state=42)\n",
        "    kmeans.fit(X_scaled)\n",
        "\n",
        "    # Calculate variance reduction\n",
        "    variance_reduction = 1 - (kmeans.inertia_ / tss)\n",
        "    variance_reduction_scores.append(variance_reduction)\n",
        "\n",
        "# 3. Plot Metrics\n",
        "plt.figure(figsize=(15, 5))\n",
        "\n",
        "\n",
        "plt.subplot(1, 1, 1)\n",
        "plt.plot(k_range, variance_reduction_scores)\n",
        "plt.xlabel('Number of clusters (k)')\n",
        "plt.ylabel('Variance Reduction Index')\n",
        "# plt.title('Variance Reduction')\n",
        "\n",
        "plt.tight_layout()\n",
        "plt.show()\n",
        "f_l = []\n",
        "p_l = []\n",
        "\n",
        "# 4. Create DataFrame for Metrics\n",
        "metrics_df = pd.DataFrame({'K': k_range,\n",
        "                          'Variance Reduction': variance_reduction_scores})\n",
        "\n",
        "# 5. Display Metrics Table\n",
        "metrics_df\n",
        "\n",
        "\n"
      ],
      "metadata": {
        "id": "qHVdXtKNOUj_",
        "colab": {
          "base_uri": "https://localhost:8080/",
          "height": 902
        },
        "outputId": "c8fcd4aa-8f38-456a-ef3c-23fa5a4d9adf"
      },
      "execution_count": 37,
      "outputs": [
        {
          "output_type": "display_data",
          "data": {
            "text/plain": [
              "<IPython.core.display.HTML object>"
            ],
            "text/html": [
              "\n",
              "            <style>\n",
              "                .geemap-dark {\n",
              "                    --jp-widgets-color: white;\n",
              "                    --jp-widgets-label-color: white;\n",
              "                    --jp-ui-font-color1: white;\n",
              "                    --jp-layout-color2: #454545;\n",
              "                    background-color: #383838;\n",
              "                }\n",
              "\n",
              "                .geemap-dark .jupyter-button {\n",
              "                    --jp-layout-color3: #383838;\n",
              "                }\n",
              "\n",
              "                .geemap-colab {\n",
              "                    background-color: var(--colab-primary-surface-color, white);\n",
              "                }\n",
              "\n",
              "                .geemap-colab .jupyter-button {\n",
              "                    --jp-layout-color3: var(--colab-primary-surface-color, white);\n",
              "                }\n",
              "            </style>\n",
              "            "
            ]
          },
          "metadata": {}
        },
        {
          "output_type": "display_data",
          "data": {
            "text/plain": [
              "<Figure size 1500x500 with 1 Axes>"
            ],
            "image/png": "[encoded data removed]"
          },
          "metadata": {}
        },
        {
          "output_type": "execute_result",
          "data": {
            "text/plain": [
              "     K  Variance Reduction\n",
              "0    2            0.499223\n",
              "1    3            0.595464\n",
              "2    4            0.644308\n",
              "3    5            0.698707\n",
              "4    6            0.719134\n",
              "..  ..                 ...\n",
              "93  95            0.930427\n",
              "94  96            0.931076\n",
              "95  97            0.931479\n",
              "96  98            0.931900\n",
              "97  99            0.932072\n",
              "\n",
              "[98 rows x 2 columns]"
            ],
            "text/html": [
              "\n",
              "  <div id=\"df-904db4ac-a93b-41f0-b925-c274f7055f3a\" class=\"colab-df-container\">\n",
              "    <div>\n",
              "<style scoped>\n",
              "    .dataframe tbody tr th:only-of-type {\n",
              "        vertical-align: middle;\n",
              "    }\n",
              "\n",
              "    .dataframe tbody tr th {\n",
              "        vertical-align: top;\n",
              "    }\n",
              "\n",
              "    .dataframe thead th {\n",
              "        text-align: right;\n",
              "    }\n",
              "</style>\n",
              "<table border=\"1\" class=\"dataframe\">\n",
              "  <thead>\n",
              "    <tr style=\"text-align: right;\">\n",
              "      <th></th>\n",
              "      <th>K</th>\n",
              "      <th>Variance Reduction</th>\n",
              "    </tr>\n",
              "  </thead>\n",
              "  <tbody>\n",
              "    <tr>\n",
              "      <th>0</th>\n",
              "      <td>2</td>\n",
              "      <td>0.499223</td>\n",
              "    </tr>\n",
              "    <tr>\n",
              "      <th>1</th>\n",
              "      <td>3</td>\n",
              "      <td>0.595464</td>\n",
              "    </tr>\n",
              "    <tr>\n",
              "      <th>2</th>\n",
              "      <td>4</td>\n",
              "      <td>0.644308</td>\n",
              "    </tr>\n",
              "    <tr>\n",
              "      <th>3</th>\n",
              "      <td>5</td>\n",
              "      <td>0.698707</td>\n",
              "    </tr>\n",
              "    <tr>\n",
              "      <th>4</th>\n",
              "      <td>6</td>\n",
              "      <td>0.719134</td>\n",
              "    </tr>\n",
              "    <tr>\n",
              "      <th>...</th>\n",
              "      <td>...</td>\n",
              "      <td>...</td>\n",
              "    </tr>\n",
              "    <tr>\n",
              "      <th>93</th>\n",
              "      <td>95</td>\n",
              "      <td>0.930427</td>\n",
              "    </tr>\n",
              "    <tr>\n",
              "      <th>94</th>\n",
              "      <td>96</td>\n",
              "      <td>0.931076</td>\n",
              "    </tr>\n",
              "    <tr>\n",
              "      <th>95</th>\n",
              "      <td>97</td>\n",
              "      <td>0.931479</td>\n",
              "    </tr>\n",
              "    <tr>\n",
              "      <th>96</th>\n",
              "      <td>98</td>\n",
              "      <td>0.931900</td>\n",
              "    </tr>\n",
              "    <tr>\n",
              "      <th>97</th>\n",
              "      <td>99</td>\n",
              "      <td>0.932072</td>\n",
              "    </tr>\n",
              "  </tbody>\n",
              "</table>\n",
              "<p>98 rows × 2 columns</p>\n",
              "</div>\n",
              "    <div class=\"colab-df-buttons\">\n",
              "\n",
              "  <div class=\"colab-df-container\">\n",
              "    <button class=\"colab-df-convert\" onclick=\"convertToInteractive('df-904db4ac-a93b-41f0-b925-c274f7055f3a')\"\n",
              "            title=\"Convert this dataframe to an interactive table.\"\n",
              "            style=\"display:none;\">\n",
              "\n",
              "  <svg xmlns=\"http://www.w3.org/2000/svg\" height=\"24px\" viewBox=\"0 -960 960 960\">\n",
              "    <path d=\"M120-120v-720h720v720H120Zm60-500h600v-160H180v160Zm220 220h160v-160H400v160Zm0 220h160v-160H400v160ZM180-400h160v-160H180v160Zm440 0h160v-160H620v160ZM180-180h160v-160H180v160Zm440 0h160v-160H620v160Z\"/>\n",
              "  </svg>\n",
              "    </button>\n",
              "\n",
              "  <style>\n",
              "    .colab-df-container {\n",
              "      display:flex;\n",
              "      gap: 12px;\n",
              "    }\n",
              "\n",
              "    .colab-df-convert {\n",
              "      background-color: #E8F0FE;\n",
              "      border: none;\n",
              "      border-radius: 50%;\n",
              "      cursor: pointer;\n",
              "      display: none;\n",
              "      fill: #1967D2;\n",
              "      height: 32px;\n",
              "      padding: 0 0 0 0;\n",
              "      width: 32px;\n",
              "    }\n",
              "\n",
              "    .colab-df-convert:hover {\n",
              "      background-color: #E2EBFA;\n",
              "      box-shadow: 0px 1px 2px rgba(60, 64, 67, 0.3), 0px 1px 3px 1px rgba(60, 64, 67, 0.15);\n",
              "      fill: #174EA6;\n",
              "    }\n",
              "\n",
              "    .colab-df-buttons div {\n",
              "      margin-bottom: 4px;\n",
              "    }\n",
              "\n",
              "    [theme=dark] .colab-df-convert {\n",
              "      background-color: #3B4455;\n",
              "      fill: #D2E3FC;\n",
              "    }\n",
              "\n",
              "    [theme=dark] .colab-df-convert:hover {\n",
              "      background-color: #434B5C;\n",
              "      box-shadow: 0px 1px 3px 1px rgba(0, 0, 0, 0.15);\n",
              "      filter: drop-shadow(0px 1px 2px rgba(0, 0, 0, 0.3));\n",
              "      fill: #FFFFFF;\n",
              "    }\n",
              "  </style>\n",
              "\n",
              "    <script>\n",
              "      const buttonEl =\n",
              "        document.querySelector('#df-904db4ac-a93b-41f0-b925-c274f7055f3a button.colab-df-convert');\n",
              "      buttonEl.style.display =\n",
              "        google.colab.kernel.accessAllowed ? 'block' : 'none';\n",
              "\n",
              "      async function convertToInteractive(key) {\n",
              "        const element = document.querySelector('#df-904db4ac-a93b-41f0-b925-c274f7055f3a');\n",
              "        const dataTable =\n",
              "          await google.colab.kernel.invokeFunction('convertToInteractive',\n",
              "                                                    [key], {});\n",
              "        if (!dataTable) return;\n",
              "\n",
              "        const docLinkHtml = 'Like what you see? Visit the ' +\n",
              "          '<a target=\"_blank\" href=https://colab.research.google.com/notebooks/data_table.ipynb>data table notebook</a>'\n",
              "          + ' to learn more about interactive tables.';\n",
              "        element.innerHTML = '';\n",
              "        dataTable['output_type'] = 'display_data';\n",
              "        await google.colab.output.renderOutput(dataTable, element);\n",
              "        const docLink = document.createElement('div');\n",
              "        docLink.innerHTML = docLinkHtml;\n",
              "        element.appendChild(docLink);\n",
              "      }\n",
              "    </script>\n",
              "  </div>\n",
              "\n",
              "\n",
              "<div id=\"df-b28c98f0-213a-49fa-9105-a7514839dc97\">\n",
              "  <button class=\"colab-df-quickchart\" onclick=\"quickchart('df-b28c98f0-213a-49fa-9105-a7514839dc97')\"\n",
              "            title=\"Suggest charts\"\n",
              "            style=\"display:none;\">\n",
              "\n",
              "<svg xmlns=\"http://www.w3.org/2000/svg\" height=\"24px\"viewBox=\"0 0 24 24\"\n",
              "     width=\"24px\">\n",
              "    <g>\n",
              "        <path d=\"M19 3H5c-1.1 0-2 .9-2 2v14c0 1.1.9 2 2 2h14c1.1 0 2-.9 2-2V5c0-1.1-.9-2-2-2zM9 17H7v-7h2v7zm4 0h-2V7h2v10zm4 0h-2v-4h2v4z\"/>\n",
              "    </g>\n",
              "</svg>\n",
              "  </button>\n",
              "\n",
              "<style>\n",
              "  .colab-df-quickchart {\n",
              "      --bg-color: #E8F0FE;\n",
              "      --fill-color: #1967D2;\n",
              "      --hover-bg-color: #E2EBFA;\n",
              "      --hover-fill-color: #174EA6;\n",
              "      --disabled-fill-color: #AAA;\n",
              "      --disabled-bg-color: #DDD;\n",
              "  }\n",
              "\n",
              "  [theme=dark] .colab-df-quickchart {\n",
              "      --bg-color: #3B4455;\n",
              "      --fill-color: #D2E3FC;\n",
              "      --hover-bg-color: #434B5C;\n",
              "      --hover-fill-color: #FFFFFF;\n",
              "      --disabled-bg-color: #3B4455;\n",
              "      --disabled-fill-color: #666;\n",
              "  }\n",
              "\n",
              "  .colab-df-quickchart {\n",
              "    background-color: var(--bg-color);\n",
              "    border: none;\n",
              "    border-radius: 50%;\n",
              "    cursor: pointer;\n",
              "    display: none;\n",
              "    fill: var(--fill-color);\n",
              "    height: 32px;\n",
              "    padding: 0;\n",
              "    width: 32px;\n",
              "  }\n",
              "\n",
              "  .colab-df-quickchart:hover {\n",
              "    background-color: var(--hover-bg-color);\n",
              "    box-shadow: 0 1px 2px rgba(60, 64, 67, 0.3), 0 1px 3px 1px rgba(60, 64, 67, 0.15);\n",
              "    fill: var(--button-hover-fill-color);\n",
              "  }\n",
              "\n",
              "  .colab-df-quickchart-complete:disabled,\n",
              "  .colab-df-quickchart-complete:disabled:hover {\n",
              "    background-color: var(--disabled-bg-color);\n",
              "    fill: var(--disabled-fill-color);\n",
              "    box-shadow: none;\n",
              "  }\n",
              "\n",
              "  .colab-df-spinner {\n",
              "    border: 2px solid var(--fill-color);\n",
              "    border-color: transparent;\n",
              "    border-bottom-color: var(--fill-color);\n",
              "    animation:\n",
              "      spin 1s steps(1) infinite;\n",
              "  }\n",
              "\n",
              "  @keyframes spin {\n",
              "    0% {\n",
              "      border-color: transparent;\n",
              "      border-bottom-color: var(--fill-color);\n",
              "      border-left-color: var(--fill-color);\n",
              "    }\n",
              "    20% {\n",
              "      border-color: transparent;\n",
              "      border-left-color: var(--fill-color);\n",
              "      border-top-color: var(--fill-color);\n",
              "    }\n",
              "    30% {\n",
              "      border-color: transparent;\n",
              "      border-left-color: var(--fill-color);\n",
              "      border-top-color: var(--fill-color);\n",
              "      border-right-color: var(--fill-color);\n",
              "    }\n",
              "    40% {\n",
              "      border-color: transparent;\n",
              "      border-right-color: var(--fill-color);\n",
              "      border-top-color: var(--fill-color);\n",
              "    }\n",
              "    60% {\n",
              "      border-color: transparent;\n",
              "      border-right-color: var(--fill-color);\n",
              "    }\n",
              "    80% {\n",
              "      border-color: transparent;\n",
              "      border-right-color: var(--fill-color);\n",
              "      border-bottom-color: var(--fill-color);\n",
              "    }\n",
              "    90% {\n",
              "      border-color: transparent;\n",
              "      border-bottom-color: var(--fill-color);\n",
              "    }\n",
              "  }\n",
              "</style>\n",
              "\n",
              "  <script>\n",
              "    async function quickchart(key) {\n",
              "      const quickchartButtonEl =\n",
              "        document.querySelector('#' + key + ' button');\n",
              "      quickchartButtonEl.disabled = true;  // To prevent multiple clicks.\n",
              "      quickchartButtonEl.classList.add('colab-df-spinner');\n",
              "      try {\n",
              "        const charts = await google.colab.kernel.invokeFunction(\n",
              "            'suggestCharts', [key], {});\n",
              "      } catch (error) {\n",
              "        console.error('Error during call to suggestCharts:', error);\n",
              "      }\n",
              "      quickchartButtonEl.classList.remove('colab-df-spinner');\n",
              "      quickchartButtonEl.classList.add('colab-df-quickchart-complete');\n",
              "    }\n",
              "    (() => {\n",
              "      let quickchartButtonEl =\n",
              "        document.querySelector('#df-b28c98f0-213a-49fa-9105-a7514839dc97 button');\n",
              "      quickchartButtonEl.style.display =\n",
              "        google.colab.kernel.accessAllowed ? 'block' : 'none';\n",
              "    })();\n",
              "  </script>\n",
              "</div>\n",
              "\n",
              "  <div id=\"id_f7b35fad-2918-4c8f-bb36-ef32615e3865\">\n",
              "    <style>\n",
              "      .colab-df-generate {\n",
              "        background-color: #E8F0FE;\n",
              "        border: none;\n",
              "        border-radius: 50%;\n",
              "        cursor: pointer;\n",
              "        display: none;\n",
              "        fill: #1967D2;\n",
              "        height: 32px;\n",
              "        padding: 0 0 0 0;\n",
              "        width: 32px;\n",
              "      }\n",
              "\n",
              "      .colab-df-generate:hover {\n",
              "        background-color: #E2EBFA;\n",
              "        box-shadow: 0px 1px 2px rgba(60, 64, 67, 0.3), 0px 1px 3px 1px rgba(60, 64, 67, 0.15);\n",
              "        fill: #174EA6;\n",
              "      }\n",
              "\n",
              "      [theme=dark] .colab-df-generate {\n",
              "        background-color: #3B4455;\n",
              "        fill: #D2E3FC;\n",
              "      }\n",
              "\n",
              "      [theme=dark] .colab-df-generate:hover {\n",
              "        background-color: #434B5C;\n",
              "        box-shadow: 0px 1px 3px 1px rgba(0, 0, 0, 0.15);\n",
              "        filter: drop-shadow(0px 1px 2px rgba(0, 0, 0, 0.3));\n",
              "        fill: #FFFFFF;\n",
              "      }\n",
              "    </style>\n",
              "    <button class=\"colab-df-generate\" onclick=\"generateWithVariable('metrics_df')\"\n",
              "            title=\"Generate code using this dataframe.\"\n",
              "            style=\"display:none;\">\n",
              "\n",
              "  <svg xmlns=\"http://www.w3.org/2000/svg\" height=\"24px\"viewBox=\"0 0 24 24\"\n",
              "       width=\"24px\">\n",
              "    <path d=\"M7,19H8.4L18.45,9,17,7.55,7,17.6ZM5,21V16.75L18.45,3.32a2,2,0,0,1,2.83,0l1.4,1.43a1.91,1.91,0,0,1,.58,1.4,1.91,1.91,0,0,1-.58,1.4L9.25,21ZM18.45,9,17,7.55Zm-12,3A5.31,5.31,0,0,0,4.9,8.1,5.31,5.31,0,0,0,1,6.5,5.31,5.31,0,0,0,4.9,4.9,5.31,5.31,0,0,0,6.5,1,5.31,5.31,0,0,0,8.1,4.9,5.31,5.31,0,0,0,12,6.5,5.46,5.46,0,0,0,6.5,12Z\"/>\n",
              "  </svg>\n",
              "    </button>\n",
              "    <script>\n",
              "      (() => {\n",
              "      const buttonEl =\n",
              "        document.querySelector('#id_f7b35fad-2918-4c8f-bb36-ef32615e3865 button.colab-df-generate');\n",
              "      buttonEl.style.display =\n",
              "        google.colab.kernel.accessAllowed ? 'block' : 'none';\n",
              "\n",
              "      buttonEl.onclick = () => {\n",
              "        google.colab.notebook.generateWithVariable('metrics_df');\n",
              "      }\n",
              "      })();\n",
              "    </script>\n",
              "  </div>\n",
              "\n",
              "    </div>\n",
              "  </div>\n"
            ],
            "application/vnd.google.colaboratory.intrinsic+json": {
              "type": "dataframe",
              "variable_name": "metrics_df",
              "summary": "{\n  \"name\": \"metrics_df\",\n  \"rows\": 98,\n  \"fields\": [\n    {\n      \"column\": \"K\",\n      \"properties\": {\n        \"dtype\": \"number\",\n        \"std\": 28,\n        \"min\": 2,\n        \"max\": 99,\n        \"num_unique_values\": 98,\n        \"samples\": [\n          64,\n          42,\n          96\n        ],\n        \"semantic_type\": \"\",\n        \"description\": \"\"\n      }\n    },\n    {\n      \"column\": \"Variance Reduction\",\n      \"properties\": {\n        \"dtype\": \"number\",\n        \"std\": 0.07368354970070726,\n        \"min\": 0.49922283893970554,\n        \"max\": 0.9320723976792745,\n        \"num_unique_values\": 98,\n        \"samples\": [\n          0.914668948182316,\n          0.8953051349993492,\n          0.9310762136796853\n        ],\n        \"semantic_type\": \"\",\n        \"description\": \"\"\n      }\n    }\n  ]\n}"
            }
          },
          "metadata": {},
          "execution_count": 37
        }
      ]
    },
    {
      "cell_type": "markdown",
      "source": [
        "## 4.3 Tukey’s test\n",
        "######  Tukey’s test for the soil variables when the study area was divided into five clusters."
      ],
      "metadata": {
        "id": "1lBUl4PUxyse"
      }
    },
    {
      "cell_type": "code",
      "source": [
        "# Select the relevant features for clustering\n",
        "features =['Aluminium','PH','Nitrogen','Variance','Organic Carbon','Texture','Elevation','Soil Moisture']\n",
        "# Tukey's HSD Test\n",
        "for feature in features:\n",
        "    groups = [data[feature][data['cluster'] == i] for i in range(5)]\n",
        "    try:\n",
        "        f_statistic, p_value = f_oneway(*groups)\n",
        "        print(f\"Tukey's HSD for {feature}:\")\n",
        "        print(f\"  F-statistic: {f_statistic:.4f}\")\n",
        "        print(f\"  p-value: {p_value:.4f}\")\n",
        "        if p_value < 0.05:\n",
        "            print(\"  Significant difference between cluster means.\")\n",
        "        else:\n",
        "            print(\"  No significant difference between cluster means.\")\n",
        "    except ValueError:\n",
        "        print(f\"Tukey's HSD cannot be performed for {feature}.\")\n"
      ],
      "metadata": {
        "id": "Tb2Fg0_-INMe",
        "colab": {
          "base_uri": "https://localhost:8080/",
          "height": 589
        },
        "outputId": "0d73a358-c62f-4639-e375-b2d3019c96e7"
      },
      "execution_count": 36,
      "outputs": [
        {
          "output_type": "display_data",
          "data": {
            "text/plain": [
              "<IPython.core.display.HTML object>"
            ],
            "text/html": [
              "\n",
              "            <style>\n",
              "                .geemap-dark {\n",
              "                    --jp-widgets-color: white;\n",
              "                    --jp-widgets-label-color: white;\n",
              "                    --jp-ui-font-color1: white;\n",
              "                    --jp-layout-color2: #454545;\n",
              "                    background-color: #383838;\n",
              "                }\n",
              "\n",
              "                .geemap-dark .jupyter-button {\n",
              "                    --jp-layout-color3: #383838;\n",
              "                }\n",
              "\n",
              "                .geemap-colab {\n",
              "                    background-color: var(--colab-primary-surface-color, white);\n",
              "                }\n",
              "\n",
              "                .geemap-colab .jupyter-button {\n",
              "                    --jp-layout-color3: var(--colab-primary-surface-color, white);\n",
              "                }\n",
              "            </style>\n",
              "            "
            ]
          },
          "metadata": {}
        },
        {
          "output_type": "stream",
          "name": "stdout",
          "text": [
            "Tukey's HSD for Aluminium:\n",
            "  F-statistic: 3763.7035\n",
            "  p-value: 0.0000\n",
            "  Significant difference between cluster means.\n",
            "Tukey's HSD for PH:\n",
            "  F-statistic: 1145.7258\n",
            "  p-value: 0.0000\n",
            "  Significant difference between cluster means.\n",
            "Tukey's HSD for Nitrogen:\n",
            "  F-statistic: 3919.9707\n",
            "  p-value: 0.0000\n",
            "  Significant difference between cluster means.\n",
            "Tukey's HSD for Variance:\n",
            "  F-statistic: 6492.3654\n",
            "  p-value: 0.0000\n",
            "  Significant difference between cluster means.\n",
            "Tukey's HSD for Organic Carbon:\n",
            "  F-statistic: 2700.6562\n",
            "  p-value: 0.0000\n",
            "  Significant difference between cluster means.\n",
            "Tukey's HSD for Texture:\n",
            "  F-statistic: 2003.6159\n",
            "  p-value: 0.0000\n",
            "  Significant difference between cluster means.\n",
            "Tukey's HSD for Elevation:\n",
            "  F-statistic: 3009.7583\n",
            "  p-value: 0.0000\n",
            "  Significant difference between cluster means.\n",
            "Tukey's HSD for Soil Moisture:\n",
            "  F-statistic: 3479.4133\n",
            "  p-value: 0.0000\n",
            "  Significant difference between cluster means.\n"
          ]
        }
      ]
    }
  ]
}