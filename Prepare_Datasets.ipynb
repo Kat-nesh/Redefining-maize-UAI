{
  "cells": [
    {
      "cell_type": "markdown",
      "metadata": {
        "id": "view-in-github",
        "colab_type": "text"
      },
      "source": [
        "<a href=\"https://colab.research.google.com/github/Kat-nesh/Redefining-maize-UAI/blob/main/Prepare_Datasets.ipynb\" target=\"_parent\"><img src=\"https://colab.research.google.com/assets/colab-badge.svg\" alt=\"Open In Colab\"/></a>"
      ]
    },
    {
      "cell_type": "markdown",
      "source": [
        "## Imports and Pre-requisites"
      ],
      "metadata": {
        "id": "VrG6Co2GaRnQ"
      }
    },
    {
      "cell_type": "code",
      "execution_count": null,
      "metadata": {
        "id": "UurBJtc2AEh4",
        "colab": {
          "base_uri": "https://localhost:8080/",
          "height": 17
        },
        "outputId": "385024ed-4994-43c2-fc09-8411485e0fe5"
      },
      "outputs": [
        {
          "output_type": "display_data",
          "data": {
            "text/plain": [
              "<IPython.core.display.HTML object>"
            ],
            "text/html": [
              "\n",
              "            <style>\n",
              "                .geemap-dark {\n",
              "                    --jp-widgets-color: white;\n",
              "                    --jp-widgets-label-color: white;\n",
              "                    --jp-ui-font-color1: white;\n",
              "                    --jp-layout-color2: #454545;\n",
              "                    background-color: #383838;\n",
              "                }\n",
              "\n",
              "                .geemap-dark .jupyter-button {\n",
              "                    --jp-layout-color3: #383838;\n",
              "                }\n",
              "\n",
              "                .geemap-colab {\n",
              "                    background-color: var(--colab-primary-surface-color, white);\n",
              "                }\n",
              "\n",
              "                .geemap-colab .jupyter-button {\n",
              "                    --jp-layout-color3: var(--colab-primary-surface-color, white);\n",
              "                }\n",
              "            </style>\n",
              "            "
            ]
          },
          "metadata": {}
        }
      ],
      "source": [
        "import pandas as pd\n",
        "import geopandas as gpd\n",
        "import numpy as np\n",
        "import seaborn as sns\n",
        "import matplotlib.pylab as plt\n",
        "from geemap import ml\n",
        "from sklearn import ensemble\n",
        "from geemap import ml\n",
        "from sklearn import ensemble\n",
        "from sklearn import tree\n",
        "from sklearn.metrics import accuracy_score\n",
        "from sklearn.ensemble import RandomForestRegressor\n",
        "from sklearn.inspection import permutation_importance\n",
        "from matplotlib import pyplot as plt\n",
        "from sklearn.model_selection import LeaveOneOut\n",
        "from sklearn.model_selection import LeaveOneGroupOut\n",
        "from sklearn.model_selection import cross_val_score\n",
        "plt.rcParams.update({'figure.figsize': (12.0,8.0)})\n",
        "plt.rcParams.update({'font.size' : 14})"
      ]
    },
    {
      "cell_type": "code",
      "execution_count": null,
      "metadata": {
        "id": "R_EtFur190_n",
        "colab": {
          "base_uri": "https://localhost:8080/",
          "height": 17
        },
        "outputId": "bec5a4be-d8ef-4905-9a56-716b5c456729"
      },
      "outputs": [
        {
          "output_type": "display_data",
          "data": {
            "text/plain": [
              "<IPython.core.display.HTML object>"
            ],
            "text/html": [
              "\n",
              "            <style>\n",
              "                .geemap-dark {\n",
              "                    --jp-widgets-color: white;\n",
              "                    --jp-widgets-label-color: white;\n",
              "                    --jp-ui-font-color1: white;\n",
              "                    --jp-layout-color2: #454545;\n",
              "                    background-color: #383838;\n",
              "                }\n",
              "\n",
              "                .geemap-dark .jupyter-button {\n",
              "                    --jp-layout-color3: #383838;\n",
              "                }\n",
              "\n",
              "                .geemap-colab {\n",
              "                    background-color: var(--colab-primary-surface-color, white);\n",
              "                }\n",
              "\n",
              "                .geemap-colab .jupyter-button {\n",
              "                    --jp-layout-color3: var(--colab-primary-surface-color, white);\n",
              "                }\n",
              "            </style>\n",
              "            "
            ]
          },
          "metadata": {}
        }
      ],
      "source": [
        "#test img\n",
        "from IPython.core.magics.execution import Restart\n",
        "try:\n",
        "  import geemap\n",
        "  import ee\n",
        "  import geopandas\n",
        "  import math\n",
        "except Exception as e:\n",
        "  !pip install geopandas\n",
        "  !pip install geemap\n",
        "  Restart()\n",
        "finally:\n",
        "  import geemap\n",
        "  import ee\n",
        "try:\n",
        "  ee.Initialize(project='ee-maizeyield')\n",
        "except Exception as e:\n",
        "  ee.Authenticate()\n",
        "  ee.Initialize(project='ee-maizeyield')\n"
      ]
    },
    {
      "cell_type": "code",
      "execution_count": null,
      "metadata": {
        "colab": {
          "base_uri": "https://localhost:8080/",
          "height": 35
        },
        "id": "pSEDJKp_t0Rc",
        "outputId": "65a7ee7d-6fa3-4b9c-93e5-03be89de2f41"
      },
      "outputs": [
        {
          "output_type": "display_data",
          "data": {
            "text/plain": [
              "<IPython.core.display.HTML object>"
            ],
            "text/html": [
              "\n",
              "            <style>\n",
              "                .geemap-dark {\n",
              "                    --jp-widgets-color: white;\n",
              "                    --jp-widgets-label-color: white;\n",
              "                    --jp-ui-font-color1: white;\n",
              "                    --jp-layout-color2: #454545;\n",
              "                    background-color: #383838;\n",
              "                }\n",
              "\n",
              "                .geemap-dark .jupyter-button {\n",
              "                    --jp-layout-color3: #383838;\n",
              "                }\n",
              "\n",
              "                .geemap-colab {\n",
              "                    background-color: var(--colab-primary-surface-color, white);\n",
              "                }\n",
              "\n",
              "                .geemap-colab .jupyter-button {\n",
              "                    --jp-layout-color3: var(--colab-primary-surface-color, white);\n",
              "                }\n",
              "            </style>\n",
              "            "
            ]
          },
          "metadata": {}
        },
        {
          "output_type": "execute_result",
          "data": {
            "text/plain": [
              "'projects/ee-maizeyield/assets/LR_18'"
            ],
            "application/vnd.google.colaboratory.intrinsic+json": {
              "type": "string"
            }
          },
          "metadata": {},
          "execution_count": 51
        }
      ],
      "source": [
        "user_id = geemap.ee_user_id()\n",
        "user_id"
      ]
    },
    {
      "cell_type": "markdown",
      "metadata": {
        "id": "KviXykxCtmaS"
      },
      "source": [
        "# Add Landsat Indices"
      ]
    },
    {
      "cell_type": "code",
      "execution_count": null,
      "metadata": {
        "colab": {
          "base_uri": "https://localhost:8080/",
          "height": 17
        },
        "id": "OnCawMKFNAF4",
        "outputId": "097fafd2-1522-4256-c7c5-a10c63e7a041"
      },
      "outputs": [
        {
          "output_type": "display_data",
          "data": {
            "text/plain": [
              "<IPython.core.display.HTML object>"
            ],
            "text/html": [
              "\n",
              "            <style>\n",
              "                .geemap-dark {\n",
              "                    --jp-widgets-color: white;\n",
              "                    --jp-widgets-label-color: white;\n",
              "                    --jp-ui-font-color1: white;\n",
              "                    --jp-layout-color2: #454545;\n",
              "                    background-color: #383838;\n",
              "                }\n",
              "\n",
              "                .geemap-dark .jupyter-button {\n",
              "                    --jp-layout-color3: #383838;\n",
              "                }\n",
              "\n",
              "                .geemap-colab {\n",
              "                    background-color: var(--colab-primary-surface-color, white);\n",
              "                }\n",
              "\n",
              "                .geemap-colab .jupyter-button {\n",
              "                    --jp-layout-color3: var(--colab-primary-surface-color, white);\n",
              "                }\n",
              "            </style>\n",
              "            "
            ]
          },
          "metadata": {}
        }
      ],
      "source": [
        "# ADD INDICES\n",
        "def addIndices(image,AOI):\n",
        "\n",
        "  rangeBands = {\n",
        "                      'blue': image.select('blue'),\n",
        "                      'green':image.select('green'),\n",
        "                      'red': image.select('red'),\n",
        "                      'nir': image.select('nir'),\n",
        "                      'swir1': image.select('swir1'),\n",
        "                      'swir2': image.select('swir2')\n",
        "                    }\n",
        "   #NDVI\n",
        "  ndvi = image.expression('(nir - red) / (nir + red)',rangeBands)\n",
        "\n",
        "  # SAVI\n",
        "  savi = image.expression('1.5 * ((nir - red) / (nir + red + 0.5))',rangeBands)\n",
        "\n",
        "  #EVI\n",
        "  evi = image.expression('2.5 * ((nir - red) / (nir + 6 * red - 7.5 * blue + 1))',rangeBands)\n",
        "\n",
        "  #Green Normalized difference Vegetation Index (GNDVI)\n",
        "\n",
        "  gndvi = image.expression('(nir - green) / (nir + green)',rangeBands)\n",
        "\n",
        "  #Normalize Differennce Mositure Index (NDMI)\n",
        "  ndmi = image.expression('(nir - swir1) / (nir + swir1)',rangeBands)\n",
        "\n",
        "  # normalized special index (NSI)\n",
        "  nsi = image.expression('100 * ((swir1 - nir) / (nir - red))',rangeBands)\n",
        "\n",
        "  #Modified Soil Adjusted Vegetation Index MSAVI\n",
        "  msavi =image.expression('(2 * nir + 1 - sqrt(pow((2 * nir + 1), 2) - 8 * (nir - red)) ) / 2',rangeBands)\n",
        "\n",
        "  #Green Chlorophyll Index (GCI)\n",
        "  gci =image.expression('(nir/green) - 1',rangeBands)\n",
        "\n",
        "  #Green Leaf Index (GLI)\n",
        "  gli =image.expression('((green - red) + (green - blue)) / ((2 * green) + red + blue)',rangeBands)\n",
        "\n",
        "  # Structure Insensitive Pigment Index (sipi)\n",
        "  sipi =image.expression('(nir - blue) / (nir - red)',rangeBands)\n",
        "\n",
        "  # Simple Ration RVI (Ratio Vegetation Index)\n",
        "  sr =image.expression('nir/red',rangeBands)\n",
        "\n",
        "  # OSAVI (Optimized Soil-Adjusted Vegetation Index):\n",
        "  # ((NIR - Red) / (NIR + Red + 0.16)) * (1 + 0.16)\n",
        "  osavi =image.expression('((nir - red) / (nir + red + 0.16)) * (1 + 0.16)',rangeBands)\n",
        "\n",
        "  # GCI2 (Green Chlorophyll Index 2):\n",
        "  # (NIR - 2.4 * Red + Blue) / (NIR + 2.4 * Red + Blue)\n",
        "  gci2 =image.expression('(nir - 2.4 * red + blue) / (nir + 2.4 * red + blue)',rangeBands)\n",
        "\n",
        "  # ARVI2 (Atmospherically Resistant Vegetation Index 2):\n",
        "  # (nir - (2 * red - blue)) / (nir + (2 * red - blue))\n",
        "  arvi2 =image.expression('(nir - (2 * red - blue)) / (nir + (2 * red - blue))',rangeBands)\n",
        "\n",
        "  # MTVI2 (Modified Triangular Vegetation Index 2):\n",
        "  # 1.5 * (1.2 * (nir - green) - 2.5 * (red - green)) / sqrt((2 * nir + 1)^2 - (6 * nir - 5 * sqrt(red) - 0.5))\n",
        "  mtvi2 =image.expression('1.5 * (1.2 * (nir - green) - 2.5 * (red - green)) / sqrt((2 * nir + 1)**2 - (6 * nir - 5 * sqrt(red) - 0.5))',rangeBands)\n",
        "\n",
        "  # RDVI (Renormalized Difference Vegetation Index):\n",
        "  # (nir - red) / sqrt(nir + red)\n",
        "  rdvi =image.expression('(nir - red) / sqrt(nir + red)',rangeBands)\n",
        "\n",
        "  # GVI (Green Vegetation Index):\n",
        "  # (nir / (nir + green)) - (red / (red + blue))\n",
        "  gvi =image.expression('(nir / (nir + green)) - (red / (red + blue))',rangeBands)\n",
        "\n",
        "\n",
        "  # NDII (Normalized Difference Infrared Index):\n",
        "  # (nir - swir2) / (nir + swir2)\n",
        "  ndii =image.expression('(nir - swir2) / (nir + swir2)',rangeBands)\n",
        "\n",
        "  # where swir2 is the shortwave-infrared band centered at 2215 nm.\n",
        "\n",
        "\n",
        "  # NDWI (Normalized Difference Water Index): # (green - nir) / (green + nir)\n",
        "  ndwi =image.expression('(green - nir) / (green + nir)',rangeBands)\n",
        "\n",
        "  # GRVI (Green-Red Vegetation Index): # Green / Red\n",
        "  grvi =image.expression('green / red',rangeBands)\n",
        "\n",
        "  # LAI (Leaf Area Index): # 3.618 * ((nir - red) / (nir + red)) - 0.118\n",
        "  lai =image.expression('3.618 * ((nir - red) / (nir + red)) - 0.118',rangeBands)\n",
        "\n",
        "  # TCARI (Transformed Chlorophyll Absorption in Reflectance Index):\n",
        "  # 3 * ((nir - red) - 0.2 * (red - green) * (nir / red))\n",
        "  tcari =image.expression('3 * ((nir - red) - 0.2 * (red - green) * (nir / red))',rangeBands)\n",
        "\n",
        "  # MCARI (Modified Chlorophyll Absorption in Reflectance Index):\n",
        "  # (1.5 * (2.5 * (nir - green) - 1.3 * (nir - red))) / sqrt((2 * nir + 1)^2 - (6 * nir - 5 * sqrt(red) - 0.5))\n",
        "  mcari =image.expression(' (1.5 * (2.5 * (nir - green) - 1.3 * (nir - red))) / sqrt((2 * nir + 1)**2 - (6 * nir - 5 * sqrt(red) - 0.5))',rangeBands)\n",
        "\n",
        "  # WDVI (Weighted Difference Vegetation Index):\n",
        "  # nir - 0.5 * red\n",
        "  wdvi =image.expression('nir - 0.5 * red',rangeBands)\n",
        "\n",
        "  # PSSRa (Plant Senescence Reflectance Ratio Index):\n",
        "  # (red / nir) / (red / green)\n",
        "  pssra =image.expression('(red / nir) / (red / green)',rangeBands)\n",
        "\n",
        "  # DVI (Difference Vegetation Index):\n",
        "  # nir - red\n",
        "  dvi =image.expression('nir - red',rangeBands)\n",
        "\n",
        "\n",
        "  image = image.addBands(ndvi.clip(AOI).rename('ndvi'))\\\n",
        "                .addBands(savi.clip(AOI).rename('savi'))\\\n",
        "                .addBands(evi.clip(AOI).rename('evi'))\\\n",
        "                .addBands(gndvi.clip(AOI).rename('gndvi'))\\\n",
        "                .addBands(ndmi.clip(AOI).rename('ndmi'))\\\n",
        "                .addBands(nsi.clip(AOI).rename('nsi'))\\\n",
        "                .addBands(msavi.clip(AOI).rename('msavi'))\\\n",
        "                .addBands(gci.clip(AOI).rename('gci'))\\\n",
        "                .addBands(gli.clip(AOI).rename('gli'))\\\n",
        "                .addBands(sipi.clip(AOI).rename('sipi'))\\\n",
        "                .addBands(sr.clip(AOI).rename('sr'))\\\n",
        "                .addBands(osavi.clip(AOI).rename('osavi'))\\\n",
        "                .addBands(gci2.clip(AOI).rename('gci2'))\\\n",
        "                .addBands(arvi2.clip(AOI).rename('arvi2'))\\\n",
        "                .addBands(mtvi2.clip(AOI).rename('mtvi2'))\\\n",
        "                .addBands(rdvi.clip(AOI).rename('rdvi'))\\\n",
        "                .addBands(gvi.clip(AOI).rename('gvi'))\\\n",
        "                .addBands(ndii.clip(AOI).rename('ndii'))\\\n",
        "                .addBands(ndwi.clip(AOI).rename('ndwi'))\\\n",
        "                .addBands(grvi.clip(AOI).rename('grvi'))\\\n",
        "                .addBands(lai.clip(AOI).rename('lai'))\\\n",
        "                .addBands(tcari.clip(AOI).rename('tcari'))\\\n",
        "                .addBands(mcari.clip(AOI).rename('mcari'))\\\n",
        "                .addBands(wdvi.clip(AOI).rename('wdvi'))\\\n",
        "                .addBands(pssra.clip(AOI).rename('pssra'))\\\n",
        "                .addBands(dvi.clip(AOI).rename('dvi'))\n",
        "\n",
        "  return image.float()"
      ]
    },
    {
      "cell_type": "markdown",
      "metadata": {
        "id": "rlOfaDOatuF7"
      },
      "source": [
        "# Pre-process L8 Images (filter date & bounds  )"
      ]
    },
    {
      "cell_type": "code",
      "execution_count": null,
      "metadata": {
        "colab": {
          "base_uri": "https://localhost:8080/",
          "height": 17
        },
        "id": "fim3ujhyNONM",
        "outputId": "8674a787-5403-4049-cf7f-2770cf62a1ea"
      },
      "outputs": [
        {
          "output_type": "display_data",
          "data": {
            "text/plain": [
              "<IPython.core.display.HTML object>"
            ],
            "text/html": [
              "\n",
              "            <style>\n",
              "                .geemap-dark {\n",
              "                    --jp-widgets-color: white;\n",
              "                    --jp-widgets-label-color: white;\n",
              "                    --jp-ui-font-color1: white;\n",
              "                    --jp-layout-color2: #454545;\n",
              "                    background-color: #383838;\n",
              "                }\n",
              "\n",
              "                .geemap-dark .jupyter-button {\n",
              "                    --jp-layout-color3: #383838;\n",
              "                }\n",
              "\n",
              "                .geemap-colab {\n",
              "                    background-color: var(--colab-primary-surface-color, white);\n",
              "                }\n",
              "\n",
              "                .geemap-colab .jupyter-button {\n",
              "                    --jp-layout-color3: var(--colab-primary-surface-color, white);\n",
              "                }\n",
              "            </style>\n",
              "            "
            ]
          },
          "metadata": {}
        }
      ],
      "source": [
        "# Prepare L8\n",
        "def l8prep(start_date,end_date,image_col,AOI):\n",
        "  # Load the L8 Collection and Processs\n",
        "  temp_date = ee.Date(\"2013-02-01\")\n",
        "  if start_date.millis().lt(temp_date.millis()).getInfo():\n",
        "    l8 = image_col.filterDate(start_date,end_date).filterBounds(AOI).select('SR_B1', 'SR_B2', 'SR_B3', 'SR_B4', 'SR_B5','SR_B7')\n",
        "  else:\n",
        "    l8 = image_col.filterDate(start_date,end_date).filterBounds(AOI).select('SR_B2', 'SR_B3', 'SR_B4', 'SR_B5', 'SR_B6','SR_B7')\n",
        "\n",
        "  l8_mean = l8.mean().rename(['blue','green','red','nir','swir1','swir2'])\n",
        "  l8_median = l8.median().rename(['blue','green','red','nir','swir1','swir2'])\n",
        "  l8_min = l8.min().rename(['blue','green','red','nir','swir1','swir2'])\n",
        "  l8_max = l8.max().rename(['blue','green','red','nir','swir1','swir2'])\n",
        "  l8_sd = l8.reduce(ee.Reducer.stdDev()).rename(['blue','green','red','nir','swir1','swir2'])\n",
        "  l8_pc10 = l8.reduce(ee.Reducer.percentile([10])).rename(['blue','green','red','nir','swir1','swir2'])\n",
        "  l8_pc50 = l8.reduce(ee.Reducer.percentile([50])).rename(['blue','green','red','nir','swir1','swir2'])\n",
        "  l8_pc90 = l8.reduce(ee.Reducer.percentile([90])).rename(['blue','green','red','nir','swir1','swir2'])\n",
        "  return {\n",
        "        'mean': l8_mean,\n",
        "        'median': l8_median,\n",
        "        'min': l8_min,\n",
        "        'max': l8_max,\n",
        "        'stdDev': l8_sd,\n",
        "        'percentile10': l8_pc10,\n",
        "        'percentile50': l8_pc50,\n",
        "        'percentile90': l8_pc90\n",
        "    }"
      ]
    },
    {
      "cell_type": "code",
      "execution_count": null,
      "metadata": {
        "colab": {
          "base_uri": "https://localhost:8080/",
          "height": 17
        },
        "id": "5yzDugOTWOL0",
        "outputId": "1c9884c7-4fab-4569-de76-363a7e26968b"
      },
      "outputs": [
        {
          "output_type": "display_data",
          "data": {
            "text/plain": [
              "<IPython.core.display.HTML object>"
            ],
            "text/html": [
              "\n",
              "            <style>\n",
              "                .geemap-dark {\n",
              "                    --jp-widgets-color: white;\n",
              "                    --jp-widgets-label-color: white;\n",
              "                    --jp-ui-font-color1: white;\n",
              "                    --jp-layout-color2: #454545;\n",
              "                    background-color: #383838;\n",
              "                }\n",
              "\n",
              "                .geemap-dark .jupyter-button {\n",
              "                    --jp-layout-color3: #383838;\n",
              "                }\n",
              "\n",
              "                .geemap-colab {\n",
              "                    background-color: var(--colab-primary-surface-color, white);\n",
              "                }\n",
              "\n",
              "                .geemap-colab .jupyter-button {\n",
              "                    --jp-layout-color3: var(--colab-primary-surface-color, white);\n",
              "                }\n",
              "            </style>\n",
              "            "
            ]
          },
          "metadata": {}
        }
      ],
      "source": [
        "start = ee.Date(\"2010-04-01\")\n",
        "end = ee.Date(\"2023-08-31\")\n",
        "prod = ee.FeatureCollection(\"projects/ee-maizeyield/assets/county_maize_yield_2010-18\")\n",
        "AOI = prod.geometry()\n",
        "l8 = ee.ImageCollection(\"LANDSAT/LC08/C02/T1_L2\")#.filterDate(start,end).filterBounds(AOI).select('SR_B2', 'SR_B3', 'SR_B4', 'SR_B5', 'SR_B6','SR_B7')\n",
        "l7 = ee.ImageCollection(\"LANDSAT/LE07/C02/T1_L2\")#.filterDate(start,end).filterBounds(AOI).select('SR_B1', 'SR_B2', 'SR_B3', 'SR_B4', 'SR_B5','SR_B7')"
      ]
    },
    {
      "cell_type": "code",
      "execution_count": null,
      "metadata": {
        "id": "ogKzSXVxWgFb",
        "collapsed": true,
        "colab": {
          "base_uri": "https://localhost:8080/",
          "height": 17
        },
        "outputId": "cf074f74-a440-42c3-80d1-509de857a721"
      },
      "outputs": [
        {
          "output_type": "display_data",
          "data": {
            "text/plain": [
              "<IPython.core.display.HTML object>"
            ],
            "text/html": [
              "\n",
              "            <style>\n",
              "                .geemap-dark {\n",
              "                    --jp-widgets-color: white;\n",
              "                    --jp-widgets-label-color: white;\n",
              "                    --jp-ui-font-color1: white;\n",
              "                    --jp-layout-color2: #454545;\n",
              "                    background-color: #383838;\n",
              "                }\n",
              "\n",
              "                .geemap-dark .jupyter-button {\n",
              "                    --jp-layout-color3: #383838;\n",
              "                }\n",
              "\n",
              "                .geemap-colab {\n",
              "                    background-color: var(--colab-primary-surface-color, white);\n",
              "                }\n",
              "\n",
              "                .geemap-colab .jupyter-button {\n",
              "                    --jp-layout-color3: var(--colab-primary-surface-color, white);\n",
              "                }\n",
              "            </style>\n",
              "            "
            ]
          },
          "metadata": {}
        }
      ],
      "source": [
        "Map= geemap.Map()\n",
        "Map.centerObject(AOI,6)\n",
        "Map.addLayer(AOI)"
      ]
    },
    {
      "cell_type": "code",
      "execution_count": null,
      "metadata": {
        "colab": {
          "base_uri": "https://localhost:8080/",
          "height": 17
        },
        "id": "-BYU523Qjv7N",
        "outputId": "932cef89-47b8-4112-f5af-a4a758416d12"
      },
      "outputs": [
        {
          "output_type": "display_data",
          "data": {
            "text/plain": [
              "<IPython.core.display.HTML object>"
            ],
            "text/html": [
              "\n",
              "            <style>\n",
              "                .geemap-dark {\n",
              "                    --jp-widgets-color: white;\n",
              "                    --jp-widgets-label-color: white;\n",
              "                    --jp-ui-font-color1: white;\n",
              "                    --jp-layout-color2: #454545;\n",
              "                    background-color: #383838;\n",
              "                }\n",
              "\n",
              "                .geemap-dark .jupyter-button {\n",
              "                    --jp-layout-color3: #383838;\n",
              "                }\n",
              "\n",
              "                .geemap-colab {\n",
              "                    background-color: var(--colab-primary-surface-color, white);\n",
              "                }\n",
              "\n",
              "                .geemap-colab .jupyter-button {\n",
              "                    --jp-layout-color3: var(--colab-primary-surface-color, white);\n",
              "                }\n",
              "            </style>\n",
              "            "
            ]
          },
          "metadata": {}
        }
      ],
      "source": [
        "def processL8 (start, end, img, AOI,type):\n",
        "  l8_results =  l8prep(start, end, img, AOI)\n",
        "  mean = l8_results [type]\n",
        "  idx = addIndices(mean,AOI)\n",
        "  return idx"
      ]
    },
    {
      "cell_type": "markdown",
      "metadata": {
        "id": "0YhmrHH5t_n5"
      },
      "source": [
        "# Processed L8"
      ]
    },
    {
      "cell_type": "code",
      "source": [
        "scale = 463.3127165275"
      ],
      "metadata": {
        "colab": {
          "base_uri": "https://localhost:8080/",
          "height": 17
        },
        "id": "qVtHSK6NdRG4",
        "outputId": "0b0cf15b-7121-4e98-c7fe-63b2136b62f2",
        "collapsed": true
      },
      "execution_count": null,
      "outputs": [
        {
          "output_type": "display_data",
          "data": {
            "text/plain": [
              "<IPython.core.display.HTML object>"
            ],
            "text/html": [
              "\n",
              "            <style>\n",
              "                .geemap-dark {\n",
              "                    --jp-widgets-color: white;\n",
              "                    --jp-widgets-label-color: white;\n",
              "                    --jp-ui-font-color1: white;\n",
              "                    --jp-layout-color2: #454545;\n",
              "                    background-color: #383838;\n",
              "                }\n",
              "\n",
              "                .geemap-dark .jupyter-button {\n",
              "                    --jp-layout-color3: #383838;\n",
              "                }\n",
              "\n",
              "                .geemap-colab {\n",
              "                    background-color: var(--colab-primary-surface-color, white);\n",
              "                }\n",
              "\n",
              "                .geemap-colab .jupyter-button {\n",
              "                    --jp-layout-color3: var(--colab-primary-surface-color, white);\n",
              "                }\n",
              "            </style>\n",
              "            "
            ]
          },
          "metadata": {}
        }
      ]
    },
    {
      "cell_type": "code",
      "execution_count": null,
      "metadata": {
        "colab": {
          "base_uri": "https://localhost:8080/",
          "height": 17
        },
        "id": "lT34JQgqy7Hy",
        "outputId": "d30cb301-61b5-4920-c385-6082c88f0bff"
      },
      "outputs": [
        {
          "output_type": "display_data",
          "data": {
            "text/plain": [
              "<IPython.core.display.HTML object>"
            ],
            "text/html": [
              "\n",
              "            <style>\n",
              "                .geemap-dark {\n",
              "                    --jp-widgets-color: white;\n",
              "                    --jp-widgets-label-color: white;\n",
              "                    --jp-ui-font-color1: white;\n",
              "                    --jp-layout-color2: #454545;\n",
              "                    background-color: #383838;\n",
              "                }\n",
              "\n",
              "                .geemap-dark .jupyter-button {\n",
              "                    --jp-layout-color3: #383838;\n",
              "                }\n",
              "\n",
              "                .geemap-colab {\n",
              "                    background-color: var(--colab-primary-surface-color, white);\n",
              "                }\n",
              "\n",
              "                .geemap-colab .jupyter-button {\n",
              "                    --jp-layout-color3: var(--colab-primary-surface-color, white);\n",
              "                }\n",
              "            </style>\n",
              "            "
            ]
          },
          "metadata": {}
        }
      ],
      "source": [
        "year = '2010'\n",
        "start = ee.Date(year+'-04-01')\n",
        "end   = ee.Date(year+'-08-31')\n",
        "l8_2010 =processL8(start,end,l7,AOI,'mean').set({\"Year\":year,'Name':year+'_L8_processed'})\n",
        "# l8_2010 =processL8(start,end,l7,AOI,'median').set({\"Year\":year,'Name':year+'_L8_processed'})\n",
        "# l8_2010 =processL8(start,end,l7,AOI,'min').set({\"Year\":year,'Name':year+'_L8_processed'})\n",
        "# l8_2010 =processL8(start,end,l7,AOI,'max').set({\"Year\":year,'Name':year+'_L8_processed'})\n",
        "# l8_2010 =processL8(start,end,l7,AOI,'stdDev').set({\"Year\":year,'Name':year+'_L8_processed'})\n",
        "# l8_2010 =processL8(start,end,l7,AOI,'percentile10').set({\"Year\":year,'Name':year+'_L8_processed'})\n",
        "# l8_2010 =processL8(start,end,l7,AOI,'percentile50').set({\"Year\":year,'Name':year+'_L8_processed'})\n",
        "# l8_2010 =processL8(start,end,l7,AOI,'percentile90').set({\"Year\":year,'Name':year+'_L8_processed'})\n",
        "\n",
        "\n",
        "l8_2010_prj = l8_2010.reproject('EPSG:4326',scale=scale)\n",
        "# l8_2010_prj_red = l8_2010_prj.reduceResolution(reducer=ee.Reducer.mean())\n",
        "\n",
        "# export_params = {\n",
        "#   'assetId': user_id +'/Outputs/Out5k/l8_2010',\n",
        "#   'region': AOI,\n",
        "#   'scale': 30,\n",
        "#   'maxPixels': 1e13\n",
        "# }\n",
        "\n",
        "# # Export the image to the asset\n",
        "# task = ee.batch.Export.image.toAsset(l8_2010, description='l8_2010', **export_params)\n",
        "# task.start()"
      ]
    },
    {
      "cell_type": "code",
      "source": [
        "#l8_2010_prj.getInfo()#['bands'][0]['crs']\n",
        "# Map.addLayer(l8_2010_prj,{'min':0,'max':10000},'l8_2010')\n",
        "# Map.addLayer(l8_2010_prj_red,{'min':0,'max':10000},'l8_2010_red')\n",
        "# Map"
      ],
      "metadata": {
        "id": "YmSDry1hLLCy",
        "collapsed": true,
        "colab": {
          "base_uri": "https://localhost:8080/"
        },
        "outputId": "37aa9888-28c5-4d3e-c002-d4964c1acf70"
      },
      "execution_count": null,
      "outputs": [
        {
          "output_type": "display_data",
          "data": {
            "text/plain": [
              "<IPython.core.display.HTML object>"
            ],
            "text/html": [
              "\n",
              "            <style>\n",
              "                .geemap-dark {\n",
              "                    --jp-widgets-color: white;\n",
              "                    --jp-widgets-label-color: white;\n",
              "                    --jp-ui-font-color1: white;\n",
              "                    --jp-layout-color2: #454545;\n",
              "                    background-color: #383838;\n",
              "                }\n",
              "\n",
              "                .geemap-dark .jupyter-button {\n",
              "                    --jp-layout-color3: #383838;\n",
              "                }\n",
              "\n",
              "                .geemap-colab {\n",
              "                    background-color: var(--colab-primary-surface-color, white);\n",
              "                }\n",
              "\n",
              "                .geemap-colab .jupyter-button {\n",
              "                    --jp-layout-color3: var(--colab-primary-surface-color, white);\n",
              "                }\n",
              "            </style>\n",
              "            "
            ]
          },
          "metadata": {}
        }
      ]
    },
    {
      "cell_type": "code",
      "execution_count": null,
      "metadata": {
        "colab": {
          "base_uri": "https://localhost:8080/",
          "height": 17
        },
        "id": "Ifl_VHfhksjJ",
        "outputId": "77d8609d-69f9-4271-f228-092187aee9ce"
      },
      "outputs": [
        {
          "output_type": "display_data",
          "data": {
            "text/plain": [
              "<IPython.core.display.HTML object>"
            ],
            "text/html": [
              "\n",
              "            <style>\n",
              "                .geemap-dark {\n",
              "                    --jp-widgets-color: white;\n",
              "                    --jp-widgets-label-color: white;\n",
              "                    --jp-ui-font-color1: white;\n",
              "                    --jp-layout-color2: #454545;\n",
              "                    background-color: #383838;\n",
              "                }\n",
              "\n",
              "                .geemap-dark .jupyter-button {\n",
              "                    --jp-layout-color3: #383838;\n",
              "                }\n",
              "\n",
              "                .geemap-colab {\n",
              "                    background-color: var(--colab-primary-surface-color, white);\n",
              "                }\n",
              "\n",
              "                .geemap-colab .jupyter-button {\n",
              "                    --jp-layout-color3: var(--colab-primary-surface-color, white);\n",
              "                }\n",
              "            </style>\n",
              "            "
            ]
          },
          "metadata": {}
        }
      ],
      "source": [
        "year = '2011'\n",
        "start = ee.Date(year+'-04-01')\n",
        "end   = ee.Date(year+'-08-31')\n",
        "l8_2011 =processL8(start,end,l7,AOI,'mean').set({\"Year\":year,'Name':year+'_L8_processed'})\n",
        "# l8_2011 =processL8(start,end,l7,AOI,'median').set({\"Year\":year,'Name':year+'_L8_processed'})\n",
        "# l8_2011 =processL8(start,end,l7,AOI,'min').set({\"Year\":year,'Name':year+'_L8_processed'})\n",
        "# l8_2011 =processL8(start,end,l7,AOI,'max').set({\"Year\":year,'Name':year+'_L8_processed'})\n",
        "# l8_2011 =processL8(start,end,l7,AOI,'stdDev').set({\"Year\":year,'Name':year+'_L8_processed'})\n",
        "# l8_2011 =processL8(start,end,l7,AOI,'percentile10').set({\"Year\":year,'Name':year+'_L8_processed'})\n",
        "# l8_2011 =processL8(start,end,l7,AOI,'percentile50').set({\"Year\":year,'Name':year+'_L8_processed'})\n",
        "# l8_2011 =processL8(start,end,l7,AOI,'percentile90').set({\"Year\":year,'Name':year+'_L8_processed'})\n",
        "l8_2011_prj = l8_2011.reproject('EPSG:4326',scale=scale)\n",
        "# export_params = {\n",
        "#   'assetId': user_id +'/Outputs/Out5k/l8_2011',\n",
        "#   'region': AOI,\n",
        "#   'scale': 30,\n",
        "#   'maxPixels': 1e13\n",
        "# }\n",
        "\n",
        "# # Export the image to the asset\n",
        "# task = ee.batch.Export.image.toAsset(l8_2011, description='l8_2011', **export_params)\n",
        "# task.start()"
      ]
    },
    {
      "cell_type": "code",
      "execution_count": null,
      "metadata": {
        "colab": {
          "base_uri": "https://localhost:8080/",
          "height": 17
        },
        "id": "vA5FTumHYyJK",
        "outputId": "978ba44c-8a2e-4a96-95c9-8cb0525961d7"
      },
      "outputs": [
        {
          "output_type": "display_data",
          "data": {
            "text/plain": [
              "<IPython.core.display.HTML object>"
            ],
            "text/html": [
              "\n",
              "            <style>\n",
              "                .geemap-dark {\n",
              "                    --jp-widgets-color: white;\n",
              "                    --jp-widgets-label-color: white;\n",
              "                    --jp-ui-font-color1: white;\n",
              "                    --jp-layout-color2: #454545;\n",
              "                    background-color: #383838;\n",
              "                }\n",
              "\n",
              "                .geemap-dark .jupyter-button {\n",
              "                    --jp-layout-color3: #383838;\n",
              "                }\n",
              "\n",
              "                .geemap-colab {\n",
              "                    background-color: var(--colab-primary-surface-color, white);\n",
              "                }\n",
              "\n",
              "                .geemap-colab .jupyter-button {\n",
              "                    --jp-layout-color3: var(--colab-primary-surface-color, white);\n",
              "                }\n",
              "            </style>\n",
              "            "
            ]
          },
          "metadata": {}
        }
      ],
      "source": [
        "year = '2012'\n",
        "start = ee.Date(year+'-04-01')\n",
        "end   = ee.Date(year+'-08-31')\n",
        "l8_2012 =processL8(start,end,l7,AOI,'mean').set({\"Year\":year,'Name':year+'_L8_processed'})\n",
        "# l8_2012 =processL8(start,end,l7,AOI,'median').set({\"Year\":year,'Name':year+'_L8_processed'})\n",
        "# l8_2012 =processL8(start,end,l7,AOI,'min').set({\"Year\":year,'Name':year+'_L8_processed'})\n",
        "# l8_2012 =processL8(start,end,l7,AOI,'max').set({\"Year\":year,'Name':year+'_L8_processed'})\n",
        "# l8_2012 =processL8(start,end,l7,AOI,'stdDev').set({\"Year\":year,'Name':year+'_L8_processed'})\n",
        "# l8_2012 =processL8(start,end,l7,AOI,'percentile10').set({\"Year\":year,'Name':year+'_L8_processed'})\n",
        "# l8_2012 =processL8(start,end,l7,AOI,'percentile50').set({\"Year\":year,'Name':year+'_L8_processed'})\n",
        "# l8_2012 =processL8(start,end,l7,AOI,'percentile90').set({\"Year\":year,'Name':year+'_L8_processed'})\n",
        "\n",
        "l8_2012_prj = l8_2012.reproject('EPSG:4326',scale=scale)\n",
        "\n",
        "# export_params = {\n",
        "#   'assetId': user_id +'/Outputs/Out5k/l8_2012',\n",
        "#   'region': AOI,\n",
        "#   'scale': 30,\n",
        "#   'maxPixels': 1e13\n",
        "# }\n",
        "\n",
        "# # Export the image to the asset\n",
        "# task = ee.batch.Export.image.toAsset(l8_2012, description='l8_2012', **export_params)\n",
        "# # task.start()"
      ]
    },
    {
      "cell_type": "code",
      "execution_count": null,
      "metadata": {
        "colab": {
          "base_uri": "https://localhost:8080/",
          "height": 17
        },
        "id": "qh7zv5bSRvmm",
        "outputId": "8ab6ef86-b81a-42ff-aed5-c59afb969411"
      },
      "outputs": [
        {
          "output_type": "display_data",
          "data": {
            "text/plain": [
              "<IPython.core.display.HTML object>"
            ],
            "text/html": [
              "\n",
              "            <style>\n",
              "                .geemap-dark {\n",
              "                    --jp-widgets-color: white;\n",
              "                    --jp-widgets-label-color: white;\n",
              "                    --jp-ui-font-color1: white;\n",
              "                    --jp-layout-color2: #454545;\n",
              "                    background-color: #383838;\n",
              "                }\n",
              "\n",
              "                .geemap-dark .jupyter-button {\n",
              "                    --jp-layout-color3: #383838;\n",
              "                }\n",
              "\n",
              "                .geemap-colab {\n",
              "                    background-color: var(--colab-primary-surface-color, white);\n",
              "                }\n",
              "\n",
              "                .geemap-colab .jupyter-button {\n",
              "                    --jp-layout-color3: var(--colab-primary-surface-color, white);\n",
              "                }\n",
              "            </style>\n",
              "            "
            ]
          },
          "metadata": {}
        }
      ],
      "source": [
        "# task.status()"
      ]
    },
    {
      "cell_type": "code",
      "execution_count": null,
      "metadata": {
        "colab": {
          "base_uri": "https://localhost:8080/",
          "height": 17
        },
        "id": "iXYUMeszYyBR",
        "outputId": "d0cf5b6e-acb4-4157-eda1-5d7a1f1657ba"
      },
      "outputs": [
        {
          "output_type": "display_data",
          "data": {
            "text/plain": [
              "<IPython.core.display.HTML object>"
            ],
            "text/html": [
              "\n",
              "            <style>\n",
              "                .geemap-dark {\n",
              "                    --jp-widgets-color: white;\n",
              "                    --jp-widgets-label-color: white;\n",
              "                    --jp-ui-font-color1: white;\n",
              "                    --jp-layout-color2: #454545;\n",
              "                    background-color: #383838;\n",
              "                }\n",
              "\n",
              "                .geemap-dark .jupyter-button {\n",
              "                    --jp-layout-color3: #383838;\n",
              "                }\n",
              "\n",
              "                .geemap-colab {\n",
              "                    background-color: var(--colab-primary-surface-color, white);\n",
              "                }\n",
              "\n",
              "                .geemap-colab .jupyter-button {\n",
              "                    --jp-layout-color3: var(--colab-primary-surface-color, white);\n",
              "                }\n",
              "            </style>\n",
              "            "
            ]
          },
          "metadata": {}
        }
      ],
      "source": [
        "year = '2013'\n",
        "start = ee.Date(year+'-04-01')\n",
        "end   = ee.Date(year+'-08-31')\n",
        "l8_2013 =processL8(start,end,l8,AOI,'mean').set({\"Year\":year,'Name':year+'_L8_processed'})\n",
        "# l8_2013 =processL8(start,end,l8,AOI,'median').set({\"Year\":year,'Name':year+'_L8_processed'})\n",
        "# l8_2013 =processL8(start,end,l8,AOI,'min').set({\"Year\":year,'Name':year+'_L8_processed'})\n",
        "# l8_2013 =processL8(start,end,l8,AOI,'max').set({\"Year\":year,'Name':year+'_L8_processed'})\n",
        "# l8_2013 =processL8(start,end,l8,AOI,'stdDev').set({\"Year\":year,'Name':year+'_L8_processed'})\n",
        "# l8_2013 =processL8(start,end,l8,AOI,'percentile10').set({\"Year\":year,'Name':year+'_L8_processed'})\n",
        "# l8_2013 =processL8(start,end,l8,AOI,'percentile50').set({\"Year\":year,'Name':year+'_L8_processed'})\n",
        "# l8_2013 =processL8(start,end,l8,AOI,'percentile90').set({\"Year\":year,'Name':year+'_L8_processed'})\n",
        "\n",
        "l8_2013_prj = l8_2013.reproject('EPSG:4326',scale=scale)"
      ]
    },
    {
      "cell_type": "code",
      "execution_count": null,
      "metadata": {
        "colab": {
          "base_uri": "https://localhost:8080/",
          "height": 17
        },
        "id": "eoqq_PIpYx5_",
        "outputId": "266213fc-ce87-4322-b631-6e8ca4e5b7a7"
      },
      "outputs": [
        {
          "output_type": "display_data",
          "data": {
            "text/plain": [
              "<IPython.core.display.HTML object>"
            ],
            "text/html": [
              "\n",
              "            <style>\n",
              "                .geemap-dark {\n",
              "                    --jp-widgets-color: white;\n",
              "                    --jp-widgets-label-color: white;\n",
              "                    --jp-ui-font-color1: white;\n",
              "                    --jp-layout-color2: #454545;\n",
              "                    background-color: #383838;\n",
              "                }\n",
              "\n",
              "                .geemap-dark .jupyter-button {\n",
              "                    --jp-layout-color3: #383838;\n",
              "                }\n",
              "\n",
              "                .geemap-colab {\n",
              "                    background-color: var(--colab-primary-surface-color, white);\n",
              "                }\n",
              "\n",
              "                .geemap-colab .jupyter-button {\n",
              "                    --jp-layout-color3: var(--colab-primary-surface-color, white);\n",
              "                }\n",
              "            </style>\n",
              "            "
            ]
          },
          "metadata": {}
        }
      ],
      "source": [
        "year = '2014'\n",
        "start = ee.Date(year+'-04-01')\n",
        "end   = ee.Date(year+'-08-31')\n",
        "l8_2014 =processL8(start,end,l8,AOI,'mean').set({\"Year\":year,'Name':year+'_L8_processed'})\n",
        "# l8_2014 =processL8(start,end,l8,AOI,'median').set({\"Year\":year,'Name':year+'_L8_processed'})\n",
        "# l8_2014 =processL8(start,end,l8,AOI,'min').set({\"Year\":year,'Name':year+'_L8_processed'})\n",
        "# l8_2014 =processL8(start,end,l8,AOI,'max').set({\"Year\":year,'Name':year+'_L8_processed'})\n",
        "# l8_2014 =processL8(start,end,l8,AOI,'stdDev').set({\"Year\":year,'Name':year+'_L8_processed'})\n",
        "# l8_2014 =processL8(start,end,l8,AOI,'percentile10').set({\"Year\":year,'Name':year+'_L8_processed'})\n",
        "# l8_2014 =processL8(start,end,l8,AOI,'percentile50').set({\"Year\":year,'Name':year+'_L8_processed'})\n",
        "# l8_2014 =processL8(start,end,l8,AOI,'percentile90').set({\"Year\":year,'Name':year+'_L8_processed'})\n",
        "\n",
        "l8_2014_prj = l8_2014.reproject('EPSG:4326',scale=scale)\n"
      ]
    },
    {
      "cell_type": "code",
      "execution_count": null,
      "metadata": {
        "colab": {
          "base_uri": "https://localhost:8080/",
          "height": 17
        },
        "id": "5rYlm72cYxuR",
        "outputId": "d2e3618a-e3a1-4aaf-826c-ff9c7bea139d"
      },
      "outputs": [
        {
          "output_type": "display_data",
          "data": {
            "text/plain": [
              "<IPython.core.display.HTML object>"
            ],
            "text/html": [
              "\n",
              "            <style>\n",
              "                .geemap-dark {\n",
              "                    --jp-widgets-color: white;\n",
              "                    --jp-widgets-label-color: white;\n",
              "                    --jp-ui-font-color1: white;\n",
              "                    --jp-layout-color2: #454545;\n",
              "                    background-color: #383838;\n",
              "                }\n",
              "\n",
              "                .geemap-dark .jupyter-button {\n",
              "                    --jp-layout-color3: #383838;\n",
              "                }\n",
              "\n",
              "                .geemap-colab {\n",
              "                    background-color: var(--colab-primary-surface-color, white);\n",
              "                }\n",
              "\n",
              "                .geemap-colab .jupyter-button {\n",
              "                    --jp-layout-color3: var(--colab-primary-surface-color, white);\n",
              "                }\n",
              "            </style>\n",
              "            "
            ]
          },
          "metadata": {}
        }
      ],
      "source": [
        "year = '2015'\n",
        "start = ee.Date(year+'-04-01')\n",
        "end   = ee.Date(year+'-08-31')\n",
        "l8_2015 =processL8(start,end,l8,AOI,'mean').set({\"Year\":year,'Name':year+'_L8_processed'})\n",
        "# l8_2015 =processL8(start,end,l8,AOI,'median').set({\"Year\":year,'Name':year+'_L8_processed'})\n",
        "# l8_2015 =processL8(start,end,l8,AOI,'min').set({\"Year\":year,'Name':year+'_L8_processed'})\n",
        "# l8_2015 =processL8(start,end,l8,AOI,'max').set({\"Year\":year,'Name':year+'_L8_processed'})\n",
        "# l8_2015 =processL8(start,end,l8,AOI,'stdDev').set({\"Year\":year,'Name':year+'_L8_processed'})\n",
        "# l8_2015 =processL8(start,end,l8,AOI,'percentile10').set({\"Year\":year,'Name':year+'_L8_processed'})\n",
        "# l8_2015 =processL8(start,end,l8,AOI,'percentile50').set({\"Year\":year,'Name':year+'_L8_processed'})\n",
        "# l8_2015 =processL8(start,end,l8,AOI,'percentile90').set({\"Year\":year,'Name':year+'_L8_processed'})\n",
        "\n",
        "l8_2015_prj = l8_2015.reproject('EPSG:4326',scale=scale)\n"
      ]
    },
    {
      "cell_type": "code",
      "execution_count": null,
      "metadata": {
        "colab": {
          "base_uri": "https://localhost:8080/",
          "height": 17
        },
        "id": "NDrwYlfXY6VU",
        "outputId": "30b42638-ab54-4b2c-a198-0983e4571e7f"
      },
      "outputs": [
        {
          "output_type": "display_data",
          "data": {
            "text/plain": [
              "<IPython.core.display.HTML object>"
            ],
            "text/html": [
              "\n",
              "            <style>\n",
              "                .geemap-dark {\n",
              "                    --jp-widgets-color: white;\n",
              "                    --jp-widgets-label-color: white;\n",
              "                    --jp-ui-font-color1: white;\n",
              "                    --jp-layout-color2: #454545;\n",
              "                    background-color: #383838;\n",
              "                }\n",
              "\n",
              "                .geemap-dark .jupyter-button {\n",
              "                    --jp-layout-color3: #383838;\n",
              "                }\n",
              "\n",
              "                .geemap-colab {\n",
              "                    background-color: var(--colab-primary-surface-color, white);\n",
              "                }\n",
              "\n",
              "                .geemap-colab .jupyter-button {\n",
              "                    --jp-layout-color3: var(--colab-primary-surface-color, white);\n",
              "                }\n",
              "            </style>\n",
              "            "
            ]
          },
          "metadata": {}
        }
      ],
      "source": [
        "year = '2016'\n",
        "start = ee.Date(year+'-04-01')\n",
        "end   = ee.Date(year+'-08-31')\n",
        "l8_2016 =processL8(start,end,l8,AOI,'mean').set({\"Year\":year,'Name':year+'_L8_processed'})\n",
        "# l8_2016 =processL8(start,end,l8,AOI,'median').set({\"Year\":year,'Name':year+'_L8_processed'})\n",
        "# l8_2016 =processL8(start,end,l8,AOI,'min').set({\"Year\":year,'Name':year+'_L8_processed'})\n",
        "# l8_2016 =processL8(start,end,l8,AOI,'max').set({\"Year\":year,'Name':year+'_L8_processed'})\n",
        "# l8_2016 =processL8(start,end,l8,AOI,'stdDev').set({\"Year\":year,'Name':year+'_L8_processed'})\n",
        "# l8_2016 =processL8(start,end,l8,AOI,'percentile10').set({\"Year\":year,'Name':year+'_L8_processed'})\n",
        "# l8_2016 =processL8(start,end,l8,AOI,'percentile50').set({\"Year\":year,'Name':year+'_L8_processed'})\n",
        "# l8_2016 =processL8(start,end,l8,AOI,'percentile90').set({\"Year\":year,'Name':year+'_L8_processed'})\n",
        "\n",
        "l8_2016_prj = l8_2016.reproject('EPSG:4326',scale=scale)\n",
        "\n"
      ]
    },
    {
      "cell_type": "code",
      "execution_count": null,
      "metadata": {
        "colab": {
          "base_uri": "https://localhost:8080/",
          "height": 17
        },
        "id": "8LZLWReRY7in",
        "outputId": "8a04b8f8-d9af-4c17-c895-a891b066cc48"
      },
      "outputs": [
        {
          "output_type": "display_data",
          "data": {
            "text/plain": [
              "<IPython.core.display.HTML object>"
            ],
            "text/html": [
              "\n",
              "            <style>\n",
              "                .geemap-dark {\n",
              "                    --jp-widgets-color: white;\n",
              "                    --jp-widgets-label-color: white;\n",
              "                    --jp-ui-font-color1: white;\n",
              "                    --jp-layout-color2: #454545;\n",
              "                    background-color: #383838;\n",
              "                }\n",
              "\n",
              "                .geemap-dark .jupyter-button {\n",
              "                    --jp-layout-color3: #383838;\n",
              "                }\n",
              "\n",
              "                .geemap-colab {\n",
              "                    background-color: var(--colab-primary-surface-color, white);\n",
              "                }\n",
              "\n",
              "                .geemap-colab .jupyter-button {\n",
              "                    --jp-layout-color3: var(--colab-primary-surface-color, white);\n",
              "                }\n",
              "            </style>\n",
              "            "
            ]
          },
          "metadata": {}
        }
      ],
      "source": [
        "year = '2017'\n",
        "start = ee.Date(year+'-04-01')\n",
        "end   = ee.Date(year+'-08-31')\n",
        "l8_2017 =processL8(start,end,l8,AOI,'mean').set({\"Year\":year,'Name':year+'_L8_processed'})\n",
        "# l8_2017 =processL8(start,end,l8,AOI,'median').set({\"Year\":year,'Name':year+'_L8_processed'})\n",
        "# l8_2017 =processL8(start,end,l8,AOI,'min').set({\"Year\":year,'Name':year+'_L8_processed'})\n",
        "# l8_2017 =processL8(start,end,l8,AOI,'max').set({\"Year\":year,'Name':year+'_L8_processed'})\n",
        "# l8_2017 =processL8(start,end,l8,AOI,'stdDev').set({\"Year\":year,'Name':year+'_L8_processed'})\n",
        "# l8_2017 =processL8(start,end,l8,AOI,'percentile10').set({\"Year\":year,'Name':year+'_L8_processed'})\n",
        "# l8_2017 =processL8(start,end,l8,AOI,'percentile50').set({\"Year\":year,'Name':year+'_L8_processed'})\n",
        "# l8_2017 =processL8(start,end,l8,AOI,'percentile90').set({\"Year\":year,'Name':year+'_L8_processed'})\n",
        "\n",
        "l8_2017_prj = l8_2017.reproject('EPSG:4326',scale=scale)\n"
      ]
    },
    {
      "cell_type": "code",
      "execution_count": null,
      "metadata": {
        "colab": {
          "base_uri": "https://localhost:8080/",
          "height": 17
        },
        "id": "4JtaA9P4Y8wd",
        "outputId": "6fc72103-c094-49a5-8c35-da0270e52143"
      },
      "outputs": [
        {
          "output_type": "display_data",
          "data": {
            "text/plain": [
              "<IPython.core.display.HTML object>"
            ],
            "text/html": [
              "\n",
              "            <style>\n",
              "                .geemap-dark {\n",
              "                    --jp-widgets-color: white;\n",
              "                    --jp-widgets-label-color: white;\n",
              "                    --jp-ui-font-color1: white;\n",
              "                    --jp-layout-color2: #454545;\n",
              "                    background-color: #383838;\n",
              "                }\n",
              "\n",
              "                .geemap-dark .jupyter-button {\n",
              "                    --jp-layout-color3: #383838;\n",
              "                }\n",
              "\n",
              "                .geemap-colab {\n",
              "                    background-color: var(--colab-primary-surface-color, white);\n",
              "                }\n",
              "\n",
              "                .geemap-colab .jupyter-button {\n",
              "                    --jp-layout-color3: var(--colab-primary-surface-color, white);\n",
              "                }\n",
              "            </style>\n",
              "            "
            ]
          },
          "metadata": {}
        }
      ],
      "source": [
        "year = '2018'\n",
        "start = ee.Date(year+'-04-01')\n",
        "end   = ee.Date(year+'-08-31')\n",
        "l8_2018 =processL8(start,end,l8,AOI,'mean').set({\"Year\":year,'Name':year+'_L8_processed'})\n",
        "# l8_2018 =processL8(start,end,l8,AOI,'median').set({\"Year\":year,'Name':year+'_L8_processed'})\n",
        "# l8_2018 =processL8(start,end,l8,AOI,'min').set({\"Year\":year,'Name':year+'_L8_processed'})\n",
        "# l8_2018 =processL8(start,end,l8,AOI,'max').set({\"Year\":year,'Name':year+'_L8_processed'})\n",
        "# l8_2018 =processL8(start,end,l8,AOI,'stdDev').set({\"Year\":year,'Name':year+'_L8_processed'})\n",
        "# l8_2018 =processL8(start,end,l8,AOI,'percentile10').set({\"Year\":year,'Name':year+'_L8_processed'})\n",
        "# l8_2018 =processL8(start,end,l8,AOI,'percentile50').set({\"Year\":year,'Name':year+'_L8_processed'})\n",
        "# l8_2018 =processL8(start,end,l8,AOI,'percentile90').set({\"Year\":year,'Name':year+'_L8_processed'})\n",
        "\n",
        "l8_2018_prj = l8_2018.reproject('EPSG:4326',scale=scale)\n"
      ]
    },
    {
      "cell_type": "code",
      "execution_count": null,
      "metadata": {
        "colab": {
          "base_uri": "https://localhost:8080/",
          "height": 17
        },
        "id": "zIUZ4Jy2ct77",
        "outputId": "b10149a5-2252-4b00-cbe0-18811fcd0036"
      },
      "outputs": [
        {
          "output_type": "display_data",
          "data": {
            "text/plain": [
              "<IPython.core.display.HTML object>"
            ],
            "text/html": [
              "\n",
              "            <style>\n",
              "                .geemap-dark {\n",
              "                    --jp-widgets-color: white;\n",
              "                    --jp-widgets-label-color: white;\n",
              "                    --jp-ui-font-color1: white;\n",
              "                    --jp-layout-color2: #454545;\n",
              "                    background-color: #383838;\n",
              "                }\n",
              "\n",
              "                .geemap-dark .jupyter-button {\n",
              "                    --jp-layout-color3: #383838;\n",
              "                }\n",
              "\n",
              "                .geemap-colab {\n",
              "                    background-color: var(--colab-primary-surface-color, white);\n",
              "                }\n",
              "\n",
              "                .geemap-colab .jupyter-button {\n",
              "                    --jp-layout-color3: var(--colab-primary-surface-color, white);\n",
              "                }\n",
              "            </style>\n",
              "            "
            ]
          },
          "metadata": {}
        }
      ],
      "source": [
        "year = '2019'\n",
        "start = ee.Date(year+'-04-01')\n",
        "end   = ee.Date(year+'-08-31')\n",
        "l8_2019 =processL8(start,end,l8,AOI,'mean').set({\"Year\":year,'Name':year+'_L8_processed'})\n",
        "# l8_2019 =processL8(start,end,l8,AOI,'median').set({\"Year\":year,'Name':year+'_L8_processed'})\n",
        "# l8_2019 =processL8(start,end,l8,AOI,'min').set({\"Year\":year,'Name':year+'_L8_processed'})\n",
        "# l8_2019 =processL8(start,end,l8,AOI,'max').set({\"Year\":year,'Name':year+'_L8_processed'})\n",
        "# l8_2019 =processL8(start,end,l8,AOI,'stdDev').set({\"Year\":year,'Name':year+'_L8_processed'})\n",
        "# l8_2019 =processL8(start,end,l8,AOI,'percentile10').set({\"Year\":year,'Name':year+'_L8_processed'})\n",
        "# l8_2019 =processL8(start,end,l8,AOI,'percentile50').set({\"Year\":year,'Name':year+'_L8_processed'})\n",
        "# l8_2019 =processL8(start,end,l8,AOI,'percentile90').set({\"Year\":year,'Name':year+'_L8_processed'})\n",
        "\n",
        "l8_2019_prj = l8_2019.reproject('EPSG:4326',scale=scale)\n"
      ]
    },
    {
      "cell_type": "code",
      "execution_count": null,
      "metadata": {
        "colab": {
          "base_uri": "https://localhost:8080/",
          "height": 17
        },
        "id": "67nLUT8ocum2",
        "outputId": "a4820553-3984-4491-afa4-a2cbffdf0a9b"
      },
      "outputs": [
        {
          "output_type": "display_data",
          "data": {
            "text/plain": [
              "<IPython.core.display.HTML object>"
            ],
            "text/html": [
              "\n",
              "            <style>\n",
              "                .geemap-dark {\n",
              "                    --jp-widgets-color: white;\n",
              "                    --jp-widgets-label-color: white;\n",
              "                    --jp-ui-font-color1: white;\n",
              "                    --jp-layout-color2: #454545;\n",
              "                    background-color: #383838;\n",
              "                }\n",
              "\n",
              "                .geemap-dark .jupyter-button {\n",
              "                    --jp-layout-color3: #383838;\n",
              "                }\n",
              "\n",
              "                .geemap-colab {\n",
              "                    background-color: var(--colab-primary-surface-color, white);\n",
              "                }\n",
              "\n",
              "                .geemap-colab .jupyter-button {\n",
              "                    --jp-layout-color3: var(--colab-primary-surface-color, white);\n",
              "                }\n",
              "            </style>\n",
              "            "
            ]
          },
          "metadata": {}
        }
      ],
      "source": [
        "year = '2020'\n",
        "start = ee.Date(year+'-04-01')\n",
        "end   = ee.Date(year+'-08-31')\n",
        "l8_2020 =processL8(start,end,l8,AOI,'mean').set({\"Year\":year,'Name':year+'_L8_processed'})\n",
        "# l8_2020 =processL8(start,end,l8,AOI,'median').set({\"Year\":year,'Name':year+'_L8_processed'})\n",
        "# l8_2020 =processL8(start,end,l8,AOI,'min').set({\"Year\":year,'Name':year+'_L8_processed'})\n",
        "# l8_2020 =processL8(start,end,l8,AOI,'max').set({\"Year\":year,'Name':year+'_L8_processed'})\n",
        "# l8_2020 =processL8(start,end,l8,AOI,'stdDev').set({\"Year\":year,'Name':year+'_L8_processed'})\n",
        "# l8_2020 =processL8(start,end,l8,AOI,'percentile10').set({\"Year\":year,'Name':year+'_L8_processed'})\n",
        "# l8_2020 =processL8(start,end,l8,AOI,'percentile50').set({\"Year\":year,'Name':year+'_L8_processed'})\n",
        "# l8_2020 =processL8(start,end,l8,AOI,'percentile90').set({\"Year\":year,'Name':year+'_L8_processed'})\n",
        "\n",
        "l8_2020_prj = l8_2020.reproject('EPSG:4326',scale=scale)\n"
      ]
    },
    {
      "cell_type": "code",
      "execution_count": null,
      "metadata": {
        "colab": {
          "base_uri": "https://localhost:8080/",
          "height": 17
        },
        "id": "UG0gcQFfcvVF",
        "outputId": "9b78d7c2-fdef-4124-bc56-20e46ce13e3a"
      },
      "outputs": [
        {
          "output_type": "display_data",
          "data": {
            "text/plain": [
              "<IPython.core.display.HTML object>"
            ],
            "text/html": [
              "\n",
              "            <style>\n",
              "                .geemap-dark {\n",
              "                    --jp-widgets-color: white;\n",
              "                    --jp-widgets-label-color: white;\n",
              "                    --jp-ui-font-color1: white;\n",
              "                    --jp-layout-color2: #454545;\n",
              "                    background-color: #383838;\n",
              "                }\n",
              "\n",
              "                .geemap-dark .jupyter-button {\n",
              "                    --jp-layout-color3: #383838;\n",
              "                }\n",
              "\n",
              "                .geemap-colab {\n",
              "                    background-color: var(--colab-primary-surface-color, white);\n",
              "                }\n",
              "\n",
              "                .geemap-colab .jupyter-button {\n",
              "                    --jp-layout-color3: var(--colab-primary-surface-color, white);\n",
              "                }\n",
              "            </style>\n",
              "            "
            ]
          },
          "metadata": {}
        }
      ],
      "source": [
        "year = '2021'\n",
        "start = ee.Date(year+'-04-01')\n",
        "end   = ee.Date(year+'-08-31')\n",
        "l8_2021 =processL8(start,end,l8,AOI,'mean').set({\"Year\":year,'Name':year+'_L8_processed'})\n",
        "# l8_2021 =processL8(start,end,l8,AOI,'median').set({\"Year\":year,'Name':year+'_L8_processed'})\n",
        "# l8_2021 =processL8(start,end,l8,AOI,'min').set({\"Year\":year,'Name':year+'_L8_processed'})\n",
        "# l8_2021 =processL8(start,end,l8,AOI,'max').set({\"Year\":year,'Name':year+'_L8_processed'})\n",
        "# l8_2021 =processL8(start,end,l8,AOI,'stdDev').set({\"Year\":year,'Name':year+'_L8_processed'})\n",
        "# l8_2021 =processL8(start,end,l8,AOI,'percentile10').set({\"Year\":year,'Name':year+'_L8_processed'})\n",
        "# l8_2021 =processL8(start,end,l8,AOI,'percentile50').set({\"Year\":year,'Name':year+'_L8_processed'})\n",
        "# l8_2021 =processL8(start,end,l8,AOI,'percentile90').set({\"Year\":year,'Name':year+'_L8_processed'})\n",
        "\n",
        "l8_2021_prj = l8_2021.reproject('EPSG:4326',scale=scale)\n"
      ]
    },
    {
      "cell_type": "code",
      "execution_count": null,
      "metadata": {
        "colab": {
          "base_uri": "https://localhost:8080/",
          "height": 17
        },
        "id": "SWw71AJWdVqe",
        "outputId": "3a11a0ea-efba-4a74-936c-6c9d96186bec"
      },
      "outputs": [
        {
          "output_type": "display_data",
          "data": {
            "text/plain": [
              "<IPython.core.display.HTML object>"
            ],
            "text/html": [
              "\n",
              "            <style>\n",
              "                .geemap-dark {\n",
              "                    --jp-widgets-color: white;\n",
              "                    --jp-widgets-label-color: white;\n",
              "                    --jp-ui-font-color1: white;\n",
              "                    --jp-layout-color2: #454545;\n",
              "                    background-color: #383838;\n",
              "                }\n",
              "\n",
              "                .geemap-dark .jupyter-button {\n",
              "                    --jp-layout-color3: #383838;\n",
              "                }\n",
              "\n",
              "                .geemap-colab {\n",
              "                    background-color: var(--colab-primary-surface-color, white);\n",
              "                }\n",
              "\n",
              "                .geemap-colab .jupyter-button {\n",
              "                    --jp-layout-color3: var(--colab-primary-surface-color, white);\n",
              "                }\n",
              "            </style>\n",
              "            "
            ]
          },
          "metadata": {}
        }
      ],
      "source": [
        "year = '2022'\n",
        "start = ee.Date(year+'-04-01')\n",
        "end   = ee.Date(year+'-08-31')\n",
        "l8_2022 =processL8(start,end,l8,AOI,'mean').set({\"Year\":year,'Name':year+'_L8_processed'})\n",
        "# l8_2022 =processL8(start,end,l8,AOI,'median').set({\"Year\":year,'Name':year+'_L8_processed'})\n",
        "# l8_2022 =processL8(start,end,l8,AOI,'min').set({\"Year\":year,'Name':year+'_L8_processed'})\n",
        "# l8_2022 =processL8(start,end,l8,AOI,'max').set({\"Year\":year,'Name':year+'_L8_processed'})\n",
        "# l8_2022 =processL8(start,end,l8,AOI,'stdDev').set({\"Year\":year,'Name':year+'_L8_processed'})\n",
        "# l8_2022 =processL8(start,end,l8,AOI,'percentile10').set({\"Year\":year,'Name':year+'_L8_processed'})\n",
        "# l8_2022 =processL8(start,end,l8,AOI,'percentile50').set({\"Year\":year,'Name':year+'_L8_processed'})\n",
        "# l8_2022 =processL8(start,end,l8,AOI,'percentile90').set({\"Year\":year,'Name':year+'_L8_processed'})\n",
        "\n",
        "l8_2022_prj = l8_2022.reproject('EPSG:4326',scale=scale)\n"
      ]
    },
    {
      "cell_type": "code",
      "execution_count": null,
      "metadata": {
        "colab": {
          "base_uri": "https://localhost:8080/",
          "height": 17
        },
        "id": "Ut6pgaiVda69",
        "outputId": "df6757af-b39a-4844-c5f3-bda6eabc4532"
      },
      "outputs": [
        {
          "output_type": "display_data",
          "data": {
            "text/plain": [
              "<IPython.core.display.HTML object>"
            ],
            "text/html": [
              "\n",
              "            <style>\n",
              "                .geemap-dark {\n",
              "                    --jp-widgets-color: white;\n",
              "                    --jp-widgets-label-color: white;\n",
              "                    --jp-ui-font-color1: white;\n",
              "                    --jp-layout-color2: #454545;\n",
              "                    background-color: #383838;\n",
              "                }\n",
              "\n",
              "                .geemap-dark .jupyter-button {\n",
              "                    --jp-layout-color3: #383838;\n",
              "                }\n",
              "\n",
              "                .geemap-colab {\n",
              "                    background-color: var(--colab-primary-surface-color, white);\n",
              "                }\n",
              "\n",
              "                .geemap-colab .jupyter-button {\n",
              "                    --jp-layout-color3: var(--colab-primary-surface-color, white);\n",
              "                }\n",
              "            </style>\n",
              "            "
            ]
          },
          "metadata": {}
        }
      ],
      "source": [
        "year = '2023'\n",
        "start = ee.Date(year+'-04-01')\n",
        "end   = ee.Date(year+'-08-31')\n",
        "l8_2023 =processL8(start,end,l8,AOI,'mean').set({\"Year\":year,'Name':year+'_L8_processed'})\n",
        "# l8_2023 =processL8(start,end,l8,AOI,'median').set({\"Year\":year,'Name':year+'_L8_processed'})\n",
        "# l8_2023 =processL8(start,end,l8,AOI,'min').set({\"Year\":year,'Name':year+'_L8_processed'})\n",
        "# l8_2023 =processL8(start,end,l8,AOI,'max').set({\"Year\":year,'Name':year+'_L8_processed'})\n",
        "# l8_2023 =processL8(start,end,l8,AOI,'stdDev').set({\"Year\":year,'Name':year+'_L8_processed'})\n",
        "# l8_2023 =processL8(start,end,l8,AOI,'percentile10').set({\"Year\":year,'Name':year+'_L8_processed'})\n",
        "# l8_2023 =processL8(start,end,l8,AOI,'percentile50').set({\"Year\":year,'Name':year+'_L8_processed'})\n",
        "# l8_2023 =processL8(start,end,l8,AOI,'percentile90').set({\"Year\":year,'Name':year+'_L8_processed'})\n",
        "\n",
        "l8_2023_prj = l8_2023.reproject('EPSG:4326',scale=scale)\n"
      ]
    },
    {
      "cell_type": "code",
      "execution_count": null,
      "metadata": {
        "colab": {
          "base_uri": "https://localhost:8080/",
          "height": 17
        },
        "id": "yePQG21LZiGx",
        "outputId": "76c86bdc-ae7e-4946-f831-9881d8c789a8"
      },
      "outputs": [
        {
          "output_type": "display_data",
          "data": {
            "text/plain": [
              "<IPython.core.display.HTML object>"
            ],
            "text/html": [
              "\n",
              "            <style>\n",
              "                .geemap-dark {\n",
              "                    --jp-widgets-color: white;\n",
              "                    --jp-widgets-label-color: white;\n",
              "                    --jp-ui-font-color1: white;\n",
              "                    --jp-layout-color2: #454545;\n",
              "                    background-color: #383838;\n",
              "                }\n",
              "\n",
              "                .geemap-dark .jupyter-button {\n",
              "                    --jp-layout-color3: #383838;\n",
              "                }\n",
              "\n",
              "                .geemap-colab {\n",
              "                    background-color: var(--colab-primary-surface-color, white);\n",
              "                }\n",
              "\n",
              "                .geemap-colab .jupyter-button {\n",
              "                    --jp-layout-color3: var(--colab-primary-surface-color, white);\n",
              "                }\n",
              "            </style>\n",
              "            "
            ]
          },
          "metadata": {}
        }
      ],
      "source": [
        "# imageList = [l8_2010,l8_2011,l8_2012,l8_2013,l8_2014,l8_2015,l8_2015,l8_2016,l8_2017,l8_2018,\n",
        "#              l8_2019,l8_2020,l8_2021,l8_2022,l8_2023]\n",
        "imageList = [l8_2010_prj,l8_2011_prj,l8_2012_prj,l8_2013_prj,l8_2014_prj,l8_2015_prj,l8_2016_prj,\n",
        "             l8_2017_prj,l8_2018_prj,l8_2019_prj,l8_2020_prj,l8_2021_prj,l8_2022_prj,l8_2023_prj]"
      ]
    },
    {
      "cell_type": "code",
      "execution_count": null,
      "metadata": {
        "colab": {
          "base_uri": "https://localhost:8080/",
          "height": 17
        },
        "id": "GAsVe5OqZrco",
        "outputId": "b1053176-c273-4341-e90d-7b372b675b91"
      },
      "outputs": [
        {
          "output_type": "display_data",
          "data": {
            "text/plain": [
              "<IPython.core.display.HTML object>"
            ],
            "text/html": [
              "\n",
              "            <style>\n",
              "                .geemap-dark {\n",
              "                    --jp-widgets-color: white;\n",
              "                    --jp-widgets-label-color: white;\n",
              "                    --jp-ui-font-color1: white;\n",
              "                    --jp-layout-color2: #454545;\n",
              "                    background-color: #383838;\n",
              "                }\n",
              "\n",
              "                .geemap-dark .jupyter-button {\n",
              "                    --jp-layout-color3: #383838;\n",
              "                }\n",
              "\n",
              "                .geemap-colab {\n",
              "                    background-color: var(--colab-primary-surface-color, white);\n",
              "                }\n",
              "\n",
              "                .geemap-colab .jupyter-button {\n",
              "                    --jp-layout-color3: var(--colab-primary-surface-color, white);\n",
              "                }\n",
              "            </style>\n",
              "            "
            ]
          },
          "metadata": {}
        }
      ],
      "source": [
        "# // Merge the list of images into an image collection\n",
        "imgcol = ee.ImageCollection.fromImages(imageList)"
      ]
    },
    {
      "cell_type": "code",
      "execution_count": null,
      "metadata": {
        "colab": {
          "base_uri": "https://localhost:8080/",
          "height": 17
        },
        "id": "i6mBVbSlZuOu",
        "outputId": "727030fe-70e7-4840-cdb8-33cf4cb5fe3e",
        "collapsed": true
      },
      "outputs": [
        {
          "output_type": "display_data",
          "data": {
            "text/plain": [
              "<IPython.core.display.HTML object>"
            ],
            "text/html": [
              "\n",
              "            <style>\n",
              "                .geemap-dark {\n",
              "                    --jp-widgets-color: white;\n",
              "                    --jp-widgets-label-color: white;\n",
              "                    --jp-ui-font-color1: white;\n",
              "                    --jp-layout-color2: #454545;\n",
              "                    background-color: #383838;\n",
              "                }\n",
              "\n",
              "                .geemap-dark .jupyter-button {\n",
              "                    --jp-layout-color3: #383838;\n",
              "                }\n",
              "\n",
              "                .geemap-colab {\n",
              "                    background-color: var(--colab-primary-surface-color, white);\n",
              "                }\n",
              "\n",
              "                .geemap-colab .jupyter-button {\n",
              "                    --jp-layout-color3: var(--colab-primary-surface-color, white);\n",
              "                }\n",
              "            </style>\n",
              "            "
            ]
          },
          "metadata": {}
        }
      ],
      "source": [
        "imgcol_ = imgcol.toBands()\n",
        "# imgcol_\n"
      ]
    },
    {
      "cell_type": "markdown",
      "metadata": {
        "id": "ckz98hnLvu7X"
      },
      "source": [
        "# Export L8 CSV"
      ]
    },
    {
      "cell_type": "code",
      "execution_count": null,
      "metadata": {
        "colab": {
          "base_uri": "https://localhost:8080/"
        },
        "id": "1HadAPQtZwkX",
        "outputId": "f2a1877a-dbf7-40a1-9300-9a97de392abc"
      },
      "outputs": [
        {
          "output_type": "display_data",
          "data": {
            "text/plain": [
              "<IPython.core.display.HTML object>"
            ],
            "text/html": [
              "\n",
              "            <style>\n",
              "                .geemap-dark {\n",
              "                    --jp-widgets-color: white;\n",
              "                    --jp-widgets-label-color: white;\n",
              "                    --jp-ui-font-color1: white;\n",
              "                    --jp-layout-color2: #454545;\n",
              "                    background-color: #383838;\n",
              "                }\n",
              "\n",
              "                .geemap-dark .jupyter-button {\n",
              "                    --jp-layout-color3: #383838;\n",
              "                }\n",
              "\n",
              "                .geemap-colab {\n",
              "                    background-color: var(--colab-primary-surface-color, white);\n",
              "                }\n",
              "\n",
              "                .geemap-colab .jupyter-button {\n",
              "                    --jp-layout-color3: var(--colab-primary-surface-color, white);\n",
              "                }\n",
              "            </style>\n",
              "            "
            ]
          },
          "metadata": {}
        }
      ],
      "source": [
        "# # Reduce Regions to Counties\n",
        "# test_reg = l8_2010.reduceRegions(**{\n",
        "#     'collection':prod,\n",
        "#     'reducer': ee.Reducer.mean(),\n",
        "#     'scale': 30,\n",
        "\n",
        "# })\n"
      ]
    },
    {
      "cell_type": "code",
      "execution_count": null,
      "metadata": {
        "colab": {
          "base_uri": "https://localhost:8080/"
        },
        "id": "ZPfW2lAFZ3lc",
        "outputId": "6f803250-c3ae-4ba0-c594-95fc5594df36"
      },
      "outputs": [
        {
          "output_type": "display_data",
          "data": {
            "text/plain": [
              "<IPython.core.display.HTML object>"
            ],
            "text/html": [
              "\n",
              "            <style>\n",
              "                .geemap-dark {\n",
              "                    --jp-widgets-color: white;\n",
              "                    --jp-widgets-label-color: white;\n",
              "                    --jp-ui-font-color1: white;\n",
              "                    --jp-layout-color2: #454545;\n",
              "                    background-color: #383838;\n",
              "                }\n",
              "\n",
              "                .geemap-dark .jupyter-button {\n",
              "                    --jp-layout-color3: #383838;\n",
              "                }\n",
              "\n",
              "                .geemap-colab {\n",
              "                    background-color: var(--colab-primary-surface-color, white);\n",
              "                }\n",
              "\n",
              "                .geemap-colab .jupyter-button {\n",
              "                    --jp-layout-color3: var(--colab-primary-surface-color, white);\n",
              "                }\n",
              "            </style>\n",
              "            "
            ]
          },
          "metadata": {}
        }
      ],
      "source": [
        "# geemap.ee_export_vector(test_reg, 'l8_agg_2010.csv')"
      ]
    },
    {
      "cell_type": "code",
      "execution_count": null,
      "metadata": {
        "colab": {
          "base_uri": "https://localhost:8080/"
        },
        "id": "p73Y_vn0emiY",
        "outputId": "f2e61d74-29d3-47e8-fb91-775f32abdfe1"
      },
      "outputs": [
        {
          "output_type": "display_data",
          "data": {
            "text/plain": [
              "<IPython.core.display.HTML object>"
            ],
            "text/html": [
              "\n",
              "            <style>\n",
              "                .geemap-dark {\n",
              "                    --jp-widgets-color: white;\n",
              "                    --jp-widgets-label-color: white;\n",
              "                    --jp-ui-font-color1: white;\n",
              "                    --jp-layout-color2: #454545;\n",
              "                    background-color: #383838;\n",
              "                }\n",
              "\n",
              "                .geemap-dark .jupyter-button {\n",
              "                    --jp-layout-color3: #383838;\n",
              "                }\n",
              "\n",
              "                .geemap-colab {\n",
              "                    background-color: var(--colab-primary-surface-color, white);\n",
              "                }\n",
              "\n",
              "                .geemap-colab .jupyter-button {\n",
              "                    --jp-layout-color3: var(--colab-primary-surface-color, white);\n",
              "                }\n",
              "            </style>\n",
              "            "
            ]
          },
          "metadata": {}
        }
      ],
      "source": [
        "# # Reduce Regions to Counties\n",
        "# test_reg = l8_2011.reduceRegions(**{\n",
        "#     'collection':prod,\n",
        "#     'reducer': ee.Reducer.mean(),\n",
        "#     'scale': 30,\n",
        "\n",
        "# })\n"
      ]
    },
    {
      "cell_type": "code",
      "execution_count": null,
      "metadata": {
        "colab": {
          "base_uri": "https://localhost:8080/"
        },
        "id": "2e5koR1YemL-",
        "outputId": "cee37d5c-b061-4fdc-9319-6f3d9eb303e1"
      },
      "outputs": [
        {
          "output_type": "display_data",
          "data": {
            "text/plain": [
              "<IPython.core.display.HTML object>"
            ],
            "text/html": [
              "\n",
              "            <style>\n",
              "                .geemap-dark {\n",
              "                    --jp-widgets-color: white;\n",
              "                    --jp-widgets-label-color: white;\n",
              "                    --jp-ui-font-color1: white;\n",
              "                    --jp-layout-color2: #454545;\n",
              "                    background-color: #383838;\n",
              "                }\n",
              "\n",
              "                .geemap-dark .jupyter-button {\n",
              "                    --jp-layout-color3: #383838;\n",
              "                }\n",
              "\n",
              "                .geemap-colab {\n",
              "                    background-color: var(--colab-primary-surface-color, white);\n",
              "                }\n",
              "\n",
              "                .geemap-colab .jupyter-button {\n",
              "                    --jp-layout-color3: var(--colab-primary-surface-color, white);\n",
              "                }\n",
              "            </style>\n",
              "            "
            ]
          },
          "metadata": {}
        }
      ],
      "source": [
        "# geemap.ee_export_vector(test_reg, 'l8_agg_2011.csv')"
      ]
    },
    {
      "cell_type": "code",
      "execution_count": null,
      "metadata": {
        "colab": {
          "base_uri": "https://localhost:8080/"
        },
        "id": "ceVdhTr5evUf",
        "outputId": "bd797b82-a679-4b1b-94c9-f1e0d3dbbe8a"
      },
      "outputs": [
        {
          "output_type": "display_data",
          "data": {
            "text/plain": [
              "<IPython.core.display.HTML object>"
            ],
            "text/html": [
              "\n",
              "            <style>\n",
              "                .geemap-dark {\n",
              "                    --jp-widgets-color: white;\n",
              "                    --jp-widgets-label-color: white;\n",
              "                    --jp-ui-font-color1: white;\n",
              "                    --jp-layout-color2: #454545;\n",
              "                    background-color: #383838;\n",
              "                }\n",
              "\n",
              "                .geemap-dark .jupyter-button {\n",
              "                    --jp-layout-color3: #383838;\n",
              "                }\n",
              "\n",
              "                .geemap-colab {\n",
              "                    background-color: var(--colab-primary-surface-color, white);\n",
              "                }\n",
              "\n",
              "                .geemap-colab .jupyter-button {\n",
              "                    --jp-layout-color3: var(--colab-primary-surface-color, white);\n",
              "                }\n",
              "            </style>\n",
              "            "
            ]
          },
          "metadata": {}
        }
      ],
      "source": [
        "# Reduce Regions to Counties\n",
        "# test_reg = l8_2012.reduceRegions(**{\n",
        "#     'collection':prod,\n",
        "#     'reducer': ee.Reducer.mean(),\n",
        "#     'scale': 30,\n",
        "\n",
        "# })\n"
      ]
    },
    {
      "cell_type": "code",
      "execution_count": null,
      "metadata": {
        "colab": {
          "base_uri": "https://localhost:8080/"
        },
        "id": "v1z8BOulevJj",
        "outputId": "327425b3-6b84-4338-feea-5f22fed702ba"
      },
      "outputs": [
        {
          "output_type": "display_data",
          "data": {
            "text/plain": [
              "<IPython.core.display.HTML object>"
            ],
            "text/html": [
              "\n",
              "            <style>\n",
              "                .geemap-dark {\n",
              "                    --jp-widgets-color: white;\n",
              "                    --jp-widgets-label-color: white;\n",
              "                    --jp-ui-font-color1: white;\n",
              "                    --jp-layout-color2: #454545;\n",
              "                    background-color: #383838;\n",
              "                }\n",
              "\n",
              "                .geemap-dark .jupyter-button {\n",
              "                    --jp-layout-color3: #383838;\n",
              "                }\n",
              "\n",
              "                .geemap-colab {\n",
              "                    background-color: var(--colab-primary-surface-color, white);\n",
              "                }\n",
              "\n",
              "                .geemap-colab .jupyter-button {\n",
              "                    --jp-layout-color3: var(--colab-primary-surface-color, white);\n",
              "                }\n",
              "            </style>\n",
              "            "
            ]
          },
          "metadata": {}
        }
      ],
      "source": [
        "# geemap.ee_export_vector(test_reg, 'l8_agg_2012.csv')"
      ]
    },
    {
      "cell_type": "code",
      "execution_count": null,
      "metadata": {
        "colab": {
          "base_uri": "https://localhost:8080/"
        },
        "id": "x09aB4aZe1Cf",
        "outputId": "64d34e57-f9d1-4cfa-a5c5-226a8052321d"
      },
      "outputs": [
        {
          "output_type": "display_data",
          "data": {
            "text/plain": [
              "<IPython.core.display.HTML object>"
            ],
            "text/html": [
              "\n",
              "            <style>\n",
              "                .geemap-dark {\n",
              "                    --jp-widgets-color: white;\n",
              "                    --jp-widgets-label-color: white;\n",
              "                    --jp-ui-font-color1: white;\n",
              "                    --jp-layout-color2: #454545;\n",
              "                    background-color: #383838;\n",
              "                }\n",
              "\n",
              "                .geemap-dark .jupyter-button {\n",
              "                    --jp-layout-color3: #383838;\n",
              "                }\n",
              "\n",
              "                .geemap-colab {\n",
              "                    background-color: var(--colab-primary-surface-color, white);\n",
              "                }\n",
              "\n",
              "                .geemap-colab .jupyter-button {\n",
              "                    --jp-layout-color3: var(--colab-primary-surface-color, white);\n",
              "                }\n",
              "            </style>\n",
              "            "
            ]
          },
          "metadata": {}
        }
      ],
      "source": [
        "# # Reduce Regions to Counties\n",
        "# test_reg = l8_2013.reduceRegions(**{\n",
        "#     'collection':prod,\n",
        "# #     'reducer': ee.Reducer.mean(),\n",
        "# #     'scale': 30,\n",
        "\n",
        "# })"
      ]
    },
    {
      "cell_type": "code",
      "execution_count": null,
      "metadata": {
        "colab": {
          "base_uri": "https://localhost:8080/"
        },
        "id": "CXvaQKA6e02m",
        "outputId": "8b480ccc-47ea-4212-f5f6-fb0722070890"
      },
      "outputs": [
        {
          "output_type": "display_data",
          "data": {
            "text/plain": [
              "<IPython.core.display.HTML object>"
            ],
            "text/html": [
              "\n",
              "            <style>\n",
              "                .geemap-dark {\n",
              "                    --jp-widgets-color: white;\n",
              "                    --jp-widgets-label-color: white;\n",
              "                    --jp-ui-font-color1: white;\n",
              "                    --jp-layout-color2: #454545;\n",
              "                    background-color: #383838;\n",
              "                }\n",
              "\n",
              "                .geemap-dark .jupyter-button {\n",
              "                    --jp-layout-color3: #383838;\n",
              "                }\n",
              "\n",
              "                .geemap-colab {\n",
              "                    background-color: var(--colab-primary-surface-color, white);\n",
              "                }\n",
              "\n",
              "                .geemap-colab .jupyter-button {\n",
              "                    --jp-layout-color3: var(--colab-primary-surface-color, white);\n",
              "                }\n",
              "            </style>\n",
              "            "
            ]
          },
          "metadata": {}
        }
      ],
      "source": [
        "# geemap.ee_export_vector(test_reg, 'l8_agg_2013.csv')"
      ]
    },
    {
      "cell_type": "code",
      "execution_count": null,
      "metadata": {
        "colab": {
          "base_uri": "https://localhost:8080/"
        },
        "id": "oM3cO7qOfX-f",
        "outputId": "e81785ff-4434-4a4b-b5a5-7247ea22c8da"
      },
      "outputs": [
        {
          "output_type": "display_data",
          "data": {
            "text/plain": [
              "<IPython.core.display.HTML object>"
            ],
            "text/html": [
              "\n",
              "            <style>\n",
              "                .geemap-dark {\n",
              "                    --jp-widgets-color: white;\n",
              "                    --jp-widgets-label-color: white;\n",
              "                    --jp-ui-font-color1: white;\n",
              "                    --jp-layout-color2: #454545;\n",
              "                    background-color: #383838;\n",
              "                }\n",
              "\n",
              "                .geemap-dark .jupyter-button {\n",
              "                    --jp-layout-color3: #383838;\n",
              "                }\n",
              "\n",
              "                .geemap-colab {\n",
              "                    background-color: var(--colab-primary-surface-color, white);\n",
              "                }\n",
              "\n",
              "                .geemap-colab .jupyter-button {\n",
              "                    --jp-layout-color3: var(--colab-primary-surface-color, white);\n",
              "                }\n",
              "            </style>\n",
              "            "
            ]
          },
          "metadata": {}
        }
      ],
      "source": [
        "# # Reduce Regions to Counties\n",
        "# test_reg = l8_2014.reduceRegions(**{\n",
        "#     'collection':prod,\n",
        "#     'reducer': ee.Reducer.mean(),\n",
        "#     'scale': 30,\n",
        "\n",
        "# })\n"
      ]
    },
    {
      "cell_type": "code",
      "execution_count": null,
      "metadata": {
        "colab": {
          "base_uri": "https://localhost:8080/"
        },
        "id": "4v8yH65de3dj",
        "outputId": "af67a33b-ec26-48e5-f1b9-2408a0698274"
      },
      "outputs": [
        {
          "output_type": "display_data",
          "data": {
            "text/plain": [
              "<IPython.core.display.HTML object>"
            ],
            "text/html": [
              "\n",
              "            <style>\n",
              "                .geemap-dark {\n",
              "                    --jp-widgets-color: white;\n",
              "                    --jp-widgets-label-color: white;\n",
              "                    --jp-ui-font-color1: white;\n",
              "                    --jp-layout-color2: #454545;\n",
              "                    background-color: #383838;\n",
              "                }\n",
              "\n",
              "                .geemap-dark .jupyter-button {\n",
              "                    --jp-layout-color3: #383838;\n",
              "                }\n",
              "\n",
              "                .geemap-colab {\n",
              "                    background-color: var(--colab-primary-surface-color, white);\n",
              "                }\n",
              "\n",
              "                .geemap-colab .jupyter-button {\n",
              "                    --jp-layout-color3: var(--colab-primary-surface-color, white);\n",
              "                }\n",
              "            </style>\n",
              "            "
            ]
          },
          "metadata": {}
        }
      ],
      "source": [
        "# geemap.ee_export_vector(test_reg, 'l8_agg_2014.csv')"
      ]
    },
    {
      "cell_type": "code",
      "execution_count": null,
      "metadata": {
        "colab": {
          "base_uri": "https://localhost:8080/"
        },
        "id": "rvhnw6DIfafy",
        "outputId": "38f54c68-4a11-46da-e28c-8d914931f8f5"
      },
      "outputs": [
        {
          "output_type": "display_data",
          "data": {
            "text/plain": [
              "<IPython.core.display.HTML object>"
            ],
            "text/html": [
              "\n",
              "            <style>\n",
              "                .geemap-dark {\n",
              "                    --jp-widgets-color: white;\n",
              "                    --jp-widgets-label-color: white;\n",
              "                    --jp-ui-font-color1: white;\n",
              "                    --jp-layout-color2: #454545;\n",
              "                    background-color: #383838;\n",
              "                }\n",
              "\n",
              "                .geemap-dark .jupyter-button {\n",
              "                    --jp-layout-color3: #383838;\n",
              "                }\n",
              "\n",
              "                .geemap-colab {\n",
              "                    background-color: var(--colab-primary-surface-color, white);\n",
              "                }\n",
              "\n",
              "                .geemap-colab .jupyter-button {\n",
              "                    --jp-layout-color3: var(--colab-primary-surface-color, white);\n",
              "                }\n",
              "            </style>\n",
              "            "
            ]
          },
          "metadata": {}
        }
      ],
      "source": [
        "# # Reduce Regions to Counties\n",
        "# test_reg = l8_2015.reduceRegions(**{\n",
        "#     'collection':prod,\n",
        "#     'reducer': ee.Reducer.mean(),\n",
        "#     'scale': 30,\n",
        "\n",
        "# })\n"
      ]
    },
    {
      "cell_type": "code",
      "execution_count": null,
      "metadata": {
        "colab": {
          "base_uri": "https://localhost:8080/"
        },
        "id": "kT6TuDwpe9Ds",
        "outputId": "2330531b-ce24-4af8-9eec-70c14ee9e2b3"
      },
      "outputs": [
        {
          "output_type": "display_data",
          "data": {
            "text/plain": [
              "<IPython.core.display.HTML object>"
            ],
            "text/html": [
              "\n",
              "            <style>\n",
              "                .geemap-dark {\n",
              "                    --jp-widgets-color: white;\n",
              "                    --jp-widgets-label-color: white;\n",
              "                    --jp-ui-font-color1: white;\n",
              "                    --jp-layout-color2: #454545;\n",
              "                    background-color: #383838;\n",
              "                }\n",
              "\n",
              "                .geemap-dark .jupyter-button {\n",
              "                    --jp-layout-color3: #383838;\n",
              "                }\n",
              "\n",
              "                .geemap-colab {\n",
              "                    background-color: var(--colab-primary-surface-color, white);\n",
              "                }\n",
              "\n",
              "                .geemap-colab .jupyter-button {\n",
              "                    --jp-layout-color3: var(--colab-primary-surface-color, white);\n",
              "                }\n",
              "            </style>\n",
              "            "
            ]
          },
          "metadata": {}
        }
      ],
      "source": [
        "# geemap.ee_export_vector(test_reg, 'l8_agg_2015.csv')"
      ]
    },
    {
      "cell_type": "code",
      "execution_count": null,
      "metadata": {
        "colab": {
          "base_uri": "https://localhost:8080/"
        },
        "id": "1xoWaZKlfc2r",
        "outputId": "61f17695-d90b-4c6f-ef63-297cdec89e0d"
      },
      "outputs": [
        {
          "output_type": "display_data",
          "data": {
            "text/plain": [
              "<IPython.core.display.HTML object>"
            ],
            "text/html": [
              "\n",
              "            <style>\n",
              "                .geemap-dark {\n",
              "                    --jp-widgets-color: white;\n",
              "                    --jp-widgets-label-color: white;\n",
              "                    --jp-ui-font-color1: white;\n",
              "                    --jp-layout-color2: #454545;\n",
              "                    background-color: #383838;\n",
              "                }\n",
              "\n",
              "                .geemap-dark .jupyter-button {\n",
              "                    --jp-layout-color3: #383838;\n",
              "                }\n",
              "\n",
              "                .geemap-colab {\n",
              "                    background-color: var(--colab-primary-surface-color, white);\n",
              "                }\n",
              "\n",
              "                .geemap-colab .jupyter-button {\n",
              "                    --jp-layout-color3: var(--colab-primary-surface-color, white);\n",
              "                }\n",
              "            </style>\n",
              "            "
            ]
          },
          "metadata": {}
        }
      ],
      "source": [
        "# Reduce Regions to Counties\n",
        "# test_reg = l8_2016.reduceRegions(**{\n",
        "#     'collection':prod,\n",
        "#     'reducer': ee.Reducer.mean(),\n",
        "#     'scale': 30,\n",
        "\n",
        "# })\n"
      ]
    },
    {
      "cell_type": "code",
      "execution_count": null,
      "metadata": {
        "colab": {
          "base_uri": "https://localhost:8080/"
        },
        "id": "GfPDLIe-e8eP",
        "outputId": "a116e5b8-9382-451d-a279-54eca4227c96"
      },
      "outputs": [
        {
          "output_type": "display_data",
          "data": {
            "text/plain": [
              "<IPython.core.display.HTML object>"
            ],
            "text/html": [
              "\n",
              "            <style>\n",
              "                .geemap-dark {\n",
              "                    --jp-widgets-color: white;\n",
              "                    --jp-widgets-label-color: white;\n",
              "                    --jp-ui-font-color1: white;\n",
              "                    --jp-layout-color2: #454545;\n",
              "                    background-color: #383838;\n",
              "                }\n",
              "\n",
              "                .geemap-dark .jupyter-button {\n",
              "                    --jp-layout-color3: #383838;\n",
              "                }\n",
              "\n",
              "                .geemap-colab {\n",
              "                    background-color: var(--colab-primary-surface-color, white);\n",
              "                }\n",
              "\n",
              "                .geemap-colab .jupyter-button {\n",
              "                    --jp-layout-color3: var(--colab-primary-surface-color, white);\n",
              "                }\n",
              "            </style>\n",
              "            "
            ]
          },
          "metadata": {}
        }
      ],
      "source": [
        "# geemap.ee_export_vector(test_reg, 'l8_agg_2016.csv')"
      ]
    },
    {
      "cell_type": "code",
      "execution_count": null,
      "metadata": {
        "colab": {
          "base_uri": "https://localhost:8080/"
        },
        "id": "s8S_3hFRfgv2",
        "outputId": "82faba71-bfd9-4e37-d636-a4528b200e75"
      },
      "outputs": [
        {
          "output_type": "display_data",
          "data": {
            "text/plain": [
              "<IPython.core.display.HTML object>"
            ],
            "text/html": [
              "\n",
              "            <style>\n",
              "                .geemap-dark {\n",
              "                    --jp-widgets-color: white;\n",
              "                    --jp-widgets-label-color: white;\n",
              "                    --jp-ui-font-color1: white;\n",
              "                    --jp-layout-color2: #454545;\n",
              "                    background-color: #383838;\n",
              "                }\n",
              "\n",
              "                .geemap-dark .jupyter-button {\n",
              "                    --jp-layout-color3: #383838;\n",
              "                }\n",
              "\n",
              "                .geemap-colab {\n",
              "                    background-color: var(--colab-primary-surface-color, white);\n",
              "                }\n",
              "\n",
              "                .geemap-colab .jupyter-button {\n",
              "                    --jp-layout-color3: var(--colab-primary-surface-color, white);\n",
              "                }\n",
              "            </style>\n",
              "            "
            ]
          },
          "metadata": {}
        }
      ],
      "source": [
        "# # Reduce Regions to Counties\n",
        "# test_reg = l8_2017.reduceRegions(**{\n",
        "#     'collection':prod,\n",
        "#     'reducer': ee.Reducer.mean(),\n",
        "#     'scale': 30,\n",
        "\n",
        "# })\n"
      ]
    },
    {
      "cell_type": "code",
      "execution_count": null,
      "metadata": {
        "colab": {
          "base_uri": "https://localhost:8080/"
        },
        "id": "C18o-rf3e8CH",
        "outputId": "04fc341a-55c9-46af-ae77-40c14f9f99db"
      },
      "outputs": [
        {
          "output_type": "display_data",
          "data": {
            "text/plain": [
              "<IPython.core.display.HTML object>"
            ],
            "text/html": [
              "\n",
              "            <style>\n",
              "                .geemap-dark {\n",
              "                    --jp-widgets-color: white;\n",
              "                    --jp-widgets-label-color: white;\n",
              "                    --jp-ui-font-color1: white;\n",
              "                    --jp-layout-color2: #454545;\n",
              "                    background-color: #383838;\n",
              "                }\n",
              "\n",
              "                .geemap-dark .jupyter-button {\n",
              "                    --jp-layout-color3: #383838;\n",
              "                }\n",
              "\n",
              "                .geemap-colab {\n",
              "                    background-color: var(--colab-primary-surface-color, white);\n",
              "                }\n",
              "\n",
              "                .geemap-colab .jupyter-button {\n",
              "                    --jp-layout-color3: var(--colab-primary-surface-color, white);\n",
              "                }\n",
              "            </style>\n",
              "            "
            ]
          },
          "metadata": {}
        }
      ],
      "source": [
        "# geemap.ee_export_vector(test_reg, 'l8_agg_2017.csv')"
      ]
    },
    {
      "cell_type": "code",
      "execution_count": null,
      "metadata": {
        "colab": {
          "base_uri": "https://localhost:8080/"
        },
        "id": "rWVhfLxofiZP",
        "outputId": "c5dd0b42-dc33-4d72-c592-1c7a8a4fb58f"
      },
      "outputs": [
        {
          "output_type": "display_data",
          "data": {
            "text/plain": [
              "<IPython.core.display.HTML object>"
            ],
            "text/html": [
              "\n",
              "            <style>\n",
              "                .geemap-dark {\n",
              "                    --jp-widgets-color: white;\n",
              "                    --jp-widgets-label-color: white;\n",
              "                    --jp-ui-font-color1: white;\n",
              "                    --jp-layout-color2: #454545;\n",
              "                    background-color: #383838;\n",
              "                }\n",
              "\n",
              "                .geemap-dark .jupyter-button {\n",
              "                    --jp-layout-color3: #383838;\n",
              "                }\n",
              "\n",
              "                .geemap-colab {\n",
              "                    background-color: var(--colab-primary-surface-color, white);\n",
              "                }\n",
              "\n",
              "                .geemap-colab .jupyter-button {\n",
              "                    --jp-layout-color3: var(--colab-primary-surface-color, white);\n",
              "                }\n",
              "            </style>\n",
              "            "
            ]
          },
          "metadata": {}
        }
      ],
      "source": [
        "# # Reduce Regions to Counties\n",
        "# test_reg = l8_2018.reduceRegions(**{\n",
        "#     'collection':prod,\n",
        "#     'reducer': ee.Reducer.mean(),\n",
        "#     'scale': 30,\n",
        "\n",
        "# })\n"
      ]
    },
    {
      "cell_type": "code",
      "execution_count": null,
      "metadata": {
        "colab": {
          "base_uri": "https://localhost:8080/"
        },
        "id": "L5kVIkcGe7oF",
        "outputId": "2f1ccd64-311f-4586-8808-fcd9047c728f"
      },
      "outputs": [
        {
          "output_type": "display_data",
          "data": {
            "text/plain": [
              "<IPython.core.display.HTML object>"
            ],
            "text/html": [
              "\n",
              "            <style>\n",
              "                .geemap-dark {\n",
              "                    --jp-widgets-color: white;\n",
              "                    --jp-widgets-label-color: white;\n",
              "                    --jp-ui-font-color1: white;\n",
              "                    --jp-layout-color2: #454545;\n",
              "                    background-color: #383838;\n",
              "                }\n",
              "\n",
              "                .geemap-dark .jupyter-button {\n",
              "                    --jp-layout-color3: #383838;\n",
              "                }\n",
              "\n",
              "                .geemap-colab {\n",
              "                    background-color: var(--colab-primary-surface-color, white);\n",
              "                }\n",
              "\n",
              "                .geemap-colab .jupyter-button {\n",
              "                    --jp-layout-color3: var(--colab-primary-surface-color, white);\n",
              "                }\n",
              "            </style>\n",
              "            "
            ]
          },
          "metadata": {}
        }
      ],
      "source": [
        "# geemap.ee_export_vector(test_reg, 'l8_agg_2018.csv')"
      ]
    },
    {
      "cell_type": "code",
      "execution_count": null,
      "metadata": {
        "colab": {
          "base_uri": "https://localhost:8080/"
        },
        "id": "tcPihUAzfkyj",
        "outputId": "c9e20dbc-ba90-4610-b9b4-735226205759"
      },
      "outputs": [
        {
          "output_type": "display_data",
          "data": {
            "text/plain": [
              "<IPython.core.display.HTML object>"
            ],
            "text/html": [
              "\n",
              "            <style>\n",
              "                .geemap-dark {\n",
              "                    --jp-widgets-color: white;\n",
              "                    --jp-widgets-label-color: white;\n",
              "                    --jp-ui-font-color1: white;\n",
              "                    --jp-layout-color2: #454545;\n",
              "                    background-color: #383838;\n",
              "                }\n",
              "\n",
              "                .geemap-dark .jupyter-button {\n",
              "                    --jp-layout-color3: #383838;\n",
              "                }\n",
              "\n",
              "                .geemap-colab {\n",
              "                    background-color: var(--colab-primary-surface-color, white);\n",
              "                }\n",
              "\n",
              "                .geemap-colab .jupyter-button {\n",
              "                    --jp-layout-color3: var(--colab-primary-surface-color, white);\n",
              "                }\n",
              "            </style>\n",
              "            "
            ]
          },
          "metadata": {}
        }
      ],
      "source": [
        "# # Reduce Regions to Counties\n",
        "# test_reg = l8_2019.reduceRegions(**{\n",
        "#     'collection':prod,\n",
        "#     'reducer': ee.Reducer.mean(),\n",
        "#     'scale': 30,\n",
        "\n",
        "# })\n"
      ]
    },
    {
      "cell_type": "code",
      "execution_count": null,
      "metadata": {
        "colab": {
          "base_uri": "https://localhost:8080/"
        },
        "id": "CCR-0oJRe7PW",
        "outputId": "f5ba674e-e616-4c1f-a6c9-073c72dae905"
      },
      "outputs": [
        {
          "output_type": "display_data",
          "data": {
            "text/plain": [
              "<IPython.core.display.HTML object>"
            ],
            "text/html": [
              "\n",
              "            <style>\n",
              "                .geemap-dark {\n",
              "                    --jp-widgets-color: white;\n",
              "                    --jp-widgets-label-color: white;\n",
              "                    --jp-ui-font-color1: white;\n",
              "                    --jp-layout-color2: #454545;\n",
              "                    background-color: #383838;\n",
              "                }\n",
              "\n",
              "                .geemap-dark .jupyter-button {\n",
              "                    --jp-layout-color3: #383838;\n",
              "                }\n",
              "\n",
              "                .geemap-colab {\n",
              "                    background-color: var(--colab-primary-surface-color, white);\n",
              "                }\n",
              "\n",
              "                .geemap-colab .jupyter-button {\n",
              "                    --jp-layout-color3: var(--colab-primary-surface-color, white);\n",
              "                }\n",
              "            </style>\n",
              "            "
            ]
          },
          "metadata": {}
        }
      ],
      "source": [
        "# geemap.ee_export_vector(test_reg, 'l8_agg_2019.csv')"
      ]
    },
    {
      "cell_type": "code",
      "execution_count": null,
      "metadata": {
        "colab": {
          "base_uri": "https://localhost:8080/"
        },
        "id": "GQT-oJI6fmia",
        "outputId": "e61a1a56-8f1f-4db6-9dbc-f93255f7e43b"
      },
      "outputs": [
        {
          "output_type": "display_data",
          "data": {
            "text/plain": [
              "<IPython.core.display.HTML object>"
            ],
            "text/html": [
              "\n",
              "            <style>\n",
              "                .geemap-dark {\n",
              "                    --jp-widgets-color: white;\n",
              "                    --jp-widgets-label-color: white;\n",
              "                    --jp-ui-font-color1: white;\n",
              "                    --jp-layout-color2: #454545;\n",
              "                    background-color: #383838;\n",
              "                }\n",
              "\n",
              "                .geemap-dark .jupyter-button {\n",
              "                    --jp-layout-color3: #383838;\n",
              "                }\n",
              "\n",
              "                .geemap-colab {\n",
              "                    background-color: var(--colab-primary-surface-color, white);\n",
              "                }\n",
              "\n",
              "                .geemap-colab .jupyter-button {\n",
              "                    --jp-layout-color3: var(--colab-primary-surface-color, white);\n",
              "                }\n",
              "            </style>\n",
              "            "
            ]
          },
          "metadata": {}
        }
      ],
      "source": [
        "# # Reduce Regions to Counties\n",
        "# test_reg = l8_2020.reduceRegions(**{\n",
        "#     'collection':prod,\n",
        "#     'reducer': ee.Reducer.mean(),\n",
        "#     'scale': 30,\n",
        "# })\n"
      ]
    },
    {
      "cell_type": "code",
      "execution_count": null,
      "metadata": {
        "colab": {
          "base_uri": "https://localhost:8080/"
        },
        "id": "PN17Ijiwe6Ec",
        "outputId": "39663502-9fa9-4180-fee0-555a692da38e"
      },
      "outputs": [
        {
          "output_type": "display_data",
          "data": {
            "text/plain": [
              "<IPython.core.display.HTML object>"
            ],
            "text/html": [
              "\n",
              "            <style>\n",
              "                .geemap-dark {\n",
              "                    --jp-widgets-color: white;\n",
              "                    --jp-widgets-label-color: white;\n",
              "                    --jp-ui-font-color1: white;\n",
              "                    --jp-layout-color2: #454545;\n",
              "                    background-color: #383838;\n",
              "                }\n",
              "\n",
              "                .geemap-dark .jupyter-button {\n",
              "                    --jp-layout-color3: #383838;\n",
              "                }\n",
              "\n",
              "                .geemap-colab {\n",
              "                    background-color: var(--colab-primary-surface-color, white);\n",
              "                }\n",
              "\n",
              "                .geemap-colab .jupyter-button {\n",
              "                    --jp-layout-color3: var(--colab-primary-surface-color, white);\n",
              "                }\n",
              "            </style>\n",
              "            "
            ]
          },
          "metadata": {}
        }
      ],
      "source": [
        "# geemap.ee_export_vector(test_reg, 'l8_agg_2020.csv')"
      ]
    },
    {
      "cell_type": "code",
      "execution_count": null,
      "metadata": {
        "colab": {
          "base_uri": "https://localhost:8080/"
        },
        "id": "ZGF32u_Tfoyc",
        "outputId": "d4793a5b-48c3-41c6-a0a3-71b2766d60fe"
      },
      "outputs": [
        {
          "output_type": "display_data",
          "data": {
            "text/plain": [
              "<IPython.core.display.HTML object>"
            ],
            "text/html": [
              "\n",
              "            <style>\n",
              "                .geemap-dark {\n",
              "                    --jp-widgets-color: white;\n",
              "                    --jp-widgets-label-color: white;\n",
              "                    --jp-ui-font-color1: white;\n",
              "                    --jp-layout-color2: #454545;\n",
              "                    background-color: #383838;\n",
              "                }\n",
              "\n",
              "                .geemap-dark .jupyter-button {\n",
              "                    --jp-layout-color3: #383838;\n",
              "                }\n",
              "\n",
              "                .geemap-colab {\n",
              "                    background-color: var(--colab-primary-surface-color, white);\n",
              "                }\n",
              "\n",
              "                .geemap-colab .jupyter-button {\n",
              "                    --jp-layout-color3: var(--colab-primary-surface-color, white);\n",
              "                }\n",
              "            </style>\n",
              "            "
            ]
          },
          "metadata": {}
        }
      ],
      "source": [
        "# # Reduce Regions to Counties\n",
        "# test_reg = l8_2021.reduceRegions(**{\n",
        "#     'collection':prod,\n",
        "#     'reducer': ee.Reducer.mean(),\n",
        "#     'scale': 30,\n",
        "\n",
        "# })\n"
      ]
    },
    {
      "cell_type": "code",
      "execution_count": null,
      "metadata": {
        "colab": {
          "base_uri": "https://localhost:8080/"
        },
        "id": "4hiIqmdEe5pl",
        "outputId": "7c351f98-cc9d-4314-999b-9244fdbd7671"
      },
      "outputs": [
        {
          "output_type": "display_data",
          "data": {
            "text/plain": [
              "<IPython.core.display.HTML object>"
            ],
            "text/html": [
              "\n",
              "            <style>\n",
              "                .geemap-dark {\n",
              "                    --jp-widgets-color: white;\n",
              "                    --jp-widgets-label-color: white;\n",
              "                    --jp-ui-font-color1: white;\n",
              "                    --jp-layout-color2: #454545;\n",
              "                    background-color: #383838;\n",
              "                }\n",
              "\n",
              "                .geemap-dark .jupyter-button {\n",
              "                    --jp-layout-color3: #383838;\n",
              "                }\n",
              "\n",
              "                .geemap-colab {\n",
              "                    background-color: var(--colab-primary-surface-color, white);\n",
              "                }\n",
              "\n",
              "                .geemap-colab .jupyter-button {\n",
              "                    --jp-layout-color3: var(--colab-primary-surface-color, white);\n",
              "                }\n",
              "            </style>\n",
              "            "
            ]
          },
          "metadata": {}
        }
      ],
      "source": [
        "# geemap.ee_export_vector(test_reg, 'l8_agg_2021.csv')"
      ]
    },
    {
      "cell_type": "code",
      "execution_count": null,
      "metadata": {
        "colab": {
          "base_uri": "https://localhost:8080/"
        },
        "id": "Yyogtx8Ifq7m",
        "outputId": "0c5872ee-71d7-469f-bd83-3e33fb5d8499"
      },
      "outputs": [
        {
          "output_type": "display_data",
          "data": {
            "text/plain": [
              "<IPython.core.display.HTML object>"
            ],
            "text/html": [
              "\n",
              "            <style>\n",
              "                .geemap-dark {\n",
              "                    --jp-widgets-color: white;\n",
              "                    --jp-widgets-label-color: white;\n",
              "                    --jp-ui-font-color1: white;\n",
              "                    --jp-layout-color2: #454545;\n",
              "                    background-color: #383838;\n",
              "                }\n",
              "\n",
              "                .geemap-dark .jupyter-button {\n",
              "                    --jp-layout-color3: #383838;\n",
              "                }\n",
              "\n",
              "                .geemap-colab {\n",
              "                    background-color: var(--colab-primary-surface-color, white);\n",
              "                }\n",
              "\n",
              "                .geemap-colab .jupyter-button {\n",
              "                    --jp-layout-color3: var(--colab-primary-surface-color, white);\n",
              "                }\n",
              "            </style>\n",
              "            "
            ]
          },
          "metadata": {}
        }
      ],
      "source": [
        "# Reduce Regions to Counties\n",
        "# test_reg = l8_2022.reduceRegions(**{\n",
        "#     'collection':prod,\n",
        "#     'reducer': ee.Reducer.mean(),\n",
        "#     'scale': 30,\n",
        "\n",
        "# })\n"
      ]
    },
    {
      "cell_type": "code",
      "execution_count": null,
      "metadata": {
        "colab": {
          "base_uri": "https://localhost:8080/"
        },
        "id": "3QS76Jmse5NJ",
        "outputId": "438796b9-f483-48b5-cff0-0282f632a4c7"
      },
      "outputs": [
        {
          "output_type": "display_data",
          "data": {
            "text/plain": [
              "<IPython.core.display.HTML object>"
            ],
            "text/html": [
              "\n",
              "            <style>\n",
              "                .geemap-dark {\n",
              "                    --jp-widgets-color: white;\n",
              "                    --jp-widgets-label-color: white;\n",
              "                    --jp-ui-font-color1: white;\n",
              "                    --jp-layout-color2: #454545;\n",
              "                    background-color: #383838;\n",
              "                }\n",
              "\n",
              "                .geemap-dark .jupyter-button {\n",
              "                    --jp-layout-color3: #383838;\n",
              "                }\n",
              "\n",
              "                .geemap-colab {\n",
              "                    background-color: var(--colab-primary-surface-color, white);\n",
              "                }\n",
              "\n",
              "                .geemap-colab .jupyter-button {\n",
              "                    --jp-layout-color3: var(--colab-primary-surface-color, white);\n",
              "                }\n",
              "            </style>\n",
              "            "
            ]
          },
          "metadata": {}
        }
      ],
      "source": [
        "# geemap.ee_export_vector(test_reg, 'l8_agg_2022.csv')"
      ]
    },
    {
      "cell_type": "code",
      "execution_count": null,
      "metadata": {
        "colab": {
          "base_uri": "https://localhost:8080/"
        },
        "id": "eEY0AqX3fszk",
        "outputId": "c3e5476a-0b27-4a69-acd0-1be9dc5b5e53"
      },
      "outputs": [
        {
          "output_type": "display_data",
          "data": {
            "text/plain": [
              "<IPython.core.display.HTML object>"
            ],
            "text/html": [
              "\n",
              "            <style>\n",
              "                .geemap-dark {\n",
              "                    --jp-widgets-color: white;\n",
              "                    --jp-widgets-label-color: white;\n",
              "                    --jp-ui-font-color1: white;\n",
              "                    --jp-layout-color2: #454545;\n",
              "                    background-color: #383838;\n",
              "                }\n",
              "\n",
              "                .geemap-dark .jupyter-button {\n",
              "                    --jp-layout-color3: #383838;\n",
              "                }\n",
              "\n",
              "                .geemap-colab {\n",
              "                    background-color: var(--colab-primary-surface-color, white);\n",
              "                }\n",
              "\n",
              "                .geemap-colab .jupyter-button {\n",
              "                    --jp-layout-color3: var(--colab-primary-surface-color, white);\n",
              "                }\n",
              "            </style>\n",
              "            "
            ]
          },
          "metadata": {}
        }
      ],
      "source": [
        "# # Reduce Regions to Counties\n",
        "# test_reg = l8_2023.reduceRegions(**{\n",
        "#     'collection':prod,\n",
        "#     'reducer': ee.Reducer.mean(),\n",
        "#     'scale': 30,\n",
        "\n",
        "# })\n"
      ]
    },
    {
      "cell_type": "code",
      "execution_count": null,
      "metadata": {
        "colab": {
          "base_uri": "https://localhost:8080/"
        },
        "id": "OfyE8l7se4y1",
        "outputId": "c9bdc875-9550-48f6-cc20-c7852ed4dcd9"
      },
      "outputs": [
        {
          "output_type": "display_data",
          "data": {
            "text/plain": [
              "<IPython.core.display.HTML object>"
            ],
            "text/html": [
              "\n",
              "            <style>\n",
              "                .geemap-dark {\n",
              "                    --jp-widgets-color: white;\n",
              "                    --jp-widgets-label-color: white;\n",
              "                    --jp-ui-font-color1: white;\n",
              "                    --jp-layout-color2: #454545;\n",
              "                    background-color: #383838;\n",
              "                }\n",
              "\n",
              "                .geemap-dark .jupyter-button {\n",
              "                    --jp-layout-color3: #383838;\n",
              "                }\n",
              "\n",
              "                .geemap-colab {\n",
              "                    background-color: var(--colab-primary-surface-color, white);\n",
              "                }\n",
              "\n",
              "                .geemap-colab .jupyter-button {\n",
              "                    --jp-layout-color3: var(--colab-primary-surface-color, white);\n",
              "                }\n",
              "            </style>\n",
              "            "
            ]
          },
          "metadata": {}
        }
      ],
      "source": [
        "# geemap.ee_export_vector(test_reg, 'l8_agg_2023.csv')"
      ]
    },
    {
      "cell_type": "markdown",
      "metadata": {
        "id": "xVooFVB0wONz"
      },
      "source": [
        "# Process MODIS"
      ]
    },
    {
      "cell_type": "code",
      "execution_count": null,
      "metadata": {
        "colab": {
          "base_uri": "https://localhost:8080/"
        },
        "id": "WMpwkv8PihPH",
        "outputId": "a8ccd205-8d5a-4923-e3f1-6a2d41cb5db5"
      },
      "outputs": [
        {
          "output_type": "display_data",
          "data": {
            "text/plain": [
              "<IPython.core.display.HTML object>"
            ],
            "text/html": [
              "\n",
              "            <style>\n",
              "                .geemap-dark {\n",
              "                    --jp-widgets-color: white;\n",
              "                    --jp-widgets-label-color: white;\n",
              "                    --jp-ui-font-color1: white;\n",
              "                    --jp-layout-color2: #454545;\n",
              "                    background-color: #383838;\n",
              "                }\n",
              "\n",
              "                .geemap-dark .jupyter-button {\n",
              "                    --jp-layout-color3: #383838;\n",
              "                }\n",
              "\n",
              "                .geemap-colab {\n",
              "                    background-color: var(--colab-primary-surface-color, white);\n",
              "                }\n",
              "\n",
              "                .geemap-colab .jupyter-button {\n",
              "                    --jp-layout-color3: var(--colab-primary-surface-color, white);\n",
              "                }\n",
              "            </style>\n",
              "            "
            ]
          },
          "metadata": {}
        }
      ],
      "source": [
        "\n",
        "def getQABits(image, start, end, newName):\n",
        "    # Compute the bits we need to extract.\n",
        "    pattern = 0\n",
        "    for i in range(start, end, 1):\n",
        "      pattern += math.pow(2, i)\n",
        "\n",
        "    # Return a single band image of the extracted QA bits, giving the band\n",
        "    # a new name.\n",
        "    return image.select([0], [newName]).bitwiseAnd(pattern).rightShift(start)\n"
      ]
    },
    {
      "cell_type": "code",
      "execution_count": null,
      "metadata": {
        "colab": {
          "base_uri": "https://localhost:8080/"
        },
        "id": "mU04YwIQimFo",
        "outputId": "b0ef488a-63fa-4a58-f752-1c6a30d6e2d7"
      },
      "outputs": [
        {
          "output_type": "display_data",
          "data": {
            "text/plain": [
              "<IPython.core.display.HTML object>"
            ],
            "text/html": [
              "\n",
              "            <style>\n",
              "                .geemap-dark {\n",
              "                    --jp-widgets-color: white;\n",
              "                    --jp-widgets-label-color: white;\n",
              "                    --jp-ui-font-color1: white;\n",
              "                    --jp-layout-color2: #454545;\n",
              "                    background-color: #383838;\n",
              "                }\n",
              "\n",
              "                .geemap-dark .jupyter-button {\n",
              "                    --jp-layout-color3: #383838;\n",
              "                }\n",
              "\n",
              "                .geemap-colab {\n",
              "                    background-color: var(--colab-primary-surface-color, white);\n",
              "                }\n",
              "\n",
              "                .geemap-colab .jupyter-button {\n",
              "                    --jp-layout-color3: var(--colab-primary-surface-color, white);\n",
              "                }\n",
              "            </style>\n",
              "            "
            ]
          },
          "metadata": {}
        }
      ],
      "source": [
        "\n",
        "# ---Creat Masks based on StateQA (band12) and QA (band8) bands FOR mod09\n",
        "def maskStateQA(image):\n",
        "  # Select the StateQA band.\n",
        "  QA = image.select('StateQA')\n",
        "  #Get cloud and shadow flag bit.\n",
        "  cloud = getQABits(QA, 0, 2, 'cloud_shadow') \\\n",
        "                        .expression(\"b(0)==0\")\n",
        "  #Get water flag bit.\n",
        "  water = getQABits(QA, 3, 5, 'water_state') \\\n",
        "                        .expression(\"b(0)==1\")\n",
        "  #Get aerosol flags (https:#earthscience.stackexchange.com/questions/10046/modis-surface-reflectance-data-state-qa-aerosol-quantity-field-meaning-is-unclea)\n",
        "  #https:#www.mdpi.com/2072-4292/5/7/3495/htm\n",
        "  aerosol = getQABits(QA, 6, 7, 'aerosol_state') \\\n",
        "                        .expression(\"b(0)==1\")\n",
        "  #Cirrus detected\n",
        "  cirrus = getQABits(QA, 8, 9, 'cirrus_state') \\\n",
        "                        .expression(\"b(0)==0\")\n",
        "  #Fire and snow\n",
        "  otherstates = getQABits(QA, 11, 12, 'other_states') \\\n",
        "                        .expression(\"b(0)==0\")\n",
        "  # Select the QA band now.\n",
        "  QA = image.select('QA')\n",
        "  #Get band quality state flags bit.NB: ITS VERY STRICT TAKES OU MOST PIXELS\n",
        "  #bandqa = getQABits(QA, 0, 29, 'band_quality')\n",
        "                        #.expression(\"b(0)==0\")\n",
        "  #atmospheric & adjancency correction performed state flags bit.\n",
        "  corrected = getQABits(QA, 30, 31, 'state_corr')\n",
        "                        #.expression(\"b(0)==1\")\n",
        "  # Return an image masking specified areas.\n",
        "  image = image.updateMask(cloud)\n",
        "  image = image.updateMask(water)\n",
        "  image = image.updateMask(aerosol)\n",
        "  image = image.updateMask(cirrus)\n",
        "  image = image.updateMask(otherstates)\n",
        "  #image = image.updateMask(bandqa)\n",
        "  image = image.updateMask(corrected)\n",
        "  return image"
      ]
    },
    {
      "cell_type": "code",
      "execution_count": null,
      "metadata": {
        "colab": {
          "base_uri": "https://localhost:8080/"
        },
        "id": "kyaaJOPMinG-",
        "outputId": "5972e3d1-80b3-4598-806c-906ea824b018"
      },
      "outputs": [
        {
          "output_type": "display_data",
          "data": {
            "text/plain": [
              "<IPython.core.display.HTML object>"
            ],
            "text/html": [
              "\n",
              "            <style>\n",
              "                .geemap-dark {\n",
              "                    --jp-widgets-color: white;\n",
              "                    --jp-widgets-label-color: white;\n",
              "                    --jp-ui-font-color1: white;\n",
              "                    --jp-layout-color2: #454545;\n",
              "                    background-color: #383838;\n",
              "                }\n",
              "\n",
              "                .geemap-dark .jupyter-button {\n",
              "                    --jp-layout-color3: #383838;\n",
              "                }\n",
              "\n",
              "                .geemap-colab {\n",
              "                    background-color: var(--colab-primary-surface-color, white);\n",
              "                }\n",
              "\n",
              "                .geemap-colab .jupyter-button {\n",
              "                    --jp-layout-color3: var(--colab-primary-surface-color, white);\n",
              "                }\n",
              "            </style>\n",
              "            "
            ]
          },
          "metadata": {}
        }
      ],
      "source": [
        "\n",
        "# ---Create FPAR and LAI Masks based on StateQA (band12) and QA (band8) bands FOR mod09\n",
        "def MOD15A2Hmask(image):\n",
        "  # Select the StateQA band.\n",
        "  QA = image.select('FparExtra_QC')\n",
        "  #Get cloud and shadow flag bit.\n",
        "  cloud = getQABits(QA, 0, 6, 'No_atmophericEffects') \\\n",
        "                        .expression(\"b(0)==0\")\n",
        "  # Return an image masking specified areas.\n",
        "  image = image.updateMask(cloud)\n",
        "  return image\n"
      ]
    },
    {
      "cell_type": "code",
      "execution_count": null,
      "metadata": {
        "colab": {
          "base_uri": "https://localhost:8080/"
        },
        "id": "yVoTW57nittV",
        "outputId": "e61f051f-eb4f-44f0-c633-abe610b9821c"
      },
      "outputs": [
        {
          "output_type": "display_data",
          "data": {
            "text/plain": [
              "<IPython.core.display.HTML object>"
            ],
            "text/html": [
              "\n",
              "            <style>\n",
              "                .geemap-dark {\n",
              "                    --jp-widgets-color: white;\n",
              "                    --jp-widgets-label-color: white;\n",
              "                    --jp-ui-font-color1: white;\n",
              "                    --jp-layout-color2: #454545;\n",
              "                    background-color: #383838;\n",
              "                }\n",
              "\n",
              "                .geemap-dark .jupyter-button {\n",
              "                    --jp-layout-color3: #383838;\n",
              "                }\n",
              "\n",
              "                .geemap-colab {\n",
              "                    background-color: var(--colab-primary-surface-color, white);\n",
              "                }\n",
              "\n",
              "                .geemap-colab .jupyter-button {\n",
              "                    --jp-layout-color3: var(--colab-primary-surface-color, white);\n",
              "                }\n",
              "            </style>\n",
              "            "
            ]
          },
          "metadata": {}
        }
      ],
      "source": [
        "# ---Creat GPP Masks based on StateQA (band12) and QA (band8) bands FOR mod09\n",
        "def MOD17mask(image):\n",
        "  # Select the StateQA band.\n",
        "  QA = image.select('Psn_QC')\n",
        "  #Get good quality flag bit.\n",
        "  qc = getQABits(QA, 0, 7, 'good_quality').expression(\"b(0)==0\")\n",
        "  # Return an image masking specified areas.\n",
        "  image = image.updateMask(qc)\n",
        "  return image"
      ]
    },
    {
      "cell_type": "code",
      "execution_count": null,
      "metadata": {
        "colab": {
          "base_uri": "https://localhost:8080/"
        },
        "id": "4kvQEdlKiy3L",
        "outputId": "444087e0-dc98-4b12-b260-2896521753aa"
      },
      "outputs": [
        {
          "output_type": "display_data",
          "data": {
            "text/plain": [
              "<IPython.core.display.HTML object>"
            ],
            "text/html": [
              "\n",
              "            <style>\n",
              "                .geemap-dark {\n",
              "                    --jp-widgets-color: white;\n",
              "                    --jp-widgets-label-color: white;\n",
              "                    --jp-ui-font-color1: white;\n",
              "                    --jp-layout-color2: #454545;\n",
              "                    background-color: #383838;\n",
              "                }\n",
              "\n",
              "                .geemap-dark .jupyter-button {\n",
              "                    --jp-layout-color3: #383838;\n",
              "                }\n",
              "\n",
              "                .geemap-colab {\n",
              "                    background-color: var(--colab-primary-surface-color, white);\n",
              "                }\n",
              "\n",
              "                .geemap-colab .jupyter-button {\n",
              "                    --jp-layout-color3: var(--colab-primary-surface-color, white);\n",
              "                }\n",
              "            </style>\n",
              "            "
            ]
          },
          "metadata": {}
        }
      ],
      "source": [
        "# #  * Function to mask clouds using the Sentinel-2 QA band\n",
        "\n",
        "def maskS2clouds(image):\n",
        "  qa = image.select('QA60')\n",
        "\n",
        "  # Bits 10 and 11 are clouds and cirrus, respectively.\n",
        "  cloudBitMask = 1 << 10\n",
        "  cirrusBitMask = 1 << 11\n",
        "\n",
        "  # Both flags should be set to zero, indicating clear conditions.\n",
        "  mask = qa.bitwiseAnd(cloudBitMask).eq(0) \\\n",
        "      .And(qa.bitwiseAnd(cirrusBitMask).eq(0))\n",
        "\n",
        "  return image.updateMask(mask).divide(10000)"
      ]
    },
    {
      "cell_type": "code",
      "execution_count": null,
      "metadata": {
        "colab": {
          "base_uri": "https://localhost:8080/"
        },
        "id": "6M18NLtZhcO5",
        "outputId": "9082e5db-a5d6-4b54-c329-0ea6843e151a"
      },
      "outputs": [
        {
          "output_type": "display_data",
          "data": {
            "text/plain": [
              "<IPython.core.display.HTML object>"
            ],
            "text/html": [
              "\n",
              "            <style>\n",
              "                .geemap-dark {\n",
              "                    --jp-widgets-color: white;\n",
              "                    --jp-widgets-label-color: white;\n",
              "                    --jp-ui-font-color1: white;\n",
              "                    --jp-layout-color2: #454545;\n",
              "                    background-color: #383838;\n",
              "                }\n",
              "\n",
              "                .geemap-dark .jupyter-button {\n",
              "                    --jp-layout-color3: #383838;\n",
              "                }\n",
              "\n",
              "                .geemap-colab {\n",
              "                    background-color: var(--colab-primary-surface-color, white);\n",
              "                }\n",
              "\n",
              "                .geemap-colab .jupyter-button {\n",
              "                    --jp-layout-color3: var(--colab-primary-surface-color, white);\n",
              "                }\n",
              "            </style>\n",
              "            "
            ]
          },
          "metadata": {}
        }
      ],
      "source": [
        "# Prepare GPP\n",
        "def gpp_prep(image_col,AOI,year):\n",
        "  img = image_col.filterDate(year+'-01-01',year+'-12-31').filterBounds(AOI)\n",
        "  #Import NPP -----Annual\n",
        "  gpp = img.select('Gpp')\n",
        "  return gpp\n"
      ]
    },
    {
      "cell_type": "code",
      "source": [
        "# npp_col = ee.ImageCollection('MODIS/061/MOD17A3HGF')#.select('Npp').filter(ee.Filter.date(start, end)).filter(ee.Filter.calendarRange(4, 8,'month'))\n",
        "# gpp_col = ee.ImageCollection(\"MODIS/006/MOD17A2H\")#.select('Gpp')"
      ],
      "metadata": {
        "colab": {
          "base_uri": "https://localhost:8080/"
        },
        "id": "FnqUcMklYzgQ",
        "outputId": "fb5b834e-6ea7-4f84-81e6-e4a99d43b965"
      },
      "execution_count": null,
      "outputs": [
        {
          "output_type": "display_data",
          "data": {
            "text/plain": [
              "<IPython.core.display.HTML object>"
            ],
            "text/html": [
              "\n",
              "            <style>\n",
              "                .geemap-dark {\n",
              "                    --jp-widgets-color: white;\n",
              "                    --jp-widgets-label-color: white;\n",
              "                    --jp-ui-font-color1: white;\n",
              "                    --jp-layout-color2: #454545;\n",
              "                    background-color: #383838;\n",
              "                }\n",
              "\n",
              "                .geemap-dark .jupyter-button {\n",
              "                    --jp-layout-color3: #383838;\n",
              "                }\n",
              "\n",
              "                .geemap-colab {\n",
              "                    background-color: var(--colab-primary-surface-color, white);\n",
              "                }\n",
              "\n",
              "                .geemap-colab .jupyter-button {\n",
              "                    --jp-layout-color3: var(--colab-primary-surface-color, white);\n",
              "                }\n",
              "            </style>\n",
              "            "
            ]
          },
          "metadata": {}
        }
      ]
    },
    {
      "cell_type": "code",
      "source": [
        "# img = gpp_col.filterDate(start,end).filter(ee.Filter.calendarRange(4, 8,'month')).filterBounds(AOI)\n",
        "# msk = img.mean()\n",
        "# msk\n",
        "# QA = msk.select('Psn_QC')\n",
        "# # print(QA.getInfo())\n",
        "# #   #Get good quality flag bit.\n",
        "# qc = getQABits(QA, 0, 7, 'good_quality').expression(\"b(0)==0\")\n",
        "# # qc.getInfo()\n",
        "# #   # Return an image masking specified areas.\n",
        "# # image = image.updateMask(qc)"
      ],
      "metadata": {
        "colab": {
          "base_uri": "https://localhost:8080/"
        },
        "id": "vmBzrWWKKKGw",
        "outputId": "448cbedf-6c69-4f1d-bb65-c8af00f22873"
      },
      "execution_count": null,
      "outputs": [
        {
          "output_type": "display_data",
          "data": {
            "text/plain": [
              "<IPython.core.display.HTML object>"
            ],
            "text/html": [
              "\n",
              "            <style>\n",
              "                .geemap-dark {\n",
              "                    --jp-widgets-color: white;\n",
              "                    --jp-widgets-label-color: white;\n",
              "                    --jp-ui-font-color1: white;\n",
              "                    --jp-layout-color2: #454545;\n",
              "                    background-color: #383838;\n",
              "                }\n",
              "\n",
              "                .geemap-dark .jupyter-button {\n",
              "                    --jp-layout-color3: #383838;\n",
              "                }\n",
              "\n",
              "                .geemap-colab {\n",
              "                    background-color: var(--colab-primary-surface-color, white);\n",
              "                }\n",
              "\n",
              "                .geemap-colab .jupyter-button {\n",
              "                    --jp-layout-color3: var(--colab-primary-surface-color, white);\n",
              "                }\n",
              "            </style>\n",
              "            "
            ]
          },
          "metadata": {}
        }
      ]
    },
    {
      "cell_type": "code",
      "execution_count": null,
      "metadata": {
        "colab": {
          "base_uri": "https://localhost:8080/"
        },
        "id": "mQ8UsKUniNqv",
        "outputId": "721d4427-19ec-47c8-8295-a8b15639b29d"
      },
      "outputs": [
        {
          "output_type": "display_data",
          "data": {
            "text/plain": [
              "<IPython.core.display.HTML object>"
            ],
            "text/html": [
              "\n",
              "            <style>\n",
              "                .geemap-dark {\n",
              "                    --jp-widgets-color: white;\n",
              "                    --jp-widgets-label-color: white;\n",
              "                    --jp-ui-font-color1: white;\n",
              "                    --jp-layout-color2: #454545;\n",
              "                    background-color: #383838;\n",
              "                }\n",
              "\n",
              "                .geemap-dark .jupyter-button {\n",
              "                    --jp-layout-color3: #383838;\n",
              "                }\n",
              "\n",
              "                .geemap-colab {\n",
              "                    background-color: var(--colab-primary-surface-color, white);\n",
              "                }\n",
              "\n",
              "                .geemap-colab .jupyter-button {\n",
              "                    --jp-layout-color3: var(--colab-primary-surface-color, white);\n",
              "                }\n",
              "            </style>\n",
              "            "
            ]
          },
          "metadata": {}
        }
      ],
      "source": [
        "# Prepare NPP\n",
        "def npp_prep(image_col,AOI,year):\n",
        "  img = image_col.filterDate(year+'-01-01',year+'-12-31').filterBounds(AOI)\n",
        "  #Import NPP -----Annual\n",
        "  npp = img.select('Npp')\n",
        "  return npp\n"
      ]
    },
    {
      "cell_type": "code",
      "execution_count": null,
      "metadata": {
        "colab": {
          "base_uri": "https://localhost:8080/"
        },
        "id": "YkzTafTEnmAr",
        "outputId": "8d50c7cf-981d-47df-8f1f-2dc10e500a50"
      },
      "outputs": [
        {
          "output_type": "display_data",
          "data": {
            "text/plain": [
              "<IPython.core.display.HTML object>"
            ],
            "text/html": [
              "\n",
              "            <style>\n",
              "                .geemap-dark {\n",
              "                    --jp-widgets-color: white;\n",
              "                    --jp-widgets-label-color: white;\n",
              "                    --jp-ui-font-color1: white;\n",
              "                    --jp-layout-color2: #454545;\n",
              "                    background-color: #383838;\n",
              "                }\n",
              "\n",
              "                .geemap-dark .jupyter-button {\n",
              "                    --jp-layout-color3: #383838;\n",
              "                }\n",
              "\n",
              "                .geemap-colab {\n",
              "                    background-color: var(--colab-primary-surface-color, white);\n",
              "                }\n",
              "\n",
              "                .geemap-colab .jupyter-button {\n",
              "                    --jp-layout-color3: var(--colab-primary-surface-color, white);\n",
              "                }\n",
              "            </style>\n",
              "            "
            ]
          },
          "metadata": {}
        }
      ],
      "source": [
        "# Prepare FPAR\n",
        "def fpar_prep(start_date,end_date,image_col,AOI):\n",
        "  img = image_col.filterDate(start_date,end_date).filter(ee.Filter.calendarRange(4, 8,'month')).filterBounds(AOI)\n",
        "  # Import Fraction of Photosynthetically Active Radiation (FPAR)\n",
        "  fpar = MOD15A2Hmask(img.mean()).select('Fpar_500m')\n",
        "  return fpar\n"
      ]
    },
    {
      "cell_type": "code",
      "execution_count": null,
      "metadata": {
        "colab": {
          "base_uri": "https://localhost:8080/"
        },
        "id": "l4ok19cQoBCh",
        "outputId": "ab67c5a1-afec-4e81-d4e7-db641d2e8357"
      },
      "outputs": [
        {
          "output_type": "display_data",
          "data": {
            "text/plain": [
              "<IPython.core.display.HTML object>"
            ],
            "text/html": [
              "\n",
              "            <style>\n",
              "                .geemap-dark {\n",
              "                    --jp-widgets-color: white;\n",
              "                    --jp-widgets-label-color: white;\n",
              "                    --jp-ui-font-color1: white;\n",
              "                    --jp-layout-color2: #454545;\n",
              "                    background-color: #383838;\n",
              "                }\n",
              "\n",
              "                .geemap-dark .jupyter-button {\n",
              "                    --jp-layout-color3: #383838;\n",
              "                }\n",
              "\n",
              "                .geemap-colab {\n",
              "                    background-color: var(--colab-primary-surface-color, white);\n",
              "                }\n",
              "\n",
              "                .geemap-colab .jupyter-button {\n",
              "                    --jp-layout-color3: var(--colab-primary-surface-color, white);\n",
              "                }\n",
              "            </style>\n",
              "            "
            ]
          },
          "metadata": {}
        }
      ],
      "source": [
        "# Prepare LAI\n",
        "def lai_prep(start_date,end_date,image_col,AOI):\n",
        "  img = image_col.filterDate(start_date,end_date).filter(ee.Filter.calendarRange(4, 8,'month')).filterBounds(AOI)\n",
        "  # Import Leaf Area Index\n",
        "  lai  = MOD15A2Hmask(img.mean()).select('Lai_500m')\n",
        "  return lai"
      ]
    },
    {
      "cell_type": "markdown",
      "metadata": {
        "id": "5W3oMydgIv27"
      },
      "source": [
        "# Climatic Variables"
      ]
    },
    {
      "cell_type": "markdown",
      "metadata": {
        "id": "9IFHnwdoUhU6"
      },
      "source": [
        "# Pre-Requisites"
      ]
    },
    {
      "cell_type": "code",
      "execution_count": null,
      "metadata": {
        "colab": {
          "base_uri": "https://localhost:8080/"
        },
        "id": "uYqkf1tFAGzi",
        "outputId": "3ee1bd65-b2f8-4fb4-9873-eb87f6f4897f"
      },
      "outputs": [
        {
          "output_type": "display_data",
          "data": {
            "text/plain": [
              "<IPython.core.display.HTML object>"
            ],
            "text/html": [
              "\n",
              "            <style>\n",
              "                .geemap-dark {\n",
              "                    --jp-widgets-color: white;\n",
              "                    --jp-widgets-label-color: white;\n",
              "                    --jp-ui-font-color1: white;\n",
              "                    --jp-layout-color2: #454545;\n",
              "                    background-color: #383838;\n",
              "                }\n",
              "\n",
              "                .geemap-dark .jupyter-button {\n",
              "                    --jp-layout-color3: #383838;\n",
              "                }\n",
              "\n",
              "                .geemap-colab {\n",
              "                    background-color: var(--colab-primary-surface-color, white);\n",
              "                }\n",
              "\n",
              "                .geemap-colab .jupyter-button {\n",
              "                    --jp-layout-color3: var(--colab-primary-surface-color, white);\n",
              "                }\n",
              "            </style>\n",
              "            "
            ]
          },
          "metadata": {}
        }
      ],
      "source": [
        "start= ee.Date('2010-04-01')\n",
        "end = ee.Date('2023-08-31')\n",
        "bound = ee.FeatureCollection(\"users/Prod/boundary\")\n",
        "newzones = ee.FeatureCollection(\"users/Prod/zone_5\")\n",
        "AOI = bound.geometry()\n",
        "Map = geemap.Map()\n",
        "Map.centerObject(AOI, 6)\n",
        "Map.addLayer(AOI,{},'AOI')"
      ]
    },
    {
      "cell_type": "code",
      "execution_count": null,
      "metadata": {
        "colab": {
          "base_uri": "https://localhost:8080/"
        },
        "id": "F3neaj4CbLWS",
        "outputId": "0fded74e-0f7c-4a29-9251-7a36ddcc505f"
      },
      "outputs": [
        {
          "output_type": "display_data",
          "data": {
            "text/plain": [
              "<IPython.core.display.HTML object>"
            ],
            "text/html": [
              "\n",
              "            <style>\n",
              "                .geemap-dark {\n",
              "                    --jp-widgets-color: white;\n",
              "                    --jp-widgets-label-color: white;\n",
              "                    --jp-ui-font-color1: white;\n",
              "                    --jp-layout-color2: #454545;\n",
              "                    background-color: #383838;\n",
              "                }\n",
              "\n",
              "                .geemap-dark .jupyter-button {\n",
              "                    --jp-layout-color3: #383838;\n",
              "                }\n",
              "\n",
              "                .geemap-colab {\n",
              "                    background-color: var(--colab-primary-surface-color, white);\n",
              "                }\n",
              "\n",
              "                .geemap-colab .jupyter-button {\n",
              "                    --jp-layout-color3: var(--colab-primary-surface-color, white);\n",
              "                }\n",
              "            </style>\n",
              "            "
            ]
          },
          "metadata": {}
        }
      ],
      "source": [
        "county = ee.FeatureCollection(\"projects/ee-maizeyield/assets/county_maize_yield_2010-18\")\n",
        "scale = 463.31271652791656\n",
        "years = ee.List.sequence(2010,2023)\n",
        "# years.getInfo()"
      ]
    },
    {
      "cell_type": "markdown",
      "metadata": {
        "id": "sWKWA5whRPyQ"
      },
      "source": [
        "# Visualization"
      ]
    },
    {
      "cell_type": "code",
      "execution_count": null,
      "metadata": {
        "colab": {
          "base_uri": "https://localhost:8080/"
        },
        "id": "Q0BRYWKECWr3",
        "outputId": "0b4c8b27-4ddd-4d46-f34d-f7ac2dbea919"
      },
      "outputs": [
        {
          "output_type": "display_data",
          "data": {
            "text/plain": [
              "<IPython.core.display.HTML object>"
            ],
            "text/html": [
              "\n",
              "            <style>\n",
              "                .geemap-dark {\n",
              "                    --jp-widgets-color: white;\n",
              "                    --jp-widgets-label-color: white;\n",
              "                    --jp-ui-font-color1: white;\n",
              "                    --jp-layout-color2: #454545;\n",
              "                    background-color: #383838;\n",
              "                }\n",
              "\n",
              "                .geemap-dark .jupyter-button {\n",
              "                    --jp-layout-color3: #383838;\n",
              "                }\n",
              "\n",
              "                .geemap-colab {\n",
              "                    background-color: var(--colab-primary-surface-color, white);\n",
              "                }\n",
              "\n",
              "                .geemap-colab .jupyter-button {\n",
              "                    --jp-layout-color3: var(--colab-primary-surface-color, white);\n",
              "                }\n",
              "            </style>\n",
              "            "
            ]
          },
          "metadata": {}
        }
      ],
      "source": [
        "# // Visualization palette for total precipitation\n",
        "visTp = {\n",
        "  'min': 0,\n",
        "  'max': 0.1,\n",
        "  'palette': ['#FFFFFF', '#00FFFF', '#0080FF', '#DA00FF', '#FFA400', '#FF0000']\n",
        "}"
      ]
    },
    {
      "cell_type": "code",
      "execution_count": null,
      "metadata": {
        "colab": {
          "base_uri": "https://localhost:8080/"
        },
        "id": "niAGtbTIAnpJ",
        "outputId": "3bb72b9f-b0bd-4fec-d859-fe95461123f1"
      },
      "outputs": [
        {
          "output_type": "display_data",
          "data": {
            "text/plain": [
              "<IPython.core.display.HTML object>"
            ],
            "text/html": [
              "\n",
              "            <style>\n",
              "                .geemap-dark {\n",
              "                    --jp-widgets-color: white;\n",
              "                    --jp-widgets-label-color: white;\n",
              "                    --jp-ui-font-color1: white;\n",
              "                    --jp-layout-color2: #454545;\n",
              "                    background-color: #383838;\n",
              "                }\n",
              "\n",
              "                .geemap-dark .jupyter-button {\n",
              "                    --jp-layout-color3: #383838;\n",
              "                }\n",
              "\n",
              "                .geemap-colab {\n",
              "                    background-color: var(--colab-primary-surface-color, white);\n",
              "                }\n",
              "\n",
              "                .geemap-colab .jupyter-button {\n",
              "                    --jp-layout-color3: var(--colab-primary-surface-color, white);\n",
              "                }\n",
              "            </style>\n",
              "            "
            ]
          },
          "metadata": {}
        }
      ],
      "source": [
        "# // Visualization palette for Temperature\n",
        "vis2mt = {\n",
        "  'min': 250,\n",
        "  'max': 320,\n",
        "  'palette': [\n",
        "    '000080', '0000d9', '4000ff', '8000ff', '0080ff', '00ffff', '00ff80',\n",
        "    '80ff00', 'daff00', 'ffff00', 'fff500', 'ffda00', 'ffb000', 'ffa400',\n",
        "    'ff4f00', 'ff2500', 'ff0a00', 'ff00ff'\n",
        "  ]\n",
        "}"
      ]
    },
    {
      "cell_type": "code",
      "execution_count": null,
      "metadata": {
        "colab": {
          "base_uri": "https://localhost:8080/"
        },
        "id": "m95Cj3bgEUw4",
        "outputId": "94c0e637-354d-4c0e-a2f4-c16e0319764f"
      },
      "outputs": [
        {
          "output_type": "display_data",
          "data": {
            "text/plain": [
              "<IPython.core.display.HTML object>"
            ],
            "text/html": [
              "\n",
              "            <style>\n",
              "                .geemap-dark {\n",
              "                    --jp-widgets-color: white;\n",
              "                    --jp-widgets-label-color: white;\n",
              "                    --jp-ui-font-color1: white;\n",
              "                    --jp-layout-color2: #454545;\n",
              "                    background-color: #383838;\n",
              "                }\n",
              "\n",
              "                .geemap-dark .jupyter-button {\n",
              "                    --jp-layout-color3: #383838;\n",
              "                }\n",
              "\n",
              "                .geemap-colab {\n",
              "                    background-color: var(--colab-primary-surface-color, white);\n",
              "                }\n",
              "\n",
              "                .geemap-colab .jupyter-button {\n",
              "                    --jp-layout-color3: var(--colab-primary-surface-color, white);\n",
              "                }\n",
              "            </style>\n",
              "            "
            ]
          },
          "metadata": {}
        }
      ],
      "source": [
        "# // Visualization palette for u- and v-component of 10m wind\n",
        "visWind = {\n",
        "  'min': 0,\n",
        "  'max': 30,\n",
        "  'palette': [\n",
        "    '#FFFFFF', '#FFFF71', '#DEFF00', '#9EFF00', '#77B038', '#007E55', '#005F51',\n",
        "    '#004B51', '#013A7B', '#023AAD'\n",
        "  ]\n",
        "}"
      ]
    },
    {
      "cell_type": "code",
      "execution_count": null,
      "metadata": {
        "colab": {
          "base_uri": "https://localhost:8080/"
        },
        "id": "ZZAMtCq8NWgc",
        "outputId": "0102de99-d38c-43fd-ed0f-80cfddccd309"
      },
      "outputs": [
        {
          "output_type": "display_data",
          "data": {
            "text/plain": [
              "<IPython.core.display.HTML object>"
            ],
            "text/html": [
              "\n",
              "            <style>\n",
              "                .geemap-dark {\n",
              "                    --jp-widgets-color: white;\n",
              "                    --jp-widgets-label-color: white;\n",
              "                    --jp-ui-font-color1: white;\n",
              "                    --jp-layout-color2: #454545;\n",
              "                    background-color: #383838;\n",
              "                }\n",
              "\n",
              "                .geemap-dark .jupyter-button {\n",
              "                    --jp-layout-color3: #383838;\n",
              "                }\n",
              "\n",
              "                .geemap-colab {\n",
              "                    background-color: var(--colab-primary-surface-color, white);\n",
              "                }\n",
              "\n",
              "                .geemap-colab .jupyter-button {\n",
              "                    --jp-layout-color3: var(--colab-primary-surface-color, white);\n",
              "                }\n",
              "            </style>\n",
              "            "
            ]
          },
          "metadata": {}
        }
      ],
      "source": [
        "visMtp = {\n",
        "  'min': 250.0,\n",
        "  'max': 320.0,\n",
        "  'palette': [\n",
        "    \"#000080\",\"#0000D9\",\"#4000FF\",\"#8000FF\",\"#0080FF\",\"#00FFFF\",\n",
        "    \"#00FF80\",\"#80FF00\",\"#DAFF00\",\"#FFFF00\",\"#FFF500\",\"#FFDA00\",\n",
        "    \"#FFB000\",\"#FFA400\",\"#FF4F00\",\"#FF2500\",\"#FF0A00\",\"#FF00FF\",\n",
        "  ]\n",
        "}"
      ]
    },
    {
      "cell_type": "code",
      "execution_count": null,
      "metadata": {
        "colab": {
          "base_uri": "https://localhost:8080/"
        },
        "id": "TXRjVd3oPnAi",
        "outputId": "964db1be-e68a-48af-d142-a35ba59fe58f"
      },
      "outputs": [
        {
          "output_type": "display_data",
          "data": {
            "text/plain": [
              "<IPython.core.display.HTML object>"
            ],
            "text/html": [
              "\n",
              "            <style>\n",
              "                .geemap-dark {\n",
              "                    --jp-widgets-color: white;\n",
              "                    --jp-widgets-label-color: white;\n",
              "                    --jp-ui-font-color1: white;\n",
              "                    --jp-layout-color2: #454545;\n",
              "                    background-color: #383838;\n",
              "                }\n",
              "\n",
              "                .geemap-dark .jupyter-button {\n",
              "                    --jp-layout-color3: #383838;\n",
              "                }\n",
              "\n",
              "                .geemap-colab {\n",
              "                    background-color: var(--colab-primary-surface-color, white);\n",
              "                }\n",
              "\n",
              "                .geemap-colab .jupyter-button {\n",
              "                    --jp-layout-color3: var(--colab-primary-surface-color, white);\n",
              "                }\n",
              "            </style>\n",
              "            "
            ]
          },
          "metadata": {}
        }
      ],
      "source": [
        "visChirps = {\n",
        "  'min': 1.0,\n",
        "  'max': 17.0,\n",
        "  'palette': ['001137', '0aab1e', 'e7eb05', 'ff4a2d', 'e90000'],\n",
        "};"
      ]
    },
    {
      "cell_type": "markdown",
      "metadata": {
        "id": "15M_aUAkU0kE"
      },
      "source": [
        "# ERA 5 Rainfall"
      ]
    },
    {
      "cell_type": "code",
      "execution_count": null,
      "metadata": {
        "id": "dlm79nj6A29m",
        "collapsed": true,
        "colab": {
          "base_uri": "https://localhost:8080/"
        },
        "outputId": "60180947-fd78-492a-8468-a9b08bcd3ace"
      },
      "outputs": [
        {
          "output_type": "display_data",
          "data": {
            "text/plain": [
              "<IPython.core.display.HTML object>"
            ],
            "text/html": [
              "\n",
              "            <style>\n",
              "                .geemap-dark {\n",
              "                    --jp-widgets-color: white;\n",
              "                    --jp-widgets-label-color: white;\n",
              "                    --jp-ui-font-color1: white;\n",
              "                    --jp-layout-color2: #454545;\n",
              "                    background-color: #383838;\n",
              "                }\n",
              "\n",
              "                .geemap-dark .jupyter-button {\n",
              "                    --jp-layout-color3: #383838;\n",
              "                }\n",
              "\n",
              "                .geemap-colab {\n",
              "                    background-color: var(--colab-primary-surface-color, white);\n",
              "                }\n",
              "\n",
              "                .geemap-colab .jupyter-button {\n",
              "                    --jp-layout-color3: var(--colab-primary-surface-color, white);\n",
              "                }\n",
              "            </style>\n",
              "            "
            ]
          },
          "metadata": {}
        }
      ],
      "source": [
        "\n",
        "# // Daily total precipitation sums\n",
        "era5_tp = ee.ImageCollection('ECMWF/ERA5/DAILY').select('total_precipitation').filter(ee.Filter.date(start, end)).filter(ee.Filter.calendarRange(4, 8,'month')).filterBounds(AOI)\n",
        "era_md = era5_tp.median().clip(AOI)\n",
        "# Map.addLayer(era_md,visTp,'ERA5 Total Prec')"
      ]
    },
    {
      "cell_type": "code",
      "execution_count": null,
      "metadata": {
        "colab": {
          "base_uri": "https://localhost:8080/"
        },
        "id": "LSMbtiRKeC1V",
        "outputId": "4f4e46ca-dac7-4dbb-d6e4-e5b5f26fbb75"
      },
      "outputs": [
        {
          "output_type": "display_data",
          "data": {
            "text/plain": [
              "<IPython.core.display.HTML object>"
            ],
            "text/html": [
              "\n",
              "            <style>\n",
              "                .geemap-dark {\n",
              "                    --jp-widgets-color: white;\n",
              "                    --jp-widgets-label-color: white;\n",
              "                    --jp-ui-font-color1: white;\n",
              "                    --jp-layout-color2: #454545;\n",
              "                    background-color: #383838;\n",
              "                }\n",
              "\n",
              "                .geemap-dark .jupyter-button {\n",
              "                    --jp-layout-color3: #383838;\n",
              "                }\n",
              "\n",
              "                .geemap-colab {\n",
              "                    background-color: var(--colab-primary-surface-color, white);\n",
              "                }\n",
              "\n",
              "                .geemap-colab .jupyter-button {\n",
              "                    --jp-layout-color3: var(--colab-primary-surface-color, white);\n",
              "                }\n",
              "            </style>\n",
              "            "
            ]
          },
          "metadata": {}
        }
      ],
      "source": [
        "# */\n",
        "# //--------------- Get the MEAN--------------------------------------\n",
        "era5_tp_mean = ee.ImageCollection.fromImages(years.map(lambda year: era5_tp.filter(ee.Filter.calendarRange(year, year, 'year')).mean().set('Year',year)))\n",
        "# .rename(['blue','green','red','nir','swir1'])))\n",
        "# era5_tp_mean\n"
      ]
    },
    {
      "cell_type": "code",
      "execution_count": null,
      "metadata": {
        "colab": {
          "base_uri": "https://localhost:8080/"
        },
        "id": "l-rCkMGysmR6",
        "outputId": "8edabc84-c707-4e41-94a9-b1dd02c567f9"
      },
      "outputs": [
        {
          "output_type": "display_data",
          "data": {
            "text/plain": [
              "<IPython.core.display.HTML object>"
            ],
            "text/html": [
              "\n",
              "            <style>\n",
              "                .geemap-dark {\n",
              "                    --jp-widgets-color: white;\n",
              "                    --jp-widgets-label-color: white;\n",
              "                    --jp-ui-font-color1: white;\n",
              "                    --jp-layout-color2: #454545;\n",
              "                    background-color: #383838;\n",
              "                }\n",
              "\n",
              "                .geemap-dark .jupyter-button {\n",
              "                    --jp-layout-color3: #383838;\n",
              "                }\n",
              "\n",
              "                .geemap-colab {\n",
              "                    background-color: var(--colab-primary-surface-color, white);\n",
              "                }\n",
              "\n",
              "                .geemap-colab .jupyter-button {\n",
              "                    --jp-layout-color3: var(--colab-primary-surface-color, white);\n",
              "                }\n",
              "            </style>\n",
              "            "
            ]
          },
          "metadata": {}
        }
      ],
      "source": [
        "# era5_tp_mean.toBands().bandNames().getInfo()"
      ]
    },
    {
      "cell_type": "code",
      "execution_count": null,
      "metadata": {
        "colab": {
          "base_uri": "https://localhost:8080/"
        },
        "id": "5Guajcuefyq-",
        "outputId": "11277f4b-8b68-42bd-8965-09e030947d23",
        "collapsed": true
      },
      "outputs": [
        {
          "output_type": "display_data",
          "data": {
            "text/plain": [
              "<IPython.core.display.HTML object>"
            ],
            "text/html": [
              "\n",
              "            <style>\n",
              "                .geemap-dark {\n",
              "                    --jp-widgets-color: white;\n",
              "                    --jp-widgets-label-color: white;\n",
              "                    --jp-ui-font-color1: white;\n",
              "                    --jp-layout-color2: #454545;\n",
              "                    background-color: #383838;\n",
              "                }\n",
              "\n",
              "                .geemap-dark .jupyter-button {\n",
              "                    --jp-layout-color3: #383838;\n",
              "                }\n",
              "\n",
              "                .geemap-colab {\n",
              "                    background-color: var(--colab-primary-surface-color, white);\n",
              "                }\n",
              "\n",
              "                .geemap-colab .jupyter-button {\n",
              "                    --jp-layout-color3: var(--colab-primary-surface-color, white);\n",
              "                }\n",
              "            </style>\n",
              "            "
            ]
          },
          "metadata": {}
        }
      ],
      "source": [
        "era5_tp_mean_=era5_tp_mean.toBands().select(['0_total_precipitation', '1_total_precipitation', '2_total_precipitation'\n",
        ", '3_total_precipitation', '4_total_precipitation','5_total_precipitation', '6_total_precipitation', '7_total_precipitation',\n",
        " '8_total_precipitation','9_total_precipitation','10_total_precipitation'\n",
        "#  ,'11_total_precipitation','12_total_precipitation','13_total_precipitation'\n",
        " ],[\n",
        "'era5d_2010_total_precipitation','era5d_2011_total_precipitation','era5d_2012_total_precipitation','era5d_2013_total_precipitation',\n",
        "'era5d_2014_total_precipitation','era5d_2015_total_precipitation','era5d_2016_total_precipitation','era5d_2017_total_precipitation',\n",
        "'era5d_2018_total_precipitation',\n",
        " 'era5d_2019_total_precipitation','era5d_2020_total_precipitation',\n",
        "    #  'era5d_2021_total_precipitation' ,'era5d_2022_total_precipitation',  'era5d_2023_total_precipitation'\n",
        "])\n",
        "# era5_tp_mean_.getInfo()"
      ]
    },
    {
      "cell_type": "code",
      "source": [
        "# Map.addLayer(era_md,visTp,'ERA5 Total Prec')"
      ],
      "metadata": {
        "colab": {
          "base_uri": "https://localhost:8080/"
        },
        "id": "v8qxz7LMygiK",
        "outputId": "c892095c-6068-4f60-c5f9-404e50a54792"
      },
      "execution_count": null,
      "outputs": [
        {
          "output_type": "display_data",
          "data": {
            "text/plain": [
              "<IPython.core.display.HTML object>"
            ],
            "text/html": [
              "\n",
              "            <style>\n",
              "                .geemap-dark {\n",
              "                    --jp-widgets-color: white;\n",
              "                    --jp-widgets-label-color: white;\n",
              "                    --jp-ui-font-color1: white;\n",
              "                    --jp-layout-color2: #454545;\n",
              "                    background-color: #383838;\n",
              "                }\n",
              "\n",
              "                .geemap-dark .jupyter-button {\n",
              "                    --jp-layout-color3: #383838;\n",
              "                }\n",
              "\n",
              "                .geemap-colab {\n",
              "                    background-color: var(--colab-primary-surface-color, white);\n",
              "                }\n",
              "\n",
              "                .geemap-colab .jupyter-button {\n",
              "                    --jp-layout-color3: var(--colab-primary-surface-color, white);\n",
              "                }\n",
              "            </style>\n",
              "            "
            ]
          },
          "metadata": {}
        }
      ]
    },
    {
      "cell_type": "code",
      "execution_count": null,
      "metadata": {
        "colab": {
          "base_uri": "https://localhost:8080/"
        },
        "id": "Uowzg4CvE3bR",
        "outputId": "2a68f1ac-114c-4c73-e6cc-06d2fbd8a17d"
      },
      "outputs": [
        {
          "output_type": "display_data",
          "data": {
            "text/plain": [
              "<IPython.core.display.HTML object>"
            ],
            "text/html": [
              "\n",
              "            <style>\n",
              "                .geemap-dark {\n",
              "                    --jp-widgets-color: white;\n",
              "                    --jp-widgets-label-color: white;\n",
              "                    --jp-ui-font-color1: white;\n",
              "                    --jp-layout-color2: #454545;\n",
              "                    background-color: #383838;\n",
              "                }\n",
              "\n",
              "                .geemap-dark .jupyter-button {\n",
              "                    --jp-layout-color3: #383838;\n",
              "                }\n",
              "\n",
              "                .geemap-colab {\n",
              "                    background-color: var(--colab-primary-surface-color, white);\n",
              "                }\n",
              "\n",
              "                .geemap-colab .jupyter-button {\n",
              "                    --jp-layout-color3: var(--colab-primary-surface-color, white);\n",
              "                }\n",
              "            </style>\n",
              "            "
            ]
          },
          "metadata": {}
        }
      ],
      "source": [
        "era5_monthly = ee.ImageCollection(\"ECMWF/ERA5/MONTHLY\").select('total_precipitation').filter(ee.Filter.date(start, end)).filter(ee.Filter.calendarRange(4, 8,'month')).filterBounds(AOI)\n",
        "# era_mmd = era5_monthly.median().clip(AOI)\n",
        "# Map.addLayer(era_mmd,visMtp,'ERA5 Montly Prec')\n",
        "# era5_monthly"
      ]
    },
    {
      "cell_type": "code",
      "execution_count": null,
      "metadata": {
        "colab": {
          "base_uri": "https://localhost:8080/"
        },
        "id": "Z-LCd6POqeGm",
        "outputId": "5b32a0af-ebef-47b3-af03-ae09ab483d8f"
      },
      "outputs": [
        {
          "output_type": "display_data",
          "data": {
            "text/plain": [
              "<IPython.core.display.HTML object>"
            ],
            "text/html": [
              "\n",
              "            <style>\n",
              "                .geemap-dark {\n",
              "                    --jp-widgets-color: white;\n",
              "                    --jp-widgets-label-color: white;\n",
              "                    --jp-ui-font-color1: white;\n",
              "                    --jp-layout-color2: #454545;\n",
              "                    background-color: #383838;\n",
              "                }\n",
              "\n",
              "                .geemap-dark .jupyter-button {\n",
              "                    --jp-layout-color3: #383838;\n",
              "                }\n",
              "\n",
              "                .geemap-colab {\n",
              "                    background-color: var(--colab-primary-surface-color, white);\n",
              "                }\n",
              "\n",
              "                .geemap-colab .jupyter-button {\n",
              "                    --jp-layout-color3: var(--colab-primary-surface-color, white);\n",
              "                }\n",
              "            </style>\n",
              "            "
            ]
          },
          "metadata": {}
        }
      ],
      "source": [
        "# */\n",
        "# //--------------- Get the MEAN--------------------------------------\n",
        "era5_monthly_mean = ee.ImageCollection.fromImages(years.map(lambda year: era5_monthly.filter(ee.Filter.calendarRange(year, year, 'year')).mean()))\n",
        "# .rename(['blue','green','red','nir','swir1'])))\n",
        "# era5_monthly_mean"
      ]
    },
    {
      "cell_type": "code",
      "execution_count": null,
      "metadata": {
        "colab": {
          "base_uri": "https://localhost:8080/"
        },
        "id": "ZUkV9L3Wycn8",
        "outputId": "c768d062-44fe-4cdc-dd0b-bc6081aa252e"
      },
      "outputs": [
        {
          "output_type": "display_data",
          "data": {
            "text/plain": [
              "<IPython.core.display.HTML object>"
            ],
            "text/html": [
              "\n",
              "            <style>\n",
              "                .geemap-dark {\n",
              "                    --jp-widgets-color: white;\n",
              "                    --jp-widgets-label-color: white;\n",
              "                    --jp-ui-font-color1: white;\n",
              "                    --jp-layout-color2: #454545;\n",
              "                    background-color: #383838;\n",
              "                }\n",
              "\n",
              "                .geemap-dark .jupyter-button {\n",
              "                    --jp-layout-color3: #383838;\n",
              "                }\n",
              "\n",
              "                .geemap-colab {\n",
              "                    background-color: var(--colab-primary-surface-color, white);\n",
              "                }\n",
              "\n",
              "                .geemap-colab .jupyter-button {\n",
              "                    --jp-layout-color3: var(--colab-primary-surface-color, white);\n",
              "                }\n",
              "            </style>\n",
              "            "
            ]
          },
          "metadata": {}
        }
      ],
      "source": [
        "# era5_monthly_mean.toBands().bandNames().getInfo()"
      ]
    },
    {
      "cell_type": "code",
      "execution_count": null,
      "metadata": {
        "colab": {
          "base_uri": "https://localhost:8080/"
        },
        "id": "bDonvX1CycoG",
        "outputId": "254fbcf1-ffac-49f6-cc24-8a115b905fe0",
        "collapsed": true
      },
      "outputs": [
        {
          "output_type": "display_data",
          "data": {
            "text/plain": [
              "<IPython.core.display.HTML object>"
            ],
            "text/html": [
              "\n",
              "            <style>\n",
              "                .geemap-dark {\n",
              "                    --jp-widgets-color: white;\n",
              "                    --jp-widgets-label-color: white;\n",
              "                    --jp-ui-font-color1: white;\n",
              "                    --jp-layout-color2: #454545;\n",
              "                    background-color: #383838;\n",
              "                }\n",
              "\n",
              "                .geemap-dark .jupyter-button {\n",
              "                    --jp-layout-color3: #383838;\n",
              "                }\n",
              "\n",
              "                .geemap-colab {\n",
              "                    background-color: var(--colab-primary-surface-color, white);\n",
              "                }\n",
              "\n",
              "                .geemap-colab .jupyter-button {\n",
              "                    --jp-layout-color3: var(--colab-primary-surface-color, white);\n",
              "                }\n",
              "            </style>\n",
              "            "
            ]
          },
          "metadata": {}
        }
      ],
      "source": [
        "era5_monthly_mean_=era5_monthly_mean.toBands().select(\n",
        "  ['0_total_precipitation', '1_total_precipitation', '2_total_precipitation'\n",
        "  , '3_total_precipitation', '4_total_precipitation','5_total_precipitation', '6_total_precipitation', '7_total_precipitation',\n",
        "   '8_total_precipitation','9_total_precipitation','10_total_precipitation'\n",
        "  #  ,'11_total_precipitation','12_total_precipitation','13_total_precipitation'\n",
        "   ],[\n",
        "    'era5m_2010_total_precipitation','era5m_2011_total_precipitation','era5m_2012_total_precipitation','era5m_2013_total_precipitation','era5m_2014_total_precipitation'\n",
        "    ,'era5m_2015_total_precipitation','era5m_2016_total_precipitation','era5m_2017_total_precipitation','era5m_2018_total_precipitation',\n",
        "    'era5m_2019_total_precipitation','era5m_2020_total_precipitation'\n",
        "    # ,'era5m_2021_total_precipitation' ,'era5m_2022_total_precipitation','era5m_2023_total_precipitation'\n",
        "    ])\n",
        "# era5_monthly_mean_.getInfo()"
      ]
    },
    {
      "cell_type": "markdown",
      "metadata": {
        "id": "rPcKQi6yU9GY"
      },
      "source": [
        "# ERA 5 Temperature"
      ]
    },
    {
      "cell_type": "markdown",
      "metadata": {
        "id": "vNRWUAoDVsPd"
      },
      "source": [
        "**Daily Mean Temperature**"
      ]
    },
    {
      "cell_type": "code",
      "execution_count": null,
      "metadata": {
        "colab": {
          "base_uri": "https://localhost:8080/"
        },
        "id": "Hl_IwYO9_eTj",
        "outputId": "a1b9f12d-2dd3-48e3-bf70-a6cc46f7b5ae"
      },
      "outputs": [
        {
          "output_type": "display_data",
          "data": {
            "text/plain": [
              "<IPython.core.display.HTML object>"
            ],
            "text/html": [
              "\n",
              "            <style>\n",
              "                .geemap-dark {\n",
              "                    --jp-widgets-color: white;\n",
              "                    --jp-widgets-label-color: white;\n",
              "                    --jp-ui-font-color1: white;\n",
              "                    --jp-layout-color2: #454545;\n",
              "                    background-color: #383838;\n",
              "                }\n",
              "\n",
              "                .geemap-dark .jupyter-button {\n",
              "                    --jp-layout-color3: #383838;\n",
              "                }\n",
              "\n",
              "                .geemap-colab {\n",
              "                    background-color: var(--colab-primary-surface-color, white);\n",
              "                }\n",
              "\n",
              "                .geemap-colab .jupyter-button {\n",
              "                    --jp-layout-color3: var(--colab-primary-surface-color, white);\n",
              "                }\n",
              "            </style>\n",
              "            "
            ]
          },
          "metadata": {}
        }
      ],
      "source": [
        "# // Daily Mean Temperature\n",
        "era5_mean_temp = ee.ImageCollection('ECMWF/ERA5/DAILY').select('mean_2m_air_temperature').filter(ee.Filter.date(start, end)).filter(ee.Filter.calendarRange(4, 8,'month'))\n",
        "# era_md = era5_tp.median().clip(AOI)\n",
        "# Map.addLayer(era_md,visTp,'ERA5 Total Temp')\n",
        "# era5_mean_temp"
      ]
    },
    {
      "cell_type": "code",
      "execution_count": null,
      "metadata": {
        "colab": {
          "base_uri": "https://localhost:8080/"
        },
        "id": "bup5uXASF8xq",
        "outputId": "517470db-9ffc-4816-d7df-57861fda8db8"
      },
      "outputs": [
        {
          "output_type": "display_data",
          "data": {
            "text/plain": [
              "<IPython.core.display.HTML object>"
            ],
            "text/html": [
              "\n",
              "            <style>\n",
              "                .geemap-dark {\n",
              "                    --jp-widgets-color: white;\n",
              "                    --jp-widgets-label-color: white;\n",
              "                    --jp-ui-font-color1: white;\n",
              "                    --jp-layout-color2: #454545;\n",
              "                    background-color: #383838;\n",
              "                }\n",
              "\n",
              "                .geemap-dark .jupyter-button {\n",
              "                    --jp-layout-color3: #383838;\n",
              "                }\n",
              "\n",
              "                .geemap-colab {\n",
              "                    background-color: var(--colab-primary-surface-color, white);\n",
              "                }\n",
              "\n",
              "                .geemap-colab .jupyter-button {\n",
              "                    --jp-layout-color3: var(--colab-primary-surface-color, white);\n",
              "                }\n",
              "            </style>\n",
              "            "
            ]
          },
          "metadata": {}
        }
      ],
      "source": [
        "# */\n",
        "# //--------------- Get the MEAN--------------------------------------\n",
        "era5_mean_temp_mean = ee.ImageCollection.fromImages(years.map(lambda year: era5_mean_temp.filter(ee.Filter.calendarRange(year, year, 'year')).mean().set('Year',year)))\n",
        "# .rename(['blue','green','red','nir','swir1'])))\n",
        "# era5_mean_temp_mean"
      ]
    },
    {
      "cell_type": "code",
      "execution_count": null,
      "metadata": {
        "colab": {
          "base_uri": "https://localhost:8080/"
        },
        "id": "RnudorrNS-aS",
        "outputId": "8252f7d8-d7cb-42ea-f52e-4336fb3194b8"
      },
      "outputs": [
        {
          "output_type": "display_data",
          "data": {
            "text/plain": [
              "<IPython.core.display.HTML object>"
            ],
            "text/html": [
              "\n",
              "            <style>\n",
              "                .geemap-dark {\n",
              "                    --jp-widgets-color: white;\n",
              "                    --jp-widgets-label-color: white;\n",
              "                    --jp-ui-font-color1: white;\n",
              "                    --jp-layout-color2: #454545;\n",
              "                    background-color: #383838;\n",
              "                }\n",
              "\n",
              "                .geemap-dark .jupyter-button {\n",
              "                    --jp-layout-color3: #383838;\n",
              "                }\n",
              "\n",
              "                .geemap-colab {\n",
              "                    background-color: var(--colab-primary-surface-color, white);\n",
              "                }\n",
              "\n",
              "                .geemap-colab .jupyter-button {\n",
              "                    --jp-layout-color3: var(--colab-primary-surface-color, white);\n",
              "                }\n",
              "            </style>\n",
              "            "
            ]
          },
          "metadata": {}
        }
      ],
      "source": [
        "# era5_mean_temp_mean.toBands().bandNames().getInfo()"
      ]
    },
    {
      "cell_type": "code",
      "execution_count": null,
      "metadata": {
        "colab": {
          "base_uri": "https://localhost:8080/"
        },
        "id": "wgCr3gYWV50L",
        "outputId": "ddb3bd72-776a-463a-d7d9-e0e156673e62",
        "collapsed": true
      },
      "outputs": [
        {
          "output_type": "display_data",
          "data": {
            "text/plain": [
              "<IPython.core.display.HTML object>"
            ],
            "text/html": [
              "\n",
              "            <style>\n",
              "                .geemap-dark {\n",
              "                    --jp-widgets-color: white;\n",
              "                    --jp-widgets-label-color: white;\n",
              "                    --jp-ui-font-color1: white;\n",
              "                    --jp-layout-color2: #454545;\n",
              "                    background-color: #383838;\n",
              "                }\n",
              "\n",
              "                .geemap-dark .jupyter-button {\n",
              "                    --jp-layout-color3: #383838;\n",
              "                }\n",
              "\n",
              "                .geemap-colab {\n",
              "                    background-color: var(--colab-primary-surface-color, white);\n",
              "                }\n",
              "\n",
              "                .geemap-colab .jupyter-button {\n",
              "                    --jp-layout-color3: var(--colab-primary-surface-color, white);\n",
              "                }\n",
              "            </style>\n",
              "            "
            ]
          },
          "metadata": {}
        }
      ],
      "source": [
        "era5_mean_temp_mean_=era5_mean_temp_mean.toBands().select(era5_mean_temp_mean.toBands().bandNames().getInfo()\n",
        "    # ['0_mean_2m_air_temperature', '1_mean_2m_air_temperature', '2_mean_2m_air_temperature', '3_mean_2m_air_temperature', '4_mean_2m_air_temperature','5_mean_2m_air_temperature', '6_mean_2m_air_temperature',\n",
        "    #  '7_mean_2m_air_temperature','8_mean_2m_air_temperature','9_mean_2m_air_temperature','10_mean_2m_air_temperature'\n",
        "    #  ,'11_mean_2m_air_temperature','12_mean_2m_air_temperature','13_mean_2m_air_temperature'\n",
        "     ,[\n",
        " 'era5_2010_mean_temp','era5_2011_mean_temp','era5_2012_mean_temp','era5_2013_mean_temp', 'era5_2014_mean_temp',\n",
        " 'era5_2015_mean_temp', 'era5_2016_mean_temp','era5_2017_mean_temp', 'era5_2018_mean_temp' ,'era5_2019_mean_temp'\n",
        " ,'era5_2020_mean_temp'\n",
        "#  ,'era5_2021_mean_temp','era5_2022_mean_temp' ,'era5_2023_mean_temp'\n",
        " ])\n",
        "# era5_mean_temp_mean_.getInfo()"
      ]
    },
    {
      "cell_type": "markdown",
      "metadata": {
        "id": "PkBx1DplV7b5"
      },
      "source": [
        "**Daily Min Temperature**"
      ]
    },
    {
      "cell_type": "code",
      "execution_count": null,
      "metadata": {
        "colab": {
          "base_uri": "https://localhost:8080/"
        },
        "id": "1GGB-fc5_eOT",
        "outputId": "9b8b88a6-bd2d-4f2f-979b-649e0024785f"
      },
      "outputs": [
        {
          "output_type": "display_data",
          "data": {
            "text/plain": [
              "<IPython.core.display.HTML object>"
            ],
            "text/html": [
              "\n",
              "            <style>\n",
              "                .geemap-dark {\n",
              "                    --jp-widgets-color: white;\n",
              "                    --jp-widgets-label-color: white;\n",
              "                    --jp-ui-font-color1: white;\n",
              "                    --jp-layout-color2: #454545;\n",
              "                    background-color: #383838;\n",
              "                }\n",
              "\n",
              "                .geemap-dark .jupyter-button {\n",
              "                    --jp-layout-color3: #383838;\n",
              "                }\n",
              "\n",
              "                .geemap-colab {\n",
              "                    background-color: var(--colab-primary-surface-color, white);\n",
              "                }\n",
              "\n",
              "                .geemap-colab .jupyter-button {\n",
              "                    --jp-layout-color3: var(--colab-primary-surface-color, white);\n",
              "                }\n",
              "            </style>\n",
              "            "
            ]
          },
          "metadata": {}
        }
      ],
      "source": [
        "# // Daily MIn Temperature\n",
        "era5_min_temp = ee.ImageCollection('ECMWF/ERA5/DAILY').select('minimum_2m_air_temperature').filter(ee.Filter.date(start, end)).filter(ee.Filter.calendarRange(4, 8,'month'))\n",
        "# era5_min_temp"
      ]
    },
    {
      "cell_type": "code",
      "execution_count": null,
      "metadata": {
        "colab": {
          "base_uri": "https://localhost:8080/"
        },
        "id": "XuOmwHZiF98-",
        "outputId": "dcd9ac64-449b-43ff-a467-bdfd4445130f"
      },
      "outputs": [
        {
          "output_type": "display_data",
          "data": {
            "text/plain": [
              "<IPython.core.display.HTML object>"
            ],
            "text/html": [
              "\n",
              "            <style>\n",
              "                .geemap-dark {\n",
              "                    --jp-widgets-color: white;\n",
              "                    --jp-widgets-label-color: white;\n",
              "                    --jp-ui-font-color1: white;\n",
              "                    --jp-layout-color2: #454545;\n",
              "                    background-color: #383838;\n",
              "                }\n",
              "\n",
              "                .geemap-dark .jupyter-button {\n",
              "                    --jp-layout-color3: #383838;\n",
              "                }\n",
              "\n",
              "                .geemap-colab {\n",
              "                    background-color: var(--colab-primary-surface-color, white);\n",
              "                }\n",
              "\n",
              "                .geemap-colab .jupyter-button {\n",
              "                    --jp-layout-color3: var(--colab-primary-surface-color, white);\n",
              "                }\n",
              "            </style>\n",
              "            "
            ]
          },
          "metadata": {}
        }
      ],
      "source": [
        "# //--------------- Get the MEAN--------------------------------------\n",
        "era5_min_temp_mean = ee.ImageCollection.fromImages(years.map(lambda year: era5_min_temp.filter(ee.Filter.calendarRange(year, year, 'year')).mean().set('Year',year)))\n",
        "# era5_min_temp_mean"
      ]
    },
    {
      "cell_type": "code",
      "execution_count": null,
      "metadata": {
        "colab": {
          "base_uri": "https://localhost:8080/"
        },
        "id": "0pWNPnHXhc_b",
        "outputId": "fd3d9a31-6f50-4dbd-cf7b-09d759d9a259",
        "collapsed": true
      },
      "outputs": [
        {
          "output_type": "display_data",
          "data": {
            "text/plain": [
              "<IPython.core.display.HTML object>"
            ],
            "text/html": [
              "\n",
              "            <style>\n",
              "                .geemap-dark {\n",
              "                    --jp-widgets-color: white;\n",
              "                    --jp-widgets-label-color: white;\n",
              "                    --jp-ui-font-color1: white;\n",
              "                    --jp-layout-color2: #454545;\n",
              "                    background-color: #383838;\n",
              "                }\n",
              "\n",
              "                .geemap-dark .jupyter-button {\n",
              "                    --jp-layout-color3: #383838;\n",
              "                }\n",
              "\n",
              "                .geemap-colab {\n",
              "                    background-color: var(--colab-primary-surface-color, white);\n",
              "                }\n",
              "\n",
              "                .geemap-colab .jupyter-button {\n",
              "                    --jp-layout-color3: var(--colab-primary-surface-color, white);\n",
              "                }\n",
              "            </style>\n",
              "            "
            ]
          },
          "metadata": {}
        }
      ],
      "source": [
        "era5_min_temp_mean_=era5_min_temp_mean.toBands().select(era5_min_temp_mean.toBands().bandNames().getInfo()\n",
        "    # ['0_minimum_2m_air_temperature', '1_minimum_2m_air_temperature', '2_minimum_2m_air_temperature', '3_minimum_2m_air_temperature', '4_minimum_2m_air_temperature','5_minimum_2m_air_temperature', '6_minimum_2m_air_temperature', '7_minimum_2m_air_temperature',\n",
        "    #  '8_minimum_2m_air_temperature','9_minimum_2m_air_temperature','10_minimum_2m_air_temperature'\n",
        "    #  ,'11_minimum_2m_air_temperature','12_minimum_2m_air_temperature','13_minimum_2m_air_temperature']\n",
        "    ,[\n",
        " 'era5_2010_min_temp','era5_2011_min_temp','era5_2012_min_temp','era5_2013_min_temp', 'era5_2014_min_temp',\n",
        " 'era5_2015_min_temp','era5_2016_min_temp','era5_2017_min_temp', 'era5_2018_min_temp', 'era5_2019_min_temp','era5_2020_min_temp'\n",
        "#  ,'era5_2021_min_temp','era5_2022_min_temp' ,'era5_2023_min_temp'\n",
        " ])\n",
        "# era5_min_temp_mean_.getInfo()"
      ]
    },
    {
      "cell_type": "markdown",
      "metadata": {
        "id": "F8nIPi9NWLr6"
      },
      "source": [
        "**Daily Max Temperature**"
      ]
    },
    {
      "cell_type": "code",
      "execution_count": null,
      "metadata": {
        "colab": {
          "base_uri": "https://localhost:8080/"
        },
        "id": "_eBQmazs_d5Y",
        "outputId": "4d26eb40-d63e-4386-9acf-68b7b5218239"
      },
      "outputs": [
        {
          "output_type": "display_data",
          "data": {
            "text/plain": [
              "<IPython.core.display.HTML object>"
            ],
            "text/html": [
              "\n",
              "            <style>\n",
              "                .geemap-dark {\n",
              "                    --jp-widgets-color: white;\n",
              "                    --jp-widgets-label-color: white;\n",
              "                    --jp-ui-font-color1: white;\n",
              "                    --jp-layout-color2: #454545;\n",
              "                    background-color: #383838;\n",
              "                }\n",
              "\n",
              "                .geemap-dark .jupyter-button {\n",
              "                    --jp-layout-color3: #383838;\n",
              "                }\n",
              "\n",
              "                .geemap-colab {\n",
              "                    background-color: var(--colab-primary-surface-color, white);\n",
              "                }\n",
              "\n",
              "                .geemap-colab .jupyter-button {\n",
              "                    --jp-layout-color3: var(--colab-primary-surface-color, white);\n",
              "                }\n",
              "            </style>\n",
              "            "
            ]
          },
          "metadata": {}
        }
      ],
      "source": [
        "# // Daily Max Temperature\n",
        "era5_max_temp = ee.ImageCollection('ECMWF/ERA5/DAILY').select('maximum_2m_air_temperature').filter(ee.Filter.date(start, end)).filter(ee.Filter.calendarRange(4, 8,'month'))\n",
        "# era5_max_temp"
      ]
    },
    {
      "cell_type": "code",
      "execution_count": null,
      "metadata": {
        "colab": {
          "base_uri": "https://localhost:8080/"
        },
        "id": "248FQ6vBF-_R",
        "outputId": "b0aefbc1-2fb7-4338-e8d5-299784e782c3"
      },
      "outputs": [
        {
          "output_type": "display_data",
          "data": {
            "text/plain": [
              "<IPython.core.display.HTML object>"
            ],
            "text/html": [
              "\n",
              "            <style>\n",
              "                .geemap-dark {\n",
              "                    --jp-widgets-color: white;\n",
              "                    --jp-widgets-label-color: white;\n",
              "                    --jp-ui-font-color1: white;\n",
              "                    --jp-layout-color2: #454545;\n",
              "                    background-color: #383838;\n",
              "                }\n",
              "\n",
              "                .geemap-dark .jupyter-button {\n",
              "                    --jp-layout-color3: #383838;\n",
              "                }\n",
              "\n",
              "                .geemap-colab {\n",
              "                    background-color: var(--colab-primary-surface-color, white);\n",
              "                }\n",
              "\n",
              "                .geemap-colab .jupyter-button {\n",
              "                    --jp-layout-color3: var(--colab-primary-surface-color, white);\n",
              "                }\n",
              "            </style>\n",
              "            "
            ]
          },
          "metadata": {}
        }
      ],
      "source": [
        "# //--------------- Get the MEAN--------------------------------------\n",
        "era5_max_temp_mean = ee.ImageCollection.fromImages(years.map(lambda year: era5_max_temp.filter(ee.Filter.calendarRange(year, year, 'year')).mean().set('Year',year)))\n",
        "# era5_max_temp_mean"
      ]
    },
    {
      "cell_type": "code",
      "execution_count": null,
      "metadata": {
        "colab": {
          "base_uri": "https://localhost:8080/"
        },
        "id": "tgQy_tz7_dwT",
        "outputId": "46cb2313-89f5-47b6-9adf-6f7fae49c959",
        "collapsed": true
      },
      "outputs": [
        {
          "output_type": "display_data",
          "data": {
            "text/plain": [
              "<IPython.core.display.HTML object>"
            ],
            "text/html": [
              "\n",
              "            <style>\n",
              "                .geemap-dark {\n",
              "                    --jp-widgets-color: white;\n",
              "                    --jp-widgets-label-color: white;\n",
              "                    --jp-ui-font-color1: white;\n",
              "                    --jp-layout-color2: #454545;\n",
              "                    background-color: #383838;\n",
              "                }\n",
              "\n",
              "                .geemap-dark .jupyter-button {\n",
              "                    --jp-layout-color3: #383838;\n",
              "                }\n",
              "\n",
              "                .geemap-colab {\n",
              "                    background-color: var(--colab-primary-surface-color, white);\n",
              "                }\n",
              "\n",
              "                .geemap-colab .jupyter-button {\n",
              "                    --jp-layout-color3: var(--colab-primary-surface-color, white);\n",
              "                }\n",
              "            </style>\n",
              "            "
            ]
          },
          "metadata": {}
        }
      ],
      "source": [
        "era5_max_temp_mean_=era5_max_temp_mean.toBands().select(era5_max_temp_mean.toBands().bandNames().getInfo()\n",
        "    #   ['0_maximum_2m_air_temperature', '1_maximum_2m_air_temperature', '2_maximum_2m_air_temperature',\n",
        "    #    '3_maximum_2m_air_temperature', '4_maximum_2m_air_temperature','5_maximum_2m_air_temperature',\n",
        "    #    '6_maximum_2m_air_temperature', '7_maximum_2m_air_temperature',\n",
        "    #  '8_maximum_2m_air_temperature','9_maximum_2m_air_temperature','10_maximum_2m_air_temperature'\n",
        "    #  ,'11_maximum_2m_air_temperature','12_maximum_2m_air_temperature','13_maximum_2m_air_temperature']\n",
        "       ,[\n",
        " 'era5_2010_max_temp','era5_2011_max_temp','era5_2012_max_temp','era5_2013_max_temp', 'era5_2014_max_temp',\n",
        " 'era5_2015_max_temp','era5_2016_max_temp','era5_2017_max_temp', 'era5_2018_max_temp',\n",
        " 'era5_2019_max_temp','era5_2020_max_temp'\n",
        "#  ,'era5_2021_max_temp' ,'era5_2022_max_temp' ,'era5_2023_max_temp'\n",
        " ])\n",
        "# era5_max_temp_mean_.getInfo()"
      ]
    },
    {
      "cell_type": "markdown",
      "metadata": {
        "id": "aSZqTBCHWaEn"
      },
      "source": [
        "**Monthly Max Temperature**\n"
      ]
    },
    {
      "cell_type": "code",
      "execution_count": null,
      "metadata": {
        "colab": {
          "base_uri": "https://localhost:8080/"
        },
        "id": "bWgfoi3oWmaU",
        "outputId": "87dde507-b4fa-4dcc-b28e-6592ad676fbc"
      },
      "outputs": [
        {
          "output_type": "display_data",
          "data": {
            "text/plain": [
              "<IPython.core.display.HTML object>"
            ],
            "text/html": [
              "\n",
              "            <style>\n",
              "                .geemap-dark {\n",
              "                    --jp-widgets-color: white;\n",
              "                    --jp-widgets-label-color: white;\n",
              "                    --jp-ui-font-color1: white;\n",
              "                    --jp-layout-color2: #454545;\n",
              "                    background-color: #383838;\n",
              "                }\n",
              "\n",
              "                .geemap-dark .jupyter-button {\n",
              "                    --jp-layout-color3: #383838;\n",
              "                }\n",
              "\n",
              "                .geemap-colab {\n",
              "                    background-color: var(--colab-primary-surface-color, white);\n",
              "                }\n",
              "\n",
              "                .geemap-colab .jupyter-button {\n",
              "                    --jp-layout-color3: var(--colab-primary-surface-color, white);\n",
              "                }\n",
              "            </style>\n",
              "            "
            ]
          },
          "metadata": {}
        }
      ],
      "source": [
        "era5m_temp = ee.ImageCollection(\"ECMWF/ERA5/MONTHLY\").select('mean_2m_air_temperature').filter(ee.Filter.date(start, end)).filter(ee.Filter.calendarRange(4, 8,'month'))\n",
        "# era_mmd = era5_monthly.median().clip(AOI)\n",
        "# Map.addLayer(era_mmd,visMtp,'ERA5 Montly Prec')\n",
        "# era5m_temp"
      ]
    },
    {
      "cell_type": "code",
      "execution_count": null,
      "metadata": {
        "colab": {
          "base_uri": "https://localhost:8080/"
        },
        "id": "l9HOu1KgWmaU",
        "outputId": "14be270d-87d9-4c52-8cbe-96d2404383e4"
      },
      "outputs": [
        {
          "output_type": "display_data",
          "data": {
            "text/plain": [
              "<IPython.core.display.HTML object>"
            ],
            "text/html": [
              "\n",
              "            <style>\n",
              "                .geemap-dark {\n",
              "                    --jp-widgets-color: white;\n",
              "                    --jp-widgets-label-color: white;\n",
              "                    --jp-ui-font-color1: white;\n",
              "                    --jp-layout-color2: #454545;\n",
              "                    background-color: #383838;\n",
              "                }\n",
              "\n",
              "                .geemap-dark .jupyter-button {\n",
              "                    --jp-layout-color3: #383838;\n",
              "                }\n",
              "\n",
              "                .geemap-colab {\n",
              "                    background-color: var(--colab-primary-surface-color, white);\n",
              "                }\n",
              "\n",
              "                .geemap-colab .jupyter-button {\n",
              "                    --jp-layout-color3: var(--colab-primary-surface-color, white);\n",
              "                }\n",
              "            </style>\n",
              "            "
            ]
          },
          "metadata": {}
        }
      ],
      "source": [
        "# */\n",
        "# //--------------- Get the MEAN--------------------------------------\n",
        "era5m_temp_mean = ee.ImageCollection.fromImages(years.map(lambda year: era5m_temp.filter(ee.Filter.calendarRange(year, year, 'year')).mean()))\n",
        "# .rename(['blue','green','red','nir','swir1'])))\n",
        "# era5m_temp_mean"
      ]
    },
    {
      "cell_type": "code",
      "execution_count": null,
      "metadata": {
        "colab": {
          "base_uri": "https://localhost:8080/"
        },
        "id": "CHA4d-MeWmaV",
        "outputId": "f82cd429-2c8d-49dd-83cc-d2220c82116a",
        "collapsed": true
      },
      "outputs": [
        {
          "output_type": "display_data",
          "data": {
            "text/plain": [
              "<IPython.core.display.HTML object>"
            ],
            "text/html": [
              "\n",
              "            <style>\n",
              "                .geemap-dark {\n",
              "                    --jp-widgets-color: white;\n",
              "                    --jp-widgets-label-color: white;\n",
              "                    --jp-ui-font-color1: white;\n",
              "                    --jp-layout-color2: #454545;\n",
              "                    background-color: #383838;\n",
              "                }\n",
              "\n",
              "                .geemap-dark .jupyter-button {\n",
              "                    --jp-layout-color3: #383838;\n",
              "                }\n",
              "\n",
              "                .geemap-colab {\n",
              "                    background-color: var(--colab-primary-surface-color, white);\n",
              "                }\n",
              "\n",
              "                .geemap-colab .jupyter-button {\n",
              "                    --jp-layout-color3: var(--colab-primary-surface-color, white);\n",
              "                }\n",
              "            </style>\n",
              "            "
            ]
          },
          "metadata": {}
        }
      ],
      "source": [
        "# era5m_temp_mean.toBands().bandNames().getInfo()"
      ]
    },
    {
      "cell_type": "code",
      "execution_count": null,
      "metadata": {
        "colab": {
          "base_uri": "https://localhost:8080/"
        },
        "id": "ZKBTs7OSXMO_",
        "outputId": "db0dad89-f8d7-4594-900c-b106d27039d2",
        "collapsed": true
      },
      "outputs": [
        {
          "output_type": "display_data",
          "data": {
            "text/plain": [
              "<IPython.core.display.HTML object>"
            ],
            "text/html": [
              "\n",
              "            <style>\n",
              "                .geemap-dark {\n",
              "                    --jp-widgets-color: white;\n",
              "                    --jp-widgets-label-color: white;\n",
              "                    --jp-ui-font-color1: white;\n",
              "                    --jp-layout-color2: #454545;\n",
              "                    background-color: #383838;\n",
              "                }\n",
              "\n",
              "                .geemap-dark .jupyter-button {\n",
              "                    --jp-layout-color3: #383838;\n",
              "                }\n",
              "\n",
              "                .geemap-colab {\n",
              "                    background-color: var(--colab-primary-surface-color, white);\n",
              "                }\n",
              "\n",
              "                .geemap-colab .jupyter-button {\n",
              "                    --jp-layout-color3: var(--colab-primary-surface-color, white);\n",
              "                }\n",
              "            </style>\n",
              "            "
            ]
          },
          "metadata": {}
        }
      ],
      "source": [
        "era5m_temp_mean_=era5m_temp_mean.toBands().select(era5m_temp_mean.toBands().bandNames().getInfo()\n",
        "    # ['0_mean_2m_air_temperature', '1_mean_2m_air_temperature', '2_mean_2m_air_temperature', '3_mean_2m_air_temperature', '4_mean_2m_air_temperature','5_mean_2m_air_temperature', '6_mean_2m_air_temperature',\n",
        "    #  '7_mean_2m_air_temperature','8_mean_2m_air_temperature','9_mean_2m_air_temperature','10_mean_2m_air_temperature'\n",
        "    #  ,'11_mean_2m_air_temperature','12_mean_2m_air_temperature','13_mean_2m_air_temperature'\n",
        "     ,[\n",
        " 'era5m_2010_mean_temp','era5m_2011_mean_temp','era5m_2012_mean_temp','era5m_2013_mean_temp', 'era5m_2014_mean_temp',\n",
        " 'era5m_2015_mean_temp', 'era5m_2016_mean_temp','era5m_2017_mean_temp', 'era5m_2018_mean_temp' ,'era5m_2019_mean_temp'\n",
        " ,'era5m_2020_mean_temp'\n",
        "#  ,'era5m_2021_mean_temp','era5m_2022_mean_temp' ,'era5m_2023_mean_temp'\n",
        " ])\n",
        "# era5m_temp_mean_.getInfo()"
      ]
    },
    {
      "cell_type": "markdown",
      "metadata": {
        "id": "cYCElEF7X0KM"
      },
      "source": [
        "**Monthly MIn Temperature**"
      ]
    },
    {
      "cell_type": "code",
      "execution_count": null,
      "metadata": {
        "colab": {
          "base_uri": "https://localhost:8080/"
        },
        "id": "XHXzv-7dXxgT",
        "outputId": "64f8c386-6840-4e04-ef91-20b597475bf1"
      },
      "outputs": [
        {
          "output_type": "display_data",
          "data": {
            "text/plain": [
              "<IPython.core.display.HTML object>"
            ],
            "text/html": [
              "\n",
              "            <style>\n",
              "                .geemap-dark {\n",
              "                    --jp-widgets-color: white;\n",
              "                    --jp-widgets-label-color: white;\n",
              "                    --jp-ui-font-color1: white;\n",
              "                    --jp-layout-color2: #454545;\n",
              "                    background-color: #383838;\n",
              "                }\n",
              "\n",
              "                .geemap-dark .jupyter-button {\n",
              "                    --jp-layout-color3: #383838;\n",
              "                }\n",
              "\n",
              "                .geemap-colab {\n",
              "                    background-color: var(--colab-primary-surface-color, white);\n",
              "                }\n",
              "\n",
              "                .geemap-colab .jupyter-button {\n",
              "                    --jp-layout-color3: var(--colab-primary-surface-color, white);\n",
              "                }\n",
              "            </style>\n",
              "            "
            ]
          },
          "metadata": {}
        }
      ],
      "source": [
        "# // Monthly MIn Temperature\n",
        "era5m_min_temp = ee.ImageCollection('ECMWF/ERA5/MONTHLY').select('minimum_2m_air_temperature').filter(ee.Filter.date(start, end)).filter(ee.Filter.calendarRange(4, 8,'month'))\n",
        "# era5m_min_temp"
      ]
    },
    {
      "cell_type": "code",
      "execution_count": null,
      "metadata": {
        "colab": {
          "base_uri": "https://localhost:8080/"
        },
        "id": "tJuxhS5VXxgT",
        "outputId": "173143d4-363d-41af-a0cd-61e12dfd2f8f"
      },
      "outputs": [
        {
          "output_type": "display_data",
          "data": {
            "text/plain": [
              "<IPython.core.display.HTML object>"
            ],
            "text/html": [
              "\n",
              "            <style>\n",
              "                .geemap-dark {\n",
              "                    --jp-widgets-color: white;\n",
              "                    --jp-widgets-label-color: white;\n",
              "                    --jp-ui-font-color1: white;\n",
              "                    --jp-layout-color2: #454545;\n",
              "                    background-color: #383838;\n",
              "                }\n",
              "\n",
              "                .geemap-dark .jupyter-button {\n",
              "                    --jp-layout-color3: #383838;\n",
              "                }\n",
              "\n",
              "                .geemap-colab {\n",
              "                    background-color: var(--colab-primary-surface-color, white);\n",
              "                }\n",
              "\n",
              "                .geemap-colab .jupyter-button {\n",
              "                    --jp-layout-color3: var(--colab-primary-surface-color, white);\n",
              "                }\n",
              "            </style>\n",
              "            "
            ]
          },
          "metadata": {}
        }
      ],
      "source": [
        "# //--------------- Get the MEAN--------------------------------------\n",
        "era5m_min_temp_mean = ee.ImageCollection.fromImages(years.map(lambda year: era5m_min_temp.filter(ee.Filter.calendarRange(year, year, 'year')).mean().set('Year',year)))\n",
        "# era5m_min_temp_mean"
      ]
    },
    {
      "cell_type": "code",
      "execution_count": null,
      "metadata": {
        "colab": {
          "base_uri": "https://localhost:8080/"
        },
        "id": "vRXqwz97XxgT",
        "outputId": "1ed0ff8b-0892-4d1a-d82f-6307426093e1",
        "collapsed": true
      },
      "outputs": [
        {
          "output_type": "display_data",
          "data": {
            "text/plain": [
              "<IPython.core.display.HTML object>"
            ],
            "text/html": [
              "\n",
              "            <style>\n",
              "                .geemap-dark {\n",
              "                    --jp-widgets-color: white;\n",
              "                    --jp-widgets-label-color: white;\n",
              "                    --jp-ui-font-color1: white;\n",
              "                    --jp-layout-color2: #454545;\n",
              "                    background-color: #383838;\n",
              "                }\n",
              "\n",
              "                .geemap-dark .jupyter-button {\n",
              "                    --jp-layout-color3: #383838;\n",
              "                }\n",
              "\n",
              "                .geemap-colab {\n",
              "                    background-color: var(--colab-primary-surface-color, white);\n",
              "                }\n",
              "\n",
              "                .geemap-colab .jupyter-button {\n",
              "                    --jp-layout-color3: var(--colab-primary-surface-color, white);\n",
              "                }\n",
              "            </style>\n",
              "            "
            ]
          },
          "metadata": {}
        }
      ],
      "source": [
        "era5m_min_temp_mean_=era5m_min_temp_mean.toBands().select(era5m_min_temp_mean.toBands().bandNames().getInfo()\n",
        "    # ['0_minimum_2m_air_temperature', '1_minimum_2m_air_temperature', '2_minimum_2m_air_temperature', '3_minimum_2m_air_temperature', '4_minimum_2m_air_temperature','5_minimum_2m_air_temperature', '6_minimum_2m_air_temperature', '7_minimum_2m_air_temperature',\n",
        "    #  '8_minimum_2m_air_temperature','9_minimum_2m_air_temperature','10_minimum_2m_air_temperature'\n",
        "    #  ,'11_minimum_2m_air_temperature','12_minimum_2m_air_temperature','13_minimum_2m_air_temperature']\n",
        "    ,[\n",
        " 'era5m_2010_min_temp','era5m_2011_min_temp','era5m_2012_min_temp','era5m_2013_min_temp', 'era5m_2014_min_temp',\n",
        " 'era5m_2015_min_temp','era5m_2016_min_temp','era5m_2017_min_temp', 'era5m_2018_min_temp', 'era5m_2019_min_temp','era5m_2020_min_temp'\n",
        "#  ,'era5m_2021_min_temp','era5m_2022_min_temp' ,'era5m_2023_min_temp'\n",
        " ])\n",
        "# era5m_min_temp_mean_.getInfo()"
      ]
    },
    {
      "cell_type": "markdown",
      "metadata": {
        "id": "PQskeqY9YapA"
      },
      "source": [
        "**Monthly Max Temperature**"
      ]
    },
    {
      "cell_type": "code",
      "execution_count": null,
      "metadata": {
        "colab": {
          "base_uri": "https://localhost:8080/"
        },
        "id": "s7oROanyYYiG",
        "outputId": "c4b0583d-dc5a-48bd-9c49-daaea92006b0"
      },
      "outputs": [
        {
          "output_type": "display_data",
          "data": {
            "text/plain": [
              "<IPython.core.display.HTML object>"
            ],
            "text/html": [
              "\n",
              "            <style>\n",
              "                .geemap-dark {\n",
              "                    --jp-widgets-color: white;\n",
              "                    --jp-widgets-label-color: white;\n",
              "                    --jp-ui-font-color1: white;\n",
              "                    --jp-layout-color2: #454545;\n",
              "                    background-color: #383838;\n",
              "                }\n",
              "\n",
              "                .geemap-dark .jupyter-button {\n",
              "                    --jp-layout-color3: #383838;\n",
              "                }\n",
              "\n",
              "                .geemap-colab {\n",
              "                    background-color: var(--colab-primary-surface-color, white);\n",
              "                }\n",
              "\n",
              "                .geemap-colab .jupyter-button {\n",
              "                    --jp-layout-color3: var(--colab-primary-surface-color, white);\n",
              "                }\n",
              "            </style>\n",
              "            "
            ]
          },
          "metadata": {}
        }
      ],
      "source": [
        "# // Daily Max Temperature\n",
        "era5m_max_temp = ee.ImageCollection('ECMWF/ERA5/MONTHLY').select('maximum_2m_air_temperature').filter(ee.Filter.date(start, end)).filter(ee.Filter.calendarRange(4, 8,'month'))\n",
        "# era5m_max_temp"
      ]
    },
    {
      "cell_type": "code",
      "execution_count": null,
      "metadata": {
        "colab": {
          "base_uri": "https://localhost:8080/"
        },
        "id": "OpFBn3KSYYiH",
        "outputId": "dc4bb2f6-b5b8-43e1-89ef-ad755796d001"
      },
      "outputs": [
        {
          "output_type": "display_data",
          "data": {
            "text/plain": [
              "<IPython.core.display.HTML object>"
            ],
            "text/html": [
              "\n",
              "            <style>\n",
              "                .geemap-dark {\n",
              "                    --jp-widgets-color: white;\n",
              "                    --jp-widgets-label-color: white;\n",
              "                    --jp-ui-font-color1: white;\n",
              "                    --jp-layout-color2: #454545;\n",
              "                    background-color: #383838;\n",
              "                }\n",
              "\n",
              "                .geemap-dark .jupyter-button {\n",
              "                    --jp-layout-color3: #383838;\n",
              "                }\n",
              "\n",
              "                .geemap-colab {\n",
              "                    background-color: var(--colab-primary-surface-color, white);\n",
              "                }\n",
              "\n",
              "                .geemap-colab .jupyter-button {\n",
              "                    --jp-layout-color3: var(--colab-primary-surface-color, white);\n",
              "                }\n",
              "            </style>\n",
              "            "
            ]
          },
          "metadata": {}
        }
      ],
      "source": [
        "# */\n",
        "# //--------------- Get the MEAN--------------------------------------\n",
        "era5m_max_temp_mean = ee.ImageCollection.fromImages(years.map(lambda year: era5m_max_temp.filter(ee.Filter.calendarRange(year, year, 'year')).mean().set('Year',year)))\n",
        "# era5m_max_temp_mean"
      ]
    },
    {
      "cell_type": "code",
      "execution_count": null,
      "metadata": {
        "colab": {
          "base_uri": "https://localhost:8080/"
        },
        "id": "AnavYqQlYYiH",
        "outputId": "e7d0dfeb-8015-4247-fd4b-19402f916bf6",
        "collapsed": true
      },
      "outputs": [
        {
          "output_type": "display_data",
          "data": {
            "text/plain": [
              "<IPython.core.display.HTML object>"
            ],
            "text/html": [
              "\n",
              "            <style>\n",
              "                .geemap-dark {\n",
              "                    --jp-widgets-color: white;\n",
              "                    --jp-widgets-label-color: white;\n",
              "                    --jp-ui-font-color1: white;\n",
              "                    --jp-layout-color2: #454545;\n",
              "                    background-color: #383838;\n",
              "                }\n",
              "\n",
              "                .geemap-dark .jupyter-button {\n",
              "                    --jp-layout-color3: #383838;\n",
              "                }\n",
              "\n",
              "                .geemap-colab {\n",
              "                    background-color: var(--colab-primary-surface-color, white);\n",
              "                }\n",
              "\n",
              "                .geemap-colab .jupyter-button {\n",
              "                    --jp-layout-color3: var(--colab-primary-surface-color, white);\n",
              "                }\n",
              "            </style>\n",
              "            "
            ]
          },
          "metadata": {}
        }
      ],
      "source": [
        "era5m_max_temp_mean_=era5m_max_temp_mean.toBands().select(era5m_max_temp_mean.toBands().bandNames().getInfo()\n",
        "    #   ['0_maximum_2m_air_temperature', '1_maximum_2m_air_temperature', '2_maximum_2m_air_temperature',\n",
        "    #    '3_maximum_2m_air_temperature', '4_maximum_2m_air_temperature','5_maximum_2m_air_temperature',\n",
        "    #    '6_maximum_2m_air_temperature', '7_maximum_2m_air_temperature',\n",
        "    #  '8_maximum_2m_air_temperature','9_maximum_2m_air_temperature','10_maximum_2m_air_temperature'\n",
        "    #  ,'11_maximum_2m_air_temperature','12_maximum_2m_air_temperature','13_maximum_2m_air_temperature']\n",
        "       ,[\n",
        " 'era5m_2010_max_temp','era5m_2011_max_temp','era5m_2012_max_temp','era5m_2013_max_temp', 'era5m_2014_max_temp',\n",
        " 'era5m_2015_max_temp','era5m_2016_max_temp','era5m_2017_max_temp', 'era5m_2018_max_temp',\n",
        " 'era5m_2019_max_temp','era5m_2020_max_temp'\n",
        "#  ,'era5m_2021_max_temp' ,'era5m_2022_max_temp' ,'era5m_2023_max_temp'\n",
        " ])\n",
        "# era5m_max_temp_mean_.getInfo()"
      ]
    },
    {
      "cell_type": "markdown",
      "metadata": {
        "id": "M6Qg2NI8VIp8"
      },
      "source": [
        "# ERA 5 Wind"
      ]
    },
    {
      "cell_type": "code",
      "execution_count": null,
      "metadata": {
        "colab": {
          "base_uri": "https://localhost:8080/"
        },
        "id": "Qnn4x1c9A0MH",
        "outputId": "1e2f8e3e-ca08-4b5e-9404-60dc6243e470"
      },
      "outputs": [
        {
          "output_type": "display_data",
          "data": {
            "text/plain": [
              "<IPython.core.display.HTML object>"
            ],
            "text/html": [
              "\n",
              "            <style>\n",
              "                .geemap-dark {\n",
              "                    --jp-widgets-color: white;\n",
              "                    --jp-widgets-label-color: white;\n",
              "                    --jp-ui-font-color1: white;\n",
              "                    --jp-layout-color2: #454545;\n",
              "                    background-color: #383838;\n",
              "                }\n",
              "\n",
              "                .geemap-dark .jupyter-button {\n",
              "                    --jp-layout-color3: #383838;\n",
              "                }\n",
              "\n",
              "                .geemap-colab {\n",
              "                    background-color: var(--colab-primary-surface-color, white);\n",
              "                }\n",
              "\n",
              "                .geemap-colab .jupyter-button {\n",
              "                    --jp-layout-color3: var(--colab-primary-surface-color, white);\n",
              "                }\n",
              "            </style>\n",
              "            "
            ]
          },
          "metadata": {}
        }
      ],
      "source": [
        "# // Daily mean 10m u-component of wind\n",
        "era5_u_wind_10m = ee.ImageCollection('ECMWF/ERA5/DAILY').select('u_component_of_wind_10m').filter(ee.Filter.date(start, end)).filter(ee.Filter.calendarRange(4, 8,'month'))\n",
        "# era5_u_wind_10m"
      ]
    },
    {
      "cell_type": "code",
      "execution_count": null,
      "metadata": {
        "colab": {
          "base_uri": "https://localhost:8080/"
        },
        "id": "DPUTu3u3qSpa",
        "outputId": "5ecae6aa-3eec-412f-8923-982410369f9f"
      },
      "outputs": [
        {
          "output_type": "display_data",
          "data": {
            "text/plain": [
              "<IPython.core.display.HTML object>"
            ],
            "text/html": [
              "\n",
              "            <style>\n",
              "                .geemap-dark {\n",
              "                    --jp-widgets-color: white;\n",
              "                    --jp-widgets-label-color: white;\n",
              "                    --jp-ui-font-color1: white;\n",
              "                    --jp-layout-color2: #454545;\n",
              "                    background-color: #383838;\n",
              "                }\n",
              "\n",
              "                .geemap-dark .jupyter-button {\n",
              "                    --jp-layout-color3: #383838;\n",
              "                }\n",
              "\n",
              "                .geemap-colab {\n",
              "                    background-color: var(--colab-primary-surface-color, white);\n",
              "                }\n",
              "\n",
              "                .geemap-colab .jupyter-button {\n",
              "                    --jp-layout-color3: var(--colab-primary-surface-color, white);\n",
              "                }\n",
              "            </style>\n",
              "            "
            ]
          },
          "metadata": {}
        }
      ],
      "source": [
        "# //--------------- Get the MEAN--------------------------------------\n",
        "era5_u_wind_10m_mean = ee.ImageCollection.fromImages(years.map(lambda year: era5_u_wind_10m.filter(ee.Filter.calendarRange(year, year, 'year')).mean()))\n",
        "# .rename(['blue','green','red','nir','swir1'])))\n",
        "# era5_u_wind_10m_mean"
      ]
    },
    {
      "cell_type": "code",
      "execution_count": null,
      "metadata": {
        "colab": {
          "base_uri": "https://localhost:8080/"
        },
        "id": "Ew-GKRsrw3V6",
        "outputId": "666ae80f-7207-45ef-a70b-424fb43cec56",
        "collapsed": true
      },
      "outputs": [
        {
          "output_type": "display_data",
          "data": {
            "text/plain": [
              "<IPython.core.display.HTML object>"
            ],
            "text/html": [
              "\n",
              "            <style>\n",
              "                .geemap-dark {\n",
              "                    --jp-widgets-color: white;\n",
              "                    --jp-widgets-label-color: white;\n",
              "                    --jp-ui-font-color1: white;\n",
              "                    --jp-layout-color2: #454545;\n",
              "                    background-color: #383838;\n",
              "                }\n",
              "\n",
              "                .geemap-dark .jupyter-button {\n",
              "                    --jp-layout-color3: #383838;\n",
              "                }\n",
              "\n",
              "                .geemap-colab {\n",
              "                    background-color: var(--colab-primary-surface-color, white);\n",
              "                }\n",
              "\n",
              "                .geemap-colab .jupyter-button {\n",
              "                    --jp-layout-color3: var(--colab-primary-surface-color, white);\n",
              "                }\n",
              "            </style>\n",
              "            "
            ]
          },
          "metadata": {}
        }
      ],
      "source": [
        "# era5_u_wind_10m_mean.toBands().bandNames().getInfo()"
      ]
    },
    {
      "cell_type": "code",
      "execution_count": null,
      "metadata": {
        "colab": {
          "base_uri": "https://localhost:8080/"
        },
        "id": "sR9FZerKw3WH",
        "outputId": "0c3cb238-86e7-4ac2-818f-a984fd10fe16",
        "collapsed": true
      },
      "outputs": [
        {
          "output_type": "display_data",
          "data": {
            "text/plain": [
              "<IPython.core.display.HTML object>"
            ],
            "text/html": [
              "\n",
              "            <style>\n",
              "                .geemap-dark {\n",
              "                    --jp-widgets-color: white;\n",
              "                    --jp-widgets-label-color: white;\n",
              "                    --jp-ui-font-color1: white;\n",
              "                    --jp-layout-color2: #454545;\n",
              "                    background-color: #383838;\n",
              "                }\n",
              "\n",
              "                .geemap-dark .jupyter-button {\n",
              "                    --jp-layout-color3: #383838;\n",
              "                }\n",
              "\n",
              "                .geemap-colab {\n",
              "                    background-color: var(--colab-primary-surface-color, white);\n",
              "                }\n",
              "\n",
              "                .geemap-colab .jupyter-button {\n",
              "                    --jp-layout-color3: var(--colab-primary-surface-color, white);\n",
              "                }\n",
              "            </style>\n",
              "            "
            ]
          },
          "metadata": {}
        }
      ],
      "source": [
        "era5_u_wind_10m_mean_=era5_u_wind_10m_mean.toBands().select(era5_u_wind_10m_mean.toBands().bandNames().getInfo()\n",
        "    # ['0_u_component_of_wind_10m', '1_u_component_of_wind_10m', '2_u_component_of_wind_10m'\n",
        "    # , '3_u_component_of_wind_10m', '4_u_component_of_wind_10m',\n",
        "    #  '5_u_component_of_wind_10m', '6_u_component_of_wind_10m', '7_u_component_of_wind_10m', '8_u_component_of_wind_10m'\n",
        "    # '9_u_component_of_wind_10m','10_u_component_of_wind_10m','11_u_component_of_wind_10m','12_u_component_of_wind_10m','13_u_component_of_wind_10m']\n",
        "    ,[\n",
        " 'era5_2010_u_component_of_wind_10m','era5_2011_u_component_of_wind_10m','era5_2012_u_component_of_wind_10m','era5_2013_u_component_of_wind_10m',\n",
        " 'era5_2014_u_component_of_wind_10m','era5_2015_u_component_of_wind_10m','era5_2016_u_component_of_wind_10m','era5_2017_u_component_of_wind_10m',\n",
        " 'era5_2018_u_component_of_wind_10m', 'era5_2019_u_component_of_wind_10m','era5_2020_u_component_of_wind_10m'\n",
        "#  ,'era5_2021_u_component_of_wind_10m' ,'era5_2022_u_component_of_wind_10m' ,'era5_2023_u_component_of_wind_10m'\n",
        " ])\n",
        "# era5_u_wind_10m_mean_.getInfo()"
      ]
    },
    {
      "cell_type": "markdown",
      "metadata": {
        "id": "IveUJHN0ZCjE"
      },
      "source": [
        "**Monthly mean 10m u-component of wind**"
      ]
    },
    {
      "cell_type": "code",
      "execution_count": null,
      "metadata": {
        "colab": {
          "base_uri": "https://localhost:8080/"
        },
        "id": "WI32mqauFvE5",
        "outputId": "8e463bbf-01f8-4e5d-a428-c8bb87f3d626"
      },
      "outputs": [
        {
          "output_type": "display_data",
          "data": {
            "text/plain": [
              "<IPython.core.display.HTML object>"
            ],
            "text/html": [
              "\n",
              "            <style>\n",
              "                .geemap-dark {\n",
              "                    --jp-widgets-color: white;\n",
              "                    --jp-widgets-label-color: white;\n",
              "                    --jp-ui-font-color1: white;\n",
              "                    --jp-layout-color2: #454545;\n",
              "                    background-color: #383838;\n",
              "                }\n",
              "\n",
              "                .geemap-dark .jupyter-button {\n",
              "                    --jp-layout-color3: #383838;\n",
              "                }\n",
              "\n",
              "                .geemap-colab {\n",
              "                    background-color: var(--colab-primary-surface-color, white);\n",
              "                }\n",
              "\n",
              "                .geemap-colab .jupyter-button {\n",
              "                    --jp-layout-color3: var(--colab-primary-surface-color, white);\n",
              "                }\n",
              "            </style>\n",
              "            "
            ]
          },
          "metadata": {}
        }
      ],
      "source": [
        "# // Monthly mean 10m u-component of wind\n",
        "era5_u_wind_10monthly = ee.ImageCollection('ECMWF/ERA5/MONTHLY').select('u_component_of_wind_10m').filter(ee.Filter.date(start, end)).filter(ee.Filter.calendarRange(4, 8,'month'))\n",
        "# era5_u_wind_10m"
      ]
    },
    {
      "cell_type": "code",
      "execution_count": null,
      "metadata": {
        "colab": {
          "base_uri": "https://localhost:8080/"
        },
        "id": "XWINEvvXFvFA",
        "outputId": "aa295d4e-fa58-4750-d1d4-d6017f395592"
      },
      "outputs": [
        {
          "output_type": "display_data",
          "data": {
            "text/plain": [
              "<IPython.core.display.HTML object>"
            ],
            "text/html": [
              "\n",
              "            <style>\n",
              "                .geemap-dark {\n",
              "                    --jp-widgets-color: white;\n",
              "                    --jp-widgets-label-color: white;\n",
              "                    --jp-ui-font-color1: white;\n",
              "                    --jp-layout-color2: #454545;\n",
              "                    background-color: #383838;\n",
              "                }\n",
              "\n",
              "                .geemap-dark .jupyter-button {\n",
              "                    --jp-layout-color3: #383838;\n",
              "                }\n",
              "\n",
              "                .geemap-colab {\n",
              "                    background-color: var(--colab-primary-surface-color, white);\n",
              "                }\n",
              "\n",
              "                .geemap-colab .jupyter-button {\n",
              "                    --jp-layout-color3: var(--colab-primary-surface-color, white);\n",
              "                }\n",
              "            </style>\n",
              "            "
            ]
          },
          "metadata": {}
        }
      ],
      "source": [
        "# //--------------- Get the MEAN--------------------------------------\n",
        "era5_u_wind_10monthly_mean = ee.ImageCollection.fromImages(years.map(lambda year: era5_u_wind_10monthly.filter(ee.Filter.calendarRange(year, year, 'year')).mean()))\n",
        "\n",
        "# era5_u_wind_10monthly_mean"
      ]
    },
    {
      "cell_type": "code",
      "execution_count": null,
      "metadata": {
        "colab": {
          "base_uri": "https://localhost:8080/"
        },
        "id": "K7KvpG1lFvFA",
        "outputId": "f628f4e0-2d0b-428b-e563-a8aa807ec2d3"
      },
      "outputs": [
        {
          "output_type": "display_data",
          "data": {
            "text/plain": [
              "<IPython.core.display.HTML object>"
            ],
            "text/html": [
              "\n",
              "            <style>\n",
              "                .geemap-dark {\n",
              "                    --jp-widgets-color: white;\n",
              "                    --jp-widgets-label-color: white;\n",
              "                    --jp-ui-font-color1: white;\n",
              "                    --jp-layout-color2: #454545;\n",
              "                    background-color: #383838;\n",
              "                }\n",
              "\n",
              "                .geemap-dark .jupyter-button {\n",
              "                    --jp-layout-color3: #383838;\n",
              "                }\n",
              "\n",
              "                .geemap-colab {\n",
              "                    background-color: var(--colab-primary-surface-color, white);\n",
              "                }\n",
              "\n",
              "                .geemap-colab .jupyter-button {\n",
              "                    --jp-layout-color3: var(--colab-primary-surface-color, white);\n",
              "                }\n",
              "            </style>\n",
              "            "
            ]
          },
          "metadata": {}
        }
      ],
      "source": [
        "# era5_u_wind_10monthly_mean.toBands().bandNames().getInfo()"
      ]
    },
    {
      "cell_type": "code",
      "execution_count": null,
      "metadata": {
        "colab": {
          "base_uri": "https://localhost:8080/"
        },
        "id": "HC1z10LxFvFA",
        "outputId": "938feb39-e0bb-49d1-e6f7-d3efb10366c4"
      },
      "outputs": [
        {
          "output_type": "display_data",
          "data": {
            "text/plain": [
              "<IPython.core.display.HTML object>"
            ],
            "text/html": [
              "\n",
              "            <style>\n",
              "                .geemap-dark {\n",
              "                    --jp-widgets-color: white;\n",
              "                    --jp-widgets-label-color: white;\n",
              "                    --jp-ui-font-color1: white;\n",
              "                    --jp-layout-color2: #454545;\n",
              "                    background-color: #383838;\n",
              "                }\n",
              "\n",
              "                .geemap-dark .jupyter-button {\n",
              "                    --jp-layout-color3: #383838;\n",
              "                }\n",
              "\n",
              "                .geemap-colab {\n",
              "                    background-color: var(--colab-primary-surface-color, white);\n",
              "                }\n",
              "\n",
              "                .geemap-colab .jupyter-button {\n",
              "                    --jp-layout-color3: var(--colab-primary-surface-color, white);\n",
              "                }\n",
              "            </style>\n",
              "            "
            ]
          },
          "metadata": {}
        }
      ],
      "source": [
        "era5_u_wind_10monthly_mean_=era5_u_wind_10monthly_mean.toBands().select(era5_u_wind_10monthly_mean.toBands().bandNames().getInfo()\n",
        "  #   ['0_u_component_of_wind_10m', '1_u_component_of_wind_10m', '2_u_component_of_wind_10m'\n",
        "  #   , '3_u_component_of_wind_10m', '4_u_component_of_wind_10m',\n",
        "  #    '5_u_component_of_wind_10m', '6_u_component_of_wind_10m', '7_u_component_of_wind_10m', '8_u_component_of_wind_10m'\n",
        "  #  , '9_u_component_of_wind_10m','10_u_component_of_wind_10m'\n",
        "    #  ,'11_u_component_of_wind_10m','12_u_component_of_wind_10m','13_u_component_of_wind_10m']\n",
        "     ,[\n",
        "'era5m_2010_u_component_of_wind_10m','era5m_2011_u_component_of_wind_10m','era5m_2012_u_component_of_wind_10m','era5m_2013_u_component_of_wind_10m',\n",
        " 'era5m_2014_u_component_of_wind_10m','era5m_2015_u_component_of_wind_10m','era5m_2016_u_component_of_wind_10m','era5m_2017_u_component_of_wind_10m', 'era5m_2018_u_component_of_wind_10m'\n",
        " ,'era5m_2019_u_component_of_wind_10m','era5m_2020_u_component_of_wind_10m'\n",
        "#  ,'era5m_2021_u_component_of_wind_10m'  ,'era5m_2022_u_component_of_wind_10m' ,'era5m_2023_u_component_of_wind_10m'\n",
        " ])\n",
        "# era5_u_wind_10monthly_mean_.getInfo()"
      ]
    },
    {
      "cell_type": "markdown",
      "metadata": {
        "id": "wL_s6Xx5VSFz"
      },
      "source": [
        "# CHIRPS Rainfall"
      ]
    },
    {
      "cell_type": "code",
      "execution_count": null,
      "metadata": {
        "colab": {
          "base_uri": "https://localhost:8080/"
        },
        "id": "fELbb8gSPB-g",
        "outputId": "2d25da8e-2ea3-4282-83b8-a9e6e9ef97ad"
      },
      "outputs": [
        {
          "output_type": "display_data",
          "data": {
            "text/plain": [
              "<IPython.core.display.HTML object>"
            ],
            "text/html": [
              "\n",
              "            <style>\n",
              "                .geemap-dark {\n",
              "                    --jp-widgets-color: white;\n",
              "                    --jp-widgets-label-color: white;\n",
              "                    --jp-ui-font-color1: white;\n",
              "                    --jp-layout-color2: #454545;\n",
              "                    background-color: #383838;\n",
              "                }\n",
              "\n",
              "                .geemap-dark .jupyter-button {\n",
              "                    --jp-layout-color3: #383838;\n",
              "                }\n",
              "\n",
              "                .geemap-colab {\n",
              "                    background-color: var(--colab-primary-surface-color, white);\n",
              "                }\n",
              "\n",
              "                .geemap-colab .jupyter-button {\n",
              "                    --jp-layout-color3: var(--colab-primary-surface-color, white);\n",
              "                }\n",
              "            </style>\n",
              "            "
            ]
          },
          "metadata": {}
        }
      ],
      "source": [
        "chirps_d = ee.ImageCollection('UCSB-CHG/CHIRPS/DAILY').select('precipitation')\\\n",
        "                    .filter(ee.Filter.date(start, end))\\\n",
        "                    .filter(ee.Filter.calendarRange(4, 8,'month'))\n",
        "# chirps_dm = chirps_d.median().clip(AOI)\n",
        "# Map.addLayer(chirps_dm,visChirps,'CHIRPS Daily Prec')\n",
        "# chirps_d"
      ]
    },
    {
      "cell_type": "code",
      "execution_count": null,
      "metadata": {
        "colab": {
          "base_uri": "https://localhost:8080/"
        },
        "id": "dAado6J0qoCK",
        "outputId": "6be7ad59-4996-45ce-e7fe-f6eabb429d6b"
      },
      "outputs": [
        {
          "output_type": "display_data",
          "data": {
            "text/plain": [
              "<IPython.core.display.HTML object>"
            ],
            "text/html": [
              "\n",
              "            <style>\n",
              "                .geemap-dark {\n",
              "                    --jp-widgets-color: white;\n",
              "                    --jp-widgets-label-color: white;\n",
              "                    --jp-ui-font-color1: white;\n",
              "                    --jp-layout-color2: #454545;\n",
              "                    background-color: #383838;\n",
              "                }\n",
              "\n",
              "                .geemap-dark .jupyter-button {\n",
              "                    --jp-layout-color3: #383838;\n",
              "                }\n",
              "\n",
              "                .geemap-colab {\n",
              "                    background-color: var(--colab-primary-surface-color, white);\n",
              "                }\n",
              "\n",
              "                .geemap-colab .jupyter-button {\n",
              "                    --jp-layout-color3: var(--colab-primary-surface-color, white);\n",
              "                }\n",
              "            </style>\n",
              "            "
            ]
          },
          "metadata": {}
        }
      ],
      "source": [
        "# */\n",
        "# //--------------- Get the MEAN--------------------------------------\n",
        "chirps_d_mean = ee.ImageCollection.fromImages(years.map(lambda year: chirps_d.filter(ee.Filter.calendarRange(year, year, 'year')).mean()))\n",
        "# .rename(['blue','green','red','nir','swir1'])))\n",
        "# chirps_d_mean"
      ]
    },
    {
      "cell_type": "code",
      "execution_count": null,
      "metadata": {
        "colab": {
          "base_uri": "https://localhost:8080/"
        },
        "id": "7p7m6gGZzgEP",
        "outputId": "73180737-e64e-4165-8cfe-d50945d482a0"
      },
      "outputs": [
        {
          "output_type": "display_data",
          "data": {
            "text/plain": [
              "<IPython.core.display.HTML object>"
            ],
            "text/html": [
              "\n",
              "            <style>\n",
              "                .geemap-dark {\n",
              "                    --jp-widgets-color: white;\n",
              "                    --jp-widgets-label-color: white;\n",
              "                    --jp-ui-font-color1: white;\n",
              "                    --jp-layout-color2: #454545;\n",
              "                    background-color: #383838;\n",
              "                }\n",
              "\n",
              "                .geemap-dark .jupyter-button {\n",
              "                    --jp-layout-color3: #383838;\n",
              "                }\n",
              "\n",
              "                .geemap-colab {\n",
              "                    background-color: var(--colab-primary-surface-color, white);\n",
              "                }\n",
              "\n",
              "                .geemap-colab .jupyter-button {\n",
              "                    --jp-layout-color3: var(--colab-primary-surface-color, white);\n",
              "                }\n",
              "            </style>\n",
              "            "
            ]
          },
          "metadata": {}
        }
      ],
      "source": [
        "# chirps_d_mean.toBands().bandNames().getInfo()"
      ]
    },
    {
      "cell_type": "code",
      "execution_count": null,
      "metadata": {
        "colab": {
          "base_uri": "https://localhost:8080/"
        },
        "id": "_YQoSl9GzgEa",
        "outputId": "4039d07d-654d-401d-d508-71cad697df4f",
        "collapsed": true
      },
      "outputs": [
        {
          "output_type": "display_data",
          "data": {
            "text/plain": [
              "<IPython.core.display.HTML object>"
            ],
            "text/html": [
              "\n",
              "            <style>\n",
              "                .geemap-dark {\n",
              "                    --jp-widgets-color: white;\n",
              "                    --jp-widgets-label-color: white;\n",
              "                    --jp-ui-font-color1: white;\n",
              "                    --jp-layout-color2: #454545;\n",
              "                    background-color: #383838;\n",
              "                }\n",
              "\n",
              "                .geemap-dark .jupyter-button {\n",
              "                    --jp-layout-color3: #383838;\n",
              "                }\n",
              "\n",
              "                .geemap-colab {\n",
              "                    background-color: var(--colab-primary-surface-color, white);\n",
              "                }\n",
              "\n",
              "                .geemap-colab .jupyter-button {\n",
              "                    --jp-layout-color3: var(--colab-primary-surface-color, white);\n",
              "                }\n",
              "            </style>\n",
              "            "
            ]
          },
          "metadata": {}
        }
      ],
      "source": [
        "chirps_d_mean_=chirps_d_mean.toBands().select(chirps_d_mean.toBands().bandNames().getInfo()\n",
        "  # ['0_precipitation', '1_precipitation', '2_precipitation', '3_precipitation', '4_precipitation'\n",
        "  # , '5_precipitation', '6_precipitation',\n",
        "  #  '7_precipitation', '8_precipitation','9_precipitation','10_precipitation','11_precipitation','12_precipitation','13_precipitation']\n",
        " ,[\n",
        "  'chirps_2010_precipitation','chirps_2011_precipitation','chirps_2012_precipitation','chirps_2013_precipitation','chirps_2014_precipitation',\n",
        "  'chirps_2015_precipitation',  'chirps_2016_precipitation','chirps_2017_precipitation','chirps_2018_precipitation',\n",
        "  'chirps_2019_precipitation','chirps_2020_precipitation','chirps_2021_precipitation','chirps_2022_precipitation','chirps_2023_precipitation'\n",
        "  ])\n",
        "# chirps_d_mean_.getInfo()"
      ]
    },
    {
      "cell_type": "markdown",
      "metadata": {
        "id": "CcnASY7WceGw"
      },
      "source": [
        "**Monthly Chirps Rainfall**"
      ]
    },
    {
      "cell_type": "code",
      "execution_count": null,
      "metadata": {
        "colab": {
          "base_uri": "https://localhost:8080/"
        },
        "id": "YqYFsOoLQKbd",
        "outputId": "505f8d2e-9c5d-4c2b-da85-5e4d273b76e0"
      },
      "outputs": [
        {
          "output_type": "display_data",
          "data": {
            "text/plain": [
              "<IPython.core.display.HTML object>"
            ],
            "text/html": [
              "\n",
              "            <style>\n",
              "                .geemap-dark {\n",
              "                    --jp-widgets-color: white;\n",
              "                    --jp-widgets-label-color: white;\n",
              "                    --jp-ui-font-color1: white;\n",
              "                    --jp-layout-color2: #454545;\n",
              "                    background-color: #383838;\n",
              "                }\n",
              "\n",
              "                .geemap-dark .jupyter-button {\n",
              "                    --jp-layout-color3: #383838;\n",
              "                }\n",
              "\n",
              "                .geemap-colab {\n",
              "                    background-color: var(--colab-primary-surface-color, white);\n",
              "                }\n",
              "\n",
              "                .geemap-colab .jupyter-button {\n",
              "                    --jp-layout-color3: var(--colab-primary-surface-color, white);\n",
              "                }\n",
              "            </style>\n",
              "            "
            ]
          },
          "metadata": {}
        }
      ],
      "source": [
        "chirps_m = ee.ImageCollection('UCSB-CHG/CHIRPS/PENTAD').select('precipitation').filter(ee.Filter.date(start, end)).filter(ee.Filter.calendarRange(4, 8,'month'))\n",
        "# chirps_mm = chirps_d.median().clip(AOI)\n",
        "# Map.addLayer(chirps_mm,visChirps,'CHIRPS Montly Prec')\n",
        "# chirps_m"
      ]
    },
    {
      "cell_type": "code",
      "execution_count": null,
      "metadata": {
        "colab": {
          "base_uri": "https://localhost:8080/"
        },
        "id": "UseVq70fqy5N",
        "outputId": "97f4c719-bca5-410f-d758-3e0c2053f2f3"
      },
      "outputs": [
        {
          "output_type": "display_data",
          "data": {
            "text/plain": [
              "<IPython.core.display.HTML object>"
            ],
            "text/html": [
              "\n",
              "            <style>\n",
              "                .geemap-dark {\n",
              "                    --jp-widgets-color: white;\n",
              "                    --jp-widgets-label-color: white;\n",
              "                    --jp-ui-font-color1: white;\n",
              "                    --jp-layout-color2: #454545;\n",
              "                    background-color: #383838;\n",
              "                }\n",
              "\n",
              "                .geemap-dark .jupyter-button {\n",
              "                    --jp-layout-color3: #383838;\n",
              "                }\n",
              "\n",
              "                .geemap-colab {\n",
              "                    background-color: var(--colab-primary-surface-color, white);\n",
              "                }\n",
              "\n",
              "                .geemap-colab .jupyter-button {\n",
              "                    --jp-layout-color3: var(--colab-primary-surface-color, white);\n",
              "                }\n",
              "            </style>\n",
              "            "
            ]
          },
          "metadata": {}
        }
      ],
      "source": [
        "# */\n",
        "# //--------------- Get the MEAN--------------------------------------\n",
        "chirps_m_mean = ee.ImageCollection.fromImages(years.map(lambda year: chirps_m.filter(ee.Filter.calendarRange(year, year, 'year')).mean()))\n",
        "# .rename(['blue','green','red','nir','swir1'])))\n",
        "# chirps_m_mean"
      ]
    },
    {
      "cell_type": "code",
      "execution_count": null,
      "metadata": {
        "colab": {
          "base_uri": "https://localhost:8080/"
        },
        "id": "56kGEYrm1Ro2",
        "outputId": "ab427684-2bec-4963-c126-10155e31dc7b",
        "collapsed": true
      },
      "outputs": [
        {
          "output_type": "display_data",
          "data": {
            "text/plain": [
              "<IPython.core.display.HTML object>"
            ],
            "text/html": [
              "\n",
              "            <style>\n",
              "                .geemap-dark {\n",
              "                    --jp-widgets-color: white;\n",
              "                    --jp-widgets-label-color: white;\n",
              "                    --jp-ui-font-color1: white;\n",
              "                    --jp-layout-color2: #454545;\n",
              "                    background-color: #383838;\n",
              "                }\n",
              "\n",
              "                .geemap-dark .jupyter-button {\n",
              "                    --jp-layout-color3: #383838;\n",
              "                }\n",
              "\n",
              "                .geemap-colab {\n",
              "                    background-color: var(--colab-primary-surface-color, white);\n",
              "                }\n",
              "\n",
              "                .geemap-colab .jupyter-button {\n",
              "                    --jp-layout-color3: var(--colab-primary-surface-color, white);\n",
              "                }\n",
              "            </style>\n",
              "            "
            ]
          },
          "metadata": {}
        }
      ],
      "source": [
        "# chirps_m_mean.toBands().bandNames().getInfo()"
      ]
    },
    {
      "cell_type": "code",
      "execution_count": null,
      "metadata": {
        "colab": {
          "base_uri": "https://localhost:8080/"
        },
        "id": "C2FK6vbe1Ro3",
        "outputId": "5d318731-1a46-408d-e410-e6788853729f",
        "collapsed": true
      },
      "outputs": [
        {
          "output_type": "display_data",
          "data": {
            "text/plain": [
              "<IPython.core.display.HTML object>"
            ],
            "text/html": [
              "\n",
              "            <style>\n",
              "                .geemap-dark {\n",
              "                    --jp-widgets-color: white;\n",
              "                    --jp-widgets-label-color: white;\n",
              "                    --jp-ui-font-color1: white;\n",
              "                    --jp-layout-color2: #454545;\n",
              "                    background-color: #383838;\n",
              "                }\n",
              "\n",
              "                .geemap-dark .jupyter-button {\n",
              "                    --jp-layout-color3: #383838;\n",
              "                }\n",
              "\n",
              "                .geemap-colab {\n",
              "                    background-color: var(--colab-primary-surface-color, white);\n",
              "                }\n",
              "\n",
              "                .geemap-colab .jupyter-button {\n",
              "                    --jp-layout-color3: var(--colab-primary-surface-color, white);\n",
              "                }\n",
              "            </style>\n",
              "            "
            ]
          },
          "metadata": {}
        }
      ],
      "source": [
        "chirps_m_mean_=chirps_m_mean.toBands().select(chirps_m_mean.toBands().bandNames().getInfo()\n",
        "  # ['0_precipitation', '1_precipitation', '2_precipitation', '3_precipitation', '4_precipitation'\n",
        "  # , '5_precipitation', '6_precipitation', '7_precipitation', '8_precipitation',\n",
        "  #  '9_precipitation', '10_precipitation', '11_precipitation', '12_precipitation', '13_precipitation' ]\n",
        "   ,[\n",
        "  'chirpsm_2010_precipitation','chirpsm_2011_precipitation','chirpsm_2012_precipitation','chirpsm_2013_precipitation','chirpsm_2014_precipitation',\n",
        "  'chirpsm_2015_precipitation','chirpsm_2016_precipitation','chirpsm_2017_precipitation','chirpsm_2018_precipitation',\n",
        "  'chirpsm_2019_precipitation','chirpsm_2020_precipitation','chirpsm_2021_precipitation','chirpsm_2022_precipitation','chirpsm_2023_precipitation'\n",
        "  ])\n",
        "# chirps_m_mean_.getInfo()"
      ]
    },
    {
      "cell_type": "markdown",
      "metadata": {
        "id": "MouNmwLVbHRw"
      },
      "source": [
        "# MODIS LST"
      ]
    },
    {
      "cell_type": "code",
      "execution_count": null,
      "metadata": {
        "colab": {
          "base_uri": "https://localhost:8080/"
        },
        "id": "at1FzX-3RP0z",
        "outputId": "286aae49-7382-4c1c-8e7a-149c48d3a684"
      },
      "outputs": [
        {
          "output_type": "display_data",
          "data": {
            "text/plain": [
              "<IPython.core.display.HTML object>"
            ],
            "text/html": [
              "\n",
              "            <style>\n",
              "                .geemap-dark {\n",
              "                    --jp-widgets-color: white;\n",
              "                    --jp-widgets-label-color: white;\n",
              "                    --jp-ui-font-color1: white;\n",
              "                    --jp-layout-color2: #454545;\n",
              "                    background-color: #383838;\n",
              "                }\n",
              "\n",
              "                .geemap-dark .jupyter-button {\n",
              "                    --jp-layout-color3: #383838;\n",
              "                }\n",
              "\n",
              "                .geemap-colab {\n",
              "                    background-color: var(--colab-primary-surface-color, white);\n",
              "                }\n",
              "\n",
              "                .geemap-colab .jupyter-button {\n",
              "                    --jp-layout-color3: var(--colab-primary-surface-color, white);\n",
              "                }\n",
              "            </style>\n",
              "            "
            ]
          },
          "metadata": {}
        }
      ],
      "source": [
        "start= ee.Date('2010-04-01')\n",
        "end = ee.Date('2023-08-31')\n",
        "years = ee.List.sequence(2010,2023)"
      ]
    },
    {
      "cell_type": "code",
      "execution_count": null,
      "metadata": {
        "colab": {
          "base_uri": "https://localhost:8080/"
        },
        "id": "mZ9C8WXFQPRY",
        "outputId": "f071828e-2461-4430-8be3-b1dc0434fc07"
      },
      "outputs": [
        {
          "output_type": "display_data",
          "data": {
            "text/plain": [
              "<IPython.core.display.HTML object>"
            ],
            "text/html": [
              "\n",
              "            <style>\n",
              "                .geemap-dark {\n",
              "                    --jp-widgets-color: white;\n",
              "                    --jp-widgets-label-color: white;\n",
              "                    --jp-ui-font-color1: white;\n",
              "                    --jp-layout-color2: #454545;\n",
              "                    background-color: #383838;\n",
              "                }\n",
              "\n",
              "                .geemap-dark .jupyter-button {\n",
              "                    --jp-layout-color3: #383838;\n",
              "                }\n",
              "\n",
              "                .geemap-colab {\n",
              "                    background-color: var(--colab-primary-surface-color, white);\n",
              "                }\n",
              "\n",
              "                .geemap-colab .jupyter-button {\n",
              "                    --jp-layout-color3: var(--colab-primary-surface-color, white);\n",
              "                }\n",
              "            </style>\n",
              "            "
            ]
          },
          "metadata": {}
        }
      ],
      "source": [
        "modislst_m = ee.ImageCollection('MODIS/061/MOD11A1').select('LST_Day_1km').filter(ee.Filter.date(start, end)).filter(ee.Filter.calendarRange(4, 8,'month'))\n",
        "# modislst_m"
      ]
    },
    {
      "cell_type": "code",
      "execution_count": null,
      "metadata": {
        "colab": {
          "base_uri": "https://localhost:8080/"
        },
        "id": "VWP6XX2JQPFr",
        "outputId": "b6252d26-4e19-4083-9911-5c3bf8ae680f"
      },
      "outputs": [
        {
          "output_type": "display_data",
          "data": {
            "text/plain": [
              "<IPython.core.display.HTML object>"
            ],
            "text/html": [
              "\n",
              "            <style>\n",
              "                .geemap-dark {\n",
              "                    --jp-widgets-color: white;\n",
              "                    --jp-widgets-label-color: white;\n",
              "                    --jp-ui-font-color1: white;\n",
              "                    --jp-layout-color2: #454545;\n",
              "                    background-color: #383838;\n",
              "                }\n",
              "\n",
              "                .geemap-dark .jupyter-button {\n",
              "                    --jp-layout-color3: #383838;\n",
              "                }\n",
              "\n",
              "                .geemap-colab {\n",
              "                    background-color: var(--colab-primary-surface-color, white);\n",
              "                }\n",
              "\n",
              "                .geemap-colab .jupyter-button {\n",
              "                    --jp-layout-color3: var(--colab-primary-surface-color, white);\n",
              "                }\n",
              "            </style>\n",
              "            "
            ]
          },
          "metadata": {}
        }
      ],
      "source": [
        "# */\n",
        "# //--------------- Get the MEAN--------------------------------------\n",
        "modislst_m_mean = ee.ImageCollection.fromImages(years.map(lambda year: modislst_m.filter(ee.Filter.calendarRange(year, year, 'year')).mean()))\n",
        "# .rename(['blue','green','red','nir','swir1'])))\n",
        "# modislst_m_mean"
      ]
    },
    {
      "cell_type": "code",
      "execution_count": null,
      "metadata": {
        "id": "jaX-3IodQO4r",
        "colab": {
          "base_uri": "https://localhost:8080/"
        },
        "outputId": "5988f77b-e350-4b20-f917-ef114d3124cf"
      },
      "outputs": [
        {
          "output_type": "display_data",
          "data": {
            "text/plain": [
              "<IPython.core.display.HTML object>"
            ],
            "text/html": [
              "\n",
              "            <style>\n",
              "                .geemap-dark {\n",
              "                    --jp-widgets-color: white;\n",
              "                    --jp-widgets-label-color: white;\n",
              "                    --jp-ui-font-color1: white;\n",
              "                    --jp-layout-color2: #454545;\n",
              "                    background-color: #383838;\n",
              "                }\n",
              "\n",
              "                .geemap-dark .jupyter-button {\n",
              "                    --jp-layout-color3: #383838;\n",
              "                }\n",
              "\n",
              "                .geemap-colab {\n",
              "                    background-color: var(--colab-primary-surface-color, white);\n",
              "                }\n",
              "\n",
              "                .geemap-colab .jupyter-button {\n",
              "                    --jp-layout-color3: var(--colab-primary-surface-color, white);\n",
              "                }\n",
              "            </style>\n",
              "            "
            ]
          },
          "metadata": {}
        }
      ],
      "source": [
        "# modislst_m_mean.toBands().bandNames().getInfo()"
      ]
    },
    {
      "cell_type": "code",
      "execution_count": null,
      "metadata": {
        "colab": {
          "base_uri": "https://localhost:8080/"
        },
        "id": "r1sY-E4sQZO0",
        "outputId": "f7f81eee-3e9c-414a-99ec-a74fbecf566c"
      },
      "outputs": [
        {
          "output_type": "display_data",
          "data": {
            "text/plain": [
              "<IPython.core.display.HTML object>"
            ],
            "text/html": [
              "\n",
              "            <style>\n",
              "                .geemap-dark {\n",
              "                    --jp-widgets-color: white;\n",
              "                    --jp-widgets-label-color: white;\n",
              "                    --jp-ui-font-color1: white;\n",
              "                    --jp-layout-color2: #454545;\n",
              "                    background-color: #383838;\n",
              "                }\n",
              "\n",
              "                .geemap-dark .jupyter-button {\n",
              "                    --jp-layout-color3: #383838;\n",
              "                }\n",
              "\n",
              "                .geemap-colab {\n",
              "                    background-color: var(--colab-primary-surface-color, white);\n",
              "                }\n",
              "\n",
              "                .geemap-colab .jupyter-button {\n",
              "                    --jp-layout-color3: var(--colab-primary-surface-color, white);\n",
              "                }\n",
              "            </style>\n",
              "            "
            ]
          },
          "metadata": {}
        }
      ],
      "source": [
        "modislst_m_mean_=modislst_m_mean.toBands().select(modislst_m_mean.toBands().bandNames().getInfo()\n",
        "#   ['0_LST_Day_1km', '1_LST_Day_1km', '2_LST_Day_1km', '3_LST_Day_1km', '4_LST_Day_1km', '5_LST_Day_1km', '6_LST_Day_1km', '7_LST_Day_1km',\n",
        "#  '8_LST_Day_1km', '9_LST_Day_1km', '10_LST_Day_1km', '11_LST_Day_1km', '12_LST_Day_1km', '13_LST_Day_1km' ]\n",
        "  ,[\n",
        "  'modis_2010_lst','modis_2011_lst','modis_2012_lst','modis_2013_lst','modis_2014_lst',\n",
        "  'modis_2015_lst','modis_2016_lst','modis_2017_lst','modis_2018_lst',\n",
        "  'modis_2019_lst','modis_2020_lst','modis_2021_lst','modis_2022_lst','modis_2023_lst'])\n",
        "# modislst_m_mean_.getInfo()"
      ]
    },
    {
      "cell_type": "markdown",
      "metadata": {
        "id": "HKVOk__bbMP4"
      },
      "source": [
        "# MERGE IMGCOL"
      ]
    },
    {
      "cell_type": "code",
      "execution_count": null,
      "metadata": {
        "colab": {
          "base_uri": "https://localhost:8080/"
        },
        "id": "uT7_ebw4sRt2",
        "outputId": "77ef7243-8312-4173-f3f0-19c5f24e3ac4"
      },
      "outputs": [
        {
          "output_type": "display_data",
          "data": {
            "text/plain": [
              "<IPython.core.display.HTML object>"
            ],
            "text/html": [
              "\n",
              "            <style>\n",
              "                .geemap-dark {\n",
              "                    --jp-widgets-color: white;\n",
              "                    --jp-widgets-label-color: white;\n",
              "                    --jp-ui-font-color1: white;\n",
              "                    --jp-layout-color2: #454545;\n",
              "                    background-color: #383838;\n",
              "                }\n",
              "\n",
              "                .geemap-dark .jupyter-button {\n",
              "                    --jp-layout-color3: #383838;\n",
              "                }\n",
              "\n",
              "                .geemap-colab {\n",
              "                    background-color: var(--colab-primary-surface-color, white);\n",
              "                }\n",
              "\n",
              "                .geemap-colab .jupyter-button {\n",
              "                    --jp-layout-color3: var(--colab-primary-surface-color, white);\n",
              "                }\n",
              "            </style>\n",
              "            "
            ]
          },
          "metadata": {}
        }
      ],
      "source": [
        "imageList = [era5_tp_mean_,\n",
        "             era5_monthly_mean_,\n",
        "             era5_mean_temp_mean_,\n",
        "             era5_min_temp_mean_,\n",
        "             era5_max_temp_mean_,\n",
        "             era5m_temp_mean_,\n",
        "             era5m_min_temp_mean_,\n",
        "             era5m_max_temp_mean_,\n",
        "             era5_u_wind_10m_mean_,\n",
        "             era5_u_wind_10monthly_mean_,\n",
        "             chirps_d_mean_,chirps_m_mean_,\n",
        "             modislst_m_mean_,\n",
        "             l8_2010,l8_2011,l8_2012,l8_2013,l8_2014,l8_2015,l8_2016,l8_2017,l8_2018,l8_2019,l8_2020,l8_2021,l8_2022]\n",
        "\n",
        "# imageList = [chirps_d_mean_,chirps_m_mean_]"
      ]
    },
    {
      "cell_type": "code",
      "execution_count": null,
      "metadata": {
        "id": "HWk9m-ACrpVp",
        "colab": {
          "base_uri": "https://localhost:8080/"
        },
        "outputId": "84e98deb-a025-4e4c-a9d4-4a73bc6d43bf"
      },
      "outputs": [
        {
          "output_type": "display_data",
          "data": {
            "text/plain": [
              "<IPython.core.display.HTML object>"
            ],
            "text/html": [
              "\n",
              "            <style>\n",
              "                .geemap-dark {\n",
              "                    --jp-widgets-color: white;\n",
              "                    --jp-widgets-label-color: white;\n",
              "                    --jp-ui-font-color1: white;\n",
              "                    --jp-layout-color2: #454545;\n",
              "                    background-color: #383838;\n",
              "                }\n",
              "\n",
              "                .geemap-dark .jupyter-button {\n",
              "                    --jp-layout-color3: #383838;\n",
              "                }\n",
              "\n",
              "                .geemap-colab {\n",
              "                    background-color: var(--colab-primary-surface-color, white);\n",
              "                }\n",
              "\n",
              "                .geemap-colab .jupyter-button {\n",
              "                    --jp-layout-color3: var(--colab-primary-surface-color, white);\n",
              "                }\n",
              "            </style>\n",
              "            "
            ]
          },
          "metadata": {}
        }
      ],
      "source": [
        "# // Merge the list of images into an image collection\n",
        "imgcol = ee.ImageCollection.fromImages(imageList)\n"
      ]
    },
    {
      "cell_type": "code",
      "execution_count": null,
      "metadata": {
        "id": "KKY0Vmpf2Tjq",
        "colab": {
          "base_uri": "https://localhost:8080/"
        },
        "outputId": "89048026-3e33-4aaf-b4b5-8af9f7801c52"
      },
      "outputs": [
        {
          "output_type": "display_data",
          "data": {
            "text/plain": [
              "<IPython.core.display.HTML object>"
            ],
            "text/html": [
              "\n",
              "            <style>\n",
              "                .geemap-dark {\n",
              "                    --jp-widgets-color: white;\n",
              "                    --jp-widgets-label-color: white;\n",
              "                    --jp-ui-font-color1: white;\n",
              "                    --jp-layout-color2: #454545;\n",
              "                    background-color: #383838;\n",
              "                }\n",
              "\n",
              "                .geemap-dark .jupyter-button {\n",
              "                    --jp-layout-color3: #383838;\n",
              "                }\n",
              "\n",
              "                .geemap-colab {\n",
              "                    background-color: var(--colab-primary-surface-color, white);\n",
              "                }\n",
              "\n",
              "                .geemap-colab .jupyter-button {\n",
              "                    --jp-layout-color3: var(--colab-primary-surface-color, white);\n",
              "                }\n",
              "            </style>\n",
              "            "
            ]
          },
          "metadata": {}
        }
      ],
      "source": [
        "imgcol_ = imgcol.toBands()\n",
        "# imgcol_.getInfo()"
      ]
    },
    {
      "cell_type": "code",
      "execution_count": null,
      "metadata": {
        "id": "z8Ves9qz75hJ",
        "colab": {
          "base_uri": "https://localhost:8080/"
        },
        "outputId": "75570274-9266-4104-a8c4-522a9cfa5b6f"
      },
      "outputs": [
        {
          "output_type": "display_data",
          "data": {
            "text/plain": [
              "<IPython.core.display.HTML object>"
            ],
            "text/html": [
              "\n",
              "            <style>\n",
              "                .geemap-dark {\n",
              "                    --jp-widgets-color: white;\n",
              "                    --jp-widgets-label-color: white;\n",
              "                    --jp-ui-font-color1: white;\n",
              "                    --jp-layout-color2: #454545;\n",
              "                    background-color: #383838;\n",
              "                }\n",
              "\n",
              "                .geemap-dark .jupyter-button {\n",
              "                    --jp-layout-color3: #383838;\n",
              "                }\n",
              "\n",
              "                .geemap-colab {\n",
              "                    background-color: var(--colab-primary-surface-color, white);\n",
              "                }\n",
              "\n",
              "                .geemap-colab .jupyter-button {\n",
              "                    --jp-layout-color3: var(--colab-primary-surface-color, white);\n",
              "                }\n",
              "            </style>\n",
              "            "
            ]
          },
          "metadata": {}
        }
      ],
      "source": [
        "imgcol_repr = imgcol_.reproject(crs='EPSG:4326', scale=30)"
      ]
    },
    {
      "cell_type": "code",
      "execution_count": null,
      "metadata": {
        "id": "vg1KxmRmLUMh",
        "colab": {
          "base_uri": "https://localhost:8080/"
        },
        "outputId": "cee613bf-dd70-446a-e4f1-12493cef9c07"
      },
      "outputs": [
        {
          "output_type": "display_data",
          "data": {
            "text/plain": [
              "<IPython.core.display.HTML object>"
            ],
            "text/html": [
              "\n",
              "            <style>\n",
              "                .geemap-dark {\n",
              "                    --jp-widgets-color: white;\n",
              "                    --jp-widgets-label-color: white;\n",
              "                    --jp-ui-font-color1: white;\n",
              "                    --jp-layout-color2: #454545;\n",
              "                    background-color: #383838;\n",
              "                }\n",
              "\n",
              "                .geemap-dark .jupyter-button {\n",
              "                    --jp-layout-color3: #383838;\n",
              "                }\n",
              "\n",
              "                .geemap-colab {\n",
              "                    background-color: var(--colab-primary-surface-color, white);\n",
              "                }\n",
              "\n",
              "                .geemap-colab .jupyter-button {\n",
              "                    --jp-layout-color3: var(--colab-primary-surface-color, white);\n",
              "                }\n",
              "            </style>\n",
              "            "
            ]
          },
          "metadata": {}
        }
      ],
      "source": [
        "asset_id = ee.FeatureCollection(\"projects/ee-maizeyield/assets/LR_18/rf_12_20\")\n"
      ]
    },
    {
      "cell_type": "code",
      "execution_count": null,
      "metadata": {
        "id": "YfibI7xKLMci",
        "colab": {
          "base_uri": "https://localhost:8080/"
        },
        "outputId": "b123de98-cd9f-4dbb-9327-2dbee5ee0770"
      },
      "outputs": [
        {
          "output_type": "display_data",
          "data": {
            "text/plain": [
              "<IPython.core.display.HTML object>"
            ],
            "text/html": [
              "\n",
              "            <style>\n",
              "                .geemap-dark {\n",
              "                    --jp-widgets-color: white;\n",
              "                    --jp-widgets-label-color: white;\n",
              "                    --jp-ui-font-color1: white;\n",
              "                    --jp-layout-color2: #454545;\n",
              "                    background-color: #383838;\n",
              "                }\n",
              "\n",
              "                .geemap-dark .jupyter-button {\n",
              "                    --jp-layout-color3: #383838;\n",
              "                }\n",
              "\n",
              "                .geemap-colab {\n",
              "                    background-color: var(--colab-primary-surface-color, white);\n",
              "                }\n",
              "\n",
              "                .geemap-colab .jupyter-button {\n",
              "                    --jp-layout-color3: var(--colab-primary-surface-color, white);\n",
              "                }\n",
              "            </style>\n",
              "            "
            ]
          },
          "metadata": {}
        }
      ],
      "source": [
        "# read the exported tree feature collection\n",
        "rf_fc = ee.FeatureCollection(asset_id)\n",
        "\n",
        "# convert it to a classifier, very similar to the `ml.trees_to_classifier` function\n",
        "another_classifier = ml.fc_to_classifier(rf_fc)\n"
      ]
    },
    {
      "cell_type": "code",
      "execution_count": null,
      "metadata": {
        "id": "Fwg2lNwnraLP",
        "colab": {
          "base_uri": "https://localhost:8080/"
        },
        "outputId": "e835234b-563d-4460-f91b-2a3cb671659d"
      },
      "outputs": [
        {
          "output_type": "display_data",
          "data": {
            "text/plain": [
              "<IPython.core.display.HTML object>"
            ],
            "text/html": [
              "\n",
              "            <style>\n",
              "                .geemap-dark {\n",
              "                    --jp-widgets-color: white;\n",
              "                    --jp-widgets-label-color: white;\n",
              "                    --jp-ui-font-color1: white;\n",
              "                    --jp-layout-color2: #454545;\n",
              "                    background-color: #383838;\n",
              "                }\n",
              "\n",
              "                .geemap-dark .jupyter-button {\n",
              "                    --jp-layout-color3: #383838;\n",
              "                }\n",
              "\n",
              "                .geemap-colab {\n",
              "                    background-color: var(--colab-primary-surface-color, white);\n",
              "                }\n",
              "\n",
              "                .geemap-colab .jupyter-button {\n",
              "                    --jp-layout-color3: var(--colab-primary-surface-color, white);\n",
              "                }\n",
              "            </style>\n",
              "            "
            ]
          },
          "metadata": {}
        }
      ],
      "source": [
        "# feature_names = [ 'nsi','gli', 'sipi','era5_wind', 'era5m_prec','era5_mean_temp', 'era5_min_temp', 'era5_max_temp',\n",
        "#         'era5m_mean_temp','chirpsm_prec']\n",
        "\n",
        "feature_names = ['era5d_prec','era5_min_temp','gpp','npp', 'wdvi','chirpsd_prec','gli','gvi','arvi2']"
      ]
    },
    {
      "cell_type": "code",
      "execution_count": null,
      "metadata": {
        "id": "kI2CnDGGPN1O",
        "colab": {
          "base_uri": "https://localhost:8080/"
        },
        "outputId": "903ee2b3-1c04-4009-b724-e05dd716d36d"
      },
      "outputs": [
        {
          "output_type": "display_data",
          "data": {
            "text/plain": [
              "<IPython.core.display.HTML object>"
            ],
            "text/html": [
              "\n",
              "            <style>\n",
              "                .geemap-dark {\n",
              "                    --jp-widgets-color: white;\n",
              "                    --jp-widgets-label-color: white;\n",
              "                    --jp-ui-font-color1: white;\n",
              "                    --jp-layout-color2: #454545;\n",
              "                    background-color: #383838;\n",
              "                }\n",
              "\n",
              "                .geemap-dark .jupyter-button {\n",
              "                    --jp-layout-color3: #383838;\n",
              "                }\n",
              "\n",
              "                .geemap-colab {\n",
              "                    background-color: var(--colab-primary-surface-color, white);\n",
              "                }\n",
              "\n",
              "                .geemap-colab .jupyter-button {\n",
              "                    --jp-layout-color3: var(--colab-primary-surface-color, white);\n",
              "                }\n",
              "            </style>\n",
              "            "
            ]
          },
          "metadata": {}
        }
      ],
      "source": [
        "# 'COUNTY', 'Year', 'ndvi', 'savi', 'evi', 'gndvi', 'ndmi', 'nsi',\n",
        "#        'msavi', 'gci', 'gli', 'sipi', 'sr', 'osavi', 'gci2', 'arvi2', 'mtvi2',\n",
        "#        'rdvi', 'gvi', 'ndii', 'ndwi', 'grvi', 'lai', 'tcari', 'mcari', 'wdvi',\n",
        "#        'pssra', 'dvi', 'era5d_prec', 'era5_wind', 'era5m_wind', 'era5m_prec',\n",
        "#        'era5_mean_temp', 'era5_min_temp', 'era5_max_temp', 'era5m_mean_temp',\n",
        "#        'era5m_min_temp', 'era5m_max_temp', 'chirpsd_prec', 'chirpsm_prec',\n",
        "#        'gpp','npp', 'Yield2', 'mod_lst'"
      ]
    },
    {
      "cell_type": "markdown",
      "metadata": {
        "id": "nMQ4KKrfGySD"
      },
      "source": [
        "# 2010"
      ]
    },
    {
      "cell_type": "code",
      "source": [
        "year = '2010'\n",
        "start = ee.Date('2010-04-01')\n",
        "end = ee.Date('2010-08-31')\n"
      ],
      "metadata": {
        "id": "EPVrf1TWXGUC",
        "colab": {
          "base_uri": "https://localhost:8080/",
          "height": 17
        },
        "outputId": "b2533a4d-e7d7-4bb3-fedb-8e39faa19bf9"
      },
      "execution_count": null,
      "outputs": [
        {
          "output_type": "display_data",
          "data": {
            "text/plain": [
              "<IPython.core.display.HTML object>"
            ],
            "text/html": [
              "\n",
              "            <style>\n",
              "                .geemap-dark {\n",
              "                    --jp-widgets-color: white;\n",
              "                    --jp-widgets-label-color: white;\n",
              "                    --jp-ui-font-color1: white;\n",
              "                    --jp-layout-color2: #454545;\n",
              "                    background-color: #383838;\n",
              "                }\n",
              "\n",
              "                .geemap-dark .jupyter-button {\n",
              "                    --jp-layout-color3: #383838;\n",
              "                }\n",
              "\n",
              "                .geemap-colab {\n",
              "                    background-color: var(--colab-primary-surface-color, white);\n",
              "                }\n",
              "\n",
              "                .geemap-colab .jupyter-button {\n",
              "                    --jp-layout-color3: var(--colab-primary-surface-color, white);\n",
              "                }\n",
              "            </style>\n",
              "            "
            ]
          },
          "metadata": {}
        }
      ]
    },
    {
      "cell_type": "code",
      "source": [
        "gpp_col = ee.ImageCollection(\"MODIS/061/MOD17A3HGF\")#.select('Gpp')\n",
        "npp_col = ee.ImageCollection(\"MODIS/061/MOD17A3HGF\")#.select('Gpp')\n"
      ],
      "metadata": {
        "id": "5aI7tDhwi7RD",
        "colab": {
          "base_uri": "https://localhost:8080/",
          "height": 17
        },
        "outputId": "d4753614-af45-4b0a-bda9-e593cb78b842"
      },
      "execution_count": null,
      "outputs": [
        {
          "output_type": "display_data",
          "data": {
            "text/plain": [
              "<IPython.core.display.HTML object>"
            ],
            "text/html": [
              "\n",
              "            <style>\n",
              "                .geemap-dark {\n",
              "                    --jp-widgets-color: white;\n",
              "                    --jp-widgets-label-color: white;\n",
              "                    --jp-ui-font-color1: white;\n",
              "                    --jp-layout-color2: #454545;\n",
              "                    background-color: #383838;\n",
              "                }\n",
              "\n",
              "                .geemap-dark .jupyter-button {\n",
              "                    --jp-layout-color3: #383838;\n",
              "                }\n",
              "\n",
              "                .geemap-colab {\n",
              "                    background-color: var(--colab-primary-surface-color, white);\n",
              "                }\n",
              "\n",
              "                .geemap-colab .jupyter-button {\n",
              "                    --jp-layout-color3: var(--colab-primary-surface-color, white);\n",
              "                }\n",
              "            </style>\n",
              "            "
            ]
          },
          "metadata": {}
        }
      ]
    },
    {
      "cell_type": "code",
      "execution_count": null,
      "metadata": {
        "id": "1Whx_f3sMPZL",
        "colab": {
          "base_uri": "https://localhost:8080/",
          "height": 17
        },
        "outputId": "39c11b18-954b-40c3-a284-48b43f70cd8f"
      },
      "outputs": [
        {
          "output_type": "display_data",
          "data": {
            "text/plain": [
              "<IPython.core.display.HTML object>"
            ],
            "text/html": [
              "\n",
              "            <style>\n",
              "                .geemap-dark {\n",
              "                    --jp-widgets-color: white;\n",
              "                    --jp-widgets-label-color: white;\n",
              "                    --jp-ui-font-color1: white;\n",
              "                    --jp-layout-color2: #454545;\n",
              "                    background-color: #383838;\n",
              "                }\n",
              "\n",
              "                .geemap-dark .jupyter-button {\n",
              "                    --jp-layout-color3: #383838;\n",
              "                }\n",
              "\n",
              "                .geemap-colab {\n",
              "                    background-color: var(--colab-primary-surface-color, white);\n",
              "                }\n",
              "\n",
              "                .geemap-colab .jupyter-button {\n",
              "                    --jp-layout-color3: var(--colab-primary-surface-color, white);\n",
              "                }\n",
              "            </style>\n",
              "            "
            ]
          },
          "metadata": {}
        }
      ],
      "source": [
        "era5d_prec = era5_tp_mean_.select(era5_tp_mean_.bandNames().getInfo()[0]).rename('era5d_prec')\n",
        "# era5_wind = era5_u_wind_10m_mean_.select(era5_u_wind_10m_mean_.bandNames().getInfo()[0]).rename('era5_wind')\n",
        "# era5m_wind = era5_u_wind_10monthly_mean_.select(era5_u_wind_10monthly_mean_.bandNames().getInfo()[0]).rename('era5m_wind')\n",
        "# era5m_prec = era5_monthly_mean_.select(era5_monthly_mean_.bandNames().getInfo()[0]).rename('era5m_prec')\n",
        "# era5_mean_temp = era5_mean_temp_mean_.select(era5_mean_temp_mean_.bandNames().getInfo()[0]).rename('era5_mean_temp')\n",
        "era5_min_temp =  era5_min_temp_mean_.select(era5_min_temp_mean_.bandNames().getInfo()[0]).rename('era5_min_temp')\n",
        "# era5_max_temp = era5_max_temp_mean_.select(era5_max_temp_mean_.bandNames().getInfo()[0]).rename('era5_max_temp')\n",
        "# era5m_mean_temp = era5m_temp_mean_.select(era5m_temp_mean_.bandNames().getInfo()[0]).rename('era5m_mean_temp')\n",
        "# era5m_min_temp = era5m_min_temp_mean_.select(era5m_min_temp_mean_.bandNames().getInfo()[0]).rename('era5m_min_temp')\n",
        "# era5m_max_temp = era5m_max_temp_mean_.select(era5m_max_temp_mean_.bandNames().getInfo()[0]).rename('era5m_max_temp')\n",
        "chirpsd_prec =chirps_d_mean_.select(chirps_d_mean_.bandNames().getInfo()[0]).rename('chirpsd_prec')\n",
        "# chirpsm_prec =chirps_m_mean_.select(chirps_m_mean_.bandNames().getInfo()[0]).rename('chirpsm_prec')\n",
        "# mod_lst = modislst_m_mean_.select(modislst_m_mean_.bandNames().getInfo()[0]).rename('mod_lst')\n",
        "gpp_2010 = gpp_prep(gpp_col,AOI,year).toBands().select(gpp_prep(gpp_col,AOI,year).toBands().bandNames()).rename('gpp')\n",
        "npp_2010 = npp_prep(npp_col,AOI,year).toBands().select(npp_prep(npp_col,AOI,year).toBands().bandNames()).rename('npp')\n",
        "wdvi = l8_2010.select('wdvi')\n",
        "gli = l8_2010.select('gli')\n",
        "gvi =l8_2010.select('gvi')\n",
        "arvi2 =l8_2010.select('arvi2')\n"
      ]
    },
    {
      "cell_type": "code",
      "execution_count": null,
      "metadata": {
        "id": "trrC6k7IneLb",
        "colab": {
          "base_uri": "https://localhost:8080/",
          "height": 17
        },
        "outputId": "2d386804-1cb3-4414-f544-2a5255777d94"
      },
      "outputs": [
        {
          "output_type": "display_data",
          "data": {
            "text/plain": [
              "<IPython.core.display.HTML object>"
            ],
            "text/html": [
              "\n",
              "            <style>\n",
              "                .geemap-dark {\n",
              "                    --jp-widgets-color: white;\n",
              "                    --jp-widgets-label-color: white;\n",
              "                    --jp-ui-font-color1: white;\n",
              "                    --jp-layout-color2: #454545;\n",
              "                    background-color: #383838;\n",
              "                }\n",
              "\n",
              "                .geemap-dark .jupyter-button {\n",
              "                    --jp-layout-color3: #383838;\n",
              "                }\n",
              "\n",
              "                .geemap-colab {\n",
              "                    background-color: var(--colab-primary-surface-color, white);\n",
              "                }\n",
              "\n",
              "                .geemap-colab .jupyter-button {\n",
              "                    --jp-layout-color3: var(--colab-primary-surface-color, white);\n",
              "                }\n",
              "            </style>\n",
              "            "
            ]
          },
          "metadata": {}
        }
      ],
      "source": [
        "img_2010 = era5d_prec.addBands(era5_min_temp)\\\n",
        ".addBands(chirpsd_prec)\\\n",
        ".addBands(npp_2010)\\\n",
        ".addBands(gpp_2010)\\\n",
        ".addBands(wdvi)\\\n",
        ".addBands(gli)\\\n",
        ".addBands(gvi)\\\n",
        ".addBands(arvi2)\n",
        "\n",
        "# .addBands(era5m_min_temp)\\# .addBands(era5m_wind)\\\n",
        "# .addBands(era5m_max_temp)\\\n",
        "# .addBands(chirpsd_prec)\\# .addBands(gpp)\\\n",
        "# .addBands(npp)\\\n",
        "# .addBands(mod_lst)"
      ]
    },
    {
      "cell_type": "code",
      "source": [
        "rsn2 = gpp_2010.select('gpp').projection()\n",
        "# print(rsn2.nominalScale())\n"
      ],
      "metadata": {
        "colab": {
          "base_uri": "https://localhost:8080/",
          "height": 17
        },
        "id": "NnY0zPUg0Ufr",
        "outputId": "ce367893-9f8b-4946-8802-b5534f320786",
        "collapsed": true
      },
      "execution_count": null,
      "outputs": [
        {
          "output_type": "display_data",
          "data": {
            "text/plain": [
              "<IPython.core.display.HTML object>"
            ],
            "text/html": [
              "\n",
              "            <style>\n",
              "                .geemap-dark {\n",
              "                    --jp-widgets-color: white;\n",
              "                    --jp-widgets-label-color: white;\n",
              "                    --jp-ui-font-color1: white;\n",
              "                    --jp-layout-color2: #454545;\n",
              "                    background-color: #383838;\n",
              "                }\n",
              "\n",
              "                .geemap-dark .jupyter-button {\n",
              "                    --jp-layout-color3: #383838;\n",
              "                }\n",
              "\n",
              "                .geemap-colab {\n",
              "                    background-color: var(--colab-primary-surface-color, white);\n",
              "                }\n",
              "\n",
              "                .geemap-colab .jupyter-button {\n",
              "                    --jp-layout-color3: var(--colab-primary-surface-color, white);\n",
              "                }\n",
              "            </style>\n",
              "            "
            ]
          },
          "metadata": {}
        }
      ]
    },
    {
      "cell_type": "code",
      "source": [
        "# img_2010_repr = img_2010.reproject(crs='EPSG:4326', scale=500)\n",
        "era5d_prec_r = era5d_prec.resample().reproject(rsn2)\n",
        "# era5_wind = era5_u_wind_10m_mean_.select(era5_u_wind_10m_mean_.bandNames().getInfo()[0]).rename('era5_wind')\n",
        "# era5m_wind = era5_u_wind_10monthly_mean_.select(era5_u_wind_10monthly_mean_.bandNames().getInfo()[0]).rename('era5m_wind')\n",
        "# era5m_prec = era5_monthly_mean_.select(era5_monthly_mean_.bandNames().getInfo()[0]).rename('era5m_prec')\n",
        "# era5_mean_temp = era5_mean_temp_mean_.select(era5_mean_temp_mean_.bandNames().getInfo()[0]).rename('era5_mean_temp')\n",
        "era5_min_temp_r =  era5_min_temp.resample().reproject(rsn2)\n",
        "# era5_max_temp = era5_max_temp_mean_.select(era5_max_temp_mean_.bandNames().getInfo()[0]).rename('era5_max_temp')\n",
        "# era5m_mean_temp = era5m_temp_mean_.select(era5m_temp_mean_.bandNames().getInfo()[0]).rename('era5m_mean_temp')\n",
        "# era5m_min_temp = era5m_min_temp_mean_.select(era5m_min_temp_mean_.bandNames().getInfo()[0]).rename('era5m_min_temp')\n",
        "# era5m_max_temp = era5m_max_temp_mean_.select(era5m_max_temp_mean_.bandNames().getInfo()[0]).rename('era5m_max_temp')\n",
        "chirpsd_prec_r =chirpsd_prec.resample().reproject(rsn2)\n",
        "# chirpsm_prec =chirps_m_mean_.select(chirps_m_mean_.bandNames().getInfo()[0]).rename('chirpsm_prec')\n",
        "# mod_lst = modislst_m_mean_.select(modislst_m_mean_.bandNames().getInfo()[0]).rename('mod_lst')\n",
        "gpp_2010_r = gpp_2010.reproject(rsn2)\n",
        "npp_2010_r = npp_2010.reproject(rsn2)\n",
        "wdvi_r = wdvi.reproject(rsn2)\n",
        "gli_r = gli.reproject(rsn2)\n",
        "gvi_r = gvi.reproject(rsn2)\n",
        "arvi2_r =arvi2.reproject(rsn2)"
      ],
      "metadata": {
        "colab": {
          "base_uri": "https://localhost:8080/",
          "height": 17
        },
        "id": "Xf6M2217F7xn",
        "outputId": "9c85c43f-bc3c-44c9-c744-805625b99f3a"
      },
      "execution_count": null,
      "outputs": [
        {
          "output_type": "display_data",
          "data": {
            "text/plain": [
              "<IPython.core.display.HTML object>"
            ],
            "text/html": [
              "\n",
              "            <style>\n",
              "                .geemap-dark {\n",
              "                    --jp-widgets-color: white;\n",
              "                    --jp-widgets-label-color: white;\n",
              "                    --jp-ui-font-color1: white;\n",
              "                    --jp-layout-color2: #454545;\n",
              "                    background-color: #383838;\n",
              "                }\n",
              "\n",
              "                .geemap-dark .jupyter-button {\n",
              "                    --jp-layout-color3: #383838;\n",
              "                }\n",
              "\n",
              "                .geemap-colab {\n",
              "                    background-color: var(--colab-primary-surface-color, white);\n",
              "                }\n",
              "\n",
              "                .geemap-colab .jupyter-button {\n",
              "                    --jp-layout-color3: var(--colab-primary-surface-color, white);\n",
              "                }\n",
              "            </style>\n",
              "            "
            ]
          },
          "metadata": {}
        }
      ]
    },
    {
      "cell_type": "code",
      "source": [
        "# era5d_prec_r.resample('bilinear').reproject(crs=crs, scale=scale)"
      ],
      "metadata": {
        "id": "sLgGhIc23uaz",
        "colab": {
          "base_uri": "https://localhost:8080/",
          "height": 17
        },
        "outputId": "bb3df941-eef4-423b-f7c5-61e71890f160"
      },
      "execution_count": null,
      "outputs": [
        {
          "output_type": "display_data",
          "data": {
            "text/plain": [
              "<IPython.core.display.HTML object>"
            ],
            "text/html": [
              "\n",
              "            <style>\n",
              "                .geemap-dark {\n",
              "                    --jp-widgets-color: white;\n",
              "                    --jp-widgets-label-color: white;\n",
              "                    --jp-ui-font-color1: white;\n",
              "                    --jp-layout-color2: #454545;\n",
              "                    background-color: #383838;\n",
              "                }\n",
              "\n",
              "                .geemap-dark .jupyter-button {\n",
              "                    --jp-layout-color3: #383838;\n",
              "                }\n",
              "\n",
              "                .geemap-colab {\n",
              "                    background-color: var(--colab-primary-surface-color, white);\n",
              "                }\n",
              "\n",
              "                .geemap-colab .jupyter-button {\n",
              "                    --jp-layout-color3: var(--colab-primary-surface-color, white);\n",
              "                }\n",
              "            </style>\n",
              "            "
            ]
          },
          "metadata": {}
        }
      ]
    },
    {
      "cell_type": "code",
      "source": [
        "img_2010_r = era5d_prec_r.addBands(era5_min_temp_r)\\\n",
        ".addBands(chirpsd_prec_r)\\\n",
        ".addBands(npp_2010_r)\\\n",
        ".addBands(gpp_2010_r)\\\n",
        ".addBands(wdvi_r)\\\n",
        ".addBands(gli_r)\\\n",
        ".addBands(gvi_r)\\\n",
        ".addBands(arvi2_r)"
      ],
      "metadata": {
        "id": "7tWCJsp0w0DF",
        "colab": {
          "base_uri": "https://localhost:8080/",
          "height": 17
        },
        "outputId": "c1349035-83fe-473e-c31a-f6f32a8bb304"
      },
      "execution_count": null,
      "outputs": [
        {
          "output_type": "display_data",
          "data": {
            "text/plain": [
              "<IPython.core.display.HTML object>"
            ],
            "text/html": [
              "\n",
              "            <style>\n",
              "                .geemap-dark {\n",
              "                    --jp-widgets-color: white;\n",
              "                    --jp-widgets-label-color: white;\n",
              "                    --jp-ui-font-color1: white;\n",
              "                    --jp-layout-color2: #454545;\n",
              "                    background-color: #383838;\n",
              "                }\n",
              "\n",
              "                .geemap-dark .jupyter-button {\n",
              "                    --jp-layout-color3: #383838;\n",
              "                }\n",
              "\n",
              "                .geemap-colab {\n",
              "                    background-color: var(--colab-primary-surface-color, white);\n",
              "                }\n",
              "\n",
              "                .geemap-colab .jupyter-button {\n",
              "                    --jp-layout-color3: var(--colab-primary-surface-color, white);\n",
              "                }\n",
              "            </style>\n",
              "            "
            ]
          },
          "metadata": {}
        }
      ]
    },
    {
      "cell_type": "code",
      "source": [
        "img_2010_r.bandNames().getInfo()"
      ],
      "metadata": {
        "colab": {
          "base_uri": "https://localhost:8080/",
          "height": 173
        },
        "id": "15Uuqz84V84y",
        "outputId": "d95f59e7-42ef-4b56-dcff-aac9d4638b12"
      },
      "execution_count": null,
      "outputs": [
        {
          "output_type": "display_data",
          "data": {
            "text/plain": [
              "<IPython.core.display.HTML object>"
            ],
            "text/html": [
              "\n",
              "            <style>\n",
              "                .geemap-dark {\n",
              "                    --jp-widgets-color: white;\n",
              "                    --jp-widgets-label-color: white;\n",
              "                    --jp-ui-font-color1: white;\n",
              "                    --jp-layout-color2: #454545;\n",
              "                    background-color: #383838;\n",
              "                }\n",
              "\n",
              "                .geemap-dark .jupyter-button {\n",
              "                    --jp-layout-color3: #383838;\n",
              "                }\n",
              "\n",
              "                .geemap-colab {\n",
              "                    background-color: var(--colab-primary-surface-color, white);\n",
              "                }\n",
              "\n",
              "                .geemap-colab .jupyter-button {\n",
              "                    --jp-layout-color3: var(--colab-primary-surface-color, white);\n",
              "                }\n",
              "            </style>\n",
              "            "
            ]
          },
          "metadata": {}
        },
        {
          "output_type": "execute_result",
          "data": {
            "text/plain": [
              "['era5d_prec',\n",
              " 'era5_min_temp',\n",
              " 'chirpsd_prec',\n",
              " 'npp',\n",
              " 'gpp',\n",
              " 'wdvi',\n",
              " 'gli',\n",
              " 'gvi',\n",
              " 'arvi2']"
            ]
          },
          "metadata": {},
          "execution_count": 189
        }
      ]
    },
    {
      "cell_type": "code",
      "execution_count": null,
      "metadata": {
        "id": "jv0wjLqMMOPv",
        "colab": {
          "base_uri": "https://localhost:8080/",
          "height": 17
        },
        "outputId": "517e658d-a008-4cc3-f7b3-f76f6f32f2f9"
      },
      "outputs": [
        {
          "output_type": "display_data",
          "data": {
            "text/plain": [
              "<IPython.core.display.HTML object>"
            ],
            "text/html": [
              "\n",
              "            <style>\n",
              "                .geemap-dark {\n",
              "                    --jp-widgets-color: white;\n",
              "                    --jp-widgets-label-color: white;\n",
              "                    --jp-ui-font-color1: white;\n",
              "                    --jp-layout-color2: #454545;\n",
              "                    background-color: #383838;\n",
              "                }\n",
              "\n",
              "                .geemap-dark .jupyter-button {\n",
              "                    --jp-layout-color3: #383838;\n",
              "                }\n",
              "\n",
              "                .geemap-colab {\n",
              "                    background-color: var(--colab-primary-surface-color, white);\n",
              "                }\n",
              "\n",
              "                .geemap-colab .jupyter-button {\n",
              "                    --jp-layout-color3: var(--colab-primary-surface-color, white);\n",
              "                }\n",
              "            </style>\n",
              "            "
            ]
          },
          "metadata": {}
        }
      ],
      "source": [
        "# classify the image again but with the classifier from the persisted trees\n",
        "# classified = img_2010.select(feature_names).classify(another_classifier)\n",
        "classified = img_2010_r.select(feature_names).classify(another_classifier)"
      ]
    },
    {
      "cell_type": "code",
      "execution_count": null,
      "metadata": {
        "id": "iKMdqACIzeru",
        "colab": {
          "base_uri": "https://localhost:8080/",
          "height": 17
        },
        "outputId": "a6635ac2-316f-41c3-f73e-c403d8e88cd0"
      },
      "outputs": [
        {
          "output_type": "display_data",
          "data": {
            "text/plain": [
              "<IPython.core.display.HTML object>"
            ],
            "text/html": [
              "\n",
              "            <style>\n",
              "                .geemap-dark {\n",
              "                    --jp-widgets-color: white;\n",
              "                    --jp-widgets-label-color: white;\n",
              "                    --jp-ui-font-color1: white;\n",
              "                    --jp-layout-color2: #454545;\n",
              "                    background-color: #383838;\n",
              "                }\n",
              "\n",
              "                .geemap-dark .jupyter-button {\n",
              "                    --jp-layout-color3: #383838;\n",
              "                }\n",
              "\n",
              "                .geemap-colab {\n",
              "                    background-color: var(--colab-primary-surface-color, white);\n",
              "                }\n",
              "\n",
              "                .geemap-colab .jupyter-button {\n",
              "                    --jp-layout-color3: var(--colab-primary-surface-color, white);\n",
              "                }\n",
              "            </style>\n",
              "            "
            ]
          },
          "metadata": {}
        }
      ],
      "source": [
        "# Reduce Regions to Counties\n",
        "class_2010 = classified.reduceRegions(**{\n",
        "    'collection':AOI,\n",
        "    'reducer': ee.Reducer.mean(),\n",
        "    'scale': scale\n",
        "})\n"
      ]
    },
    {
      "cell_type": "code",
      "source": [
        "Map.addLayer(newzones,{},'Newzones')\n",
        "Map"
      ],
      "metadata": {
        "colab": {
          "base_uri": "https://localhost:8080/",
          "height": 621,
          "referenced_widgets": [
            "6f4160808e0a47e5a26883a72712e775",
            "16384048fa244e91b086f9560e6f4f46",
            "00f78a707bb04e91be62660f6d834648",
            "fa75b68beb154b84a83845f8492958e1",
            "3b11f61830de4cf7a910ac7bd175d1d7",
            "185cb74e76574aa59b0e2c408f68e38a",
            "b55c8d121c2c49a1bb5318fdc1cf0da0",
            "ef23ba351ee74bfd9240d816e619a717",
            "ed822ecabc28426eac58b27ea5ace818",
            "5f4034411b014ab49041621f7d0133a4",
            "62253615fc4c4d2ebc616222a00f1fe3",
            "d245b62d9a444b17991223bfde367c29",
            "a295cc74420b4cfaa15ac331b40f7a7e",
            "60e3ee76dcd5437e938bdd332e539e03",
            "71897efdc6e84e7fa8d59399ff0efe0f",
            "c59c729f38154230a42eac7197eb3ae3",
            "dd938aeddc0c47c0adf81efca6c353e5",
            "4193b6b7aec6490380b3971e117bcea1",
            "49de9b290784466190cb319ecaa2377f",
            "7096e4ea7a7c4a33909ea2bd4cc871d4",
            "e169e7c64cd84a11ba44b4f2605b9982",
            "1e83ded0abf14d3ea965ec228b934fc6",
            "e42ec242b8d14ff1bb5a504d6f7a57bb",
            "30e919ad5a1446bab92a5a9361689edf",
            "7e7f8549cbfb44f4a636598068d1de0a",
            "c54979e69d114140af075182aa6a6c0c",
            "c15bc1a50c884ddca2b47d183316da6c",
            "87ad2d9feb8b4b57a101083e55ed16f3",
            "dd2dfa3089ac4430be06f169b3dd0635",
            "640a1de4cd034c10b2e9bc5c17f27097",
            "fec0b9534c5e45e198903e78c36d2701",
            "36799dba14fc415f8c57dbd71b002a8f",
            "8a5989b5770b4c778231ece78aa42ef3",
            "4aa33fcf85294442bd508320ea84abe5",
            "2253e694dc774453bf70abd64cbbb466",
            "8907f50c8dfd43bea789f8bb8010bce6",
            "638b9d95b0f5414b99241d8b02144865",
            "48d45d4f8fa4493cb54996063efbc75b",
            "7da8ddbb26e848248a82c91cc2ebcfa0",
            "9c6ad59a3daf4999a3936258b1620df3",
            "43b8363d90d042c69a3916eb4120e456",
            "eef1761466df41fda4b62f16ca00f9ee",
            "0c649e418b114a83802a88e109093df0",
            "268e604cc64f40358a06d509dbc80c7d",
            "90b6ed82cec742858fb0c998e980f89a",
            "5b67586d6f984c54ba9ef96133f8f30b",
            "eaeec1dfadf344e38dc857ae31ba644b",
            "4f407213b8f0418c8cce8780ebae6a78",
            "339e6534c2ab4ef683356761d38c2f04",
            "bbb65a7ba63f42f2b9b36fa61b6b024a",
            "5c0cc1db798e49dca669b95bbf5e7670",
            "6b00e7944bcf4a19841cc76e7ef5a479",
            "e41929fd0c154c9aad2178e25f459130",
            "c1163ff8d25e42069e700d7a240502fd",
            "c724bfcd0d764c95baa8801494ef9d7a",
            "f7cdca0420a24bbfadd1cd97223acd5e",
            "63286b7f13224fafa2bb92baa6b2d428",
            "99b46b7f39c84432b2cb74e3bdb5aa52",
            "8bf23df8228841c7993307cb99b2eef4",
            "d40131dc59724706a9400e5702a5a4d9",
            "d90ce048d41e465992b5572daca46b9d",
            "838ba579b3d04e3eb6488c8eb5d78889",
            "49af4de22479478db91c753697b4025e",
            "036944cdc5184bd19cb8ced9aa6fddd1",
            "bf3d78c778b44c4cb110f49f542f3d97",
            "67fec7a8dcef4e1badd9b1af8a2ca5ea",
            "e176fa1595bc4cd68056e3bac1572cbe",
            "d8ce70f8e65e48cf992b8bba9f13ea5a",
            "7a390348547e4caba9dea26cefc07790",
            "4f838d7af57540eda8eaa3c3fe771bb6",
            "1c59eb107be94fcf91af35c4b5c73c16",
            "4236b71df1a84db8ababdec9805711a9",
            "fd6a36abadfc412492f7fd1a38f3c8d2",
            "f2da4c1754884206bcb3d4c80d83921f",
            "55199077accf4f03b4fec22f466d6436",
            "7e761c5712f64abb87942b90720d9a72",
            "fa7d10c4e33d4ecda2144c375d4ad030",
            "215669370ef94154b60ddb2e5433f3c1",
            "2910dcb4cf7e4c5b84d8b872ba117d81",
            "7ec299d9015a4985ad412964d63521e8",
            "09183a5ade584d1d9aeb7cc78eeeaa2b",
            "88ba54d04ede4d57914fb29c19371f4b",
            "ad848a5be54746c298f414bcaa4dc3dc",
            "61f0f3898e2c4ded8d88c8f2f0668452",
            "1c483082c8d0457b8e76f5bd2b97761b",
            "c5f151febf0043a4a405ff0ffe1ded23",
            "d20b5f4096244fb5a3d00ccb15bb3681",
            "a480e02d517c47b99ea9b722a73804e5",
            "45f42d42d75d4544a2c6f867090864fe",
            "b7e972b364a14e3dbdbdd5afb0c7762b"
          ]
        },
        "id": "lwnLK3hbS_C1",
        "outputId": "d9f91f72-6f0a-4dd9-e917-5d62a5d641fb"
      },
      "execution_count": null,
      "outputs": [
        {
          "output_type": "display_data",
          "data": {
            "text/plain": [
              "<IPython.core.display.HTML object>"
            ],
            "text/html": [
              "\n",
              "            <style>\n",
              "                .geemap-dark {\n",
              "                    --jp-widgets-color: white;\n",
              "                    --jp-widgets-label-color: white;\n",
              "                    --jp-ui-font-color1: white;\n",
              "                    --jp-layout-color2: #454545;\n",
              "                    background-color: #383838;\n",
              "                }\n",
              "\n",
              "                .geemap-dark .jupyter-button {\n",
              "                    --jp-layout-color3: #383838;\n",
              "                }\n",
              "\n",
              "                .geemap-colab {\n",
              "                    background-color: var(--colab-primary-surface-color, white);\n",
              "                }\n",
              "\n",
              "                .geemap-colab .jupyter-button {\n",
              "                    --jp-layout-color3: var(--colab-primary-surface-color, white);\n",
              "                }\n",
              "            </style>\n",
              "            "
            ]
          },
          "metadata": {}
        },
        {
          "output_type": "display_data",
          "data": {
            "text/plain": [
              "Map(center=[0.609361277034676, 37.81540690324203], controls=(WidgetControl(options=['position', 'transparent_b…"
            ],
            "application/vnd.jupyter.widget-view+json": {
              "version_major": 2,
              "version_minor": 0,
              "model_id": "6f4160808e0a47e5a26883a72712e775"
            }
          },
          "metadata": {
            "application/vnd.jupyter.widget-view+json": {
              "colab": {
                "custom_widget_manager": {
                  "url": "https://ssl.gstatic.com/colaboratory-static/widgets/colab-cdn-widget-manager/2b70e893a8ba7c0f/manager.min.js"
                }
              }
            }
          }
        }
      ]
    },
    {
      "cell_type": "code",
      "source": [
        "# Reduce Regions to Counties\n",
        "class_2010_n = img_2010_r.reduceRegions(**{\n",
        "    'collection':newzones,\n",
        "    'reducer': ee.Reducer.median(),\n",
        "    'scale': scale,\n",
        "     'crs':'EPSG:4326'\n",
        "})\n",
        "\n"
      ],
      "metadata": {
        "colab": {
          "base_uri": "https://localhost:8080/",
          "height": 17
        },
        "id": "m3bQ10xpWhHw",
        "outputId": "b38f1715-bcce-4d49-80b7-eb5dd073f71b"
      },
      "execution_count": null,
      "outputs": [
        {
          "output_type": "display_data",
          "data": {
            "text/plain": [
              "<IPython.core.display.HTML object>"
            ],
            "text/html": [
              "\n",
              "            <style>\n",
              "                .geemap-dark {\n",
              "                    --jp-widgets-color: white;\n",
              "                    --jp-widgets-label-color: white;\n",
              "                    --jp-ui-font-color1: white;\n",
              "                    --jp-layout-color2: #454545;\n",
              "                    background-color: #383838;\n",
              "                }\n",
              "\n",
              "                .geemap-dark .jupyter-button {\n",
              "                    --jp-layout-color3: #383838;\n",
              "                }\n",
              "\n",
              "                .geemap-colab {\n",
              "                    background-color: var(--colab-primary-surface-color, white);\n",
              "                }\n",
              "\n",
              "                .geemap-colab .jupyter-button {\n",
              "                    --jp-layout-color3: var(--colab-primary-surface-color, white);\n",
              "                }\n",
              "            </style>\n",
              "            "
            ]
          },
          "metadata": {}
        }
      ]
    },
    {
      "cell_type": "code",
      "source": [
        "# class_2010_n = class_2010_n.map(lambda f: ee.Algorithms.If(f.geometry().coordinates().size(), f, None))"
      ],
      "metadata": {
        "colab": {
          "base_uri": "https://localhost:8080/",
          "height": 17
        },
        "collapsed": true,
        "id": "6vANx2ERXD8E",
        "outputId": "5be344ff-065a-4c05-bb72-2da8680a2012"
      },
      "execution_count": null,
      "outputs": [
        {
          "output_type": "display_data",
          "data": {
            "text/plain": [
              "<IPython.core.display.HTML object>"
            ],
            "text/html": [
              "\n",
              "            <style>\n",
              "                .geemap-dark {\n",
              "                    --jp-widgets-color: white;\n",
              "                    --jp-widgets-label-color: white;\n",
              "                    --jp-ui-font-color1: white;\n",
              "                    --jp-layout-color2: #454545;\n",
              "                    background-color: #383838;\n",
              "                }\n",
              "\n",
              "                .geemap-dark .jupyter-button {\n",
              "                    --jp-layout-color3: #383838;\n",
              "                }\n",
              "\n",
              "                .geemap-colab {\n",
              "                    background-color: var(--colab-primary-surface-color, white);\n",
              "                }\n",
              "\n",
              "                .geemap-colab .jupyter-button {\n",
              "                    --jp-layout-color3: var(--colab-primary-surface-color, white);\n",
              "                }\n",
              "            </style>\n",
              "            "
            ]
          },
          "metadata": {}
        }
      ]
    },
    {
      "cell_type": "code",
      "source": [
        "# class_2010_n.aggregate_count('constant').getInfo()"
      ],
      "metadata": {
        "colab": {
          "base_uri": "https://localhost:8080/",
          "height": 17
        },
        "id": "tCx51-smTMVG",
        "outputId": "2ef0fd88-f975-4b5b-df04-f092fc63b47f"
      },
      "execution_count": null,
      "outputs": [
        {
          "output_type": "display_data",
          "data": {
            "text/plain": [
              "<IPython.core.display.HTML object>"
            ],
            "text/html": [
              "\n",
              "            <style>\n",
              "                .geemap-dark {\n",
              "                    --jp-widgets-color: white;\n",
              "                    --jp-widgets-label-color: white;\n",
              "                    --jp-ui-font-color1: white;\n",
              "                    --jp-layout-color2: #454545;\n",
              "                    background-color: #383838;\n",
              "                }\n",
              "\n",
              "                .geemap-dark .jupyter-button {\n",
              "                    --jp-layout-color3: #383838;\n",
              "                }\n",
              "\n",
              "                .geemap-colab {\n",
              "                    background-color: var(--colab-primary-surface-color, white);\n",
              "                }\n",
              "\n",
              "                .geemap-colab .jupyter-button {\n",
              "                    --jp-layout-color3: var(--colab-primary-surface-color, white);\n",
              "                }\n",
              "            </style>\n",
              "            "
            ]
          },
          "metadata": {}
        }
      ]
    },
    {
      "cell_type": "code",
      "source": [
        "# Reduce Regions to Counties\n",
        "class_2010_n = img_2010_r.reduceRegions(**{\n",
        "    'collection':newzones,\n",
        "    'reducer': ee.Reducer.median(),\n",
        "    'scale': scale,\n",
        "     'crs':'EPSG:4326'\n",
        "})\n",
        "\n",
        "task = ee.batch.Export.table.toDrive(collection=class_2010_n, folder='ee_demos', description='class_2010_n', fileFormat='SHP')\n",
        "task.start()"
      ],
      "metadata": {
        "colab": {
          "base_uri": "https://localhost:8080/",
          "height": 17
        },
        "id": "UL0KOXR6W00m",
        "outputId": "c1dbb08c-7409-499b-b2f0-64f7b39e0a15"
      },
      "execution_count": null,
      "outputs": [
        {
          "output_type": "display_data",
          "data": {
            "text/plain": [
              "<IPython.core.display.HTML object>"
            ],
            "text/html": [
              "\n",
              "            <style>\n",
              "                .geemap-dark {\n",
              "                    --jp-widgets-color: white;\n",
              "                    --jp-widgets-label-color: white;\n",
              "                    --jp-ui-font-color1: white;\n",
              "                    --jp-layout-color2: #454545;\n",
              "                    background-color: #383838;\n",
              "                }\n",
              "\n",
              "                .geemap-dark .jupyter-button {\n",
              "                    --jp-layout-color3: #383838;\n",
              "                }\n",
              "\n",
              "                .geemap-colab {\n",
              "                    background-color: var(--colab-primary-surface-color, white);\n",
              "                }\n",
              "\n",
              "                .geemap-colab .jupyter-button {\n",
              "                    --jp-layout-color3: var(--colab-primary-surface-color, white);\n",
              "                }\n",
              "            </style>\n",
              "            "
            ]
          },
          "metadata": {}
        }
      ]
    },
    {
      "cell_type": "code",
      "execution_count": null,
      "metadata": {
        "id": "o2JdYUNn21yi",
        "colab": {
          "base_uri": "https://localhost:8080/",
          "height": 17
        },
        "outputId": "2495c0af-96c1-420d-9680-437da4394fba"
      },
      "outputs": [
        {
          "output_type": "display_data",
          "data": {
            "text/plain": [
              "<IPython.core.display.HTML object>"
            ],
            "text/html": [
              "\n",
              "            <style>\n",
              "                .geemap-dark {\n",
              "                    --jp-widgets-color: white;\n",
              "                    --jp-widgets-label-color: white;\n",
              "                    --jp-ui-font-color1: white;\n",
              "                    --jp-layout-color2: #454545;\n",
              "                    background-color: #383838;\n",
              "                }\n",
              "\n",
              "                .geemap-dark .jupyter-button {\n",
              "                    --jp-layout-color3: #383838;\n",
              "                }\n",
              "\n",
              "                .geemap-colab {\n",
              "                    background-color: var(--colab-primary-surface-color, white);\n",
              "                }\n",
              "\n",
              "                .geemap-colab .jupyter-button {\n",
              "                    --jp-layout-color3: var(--colab-primary-surface-color, white);\n",
              "                }\n",
              "            </style>\n",
              "            "
            ]
          },
          "metadata": {}
        }
      ],
      "source": [
        "# task = ee.batch.Export.image.toAsset(**{\n",
        "#   'image': classified,\n",
        "#   'description': 'Class2010',\n",
        "#   'assetId': 'users/Prod/Outputs/Class2010_newZ',\n",
        "#   'scale': 463.31271652791656,\n",
        "#   'region': county.geometry()\n",
        "#  })\n",
        "# task.start()"
      ]
    },
    {
      "cell_type": "code",
      "source": [
        "# task = ee.batch.Export.image.toDrive(**{\n",
        "#   'image': classified,\n",
        "#   'description': 'Class2010',\n",
        "#   'folder':'ee_demos',\n",
        "#   'scale': scale,\n",
        "#   'region': AOI,\n",
        "#   'crs':'EPSG:4326'\n",
        "#  })\n",
        "\n",
        "# # task.start()"
      ],
      "metadata": {
        "id": "aL0YXqnEDNUi",
        "colab": {
          "base_uri": "https://localhost:8080/",
          "height": 17
        },
        "outputId": "d178185e-90f8-4b32-fdcf-03d5412ed70f"
      },
      "execution_count": null,
      "outputs": [
        {
          "output_type": "display_data",
          "data": {
            "text/plain": [
              "<IPython.core.display.HTML object>"
            ],
            "text/html": [
              "\n",
              "            <style>\n",
              "                .geemap-dark {\n",
              "                    --jp-widgets-color: white;\n",
              "                    --jp-widgets-label-color: white;\n",
              "                    --jp-ui-font-color1: white;\n",
              "                    --jp-layout-color2: #454545;\n",
              "                    background-color: #383838;\n",
              "                }\n",
              "\n",
              "                .geemap-dark .jupyter-button {\n",
              "                    --jp-layout-color3: #383838;\n",
              "                }\n",
              "\n",
              "                .geemap-colab {\n",
              "                    background-color: var(--colab-primary-surface-color, white);\n",
              "                }\n",
              "\n",
              "                .geemap-colab .jupyter-button {\n",
              "                    --jp-layout-color3: var(--colab-primary-surface-color, white);\n",
              "                }\n",
              "            </style>\n",
              "            "
            ]
          },
          "metadata": {}
        }
      ]
    },
    {
      "cell_type": "code",
      "execution_count": null,
      "metadata": {
        "id": "NbwFtAz0HKCJ",
        "colab": {
          "base_uri": "https://localhost:8080/",
          "height": 173
        },
        "outputId": "ec13864e-f5f9-46a0-acc0-c37d5f8cfb94"
      },
      "outputs": [
        {
          "output_type": "display_data",
          "data": {
            "text/plain": [
              "<IPython.core.display.HTML object>"
            ],
            "text/html": [
              "\n",
              "            <style>\n",
              "                .geemap-dark {\n",
              "                    --jp-widgets-color: white;\n",
              "                    --jp-widgets-label-color: white;\n",
              "                    --jp-ui-font-color1: white;\n",
              "                    --jp-layout-color2: #454545;\n",
              "                    background-color: #383838;\n",
              "                }\n",
              "\n",
              "                .geemap-dark .jupyter-button {\n",
              "                    --jp-layout-color3: #383838;\n",
              "                }\n",
              "\n",
              "                .geemap-colab {\n",
              "                    background-color: var(--colab-primary-surface-color, white);\n",
              "                }\n",
              "\n",
              "                .geemap-colab .jupyter-button {\n",
              "                    --jp-layout-color3: var(--colab-primary-surface-color, white);\n",
              "                }\n",
              "            </style>\n",
              "            "
            ]
          },
          "metadata": {}
        },
        {
          "output_type": "execute_result",
          "data": {
            "text/plain": [
              "{'state': 'READY',\n",
              " 'description': 'class_2010_n',\n",
              " 'priority': 100,\n",
              " 'creation_timestamp_ms': 1743165562651,\n",
              " 'update_timestamp_ms': 1743165562651,\n",
              " 'start_timestamp_ms': 0,\n",
              " 'task_type': 'EXPORT_FEATURES',\n",
              " 'id': 'PIVLC2SR4ILMPEPBY23O35Z3',\n",
              " 'name': 'projects/ee-maizeyield/operations/PIVLC2SR4ILMPEPBY23O35Z3'}"
            ]
          },
          "metadata": {},
          "execution_count": 199
        }
      ],
      "source": [
        "task.status()"
      ]
    },
    {
      "cell_type": "markdown",
      "metadata": {
        "id": "gFOHUlLgG2z_"
      },
      "source": [
        "# 2011"
      ]
    },
    {
      "cell_type": "code",
      "execution_count": null,
      "metadata": {
        "id": "mKNWKrc1Eu0k",
        "colab": {
          "base_uri": "https://localhost:8080/"
        },
        "outputId": "7be5e015-92e9-49c1-ffc1-c67bd7c13849"
      },
      "outputs": [
        {
          "output_type": "display_data",
          "data": {
            "text/plain": [
              "<IPython.core.display.HTML object>"
            ],
            "text/html": [
              "\n",
              "            <style>\n",
              "                .geemap-dark {\n",
              "                    --jp-widgets-color: white;\n",
              "                    --jp-widgets-label-color: white;\n",
              "                    --jp-ui-font-color1: white;\n",
              "                    --jp-layout-color2: #454545;\n",
              "                    background-color: #383838;\n",
              "                }\n",
              "\n",
              "                .geemap-dark .jupyter-button {\n",
              "                    --jp-layout-color3: #383838;\n",
              "                }\n",
              "\n",
              "                .geemap-colab {\n",
              "                    background-color: var(--colab-primary-surface-color, white);\n",
              "                }\n",
              "\n",
              "                .geemap-colab .jupyter-button {\n",
              "                    --jp-layout-color3: var(--colab-primary-surface-color, white);\n",
              "                }\n",
              "            </style>\n",
              "            "
            ]
          },
          "metadata": {}
        }
      ],
      "source": [
        "year ='2011'\n",
        "start = ee.Date('2011-04-01')\n",
        "end = ee.Date('2011-08-31')\n",
        "scale = 463.31271652791656"
      ]
    },
    {
      "cell_type": "code",
      "execution_count": null,
      "metadata": {
        "id": "ivTZhU6rEvh0",
        "colab": {
          "base_uri": "https://localhost:8080/"
        },
        "outputId": "4b124b55-b75a-463a-e5ee-de6d4862eebc"
      },
      "outputs": [
        {
          "output_type": "display_data",
          "data": {
            "text/plain": [
              "<IPython.core.display.HTML object>"
            ],
            "text/html": [
              "\n",
              "            <style>\n",
              "                .geemap-dark {\n",
              "                    --jp-widgets-color: white;\n",
              "                    --jp-widgets-label-color: white;\n",
              "                    --jp-ui-font-color1: white;\n",
              "                    --jp-layout-color2: #454545;\n",
              "                    background-color: #383838;\n",
              "                }\n",
              "\n",
              "                .geemap-dark .jupyter-button {\n",
              "                    --jp-layout-color3: #383838;\n",
              "                }\n",
              "\n",
              "                .geemap-colab {\n",
              "                    background-color: var(--colab-primary-surface-color, white);\n",
              "                }\n",
              "\n",
              "                .geemap-colab .jupyter-button {\n",
              "                    --jp-layout-color3: var(--colab-primary-surface-color, white);\n",
              "                }\n",
              "            </style>\n",
              "            "
            ]
          },
          "metadata": {}
        }
      ],
      "source": [
        "era5d_prec = era5_tp_mean_.select(era5_tp_mean_.bandNames().getInfo()[1]).rename('era5d_prec')\n",
        "# era5_wind = era5_u_wind_10m_mean_.select(era5_u_wind_10m_mean_.bandNames().getInfo()[1]).rename('era5_wind')\n",
        "# era5m_wind = era5_u_wind_10monthly_mean_.select(era5_u_wind_10monthly_mean_.bandNames().getInfo()[1]).rename('era5m_wind')\n",
        "# era5m_prec = era5_monthly_mean_.select(era5_monthly_mean_.bandNames().getInfo()[1]).rename('era5m_prec')\n",
        "# era5_mean_temp = era5_mean_temp_mean_.select(era5_mean_temp_mean_.bandNames().getInfo()[1]).rename('era5_mean_temp')\n",
        "era5_min_temp =  era5_min_temp_mean_.select(era5_min_temp_mean_.bandNames().getInfo()[1]).rename('era5_min_temp')\n",
        "# era5_max_temp = era5_max_temp_mean_.select(era5_max_temp_mean_.bandNames().getInfo()[1]).rename('era5_max_temp')\n",
        "# era5m_mean_temp = era5m_temp_mean_.select(era5m_temp_mean_.bandNames().getInfo()[1]).rename('era5m_mean_temp')\n",
        "# era5m_min_temp = era5m_min_temp_mean_.select(era5m_min_temp_mean_.bandNames().getInfo()[1]).rename('era5m_min_temp')\n",
        "# era5m_max_temp = era5m_max_temp_mean_.select(era5m_max_temp_mean_.bandNames().getInfo()[1]).rename('era5m_max_temp')\n",
        "chirpsd_prec =chirps_d_mean_.select(chirps_d_mean_.bandNames().getInfo()[1]).rename('chirpsd_prec')\n",
        "# chirpsm_prec =chirps_m_mean_.select(chirps_m_mean_.bandNames().getInfo()[1]).rename('chirpsm_prec')\n",
        "# mod_lst = modislst_m_mean_.select(modislst_m_mean_.bandNames().getInfo()[1]).rename('mod_lst')\n",
        "gpp = gpp_prep(gpp_col,AOI,year).toBands().select(gpp_prep(gpp_col,AOI,year).toBands().bandNames()).rename('gpp')\n",
        "npp = npp_prep(npp_col,AOI,year).toBands().select(npp_prep(npp_col,AOI,year).toBands().bandNames()).rename('npp')\n",
        "wdvi = l8_2011.select('wdvi')\n",
        "gli = l8_2011.select('gli')\n",
        "gvi =l8_2011.select('gvi')\n",
        "arvi2 =l8_2011.select('arvi2')\n",
        "\n"
      ]
    },
    {
      "cell_type": "code",
      "source": [
        "img_2011 = era5d_prec.addBands(era5_min_temp)\\\n",
        ".addBands(chirpsd_prec)\\\n",
        ".addBands(npp)\\\n",
        ".addBands(gpp)\\\n",
        ".addBands(wdvi)\\\n",
        ".addBands(gli)\\\n",
        ".addBands(gvi)\\\n",
        ".addBands(arvi2)\n",
        "\n",
        "# .addBands(era5m_min_temp)\\# .addBands(era5m_wind)\\\n",
        "# .addBands(era5m_max_temp)\\\n",
        "# .addBands(chirpsd_prec)\\# .addBands(gpp)\\\n",
        "# .addBands(npp)\\\n",
        "# .addBands(mod_lst)"
      ],
      "metadata": {
        "id": "48HjMz1vXdb9",
        "colab": {
          "base_uri": "https://localhost:8080/"
        },
        "outputId": "2766447e-f716-4286-cf2a-24fe66abad51"
      },
      "execution_count": null,
      "outputs": [
        {
          "output_type": "display_data",
          "data": {
            "text/plain": [
              "<IPython.core.display.HTML object>"
            ],
            "text/html": [
              "\n",
              "            <style>\n",
              "                .geemap-dark {\n",
              "                    --jp-widgets-color: white;\n",
              "                    --jp-widgets-label-color: white;\n",
              "                    --jp-ui-font-color1: white;\n",
              "                    --jp-layout-color2: #454545;\n",
              "                    background-color: #383838;\n",
              "                }\n",
              "\n",
              "                .geemap-dark .jupyter-button {\n",
              "                    --jp-layout-color3: #383838;\n",
              "                }\n",
              "\n",
              "                .geemap-colab {\n",
              "                    background-color: var(--colab-primary-surface-color, white);\n",
              "                }\n",
              "\n",
              "                .geemap-colab .jupyter-button {\n",
              "                    --jp-layout-color3: var(--colab-primary-surface-color, white);\n",
              "                }\n",
              "            </style>\n",
              "            "
            ]
          },
          "metadata": {}
        }
      ]
    },
    {
      "cell_type": "code",
      "source": [
        "# img_2010_repr = img_2010.reproject(crs='EPSG:4326', scale=500)\n",
        "era5d_prec_r = era5d_prec.resample().reproject(rsn2)\n",
        "# era5_wind = era5_u_wind_10m_mean_.select(era5_u_wind_10m_mean_.bandNames().getInfo()[0]).rename('era5_wind')\n",
        "# era5m_wind = era5_u_wind_10monthly_mean_.select(era5_u_wind_10monthly_mean_.bandNames().getInfo()[0]).rename('era5m_wind')\n",
        "# era5m_prec = era5_monthly_mean_.select(era5_monthly_mean_.bandNames().getInfo()[0]).rename('era5m_prec')\n",
        "# era5_mean_temp = era5_mean_temp_mean_.select(era5_mean_temp_mean_.bandNames().getInfo()[0]).rename('era5_mean_temp')\n",
        "era5_min_temp_r =  era5_min_temp.resample().reproject(rsn2)\n",
        "# era5_max_temp = era5_max_temp_mean_.select(era5_max_temp_mean_.bandNames().getInfo()[0]).rename('era5_max_temp')\n",
        "# era5m_mean_temp = era5m_temp_mean_.select(era5m_temp_mean_.bandNames().getInfo()[0]).rename('era5m_mean_temp')\n",
        "# era5m_min_temp = era5m_min_temp_mean_.select(era5m_min_temp_mean_.bandNames().getInfo()[0]).rename('era5m_min_temp')\n",
        "# era5m_max_temp = era5m_max_temp_mean_.select(era5m_max_temp_mean_.bandNames().getInfo()[0]).rename('era5m_max_temp')\n",
        "chirpsd_prec_r =chirpsd_prec.resample().reproject(rsn2)\n",
        "# chirpsm_prec =chirps_m_mean_.select(chirps_m_mean_.bandNames().getInfo()[0]).rename('chirpsm_prec')\n",
        "# mod_lst = modislst_m_mean_.select(modislst_m_mean_.bandNames().getInfo()[0]).rename('mod_lst')\n",
        "gpp_r = gpp.reproject(rsn2)\n",
        "npp_r = npp.reproject(rsn2)\n",
        "wdvi_r = wdvi.reproject(rsn2)\n",
        "gli_r = gli.reproject(rsn2)\n",
        "gvi_r = gvi.reproject(rsn2)\n",
        "arvi2_r =arvi2.reproject(rsn2)"
      ],
      "metadata": {
        "id": "yGrvZMGmXO-K",
        "colab": {
          "base_uri": "https://localhost:8080/"
        },
        "outputId": "fe40933b-5635-48ff-abb2-96db0e244399"
      },
      "execution_count": null,
      "outputs": [
        {
          "output_type": "display_data",
          "data": {
            "text/plain": [
              "<IPython.core.display.HTML object>"
            ],
            "text/html": [
              "\n",
              "            <style>\n",
              "                .geemap-dark {\n",
              "                    --jp-widgets-color: white;\n",
              "                    --jp-widgets-label-color: white;\n",
              "                    --jp-ui-font-color1: white;\n",
              "                    --jp-layout-color2: #454545;\n",
              "                    background-color: #383838;\n",
              "                }\n",
              "\n",
              "                .geemap-dark .jupyter-button {\n",
              "                    --jp-layout-color3: #383838;\n",
              "                }\n",
              "\n",
              "                .geemap-colab {\n",
              "                    background-color: var(--colab-primary-surface-color, white);\n",
              "                }\n",
              "\n",
              "                .geemap-colab .jupyter-button {\n",
              "                    --jp-layout-color3: var(--colab-primary-surface-color, white);\n",
              "                }\n",
              "            </style>\n",
              "            "
            ]
          },
          "metadata": {}
        }
      ]
    },
    {
      "cell_type": "code",
      "source": [
        "img_2011_r = era5d_prec_r.addBands(era5_min_temp_r)\\\n",
        ".addBands(chirpsd_prec_r)\\\n",
        ".addBands(npp_r)\\\n",
        ".addBands(gpp_r)\\\n",
        ".addBands(wdvi_r)\\\n",
        ".addBands(gli_r)\\\n",
        ".addBands(gvi_r)\\\n",
        ".addBands(arvi2_r)"
      ],
      "metadata": {
        "id": "qU8GfUdqXuZT",
        "colab": {
          "base_uri": "https://localhost:8080/"
        },
        "outputId": "d9a58505-e5f2-4615-e995-1d061bcb65ff"
      },
      "execution_count": null,
      "outputs": [
        {
          "output_type": "display_data",
          "data": {
            "text/plain": [
              "<IPython.core.display.HTML object>"
            ],
            "text/html": [
              "\n",
              "            <style>\n",
              "                .geemap-dark {\n",
              "                    --jp-widgets-color: white;\n",
              "                    --jp-widgets-label-color: white;\n",
              "                    --jp-ui-font-color1: white;\n",
              "                    --jp-layout-color2: #454545;\n",
              "                    background-color: #383838;\n",
              "                }\n",
              "\n",
              "                .geemap-dark .jupyter-button {\n",
              "                    --jp-layout-color3: #383838;\n",
              "                }\n",
              "\n",
              "                .geemap-colab {\n",
              "                    background-color: var(--colab-primary-surface-color, white);\n",
              "                }\n",
              "\n",
              "                .geemap-colab .jupyter-button {\n",
              "                    --jp-layout-color3: var(--colab-primary-surface-color, white);\n",
              "                }\n",
              "            </style>\n",
              "            "
            ]
          },
          "metadata": {}
        }
      ]
    },
    {
      "cell_type": "code",
      "source": [
        "# classify the image again but with the classifier from the persisted trees\n",
        "classified = img_2011_r.select(feature_names).classify(another_classifier)\n",
        "# Reduce Regions to Counties\n",
        "class_2011 = classified.reduceRegions(**{\n",
        "    'collection':AOI,\n",
        "    'reducer': ee.Reducer.mean(),\n",
        "    'scale': scale\n",
        "})\n",
        "# task = ee.batch.Export.image.toAsset(**{\n",
        "#   'image': classified,\n",
        "#   'description': 'Class2011',\n",
        "#   'assetId': 'users/Prod/Outputs/Out5k/Class2011',\n",
        "#   'scale': scale,\n",
        "#   'region': county.geometry()\n",
        "# })\n",
        "\n",
        "# task.start()"
      ],
      "metadata": {
        "id": "TQRJ_LmhXZ3V",
        "colab": {
          "base_uri": "https://localhost:8080/"
        },
        "outputId": "51a876d3-5f59-41b7-8466-1844d01ed329"
      },
      "execution_count": null,
      "outputs": [
        {
          "output_type": "display_data",
          "data": {
            "text/plain": [
              "<IPython.core.display.HTML object>"
            ],
            "text/html": [
              "\n",
              "            <style>\n",
              "                .geemap-dark {\n",
              "                    --jp-widgets-color: white;\n",
              "                    --jp-widgets-label-color: white;\n",
              "                    --jp-ui-font-color1: white;\n",
              "                    --jp-layout-color2: #454545;\n",
              "                    background-color: #383838;\n",
              "                }\n",
              "\n",
              "                .geemap-dark .jupyter-button {\n",
              "                    --jp-layout-color3: #383838;\n",
              "                }\n",
              "\n",
              "                .geemap-colab {\n",
              "                    background-color: var(--colab-primary-surface-color, white);\n",
              "                }\n",
              "\n",
              "                .geemap-colab .jupyter-button {\n",
              "                    --jp-layout-color3: var(--colab-primary-surface-color, white);\n",
              "                }\n",
              "            </style>\n",
              "            "
            ]
          },
          "metadata": {}
        }
      ]
    },
    {
      "cell_type": "code",
      "source": [
        "# Reduce Regions to Counties\n",
        "class_2011_n = img_2011_r.reduceRegions(**{\n",
        "    'collection':newzones,\n",
        "    'reducer': ee.Reducer.median(),\n",
        "    'scale': scale,\n",
        "     'crs':'EPSG:4326'\n",
        "})\n",
        "\n",
        "task = ee.batch.Export.table.toDrive(collection=class_2011_n, folder='ee_demos', description='class_2011_n', fileFormat='SHP')\n",
        "task.start()"
      ],
      "metadata": {
        "colab": {
          "base_uri": "https://localhost:8080/"
        },
        "id": "s16NM7r_kKdl",
        "outputId": "2039c438-57da-4306-e093-2e1b11e1ee47"
      },
      "execution_count": null,
      "outputs": [
        {
          "output_type": "display_data",
          "data": {
            "text/plain": [
              "<IPython.core.display.HTML object>"
            ],
            "text/html": [
              "\n",
              "            <style>\n",
              "                .geemap-dark {\n",
              "                    --jp-widgets-color: white;\n",
              "                    --jp-widgets-label-color: white;\n",
              "                    --jp-ui-font-color1: white;\n",
              "                    --jp-layout-color2: #454545;\n",
              "                    background-color: #383838;\n",
              "                }\n",
              "\n",
              "                .geemap-dark .jupyter-button {\n",
              "                    --jp-layout-color3: #383838;\n",
              "                }\n",
              "\n",
              "                .geemap-colab {\n",
              "                    background-color: var(--colab-primary-surface-color, white);\n",
              "                }\n",
              "\n",
              "                .geemap-colab .jupyter-button {\n",
              "                    --jp-layout-color3: var(--colab-primary-surface-color, white);\n",
              "                }\n",
              "            </style>\n",
              "            "
            ]
          },
          "metadata": {}
        }
      ]
    },
    {
      "cell_type": "code",
      "source": [
        "task = ee.batch.Export.image.toDrive(**{\n",
        "  'image': classified,\n",
        "  'description': 'Class2011',\n",
        "  'folder':'ee_demos',\n",
        "  'scale': scale,\n",
        "  'region': AOI,\n",
        "  'crs':'EPSG:4326'\n",
        " })\n",
        "\n",
        "# task.start()"
      ],
      "metadata": {
        "id": "ZofL8W-MXDr3",
        "colab": {
          "base_uri": "https://localhost:8080/"
        },
        "outputId": "8edb1fe4-535b-4a08-aa19-52d51ed7f22e"
      },
      "execution_count": null,
      "outputs": [
        {
          "output_type": "display_data",
          "data": {
            "text/plain": [
              "<IPython.core.display.HTML object>"
            ],
            "text/html": [
              "\n",
              "            <style>\n",
              "                .geemap-dark {\n",
              "                    --jp-widgets-color: white;\n",
              "                    --jp-widgets-label-color: white;\n",
              "                    --jp-ui-font-color1: white;\n",
              "                    --jp-layout-color2: #454545;\n",
              "                    background-color: #383838;\n",
              "                }\n",
              "\n",
              "                .geemap-dark .jupyter-button {\n",
              "                    --jp-layout-color3: #383838;\n",
              "                }\n",
              "\n",
              "                .geemap-colab {\n",
              "                    background-color: var(--colab-primary-surface-color, white);\n",
              "                }\n",
              "\n",
              "                .geemap-colab .jupyter-button {\n",
              "                    --jp-layout-color3: var(--colab-primary-surface-color, white);\n",
              "                }\n",
              "            </style>\n",
              "            "
            ]
          },
          "metadata": {}
        }
      ]
    },
    {
      "cell_type": "code",
      "execution_count": null,
      "metadata": {
        "id": "8wvgvx6a8j-F",
        "colab": {
          "base_uri": "https://localhost:8080/"
        },
        "outputId": "2e365d3a-4f8e-433c-d765-ec7d87c7d0e3"
      },
      "outputs": [
        {
          "output_type": "display_data",
          "data": {
            "text/plain": [
              "<IPython.core.display.HTML object>"
            ],
            "text/html": [
              "\n",
              "            <style>\n",
              "                .geemap-dark {\n",
              "                    --jp-widgets-color: white;\n",
              "                    --jp-widgets-label-color: white;\n",
              "                    --jp-ui-font-color1: white;\n",
              "                    --jp-layout-color2: #454545;\n",
              "                    background-color: #383838;\n",
              "                }\n",
              "\n",
              "                .geemap-dark .jupyter-button {\n",
              "                    --jp-layout-color3: #383838;\n",
              "                }\n",
              "\n",
              "                .geemap-colab {\n",
              "                    background-color: var(--colab-primary-surface-color, white);\n",
              "                }\n",
              "\n",
              "                .geemap-colab .jupyter-button {\n",
              "                    --jp-layout-color3: var(--colab-primary-surface-color, white);\n",
              "                }\n",
              "            </style>\n",
              "            "
            ]
          },
          "metadata": {}
        },
        {
          "output_type": "execute_result",
          "data": {
            "text/plain": [
              "{'state': <State.UNSUBMITTED: 'UNSUBMITTED'>}"
            ]
          },
          "metadata": {},
          "execution_count": 208
        }
      ],
      "source": [
        " task.status()"
      ]
    },
    {
      "cell_type": "markdown",
      "metadata": {
        "id": "0FEbri4UG8Tp"
      },
      "source": [
        "\n",
        "# 2012"
      ]
    },
    {
      "cell_type": "code",
      "source": [
        "year ='2012'\n",
        "start = ee.Date('2012-04-01')\n",
        "end = ee.Date('2012-08-31')\n",
        "scale = 463.31271652791656"
      ],
      "metadata": {
        "id": "YXUwY7oUa96I",
        "colab": {
          "base_uri": "https://localhost:8080/"
        },
        "outputId": "e7c86f09-82e9-4ae0-8829-02ec0e34ed11"
      },
      "execution_count": null,
      "outputs": [
        {
          "output_type": "display_data",
          "data": {
            "text/plain": [
              "<IPython.core.display.HTML object>"
            ],
            "text/html": [
              "\n",
              "            <style>\n",
              "                .geemap-dark {\n",
              "                    --jp-widgets-color: white;\n",
              "                    --jp-widgets-label-color: white;\n",
              "                    --jp-ui-font-color1: white;\n",
              "                    --jp-layout-color2: #454545;\n",
              "                    background-color: #383838;\n",
              "                }\n",
              "\n",
              "                .geemap-dark .jupyter-button {\n",
              "                    --jp-layout-color3: #383838;\n",
              "                }\n",
              "\n",
              "                .geemap-colab {\n",
              "                    background-color: var(--colab-primary-surface-color, white);\n",
              "                }\n",
              "\n",
              "                .geemap-colab .jupyter-button {\n",
              "                    --jp-layout-color3: var(--colab-primary-surface-color, white);\n",
              "                }\n",
              "            </style>\n",
              "            "
            ]
          },
          "metadata": {}
        }
      ]
    },
    {
      "cell_type": "code",
      "execution_count": null,
      "metadata": {
        "id": "XJ1O6UsdFoXB",
        "colab": {
          "base_uri": "https://localhost:8080/"
        },
        "outputId": "dc55152b-2f5f-41f6-9aed-6d6e66cdd2d5"
      },
      "outputs": [
        {
          "output_type": "display_data",
          "data": {
            "text/plain": [
              "<IPython.core.display.HTML object>"
            ],
            "text/html": [
              "\n",
              "            <style>\n",
              "                .geemap-dark {\n",
              "                    --jp-widgets-color: white;\n",
              "                    --jp-widgets-label-color: white;\n",
              "                    --jp-ui-font-color1: white;\n",
              "                    --jp-layout-color2: #454545;\n",
              "                    background-color: #383838;\n",
              "                }\n",
              "\n",
              "                .geemap-dark .jupyter-button {\n",
              "                    --jp-layout-color3: #383838;\n",
              "                }\n",
              "\n",
              "                .geemap-colab {\n",
              "                    background-color: var(--colab-primary-surface-color, white);\n",
              "                }\n",
              "\n",
              "                .geemap-colab .jupyter-button {\n",
              "                    --jp-layout-color3: var(--colab-primary-surface-color, white);\n",
              "                }\n",
              "            </style>\n",
              "            "
            ]
          },
          "metadata": {}
        }
      ],
      "source": [
        "era5d_prec = era5_tp_mean_.select(era5_tp_mean_.bandNames().getInfo()[2]).rename('era5d_prec')\n",
        "# era5_wind = era5_u_wind_10m_mean_.select(era5_u_wind_10m_mean_.bandNames().getInfo()[2]).rename('era5_wind')\n",
        "# era5m_wind = era5_u_wind_10monthly_mean_.select(era5_u_wind_10monthly_mean_.bandNames().getInfo()[2]).rename('era5m_wind')\n",
        "# era5m_prec = era5_monthly_mean_.select(era5_monthly_mean_.bandNames().getInfo()[2]).rename('era5m_prec')\n",
        "# era5_mean_temp = era5_mean_temp_mean_.select(era5_mean_temp_mean_.bandNames().getInfo()[2]).rename('era5_mean_temp')\n",
        "era5_min_temp =  era5_min_temp_mean_.select(era5_min_temp_mean_.bandNames().getInfo()[2]).rename('era5_min_temp')\n",
        "# era5_max_temp = era5_max_temp_mean_.select(era5_max_temp_mean_.bandNames().getInfo()[2]).rename('era5_max_temp')\n",
        "# era5m_mean_temp = era5m_temp_mean_.select(era5m_temp_mean_.bandNames().getInfo()[2]).rename('era5m_mean_temp')\n",
        "# era5m_min_temp = era5m_min_temp_mean_.select(era5m_min_temp_mean_.bandNames().getInfo()[2]).rename('era5m_min_temp')\n",
        "# era5m_max_temp = era5m_max_temp_mean_.select(era5m_max_temp_mean_.bandNames().getInfo()[2]).rename('era5m_max_temp')\n",
        "chirpsd_prec =chirps_d_mean_.select(chirps_d_mean_.bandNames().getInfo()[2]).rename('chirpsd_prec')\n",
        "# chirpsm_prec =chirps_m_mean_.select(chirps_m_mean_.bandNames().getInfo()[2]).rename('chirpsm_prec')\n",
        "# mod_lst = modislst_m_mean_.select(modislst_m_mean_.bandNames().getInfo()[2]).rename('mod_lst')\n",
        "gpp = gpp_prep(gpp_col,AOI,year).toBands().select(gpp_prep(gpp_col,AOI,year).toBands().bandNames()).rename('gpp')\n",
        "npp = npp_prep(npp_col,AOI,year).toBands().select(npp_prep(npp_col,AOI,year).toBands().bandNames()).rename('npp')\n",
        "wdvi = l8_2012.select('wdvi')\n",
        "gli = l8_2012.select('gli')\n",
        "gvi =l8_2012.select('gvi')\n",
        "arvi2 =l8_2012.select('arvi2')\n"
      ]
    },
    {
      "cell_type": "code",
      "source": [
        "# img_2010_repr = img_2010.reproject(crs='EPSG:4326', scale=500)\n",
        "era5d_prec_r = era5d_prec.resample().reproject(rsn2)\n",
        "# era5_wind = era5_u_wind_10m_mean_.select(era5_u_wind_10m_mean_.bandNames().getInfo()[0]).rename('era5_wind')\n",
        "# era5m_wind = era5_u_wind_10monthly_mean_.select(era5_u_wind_10monthly_mean_.bandNames().getInfo()[0]).rename('era5m_wind')\n",
        "# era5m_prec = era5_monthly_mean_.select(era5_monthly_mean_.bandNames().getInfo()[0]).rename('era5m_prec')\n",
        "# era5_mean_temp = era5_mean_temp_mean_.select(era5_mean_temp_mean_.bandNames().getInfo()[0]).rename('era5_mean_temp')\n",
        "era5_min_temp_r =  era5_min_temp.resample().reproject(rsn2)\n",
        "# era5_max_temp = era5_max_temp_mean_.select(era5_max_temp_mean_.bandNames().getInfo()[0]).rename('era5_max_temp')\n",
        "# era5m_mean_temp = era5m_temp_mean_.select(era5m_temp_mean_.bandNames().getInfo()[0]).rename('era5m_mean_temp')\n",
        "# era5m_min_temp = era5m_min_temp_mean_.select(era5m_min_temp_mean_.bandNames().getInfo()[0]).rename('era5m_min_temp')\n",
        "# era5m_max_temp = era5m_max_temp_mean_.select(era5m_max_temp_mean_.bandNames().getInfo()[0]).rename('era5m_max_temp')\n",
        "chirpsd_prec_r =chirpsd_prec.resample().reproject(rsn2)\n",
        "# chirpsm_prec =chirps_m_mean_.select(chirps_m_mean_.bandNames().getInfo()[0]).rename('chirpsm_prec')\n",
        "# mod_lst = modislst_m_mean_.select(modislst_m_mean_.bandNames().getInfo()[0]).rename('mod_lst')\n",
        "gpp_r = gpp.reproject(rsn2)\n",
        "npp_r = npp.reproject(rsn2)\n",
        "wdvi_r = wdvi.reproject(rsn2)\n",
        "gli_r = gli.reproject(rsn2)\n",
        "gvi_r = gvi.reproject(rsn2)\n",
        "arvi2_r =arvi2.reproject(rsn2)\n",
        "\n",
        "img_2012_r = era5d_prec_r.addBands(era5_min_temp_r)\\\n",
        ".addBands(chirpsd_prec_r)\\\n",
        ".addBands(npp_r)\\\n",
        ".addBands(gpp_r)\\\n",
        ".addBands(wdvi_r)\\\n",
        ".addBands(gli_r)\\\n",
        ".addBands(gvi_r)\\\n",
        ".addBands(arvi2_r)\n",
        "classified = img_2012_r.select(feature_names).classify(another_classifier)\n",
        "# Reduce Regions to Counties\n",
        "class_2012 = classified.reduceRegions(**{\n",
        "    'collection':AOI,\n",
        "    'reducer': ee.Reducer.mean(),\n",
        "    'scale': scale\n",
        "})\n",
        "\n",
        "task = ee.batch.Export.image.toDrive(**{\n",
        "  'image': classified,\n",
        "  'description': 'Class2012',\n",
        "  'folder':'ee_demos',\n",
        "  'scale': scale,\n",
        "  'region': AOI,\n",
        "  'crs':'EPSG:4326'\n",
        " })\n",
        "\n",
        "# task.start()"
      ],
      "metadata": {
        "id": "x-MhGCaybh3g",
        "colab": {
          "base_uri": "https://localhost:8080/"
        },
        "outputId": "525934e2-1aac-4540-a392-3584c21d5e37"
      },
      "execution_count": null,
      "outputs": [
        {
          "output_type": "display_data",
          "data": {
            "text/plain": [
              "<IPython.core.display.HTML object>"
            ],
            "text/html": [
              "\n",
              "            <style>\n",
              "                .geemap-dark {\n",
              "                    --jp-widgets-color: white;\n",
              "                    --jp-widgets-label-color: white;\n",
              "                    --jp-ui-font-color1: white;\n",
              "                    --jp-layout-color2: #454545;\n",
              "                    background-color: #383838;\n",
              "                }\n",
              "\n",
              "                .geemap-dark .jupyter-button {\n",
              "                    --jp-layout-color3: #383838;\n",
              "                }\n",
              "\n",
              "                .geemap-colab {\n",
              "                    background-color: var(--colab-primary-surface-color, white);\n",
              "                }\n",
              "\n",
              "                .geemap-colab .jupyter-button {\n",
              "                    --jp-layout-color3: var(--colab-primary-surface-color, white);\n",
              "                }\n",
              "            </style>\n",
              "            "
            ]
          },
          "metadata": {}
        }
      ]
    },
    {
      "cell_type": "code",
      "source": [
        "# Reduce Regions to Counties\n",
        "class_2012_n = img_2012_r.reduceRegions(**{\n",
        "    'collection':newzones,\n",
        "    'reducer': ee.Reducer.median(),\n",
        "    'scale': scale,\n",
        "     'crs':'EPSG:4326'\n",
        "})\n",
        "\n",
        "task = ee.batch.Export.table.toDrive(collection=class_2010_n, folder='ee_demos', description='class_2012_n', fileFormat='SHP')\n",
        "task.start()"
      ],
      "metadata": {
        "colab": {
          "base_uri": "https://localhost:8080/"
        },
        "id": "xnHmjAcdkkBk",
        "outputId": "d3106d27-e572-4398-9722-36a659ce6e11"
      },
      "execution_count": null,
      "outputs": [
        {
          "output_type": "display_data",
          "data": {
            "text/plain": [
              "<IPython.core.display.HTML object>"
            ],
            "text/html": [
              "\n",
              "            <style>\n",
              "                .geemap-dark {\n",
              "                    --jp-widgets-color: white;\n",
              "                    --jp-widgets-label-color: white;\n",
              "                    --jp-ui-font-color1: white;\n",
              "                    --jp-layout-color2: #454545;\n",
              "                    background-color: #383838;\n",
              "                }\n",
              "\n",
              "                .geemap-dark .jupyter-button {\n",
              "                    --jp-layout-color3: #383838;\n",
              "                }\n",
              "\n",
              "                .geemap-colab {\n",
              "                    background-color: var(--colab-primary-surface-color, white);\n",
              "                }\n",
              "\n",
              "                .geemap-colab .jupyter-button {\n",
              "                    --jp-layout-color3: var(--colab-primary-surface-color, white);\n",
              "                }\n",
              "            </style>\n",
              "            "
            ]
          },
          "metadata": {}
        }
      ]
    },
    {
      "cell_type": "code",
      "execution_count": null,
      "metadata": {
        "id": "D1Sk7vIyGQXa",
        "colab": {
          "base_uri": "https://localhost:8080/"
        },
        "collapsed": true,
        "outputId": "0b047489-df10-47be-999e-e38e4ae03f18"
      },
      "outputs": [
        {
          "output_type": "display_data",
          "data": {
            "text/plain": [
              "<IPython.core.display.HTML object>"
            ],
            "text/html": [
              "\n",
              "            <style>\n",
              "                .geemap-dark {\n",
              "                    --jp-widgets-color: white;\n",
              "                    --jp-widgets-label-color: white;\n",
              "                    --jp-ui-font-color1: white;\n",
              "                    --jp-layout-color2: #454545;\n",
              "                    background-color: #383838;\n",
              "                }\n",
              "\n",
              "                .geemap-dark .jupyter-button {\n",
              "                    --jp-layout-color3: #383838;\n",
              "                }\n",
              "\n",
              "                .geemap-colab {\n",
              "                    background-color: var(--colab-primary-surface-color, white);\n",
              "                }\n",
              "\n",
              "                .geemap-colab .jupyter-button {\n",
              "                    --jp-layout-color3: var(--colab-primary-surface-color, white);\n",
              "                }\n",
              "            </style>\n",
              "            "
            ]
          },
          "metadata": {}
        },
        {
          "output_type": "execute_result",
          "data": {
            "text/plain": [
              "{'state': 'READY',\n",
              " 'description': 'class_2012_n',\n",
              " 'priority': 100,\n",
              " 'creation_timestamp_ms': 1743165569542,\n",
              " 'update_timestamp_ms': 1743165569542,\n",
              " 'start_timestamp_ms': 0,\n",
              " 'task_type': 'EXPORT_FEATURES',\n",
              " 'id': 'URVROQW3PQZLDRHUNJRJL3DI',\n",
              " 'name': 'projects/ee-maizeyield/operations/URVROQW3PQZLDRHUNJRJL3DI'}"
            ]
          },
          "metadata": {},
          "execution_count": 213
        }
      ],
      "source": [
        "task.status()"
      ]
    },
    {
      "cell_type": "markdown",
      "metadata": {
        "id": "I7OypHRaHCrH"
      },
      "source": [
        "# 2013"
      ]
    },
    {
      "cell_type": "code",
      "source": [
        "year ='2013'\n",
        "start = ee.Date('2013-04-01')\n",
        "end = ee.Date('2013-08-31')\n",
        "scale = 463.31271652791656"
      ],
      "metadata": {
        "id": "5C0XslgOe3J_",
        "colab": {
          "base_uri": "https://localhost:8080/"
        },
        "outputId": "4e0f2c24-eabe-4f5b-f449-5b8972bc9a10"
      },
      "execution_count": null,
      "outputs": [
        {
          "output_type": "display_data",
          "data": {
            "text/plain": [
              "<IPython.core.display.HTML object>"
            ],
            "text/html": [
              "\n",
              "            <style>\n",
              "                .geemap-dark {\n",
              "                    --jp-widgets-color: white;\n",
              "                    --jp-widgets-label-color: white;\n",
              "                    --jp-ui-font-color1: white;\n",
              "                    --jp-layout-color2: #454545;\n",
              "                    background-color: #383838;\n",
              "                }\n",
              "\n",
              "                .geemap-dark .jupyter-button {\n",
              "                    --jp-layout-color3: #383838;\n",
              "                }\n",
              "\n",
              "                .geemap-colab {\n",
              "                    background-color: var(--colab-primary-surface-color, white);\n",
              "                }\n",
              "\n",
              "                .geemap-colab .jupyter-button {\n",
              "                    --jp-layout-color3: var(--colab-primary-surface-color, white);\n",
              "                }\n",
              "            </style>\n",
              "            "
            ]
          },
          "metadata": {}
        }
      ]
    },
    {
      "cell_type": "code",
      "execution_count": null,
      "metadata": {
        "id": "RAiwrp5lGUpc",
        "colab": {
          "base_uri": "https://localhost:8080/"
        },
        "outputId": "bbc7ead0-2865-4ff2-e8be-6634dbe7fb03"
      },
      "outputs": [
        {
          "output_type": "display_data",
          "data": {
            "text/plain": [
              "<IPython.core.display.HTML object>"
            ],
            "text/html": [
              "\n",
              "            <style>\n",
              "                .geemap-dark {\n",
              "                    --jp-widgets-color: white;\n",
              "                    --jp-widgets-label-color: white;\n",
              "                    --jp-ui-font-color1: white;\n",
              "                    --jp-layout-color2: #454545;\n",
              "                    background-color: #383838;\n",
              "                }\n",
              "\n",
              "                .geemap-dark .jupyter-button {\n",
              "                    --jp-layout-color3: #383838;\n",
              "                }\n",
              "\n",
              "                .geemap-colab {\n",
              "                    background-color: var(--colab-primary-surface-color, white);\n",
              "                }\n",
              "\n",
              "                .geemap-colab .jupyter-button {\n",
              "                    --jp-layout-color3: var(--colab-primary-surface-color, white);\n",
              "                }\n",
              "            </style>\n",
              "            "
            ]
          },
          "metadata": {}
        }
      ],
      "source": [
        "\n",
        "era5d_prec = era5_tp_mean_.select(era5_tp_mean_.bandNames().getInfo()[3]).rename('era5d_prec')\n",
        "# era5_wind = era5_u_wind_10m_mean_.select(era5_u_wind_10m_mean_.bandNames().getInfo()[3]).rename('era5_wind')\n",
        "# era5m_wind = era5_u_wind_10monthly_mean_.select(era5_u_wind_10monthly_mean_.bandNames().getInfo()[3]).rename('era5m_wind')\n",
        "# era5m_prec = era5_monthly_mean_.select(era5_monthly_mean_.bandNames().getInfo()[3]).rename('era5m_prec')\n",
        "# era5_mean_temp = era5_mean_temp_mean_.select(era5_mean_temp_mean_.bandNames().getInfo()[3]).rename('era5_mean_temp')\n",
        "era5_min_temp =  era5_min_temp_mean_.select(era5_min_temp_mean_.bandNames().getInfo()[3]).rename('era5_min_temp')\n",
        "# era5_max_temp = era5_max_temp_mean_.select(era5_max_temp_mean_.bandNames().getInfo()[3]).rename('era5_max_temp')\n",
        "# era5m_mean_temp = era5m_temp_mean_.select(era5m_temp_mean_.bandNames().getInfo()[3]).rename('era5m_mean_temp')\n",
        "# era5m_min_temp = era5m_min_temp_mean_.select(era5m_min_temp_mean_.bandNames().getInfo()[3]).rename('era5m_min_temp')\n",
        "# era5m_max_temp = era5m_max_temp_mean_.select(era5m_max_temp_mean_.bandNames().getInfo()[3]).rename('era5m_max_temp')\n",
        "chirpsd_prec =chirps_d_mean_.select(chirps_d_mean_.bandNames().getInfo()[3]).rename('chirpsd_prec')\n",
        "# chirpsm_prec =chirps_m_mean_.select(chirps_m_mean_.bandNames().getInfo()[3]).rename('chirpsm_prec')\n",
        "# mod_lst = modislst_m_mean_.select(modislst_m_mean_.bandNames().getInfo()[3]).rename('mod_lst')\n",
        "gpp = gpp_prep(gpp_col,AOI,year).toBands().select(gpp_prep(gpp_col,AOI,year).toBands().bandNames()).rename('gpp')\n",
        "npp = npp_prep(npp_col,AOI,year).toBands().select(npp_prep(npp_col,AOI,year).toBands().bandNames()).rename('npp')\n",
        "wdvi = l8_2013.select('wdvi')\n",
        "gli = l8_2013.select('gli')\n",
        "gvi =l8_2013.select('gvi')\n",
        "arvi2 =l8_2013.select('arvi2')\n",
        "\n",
        "# task = ee.batch.Export.image.toAsset(**{\n",
        "#   'image': classified,\n",
        "#   'description': 'Class2013',\n",
        "#   'assetId': 'users/Prod/Outputs/Out5k/Class2013',\n",
        "#   'scale': scale,\n",
        "#   'region': county.geometry()\n",
        "# })\n",
        "# task.start()"
      ]
    },
    {
      "cell_type": "code",
      "source": [
        "# img_2010_repr = img_2010.reproject(crs='EPSG:4326', scale=500)\n",
        "era5d_prec_r = era5d_prec.resample().reproject(rsn2)\n",
        "# era5_wind = era5_u_wind_10m_mean_.select(era5_u_wind_10m_mean_.bandNames().getInfo()[0]).rename('era5_wind')\n",
        "# era5m_wind = era5_u_wind_10monthly_mean_.select(era5_u_wind_10monthly_mean_.bandNames().getInfo()[0]).rename('era5m_wind')\n",
        "# era5m_prec = era5_monthly_mean_.select(era5_monthly_mean_.bandNames().getInfo()[0]).rename('era5m_prec')\n",
        "# era5_mean_temp = era5_mean_temp_mean_.select(era5_mean_temp_mean_.bandNames().getInfo()[0]).rename('era5_mean_temp')\n",
        "era5_min_temp_r =  era5_min_temp.resample().reproject(rsn2)\n",
        "# era5_max_temp = era5_max_temp_mean_.select(era5_max_temp_mean_.bandNames().getInfo()[0]).rename('era5_max_temp')\n",
        "# era5m_mean_temp = era5m_temp_mean_.select(era5m_temp_mean_.bandNames().getInfo()[0]).rename('era5m_mean_temp')\n",
        "# era5m_min_temp = era5m_min_temp_mean_.select(era5m_min_temp_mean_.bandNames().getInfo()[0]).rename('era5m_min_temp')\n",
        "# era5m_max_temp = era5m_max_temp_mean_.select(era5m_max_temp_mean_.bandNames().getInfo()[0]).rename('era5m_max_temp')\n",
        "chirpsd_prec_r =chirpsd_prec.resample().reproject(rsn2)\n",
        "# chirpsm_prec =chirps_m_mean_.select(chirps_m_mean_.bandNames().getInfo()[0]).rename('chirpsm_prec')\n",
        "# mod_lst = modislst_m_mean_.select(modislst_m_mean_.bandNames().getInfo()[0]).rename('mod_lst')\n",
        "gpp_r = gpp.reproject(rsn2)\n",
        "npp_r = npp.reproject(rsn2)\n",
        "wdvi_r = wdvi.reproject(rsn2)\n",
        "gli_r = gli.reproject(rsn2)\n",
        "gvi_r = gvi.reproject(rsn2)\n",
        "arvi2_r =arvi2.reproject(rsn2)\n",
        "\n",
        "img_2013_r = era5d_prec_r.addBands(era5_min_temp_r)\\\n",
        ".addBands(chirpsd_prec_r)\\\n",
        ".addBands(npp_r)\\\n",
        ".addBands(gpp_r)\\\n",
        ".addBands(wdvi_r)\\\n",
        ".addBands(gli_r)\\\n",
        ".addBands(gvi_r)\\\n",
        ".addBands(arvi2_r)\n",
        "classified = img_2013_r.select(feature_names).classify(another_classifier)\n",
        "# Reduce Regions to Counties\n",
        "class_2013 = classified.reduceRegions(**{\n",
        "    'collection':county,\n",
        "    'reducer': ee.Reducer.mean(),\n",
        "    'scale': scale\n",
        "})\n",
        "\n",
        "task = ee.batch.Export.image.toDrive(**{\n",
        "  'image': classified,\n",
        "  'description': 'Class2013',\n",
        "  'folder':'ee_demos',\n",
        "  'scale': scale,\n",
        "  'region': county.geometry(),\n",
        "  'crs':'EPSG:4326'\n",
        " })\n",
        "\n",
        "# task.start()"
      ],
      "metadata": {
        "id": "BqAEyHrBfFQe",
        "colab": {
          "base_uri": "https://localhost:8080/"
        },
        "outputId": "85be784a-9ed0-45da-acaf-3dc88c117cfa"
      },
      "execution_count": null,
      "outputs": [
        {
          "output_type": "display_data",
          "data": {
            "text/plain": [
              "<IPython.core.display.HTML object>"
            ],
            "text/html": [
              "\n",
              "            <style>\n",
              "                .geemap-dark {\n",
              "                    --jp-widgets-color: white;\n",
              "                    --jp-widgets-label-color: white;\n",
              "                    --jp-ui-font-color1: white;\n",
              "                    --jp-layout-color2: #454545;\n",
              "                    background-color: #383838;\n",
              "                }\n",
              "\n",
              "                .geemap-dark .jupyter-button {\n",
              "                    --jp-layout-color3: #383838;\n",
              "                }\n",
              "\n",
              "                .geemap-colab {\n",
              "                    background-color: var(--colab-primary-surface-color, white);\n",
              "                }\n",
              "\n",
              "                .geemap-colab .jupyter-button {\n",
              "                    --jp-layout-color3: var(--colab-primary-surface-color, white);\n",
              "                }\n",
              "            </style>\n",
              "            "
            ]
          },
          "metadata": {}
        }
      ]
    },
    {
      "cell_type": "code",
      "source": [
        "# Reduce Regions to Counties\n",
        "class_2013_n = img_2013_r.reduceRegions(**{\n",
        "    'collection':newzones,\n",
        "    'reducer': ee.Reducer.median(),\n",
        "    'scale': scale,\n",
        "     'crs':'EPSG:4326'\n",
        "})\n",
        "\n",
        "task = ee.batch.Export.table.toDrive(collection=class_2013_n, folder='ee_demos', description='class_2013_n', fileFormat='SHP')\n",
        "task.start()"
      ],
      "metadata": {
        "colab": {
          "base_uri": "https://localhost:8080/"
        },
        "id": "8lQfswD5kyF0",
        "outputId": "d06e315f-2fe8-4c0d-ba5e-36ac41474bea"
      },
      "execution_count": null,
      "outputs": [
        {
          "output_type": "display_data",
          "data": {
            "text/plain": [
              "<IPython.core.display.HTML object>"
            ],
            "text/html": [
              "\n",
              "            <style>\n",
              "                .geemap-dark {\n",
              "                    --jp-widgets-color: white;\n",
              "                    --jp-widgets-label-color: white;\n",
              "                    --jp-ui-font-color1: white;\n",
              "                    --jp-layout-color2: #454545;\n",
              "                    background-color: #383838;\n",
              "                }\n",
              "\n",
              "                .geemap-dark .jupyter-button {\n",
              "                    --jp-layout-color3: #383838;\n",
              "                }\n",
              "\n",
              "                .geemap-colab {\n",
              "                    background-color: var(--colab-primary-surface-color, white);\n",
              "                }\n",
              "\n",
              "                .geemap-colab .jupyter-button {\n",
              "                    --jp-layout-color3: var(--colab-primary-surface-color, white);\n",
              "                }\n",
              "            </style>\n",
              "            "
            ]
          },
          "metadata": {}
        }
      ]
    },
    {
      "cell_type": "code",
      "execution_count": null,
      "metadata": {
        "id": "Jlwu4TlEGm1L",
        "colab": {
          "base_uri": "https://localhost:8080/"
        },
        "outputId": "e62d2efd-713a-454d-ee4b-2fb1297abc9a"
      },
      "outputs": [
        {
          "output_type": "display_data",
          "data": {
            "text/plain": [
              "<IPython.core.display.HTML object>"
            ],
            "text/html": [
              "\n",
              "            <style>\n",
              "                .geemap-dark {\n",
              "                    --jp-widgets-color: white;\n",
              "                    --jp-widgets-label-color: white;\n",
              "                    --jp-ui-font-color1: white;\n",
              "                    --jp-layout-color2: #454545;\n",
              "                    background-color: #383838;\n",
              "                }\n",
              "\n",
              "                .geemap-dark .jupyter-button {\n",
              "                    --jp-layout-color3: #383838;\n",
              "                }\n",
              "\n",
              "                .geemap-colab {\n",
              "                    background-color: var(--colab-primary-surface-color, white);\n",
              "                }\n",
              "\n",
              "                .geemap-colab .jupyter-button {\n",
              "                    --jp-layout-color3: var(--colab-primary-surface-color, white);\n",
              "                }\n",
              "            </style>\n",
              "            "
            ]
          },
          "metadata": {}
        },
        {
          "output_type": "execute_result",
          "data": {
            "text/plain": [
              "{'state': 'READY',\n",
              " 'description': 'class_2013_n',\n",
              " 'priority': 100,\n",
              " 'creation_timestamp_ms': 1743165572858,\n",
              " 'update_timestamp_ms': 1743165572858,\n",
              " 'start_timestamp_ms': 0,\n",
              " 'task_type': 'EXPORT_FEATURES',\n",
              " 'id': 'F7DLWDKZ2VLF74JKN6NPX353',\n",
              " 'name': 'projects/ee-maizeyield/operations/F7DLWDKZ2VLF74JKN6NPX353'}"
            ]
          },
          "metadata": {},
          "execution_count": 218
        }
      ],
      "source": [
        "task.status()"
      ]
    },
    {
      "cell_type": "markdown",
      "metadata": {
        "id": "kRV8pfgPHHSF"
      },
      "source": [
        "# 2014"
      ]
    },
    {
      "cell_type": "code",
      "source": [
        "year ='2014'\n",
        "start = ee.Date('2014-04-01')\n",
        "end = ee.Date('2014-08-31')\n",
        "scale = 463.31271652791656"
      ],
      "metadata": {
        "id": "9iRalMjzhQA-",
        "colab": {
          "base_uri": "https://localhost:8080/"
        },
        "outputId": "1f101e87-4c6b-4702-8e4a-65bf649ca18c"
      },
      "execution_count": null,
      "outputs": [
        {
          "output_type": "display_data",
          "data": {
            "text/plain": [
              "<IPython.core.display.HTML object>"
            ],
            "text/html": [
              "\n",
              "            <style>\n",
              "                .geemap-dark {\n",
              "                    --jp-widgets-color: white;\n",
              "                    --jp-widgets-label-color: white;\n",
              "                    --jp-ui-font-color1: white;\n",
              "                    --jp-layout-color2: #454545;\n",
              "                    background-color: #383838;\n",
              "                }\n",
              "\n",
              "                .geemap-dark .jupyter-button {\n",
              "                    --jp-layout-color3: #383838;\n",
              "                }\n",
              "\n",
              "                .geemap-colab {\n",
              "                    background-color: var(--colab-primary-surface-color, white);\n",
              "                }\n",
              "\n",
              "                .geemap-colab .jupyter-button {\n",
              "                    --jp-layout-color3: var(--colab-primary-surface-color, white);\n",
              "                }\n",
              "            </style>\n",
              "            "
            ]
          },
          "metadata": {}
        }
      ]
    },
    {
      "cell_type": "code",
      "execution_count": null,
      "metadata": {
        "id": "Hr_nvo-AHmZU",
        "colab": {
          "base_uri": "https://localhost:8080/"
        },
        "outputId": "ae68de8a-0a99-438b-fb20-e9ce05d66e6c"
      },
      "outputs": [
        {
          "output_type": "display_data",
          "data": {
            "text/plain": [
              "<IPython.core.display.HTML object>"
            ],
            "text/html": [
              "\n",
              "            <style>\n",
              "                .geemap-dark {\n",
              "                    --jp-widgets-color: white;\n",
              "                    --jp-widgets-label-color: white;\n",
              "                    --jp-ui-font-color1: white;\n",
              "                    --jp-layout-color2: #454545;\n",
              "                    background-color: #383838;\n",
              "                }\n",
              "\n",
              "                .geemap-dark .jupyter-button {\n",
              "                    --jp-layout-color3: #383838;\n",
              "                }\n",
              "\n",
              "                .geemap-colab {\n",
              "                    background-color: var(--colab-primary-surface-color, white);\n",
              "                }\n",
              "\n",
              "                .geemap-colab .jupyter-button {\n",
              "                    --jp-layout-color3: var(--colab-primary-surface-color, white);\n",
              "                }\n",
              "            </style>\n",
              "            "
            ]
          },
          "metadata": {}
        }
      ],
      "source": [
        "\n",
        "era5d_prec = era5_tp_mean_.select(era5_tp_mean_.bandNames().getInfo()[4]).rename('era5d_prec')\n",
        "# era5_wind = era5_u_wind_10m_mean_.select(era5_u_wind_10m_mean_.bandNames().getInfo()[4]).rename('era5_wind')\n",
        "# era5m_wind = era5_u_wind_10monthly_mean_.select(era5_u_wind_10monthly_mean_.bandNames().getInfo()[4]).rename('era5m_wind')\n",
        "# era5m_prec = era5_monthly_mean_.select(era5_monthly_mean_.bandNames().getInfo()[4]).rename('era5m_prec')\n",
        "# era5_mean_temp = era5_mean_temp_mean_.select(era5_mean_temp_mean_.bandNames().getInfo()[4]).rename('era5_mean_temp')\n",
        "era5_min_temp =  era5_min_temp_mean_.select(era5_min_temp_mean_.bandNames().getInfo()[4]).rename('era5_min_temp')\n",
        "# era5_max_temp = era5_max_temp_mean_.select(era5_max_temp_mean_.bandNames().getInfo()[4]).rename('era5_max_temp')\n",
        "# era5m_mean_temp = era5m_temp_mean_.select(era5m_temp_mean_.bandNames().getInfo()[4]).rename('era5m_mean_temp')\n",
        "# era5m_min_temp = era5m_min_temp_mean_.select(era5m_min_temp_mean_.bandNames().getInfo()[4]).rename('era5m_min_temp')\n",
        "# era5m_max_temp = era5m_max_temp_mean_.select(era5m_max_temp_mean_.bandNames().getInfo()[4]).rename('era5m_max_temp')\n",
        "chirpsd_prec =chirps_d_mean_.select(chirps_d_mean_.bandNames().getInfo()[4]).rename('chirpsd_prec')\n",
        "# chirpsm_prec =chirps_m_mean_.select(chirps_m_mean_.bandNames().getInfo()[4]).rename('chirpsm_prec')\n",
        "# mod_lst = modislst_m_mean_.select(modislst_m_mean_.bandNames().getInfo()[4]).rename('mod_lst')\n",
        "gpp = gpp_prep(gpp_col,AOI,year).toBands().select(gpp_prep(gpp_col,AOI,year).toBands().bandNames()).rename('gpp')\n",
        "npp = npp_prep(npp_col,AOI,year).toBands().select(npp_prep(npp_col,AOI,year).toBands().bandNames()).rename('npp')\n",
        "wdvi = l8_2014.select('wdvi')\n",
        "gli = l8_2014.select('gli')\n",
        "gvi =l8_2014.select('gvi')\n",
        "arvi2 =l8_2014.select('arvi2')\n",
        "# task = ee.batch.Export.image.toAsset(**{\n",
        "#   'image': classified,\n",
        "#   'description': 'Class2014',\n",
        "#   'assetId': 'users/Prod/Outputs/Out5k/Class2014',\n",
        "#   'scale': scale,\n",
        "#   'region': county.geometry()\n",
        "# })\n",
        "# task.start()"
      ]
    },
    {
      "cell_type": "code",
      "source": [
        "# img_2010_repr = img_2010.reproject(crs='EPSG:4326', scale=500)\n",
        "era5d_prec_r = era5d_prec.resample().reproject(rsn2)\n",
        "# era5_wind = era5_u_wind_10m_mean_.select(era5_u_wind_10m_mean_.bandNames().getInfo()[0]).rename('era5_wind')\n",
        "# era5m_wind = era5_u_wind_10monthly_mean_.select(era5_u_wind_10monthly_mean_.bandNames().getInfo()[0]).rename('era5m_wind')\n",
        "# era5m_prec = era5_monthly_mean_.select(era5_monthly_mean_.bandNames().getInfo()[0]).rename('era5m_prec')\n",
        "# era5_mean_temp = era5_mean_temp_mean_.select(era5_mean_temp_mean_.bandNames().getInfo()[0]).rename('era5_mean_temp')\n",
        "era5_min_temp_r =  era5_min_temp.resample().reproject(rsn2)\n",
        "# era5_max_temp = era5_max_temp_mean_.select(era5_max_temp_mean_.bandNames().getInfo()[0]).rename('era5_max_temp')\n",
        "# era5m_mean_temp = era5m_temp_mean_.select(era5m_temp_mean_.bandNames().getInfo()[0]).rename('era5m_mean_temp')\n",
        "# era5m_min_temp = era5m_min_temp_mean_.select(era5m_min_temp_mean_.bandNames().getInfo()[0]).rename('era5m_min_temp')\n",
        "# era5m_max_temp = era5m_max_temp_mean_.select(era5m_max_temp_mean_.bandNames().getInfo()[0]).rename('era5m_max_temp')\n",
        "chirpsd_prec_r =chirpsd_prec.resample().reproject(rsn2)\n",
        "# chirpsm_prec =chirps_m_mean_.select(chirps_m_mean_.bandNames().getInfo()[0]).rename('chirpsm_prec')\n",
        "# mod_lst = modislst_m_mean_.select(modislst_m_mean_.bandNames().getInfo()[0]).rename('mod_lst')\n",
        "gpp_r = gpp.reproject(rsn2)\n",
        "npp_r = npp.reproject(rsn2)\n",
        "wdvi_r = wdvi.reproject(rsn2)\n",
        "gli_r = gli.reproject(rsn2)\n",
        "gvi_r = gvi.reproject(rsn2)\n",
        "arvi2_r =arvi2.reproject(rsn2)\n",
        "\n",
        "img_2014_r = era5d_prec_r.addBands(era5_min_temp_r)\\\n",
        ".addBands(chirpsd_prec_r)\\\n",
        ".addBands(npp_r)\\\n",
        ".addBands(gpp_r)\\\n",
        ".addBands(wdvi_r)\\\n",
        ".addBands(gli_r)\\\n",
        ".addBands(gvi_r)\\\n",
        ".addBands(arvi2_r)\n",
        "\n",
        "classified = img_2014_r.select(feature_names).classify(another_classifier)\n",
        "# Reduce Regions to Counties\n",
        "class_2014 = classified.reduceRegions(**{\n",
        "    'collection':county,\n",
        "    'reducer': ee.Reducer.mean(),\n",
        "    'scale': scale\n",
        "})\n",
        "\n",
        "task = ee.batch.Export.image.toDrive(**{\n",
        "  'image': classified,\n",
        "  'description': 'Class2014',\n",
        "  'folder':'ee_demos',\n",
        "  'scale': scale,\n",
        "  'region': county.geometry(),\n",
        "  'crs':'EPSG:4326'\n",
        " })\n",
        "\n",
        "# task.start()"
      ],
      "metadata": {
        "id": "AYB4g8-vhWMZ",
        "colab": {
          "base_uri": "https://localhost:8080/"
        },
        "outputId": "0fd0ab96-bd18-4c80-8f36-02554ce1c26d"
      },
      "execution_count": null,
      "outputs": [
        {
          "output_type": "display_data",
          "data": {
            "text/plain": [
              "<IPython.core.display.HTML object>"
            ],
            "text/html": [
              "\n",
              "            <style>\n",
              "                .geemap-dark {\n",
              "                    --jp-widgets-color: white;\n",
              "                    --jp-widgets-label-color: white;\n",
              "                    --jp-ui-font-color1: white;\n",
              "                    --jp-layout-color2: #454545;\n",
              "                    background-color: #383838;\n",
              "                }\n",
              "\n",
              "                .geemap-dark .jupyter-button {\n",
              "                    --jp-layout-color3: #383838;\n",
              "                }\n",
              "\n",
              "                .geemap-colab {\n",
              "                    background-color: var(--colab-primary-surface-color, white);\n",
              "                }\n",
              "\n",
              "                .geemap-colab .jupyter-button {\n",
              "                    --jp-layout-color3: var(--colab-primary-surface-color, white);\n",
              "                }\n",
              "            </style>\n",
              "            "
            ]
          },
          "metadata": {}
        }
      ]
    },
    {
      "cell_type": "code",
      "source": [
        "# Reduce Regions to Counties\n",
        "class_2014_n = img_2014_r.reduceRegions(**{\n",
        "    'collection':newzones,\n",
        "    'reducer': ee.Reducer.median(),\n",
        "    'scale': scale,\n",
        "     'crs':'EPSG:4326'\n",
        "})\n",
        "\n",
        "task = ee.batch.Export.table.toDrive(collection=class_2014_n, folder='ee_demos', description='class_2014_n', fileFormat='SHP')\n",
        "task.start()"
      ],
      "metadata": {
        "colab": {
          "base_uri": "https://localhost:8080/"
        },
        "id": "EwKr7vRDlLPw",
        "outputId": "43c69fe2-0ef0-4d27-fdfb-432cc71347a2"
      },
      "execution_count": null,
      "outputs": [
        {
          "output_type": "display_data",
          "data": {
            "text/plain": [
              "<IPython.core.display.HTML object>"
            ],
            "text/html": [
              "\n",
              "            <style>\n",
              "                .geemap-dark {\n",
              "                    --jp-widgets-color: white;\n",
              "                    --jp-widgets-label-color: white;\n",
              "                    --jp-ui-font-color1: white;\n",
              "                    --jp-layout-color2: #454545;\n",
              "                    background-color: #383838;\n",
              "                }\n",
              "\n",
              "                .geemap-dark .jupyter-button {\n",
              "                    --jp-layout-color3: #383838;\n",
              "                }\n",
              "\n",
              "                .geemap-colab {\n",
              "                    background-color: var(--colab-primary-surface-color, white);\n",
              "                }\n",
              "\n",
              "                .geemap-colab .jupyter-button {\n",
              "                    --jp-layout-color3: var(--colab-primary-surface-color, white);\n",
              "                }\n",
              "            </style>\n",
              "            "
            ]
          },
          "metadata": {}
        }
      ]
    },
    {
      "cell_type": "code",
      "execution_count": null,
      "metadata": {
        "id": "sZGYQ5wRHjgc",
        "colab": {
          "base_uri": "https://localhost:8080/"
        },
        "outputId": "1f79d72c-3cfe-41e9-ac23-5187b98663ef"
      },
      "outputs": [
        {
          "output_type": "display_data",
          "data": {
            "text/plain": [
              "<IPython.core.display.HTML object>"
            ],
            "text/html": [
              "\n",
              "            <style>\n",
              "                .geemap-dark {\n",
              "                    --jp-widgets-color: white;\n",
              "                    --jp-widgets-label-color: white;\n",
              "                    --jp-ui-font-color1: white;\n",
              "                    --jp-layout-color2: #454545;\n",
              "                    background-color: #383838;\n",
              "                }\n",
              "\n",
              "                .geemap-dark .jupyter-button {\n",
              "                    --jp-layout-color3: #383838;\n",
              "                }\n",
              "\n",
              "                .geemap-colab {\n",
              "                    background-color: var(--colab-primary-surface-color, white);\n",
              "                }\n",
              "\n",
              "                .geemap-colab .jupyter-button {\n",
              "                    --jp-layout-color3: var(--colab-primary-surface-color, white);\n",
              "                }\n",
              "            </style>\n",
              "            "
            ]
          },
          "metadata": {}
        },
        {
          "output_type": "execute_result",
          "data": {
            "text/plain": [
              "{'state': 'READY',\n",
              " 'description': 'class_2014_n',\n",
              " 'priority': 100,\n",
              " 'creation_timestamp_ms': 1743165576874,\n",
              " 'update_timestamp_ms': 1743165576874,\n",
              " 'start_timestamp_ms': 0,\n",
              " 'task_type': 'EXPORT_FEATURES',\n",
              " 'id': 'KYOVF6MLSQ45TWEGA5DPIKG2',\n",
              " 'name': 'projects/ee-maizeyield/operations/KYOVF6MLSQ45TWEGA5DPIKG2'}"
            ]
          },
          "metadata": {},
          "execution_count": 223
        }
      ],
      "source": [
        "task.status()"
      ]
    },
    {
      "cell_type": "markdown",
      "metadata": {
        "id": "oCEXPmBBHKpi"
      },
      "source": [
        "# 2015"
      ]
    },
    {
      "cell_type": "code",
      "source": [
        "year ='2015'\n",
        "start = ee.Date('2015-04-01')\n",
        "end = ee.Date('2015-08-31')\n",
        "scale = 463.31271652791656"
      ],
      "metadata": {
        "id": "Di6RdGMomV92",
        "colab": {
          "base_uri": "https://localhost:8080/"
        },
        "outputId": "e44af621-d492-449f-e07f-3509c4fb9d95"
      },
      "execution_count": null,
      "outputs": [
        {
          "output_type": "display_data",
          "data": {
            "text/plain": [
              "<IPython.core.display.HTML object>"
            ],
            "text/html": [
              "\n",
              "            <style>\n",
              "                .geemap-dark {\n",
              "                    --jp-widgets-color: white;\n",
              "                    --jp-widgets-label-color: white;\n",
              "                    --jp-ui-font-color1: white;\n",
              "                    --jp-layout-color2: #454545;\n",
              "                    background-color: #383838;\n",
              "                }\n",
              "\n",
              "                .geemap-dark .jupyter-button {\n",
              "                    --jp-layout-color3: #383838;\n",
              "                }\n",
              "\n",
              "                .geemap-colab {\n",
              "                    background-color: var(--colab-primary-surface-color, white);\n",
              "                }\n",
              "\n",
              "                .geemap-colab .jupyter-button {\n",
              "                    --jp-layout-color3: var(--colab-primary-surface-color, white);\n",
              "                }\n",
              "            </style>\n",
              "            "
            ]
          },
          "metadata": {}
        }
      ]
    },
    {
      "cell_type": "code",
      "execution_count": null,
      "metadata": {
        "id": "IyImXXX8Hnjz",
        "colab": {
          "base_uri": "https://localhost:8080/"
        },
        "outputId": "f091721c-52b5-400e-aec6-b8f1ffeb3991"
      },
      "outputs": [
        {
          "output_type": "display_data",
          "data": {
            "text/plain": [
              "<IPython.core.display.HTML object>"
            ],
            "text/html": [
              "\n",
              "            <style>\n",
              "                .geemap-dark {\n",
              "                    --jp-widgets-color: white;\n",
              "                    --jp-widgets-label-color: white;\n",
              "                    --jp-ui-font-color1: white;\n",
              "                    --jp-layout-color2: #454545;\n",
              "                    background-color: #383838;\n",
              "                }\n",
              "\n",
              "                .geemap-dark .jupyter-button {\n",
              "                    --jp-layout-color3: #383838;\n",
              "                }\n",
              "\n",
              "                .geemap-colab {\n",
              "                    background-color: var(--colab-primary-surface-color, white);\n",
              "                }\n",
              "\n",
              "                .geemap-colab .jupyter-button {\n",
              "                    --jp-layout-color3: var(--colab-primary-surface-color, white);\n",
              "                }\n",
              "            </style>\n",
              "            "
            ]
          },
          "metadata": {}
        }
      ],
      "source": [
        "\n",
        "era5d_prec = era5_tp_mean_.select(era5_tp_mean_.bandNames().getInfo()[5]).rename('era5d_prec')\n",
        "# era5_wind = era5_u_wind_10m_mean_.select(era5_u_wind_10m_mean_.bandNames().getInfo()[5]).rename('era5_wind')\n",
        "# era5m_wind = era5_u_wind_10monthly_mean_.select(era5_u_wind_10monthly_mean_.bandNames().getInfo()[5]).rename('era5m_wind')\n",
        "# era5m_prec = era5_monthly_mean_.select(era5_monthly_mean_.bandNames().getInfo()[5]).rename('era5m_prec')\n",
        "# era5_mean_temp = era5_mean_temp_mean_.select(era5_mean_temp_mean_.bandNames().getInfo()[5]).rename('era5_mean_temp')\n",
        "era5_min_temp =  era5_min_temp_mean_.select(era5_min_temp_mean_.bandNames().getInfo()[5]).rename('era5_min_temp')\n",
        "# era5_max_temp = era5_max_temp_mean_.select(era5_max_temp_mean_.bandNames().getInfo()[5]).rename('era5_max_temp')\n",
        "# era5m_mean_temp = era5m_temp_mean_.select(era5m_temp_mean_.bandNames().getInfo()[5]).rename('era5m_mean_temp')\n",
        "# era5m_min_temp = era5m_min_temp_mean_.select(era5m_min_temp_mean_.bandNames().getInfo()[5]).rename('era5m_min_temp')\n",
        "# era5m_max_temp = era5m_max_temp_mean_.select(era5m_max_temp_mean_.bandNames().getInfo()[5]).rename('era5m_max_temp')\n",
        "chirpsd_prec =chirps_d_mean_.select(chirps_d_mean_.bandNames().getInfo()[5]).rename('chirpsd_prec')\n",
        "# chirpsm_prec =chirps_m_mean_.select(chirps_m_mean_.bandNames().getInfo()[5]).rename('chirpsm_prec')\n",
        "# mod_lst = modislst_m_mean_.select(modislst_m_mean_.bandNames().getInfo()[5]).rename('mod_lst')\n",
        "gpp = gpp_prep(gpp_col,AOI,year).toBands().select(gpp_prep(gpp_col,AOI,year).toBands().bandNames()).rename('gpp')\n",
        "npp = npp_prep(npp_col,AOI,year).toBands().select(npp_prep(npp_col,AOI,year).toBands().bandNames()).rename('npp')\n",
        "wdvi = l8_2015.select('wdvi')\n",
        "gli = l8_2015.select('gli')\n",
        "gvi =l8_2015.select('gvi')\n",
        "arvi2 =l8_2015.select('arvi2')\n",
        "\n",
        "# task = ee.batch.Export.image.toAsset(**{\n",
        "#   'image': classified,\n",
        "#   'description': 'Class2015',\n",
        "#   'assetId': 'users/Prod/Outputs/Out5k/Class2015',\n",
        "#   'scale': scale,\n",
        "#   'region': county.geometry()\n",
        "# })\n",
        "# task.start()"
      ]
    },
    {
      "cell_type": "code",
      "source": [
        "# img_2010_repr = img_2010.reproject(crs='EPSG:4326', scale=500)\n",
        "era5d_prec_r = era5d_prec.resample().reproject(rsn2)\n",
        "# era5_wind = era5_u_wind_10m_mean_.select(era5_u_wind_10m_mean_.bandNames().getInfo()[0]).rename('era5_wind')\n",
        "# era5m_wind = era5_u_wind_10monthly_mean_.select(era5_u_wind_10monthly_mean_.bandNames().getInfo()[0]).rename('era5m_wind')\n",
        "# era5m_prec = era5_monthly_mean_.select(era5_monthly_mean_.bandNames().getInfo()[0]).rename('era5m_prec')\n",
        "# era5_mean_temp = era5_mean_temp_mean_.select(era5_mean_temp_mean_.bandNames().getInfo()[0]).rename('era5_mean_temp')\n",
        "era5_min_temp_r =  era5_min_temp.resample().reproject(rsn2)\n",
        "# era5_max_temp = era5_max_temp_mean_.select(era5_max_temp_mean_.bandNames().getInfo()[0]).rename('era5_max_temp')\n",
        "# era5m_mean_temp = era5m_temp_mean_.select(era5m_temp_mean_.bandNames().getInfo()[0]).rename('era5m_mean_temp')\n",
        "# era5m_min_temp = era5m_min_temp_mean_.select(era5m_min_temp_mean_.bandNames().getInfo()[0]).rename('era5m_min_temp')\n",
        "# era5m_max_temp = era5m_max_temp_mean_.select(era5m_max_temp_mean_.bandNames().getInfo()[0]).rename('era5m_max_temp')\n",
        "chirpsd_prec_r =chirpsd_prec.resample().reproject(rsn2)\n",
        "# chirpsm_prec =chirps_m_mean_.select(chirps_m_mean_.bandNames().getInfo()[0]).rename('chirpsm_prec')\n",
        "# mod_lst = modislst_m_mean_.select(modislst_m_mean_.bandNames().getInfo()[0]).rename('mod_lst')\n",
        "gpp_r = gpp.reproject(rsn2)\n",
        "npp_r = npp.reproject(rsn2)\n",
        "wdvi_r = wdvi.reproject(rsn2)\n",
        "gli_r = gli.reproject(rsn2)\n",
        "gvi_r = gvi.reproject(rsn2)\n",
        "arvi2_r =arvi2.reproject(rsn2)\n",
        "\n",
        "img_2015_r = era5d_prec_r.addBands(era5_min_temp_r)\\\n",
        ".addBands(chirpsd_prec_r)\\\n",
        ".addBands(npp_r)\\\n",
        ".addBands(gpp_r)\\\n",
        ".addBands(wdvi_r)\\\n",
        ".addBands(gli_r)\\\n",
        ".addBands(gvi_r)\\\n",
        ".addBands(arvi2_r)\n",
        "\n",
        "classified = img_2015_r.select(feature_names).classify(another_classifier)\n",
        "# Reduce Regions to Counties\n",
        "class_2015 = classified.reduceRegions(**{\n",
        "    'collection':county,\n",
        "    'reducer': ee.Reducer.mean(),\n",
        "    'scale': scale\n",
        "})\n",
        "\n",
        "task = ee.batch.Export.image.toDrive(**{\n",
        "  'image': classified,\n",
        "  'description': 'Class2015',\n",
        "  'folder':'ee_demos',\n",
        "  'scale': scale,\n",
        "  'region': county.geometry(),\n",
        "  'crs':'EPSG:4326'\n",
        " })\n",
        "\n",
        "# task.start()"
      ],
      "metadata": {
        "id": "GIIxuCRWkg0v",
        "colab": {
          "base_uri": "https://localhost:8080/"
        },
        "outputId": "f0646b32-a8e0-407b-ed97-3170d3413cb0"
      },
      "execution_count": null,
      "outputs": [
        {
          "output_type": "display_data",
          "data": {
            "text/plain": [
              "<IPython.core.display.HTML object>"
            ],
            "text/html": [
              "\n",
              "            <style>\n",
              "                .geemap-dark {\n",
              "                    --jp-widgets-color: white;\n",
              "                    --jp-widgets-label-color: white;\n",
              "                    --jp-ui-font-color1: white;\n",
              "                    --jp-layout-color2: #454545;\n",
              "                    background-color: #383838;\n",
              "                }\n",
              "\n",
              "                .geemap-dark .jupyter-button {\n",
              "                    --jp-layout-color3: #383838;\n",
              "                }\n",
              "\n",
              "                .geemap-colab {\n",
              "                    background-color: var(--colab-primary-surface-color, white);\n",
              "                }\n",
              "\n",
              "                .geemap-colab .jupyter-button {\n",
              "                    --jp-layout-color3: var(--colab-primary-surface-color, white);\n",
              "                }\n",
              "            </style>\n",
              "            "
            ]
          },
          "metadata": {}
        }
      ]
    },
    {
      "cell_type": "code",
      "source": [
        "# Reduce Regions to Counties\n",
        "class_2015_n = img_2015_r.reduceRegions(**{\n",
        "    'collection':newzones,\n",
        "    'reducer': ee.Reducer.median(),\n",
        "    'scale': scale,\n",
        "     'crs':'EPSG:4326'\n",
        "})\n",
        "\n",
        "task = ee.batch.Export.table.toDrive(collection=class_2015_n, folder='ee_demos', description='class_2015_n', fileFormat='SHP')\n",
        "task.start()"
      ],
      "metadata": {
        "colab": {
          "base_uri": "https://localhost:8080/"
        },
        "id": "88sapR8llT8p",
        "outputId": "ef391b27-e5ee-4473-f942-65dde83e31ed"
      },
      "execution_count": null,
      "outputs": [
        {
          "output_type": "display_data",
          "data": {
            "text/plain": [
              "<IPython.core.display.HTML object>"
            ],
            "text/html": [
              "\n",
              "            <style>\n",
              "                .geemap-dark {\n",
              "                    --jp-widgets-color: white;\n",
              "                    --jp-widgets-label-color: white;\n",
              "                    --jp-ui-font-color1: white;\n",
              "                    --jp-layout-color2: #454545;\n",
              "                    background-color: #383838;\n",
              "                }\n",
              "\n",
              "                .geemap-dark .jupyter-button {\n",
              "                    --jp-layout-color3: #383838;\n",
              "                }\n",
              "\n",
              "                .geemap-colab {\n",
              "                    background-color: var(--colab-primary-surface-color, white);\n",
              "                }\n",
              "\n",
              "                .geemap-colab .jupyter-button {\n",
              "                    --jp-layout-color3: var(--colab-primary-surface-color, white);\n",
              "                }\n",
              "            </style>\n",
              "            "
            ]
          },
          "metadata": {}
        }
      ]
    },
    {
      "cell_type": "code",
      "execution_count": null,
      "metadata": {
        "id": "TVTd7oXfHnMg",
        "colab": {
          "base_uri": "https://localhost:8080/"
        },
        "outputId": "410c3959-b24c-484f-dcf6-a966a613d1f5"
      },
      "outputs": [
        {
          "output_type": "display_data",
          "data": {
            "text/plain": [
              "<IPython.core.display.HTML object>"
            ],
            "text/html": [
              "\n",
              "            <style>\n",
              "                .geemap-dark {\n",
              "                    --jp-widgets-color: white;\n",
              "                    --jp-widgets-label-color: white;\n",
              "                    --jp-ui-font-color1: white;\n",
              "                    --jp-layout-color2: #454545;\n",
              "                    background-color: #383838;\n",
              "                }\n",
              "\n",
              "                .geemap-dark .jupyter-button {\n",
              "                    --jp-layout-color3: #383838;\n",
              "                }\n",
              "\n",
              "                .geemap-colab {\n",
              "                    background-color: var(--colab-primary-surface-color, white);\n",
              "                }\n",
              "\n",
              "                .geemap-colab .jupyter-button {\n",
              "                    --jp-layout-color3: var(--colab-primary-surface-color, white);\n",
              "                }\n",
              "            </style>\n",
              "            "
            ]
          },
          "metadata": {}
        },
        {
          "output_type": "execute_result",
          "data": {
            "text/plain": [
              "{'state': 'READY',\n",
              " 'description': 'class_2015_n',\n",
              " 'priority': 100,\n",
              " 'creation_timestamp_ms': 1743165580717,\n",
              " 'update_timestamp_ms': 1743165580717,\n",
              " 'start_timestamp_ms': 0,\n",
              " 'task_type': 'EXPORT_FEATURES',\n",
              " 'id': 'TP7ETCJ4U2MWCGCIDJ4A5YFJ',\n",
              " 'name': 'projects/ee-maizeyield/operations/TP7ETCJ4U2MWCGCIDJ4A5YFJ'}"
            ]
          },
          "metadata": {},
          "execution_count": 228
        }
      ],
      "source": [
        "task.status()"
      ]
    },
    {
      "cell_type": "markdown",
      "metadata": {
        "id": "0CvlyO6qHLTn"
      },
      "source": [
        "\n",
        "# 2016"
      ]
    },
    {
      "cell_type": "code",
      "source": [
        "year ='2016'\n",
        "start = ee.Date('2016-04-01')\n",
        "end = ee.Date('2016-08-31')\n",
        "scale = 463.31271652791656"
      ],
      "metadata": {
        "id": "Ifne1FvLnhaX",
        "colab": {
          "base_uri": "https://localhost:8080/"
        },
        "outputId": "158bba37-24e8-4b6f-dfb2-108afdd09977"
      },
      "execution_count": null,
      "outputs": [
        {
          "output_type": "display_data",
          "data": {
            "text/plain": [
              "<IPython.core.display.HTML object>"
            ],
            "text/html": [
              "\n",
              "            <style>\n",
              "                .geemap-dark {\n",
              "                    --jp-widgets-color: white;\n",
              "                    --jp-widgets-label-color: white;\n",
              "                    --jp-ui-font-color1: white;\n",
              "                    --jp-layout-color2: #454545;\n",
              "                    background-color: #383838;\n",
              "                }\n",
              "\n",
              "                .geemap-dark .jupyter-button {\n",
              "                    --jp-layout-color3: #383838;\n",
              "                }\n",
              "\n",
              "                .geemap-colab {\n",
              "                    background-color: var(--colab-primary-surface-color, white);\n",
              "                }\n",
              "\n",
              "                .geemap-colab .jupyter-button {\n",
              "                    --jp-layout-color3: var(--colab-primary-surface-color, white);\n",
              "                }\n",
              "            </style>\n",
              "            "
            ]
          },
          "metadata": {}
        }
      ]
    },
    {
      "cell_type": "code",
      "execution_count": null,
      "metadata": {
        "id": "S23GZuYqHpOk",
        "colab": {
          "base_uri": "https://localhost:8080/"
        },
        "outputId": "2d2f9557-6b9c-4891-d8f6-151e9ea522f7"
      },
      "outputs": [
        {
          "output_type": "display_data",
          "data": {
            "text/plain": [
              "<IPython.core.display.HTML object>"
            ],
            "text/html": [
              "\n",
              "            <style>\n",
              "                .geemap-dark {\n",
              "                    --jp-widgets-color: white;\n",
              "                    --jp-widgets-label-color: white;\n",
              "                    --jp-ui-font-color1: white;\n",
              "                    --jp-layout-color2: #454545;\n",
              "                    background-color: #383838;\n",
              "                }\n",
              "\n",
              "                .geemap-dark .jupyter-button {\n",
              "                    --jp-layout-color3: #383838;\n",
              "                }\n",
              "\n",
              "                .geemap-colab {\n",
              "                    background-color: var(--colab-primary-surface-color, white);\n",
              "                }\n",
              "\n",
              "                .geemap-colab .jupyter-button {\n",
              "                    --jp-layout-color3: var(--colab-primary-surface-color, white);\n",
              "                }\n",
              "            </style>\n",
              "            "
            ]
          },
          "metadata": {}
        }
      ],
      "source": [
        "\n",
        "era5d_prec = era5_tp_mean_.select(era5_tp_mean_.bandNames().getInfo()[6]).rename('era5d_prec')\n",
        "# era5_wind = era5_u_wind_10m_mean_.select(era5_u_wind_10m_mean_.bandNames().getInfo()[6]).rename('era5_wind')\n",
        "# era5m_wind = era5_u_wind_10monthly_mean_.select(era5_u_wind_10monthly_mean_.bandNames().getInfo()[6]).rename('era5m_wind')\n",
        "# era5m_prec = era5_monthly_mean_.select(era5_monthly_mean_.bandNames().getInfo()[6]).rename('era5m_prec')\n",
        "# era5_mean_temp = era5_mean_temp_mean_.select(era5_mean_temp_mean_.bandNames().getInfo()[6]).rename('era5_mean_temp')\n",
        "era5_min_temp =  era5_min_temp_mean_.select(era5_min_temp_mean_.bandNames().getInfo()[6]).rename('era5_min_temp')\n",
        "# era5_max_temp = era5_max_temp_mean_.select(era5_max_temp_mean_.bandNames().getInfo()[6]).rename('era5_max_temp')\n",
        "# era5m_mean_temp = era5m_temp_mean_.select(era5m_temp_mean_.bandNames().getInfo()[6]).rename('era5m_mean_temp')\n",
        "# era5m_min_temp = era5m_min_temp_mean_.select(era5m_min_temp_mean_.bandNames().getInfo()[6]).rename('era5m_min_temp')\n",
        "# era5m_max_temp = era5m_max_temp_mean_.select(era5m_max_temp_mean_.bandNames().getInfo()[6]).rename('era5m_max_temp')\n",
        "chirpsd_prec =chirps_d_mean_.select(chirps_d_mean_.bandNames().getInfo()[6]).rename('chirpsd_prec')\n",
        "# chirpsm_prec =chirps_m_mean_.select(chirps_m_mean_.bandNames().getInfo()[6]).rename('chirpsm_prec')\n",
        "# mod_lst = modislst_m_mean_.select(modislst_m_mean_.bandNames().getInfo()[6]).rename('mod_lst')\n",
        "gpp = gpp_prep(gpp_col,AOI,year).toBands().select(gpp_prep(gpp_col,AOI,year).toBands().bandNames()).rename('gpp')\n",
        "npp = npp_prep(npp_col,AOI,year).toBands().select(npp_prep(npp_col,AOI,year).toBands().bandNames()).rename('npp')\n",
        "wdvi = l8_2016.select('wdvi')\n",
        "gli = l8_2016.select('gli')\n",
        "gvi =l8_2016.select('gvi')\n",
        "arvi2 =l8_2016.select('arvi2')\n",
        "\n",
        "# task = ee.batch.Export.image.toAsset(**{\n",
        "#   'image': classified,\n",
        "#   'description': 'Class2016',\n",
        "#   'assetId': 'users/Prod/Outputs/Out5k/Class2016',\n",
        "#   'scale': scale,\n",
        "#   'region': county.geometry()\n",
        "# })\n",
        "# task.start()"
      ]
    },
    {
      "cell_type": "code",
      "source": [
        "# img_2010_repr = img_2010.reproject(crs='EPSG:4326', scale=500)\n",
        "era5d_prec_r = era5d_prec.resample().reproject(rsn2)\n",
        "# era5_wind = era5_u_wind_10m_mean_.select(era5_u_wind_10m_mean_.bandNames().getInfo()[0]).rename('era5_wind')\n",
        "# era5m_wind = era5_u_wind_10monthly_mean_.select(era5_u_wind_10monthly_mean_.bandNames().getInfo()[0]).rename('era5m_wind')\n",
        "# era5m_prec = era5_monthly_mean_.select(era5_monthly_mean_.bandNames().getInfo()[0]).rename('era5m_prec')\n",
        "# era5_mean_temp = era5_mean_temp_mean_.select(era5_mean_temp_mean_.bandNames().getInfo()[0]).rename('era5_mean_temp')\n",
        "era5_min_temp_r =  era5_min_temp.resample().reproject(rsn2)\n",
        "# era5_max_temp = era5_max_temp_mean_.select(era5_max_temp_mean_.bandNames().getInfo()[0]).rename('era5_max_temp')\n",
        "# era5m_mean_temp = era5m_temp_mean_.select(era5m_temp_mean_.bandNames().getInfo()[0]).rename('era5m_mean_temp')\n",
        "# era5m_min_temp = era5m_min_temp_mean_.select(era5m_min_temp_mean_.bandNames().getInfo()[0]).rename('era5m_min_temp')\n",
        "# era5m_max_temp = era5m_max_temp_mean_.select(era5m_max_temp_mean_.bandNames().getInfo()[0]).rename('era5m_max_temp')\n",
        "chirpsd_prec_r =chirpsd_prec.resample().reproject(rsn2)\n",
        "# chirpsm_prec =chirps_m_mean_.select(chirps_m_mean_.bandNames().getInfo()[0]).rename('chirpsm_prec')\n",
        "# mod_lst = modislst_m_mean_.select(modislst_m_mean_.bandNames().getInfo()[0]).rename('mod_lst')\n",
        "gpp_r = gpp.reproject(rsn2)\n",
        "npp_r = npp.reproject(rsn2)\n",
        "wdvi_r = wdvi.reproject(rsn2)\n",
        "gli_r = gli.reproject(rsn2)\n",
        "gvi_r = gvi.reproject(rsn2)\n",
        "arvi2_r =arvi2.reproject(rsn2)\n",
        "\n",
        "img_2016_r = era5d_prec_r.addBands(era5_min_temp_r)\\\n",
        ".addBands(chirpsd_prec_r)\\\n",
        ".addBands(npp_r)\\\n",
        ".addBands(gpp_r)\\\n",
        ".addBands(wdvi_r)\\\n",
        ".addBands(gli_r)\\\n",
        ".addBands(gvi_r)\\\n",
        ".addBands(arvi2_r)\n",
        "\n",
        "classified = img_2016_r.select(feature_names).classify(another_classifier)\n",
        "# Reduce Regions to Counties\n",
        "class_2016 = classified.reduceRegions(**{\n",
        "    'collection':county,\n",
        "    'reducer': ee.Reducer.mean(),\n",
        "    'scale': scale\n",
        "})\n",
        "\n",
        "task = ee.batch.Export.image.toDrive(**{\n",
        "  'image': classified,\n",
        "  'description': 'Class2016',\n",
        "  'folder':'ee_demos',\n",
        "  'scale': scale,\n",
        "  'region': county.geometry(),\n",
        "  'crs':'EPSG:4326'\n",
        " })\n",
        "\n",
        "# task.start()"
      ],
      "metadata": {
        "id": "RKDs1trHoFhk",
        "colab": {
          "base_uri": "https://localhost:8080/"
        },
        "outputId": "1268c50f-1e50-4af1-b4db-88ba591677a7"
      },
      "execution_count": null,
      "outputs": [
        {
          "output_type": "display_data",
          "data": {
            "text/plain": [
              "<IPython.core.display.HTML object>"
            ],
            "text/html": [
              "\n",
              "            <style>\n",
              "                .geemap-dark {\n",
              "                    --jp-widgets-color: white;\n",
              "                    --jp-widgets-label-color: white;\n",
              "                    --jp-ui-font-color1: white;\n",
              "                    --jp-layout-color2: #454545;\n",
              "                    background-color: #383838;\n",
              "                }\n",
              "\n",
              "                .geemap-dark .jupyter-button {\n",
              "                    --jp-layout-color3: #383838;\n",
              "                }\n",
              "\n",
              "                .geemap-colab {\n",
              "                    background-color: var(--colab-primary-surface-color, white);\n",
              "                }\n",
              "\n",
              "                .geemap-colab .jupyter-button {\n",
              "                    --jp-layout-color3: var(--colab-primary-surface-color, white);\n",
              "                }\n",
              "            </style>\n",
              "            "
            ]
          },
          "metadata": {}
        }
      ]
    },
    {
      "cell_type": "code",
      "source": [
        "# Reduce Regions to Counties\n",
        "class_2016_n = img_2016_r.reduceRegions(**{\n",
        "    'collection':newzones,\n",
        "    'reducer': ee.Reducer.median(),\n",
        "    'scale': scale,\n",
        "     'crs':'EPSG:4326'\n",
        "})\n",
        "\n",
        "task = ee.batch.Export.table.toDrive(collection=class_2016_n, folder='ee_demos', description='class_2016_n', fileFormat='SHP')\n",
        "task.start()"
      ],
      "metadata": {
        "colab": {
          "base_uri": "https://localhost:8080/"
        },
        "id": "FcIkGlv-lc0k",
        "outputId": "4f4f036f-2a15-4293-a509-3a6ea6215cbb"
      },
      "execution_count": null,
      "outputs": [
        {
          "output_type": "display_data",
          "data": {
            "text/plain": [
              "<IPython.core.display.HTML object>"
            ],
            "text/html": [
              "\n",
              "            <style>\n",
              "                .geemap-dark {\n",
              "                    --jp-widgets-color: white;\n",
              "                    --jp-widgets-label-color: white;\n",
              "                    --jp-ui-font-color1: white;\n",
              "                    --jp-layout-color2: #454545;\n",
              "                    background-color: #383838;\n",
              "                }\n",
              "\n",
              "                .geemap-dark .jupyter-button {\n",
              "                    --jp-layout-color3: #383838;\n",
              "                }\n",
              "\n",
              "                .geemap-colab {\n",
              "                    background-color: var(--colab-primary-surface-color, white);\n",
              "                }\n",
              "\n",
              "                .geemap-colab .jupyter-button {\n",
              "                    --jp-layout-color3: var(--colab-primary-surface-color, white);\n",
              "                }\n",
              "            </style>\n",
              "            "
            ]
          },
          "metadata": {}
        }
      ]
    },
    {
      "cell_type": "code",
      "execution_count": null,
      "metadata": {
        "id": "W6x3z2mVHo_z",
        "colab": {
          "base_uri": "https://localhost:8080/"
        },
        "outputId": "cf81fa90-7594-416c-cf1d-e24e257671fb"
      },
      "outputs": [
        {
          "output_type": "display_data",
          "data": {
            "text/plain": [
              "<IPython.core.display.HTML object>"
            ],
            "text/html": [
              "\n",
              "            <style>\n",
              "                .geemap-dark {\n",
              "                    --jp-widgets-color: white;\n",
              "                    --jp-widgets-label-color: white;\n",
              "                    --jp-ui-font-color1: white;\n",
              "                    --jp-layout-color2: #454545;\n",
              "                    background-color: #383838;\n",
              "                }\n",
              "\n",
              "                .geemap-dark .jupyter-button {\n",
              "                    --jp-layout-color3: #383838;\n",
              "                }\n",
              "\n",
              "                .geemap-colab {\n",
              "                    background-color: var(--colab-primary-surface-color, white);\n",
              "                }\n",
              "\n",
              "                .geemap-colab .jupyter-button {\n",
              "                    --jp-layout-color3: var(--colab-primary-surface-color, white);\n",
              "                }\n",
              "            </style>\n",
              "            "
            ]
          },
          "metadata": {}
        },
        {
          "output_type": "execute_result",
          "data": {
            "text/plain": [
              "{'state': 'READY',\n",
              " 'description': 'class_2016_n',\n",
              " 'priority': 100,\n",
              " 'creation_timestamp_ms': 1743165584828,\n",
              " 'update_timestamp_ms': 1743165584828,\n",
              " 'start_timestamp_ms': 0,\n",
              " 'task_type': 'EXPORT_FEATURES',\n",
              " 'id': 'OCEQUH4YHTX52X37Z4CLRS3B',\n",
              " 'name': 'projects/ee-maizeyield/operations/OCEQUH4YHTX52X37Z4CLRS3B'}"
            ]
          },
          "metadata": {},
          "execution_count": 233
        }
      ],
      "source": [
        "task.status()"
      ]
    },
    {
      "cell_type": "markdown",
      "metadata": {
        "id": "e6M2Jl64HL6s"
      },
      "source": [
        "# 2017"
      ]
    },
    {
      "cell_type": "code",
      "source": [
        "year ='2017'\n",
        "start = ee.Date('2017-04-01')\n",
        "end = ee.Date('2017-08-31')\n",
        "scale = 463.31271652791656"
      ],
      "metadata": {
        "id": "TFVER0W4uLTU",
        "colab": {
          "base_uri": "https://localhost:8080/"
        },
        "outputId": "fbbfbb26-1271-4496-f457-f48f9e0369cb"
      },
      "execution_count": null,
      "outputs": [
        {
          "output_type": "display_data",
          "data": {
            "text/plain": [
              "<IPython.core.display.HTML object>"
            ],
            "text/html": [
              "\n",
              "            <style>\n",
              "                .geemap-dark {\n",
              "                    --jp-widgets-color: white;\n",
              "                    --jp-widgets-label-color: white;\n",
              "                    --jp-ui-font-color1: white;\n",
              "                    --jp-layout-color2: #454545;\n",
              "                    background-color: #383838;\n",
              "                }\n",
              "\n",
              "                .geemap-dark .jupyter-button {\n",
              "                    --jp-layout-color3: #383838;\n",
              "                }\n",
              "\n",
              "                .geemap-colab {\n",
              "                    background-color: var(--colab-primary-surface-color, white);\n",
              "                }\n",
              "\n",
              "                .geemap-colab .jupyter-button {\n",
              "                    --jp-layout-color3: var(--colab-primary-surface-color, white);\n",
              "                }\n",
              "            </style>\n",
              "            "
            ]
          },
          "metadata": {}
        }
      ]
    },
    {
      "cell_type": "code",
      "execution_count": null,
      "metadata": {
        "id": "UszCefNdHrUi",
        "colab": {
          "base_uri": "https://localhost:8080/"
        },
        "outputId": "5ade7e2f-c1a0-4152-edb4-9893787a7cb3"
      },
      "outputs": [
        {
          "output_type": "display_data",
          "data": {
            "text/plain": [
              "<IPython.core.display.HTML object>"
            ],
            "text/html": [
              "\n",
              "            <style>\n",
              "                .geemap-dark {\n",
              "                    --jp-widgets-color: white;\n",
              "                    --jp-widgets-label-color: white;\n",
              "                    --jp-ui-font-color1: white;\n",
              "                    --jp-layout-color2: #454545;\n",
              "                    background-color: #383838;\n",
              "                }\n",
              "\n",
              "                .geemap-dark .jupyter-button {\n",
              "                    --jp-layout-color3: #383838;\n",
              "                }\n",
              "\n",
              "                .geemap-colab {\n",
              "                    background-color: var(--colab-primary-surface-color, white);\n",
              "                }\n",
              "\n",
              "                .geemap-colab .jupyter-button {\n",
              "                    --jp-layout-color3: var(--colab-primary-surface-color, white);\n",
              "                }\n",
              "            </style>\n",
              "            "
            ]
          },
          "metadata": {}
        }
      ],
      "source": [
        "\n",
        "era5d_prec = era5_tp_mean_.select(era5_tp_mean_.bandNames().getInfo()[7]).rename('era5d_prec')\n",
        "# era5_wind = era5_u_wind_10m_mean_.select(era5_u_wind_10m_mean_.bandNames().getInfo()[7]).rename('era5_wind')\n",
        "# era5m_wind = era5_u_wind_10monthly_mean_.select(era5_u_wind_10monthly_mean_.bandNames().getInfo()[7]).rename('era5m_wind')\n",
        "# era5m_prec = era5_monthly_mean_.select(era5_monthly_mean_.bandNames().getInfo()[7]).rename('era5m_prec')\n",
        "# era5_mean_temp = era5_mean_temp_mean_.select(era5_mean_temp_mean_.bandNames().getInfo()[7]).rename('era5_mean_temp')\n",
        "era5_min_temp =  era5_min_temp_mean_.select(era5_min_temp_mean_.bandNames().getInfo()[7]).rename('era5_min_temp')\n",
        "# era5_max_temp = era5_max_temp_mean_.select(era5_max_temp_mean_.bandNames().getInfo()[7]).rename('era5_max_temp')\n",
        "# era5m_mean_temp = era5m_temp_mean_.select(era5m_temp_mean_.bandNames().getInfo()[7]).rename('era5m_mean_temp')\n",
        "# era5m_min_temp = era5m_min_temp_mean_.select(era5m_min_temp_mean_.bandNames().getInfo()[7]).rename('era5m_min_temp')\n",
        "# era5m_max_temp = era5m_max_temp_mean_.select(era5m_max_temp_mean_.bandNames().getInfo()[7]).rename('era5m_max_temp')\n",
        "chirpsd_prec =chirps_d_mean_.select(chirps_d_mean_.bandNames().getInfo()[7]).rename('chirpsd_prec')\n",
        "# chirpsm_prec =chirps_m_mean_.select(chirps_m_mean_.bandNames().getInfo()[7]).rename('chirpsm_prec')\n",
        "# mod_lst = modislst_m_mean_.select(modislst_m_mean_.bandNames().getInfo()[7]).rename('mod_lst')\n",
        "gpp = gpp_prep(gpp_col,AOI,year).toBands().select(gpp_prep(gpp_col,AOI,year).toBands().bandNames()).rename('gpp')\n",
        "npp = npp_prep(npp_col,AOI,year).toBands().select(npp_prep(npp_col,AOI,year).toBands().bandNames()).rename('npp')\n",
        "wdvi = l8_2017.select('wdvi')\n",
        "gli = l8_2017.select('gli')\n",
        "gvi =l8_2017.select('gvi')\n",
        "arvi2 =l8_2017.select('arvi2')\n",
        "\n",
        "# task = ee.batch.Export.image.toAsset(**{\n",
        "#   'image': classified,\n",
        "#   'description': 'Class2017',\n",
        "#   'assetId': 'users/Prod/Outputs/Out5k/Class2017',\n",
        "#   'scale': scale,\n",
        "#   'region': county.geometry()\n",
        "# })\n",
        "# task.start()"
      ]
    },
    {
      "cell_type": "code",
      "source": [
        "# img_2010_repr = img_2010.reproject(crs='EPSG:4326', scale=500)\n",
        "era5d_prec_r = era5d_prec.resample().reproject(rsn2)\n",
        "# era5_wind = era5_u_wind_10m_mean_.select(era5_u_wind_10m_mean_.bandNames().getInfo()[0]).rename('era5_wind')\n",
        "# era5m_wind = era5_u_wind_10monthly_mean_.select(era5_u_wind_10monthly_mean_.bandNames().getInfo()[0]).rename('era5m_wind')\n",
        "# era5m_prec = era5_monthly_mean_.select(era5_monthly_mean_.bandNames().getInfo()[0]).rename('era5m_prec')\n",
        "# era5_mean_temp = era5_mean_temp_mean_.select(era5_mean_temp_mean_.bandNames().getInfo()[0]).rename('era5_mean_temp')\n",
        "era5_min_temp_r =  era5_min_temp.resample().reproject(rsn2)\n",
        "# era5_max_temp = era5_max_temp_mean_.select(era5_max_temp_mean_.bandNames().getInfo()[0]).rename('era5_max_temp')\n",
        "# era5m_mean_temp = era5m_temp_mean_.select(era5m_temp_mean_.bandNames().getInfo()[0]).rename('era5m_mean_temp')\n",
        "# era5m_min_temp = era5m_min_temp_mean_.select(era5m_min_temp_mean_.bandNames().getInfo()[0]).rename('era5m_min_temp')\n",
        "# era5m_max_temp = era5m_max_temp_mean_.select(era5m_max_temp_mean_.bandNames().getInfo()[0]).rename('era5m_max_temp')\n",
        "chirpsd_prec_r =chirpsd_prec.resample().reproject(rsn2)\n",
        "# chirpsm_prec =chirps_m_mean_.select(chirps_m_mean_.bandNames().getInfo()[0]).rename('chirpsm_prec')\n",
        "# mod_lst = modislst_m_mean_.select(modislst_m_mean_.bandNames().getInfo()[0]).rename('mod_lst')\n",
        "gpp_r = gpp.reproject(rsn2)\n",
        "npp_r = npp.reproject(rsn2)\n",
        "wdvi_r = wdvi.reproject(rsn2)\n",
        "gli_r = gli.reproject(rsn2)\n",
        "gvi_r = gvi.reproject(rsn2)\n",
        "arvi2_r =arvi2.reproject(rsn2)\n",
        "\n",
        "img_2017_r = era5d_prec_r.addBands(era5_min_temp_r)\\\n",
        ".addBands(chirpsd_prec_r)\\\n",
        ".addBands(npp_r)\\\n",
        ".addBands(gpp_r)\\\n",
        ".addBands(wdvi_r)\\\n",
        ".addBands(gli_r)\\\n",
        ".addBands(gvi_r)\\\n",
        ".addBands(arvi2_r)\n",
        "\n",
        "classified = img_2017_r.select(feature_names).classify(another_classifier)\n",
        "# Reduce Regions to Counties\n",
        "class_2017 = classified.reduceRegions(**{\n",
        "    'collection':county,\n",
        "    'reducer': ee.Reducer.mean(),\n",
        "    'scale': scale\n",
        "})\n",
        "\n",
        "task = ee.batch.Export.image.toDrive(**{\n",
        "  'image': classified,\n",
        "  'description': 'Class2017',\n",
        "  'folder':'ee_demos',\n",
        "  'scale': scale,\n",
        "  'region': county.geometry(),\n",
        "  'crs':'EPSG:4326'\n",
        " })\n",
        "\n",
        "# task.start()"
      ],
      "metadata": {
        "id": "wF8HyFKRvTUb",
        "colab": {
          "base_uri": "https://localhost:8080/"
        },
        "outputId": "e31f49f4-bfed-4fc6-afc3-8eb8bfa0f9d3"
      },
      "execution_count": null,
      "outputs": [
        {
          "output_type": "display_data",
          "data": {
            "text/plain": [
              "<IPython.core.display.HTML object>"
            ],
            "text/html": [
              "\n",
              "            <style>\n",
              "                .geemap-dark {\n",
              "                    --jp-widgets-color: white;\n",
              "                    --jp-widgets-label-color: white;\n",
              "                    --jp-ui-font-color1: white;\n",
              "                    --jp-layout-color2: #454545;\n",
              "                    background-color: #383838;\n",
              "                }\n",
              "\n",
              "                .geemap-dark .jupyter-button {\n",
              "                    --jp-layout-color3: #383838;\n",
              "                }\n",
              "\n",
              "                .geemap-colab {\n",
              "                    background-color: var(--colab-primary-surface-color, white);\n",
              "                }\n",
              "\n",
              "                .geemap-colab .jupyter-button {\n",
              "                    --jp-layout-color3: var(--colab-primary-surface-color, white);\n",
              "                }\n",
              "            </style>\n",
              "            "
            ]
          },
          "metadata": {}
        }
      ]
    },
    {
      "cell_type": "code",
      "source": [
        "# Reduce Regions to Counties\n",
        "class_2017_n = img_2017_r.reduceRegions(**{\n",
        "    'collection':newzones,\n",
        "    'reducer': ee.Reducer.median(),\n",
        "    'scale': scale,\n",
        "     'crs':'EPSG:4326'\n",
        "})\n",
        "\n",
        "task = ee.batch.Export.table.toDrive(collection=class_2017_n, folder='ee_demos', description='class_2017_n', fileFormat='SHP')\n",
        "task.start()"
      ],
      "metadata": {
        "colab": {
          "base_uri": "https://localhost:8080/"
        },
        "id": "1F7ALFDBlvRt",
        "outputId": "a4643295-e141-4c90-cd3d-9f0fad05978c"
      },
      "execution_count": null,
      "outputs": [
        {
          "output_type": "display_data",
          "data": {
            "text/plain": [
              "<IPython.core.display.HTML object>"
            ],
            "text/html": [
              "\n",
              "            <style>\n",
              "                .geemap-dark {\n",
              "                    --jp-widgets-color: white;\n",
              "                    --jp-widgets-label-color: white;\n",
              "                    --jp-ui-font-color1: white;\n",
              "                    --jp-layout-color2: #454545;\n",
              "                    background-color: #383838;\n",
              "                }\n",
              "\n",
              "                .geemap-dark .jupyter-button {\n",
              "                    --jp-layout-color3: #383838;\n",
              "                }\n",
              "\n",
              "                .geemap-colab {\n",
              "                    background-color: var(--colab-primary-surface-color, white);\n",
              "                }\n",
              "\n",
              "                .geemap-colab .jupyter-button {\n",
              "                    --jp-layout-color3: var(--colab-primary-surface-color, white);\n",
              "                }\n",
              "            </style>\n",
              "            "
            ]
          },
          "metadata": {}
        }
      ]
    },
    {
      "cell_type": "code",
      "execution_count": null,
      "metadata": {
        "id": "eL8ewlgUHq-7",
        "colab": {
          "base_uri": "https://localhost:8080/"
        },
        "outputId": "b0202e8f-72bc-40de-ed95-efc4525eb9f8"
      },
      "outputs": [
        {
          "output_type": "display_data",
          "data": {
            "text/plain": [
              "<IPython.core.display.HTML object>"
            ],
            "text/html": [
              "\n",
              "            <style>\n",
              "                .geemap-dark {\n",
              "                    --jp-widgets-color: white;\n",
              "                    --jp-widgets-label-color: white;\n",
              "                    --jp-ui-font-color1: white;\n",
              "                    --jp-layout-color2: #454545;\n",
              "                    background-color: #383838;\n",
              "                }\n",
              "\n",
              "                .geemap-dark .jupyter-button {\n",
              "                    --jp-layout-color3: #383838;\n",
              "                }\n",
              "\n",
              "                .geemap-colab {\n",
              "                    background-color: var(--colab-primary-surface-color, white);\n",
              "                }\n",
              "\n",
              "                .geemap-colab .jupyter-button {\n",
              "                    --jp-layout-color3: var(--colab-primary-surface-color, white);\n",
              "                }\n",
              "            </style>\n",
              "            "
            ]
          },
          "metadata": {}
        },
        {
          "output_type": "execute_result",
          "data": {
            "text/plain": [
              "{'state': 'READY',\n",
              " 'description': 'class_2017_n',\n",
              " 'priority': 100,\n",
              " 'creation_timestamp_ms': 1743165588623,\n",
              " 'update_timestamp_ms': 1743165588623,\n",
              " 'start_timestamp_ms': 0,\n",
              " 'task_type': 'EXPORT_FEATURES',\n",
              " 'id': '24IV2VE7H42J3FSIATFAGGEK',\n",
              " 'name': 'projects/ee-maizeyield/operations/24IV2VE7H42J3FSIATFAGGEK'}"
            ]
          },
          "metadata": {},
          "execution_count": 238
        }
      ],
      "source": [
        "task.status()"
      ]
    },
    {
      "cell_type": "markdown",
      "metadata": {
        "id": "tsLa4n0XHMh9"
      },
      "source": [
        "# 2018"
      ]
    },
    {
      "cell_type": "code",
      "source": [],
      "metadata": {
        "id": "4cl3z7eZRsR8"
      },
      "execution_count": null,
      "outputs": []
    },
    {
      "cell_type": "code",
      "source": [
        "year ='2018'\n",
        "start = ee.Date('2018-04-01')\n",
        "end = ee.Date('2018-08-31')\n",
        "scale = 463.31271652791656"
      ],
      "metadata": {
        "id": "Z6Hnp5Arw3JQ",
        "colab": {
          "base_uri": "https://localhost:8080/"
        },
        "outputId": "8ecfb1db-d105-4227-bd2f-2d0660b35f27"
      },
      "execution_count": null,
      "outputs": [
        {
          "output_type": "display_data",
          "data": {
            "text/plain": [
              "<IPython.core.display.HTML object>"
            ],
            "text/html": [
              "\n",
              "            <style>\n",
              "                .geemap-dark {\n",
              "                    --jp-widgets-color: white;\n",
              "                    --jp-widgets-label-color: white;\n",
              "                    --jp-ui-font-color1: white;\n",
              "                    --jp-layout-color2: #454545;\n",
              "                    background-color: #383838;\n",
              "                }\n",
              "\n",
              "                .geemap-dark .jupyter-button {\n",
              "                    --jp-layout-color3: #383838;\n",
              "                }\n",
              "\n",
              "                .geemap-colab {\n",
              "                    background-color: var(--colab-primary-surface-color, white);\n",
              "                }\n",
              "\n",
              "                .geemap-colab .jupyter-button {\n",
              "                    --jp-layout-color3: var(--colab-primary-surface-color, white);\n",
              "                }\n",
              "            </style>\n",
              "            "
            ]
          },
          "metadata": {}
        }
      ]
    },
    {
      "cell_type": "code",
      "execution_count": null,
      "metadata": {
        "id": "be0fxiqBHs-4",
        "colab": {
          "base_uri": "https://localhost:8080/"
        },
        "outputId": "5e87d81f-f72f-49fc-a6ea-dff7ad8875c3"
      },
      "outputs": [
        {
          "output_type": "display_data",
          "data": {
            "text/plain": [
              "<IPython.core.display.HTML object>"
            ],
            "text/html": [
              "\n",
              "            <style>\n",
              "                .geemap-dark {\n",
              "                    --jp-widgets-color: white;\n",
              "                    --jp-widgets-label-color: white;\n",
              "                    --jp-ui-font-color1: white;\n",
              "                    --jp-layout-color2: #454545;\n",
              "                    background-color: #383838;\n",
              "                }\n",
              "\n",
              "                .geemap-dark .jupyter-button {\n",
              "                    --jp-layout-color3: #383838;\n",
              "                }\n",
              "\n",
              "                .geemap-colab {\n",
              "                    background-color: var(--colab-primary-surface-color, white);\n",
              "                }\n",
              "\n",
              "                .geemap-colab .jupyter-button {\n",
              "                    --jp-layout-color3: var(--colab-primary-surface-color, white);\n",
              "                }\n",
              "            </style>\n",
              "            "
            ]
          },
          "metadata": {}
        }
      ],
      "source": [
        "\n",
        "era5d_prec = era5_tp_mean_.select(era5_tp_mean_.bandNames().getInfo()[8]).rename('era5d_prec')\n",
        "era5_wind = era5_u_wind_10m_mean_.select(era5_u_wind_10m_mean_.bandNames().getInfo()[8]).rename('era5_wind')\n",
        "# era5m_wind = era5_u_wind_10monthly_mean_.select(era5_u_wind_10monthly_mean_.bandNames().getInfo()[8]).rename('era5m_wind')\n",
        "era5m_prec = era5_monthly_mean_.select(era5_monthly_mean_.bandNames().getInfo()[8]).rename('era5m_prec')\n",
        "era5_mean_temp = era5_mean_temp_mean_.select(era5_mean_temp_mean_.bandNames().getInfo()[8]).rename('era5_mean_temp')\n",
        "era5_min_temp =  era5_min_temp_mean_.select(era5_min_temp_mean_.bandNames().getInfo()[8]).rename('era5_min_temp')\n",
        "era5_max_temp = era5_max_temp_mean_.select(era5_max_temp_mean_.bandNames().getInfo()[8]).rename('era5_max_temp')\n",
        "era5m_mean_temp = era5m_temp_mean_.select(era5m_temp_mean_.bandNames().getInfo()[8]).rename('era5m_mean_temp')\n",
        "# era5m_min_temp = era5m_min_temp_mean_.select(era5m_min_temp_mean_.bandNames().getInfo()[8]).rename('era5m_min_temp')\n",
        "# era5m_max_temp = era5m_max_temp_mean_.select(era5m_max_temp_mean_.bandNames().getInfo()[8]).rename('era5m_max_temp')\n",
        "# chirpsd_prec =chirps_d_mean_.select(chirps_d_mean_.bandNames().getInfo()[8]).rename('chirpsd_prec')\n",
        "chirpsm_prec =chirps_m_mean_.select(chirps_m_mean_.bandNames().getInfo()[8]).rename('chirpsm_prec')\n",
        "# mod_lst = modislst_m_mean_.select(modislst_m_mean_.bandNames().getInfo()[8]).rename('mod_lst')\n",
        "gpp = gpp_prep(gpp_col,AOI,year).toBands().select(gpp_prep(gpp_col,AOI,year).toBands().bandNames()).rename('gpp')\n",
        "npp = npp_prep(npp_col,AOI,year).toBands().select(npp_prep(npp_col,AOI,year).toBands().bandNames()).rename('npp')\n",
        "wdvi = l8_2018.select('wdvi')\n",
        "gli = l8_2018.select('gli')\n",
        "gvi =l8_2018.select('gvi')\n",
        "arvi2 =l8_2018.select('arvi2')\n",
        "\n",
        "# img_2018 = era5d_prec.addBands(era5_wind)\\\n",
        "# .addBands(era5m_prec)\\\n",
        "# .addBands(era5_mean_temp)\\\n",
        "# .addBands(era5_min_temp)\\\n",
        "# .addBands(era5_max_temp)\\\n",
        "# .addBands(era5m_mean_temp)\\\n",
        "# .addBands(chirpsm_prec)\\\n",
        "# .addBands(nsi)\\\n",
        "# .addBands(gli)\\\n",
        "# .addBands(sipi)\n",
        "\n",
        "# # .addBands(era5m_min_temp)\\# .addBands(era5m_wind)\\\n",
        "# # .addBands(era5m_max_temp)\\\n",
        "# # .addBands(chirpsd_prec)\\# .addBands(gpp)\\\n",
        "# # .addBands(npp)\\\n",
        "# # .addBands(mod_lst)\n",
        "# # classify the image again but with the classifier from the persisted trees\n",
        "# classified = img_2018.select(feature_names).classify(another_classifier)\n",
        "# # Reduce Regions to Counties\n",
        "# class_2018 = classified.reduceRegions(**{\n",
        "#     'collection':county,\n",
        "#     'reducer': ee.Reducer.mean(),\n",
        "#     'scale': scale\n",
        "# })\n",
        "# task = ee.batch.Export.image.toAsset(**{\n",
        "#   'image': classified,\n",
        "#   'description': 'Class2018',\n",
        "#   'assetId': 'users/Prod/Outputs/Out5k/Class2018',\n",
        "#   'scale': scale,\n",
        "#   'region': county.geometry()\n",
        "# })\n",
        "# task.start()"
      ]
    },
    {
      "cell_type": "code",
      "source": [
        "# img_2010_repr = img_2010.reproject(crs='EPSG:4326', scale=scale)\n",
        "era5d_prec_r = era5d_prec.resample().reproject(rsn2)\n",
        "# era5_wind = era5_u_wind_10m_mean_.select(era5_u_wind_10m_mean_.bandNames().getInfo()[0]).rename('era5_wind')\n",
        "# era5m_wind = era5_u_wind_10monthly_mean_.select(era5_u_wind_10monthly_mean_.bandNames().getInfo()[0]).rename('era5m_wind')\n",
        "# era5m_prec = era5_monthly_mean_.select(era5_monthly_mean_.bandNames().getInfo()[0]).rename('era5m_prec')\n",
        "# era5_mean_temp = era5_mean_temp_mean_.select(era5_mean_temp_mean_.bandNames().getInfo()[0]).rename('era5_mean_temp')\n",
        "era5_min_temp_r =  era5_min_temp.resample().reproject(rsn2)\n",
        "# era5_max_temp = era5_max_temp_mean_.select(era5_max_temp_mean_.bandNames().getInfo()[0]).rename('era5_max_temp')\n",
        "# era5m_mean_temp = era5m_temp_mean_.select(era5m_temp_mean_.bandNames().getInfo()[0]).rename('era5m_mean_temp')\n",
        "# era5m_min_temp = era5m_min_temp_mean_.select(era5m_min_temp_mean_.bandNames().getInfo()[0]).rename('era5m_min_temp')\n",
        "# era5m_max_temp = era5m_max_temp_mean_.select(era5m_max_temp_mean_.bandNames().getInfo()[0]).rename('era5m_max_temp')\n",
        "chirpsd_prec_r =chirpsd_prec.resample().reproject(rsn2)\n",
        "# chirpsm_prec =chirps_m_mean_.select(chirps_m_mean_.bandNames().getInfo()[0]).rename('chirpsm_prec')\n",
        "# mod_lst = modislst_m_mean_.select(modislst_m_mean_.bandNames().getInfo()[0]).rename('mod_lst')\n",
        "gpp_r = gpp.reproject(rsn2)\n",
        "npp_r = npp.reproject(rsn2)\n",
        "wdvi_r = wdvi.reproject(rsn2)\n",
        "gli_r = gli.reproject(rsn2)\n",
        "gvi_r = gvi.reproject(rsn2)\n",
        "arvi2_r =arvi2.reproject(rsn2)\n",
        "\n",
        "img_2018_r = era5d_prec_r.addBands(era5_min_temp_r)\\\n",
        ".addBands(chirpsd_prec_r)\\\n",
        ".addBands(npp_r)\\\n",
        ".addBands(gpp_r)\\\n",
        ".addBands(wdvi_r)\\\n",
        ".addBands(gli_r)\\\n",
        ".addBands(gvi_r)\\\n",
        ".addBands(arvi2_r)\n",
        "\n",
        "classified = img_2018_r.select(feature_names).classify(another_classifier)\n",
        "# Reduce Regions to Counties\n",
        "class_2018 = classified.reduceRegions(**{\n",
        "    'collection':AOI,\n",
        "    'reducer': ee.Reducer.mean(),\n",
        "    'scale': scale\n",
        "})\n",
        "\n",
        "task = ee.batch.Export.image.toDrive(**{\n",
        "  'image': classified,\n",
        "  'description': 'Class2018',\n",
        "  'folder':'ee_demos',\n",
        "  'scale': scale,\n",
        "  'region': AOI,\n",
        "  'crs':'EPSG:4326'\n",
        " })\n",
        "\n"
      ],
      "metadata": {
        "id": "pmi9HUOXxKjO",
        "colab": {
          "base_uri": "https://localhost:8080/"
        },
        "outputId": "83d3ace2-4651-46f6-b713-da2fe7add31e"
      },
      "execution_count": null,
      "outputs": [
        {
          "output_type": "display_data",
          "data": {
            "text/plain": [
              "<IPython.core.display.HTML object>"
            ],
            "text/html": [
              "\n",
              "            <style>\n",
              "                .geemap-dark {\n",
              "                    --jp-widgets-color: white;\n",
              "                    --jp-widgets-label-color: white;\n",
              "                    --jp-ui-font-color1: white;\n",
              "                    --jp-layout-color2: #454545;\n",
              "                    background-color: #383838;\n",
              "                }\n",
              "\n",
              "                .geemap-dark .jupyter-button {\n",
              "                    --jp-layout-color3: #383838;\n",
              "                }\n",
              "\n",
              "                .geemap-colab {\n",
              "                    background-color: var(--colab-primary-surface-color, white);\n",
              "                }\n",
              "\n",
              "                .geemap-colab .jupyter-button {\n",
              "                    --jp-layout-color3: var(--colab-primary-surface-color, white);\n",
              "                }\n",
              "            </style>\n",
              "            "
            ]
          },
          "metadata": {}
        }
      ]
    },
    {
      "cell_type": "code",
      "source": [
        "# Reduce Regions to Counties\n",
        "class_2018_n = img_2018_r.reduceRegions(**{\n",
        "    'collection':newzones,\n",
        "    'reducer': ee.Reducer.median(),\n",
        "    'scale': scale,\n",
        "     'crs':'EPSG:4326'\n",
        "})\n",
        "\n",
        "task = ee.batch.Export.table.toDrive(collection=class_2018_n, folder='ee_demos', description='class_2018_n', fileFormat='SHP')\n",
        "task.start()"
      ],
      "metadata": {
        "colab": {
          "base_uri": "https://localhost:8080/"
        },
        "id": "9eOVi-msmDKU",
        "outputId": "9ef8fbbb-f79f-4587-c800-79b965a4464a"
      },
      "execution_count": null,
      "outputs": [
        {
          "output_type": "display_data",
          "data": {
            "text/plain": [
              "<IPython.core.display.HTML object>"
            ],
            "text/html": [
              "\n",
              "            <style>\n",
              "                .geemap-dark {\n",
              "                    --jp-widgets-color: white;\n",
              "                    --jp-widgets-label-color: white;\n",
              "                    --jp-ui-font-color1: white;\n",
              "                    --jp-layout-color2: #454545;\n",
              "                    background-color: #383838;\n",
              "                }\n",
              "\n",
              "                .geemap-dark .jupyter-button {\n",
              "                    --jp-layout-color3: #383838;\n",
              "                }\n",
              "\n",
              "                .geemap-colab {\n",
              "                    background-color: var(--colab-primary-surface-color, white);\n",
              "                }\n",
              "\n",
              "                .geemap-colab .jupyter-button {\n",
              "                    --jp-layout-color3: var(--colab-primary-surface-color, white);\n",
              "                }\n",
              "            </style>\n",
              "            "
            ]
          },
          "metadata": {}
        }
      ]
    },
    {
      "cell_type": "code",
      "execution_count": null,
      "metadata": {
        "id": "A8UUOFpZHsyJ",
        "colab": {
          "base_uri": "https://localhost:8080/"
        },
        "outputId": "03b172c1-fed4-4e60-f7c4-d261ac92e136"
      },
      "outputs": [
        {
          "output_type": "display_data",
          "data": {
            "text/plain": [
              "<IPython.core.display.HTML object>"
            ],
            "text/html": [
              "\n",
              "            <style>\n",
              "                .geemap-dark {\n",
              "                    --jp-widgets-color: white;\n",
              "                    --jp-widgets-label-color: white;\n",
              "                    --jp-ui-font-color1: white;\n",
              "                    --jp-layout-color2: #454545;\n",
              "                    background-color: #383838;\n",
              "                }\n",
              "\n",
              "                .geemap-dark .jupyter-button {\n",
              "                    --jp-layout-color3: #383838;\n",
              "                }\n",
              "\n",
              "                .geemap-colab {\n",
              "                    background-color: var(--colab-primary-surface-color, white);\n",
              "                }\n",
              "\n",
              "                .geemap-colab .jupyter-button {\n",
              "                    --jp-layout-color3: var(--colab-primary-surface-color, white);\n",
              "                }\n",
              "            </style>\n",
              "            "
            ]
          },
          "metadata": {}
        },
        {
          "output_type": "execute_result",
          "data": {
            "text/plain": [
              "{'state': 'READY',\n",
              " 'description': 'class_2018_n',\n",
              " 'priority': 100,\n",
              " 'creation_timestamp_ms': 1743165595245,\n",
              " 'update_timestamp_ms': 1743165595245,\n",
              " 'start_timestamp_ms': 0,\n",
              " 'task_type': 'EXPORT_FEATURES',\n",
              " 'id': 'AME3743PXIPZI7OQ3NN6NEYW',\n",
              " 'name': 'projects/ee-maizeyield/operations/AME3743PXIPZI7OQ3NN6NEYW'}"
            ]
          },
          "metadata": {},
          "execution_count": 243
        }
      ],
      "source": [
        "# task.start()\n",
        "task.status()"
      ]
    },
    {
      "cell_type": "markdown",
      "metadata": {
        "id": "6R2Xd3DWHNMI"
      },
      "source": [
        "# 2019"
      ]
    },
    {
      "cell_type": "code",
      "source": [
        "year ='2019'\n",
        "start = ee.Date('2019-04-01')\n",
        "end = ee.Date('2019-08-31')\n",
        "scale = 463.31271652791656"
      ],
      "metadata": {
        "id": "zbfH9KPgzN-_",
        "colab": {
          "base_uri": "https://localhost:8080/"
        },
        "outputId": "7d8da5b4-040d-4967-f816-2203cafe7fb6"
      },
      "execution_count": null,
      "outputs": [
        {
          "output_type": "display_data",
          "data": {
            "text/plain": [
              "<IPython.core.display.HTML object>"
            ],
            "text/html": [
              "\n",
              "            <style>\n",
              "                .geemap-dark {\n",
              "                    --jp-widgets-color: white;\n",
              "                    --jp-widgets-label-color: white;\n",
              "                    --jp-ui-font-color1: white;\n",
              "                    --jp-layout-color2: #454545;\n",
              "                    background-color: #383838;\n",
              "                }\n",
              "\n",
              "                .geemap-dark .jupyter-button {\n",
              "                    --jp-layout-color3: #383838;\n",
              "                }\n",
              "\n",
              "                .geemap-colab {\n",
              "                    background-color: var(--colab-primary-surface-color, white);\n",
              "                }\n",
              "\n",
              "                .geemap-colab .jupyter-button {\n",
              "                    --jp-layout-color3: var(--colab-primary-surface-color, white);\n",
              "                }\n",
              "            </style>\n",
              "            "
            ]
          },
          "metadata": {}
        }
      ]
    },
    {
      "cell_type": "code",
      "execution_count": null,
      "metadata": {
        "id": "tZsIUfbNHu-S",
        "colab": {
          "base_uri": "https://localhost:8080/"
        },
        "outputId": "2816ccea-5686-4821-fe6f-a06f8c47bf86"
      },
      "outputs": [
        {
          "output_type": "display_data",
          "data": {
            "text/plain": [
              "<IPython.core.display.HTML object>"
            ],
            "text/html": [
              "\n",
              "            <style>\n",
              "                .geemap-dark {\n",
              "                    --jp-widgets-color: white;\n",
              "                    --jp-widgets-label-color: white;\n",
              "                    --jp-ui-font-color1: white;\n",
              "                    --jp-layout-color2: #454545;\n",
              "                    background-color: #383838;\n",
              "                }\n",
              "\n",
              "                .geemap-dark .jupyter-button {\n",
              "                    --jp-layout-color3: #383838;\n",
              "                }\n",
              "\n",
              "                .geemap-colab {\n",
              "                    background-color: var(--colab-primary-surface-color, white);\n",
              "                }\n",
              "\n",
              "                .geemap-colab .jupyter-button {\n",
              "                    --jp-layout-color3: var(--colab-primary-surface-color, white);\n",
              "                }\n",
              "            </style>\n",
              "            "
            ]
          },
          "metadata": {}
        }
      ],
      "source": [
        "\n",
        "era5d_prec = era5_tp_mean_.select(era5_tp_mean_.bandNames().getInfo()[9]).rename('era5d_prec')\n",
        "# era5_wind = era5_u_wind_10m_mean_.select(era5_u_wind_10m_mean_.bandNames().getInfo()[9]).rename('era5_wind')\n",
        "# era5m_wind = era5_u_wind_10monthly_mean_.select(era5_u_wind_10monthly_mean_.bandNames().getInfo()[9]).rename('era5m_wind')\n",
        "# era5m_prec = era5_monthly_mean_.select(era5_monthly_mean_.bandNames().getInfo()[9]).rename('era5m_prec')\n",
        "# era5_mean_temp = era5_mean_temp_mean_.select(era5_mean_temp_mean_.bandNames().getInfo()[9]).rename('era5_mean_temp')\n",
        "era5_min_temp =  era5_min_temp_mean_.select(era5_min_temp_mean_.bandNames().getInfo()[9]).rename('era5_min_temp')\n",
        "# era5_max_temp = era5_max_temp_mean_.select(era5_max_temp_mean_.bandNames().getInfo()[9]).rename('era5_max_temp')\n",
        "# era5m_mean_temp = era5m_temp_mean_.select(era5m_temp_mean_.bandNames().getInfo()[9]).rename('era5m_mean_temp')\n",
        "# era5m_min_temp = era5m_min_temp_mean_.select(era5m_min_temp_mean_.bandNames().getInfo()[9]).rename('era5m_min_temp')\n",
        "# era5m_max_temp = era5m_max_temp_mean_.select(era5m_max_temp_mean_.bandNames().getInfo()[9]).rename('era5m_max_temp')\n",
        "chirpsd_prec =chirps_d_mean_.select(chirps_d_mean_.bandNames().getInfo()[9]).rename('chirpsd_prec')\n",
        "# chirpsm_prec =chirps_m_mean_.select(chirps_m_mean_.bandNames().getInfo()[9]).rename('chirpsm_prec')\n",
        "# mod_lst = modislst_m_mean_.select(modislst_m_mean_.bandNames().getInfo()[9]).rename('mod_lst')\n",
        "gpp = gpp_prep(gpp_col,AOI,year).toBands().select(gpp_prep(gpp_col,AOI,year).toBands().bandNames()).rename('gpp')\n",
        "npp = npp_prep(npp_col,AOI,year).toBands().select(npp_prep(npp_col,AOI,year).toBands().bandNames()).rename('npp')\n",
        "wdvi = l8_2019.select('wdvi')\n",
        "gli = l8_2019.select('gli')\n",
        "gvi =l8_2019.select('gvi')\n",
        "arvi2 =l8_2019.select('arvi2')\n",
        "\n",
        "\n",
        "# img_2019 = era5d_prec.addBands(era5_wind)\\\n",
        "# .addBands(era5m_prec)\\\n",
        "# .addBands(era5_mean_temp)\\\n",
        "# .addBands(era5_min_temp)\\\n",
        "# .addBands(era5_max_temp)\\\n",
        "# .addBands(era5m_mean_temp)\\\n",
        "# .addBands(chirpsm_prec)\\\n",
        "# .addBands(nsi)\\\n",
        "# .addBands(gli)\\\n",
        "# .addBands(sipi)\n",
        "\n",
        "# # .addBands(era5m_min_temp)\\# .addBands(era5m_wind)\\\n",
        "# # .addBands(era5m_max_temp)\\\n",
        "# # .addBands(chirpsd_prec)\\# .addBands(gpp)\\\n",
        "# # .addBands(npp)\\\n",
        "# # .addBands(mod_lst)\n",
        "# # classify the image again but with the classifier from the persisted trees\n",
        "# classified = img_2019.select(feature_names).classify(another_classifier)\n",
        "# # Reduce Regions to Counties\n",
        "# class_2019 = classified.reduceRegions(**{\n",
        "#     'collection':county,\n",
        "#     'reducer': ee.Reducer.mean(),\n",
        "#     'scale': scale\n",
        "# })\n",
        "# task = ee.batch.Export.image.toAsset(**{\n",
        "#   'image': classified,\n",
        "#   'description': 'Class2019',\n",
        "#   'assetId': 'users/Prod/Outputs/Out5k/Class2019',\n",
        "#   'scale': scale,\n",
        "#   'region': county.geometry()\n",
        "# })\n",
        "# task.start()"
      ]
    },
    {
      "cell_type": "code",
      "source": [
        "# img_2010_repr = img_2010.reproject(crs='EPSG:4326', scale=scale)\n",
        "era5d_prec_r = era5d_prec.resample().reproject(rsn2)\n",
        "# era5_wind = era5_u_wind_10m_mean_.select(era5_u_wind_10m_mean_.bandNames().getInfo()[0]).rename('era5_wind')\n",
        "# era5m_wind = era5_u_wind_10monthly_mean_.select(era5_u_wind_10monthly_mean_.bandNames().getInfo()[0]).rename('era5m_wind')\n",
        "# era5m_prec = era5_monthly_mean_.select(era5_monthly_mean_.bandNames().getInfo()[0]).rename('era5m_prec')\n",
        "# era5_mean_temp = era5_mean_temp_mean_.select(era5_mean_temp_mean_.bandNames().getInfo()[0]).rename('era5_mean_temp')\n",
        "era5_min_temp_r =  era5_min_temp.resample().reproject(rsn2)\n",
        "# era5_max_temp = era5_max_temp_mean_.select(era5_max_temp_mean_.bandNames().getInfo()[0]).rename('era5_max_temp')\n",
        "# era5m_mean_temp = era5m_temp_mean_.select(era5m_temp_mean_.bandNames().getInfo()[0]).rename('era5m_mean_temp')\n",
        "# era5m_min_temp = era5m_min_temp_mean_.select(era5m_min_temp_mean_.bandNames().getInfo()[0]).rename('era5m_min_temp')\n",
        "# era5m_max_temp = era5m_max_temp_mean_.select(era5m_max_temp_mean_.bandNames().getInfo()[0]).rename('era5m_max_temp')\n",
        "chirpsd_prec_r =chirpsd_prec.resample().reproject(rsn2)\n",
        "# chirpsm_prec =chirps_m_mean_.select(chirps_m_mean_.bandNames().getInfo()[0]).rename('chirpsm_prec')\n",
        "# mod_lst = modislst_m_mean_.select(modislst_m_mean_.bandNames().getInfo()[0]).rename('mod_lst')\n",
        "gpp_r = gpp.reproject(rsn2)\n",
        "npp_r = npp.reproject(rsn2)\n",
        "wdvi_r = wdvi.reproject(rsn2)\n",
        "gli_r = gli.reproject(rsn2)\n",
        "gvi_r = gvi.reproject(rsn2)\n",
        "arvi2_r =arvi2.reproject(rsn2)\n",
        "\n",
        "img_2019_r = era5d_prec_r.addBands(era5_min_temp_r)\\\n",
        ".addBands(chirpsd_prec_r)\\\n",
        ".addBands(npp_r)\\\n",
        ".addBands(gpp_r)\\\n",
        ".addBands(wdvi_r)\\\n",
        ".addBands(gli_r)\\\n",
        ".addBands(gvi_r)\\\n",
        ".addBands(arvi2_r)\n",
        "\n",
        "classified = img_2019_r.select(feature_names).classify(another_classifier)\n",
        "# Reduce Regions to Counties\n",
        "class_2019 = classified.reduceRegions(**{\n",
        "    'collection':AOI,\n",
        "    'reducer': ee.Reducer.mean(),\n",
        "    'scale': scale\n",
        "})\n",
        "\n",
        "task = ee.batch.Export.image.toDrive(**{\n",
        "  'image': classified,\n",
        "  'description': 'Class2019',\n",
        "  'folder':'ee_demos',\n",
        "  'scale': scale,\n",
        "  'region': AOI,\n",
        "  'crs':'EPSG:4326'\n",
        " })\n",
        "\n",
        "# task.start()"
      ],
      "metadata": {
        "id": "6WE9RblUztNM",
        "colab": {
          "base_uri": "https://localhost:8080/"
        },
        "outputId": "c777bb51-13c9-4288-d5c2-d3a423942ddd"
      },
      "execution_count": null,
      "outputs": [
        {
          "output_type": "display_data",
          "data": {
            "text/plain": [
              "<IPython.core.display.HTML object>"
            ],
            "text/html": [
              "\n",
              "            <style>\n",
              "                .geemap-dark {\n",
              "                    --jp-widgets-color: white;\n",
              "                    --jp-widgets-label-color: white;\n",
              "                    --jp-ui-font-color1: white;\n",
              "                    --jp-layout-color2: #454545;\n",
              "                    background-color: #383838;\n",
              "                }\n",
              "\n",
              "                .geemap-dark .jupyter-button {\n",
              "                    --jp-layout-color3: #383838;\n",
              "                }\n",
              "\n",
              "                .geemap-colab {\n",
              "                    background-color: var(--colab-primary-surface-color, white);\n",
              "                }\n",
              "\n",
              "                .geemap-colab .jupyter-button {\n",
              "                    --jp-layout-color3: var(--colab-primary-surface-color, white);\n",
              "                }\n",
              "            </style>\n",
              "            "
            ]
          },
          "metadata": {}
        }
      ]
    },
    {
      "cell_type": "code",
      "source": [
        "# Reduce Regions to Counties\n",
        "class_2019_n = img_2019_r.reduceRegions(**{\n",
        "    'collection':newzones,\n",
        "    'reducer': ee.Reducer.median(),\n",
        "    'scale': scale,\n",
        "     'crs':'EPSG:4326'\n",
        "})\n",
        "\n",
        "task = ee.batch.Export.table.toDrive(collection=class_2019_n, folder='ee_demos', description='class_2019_n', fileFormat='SHP')\n",
        "task.start()"
      ],
      "metadata": {
        "colab": {
          "base_uri": "https://localhost:8080/"
        },
        "id": "-fnr9rHAmOhU",
        "outputId": "923ad889-10da-44cb-bcc9-9c57674a82a0"
      },
      "execution_count": null,
      "outputs": [
        {
          "output_type": "display_data",
          "data": {
            "text/plain": [
              "<IPython.core.display.HTML object>"
            ],
            "text/html": [
              "\n",
              "            <style>\n",
              "                .geemap-dark {\n",
              "                    --jp-widgets-color: white;\n",
              "                    --jp-widgets-label-color: white;\n",
              "                    --jp-ui-font-color1: white;\n",
              "                    --jp-layout-color2: #454545;\n",
              "                    background-color: #383838;\n",
              "                }\n",
              "\n",
              "                .geemap-dark .jupyter-button {\n",
              "                    --jp-layout-color3: #383838;\n",
              "                }\n",
              "\n",
              "                .geemap-colab {\n",
              "                    background-color: var(--colab-primary-surface-color, white);\n",
              "                }\n",
              "\n",
              "                .geemap-colab .jupyter-button {\n",
              "                    --jp-layout-color3: var(--colab-primary-surface-color, white);\n",
              "                }\n",
              "            </style>\n",
              "            "
            ]
          },
          "metadata": {}
        }
      ]
    },
    {
      "cell_type": "code",
      "source": [
        "# Reduce Regions to Counties\n",
        "class_2019_n = img_2019_r.reduceRegions(**{\n",
        "    'collection':newzones,\n",
        "    'reducer': ee.Reducer.median(),\n",
        "    'scale': scale,\n",
        "     'crs':'EPSG:4326'\n",
        "})\n",
        "\n",
        "task = ee.batch.Export.table.toDrive(collection=class_2019_n, folder='ee_demos', description='class_2019_n', fileFormat='SHP')\n",
        "task.start()\n"
      ],
      "metadata": {
        "id": "EhhT8o0c5_m-",
        "colab": {
          "base_uri": "https://localhost:8080/"
        },
        "outputId": "d29c1602-4e76-4287-b64f-7a73f0c305fe"
      },
      "execution_count": null,
      "outputs": [
        {
          "output_type": "display_data",
          "data": {
            "text/plain": [
              "<IPython.core.display.HTML object>"
            ],
            "text/html": [
              "\n",
              "            <style>\n",
              "                .geemap-dark {\n",
              "                    --jp-widgets-color: white;\n",
              "                    --jp-widgets-label-color: white;\n",
              "                    --jp-ui-font-color1: white;\n",
              "                    --jp-layout-color2: #454545;\n",
              "                    background-color: #383838;\n",
              "                }\n",
              "\n",
              "                .geemap-dark .jupyter-button {\n",
              "                    --jp-layout-color3: #383838;\n",
              "                }\n",
              "\n",
              "                .geemap-colab {\n",
              "                    background-color: var(--colab-primary-surface-color, white);\n",
              "                }\n",
              "\n",
              "                .geemap-colab .jupyter-button {\n",
              "                    --jp-layout-color3: var(--colab-primary-surface-color, white);\n",
              "                }\n",
              "            </style>\n",
              "            "
            ]
          },
          "metadata": {}
        }
      ]
    },
    {
      "cell_type": "code",
      "execution_count": null,
      "metadata": {
        "id": "MIXRE1AzHusp",
        "colab": {
          "base_uri": "https://localhost:8080/"
        },
        "outputId": "cc1368b5-6f99-440e-de1c-a358500c3ccc"
      },
      "outputs": [
        {
          "output_type": "display_data",
          "data": {
            "text/plain": [
              "<IPython.core.display.HTML object>"
            ],
            "text/html": [
              "\n",
              "            <style>\n",
              "                .geemap-dark {\n",
              "                    --jp-widgets-color: white;\n",
              "                    --jp-widgets-label-color: white;\n",
              "                    --jp-ui-font-color1: white;\n",
              "                    --jp-layout-color2: #454545;\n",
              "                    background-color: #383838;\n",
              "                }\n",
              "\n",
              "                .geemap-dark .jupyter-button {\n",
              "                    --jp-layout-color3: #383838;\n",
              "                }\n",
              "\n",
              "                .geemap-colab {\n",
              "                    background-color: var(--colab-primary-surface-color, white);\n",
              "                }\n",
              "\n",
              "                .geemap-colab .jupyter-button {\n",
              "                    --jp-layout-color3: var(--colab-primary-surface-color, white);\n",
              "                }\n",
              "            </style>\n",
              "            "
            ]
          },
          "metadata": {}
        },
        {
          "output_type": "execute_result",
          "data": {
            "text/plain": [
              "{'state': 'READY',\n",
              " 'description': 'class_2019_n',\n",
              " 'priority': 100,\n",
              " 'creation_timestamp_ms': 1743165598938,\n",
              " 'update_timestamp_ms': 1743165598938,\n",
              " 'start_timestamp_ms': 0,\n",
              " 'task_type': 'EXPORT_FEATURES',\n",
              " 'id': 'QNLNOTKCA4D7VZTXPLVJ2J3J',\n",
              " 'name': 'projects/ee-maizeyield/operations/QNLNOTKCA4D7VZTXPLVJ2J3J'}"
            ]
          },
          "metadata": {},
          "execution_count": 249
        }
      ],
      "source": [
        "# task.start()\n",
        "task.status()"
      ]
    },
    {
      "cell_type": "markdown",
      "metadata": {
        "id": "ubCDXjMNHNul"
      },
      "source": [
        "# 2020"
      ]
    },
    {
      "cell_type": "code",
      "source": [
        "year ='2020'\n",
        "start = ee.Date('2020-04-01')\n",
        "end = ee.Date('2020-08-31')\n",
        "scale = 463.31271652791656"
      ],
      "metadata": {
        "id": "xJY-1-yS5prx",
        "colab": {
          "base_uri": "https://localhost:8080/"
        },
        "outputId": "5d058c0f-1c73-40ac-ca1f-8d5d56c7285e"
      },
      "execution_count": null,
      "outputs": [
        {
          "output_type": "display_data",
          "data": {
            "text/plain": [
              "<IPython.core.display.HTML object>"
            ],
            "text/html": [
              "\n",
              "            <style>\n",
              "                .geemap-dark {\n",
              "                    --jp-widgets-color: white;\n",
              "                    --jp-widgets-label-color: white;\n",
              "                    --jp-ui-font-color1: white;\n",
              "                    --jp-layout-color2: #454545;\n",
              "                    background-color: #383838;\n",
              "                }\n",
              "\n",
              "                .geemap-dark .jupyter-button {\n",
              "                    --jp-layout-color3: #383838;\n",
              "                }\n",
              "\n",
              "                .geemap-colab {\n",
              "                    background-color: var(--colab-primary-surface-color, white);\n",
              "                }\n",
              "\n",
              "                .geemap-colab .jupyter-button {\n",
              "                    --jp-layout-color3: var(--colab-primary-surface-color, white);\n",
              "                }\n",
              "            </style>\n",
              "            "
            ]
          },
          "metadata": {}
        }
      ]
    },
    {
      "cell_type": "code",
      "execution_count": null,
      "metadata": {
        "id": "8t3X5uACHwcw",
        "colab": {
          "base_uri": "https://localhost:8080/"
        },
        "outputId": "0de51e39-a030-4e6d-a6c4-c7921aed82b7"
      },
      "outputs": [
        {
          "output_type": "display_data",
          "data": {
            "text/plain": [
              "<IPython.core.display.HTML object>"
            ],
            "text/html": [
              "\n",
              "            <style>\n",
              "                .geemap-dark {\n",
              "                    --jp-widgets-color: white;\n",
              "                    --jp-widgets-label-color: white;\n",
              "                    --jp-ui-font-color1: white;\n",
              "                    --jp-layout-color2: #454545;\n",
              "                    background-color: #383838;\n",
              "                }\n",
              "\n",
              "                .geemap-dark .jupyter-button {\n",
              "                    --jp-layout-color3: #383838;\n",
              "                }\n",
              "\n",
              "                .geemap-colab {\n",
              "                    background-color: var(--colab-primary-surface-color, white);\n",
              "                }\n",
              "\n",
              "                .geemap-colab .jupyter-button {\n",
              "                    --jp-layout-color3: var(--colab-primary-surface-color, white);\n",
              "                }\n",
              "            </style>\n",
              "            "
            ]
          },
          "metadata": {}
        }
      ],
      "source": [
        "\n",
        "era5d_prec = era5_tp_mean_.select(era5_tp_mean_.bandNames().getInfo()[10]).rename('era5d_prec')\n",
        "# era5_wind = era5_u_wind_10m_mean_.select(era5_u_wind_10m_mean_.bandNames().getInfo()[10]).rename('era5_wind')\n",
        "# era5m_wind = era5_u_wind_10monthly_mean_.select(era5_u_wind_10monthly_mean_.bandNames().getInfo()[10]).rename('era5m_wind')\n",
        "# era5m_prec = era5_monthly_mean_.select(era5_monthly_mean_.bandNames().getInfo()[10]).rename('era5m_prec')\n",
        "# era5_mean_temp = era5_mean_temp_mean_.select(era5_mean_temp_mean_.bandNames().getInfo()[10]).rename('era5_mean_temp')\n",
        "era5_min_temp =  era5_min_temp_mean_.select(era5_min_temp_mean_.bandNames().getInfo()[10]).rename('era5_min_temp')\n",
        "# era5_max_temp = era5_max_temp_mean_.select(era5_max_temp_mean_.bandNames().getInfo()[10]).rename('era5_max_temp')\n",
        "# era5m_mean_temp = era5m_temp_mean_.select(era5m_temp_mean_.bandNames().getInfo()[10]).rename('era5m_mean_temp')\n",
        "# era5m_min_temp = era5m_min_temp_mean_.select(era5m_min_temp_mean_.bandNames().getInfo()[10]).rename('era5m_min_temp')\n",
        "# era5m_max_temp = era5m_max_temp_mean_.select(era5m_max_temp_mean_.bandNames().getInfo()[10]).rename('era5m_max_temp')\n",
        "chirpsd_prec =chirps_d_mean_.select(chirps_d_mean_.bandNames().getInfo()[10]).rename('chirpsd_prec')\n",
        "# chirpsm_prec =chirps_m_mean_.select(chirps_m_mean_.bandNames().getInfo()[10]).rename('chirpsm_prec')\n",
        "# mod_lst = modislst_m_mean_.select(modislst_m_mean_.bandNames().getInfo()[10]).rename('mod_lst')\n",
        "gpp = gpp_prep(gpp_col,AOI,year).toBands().select(gpp_prep(gpp_col,AOI,year).toBands().bandNames()).rename('gpp')\n",
        "npp = npp_prep(npp_col,AOI,year).toBands().select(npp_prep(npp_col,AOI,year).toBands().bandNames()).rename('npp')\n",
        "wdvi = l8_2020.select('wdvi')\n",
        "gli = l8_2020.select('gli')\n",
        "gvi =l8_2020.select('gvi')\n",
        "arvi2 =l8_2020.select('arvi2')\n",
        "\n",
        "\n",
        "# img_2020 = era5d_prec.addBands(era5_wind)\\\n",
        "# .addBands(era5m_prec)\\\n",
        "# .addBands(era5_mean_temp)\\\n",
        "# .addBands(era5_min_temp)\\\n",
        "# .addBands(era5_max_temp)\\\n",
        "# .addBands(era5m_mean_temp)\\\n",
        "# .addBands(chirpsm_prec)\\\n",
        "# .addBands(nsi)\\\n",
        "# .addBands(gli)\\\n",
        "# .addBands(sipi)\n",
        "\n",
        "# # .addBands(era5m_min_temp)\\# .addBands(era5m_wind)\\\n",
        "# # .addBands(era5m_max_temp)\\\n",
        "# # .addBands(chirpsd_prec)\\# .addBands(gpp)\\\n",
        "# # .addBands(npp)\\\n",
        "# # .addBands(mod_lst)\n",
        "# # classify the image again but with the classifier from the persisted trees\n",
        "# classified = img_2020.select(feature_names).classify(another_classifier)\n",
        "# # Reduce Regions to Counties\n",
        "# class_2020 = classified.reduceRegions(**{\n",
        "#     'collection':county,\n",
        "#     'reducer': ee.Reducer.mean(),\n",
        "#     'scale': scale\n",
        "# })\n",
        "# task = ee.batch.Export.image.toAsset(**{\n",
        "#   'image': classified,\n",
        "#   'description': 'Class2020',\n",
        "#   'assetId': 'users/Prod/Outputs/Out5k/Class2020',\n",
        "#   'scale': scale,\n",
        "#   'region': county.geometry()\n",
        "# })\n",
        "# task.start()"
      ]
    },
    {
      "cell_type": "code",
      "source": [
        "# img_2010_repr = img_2010.reproject(crs='EPSG:4326', scale=500)\n",
        "era5d_prec_r = era5d_prec.resample().reproject(rsn2)\n",
        "# era5_wind = era5_u_wind_10m_mean_.select(era5_u_wind_10m_mean_.bandNames().getInfo()[0]).rename('era5_wind')\n",
        "# era5m_wind = era5_u_wind_10monthly_mean_.select(era5_u_wind_10monthly_mean_.bandNames().getInfo()[0]).rename('era5m_wind')\n",
        "# era5m_prec = era5_monthly_mean_.select(era5_monthly_mean_.bandNames().getInfo()[0]).rename('era5m_prec')\n",
        "# era5_mean_temp = era5_mean_temp_mean_.select(era5_mean_temp_mean_.bandNames().getInfo()[0]).rename('era5_mean_temp')\n",
        "era5_min_temp_r =  era5_min_temp.resample().reproject(rsn2)\n",
        "# era5_max_temp = era5_max_temp_mean_.select(era5_max_temp_mean_.bandNames().getInfo()[0]).rename('era5_max_temp')\n",
        "# era5m_mean_temp = era5m_temp_mean_.select(era5m_temp_mean_.bandNames().getInfo()[0]).rename('era5m_mean_temp')\n",
        "# era5m_min_temp = era5m_min_temp_mean_.select(era5m_min_temp_mean_.bandNames().getInfo()[0]).rename('era5m_min_temp')\n",
        "# era5m_max_temp = era5m_max_temp_mean_.select(era5m_max_temp_mean_.bandNames().getInfo()[0]).rename('era5m_max_temp')\n",
        "chirpsd_prec_r =chirpsd_prec.resample().reproject(rsn2)\n",
        "# chirpsm_prec =chirps_m_mean_.select(chirps_m_mean_.bandNames().getInfo()[0]).rename('chirpsm_prec')\n",
        "# mod_lst = modislst_m_mean_.select(modislst_m_mean_.bandNames().getInfo()[0]).rename('mod_lst')\n",
        "gpp_r = gpp.reproject(rsn2)\n",
        "npp_r = npp.reproject(rsn2)\n",
        "wdvi_r = wdvi.reproject(rsn2)\n",
        "gli_r = gli.reproject(rsn2)\n",
        "gvi_r = gvi.reproject(rsn2)\n",
        "arvi2_r =arvi2.reproject(rsn2)\n",
        "\n",
        "img_2020_r = era5d_prec_r.addBands(era5_min_temp_r)\\\n",
        ".addBands(chirpsd_prec_r)\\\n",
        ".addBands(npp_r)\\\n",
        ".addBands(gpp_r)\\\n",
        ".addBands(wdvi_r)\\\n",
        ".addBands(gli_r)\\\n",
        ".addBands(gvi_r)\\\n",
        ".addBands(arvi2_r)\n",
        "\n",
        "classified = img_2020_r.select(feature_names).classify(another_classifier)\n",
        "# Reduce Regions to Counties\n",
        "class_2020 = classified.reduceRegions(**{\n",
        "    'collection':AOI,\n",
        "    'reducer': ee.Reducer.mean(),\n",
        "    'scale': scale\n",
        "})\n",
        "\n",
        "task = ee.batch.Export.image.toDrive(**{\n",
        "  'image': classified,\n",
        "  'description': 'Class2020',\n",
        "  'folder':'ee_demos',\n",
        "  'scale': scale,\n",
        "  'region': AOI,\n",
        "  'crs':'EPSG:4326'\n",
        " })\n",
        "\n",
        "# task.start()"
      ],
      "metadata": {
        "id": "EN4obceQ5vz5",
        "colab": {
          "base_uri": "https://localhost:8080/"
        },
        "outputId": "cfa31b78-b869-4a28-ef37-4d6c411fe7b8"
      },
      "execution_count": null,
      "outputs": [
        {
          "output_type": "display_data",
          "data": {
            "text/plain": [
              "<IPython.core.display.HTML object>"
            ],
            "text/html": [
              "\n",
              "            <style>\n",
              "                .geemap-dark {\n",
              "                    --jp-widgets-color: white;\n",
              "                    --jp-widgets-label-color: white;\n",
              "                    --jp-ui-font-color1: white;\n",
              "                    --jp-layout-color2: #454545;\n",
              "                    background-color: #383838;\n",
              "                }\n",
              "\n",
              "                .geemap-dark .jupyter-button {\n",
              "                    --jp-layout-color3: #383838;\n",
              "                }\n",
              "\n",
              "                .geemap-colab {\n",
              "                    background-color: var(--colab-primary-surface-color, white);\n",
              "                }\n",
              "\n",
              "                .geemap-colab .jupyter-button {\n",
              "                    --jp-layout-color3: var(--colab-primary-surface-color, white);\n",
              "                }\n",
              "            </style>\n",
              "            "
            ]
          },
          "metadata": {}
        }
      ]
    },
    {
      "cell_type": "code",
      "source": [],
      "metadata": {
        "id": "VwJIe-3S5jau"
      },
      "execution_count": null,
      "outputs": []
    },
    {
      "cell_type": "code",
      "execution_count": null,
      "metadata": {
        "id": "uAzLMGh0HwOw",
        "colab": {
          "base_uri": "https://localhost:8080/"
        },
        "outputId": "48635ba9-f5f4-4e06-c8c8-c636dbc2a4f5"
      },
      "outputs": [
        {
          "output_type": "display_data",
          "data": {
            "text/plain": [
              "<IPython.core.display.HTML object>"
            ],
            "text/html": [
              "\n",
              "            <style>\n",
              "                .geemap-dark {\n",
              "                    --jp-widgets-color: white;\n",
              "                    --jp-widgets-label-color: white;\n",
              "                    --jp-ui-font-color1: white;\n",
              "                    --jp-layout-color2: #454545;\n",
              "                    background-color: #383838;\n",
              "                }\n",
              "\n",
              "                .geemap-dark .jupyter-button {\n",
              "                    --jp-layout-color3: #383838;\n",
              "                }\n",
              "\n",
              "                .geemap-colab {\n",
              "                    background-color: var(--colab-primary-surface-color, white);\n",
              "                }\n",
              "\n",
              "                .geemap-colab .jupyter-button {\n",
              "                    --jp-layout-color3: var(--colab-primary-surface-color, white);\n",
              "                }\n",
              "            </style>\n",
              "            "
            ]
          },
          "metadata": {}
        },
        {
          "output_type": "execute_result",
          "data": {
            "text/plain": [
              "{'state': <State.UNSUBMITTED: 'UNSUBMITTED'>}"
            ]
          },
          "metadata": {},
          "execution_count": 253
        }
      ],
      "source": [
        "# task.start()\n",
        "task.status()"
      ]
    },
    {
      "cell_type": "code",
      "execution_count": null,
      "metadata": {
        "id": "HBsS72VXmvEb",
        "colab": {
          "base_uri": "https://localhost:8080/"
        },
        "outputId": "22d3cf2c-e44b-4205-fb47-3344393743e4"
      },
      "outputs": [
        {
          "output_type": "display_data",
          "data": {
            "text/plain": [
              "<IPython.core.display.HTML object>"
            ],
            "text/html": [
              "\n",
              "            <style>\n",
              "                .geemap-dark {\n",
              "                    --jp-widgets-color: white;\n",
              "                    --jp-widgets-label-color: white;\n",
              "                    --jp-ui-font-color1: white;\n",
              "                    --jp-layout-color2: #454545;\n",
              "                    background-color: #383838;\n",
              "                }\n",
              "\n",
              "                .geemap-dark .jupyter-button {\n",
              "                    --jp-layout-color3: #383838;\n",
              "                }\n",
              "\n",
              "                .geemap-colab {\n",
              "                    background-color: var(--colab-primary-surface-color, white);\n",
              "                }\n",
              "\n",
              "                .geemap-colab .jupyter-button {\n",
              "                    --jp-layout-color3: var(--colab-primary-surface-color, white);\n",
              "                }\n",
              "            </style>\n",
              "            "
            ]
          },
          "metadata": {}
        }
      ],
      "source": [
        "# class_2020 = classified.reduceRegions(**{\n",
        "#     'collection':county,\n",
        "#     'reducer': ee.Reducer.mean(),\n",
        "#     'scale': scale\n",
        "# })"
      ]
    },
    {
      "cell_type": "code",
      "execution_count": null,
      "metadata": {
        "id": "hq9KE90CkgpZ",
        "colab": {
          "base_uri": "https://localhost:8080/"
        },
        "outputId": "74377f53-3a4e-45d1-e2d1-4e819e0393d7"
      },
      "outputs": [
        {
          "output_type": "display_data",
          "data": {
            "text/plain": [
              "<IPython.core.display.HTML object>"
            ],
            "text/html": [
              "\n",
              "            <style>\n",
              "                .geemap-dark {\n",
              "                    --jp-widgets-color: white;\n",
              "                    --jp-widgets-label-color: white;\n",
              "                    --jp-ui-font-color1: white;\n",
              "                    --jp-layout-color2: #454545;\n",
              "                    background-color: #383838;\n",
              "                }\n",
              "\n",
              "                .geemap-dark .jupyter-button {\n",
              "                    --jp-layout-color3: #383838;\n",
              "                }\n",
              "\n",
              "                .geemap-colab {\n",
              "                    background-color: var(--colab-primary-surface-color, white);\n",
              "                }\n",
              "\n",
              "                .geemap-colab .jupyter-button {\n",
              "                    --jp-layout-color3: var(--colab-primary-surface-color, white);\n",
              "                }\n",
              "            </style>\n",
              "            "
            ]
          },
          "metadata": {}
        }
      ],
      "source": [
        "# geemap.ee_export_vector(class_2020, 'class_2020.csv')\n"
      ]
    },
    {
      "cell_type": "markdown",
      "metadata": {
        "id": "ELRiJhNCHOTu"
      },
      "source": [
        "# 2021"
      ]
    },
    {
      "cell_type": "code",
      "execution_count": null,
      "metadata": {
        "id": "lN5AGay7Hx4T"
      },
      "outputs": [],
      "source": []
    },
    {
      "cell_type": "markdown",
      "metadata": {
        "id": "9aN1bfn_HdXh"
      },
      "source": [
        "# 2022"
      ]
    },
    {
      "cell_type": "code",
      "execution_count": null,
      "metadata": {
        "id": "3PzYheMvHzhg"
      },
      "outputs": [],
      "source": []
    },
    {
      "cell_type": "markdown",
      "metadata": {
        "id": "fE-fEVA7Hf4q"
      },
      "source": [
        "# 2023"
      ]
    },
    {
      "cell_type": "code",
      "execution_count": null,
      "metadata": {
        "id": "WOzspC17rwAV",
        "colab": {
          "base_uri": "https://localhost:8080/"
        },
        "outputId": "13797686-ac7b-4a48-838c-4ab388cf30b4"
      },
      "outputs": [
        {
          "output_type": "display_data",
          "data": {
            "text/plain": [
              "<IPython.core.display.HTML object>"
            ],
            "text/html": [
              "\n",
              "            <style>\n",
              "                .geemap-dark {\n",
              "                    --jp-widgets-color: white;\n",
              "                    --jp-widgets-label-color: white;\n",
              "                    --jp-ui-font-color1: white;\n",
              "                    --jp-layout-color2: #454545;\n",
              "                    background-color: #383838;\n",
              "                }\n",
              "\n",
              "                .geemap-dark .jupyter-button {\n",
              "                    --jp-layout-color3: #383838;\n",
              "                }\n",
              "\n",
              "                .geemap-colab {\n",
              "                    background-color: var(--colab-primary-surface-color, white);\n",
              "                }\n",
              "\n",
              "                .geemap-colab .jupyter-button {\n",
              "                    --jp-layout-color3: var(--colab-primary-surface-color, white);\n",
              "                }\n",
              "            </style>\n",
              "            "
            ]
          },
          "metadata": {}
        }
      ],
      "source": [
        "# Map.addLayer(classified)"
      ]
    },
    {
      "cell_type": "markdown",
      "metadata": {
        "id": "WSYn6zLVbSUB"
      },
      "source": [
        "# EXPORT CSV"
      ]
    },
    {
      "cell_type": "code",
      "execution_count": null,
      "metadata": {
        "id": "z4WKGYXTUDpv",
        "colab": {
          "base_uri": "https://localhost:8080/"
        },
        "outputId": "8ff8702e-4534-4d5a-d7c3-57bd34b88fd8"
      },
      "outputs": [
        {
          "output_type": "display_data",
          "data": {
            "text/plain": [
              "<IPython.core.display.HTML object>"
            ],
            "text/html": [
              "\n",
              "            <style>\n",
              "                .geemap-dark {\n",
              "                    --jp-widgets-color: white;\n",
              "                    --jp-widgets-label-color: white;\n",
              "                    --jp-ui-font-color1: white;\n",
              "                    --jp-layout-color2: #454545;\n",
              "                    background-color: #383838;\n",
              "                }\n",
              "\n",
              "                .geemap-dark .jupyter-button {\n",
              "                    --jp-layout-color3: #383838;\n",
              "                }\n",
              "\n",
              "                .geemap-colab {\n",
              "                    background-color: var(--colab-primary-surface-color, white);\n",
              "                }\n",
              "\n",
              "                .geemap-colab .jupyter-button {\n",
              "                    --jp-layout-color3: var(--colab-primary-surface-color, white);\n",
              "                }\n",
              "            </style>\n",
              "            "
            ]
          },
          "metadata": {}
        }
      ],
      "source": [
        "# geemap.ee_export_vector(test_reg, 'climatemod.csv')\n"
      ]
    },
    {
      "cell_type": "code",
      "execution_count": null,
      "metadata": {
        "id": "hACXpjqPfug9",
        "colab": {
          "base_uri": "https://localhost:8080/"
        },
        "outputId": "e8695e8c-a550-409c-bb34-38bdb1f2485b"
      },
      "outputs": [
        {
          "output_type": "display_data",
          "data": {
            "text/plain": [
              "<IPython.core.display.HTML object>"
            ],
            "text/html": [
              "\n",
              "            <style>\n",
              "                .geemap-dark {\n",
              "                    --jp-widgets-color: white;\n",
              "                    --jp-widgets-label-color: white;\n",
              "                    --jp-ui-font-color1: white;\n",
              "                    --jp-layout-color2: #454545;\n",
              "                    background-color: #383838;\n",
              "                }\n",
              "\n",
              "                .geemap-dark .jupyter-button {\n",
              "                    --jp-layout-color3: #383838;\n",
              "                }\n",
              "\n",
              "                .geemap-colab {\n",
              "                    background-color: var(--colab-primary-surface-color, white);\n",
              "                }\n",
              "\n",
              "                .geemap-colab .jupyter-button {\n",
              "                    --jp-layout-color3: var(--colab-primary-surface-color, white);\n",
              "                }\n",
              "            </style>\n",
              "            "
            ]
          },
          "metadata": {}
        }
      ],
      "source": [
        "# Define the visualization parameters.\n",
        "# vizParams = {\n",
        "#   'bands': ['B5', 'B4', 'B3'],\n",
        "#   'min': 0,\n",
        "#   'max': 0.5,\n",
        "#   'gamma': [0.95, 1.1, 1]\n",
        "# }\n"
      ]
    },
    {
      "cell_type": "code",
      "execution_count": null,
      "metadata": {
        "id": "IrXLkRL8ObXN",
        "colab": {
          "base_uri": "https://localhost:8080/"
        },
        "outputId": "f229bf56-3320-43b5-f840-175d5a2af6d5"
      },
      "outputs": [
        {
          "output_type": "display_data",
          "data": {
            "text/plain": [
              "<IPython.core.display.HTML object>"
            ],
            "text/html": [
              "\n",
              "            <style>\n",
              "                .geemap-dark {\n",
              "                    --jp-widgets-color: white;\n",
              "                    --jp-widgets-label-color: white;\n",
              "                    --jp-ui-font-color1: white;\n",
              "                    --jp-layout-color2: #454545;\n",
              "                    background-color: #383838;\n",
              "                }\n",
              "\n",
              "                .geemap-dark .jupyter-button {\n",
              "                    --jp-layout-color3: #383838;\n",
              "                }\n",
              "\n",
              "                .geemap-colab {\n",
              "                    background-color: var(--colab-primary-surface-color, white);\n",
              "                }\n",
              "\n",
              "                .geemap-colab .jupyter-button {\n",
              "                    --jp-layout-color3: var(--colab-primary-surface-color, white);\n",
              "                }\n",
              "            </style>\n",
              "            "
            ]
          },
          "metadata": {}
        }
      ],
      "source": [
        "# Map.addLayer(test_reg,{},'Climate Variables')\n",
        "# Map"
      ]
    },
    {
      "cell_type": "code",
      "source": [],
      "metadata": {
        "id": "4a4ih4mPNYuN"
      },
      "execution_count": null,
      "outputs": []
    },
    {
      "cell_type": "code",
      "source": [],
      "metadata": {
        "id": "xul8h7CDeB9j"
      },
      "execution_count": null,
      "outputs": []
    }
  ],
  "metadata": {
    "colab": {
      "collapsed_sections": [
        "KviXykxCtmaS",
        "rlOfaDOatuF7",
        "0YhmrHH5t_n5",
        "ckz98hnLvu7X",
        "xVooFVB0wONz",
        "9IFHnwdoUhU6",
        "sWKWA5whRPyQ",
        "15M_aUAkU0kE",
        "rPcKQi6yU9GY",
        "M6Qg2NI8VIp8",
        "wL_s6Xx5VSFz",
        "MouNmwLVbHRw",
        "HKVOk__bbMP4",
        "nMQ4KKrfGySD",
        "gFOHUlLgG2z_",
        "0FEbri4UG8Tp",
        "I7OypHRaHCrH",
        "kRV8pfgPHHSF",
        "oCEXPmBBHKpi",
        "0CvlyO6qHLTn",
        "e6M2Jl64HL6s",
        "tsLa4n0XHMh9",
        "6R2Xd3DWHNMI",
        "ubCDXjMNHNul",
        "9aN1bfn_HdXh",
        "fE-fEVA7Hf4q",
        "WSYn6zLVbSUB"
      ],
      "provenance": [],
      "toc_visible": true,
      "authorship_tag": "ABX9TyMHzXk0h7UgYii3qqkrR8wZ",
      "include_colab_link": true
    },
    "kernelspec": {
      "display_name": "Python 3",
      "name": "python3"
    },
    "language_info": {
      "name": "python"
    },
    "widgets": {
      "application/vnd.jupyter.widget-state+json": {
        "6f4160808e0a47e5a26883a72712e775": {
          "model_module": "jupyter-leaflet",
          "model_name": "LeafletMapModel",
          "model_module_version": "^0.19",
          "state": {
            "_dom_classes": [],
            "_model_module": "jupyter-leaflet",
            "_model_module_version": "^0.19",
            "_model_name": "LeafletMapModel",
            "_view_count": null,
            "_view_module": "jupyter-leaflet",
            "_view_module_version": "^0.19",
            "_view_name": "LeafletMapView",
            "bottom": 8464,
            "bounce_at_zoom_limits": true,
            "box_zoom": true,
            "center": [
              0.609361277034676,
              37.81540690324203
            ],
            "close_popup_on_click": true,
            "controls": [
              "IPY_MODEL_16384048fa244e91b086f9560e6f4f46",
              "IPY_MODEL_00f78a707bb04e91be62660f6d834648",
              "IPY_MODEL_fa75b68beb154b84a83845f8492958e1",
              "IPY_MODEL_3b11f61830de4cf7a910ac7bd175d1d7",
              "IPY_MODEL_185cb74e76574aa59b0e2c408f68e38a",
              "IPY_MODEL_b55c8d121c2c49a1bb5318fdc1cf0da0",
              "IPY_MODEL_ef23ba351ee74bfd9240d816e619a717",
              "IPY_MODEL_ed822ecabc28426eac58b27ea5ace818"
            ],
            "crs": {
              "name": "EPSG3857",
              "custom": false
            },
            "default_style": "IPY_MODEL_5f4034411b014ab49041621f7d0133a4",
            "double_click_zoom": true,
            "dragging": true,
            "dragging_style": "IPY_MODEL_62253615fc4c4d2ebc616222a00f1fe3",
            "east": 54.20654296875,
            "fullscreen": false,
            "inertia": true,
            "inertia_deceleration": 3000,
            "inertia_max_speed": 1500,
            "interpolation": "bilinear",
            "keyboard": true,
            "keyboard_pan_offset": 80,
            "keyboard_zoom_offset": 1,
            "layers": [
              "IPY_MODEL_d245b62d9a444b17991223bfde367c29",
              "IPY_MODEL_a295cc74420b4cfaa15ac331b40f7a7e",
              "IPY_MODEL_60e3ee76dcd5437e938bdd332e539e03"
            ],
            "layout": "IPY_MODEL_71897efdc6e84e7fa8d59399ff0efe0f",
            "left": 9168,
            "max_zoom": 24,
            "min_zoom": null,
            "modisdate": "2025-03-27",
            "north": 7.18810087117902,
            "options": [
              "bounce_at_zoom_limits",
              "box_zoom",
              "center",
              "close_popup_on_click",
              "double_click_zoom",
              "dragging",
              "fullscreen",
              "inertia",
              "inertia_deceleration",
              "inertia_max_speed",
              "interpolation",
              "keyboard",
              "keyboard_pan_offset",
              "keyboard_zoom_offset",
              "max_zoom",
              "min_zoom",
              "prefer_canvas",
              "scroll_wheel_zoom",
              "tap",
              "tap_tolerance",
              "touch_zoom",
              "world_copy_jump",
              "zoom",
              "zoom_animation_threshold",
              "zoom_delta",
              "zoom_snap"
            ],
            "panes": {},
            "prefer_canvas": false,
            "right": 10659,
            "scroll_wheel_zoom": true,
            "south": -5.9657536710655235,
            "style": "IPY_MODEL_c59c729f38154230a42eac7197eb3ae3",
            "tap": true,
            "tap_tolerance": 15,
            "top": 7864,
            "touch_zoom": true,
            "west": 21.4453125,
            "window_url": "https://ko6ffgo274k-496ff2e9c6d22116-0-colab.googleusercontent.com/outputframe.html?vrz=colab_20250324-060205_RC00_739881696",
            "world_copy_jump": false,
            "zoom": 6,
            "zoom_animation_threshold": 4,
            "zoom_delta": 1,
            "zoom_snap": 1
          }
        },
        "16384048fa244e91b086f9560e6f4f46": {
          "model_module": "jupyter-leaflet",
          "model_name": "LeafletWidgetControlModel",
          "model_module_version": "^0.19",
          "state": {
            "_model_module": "jupyter-leaflet",
            "_model_module_version": "^0.19",
            "_model_name": "LeafletWidgetControlModel",
            "_view_count": null,
            "_view_module": "jupyter-leaflet",
            "_view_module_version": "^0.19",
            "_view_name": "LeafletWidgetControlView",
            "max_height": null,
            "max_width": null,
            "min_height": null,
            "min_width": null,
            "options": [
              "position",
              "transparent_bg"
            ],
            "position": "topleft",
            "transparent_bg": false,
            "widget": "IPY_MODEL_dd938aeddc0c47c0adf81efca6c353e5"
          }
        },
        "00f78a707bb04e91be62660f6d834648": {
          "model_module": "jupyter-leaflet",
          "model_name": "LeafletZoomControlModel",
          "model_module_version": "^0.19",
          "state": {
            "_model_module": "jupyter-leaflet",
            "_model_module_version": "^0.19",
            "_model_name": "LeafletZoomControlModel",
            "_view_count": null,
            "_view_module": "jupyter-leaflet",
            "_view_module_version": "^0.19",
            "_view_name": "LeafletZoomControlView",
            "options": [
              "position",
              "zoom_in_text",
              "zoom_in_title",
              "zoom_out_text",
              "zoom_out_title"
            ],
            "position": "topleft",
            "zoom_in_text": "+",
            "zoom_in_title": "Zoom in",
            "zoom_out_text": "-",
            "zoom_out_title": "Zoom out"
          }
        },
        "fa75b68beb154b84a83845f8492958e1": {
          "model_module": "jupyter-leaflet",
          "model_name": "LeafletFullScreenControlModel",
          "model_module_version": "^0.19",
          "state": {
            "_model_module": "jupyter-leaflet",
            "_model_module_version": "^0.19",
            "_model_name": "LeafletFullScreenControlModel",
            "_view_count": null,
            "_view_module": "jupyter-leaflet",
            "_view_module_version": "^0.19",
            "_view_name": "LeafletFullScreenControlView",
            "options": [
              "position"
            ],
            "position": "topleft"
          }
        },
        "3b11f61830de4cf7a910ac7bd175d1d7": {
          "model_module": "jupyter-leaflet",
          "model_name": "LeafletDrawControlModel",
          "model_module_version": "^0.19",
          "state": {
            "_model_module": "jupyter-leaflet",
            "_model_module_version": "^0.19",
            "_model_name": "LeafletDrawControlModel",
            "_view_count": null,
            "_view_module": "jupyter-leaflet",
            "_view_module_version": "^0.19",
            "_view_name": "LeafletDrawControlView",
            "circle": {},
            "circlemarker": {},
            "data": [],
            "edit": true,
            "marker": {
              "shapeOptions": {
                "color": "#3388ff"
              }
            },
            "options": [
              "position"
            ],
            "polygon": {
              "shapeOptions": {}
            },
            "polyline": {
              "shapeOptions": {}
            },
            "position": "topleft",
            "rectangle": {
              "shapeOptions": {
                "color": "#3388ff"
              }
            },
            "remove": true
          }
        },
        "185cb74e76574aa59b0e2c408f68e38a": {
          "model_module": "jupyter-leaflet",
          "model_name": "LeafletScaleControlModel",
          "model_module_version": "^0.19",
          "state": {
            "_model_module": "jupyter-leaflet",
            "_model_module_version": "^0.19",
            "_model_name": "LeafletScaleControlModel",
            "_view_count": null,
            "_view_module": "jupyter-leaflet",
            "_view_module_version": "^0.19",
            "_view_name": "LeafletScaleControlView",
            "imperial": true,
            "max_width": 100,
            "metric": true,
            "options": [
              "imperial",
              "max_width",
              "metric",
              "position",
              "update_when_idle"
            ],
            "position": "bottomleft",
            "update_when_idle": false
          }
        },
        "b55c8d121c2c49a1bb5318fdc1cf0da0": {
          "model_module": "jupyter-leaflet",
          "model_name": "LeafletMeasureControlModel",
          "model_module_version": "^0.19",
          "state": {
            "_custom_units": {},
            "_model_module": "jupyter-leaflet",
            "_model_module_version": "^0.19",
            "_model_name": "LeafletMeasureControlModel",
            "_view_count": null,
            "_view_module": "jupyter-leaflet",
            "_view_module_version": "^0.19",
            "_view_name": "LeafletMeasureControlView",
            "active_color": "orange",
            "capture_z_index": 10000,
            "completed_color": "#C8F2BE",
            "options": [
              "active_color",
              "capture_z_index",
              "completed_color",
              "popup_options",
              "position",
              "primary_area_unit",
              "primary_length_unit",
              "secondary_area_unit",
              "secondary_length_unit"
            ],
            "popup_options": {
              "className": "leaflet-measure-resultpopup",
              "autoPanPadding": [
                10,
                10
              ]
            },
            "position": "bottomleft",
            "primary_area_unit": "acres",
            "primary_length_unit": "kilometers",
            "secondary_area_unit": null,
            "secondary_length_unit": null
          }
        },
        "ef23ba351ee74bfd9240d816e619a717": {
          "model_module": "jupyter-leaflet",
          "model_name": "LeafletWidgetControlModel",
          "model_module_version": "^0.19",
          "state": {
            "_model_module": "jupyter-leaflet",
            "_model_module_version": "^0.19",
            "_model_name": "LeafletWidgetControlModel",
            "_view_count": null,
            "_view_module": "jupyter-leaflet",
            "_view_module_version": "^0.19",
            "_view_name": "LeafletWidgetControlView",
            "max_height": null,
            "max_width": null,
            "min_height": null,
            "min_width": null,
            "options": [
              "position",
              "transparent_bg"
            ],
            "position": "topright",
            "transparent_bg": false,
            "widget": "IPY_MODEL_4193b6b7aec6490380b3971e117bcea1"
          }
        },
        "ed822ecabc28426eac58b27ea5ace818": {
          "model_module": "jupyter-leaflet",
          "model_name": "LeafletAttributionControlModel",
          "model_module_version": "^0.19",
          "state": {
            "_model_module": "jupyter-leaflet",
            "_model_module_version": "^0.19",
            "_model_name": "LeafletAttributionControlModel",
            "_view_count": null,
            "_view_module": "jupyter-leaflet",
            "_view_module_version": "^0.19",
            "_view_name": "LeafletAttributionControlView",
            "options": [
              "position",
              "prefix"
            ],
            "position": "bottomright",
            "prefix": "ipyleaflet"
          }
        },
        "5f4034411b014ab49041621f7d0133a4": {
          "model_module": "jupyter-leaflet",
          "model_name": "LeafletMapStyleModel",
          "model_module_version": "^0.19",
          "state": {
            "_model_module": "jupyter-leaflet",
            "_model_module_version": "^0.19",
            "_model_name": "LeafletMapStyleModel",
            "_view_count": null,
            "_view_module": "@jupyter-widgets/base",
            "_view_module_version": "1.2.0",
            "_view_name": "StyleView",
            "cursor": "grab"
          }
        },
        "62253615fc4c4d2ebc616222a00f1fe3": {
          "model_module": "jupyter-leaflet",
          "model_name": "LeafletMapStyleModel",
          "model_module_version": "^0.19",
          "state": {
            "_model_module": "jupyter-leaflet",
            "_model_module_version": "^0.19",
            "_model_name": "LeafletMapStyleModel",
            "_view_count": null,
            "_view_module": "@jupyter-widgets/base",
            "_view_module_version": "1.2.0",
            "_view_name": "StyleView",
            "cursor": "move"
          }
        },
        "d245b62d9a444b17991223bfde367c29": {
          "model_module": "jupyter-leaflet",
          "model_name": "LeafletTileLayerModel",
          "model_module_version": "^0.19",
          "state": {
            "_model_module": "jupyter-leaflet",
            "_model_module_version": "^0.19",
            "_model_name": "LeafletTileLayerModel",
            "_view_count": null,
            "_view_module": "jupyter-leaflet",
            "_view_module_version": "^0.19",
            "_view_name": "LeafletTileLayerView",
            "attribution": "&copy; <a href=\"https://www.openstreetmap.org/copyright\">OpenStreetMap</a> contributors",
            "base": true,
            "bottom": true,
            "bounds": null,
            "detect_retina": false,
            "loading": true,
            "max_native_zoom": null,
            "max_zoom": 30,
            "min_native_zoom": null,
            "min_zoom": 1,
            "name": "OpenStreetMap.Mapnik",
            "no_wrap": false,
            "opacity": 1,
            "options": [
              "attribution",
              "bounds",
              "detect_retina",
              "max_native_zoom",
              "max_zoom",
              "min_native_zoom",
              "min_zoom",
              "no_wrap",
              "tile_size",
              "tms",
              "zoom_offset"
            ],
            "pane": "",
            "popup": null,
            "popup_max_height": null,
            "popup_max_width": 300,
            "popup_min_width": 50,
            "show_loading": false,
            "subitems": [],
            "tile_size": 256,
            "tms": false,
            "url": "https://tile.openstreetmap.org/{z}/{x}/{y}.png",
            "visible": true,
            "zoom_offset": 0
          }
        },
        "a295cc74420b4cfaa15ac331b40f7a7e": {
          "model_module": "jupyter-leaflet",
          "model_name": "LeafletTileLayerModel",
          "model_module_version": "^0.19",
          "state": {
            "_model_module": "jupyter-leaflet",
            "_model_module_version": "^0.19",
            "_model_name": "LeafletTileLayerModel",
            "_view_count": null,
            "_view_module": "jupyter-leaflet",
            "_view_module_version": "^0.19",
            "_view_name": "LeafletTileLayerView",
            "attribution": "Google Earth Engine",
            "base": false,
            "bottom": true,
            "bounds": null,
            "detect_retina": false,
            "loading": true,
            "max_native_zoom": null,
            "max_zoom": 24,
            "min_native_zoom": null,
            "min_zoom": 0,
            "name": "AOI",
            "no_wrap": false,
            "opacity": 1,
            "options": [
              "attribution",
              "bounds",
              "detect_retina",
              "max_native_zoom",
              "max_zoom",
              "min_native_zoom",
              "min_zoom",
              "no_wrap",
              "tile_size",
              "tms",
              "zoom_offset"
            ],
            "pane": "",
            "popup": null,
            "popup_max_height": null,
            "popup_max_width": 300,
            "popup_min_width": 50,
            "show_loading": false,
            "subitems": [],
            "tile_size": 256,
            "tms": false,
            "url": "https://earthengine.googleapis.com/v1/projects/ee-maizeyield/maps/5c48f9d01909ec0a0e21eb8b4e97b492-917c3b138cd24ca63d486a192d525ef8/tiles/{z}/{x}/{y}",
            "visible": true,
            "zoom_offset": 0
          }
        },
        "60e3ee76dcd5437e938bdd332e539e03": {
          "model_module": "jupyter-leaflet",
          "model_name": "LeafletTileLayerModel",
          "model_module_version": "^0.19",
          "state": {
            "_model_module": "jupyter-leaflet",
            "_model_module_version": "^0.19",
            "_model_name": "LeafletTileLayerModel",
            "_view_count": null,
            "_view_module": "jupyter-leaflet",
            "_view_module_version": "^0.19",
            "_view_name": "LeafletTileLayerView",
            "attribution": "Google Earth Engine",
            "base": false,
            "bottom": true,
            "bounds": null,
            "detect_retina": false,
            "loading": true,
            "max_native_zoom": null,
            "max_zoom": 24,
            "min_native_zoom": null,
            "min_zoom": 0,
            "name": "Newzones",
            "no_wrap": false,
            "opacity": 1,
            "options": [
              "attribution",
              "bounds",
              "detect_retina",
              "max_native_zoom",
              "max_zoom",
              "min_native_zoom",
              "min_zoom",
              "no_wrap",
              "tile_size",
              "tms",
              "zoom_offset"
            ],
            "pane": "",
            "popup": null,
            "popup_max_height": null,
            "popup_max_width": 300,
            "popup_min_width": 50,
            "show_loading": false,
            "subitems": [],
            "tile_size": 256,
            "tms": false,
            "url": "https://earthengine.googleapis.com/v1/projects/ee-maizeyield/maps/53b9e018ba51bb16e0e52c3aca6a75f4-16b54fb4e470baceeca95081d047a366/tiles/{z}/{x}/{y}",
            "visible": true,
            "zoom_offset": 0
          }
        },
        "71897efdc6e84e7fa8d59399ff0efe0f": {
          "model_module": "@jupyter-widgets/base",
          "model_name": "LayoutModel",
          "model_module_version": "1.2.0",
          "state": {
            "_model_module": "@jupyter-widgets/base",
            "_model_module_version": "1.2.0",
            "_model_name": "LayoutModel",
            "_view_count": null,
            "_view_module": "@jupyter-widgets/base",
            "_view_module_version": "1.2.0",
            "_view_name": "LayoutView",
            "align_content": null,
            "align_items": null,
            "align_self": null,
            "border": null,
            "bottom": null,
            "display": null,
            "flex": null,
            "flex_flow": null,
            "grid_area": null,
            "grid_auto_columns": null,
            "grid_auto_flow": null,
            "grid_auto_rows": null,
            "grid_column": null,
            "grid_gap": null,
            "grid_row": null,
            "grid_template_areas": null,
            "grid_template_columns": null,
            "grid_template_rows": null,
            "height": "600px",
            "justify_content": null,
            "justify_items": null,
            "left": null,
            "margin": null,
            "max_height": null,
            "max_width": null,
            "min_height": null,
            "min_width": null,
            "object_fit": null,
            "object_position": null,
            "order": null,
            "overflow": null,
            "overflow_x": null,
            "overflow_y": null,
            "padding": null,
            "right": null,
            "top": null,
            "visibility": null,
            "width": null
          }
        },
        "c59c729f38154230a42eac7197eb3ae3": {
          "model_module": "jupyter-leaflet",
          "model_name": "LeafletMapStyleModel",
          "model_module_version": "^0.19",
          "state": {
            "_model_module": "jupyter-leaflet",
            "_model_module_version": "^0.19",
            "_model_name": "LeafletMapStyleModel",
            "_view_count": null,
            "_view_module": "@jupyter-widgets/base",
            "_view_module_version": "1.2.0",
            "_view_name": "StyleView",
            "cursor": "grab"
          }
        },
        "dd938aeddc0c47c0adf81efca6c353e5": {
          "model_module": "@jupyter-widgets/controls",
          "model_name": "HBoxModel",
          "model_module_version": "1.5.0",
          "state": {
            "_dom_classes": [
              "geemap-colab"
            ],
            "_model_module": "@jupyter-widgets/controls",
            "_model_module_version": "1.5.0",
            "_model_name": "HBoxModel",
            "_view_count": null,
            "_view_module": "@jupyter-widgets/controls",
            "_view_module_version": "1.5.0",
            "_view_name": "HBoxView",
            "box_style": "",
            "children": [
              "IPY_MODEL_49de9b290784466190cb319ecaa2377f"
            ],
            "layout": "IPY_MODEL_7096e4ea7a7c4a33909ea2bd4cc871d4"
          }
        },
        "4193b6b7aec6490380b3971e117bcea1": {
          "model_module": "@jupyter-widgets/controls",
          "model_name": "VBoxModel",
          "model_module_version": "1.5.0",
          "state": {
            "_dom_classes": [
              "geemap-colab"
            ],
            "_model_module": "@jupyter-widgets/controls",
            "_model_module_version": "1.5.0",
            "_model_name": "VBoxModel",
            "_view_count": null,
            "_view_module": "@jupyter-widgets/controls",
            "_view_module_version": "1.5.0",
            "_view_name": "VBoxView",
            "box_style": "",
            "children": [
              "IPY_MODEL_e169e7c64cd84a11ba44b4f2605b9982",
              "IPY_MODEL_1e83ded0abf14d3ea965ec228b934fc6"
            ],
            "layout": "IPY_MODEL_e42ec242b8d14ff1bb5a504d6f7a57bb"
          }
        },
        "49de9b290784466190cb319ecaa2377f": {
          "model_module": "@jupyter-widgets/controls",
          "model_name": "ToggleButtonModel",
          "model_module_version": "1.5.0",
          "state": {
            "_dom_classes": [],
            "_model_module": "@jupyter-widgets/controls",
            "_model_module_version": "1.5.0",
            "_model_name": "ToggleButtonModel",
            "_view_count": null,
            "_view_module": "@jupyter-widgets/controls",
            "_view_module_version": "1.5.0",
            "_view_name": "ToggleButtonView",
            "button_style": "",
            "description": "",
            "description_tooltip": null,
            "disabled": false,
            "icon": "globe",
            "layout": "IPY_MODEL_30e919ad5a1446bab92a5a9361689edf",
            "style": "IPY_MODEL_7e7f8549cbfb44f4a636598068d1de0a",
            "tooltip": "Search location/data",
            "value": false
          }
        },
        "7096e4ea7a7c4a33909ea2bd4cc871d4": {
          "model_module": "@jupyter-widgets/base",
          "model_name": "LayoutModel",
          "model_module_version": "1.2.0",
          "state": {
            "_model_module": "@jupyter-widgets/base",
            "_model_module_version": "1.2.0",
            "_model_name": "LayoutModel",
            "_view_count": null,
            "_view_module": "@jupyter-widgets/base",
            "_view_module_version": "1.2.0",
            "_view_name": "LayoutView",
            "align_content": null,
            "align_items": null,
            "align_self": null,
            "border": null,
            "bottom": null,
            "display": null,
            "flex": null,
            "flex_flow": null,
            "grid_area": null,
            "grid_auto_columns": null,
            "grid_auto_flow": null,
            "grid_auto_rows": null,
            "grid_column": null,
            "grid_gap": null,
            "grid_row": null,
            "grid_template_areas": null,
            "grid_template_columns": null,
            "grid_template_rows": null,
            "height": null,
            "justify_content": null,
            "justify_items": null,
            "left": null,
            "margin": null,
            "max_height": null,
            "max_width": null,
            "min_height": null,
            "min_width": null,
            "object_fit": null,
            "object_position": null,
            "order": null,
            "overflow": null,
            "overflow_x": null,
            "overflow_y": null,
            "padding": null,
            "right": null,
            "top": null,
            "visibility": null,
            "width": null
          }
        },
        "e169e7c64cd84a11ba44b4f2605b9982": {
          "model_module": "@jupyter-widgets/controls",
          "model_name": "HBoxModel",
          "model_module_version": "1.5.0",
          "state": {
            "_dom_classes": [],
            "_model_module": "@jupyter-widgets/controls",
            "_model_module_version": "1.5.0",
            "_model_name": "HBoxModel",
            "_view_count": null,
            "_view_module": "@jupyter-widgets/controls",
            "_view_module_version": "1.5.0",
            "_view_name": "HBoxView",
            "box_style": "",
            "children": [
              "IPY_MODEL_c54979e69d114140af075182aa6a6c0c",
              "IPY_MODEL_c15bc1a50c884ddca2b47d183316da6c"
            ],
            "layout": "IPY_MODEL_87ad2d9feb8b4b57a101083e55ed16f3"
          }
        },
        "1e83ded0abf14d3ea965ec228b934fc6": {
          "model_module": "@jupyter-widgets/controls",
          "model_name": "VBoxModel",
          "model_module_version": "1.5.0",
          "state": {
            "_dom_classes": [],
            "_model_module": "@jupyter-widgets/controls",
            "_model_module_version": "1.5.0",
            "_model_name": "VBoxModel",
            "_view_count": null,
            "_view_module": "@jupyter-widgets/controls",
            "_view_module_version": "1.5.0",
            "_view_name": "VBoxView",
            "box_style": "",
            "children": [
              "IPY_MODEL_dd2dfa3089ac4430be06f169b3dd0635"
            ],
            "layout": "IPY_MODEL_640a1de4cd034c10b2e9bc5c17f27097"
          }
        },
        "e42ec242b8d14ff1bb5a504d6f7a57bb": {
          "model_module": "@jupyter-widgets/base",
          "model_name": "LayoutModel",
          "model_module_version": "1.2.0",
          "state": {
            "_model_module": "@jupyter-widgets/base",
            "_model_module_version": "1.2.0",
            "_model_name": "LayoutModel",
            "_view_count": null,
            "_view_module": "@jupyter-widgets/base",
            "_view_module_version": "1.2.0",
            "_view_name": "LayoutView",
            "align_content": null,
            "align_items": null,
            "align_self": null,
            "border": null,
            "bottom": null,
            "display": null,
            "flex": null,
            "flex_flow": null,
            "grid_area": null,
            "grid_auto_columns": null,
            "grid_auto_flow": null,
            "grid_auto_rows": null,
            "grid_column": null,
            "grid_gap": null,
            "grid_row": null,
            "grid_template_areas": null,
            "grid_template_columns": null,
            "grid_template_rows": null,
            "height": null,
            "justify_content": null,
            "justify_items": null,
            "left": null,
            "margin": null,
            "max_height": null,
            "max_width": null,
            "min_height": null,
            "min_width": null,
            "object_fit": null,
            "object_position": null,
            "order": null,
            "overflow": null,
            "overflow_x": null,
            "overflow_y": null,
            "padding": null,
            "right": null,
            "top": null,
            "visibility": null,
            "width": null
          }
        },
        "30e919ad5a1446bab92a5a9361689edf": {
          "model_module": "@jupyter-widgets/base",
          "model_name": "LayoutModel",
          "model_module_version": "1.2.0",
          "state": {
            "_model_module": "@jupyter-widgets/base",
            "_model_module_version": "1.2.0",
            "_model_name": "LayoutModel",
            "_view_count": null,
            "_view_module": "@jupyter-widgets/base",
            "_view_module_version": "1.2.0",
            "_view_name": "LayoutView",
            "align_content": null,
            "align_items": null,
            "align_self": null,
            "border": null,
            "bottom": null,
            "display": null,
            "flex": null,
            "flex_flow": null,
            "grid_area": null,
            "grid_auto_columns": null,
            "grid_auto_flow": null,
            "grid_auto_rows": null,
            "grid_column": null,
            "grid_gap": null,
            "grid_row": null,
            "grid_template_areas": null,
            "grid_template_columns": null,
            "grid_template_rows": null,
            "height": "28px",
            "justify_content": null,
            "justify_items": null,
            "left": null,
            "margin": null,
            "max_height": null,
            "max_width": null,
            "min_height": null,
            "min_width": null,
            "object_fit": null,
            "object_position": null,
            "order": null,
            "overflow": null,
            "overflow_x": null,
            "overflow_y": null,
            "padding": "0px 0px 0px 4px",
            "right": null,
            "top": null,
            "visibility": null,
            "width": "28px"
          }
        },
        "7e7f8549cbfb44f4a636598068d1de0a": {
          "model_module": "@jupyter-widgets/controls",
          "model_name": "DescriptionStyleModel",
          "model_module_version": "1.5.0",
          "state": {
            "_model_module": "@jupyter-widgets/controls",
            "_model_module_version": "1.5.0",
            "_model_name": "DescriptionStyleModel",
            "_view_count": null,
            "_view_module": "@jupyter-widgets/base",
            "_view_module_version": "1.2.0",
            "_view_name": "StyleView",
            "description_width": ""
          }
        },
        "c54979e69d114140af075182aa6a6c0c": {
          "model_module": "@jupyter-widgets/controls",
          "model_name": "ToggleButtonModel",
          "model_module_version": "1.5.0",
          "state": {
            "_dom_classes": [],
            "_model_module": "@jupyter-widgets/controls",
            "_model_module_version": "1.5.0",
            "_model_name": "ToggleButtonModel",
            "_view_count": null,
            "_view_module": "@jupyter-widgets/controls",
            "_view_module_version": "1.5.0",
            "_view_name": "ToggleButtonView",
            "button_style": "",
            "description": "",
            "description_tooltip": null,
            "disabled": false,
            "icon": "server",
            "layout": "IPY_MODEL_fec0b9534c5e45e198903e78c36d2701",
            "style": "IPY_MODEL_36799dba14fc415f8c57dbd71b002a8f",
            "tooltip": "Layers",
            "value": true
          }
        },
        "c15bc1a50c884ddca2b47d183316da6c": {
          "model_module": "@jupyter-widgets/controls",
          "model_name": "ToggleButtonModel",
          "model_module_version": "1.5.0",
          "state": {
            "_dom_classes": [],
            "_model_module": "@jupyter-widgets/controls",
            "_model_module_version": "1.5.0",
            "_model_name": "ToggleButtonModel",
            "_view_count": null,
            "_view_module": "@jupyter-widgets/controls",
            "_view_module_version": "1.5.0",
            "_view_name": "ToggleButtonView",
            "button_style": "",
            "description": "",
            "description_tooltip": null,
            "disabled": false,
            "icon": "wrench",
            "layout": "IPY_MODEL_8a5989b5770b4c778231ece78aa42ef3",
            "style": "IPY_MODEL_4aa33fcf85294442bd508320ea84abe5",
            "tooltip": "Toolbar",
            "value": false
          }
        },
        "87ad2d9feb8b4b57a101083e55ed16f3": {
          "model_module": "@jupyter-widgets/base",
          "model_name": "LayoutModel",
          "model_module_version": "1.2.0",
          "state": {
            "_model_module": "@jupyter-widgets/base",
            "_model_module_version": "1.2.0",
            "_model_name": "LayoutModel",
            "_view_count": null,
            "_view_module": "@jupyter-widgets/base",
            "_view_module_version": "1.2.0",
            "_view_name": "LayoutView",
            "align_content": null,
            "align_items": "center",
            "align_self": null,
            "border": null,
            "bottom": null,
            "display": "flex",
            "flex": null,
            "flex_flow": null,
            "grid_area": null,
            "grid_auto_columns": null,
            "grid_auto_flow": null,
            "grid_auto_rows": null,
            "grid_column": null,
            "grid_gap": null,
            "grid_row": null,
            "grid_template_areas": null,
            "grid_template_columns": null,
            "grid_template_rows": null,
            "height": null,
            "justify_content": "flex-end",
            "justify_items": null,
            "left": null,
            "margin": null,
            "max_height": null,
            "max_width": null,
            "min_height": null,
            "min_width": null,
            "object_fit": null,
            "object_position": null,
            "order": null,
            "overflow": null,
            "overflow_x": null,
            "overflow_y": null,
            "padding": null,
            "right": null,
            "top": null,
            "visibility": null,
            "width": null
          }
        },
        "dd2dfa3089ac4430be06f169b3dd0635": {
          "model_module": "@jupyter-widgets/controls",
          "model_name": "VBoxModel",
          "model_module_version": "1.5.0",
          "state": {
            "_dom_classes": [
              "geemap-colab"
            ],
            "_model_module": "@jupyter-widgets/controls",
            "_model_module_version": "1.5.0",
            "_model_name": "VBoxModel",
            "_view_count": null,
            "_view_module": "@jupyter-widgets/controls",
            "_view_module_version": "1.5.0",
            "_view_name": "VBoxView",
            "box_style": "",
            "children": [
              "IPY_MODEL_2253e694dc774453bf70abd64cbbb466",
              "IPY_MODEL_8907f50c8dfd43bea789f8bb8010bce6"
            ],
            "layout": "IPY_MODEL_638b9d95b0f5414b99241d8b02144865"
          }
        },
        "640a1de4cd034c10b2e9bc5c17f27097": {
          "model_module": "@jupyter-widgets/base",
          "model_name": "LayoutModel",
          "model_module_version": "1.2.0",
          "state": {
            "_model_module": "@jupyter-widgets/base",
            "_model_module_version": "1.2.0",
            "_model_name": "LayoutModel",
            "_view_count": null,
            "_view_module": "@jupyter-widgets/base",
            "_view_module_version": "1.2.0",
            "_view_name": "LayoutView",
            "align_content": null,
            "align_items": null,
            "align_self": null,
            "border": null,
            "bottom": null,
            "display": null,
            "flex": null,
            "flex_flow": null,
            "grid_area": null,
            "grid_auto_columns": null,
            "grid_auto_flow": null,
            "grid_auto_rows": null,
            "grid_column": null,
            "grid_gap": null,
            "grid_row": null,
            "grid_template_areas": null,
            "grid_template_columns": null,
            "grid_template_rows": null,
            "height": null,
            "justify_content": null,
            "justify_items": null,
            "left": null,
            "margin": null,
            "max_height": null,
            "max_width": null,
            "min_height": null,
            "min_width": null,
            "object_fit": null,
            "object_position": null,
            "order": null,
            "overflow": null,
            "overflow_x": null,
            "overflow_y": null,
            "padding": null,
            "right": null,
            "top": null,
            "visibility": null,
            "width": null
          }
        },
        "fec0b9534c5e45e198903e78c36d2701": {
          "model_module": "@jupyter-widgets/base",
          "model_name": "LayoutModel",
          "model_module_version": "1.2.0",
          "state": {
            "_model_module": "@jupyter-widgets/base",
            "_model_module_version": "1.2.0",
            "_model_name": "LayoutModel",
            "_view_count": null,
            "_view_module": "@jupyter-widgets/base",
            "_view_module_version": "1.2.0",
            "_view_name": "LayoutView",
            "align_content": null,
            "align_items": null,
            "align_self": null,
            "border": null,
            "bottom": null,
            "display": null,
            "flex": null,
            "flex_flow": null,
            "grid_area": null,
            "grid_auto_columns": null,
            "grid_auto_flow": null,
            "grid_auto_rows": null,
            "grid_column": null,
            "grid_gap": null,
            "grid_row": null,
            "grid_template_areas": null,
            "grid_template_columns": null,
            "grid_template_rows": null,
            "height": "28px",
            "justify_content": null,
            "justify_items": null,
            "left": null,
            "margin": null,
            "max_height": null,
            "max_width": null,
            "min_height": null,
            "min_width": null,
            "object_fit": null,
            "object_position": null,
            "order": null,
            "overflow": null,
            "overflow_x": null,
            "overflow_y": null,
            "padding": null,
            "right": null,
            "top": null,
            "visibility": null,
            "width": "72px"
          }
        },
        "36799dba14fc415f8c57dbd71b002a8f": {
          "model_module": "@jupyter-widgets/controls",
          "model_name": "DescriptionStyleModel",
          "model_module_version": "1.5.0",
          "state": {
            "_model_module": "@jupyter-widgets/controls",
            "_model_module_version": "1.5.0",
            "_model_name": "DescriptionStyleModel",
            "_view_count": null,
            "_view_module": "@jupyter-widgets/base",
            "_view_module_version": "1.2.0",
            "_view_name": "StyleView",
            "description_width": ""
          }
        },
        "8a5989b5770b4c778231ece78aa42ef3": {
          "model_module": "@jupyter-widgets/base",
          "model_name": "LayoutModel",
          "model_module_version": "1.2.0",
          "state": {
            "_model_module": "@jupyter-widgets/base",
            "_model_module_version": "1.2.0",
            "_model_name": "LayoutModel",
            "_view_count": null,
            "_view_module": "@jupyter-widgets/base",
            "_view_module_version": "1.2.0",
            "_view_name": "LayoutView",
            "align_content": null,
            "align_items": null,
            "align_self": null,
            "border": null,
            "bottom": null,
            "display": null,
            "flex": null,
            "flex_flow": null,
            "grid_area": null,
            "grid_auto_columns": null,
            "grid_auto_flow": null,
            "grid_auto_rows": null,
            "grid_column": null,
            "grid_gap": null,
            "grid_row": null,
            "grid_template_areas": null,
            "grid_template_columns": null,
            "grid_template_rows": null,
            "height": "28px",
            "justify_content": null,
            "justify_items": null,
            "left": null,
            "margin": null,
            "max_height": null,
            "max_width": null,
            "min_height": null,
            "min_width": null,
            "object_fit": null,
            "object_position": null,
            "order": null,
            "overflow": null,
            "overflow_x": null,
            "overflow_y": null,
            "padding": "0px 0px 0px 4px",
            "right": null,
            "top": null,
            "visibility": null,
            "width": "28px"
          }
        },
        "4aa33fcf85294442bd508320ea84abe5": {
          "model_module": "@jupyter-widgets/controls",
          "model_name": "DescriptionStyleModel",
          "model_module_version": "1.5.0",
          "state": {
            "_model_module": "@jupyter-widgets/controls",
            "_model_module_version": "1.5.0",
            "_model_name": "DescriptionStyleModel",
            "_view_count": null,
            "_view_module": "@jupyter-widgets/base",
            "_view_module_version": "1.2.0",
            "_view_name": "StyleView",
            "description_width": ""
          }
        },
        "2253e694dc774453bf70abd64cbbb466": {
          "model_module": "@jupyter-widgets/controls",
          "model_name": "HBoxModel",
          "model_module_version": "1.5.0",
          "state": {
            "_dom_classes": [],
            "_model_module": "@jupyter-widgets/controls",
            "_model_module_version": "1.5.0",
            "_model_name": "HBoxModel",
            "_view_count": null,
            "_view_module": "@jupyter-widgets/controls",
            "_view_module_version": "1.5.0",
            "_view_name": "HBoxView",
            "box_style": "",
            "children": [
              "IPY_MODEL_48d45d4f8fa4493cb54996063efbc75b",
              "IPY_MODEL_7da8ddbb26e848248a82c91cc2ebcfa0"
            ],
            "layout": "IPY_MODEL_9c6ad59a3daf4999a3936258b1620df3"
          }
        },
        "8907f50c8dfd43bea789f8bb8010bce6": {
          "model_module": "@jupyter-widgets/controls",
          "model_name": "VBoxModel",
          "model_module_version": "1.5.0",
          "state": {
            "_dom_classes": [],
            "_model_module": "@jupyter-widgets/controls",
            "_model_module_version": "1.5.0",
            "_model_name": "VBoxModel",
            "_view_count": null,
            "_view_module": "@jupyter-widgets/controls",
            "_view_module_version": "1.5.0",
            "_view_name": "VBoxView",
            "box_style": "",
            "children": [
              "IPY_MODEL_43b8363d90d042c69a3916eb4120e456",
              "IPY_MODEL_eef1761466df41fda4b62f16ca00f9ee",
              "IPY_MODEL_0c649e418b114a83802a88e109093df0",
              "IPY_MODEL_268e604cc64f40358a06d509dbc80c7d"
            ],
            "layout": "IPY_MODEL_90b6ed82cec742858fb0c998e980f89a"
          }
        },
        "638b9d95b0f5414b99241d8b02144865": {
          "model_module": "@jupyter-widgets/base",
          "model_name": "LayoutModel",
          "model_module_version": "1.2.0",
          "state": {
            "_model_module": "@jupyter-widgets/base",
            "_model_module_version": "1.2.0",
            "_model_name": "LayoutModel",
            "_view_count": null,
            "_view_module": "@jupyter-widgets/base",
            "_view_module_version": "1.2.0",
            "_view_name": "LayoutView",
            "align_content": null,
            "align_items": null,
            "align_self": null,
            "border": null,
            "bottom": null,
            "display": null,
            "flex": null,
            "flex_flow": null,
            "grid_area": null,
            "grid_auto_columns": null,
            "grid_auto_flow": null,
            "grid_auto_rows": null,
            "grid_column": null,
            "grid_gap": null,
            "grid_row": null,
            "grid_template_areas": null,
            "grid_template_columns": null,
            "grid_template_rows": null,
            "height": null,
            "justify_content": null,
            "justify_items": null,
            "left": null,
            "margin": null,
            "max_height": null,
            "max_width": null,
            "min_height": null,
            "min_width": null,
            "object_fit": null,
            "object_position": null,
            "order": null,
            "overflow": null,
            "overflow_x": null,
            "overflow_y": null,
            "padding": null,
            "right": null,
            "top": null,
            "visibility": null,
            "width": null
          }
        },
        "48d45d4f8fa4493cb54996063efbc75b": {
          "model_module": "@jupyter-widgets/controls",
          "model_name": "ButtonModel",
          "model_module_version": "1.5.0",
          "state": {
            "_dom_classes": [],
            "_model_module": "@jupyter-widgets/controls",
            "_model_module_version": "1.5.0",
            "_model_name": "ButtonModel",
            "_view_count": null,
            "_view_module": "@jupyter-widgets/controls",
            "_view_module_version": "1.5.0",
            "_view_name": "ButtonView",
            "button_style": "primary",
            "description": "",
            "disabled": false,
            "icon": "times",
            "layout": "IPY_MODEL_5b67586d6f984c54ba9ef96133f8f30b",
            "style": "IPY_MODEL_eaeec1dfadf344e38dc857ae31ba644b",
            "tooltip": "Close the tool"
          }
        },
        "7da8ddbb26e848248a82c91cc2ebcfa0": {
          "model_module": "@jupyter-widgets/controls",
          "model_name": "ToggleButtonModel",
          "model_module_version": "1.5.0",
          "state": {
            "_dom_classes": [],
            "_model_module": "@jupyter-widgets/controls",
            "_model_module_version": "1.5.0",
            "_model_name": "ToggleButtonModel",
            "_view_count": null,
            "_view_module": "@jupyter-widgets/controls",
            "_view_module_version": "1.5.0",
            "_view_name": "ToggleButtonView",
            "button_style": "",
            "description": "",
            "description_tooltip": null,
            "disabled": false,
            "icon": "server",
            "layout": "IPY_MODEL_4f407213b8f0418c8cce8780ebae6a78",
            "style": "IPY_MODEL_339e6534c2ab4ef683356761d38c2f04",
            "tooltip": "Layer Manager",
            "value": true
          }
        },
        "9c6ad59a3daf4999a3936258b1620df3": {
          "model_module": "@jupyter-widgets/base",
          "model_name": "LayoutModel",
          "model_module_version": "1.2.0",
          "state": {
            "_model_module": "@jupyter-widgets/base",
            "_model_module_version": "1.2.0",
            "_model_name": "LayoutModel",
            "_view_count": null,
            "_view_module": "@jupyter-widgets/base",
            "_view_module_version": "1.2.0",
            "_view_name": "LayoutView",
            "align_content": null,
            "align_items": null,
            "align_self": null,
            "border": null,
            "bottom": null,
            "display": "none",
            "flex": null,
            "flex_flow": null,
            "grid_area": null,
            "grid_auto_columns": null,
            "grid_auto_flow": null,
            "grid_auto_rows": null,
            "grid_column": null,
            "grid_gap": null,
            "grid_row": null,
            "grid_template_areas": null,
            "grid_template_columns": null,
            "grid_template_rows": null,
            "height": null,
            "justify_content": null,
            "justify_items": null,
            "left": null,
            "margin": null,
            "max_height": null,
            "max_width": null,
            "min_height": null,
            "min_width": null,
            "object_fit": null,
            "object_position": null,
            "order": null,
            "overflow": null,
            "overflow_x": null,
            "overflow_y": null,
            "padding": null,
            "right": null,
            "top": null,
            "visibility": null,
            "width": null
          }
        },
        "43b8363d90d042c69a3916eb4120e456": {
          "model_module": "@jupyter-widgets/controls",
          "model_name": "CheckboxModel",
          "model_module_version": "1.5.0",
          "state": {
            "_dom_classes": [],
            "_model_module": "@jupyter-widgets/controls",
            "_model_module_version": "1.5.0",
            "_model_name": "CheckboxModel",
            "_view_count": null,
            "_view_module": "@jupyter-widgets/controls",
            "_view_module_version": "1.5.0",
            "_view_name": "CheckboxView",
            "description": "All layers on/off",
            "description_tooltip": null,
            "disabled": false,
            "indent": false,
            "layout": "IPY_MODEL_bbb65a7ba63f42f2b9b36fa61b6b024a",
            "style": "IPY_MODEL_5c0cc1db798e49dca669b95bbf5e7670",
            "value": false
          }
        },
        "eef1761466df41fda4b62f16ca00f9ee": {
          "model_module": "@jupyter-widgets/controls",
          "model_name": "HBoxModel",
          "model_module_version": "1.5.0",
          "state": {
            "_dom_classes": [],
            "_model_module": "@jupyter-widgets/controls",
            "_model_module_version": "1.5.0",
            "_model_name": "HBoxModel",
            "_view_count": null,
            "_view_module": "@jupyter-widgets/controls",
            "_view_module_version": "1.5.0",
            "_view_name": "HBoxView",
            "box_style": "",
            "children": [
              "IPY_MODEL_6b00e7944bcf4a19841cc76e7ef5a479",
              "IPY_MODEL_e41929fd0c154c9aad2178e25f459130",
              "IPY_MODEL_c1163ff8d25e42069e700d7a240502fd",
              "IPY_MODEL_c724bfcd0d764c95baa8801494ef9d7a"
            ],
            "layout": "IPY_MODEL_f7cdca0420a24bbfadd1cd97223acd5e"
          }
        },
        "0c649e418b114a83802a88e109093df0": {
          "model_module": "@jupyter-widgets/controls",
          "model_name": "HBoxModel",
          "model_module_version": "1.5.0",
          "state": {
            "_dom_classes": [],
            "_model_module": "@jupyter-widgets/controls",
            "_model_module_version": "1.5.0",
            "_model_name": "HBoxModel",
            "_view_count": null,
            "_view_module": "@jupyter-widgets/controls",
            "_view_module_version": "1.5.0",
            "_view_name": "HBoxView",
            "box_style": "",
            "children": [
              "IPY_MODEL_63286b7f13224fafa2bb92baa6b2d428",
              "IPY_MODEL_99b46b7f39c84432b2cb74e3bdb5aa52",
              "IPY_MODEL_8bf23df8228841c7993307cb99b2eef4",
              "IPY_MODEL_d40131dc59724706a9400e5702a5a4d9"
            ],
            "layout": "IPY_MODEL_d90ce048d41e465992b5572daca46b9d"
          }
        },
        "268e604cc64f40358a06d509dbc80c7d": {
          "model_module": "@jupyter-widgets/controls",
          "model_name": "HBoxModel",
          "model_module_version": "1.5.0",
          "state": {
            "_dom_classes": [],
            "_model_module": "@jupyter-widgets/controls",
            "_model_module_version": "1.5.0",
            "_model_name": "HBoxModel",
            "_view_count": null,
            "_view_module": "@jupyter-widgets/controls",
            "_view_module_version": "1.5.0",
            "_view_name": "HBoxView",
            "box_style": "",
            "children": [
              "IPY_MODEL_838ba579b3d04e3eb6488c8eb5d78889",
              "IPY_MODEL_49af4de22479478db91c753697b4025e",
              "IPY_MODEL_036944cdc5184bd19cb8ced9aa6fddd1",
              "IPY_MODEL_bf3d78c778b44c4cb110f49f542f3d97"
            ],
            "layout": "IPY_MODEL_67fec7a8dcef4e1badd9b1af8a2ca5ea"
          }
        },
        "90b6ed82cec742858fb0c998e980f89a": {
          "model_module": "@jupyter-widgets/base",
          "model_name": "LayoutModel",
          "model_module_version": "1.2.0",
          "state": {
            "_model_module": "@jupyter-widgets/base",
            "_model_module_version": "1.2.0",
            "_model_name": "LayoutModel",
            "_view_count": null,
            "_view_module": "@jupyter-widgets/base",
            "_view_module_version": "1.2.0",
            "_view_name": "LayoutView",
            "align_content": null,
            "align_items": null,
            "align_self": null,
            "border": null,
            "bottom": null,
            "display": null,
            "flex": null,
            "flex_flow": null,
            "grid_area": null,
            "grid_auto_columns": null,
            "grid_auto_flow": null,
            "grid_auto_rows": null,
            "grid_column": null,
            "grid_gap": null,
            "grid_row": null,
            "grid_template_areas": null,
            "grid_template_columns": null,
            "grid_template_rows": null,
            "height": null,
            "justify_content": null,
            "justify_items": null,
            "left": null,
            "margin": null,
            "max_height": null,
            "max_width": null,
            "min_height": null,
            "min_width": null,
            "object_fit": null,
            "object_position": null,
            "order": null,
            "overflow": null,
            "overflow_x": null,
            "overflow_y": null,
            "padding": null,
            "right": null,
            "top": null,
            "visibility": null,
            "width": null
          }
        },
        "5b67586d6f984c54ba9ef96133f8f30b": {
          "model_module": "@jupyter-widgets/base",
          "model_name": "LayoutModel",
          "model_module_version": "1.2.0",
          "state": {
            "_model_module": "@jupyter-widgets/base",
            "_model_module_version": "1.2.0",
            "_model_name": "LayoutModel",
            "_view_count": null,
            "_view_module": "@jupyter-widgets/base",
            "_view_module_version": "1.2.0",
            "_view_name": "LayoutView",
            "align_content": null,
            "align_items": null,
            "align_self": null,
            "border": null,
            "bottom": null,
            "display": null,
            "flex": null,
            "flex_flow": null,
            "grid_area": null,
            "grid_auto_columns": null,
            "grid_auto_flow": null,
            "grid_auto_rows": null,
            "grid_column": null,
            "grid_gap": null,
            "grid_row": null,
            "grid_template_areas": null,
            "grid_template_columns": null,
            "grid_template_rows": null,
            "height": "28px",
            "justify_content": null,
            "justify_items": null,
            "left": null,
            "margin": null,
            "max_height": null,
            "max_width": null,
            "min_height": null,
            "min_width": null,
            "object_fit": null,
            "object_position": null,
            "order": null,
            "overflow": null,
            "overflow_x": null,
            "overflow_y": null,
            "padding": "0px",
            "right": null,
            "top": null,
            "visibility": null,
            "width": "28px"
          }
        },
        "eaeec1dfadf344e38dc857ae31ba644b": {
          "model_module": "@jupyter-widgets/controls",
          "model_name": "ButtonStyleModel",
          "model_module_version": "1.5.0",
          "state": {
            "_model_module": "@jupyter-widgets/controls",
            "_model_module_version": "1.5.0",
            "_model_name": "ButtonStyleModel",
            "_view_count": null,
            "_view_module": "@jupyter-widgets/base",
            "_view_module_version": "1.2.0",
            "_view_name": "StyleView",
            "button_color": null,
            "font_weight": ""
          }
        },
        "4f407213b8f0418c8cce8780ebae6a78": {
          "model_module": "@jupyter-widgets/base",
          "model_name": "LayoutModel",
          "model_module_version": "1.2.0",
          "state": {
            "_model_module": "@jupyter-widgets/base",
            "_model_module_version": "1.2.0",
            "_model_name": "LayoutModel",
            "_view_count": null,
            "_view_module": "@jupyter-widgets/base",
            "_view_module_version": "1.2.0",
            "_view_name": "LayoutView",
            "align_content": null,
            "align_items": null,
            "align_self": null,
            "border": null,
            "bottom": null,
            "display": null,
            "flex": null,
            "flex_flow": null,
            "grid_area": null,
            "grid_auto_columns": null,
            "grid_auto_flow": null,
            "grid_auto_rows": null,
            "grid_column": null,
            "grid_gap": null,
            "grid_row": null,
            "grid_template_areas": null,
            "grid_template_columns": null,
            "grid_template_rows": null,
            "height": "28px",
            "justify_content": null,
            "justify_items": null,
            "left": null,
            "margin": null,
            "max_height": null,
            "max_width": null,
            "min_height": null,
            "min_width": null,
            "object_fit": null,
            "object_position": null,
            "order": null,
            "overflow": null,
            "overflow_x": null,
            "overflow_y": null,
            "padding": "0px 0px 0px 4px",
            "right": null,
            "top": null,
            "visibility": null,
            "width": "28px"
          }
        },
        "339e6534c2ab4ef683356761d38c2f04": {
          "model_module": "@jupyter-widgets/controls",
          "model_name": "DescriptionStyleModel",
          "model_module_version": "1.5.0",
          "state": {
            "_model_module": "@jupyter-widgets/controls",
            "_model_module_version": "1.5.0",
            "_model_name": "DescriptionStyleModel",
            "_view_count": null,
            "_view_module": "@jupyter-widgets/base",
            "_view_module_version": "1.2.0",
            "_view_name": "StyleView",
            "description_width": ""
          }
        },
        "bbb65a7ba63f42f2b9b36fa61b6b024a": {
          "model_module": "@jupyter-widgets/base",
          "model_name": "LayoutModel",
          "model_module_version": "1.2.0",
          "state": {
            "_model_module": "@jupyter-widgets/base",
            "_model_module_version": "1.2.0",
            "_model_name": "LayoutModel",
            "_view_count": null,
            "_view_module": "@jupyter-widgets/base",
            "_view_module_version": "1.2.0",
            "_view_name": "LayoutView",
            "align_content": null,
            "align_items": null,
            "align_self": null,
            "border": null,
            "bottom": null,
            "display": null,
            "flex": null,
            "flex_flow": null,
            "grid_area": null,
            "grid_auto_columns": null,
            "grid_auto_flow": null,
            "grid_auto_rows": null,
            "grid_column": null,
            "grid_gap": null,
            "grid_row": null,
            "grid_template_areas": null,
            "grid_template_columns": null,
            "grid_template_rows": null,
            "height": "18px",
            "justify_content": null,
            "justify_items": null,
            "left": null,
            "margin": null,
            "max_height": null,
            "max_width": null,
            "min_height": null,
            "min_width": null,
            "object_fit": null,
            "object_position": null,
            "order": null,
            "overflow": null,
            "overflow_x": null,
            "overflow_y": null,
            "padding": "0px 4px 25px 4px",
            "right": null,
            "top": null,
            "visibility": null,
            "width": "30ex"
          }
        },
        "5c0cc1db798e49dca669b95bbf5e7670": {
          "model_module": "@jupyter-widgets/controls",
          "model_name": "DescriptionStyleModel",
          "model_module_version": "1.5.0",
          "state": {
            "_model_module": "@jupyter-widgets/controls",
            "_model_module_version": "1.5.0",
            "_model_name": "DescriptionStyleModel",
            "_view_count": null,
            "_view_module": "@jupyter-widgets/base",
            "_view_module_version": "1.2.0",
            "_view_name": "StyleView",
            "description_width": ""
          }
        },
        "6b00e7944bcf4a19841cc76e7ef5a479": {
          "model_module": "@jupyter-widgets/controls",
          "model_name": "CheckboxModel",
          "model_module_version": "1.5.0",
          "state": {
            "_dom_classes": [],
            "_model_module": "@jupyter-widgets/controls",
            "_model_module_version": "1.5.0",
            "_model_name": "CheckboxModel",
            "_view_count": null,
            "_view_module": "@jupyter-widgets/controls",
            "_view_module_version": "1.5.0",
            "_view_name": "CheckboxView",
            "description": "OpenStreetMap.Mapnik",
            "description_tooltip": null,
            "disabled": false,
            "indent": false,
            "layout": "IPY_MODEL_e176fa1595bc4cd68056e3bac1572cbe",
            "style": "IPY_MODEL_d8ce70f8e65e48cf992b8bba9f13ea5a",
            "value": true
          }
        },
        "e41929fd0c154c9aad2178e25f459130": {
          "model_module": "@jupyter-widgets/controls",
          "model_name": "FloatSliderModel",
          "model_module_version": "1.5.0",
          "state": {
            "_dom_classes": [],
            "_model_module": "@jupyter-widgets/controls",
            "_model_module_version": "1.5.0",
            "_model_name": "FloatSliderModel",
            "_view_count": null,
            "_view_module": "@jupyter-widgets/controls",
            "_view_module_version": "1.5.0",
            "_view_name": "FloatSliderView",
            "continuous_update": true,
            "description": "",
            "description_tooltip": null,
            "disabled": false,
            "layout": "IPY_MODEL_7a390348547e4caba9dea26cefc07790",
            "max": 1,
            "min": 0,
            "orientation": "horizontal",
            "readout": false,
            "readout_format": ".2f",
            "step": 0.01,
            "style": "IPY_MODEL_4f838d7af57540eda8eaa3c3fe771bb6",
            "value": 1
          }
        },
        "c1163ff8d25e42069e700d7a240502fd": {
          "model_module": "@jupyter-widgets/controls",
          "model_name": "ButtonModel",
          "model_module_version": "1.5.0",
          "state": {
            "_dom_classes": [],
            "_model_module": "@jupyter-widgets/controls",
            "_model_module_version": "1.5.0",
            "_model_name": "ButtonModel",
            "_view_count": null,
            "_view_module": "@jupyter-widgets/controls",
            "_view_module_version": "1.5.0",
            "_view_name": "ButtonView",
            "button_style": "",
            "description": "",
            "disabled": false,
            "icon": "gear",
            "layout": "IPY_MODEL_1c59eb107be94fcf91af35c4b5c73c16",
            "style": "IPY_MODEL_4236b71df1a84db8ababdec9805711a9",
            "tooltip": "OpenStreetMap.Mapnik"
          }
        },
        "c724bfcd0d764c95baa8801494ef9d7a": {
          "model_module": "@jupyter-widgets/controls",
          "model_name": "ButtonModel",
          "model_module_version": "1.5.0",
          "state": {
            "_dom_classes": [],
            "_model_module": "@jupyter-widgets/controls",
            "_model_module_version": "1.5.0",
            "_model_name": "ButtonModel",
            "_view_count": null,
            "_view_module": "@jupyter-widgets/controls",
            "_view_module_version": "1.5.0",
            "_view_name": "ButtonView",
            "button_style": "",
            "description": "",
            "disabled": false,
            "icon": "spinner spin lg",
            "layout": "IPY_MODEL_fd6a36abadfc412492f7fd1a38f3c8d2",
            "style": "IPY_MODEL_f2da4c1754884206bcb3d4c80d83921f",
            "tooltip": "Loading ..."
          }
        },
        "f7cdca0420a24bbfadd1cd97223acd5e": {
          "model_module": "@jupyter-widgets/base",
          "model_name": "LayoutModel",
          "model_module_version": "1.2.0",
          "state": {
            "_model_module": "@jupyter-widgets/base",
            "_model_module_version": "1.2.0",
            "_model_name": "LayoutModel",
            "_view_count": null,
            "_view_module": "@jupyter-widgets/base",
            "_view_module_version": "1.2.0",
            "_view_name": "LayoutView",
            "align_content": null,
            "align_items": null,
            "align_self": null,
            "border": null,
            "bottom": null,
            "display": null,
            "flex": null,
            "flex_flow": null,
            "grid_area": null,
            "grid_auto_columns": null,
            "grid_auto_flow": null,
            "grid_auto_rows": null,
            "grid_column": null,
            "grid_gap": null,
            "grid_row": null,
            "grid_template_areas": null,
            "grid_template_columns": null,
            "grid_template_rows": null,
            "height": null,
            "justify_content": null,
            "justify_items": null,
            "left": null,
            "margin": null,
            "max_height": null,
            "max_width": null,
            "min_height": null,
            "min_width": null,
            "object_fit": null,
            "object_position": null,
            "order": null,
            "overflow": null,
            "overflow_x": null,
            "overflow_y": null,
            "padding": "0px 4px 0px 4px",
            "right": null,
            "top": null,
            "visibility": null,
            "width": null
          }
        },
        "63286b7f13224fafa2bb92baa6b2d428": {
          "model_module": "@jupyter-widgets/controls",
          "model_name": "CheckboxModel",
          "model_module_version": "1.5.0",
          "state": {
            "_dom_classes": [],
            "_model_module": "@jupyter-widgets/controls",
            "_model_module_version": "1.5.0",
            "_model_name": "CheckboxModel",
            "_view_count": null,
            "_view_module": "@jupyter-widgets/controls",
            "_view_module_version": "1.5.0",
            "_view_name": "CheckboxView",
            "description": "AOI",
            "description_tooltip": null,
            "disabled": false,
            "indent": false,
            "layout": "IPY_MODEL_55199077accf4f03b4fec22f466d6436",
            "style": "IPY_MODEL_7e761c5712f64abb87942b90720d9a72",
            "value": true
          }
        },
        "99b46b7f39c84432b2cb74e3bdb5aa52": {
          "model_module": "@jupyter-widgets/controls",
          "model_name": "FloatSliderModel",
          "model_module_version": "1.5.0",
          "state": {
            "_dom_classes": [],
            "_model_module": "@jupyter-widgets/controls",
            "_model_module_version": "1.5.0",
            "_model_name": "FloatSliderModel",
            "_view_count": null,
            "_view_module": "@jupyter-widgets/controls",
            "_view_module_version": "1.5.0",
            "_view_name": "FloatSliderView",
            "continuous_update": true,
            "description": "",
            "description_tooltip": null,
            "disabled": false,
            "layout": "IPY_MODEL_fa7d10c4e33d4ecda2144c375d4ad030",
            "max": 1,
            "min": 0,
            "orientation": "horizontal",
            "readout": false,
            "readout_format": ".2f",
            "step": 0.01,
            "style": "IPY_MODEL_215669370ef94154b60ddb2e5433f3c1",
            "value": 1
          }
        },
        "8bf23df8228841c7993307cb99b2eef4": {
          "model_module": "@jupyter-widgets/controls",
          "model_name": "ButtonModel",
          "model_module_version": "1.5.0",
          "state": {
            "_dom_classes": [],
            "_model_module": "@jupyter-widgets/controls",
            "_model_module_version": "1.5.0",
            "_model_name": "ButtonModel",
            "_view_count": null,
            "_view_module": "@jupyter-widgets/controls",
            "_view_module_version": "1.5.0",
            "_view_name": "ButtonView",
            "button_style": "",
            "description": "",
            "disabled": false,
            "icon": "gear",
            "layout": "IPY_MODEL_2910dcb4cf7e4c5b84d8b872ba117d81",
            "style": "IPY_MODEL_7ec299d9015a4985ad412964d63521e8",
            "tooltip": "AOI"
          }
        },
        "d40131dc59724706a9400e5702a5a4d9": {
          "model_module": "@jupyter-widgets/controls",
          "model_name": "ButtonModel",
          "model_module_version": "1.5.0",
          "state": {
            "_dom_classes": [],
            "_model_module": "@jupyter-widgets/controls",
            "_model_module_version": "1.5.0",
            "_model_name": "ButtonModel",
            "_view_count": null,
            "_view_module": "@jupyter-widgets/controls",
            "_view_module_version": "1.5.0",
            "_view_name": "ButtonView",
            "button_style": "",
            "description": "",
            "disabled": false,
            "icon": "spinner spin lg",
            "layout": "IPY_MODEL_09183a5ade584d1d9aeb7cc78eeeaa2b",
            "style": "IPY_MODEL_88ba54d04ede4d57914fb29c19371f4b",
            "tooltip": "Loading ..."
          }
        },
        "d90ce048d41e465992b5572daca46b9d": {
          "model_module": "@jupyter-widgets/base",
          "model_name": "LayoutModel",
          "model_module_version": "1.2.0",
          "state": {
            "_model_module": "@jupyter-widgets/base",
            "_model_module_version": "1.2.0",
            "_model_name": "LayoutModel",
            "_view_count": null,
            "_view_module": "@jupyter-widgets/base",
            "_view_module_version": "1.2.0",
            "_view_name": "LayoutView",
            "align_content": null,
            "align_items": null,
            "align_self": null,
            "border": null,
            "bottom": null,
            "display": null,
            "flex": null,
            "flex_flow": null,
            "grid_area": null,
            "grid_auto_columns": null,
            "grid_auto_flow": null,
            "grid_auto_rows": null,
            "grid_column": null,
            "grid_gap": null,
            "grid_row": null,
            "grid_template_areas": null,
            "grid_template_columns": null,
            "grid_template_rows": null,
            "height": null,
            "justify_content": null,
            "justify_items": null,
            "left": null,
            "margin": null,
            "max_height": null,
            "max_width": null,
            "min_height": null,
            "min_width": null,
            "object_fit": null,
            "object_position": null,
            "order": null,
            "overflow": null,
            "overflow_x": null,
            "overflow_y": null,
            "padding": "0px 4px 0px 4px",
            "right": null,
            "top": null,
            "visibility": null,
            "width": null
          }
        },
        "838ba579b3d04e3eb6488c8eb5d78889": {
          "model_module": "@jupyter-widgets/controls",
          "model_name": "CheckboxModel",
          "model_module_version": "1.5.0",
          "state": {
            "_dom_classes": [],
            "_model_module": "@jupyter-widgets/controls",
            "_model_module_version": "1.5.0",
            "_model_name": "CheckboxModel",
            "_view_count": null,
            "_view_module": "@jupyter-widgets/controls",
            "_view_module_version": "1.5.0",
            "_view_name": "CheckboxView",
            "description": "Newzones",
            "description_tooltip": null,
            "disabled": false,
            "indent": false,
            "layout": "IPY_MODEL_ad848a5be54746c298f414bcaa4dc3dc",
            "style": "IPY_MODEL_61f0f3898e2c4ded8d88c8f2f0668452",
            "value": true
          }
        },
        "49af4de22479478db91c753697b4025e": {
          "model_module": "@jupyter-widgets/controls",
          "model_name": "FloatSliderModel",
          "model_module_version": "1.5.0",
          "state": {
            "_dom_classes": [],
            "_model_module": "@jupyter-widgets/controls",
            "_model_module_version": "1.5.0",
            "_model_name": "FloatSliderModel",
            "_view_count": null,
            "_view_module": "@jupyter-widgets/controls",
            "_view_module_version": "1.5.0",
            "_view_name": "FloatSliderView",
            "continuous_update": true,
            "description": "",
            "description_tooltip": null,
            "disabled": false,
            "layout": "IPY_MODEL_1c483082c8d0457b8e76f5bd2b97761b",
            "max": 1,
            "min": 0,
            "orientation": "horizontal",
            "readout": false,
            "readout_format": ".2f",
            "step": 0.01,
            "style": "IPY_MODEL_c5f151febf0043a4a405ff0ffe1ded23",
            "value": 1
          }
        },
        "036944cdc5184bd19cb8ced9aa6fddd1": {
          "model_module": "@jupyter-widgets/controls",
          "model_name": "ButtonModel",
          "model_module_version": "1.5.0",
          "state": {
            "_dom_classes": [],
            "_model_module": "@jupyter-widgets/controls",
            "_model_module_version": "1.5.0",
            "_model_name": "ButtonModel",
            "_view_count": null,
            "_view_module": "@jupyter-widgets/controls",
            "_view_module_version": "1.5.0",
            "_view_name": "ButtonView",
            "button_style": "",
            "description": "",
            "disabled": false,
            "icon": "gear",
            "layout": "IPY_MODEL_d20b5f4096244fb5a3d00ccb15bb3681",
            "style": "IPY_MODEL_a480e02d517c47b99ea9b722a73804e5",
            "tooltip": "Newzones"
          }
        },
        "bf3d78c778b44c4cb110f49f542f3d97": {
          "model_module": "@jupyter-widgets/controls",
          "model_name": "ButtonModel",
          "model_module_version": "1.5.0",
          "state": {
            "_dom_classes": [],
            "_model_module": "@jupyter-widgets/controls",
            "_model_module_version": "1.5.0",
            "_model_name": "ButtonModel",
            "_view_count": null,
            "_view_module": "@jupyter-widgets/controls",
            "_view_module_version": "1.5.0",
            "_view_name": "ButtonView",
            "button_style": "",
            "description": "",
            "disabled": false,
            "icon": "spinner spin lg",
            "layout": "IPY_MODEL_45f42d42d75d4544a2c6f867090864fe",
            "style": "IPY_MODEL_b7e972b364a14e3dbdbdd5afb0c7762b",
            "tooltip": "Loading ..."
          }
        },
        "67fec7a8dcef4e1badd9b1af8a2ca5ea": {
          "model_module": "@jupyter-widgets/base",
          "model_name": "LayoutModel",
          "model_module_version": "1.2.0",
          "state": {
            "_model_module": "@jupyter-widgets/base",
            "_model_module_version": "1.2.0",
            "_model_name": "LayoutModel",
            "_view_count": null,
            "_view_module": "@jupyter-widgets/base",
            "_view_module_version": "1.2.0",
            "_view_name": "LayoutView",
            "align_content": null,
            "align_items": null,
            "align_self": null,
            "border": null,
            "bottom": null,
            "display": null,
            "flex": null,
            "flex_flow": null,
            "grid_area": null,
            "grid_auto_columns": null,
            "grid_auto_flow": null,
            "grid_auto_rows": null,
            "grid_column": null,
            "grid_gap": null,
            "grid_row": null,
            "grid_template_areas": null,
            "grid_template_columns": null,
            "grid_template_rows": null,
            "height": null,
            "justify_content": null,
            "justify_items": null,
            "left": null,
            "margin": null,
            "max_height": null,
            "max_width": null,
            "min_height": null,
            "min_width": null,
            "object_fit": null,
            "object_position": null,
            "order": null,
            "overflow": null,
            "overflow_x": null,
            "overflow_y": null,
            "padding": "0px 4px 0px 4px",
            "right": null,
            "top": null,
            "visibility": null,
            "width": null
          }
        },
        "e176fa1595bc4cd68056e3bac1572cbe": {
          "model_module": "@jupyter-widgets/base",
          "model_name": "LayoutModel",
          "model_module_version": "1.2.0",
          "state": {
            "_model_module": "@jupyter-widgets/base",
            "_model_module_version": "1.2.0",
            "_model_name": "LayoutModel",
            "_view_count": null,
            "_view_module": "@jupyter-widgets/base",
            "_view_module_version": "1.2.0",
            "_view_name": "LayoutView",
            "align_content": null,
            "align_items": null,
            "align_self": null,
            "border": null,
            "bottom": null,
            "display": null,
            "flex": null,
            "flex_flow": null,
            "grid_area": null,
            "grid_auto_columns": null,
            "grid_auto_flow": null,
            "grid_auto_rows": null,
            "grid_column": null,
            "grid_gap": null,
            "grid_row": null,
            "grid_template_areas": null,
            "grid_template_columns": null,
            "grid_template_rows": null,
            "height": "18px",
            "justify_content": null,
            "justify_items": null,
            "left": null,
            "margin": null,
            "max_height": null,
            "max_width": null,
            "min_height": null,
            "min_width": null,
            "object_fit": null,
            "object_position": null,
            "order": null,
            "overflow": null,
            "overflow_x": null,
            "overflow_y": null,
            "padding": null,
            "right": null,
            "top": null,
            "visibility": null,
            "width": "140px"
          }
        },
        "d8ce70f8e65e48cf992b8bba9f13ea5a": {
          "model_module": "@jupyter-widgets/controls",
          "model_name": "DescriptionStyleModel",
          "model_module_version": "1.5.0",
          "state": {
            "_model_module": "@jupyter-widgets/controls",
            "_model_module_version": "1.5.0",
            "_model_name": "DescriptionStyleModel",
            "_view_count": null,
            "_view_module": "@jupyter-widgets/base",
            "_view_module_version": "1.2.0",
            "_view_name": "StyleView",
            "description_width": ""
          }
        },
        "7a390348547e4caba9dea26cefc07790": {
          "model_module": "@jupyter-widgets/base",
          "model_name": "LayoutModel",
          "model_module_version": "1.2.0",
          "state": {
            "_model_module": "@jupyter-widgets/base",
            "_model_module_version": "1.2.0",
            "_model_name": "LayoutModel",
            "_view_count": null,
            "_view_module": "@jupyter-widgets/base",
            "_view_module_version": "1.2.0",
            "_view_name": "LayoutView",
            "align_content": null,
            "align_items": null,
            "align_self": null,
            "border": null,
            "bottom": null,
            "display": null,
            "flex": null,
            "flex_flow": null,
            "grid_area": null,
            "grid_auto_columns": null,
            "grid_auto_flow": null,
            "grid_auto_rows": null,
            "grid_column": null,
            "grid_gap": null,
            "grid_row": null,
            "grid_template_areas": null,
            "grid_template_columns": null,
            "grid_template_rows": null,
            "height": null,
            "justify_content": null,
            "justify_items": null,
            "left": null,
            "margin": null,
            "max_height": null,
            "max_width": null,
            "min_height": null,
            "min_width": null,
            "object_fit": null,
            "object_position": null,
            "order": null,
            "overflow": null,
            "overflow_x": null,
            "overflow_y": null,
            "padding": "0px 3px 0px 0px",
            "right": null,
            "top": null,
            "visibility": null,
            "width": "70px"
          }
        },
        "4f838d7af57540eda8eaa3c3fe771bb6": {
          "model_module": "@jupyter-widgets/controls",
          "model_name": "SliderStyleModel",
          "model_module_version": "1.5.0",
          "state": {
            "_model_module": "@jupyter-widgets/controls",
            "_model_module_version": "1.5.0",
            "_model_name": "SliderStyleModel",
            "_view_count": null,
            "_view_module": "@jupyter-widgets/base",
            "_view_module_version": "1.2.0",
            "_view_name": "StyleView",
            "description_width": "",
            "handle_color": null
          }
        },
        "1c59eb107be94fcf91af35c4b5c73c16": {
          "model_module": "@jupyter-widgets/base",
          "model_name": "LayoutModel",
          "model_module_version": "1.2.0",
          "state": {
            "_model_module": "@jupyter-widgets/base",
            "_model_module_version": "1.2.0",
            "_model_name": "LayoutModel",
            "_view_count": null,
            "_view_module": "@jupyter-widgets/base",
            "_view_module_version": "1.2.0",
            "_view_name": "LayoutView",
            "align_content": null,
            "align_items": null,
            "align_self": null,
            "border": null,
            "bottom": null,
            "display": null,
            "flex": null,
            "flex_flow": null,
            "grid_area": null,
            "grid_auto_columns": null,
            "grid_auto_flow": null,
            "grid_auto_rows": null,
            "grid_column": null,
            "grid_gap": null,
            "grid_row": null,
            "grid_template_areas": null,
            "grid_template_columns": null,
            "grid_template_rows": null,
            "height": "25px",
            "justify_content": null,
            "justify_items": null,
            "left": null,
            "margin": null,
            "max_height": null,
            "max_width": null,
            "min_height": null,
            "min_width": null,
            "object_fit": null,
            "object_position": null,
            "order": null,
            "overflow": null,
            "overflow_x": null,
            "overflow_y": null,
            "padding": "0px",
            "right": null,
            "top": null,
            "visibility": null,
            "width": "25px"
          }
        },
        "4236b71df1a84db8ababdec9805711a9": {
          "model_module": "@jupyter-widgets/controls",
          "model_name": "ButtonStyleModel",
          "model_module_version": "1.5.0",
          "state": {
            "_model_module": "@jupyter-widgets/controls",
            "_model_module_version": "1.5.0",
            "_model_name": "ButtonStyleModel",
            "_view_count": null,
            "_view_module": "@jupyter-widgets/base",
            "_view_module_version": "1.2.0",
            "_view_name": "StyleView",
            "button_color": null,
            "font_weight": ""
          }
        },
        "fd6a36abadfc412492f7fd1a38f3c8d2": {
          "model_module": "@jupyter-widgets/base",
          "model_name": "LayoutModel",
          "model_module_version": "1.2.0",
          "state": {
            "_model_module": "@jupyter-widgets/base",
            "_model_module_version": "1.2.0",
            "_model_name": "LayoutModel",
            "_view_count": null,
            "_view_module": "@jupyter-widgets/base",
            "_view_module_version": "1.2.0",
            "_view_name": "LayoutView",
            "align_content": null,
            "align_items": null,
            "align_self": null,
            "border": null,
            "bottom": null,
            "display": null,
            "flex": null,
            "flex_flow": null,
            "grid_area": null,
            "grid_auto_columns": null,
            "grid_auto_flow": null,
            "grid_auto_rows": null,
            "grid_column": null,
            "grid_gap": null,
            "grid_row": null,
            "grid_template_areas": null,
            "grid_template_columns": null,
            "grid_template_rows": null,
            "height": "25px",
            "justify_content": null,
            "justify_items": null,
            "left": null,
            "margin": null,
            "max_height": null,
            "max_width": null,
            "min_height": null,
            "min_width": null,
            "object_fit": null,
            "object_position": null,
            "order": null,
            "overflow": null,
            "overflow_x": null,
            "overflow_y": null,
            "padding": "0px",
            "right": null,
            "top": null,
            "visibility": null,
            "width": "25px"
          }
        },
        "f2da4c1754884206bcb3d4c80d83921f": {
          "model_module": "@jupyter-widgets/controls",
          "model_name": "ButtonStyleModel",
          "model_module_version": "1.5.0",
          "state": {
            "_model_module": "@jupyter-widgets/controls",
            "_model_module_version": "1.5.0",
            "_model_name": "ButtonStyleModel",
            "_view_count": null,
            "_view_module": "@jupyter-widgets/base",
            "_view_module_version": "1.2.0",
            "_view_name": "StyleView",
            "button_color": null,
            "font_weight": ""
          }
        },
        "55199077accf4f03b4fec22f466d6436": {
          "model_module": "@jupyter-widgets/base",
          "model_name": "LayoutModel",
          "model_module_version": "1.2.0",
          "state": {
            "_model_module": "@jupyter-widgets/base",
            "_model_module_version": "1.2.0",
            "_model_name": "LayoutModel",
            "_view_count": null,
            "_view_module": "@jupyter-widgets/base",
            "_view_module_version": "1.2.0",
            "_view_name": "LayoutView",
            "align_content": null,
            "align_items": null,
            "align_self": null,
            "border": null,
            "bottom": null,
            "display": null,
            "flex": null,
            "flex_flow": null,
            "grid_area": null,
            "grid_auto_columns": null,
            "grid_auto_flow": null,
            "grid_auto_rows": null,
            "grid_column": null,
            "grid_gap": null,
            "grid_row": null,
            "grid_template_areas": null,
            "grid_template_columns": null,
            "grid_template_rows": null,
            "height": "18px",
            "justify_content": null,
            "justify_items": null,
            "left": null,
            "margin": null,
            "max_height": null,
            "max_width": null,
            "min_height": null,
            "min_width": null,
            "object_fit": null,
            "object_position": null,
            "order": null,
            "overflow": null,
            "overflow_x": null,
            "overflow_y": null,
            "padding": null,
            "right": null,
            "top": null,
            "visibility": null,
            "width": "140px"
          }
        },
        "7e761c5712f64abb87942b90720d9a72": {
          "model_module": "@jupyter-widgets/controls",
          "model_name": "DescriptionStyleModel",
          "model_module_version": "1.5.0",
          "state": {
            "_model_module": "@jupyter-widgets/controls",
            "_model_module_version": "1.5.0",
            "_model_name": "DescriptionStyleModel",
            "_view_count": null,
            "_view_module": "@jupyter-widgets/base",
            "_view_module_version": "1.2.0",
            "_view_name": "StyleView",
            "description_width": ""
          }
        },
        "fa7d10c4e33d4ecda2144c375d4ad030": {
          "model_module": "@jupyter-widgets/base",
          "model_name": "LayoutModel",
          "model_module_version": "1.2.0",
          "state": {
            "_model_module": "@jupyter-widgets/base",
            "_model_module_version": "1.2.0",
            "_model_name": "LayoutModel",
            "_view_count": null,
            "_view_module": "@jupyter-widgets/base",
            "_view_module_version": "1.2.0",
            "_view_name": "LayoutView",
            "align_content": null,
            "align_items": null,
            "align_self": null,
            "border": null,
            "bottom": null,
            "display": null,
            "flex": null,
            "flex_flow": null,
            "grid_area": null,
            "grid_auto_columns": null,
            "grid_auto_flow": null,
            "grid_auto_rows": null,
            "grid_column": null,
            "grid_gap": null,
            "grid_row": null,
            "grid_template_areas": null,
            "grid_template_columns": null,
            "grid_template_rows": null,
            "height": null,
            "justify_content": null,
            "justify_items": null,
            "left": null,
            "margin": null,
            "max_height": null,
            "max_width": null,
            "min_height": null,
            "min_width": null,
            "object_fit": null,
            "object_position": null,
            "order": null,
            "overflow": null,
            "overflow_x": null,
            "overflow_y": null,
            "padding": "0px 3px 0px 0px",
            "right": null,
            "top": null,
            "visibility": null,
            "width": "70px"
          }
        },
        "215669370ef94154b60ddb2e5433f3c1": {
          "model_module": "@jupyter-widgets/controls",
          "model_name": "SliderStyleModel",
          "model_module_version": "1.5.0",
          "state": {
            "_model_module": "@jupyter-widgets/controls",
            "_model_module_version": "1.5.0",
            "_model_name": "SliderStyleModel",
            "_view_count": null,
            "_view_module": "@jupyter-widgets/base",
            "_view_module_version": "1.2.0",
            "_view_name": "StyleView",
            "description_width": "",
            "handle_color": null
          }
        },
        "2910dcb4cf7e4c5b84d8b872ba117d81": {
          "model_module": "@jupyter-widgets/base",
          "model_name": "LayoutModel",
          "model_module_version": "1.2.0",
          "state": {
            "_model_module": "@jupyter-widgets/base",
            "_model_module_version": "1.2.0",
            "_model_name": "LayoutModel",
            "_view_count": null,
            "_view_module": "@jupyter-widgets/base",
            "_view_module_version": "1.2.0",
            "_view_name": "LayoutView",
            "align_content": null,
            "align_items": null,
            "align_self": null,
            "border": null,
            "bottom": null,
            "display": null,
            "flex": null,
            "flex_flow": null,
            "grid_area": null,
            "grid_auto_columns": null,
            "grid_auto_flow": null,
            "grid_auto_rows": null,
            "grid_column": null,
            "grid_gap": null,
            "grid_row": null,
            "grid_template_areas": null,
            "grid_template_columns": null,
            "grid_template_rows": null,
            "height": "25px",
            "justify_content": null,
            "justify_items": null,
            "left": null,
            "margin": null,
            "max_height": null,
            "max_width": null,
            "min_height": null,
            "min_width": null,
            "object_fit": null,
            "object_position": null,
            "order": null,
            "overflow": null,
            "overflow_x": null,
            "overflow_y": null,
            "padding": "0px",
            "right": null,
            "top": null,
            "visibility": null,
            "width": "25px"
          }
        },
        "7ec299d9015a4985ad412964d63521e8": {
          "model_module": "@jupyter-widgets/controls",
          "model_name": "ButtonStyleModel",
          "model_module_version": "1.5.0",
          "state": {
            "_model_module": "@jupyter-widgets/controls",
            "_model_module_version": "1.5.0",
            "_model_name": "ButtonStyleModel",
            "_view_count": null,
            "_view_module": "@jupyter-widgets/base",
            "_view_module_version": "1.2.0",
            "_view_name": "StyleView",
            "button_color": null,
            "font_weight": ""
          }
        },
        "09183a5ade584d1d9aeb7cc78eeeaa2b": {
          "model_module": "@jupyter-widgets/base",
          "model_name": "LayoutModel",
          "model_module_version": "1.2.0",
          "state": {
            "_model_module": "@jupyter-widgets/base",
            "_model_module_version": "1.2.0",
            "_model_name": "LayoutModel",
            "_view_count": null,
            "_view_module": "@jupyter-widgets/base",
            "_view_module_version": "1.2.0",
            "_view_name": "LayoutView",
            "align_content": null,
            "align_items": null,
            "align_self": null,
            "border": null,
            "bottom": null,
            "display": null,
            "flex": null,
            "flex_flow": null,
            "grid_area": null,
            "grid_auto_columns": null,
            "grid_auto_flow": null,
            "grid_auto_rows": null,
            "grid_column": null,
            "grid_gap": null,
            "grid_row": null,
            "grid_template_areas": null,
            "grid_template_columns": null,
            "grid_template_rows": null,
            "height": "25px",
            "justify_content": null,
            "justify_items": null,
            "left": null,
            "margin": null,
            "max_height": null,
            "max_width": null,
            "min_height": null,
            "min_width": null,
            "object_fit": null,
            "object_position": null,
            "order": null,
            "overflow": null,
            "overflow_x": null,
            "overflow_y": null,
            "padding": "0px",
            "right": null,
            "top": null,
            "visibility": null,
            "width": "25px"
          }
        },
        "88ba54d04ede4d57914fb29c19371f4b": {
          "model_module": "@jupyter-widgets/controls",
          "model_name": "ButtonStyleModel",
          "model_module_version": "1.5.0",
          "state": {
            "_model_module": "@jupyter-widgets/controls",
            "_model_module_version": "1.5.0",
            "_model_name": "ButtonStyleModel",
            "_view_count": null,
            "_view_module": "@jupyter-widgets/base",
            "_view_module_version": "1.2.0",
            "_view_name": "StyleView",
            "button_color": null,
            "font_weight": ""
          }
        },
        "ad848a5be54746c298f414bcaa4dc3dc": {
          "model_module": "@jupyter-widgets/base",
          "model_name": "LayoutModel",
          "model_module_version": "1.2.0",
          "state": {
            "_model_module": "@jupyter-widgets/base",
            "_model_module_version": "1.2.0",
            "_model_name": "LayoutModel",
            "_view_count": null,
            "_view_module": "@jupyter-widgets/base",
            "_view_module_version": "1.2.0",
            "_view_name": "LayoutView",
            "align_content": null,
            "align_items": null,
            "align_self": null,
            "border": null,
            "bottom": null,
            "display": null,
            "flex": null,
            "flex_flow": null,
            "grid_area": null,
            "grid_auto_columns": null,
            "grid_auto_flow": null,
            "grid_auto_rows": null,
            "grid_column": null,
            "grid_gap": null,
            "grid_row": null,
            "grid_template_areas": null,
            "grid_template_columns": null,
            "grid_template_rows": null,
            "height": "18px",
            "justify_content": null,
            "justify_items": null,
            "left": null,
            "margin": null,
            "max_height": null,
            "max_width": null,
            "min_height": null,
            "min_width": null,
            "object_fit": null,
            "object_position": null,
            "order": null,
            "overflow": null,
            "overflow_x": null,
            "overflow_y": null,
            "padding": null,
            "right": null,
            "top": null,
            "visibility": null,
            "width": "140px"
          }
        },
        "61f0f3898e2c4ded8d88c8f2f0668452": {
          "model_module": "@jupyter-widgets/controls",
          "model_name": "DescriptionStyleModel",
          "model_module_version": "1.5.0",
          "state": {
            "_model_module": "@jupyter-widgets/controls",
            "_model_module_version": "1.5.0",
            "_model_name": "DescriptionStyleModel",
            "_view_count": null,
            "_view_module": "@jupyter-widgets/base",
            "_view_module_version": "1.2.0",
            "_view_name": "StyleView",
            "description_width": ""
          }
        },
        "1c483082c8d0457b8e76f5bd2b97761b": {
          "model_module": "@jupyter-widgets/base",
          "model_name": "LayoutModel",
          "model_module_version": "1.2.0",
          "state": {
            "_model_module": "@jupyter-widgets/base",
            "_model_module_version": "1.2.0",
            "_model_name": "LayoutModel",
            "_view_count": null,
            "_view_module": "@jupyter-widgets/base",
            "_view_module_version": "1.2.0",
            "_view_name": "LayoutView",
            "align_content": null,
            "align_items": null,
            "align_self": null,
            "border": null,
            "bottom": null,
            "display": null,
            "flex": null,
            "flex_flow": null,
            "grid_area": null,
            "grid_auto_columns": null,
            "grid_auto_flow": null,
            "grid_auto_rows": null,
            "grid_column": null,
            "grid_gap": null,
            "grid_row": null,
            "grid_template_areas": null,
            "grid_template_columns": null,
            "grid_template_rows": null,
            "height": null,
            "justify_content": null,
            "justify_items": null,
            "left": null,
            "margin": null,
            "max_height": null,
            "max_width": null,
            "min_height": null,
            "min_width": null,
            "object_fit": null,
            "object_position": null,
            "order": null,
            "overflow": null,
            "overflow_x": null,
            "overflow_y": null,
            "padding": "0px 3px 0px 0px",
            "right": null,
            "top": null,
            "visibility": null,
            "width": "70px"
          }
        },
        "c5f151febf0043a4a405ff0ffe1ded23": {
          "model_module": "@jupyter-widgets/controls",
          "model_name": "SliderStyleModel",
          "model_module_version": "1.5.0",
          "state": {
            "_model_module": "@jupyter-widgets/controls",
            "_model_module_version": "1.5.0",
            "_model_name": "SliderStyleModel",
            "_view_count": null,
            "_view_module": "@jupyter-widgets/base",
            "_view_module_version": "1.2.0",
            "_view_name": "StyleView",
            "description_width": "",
            "handle_color": null
          }
        },
        "d20b5f4096244fb5a3d00ccb15bb3681": {
          "model_module": "@jupyter-widgets/base",
          "model_name": "LayoutModel",
          "model_module_version": "1.2.0",
          "state": {
            "_model_module": "@jupyter-widgets/base",
            "_model_module_version": "1.2.0",
            "_model_name": "LayoutModel",
            "_view_count": null,
            "_view_module": "@jupyter-widgets/base",
            "_view_module_version": "1.2.0",
            "_view_name": "LayoutView",
            "align_content": null,
            "align_items": null,
            "align_self": null,
            "border": null,
            "bottom": null,
            "display": null,
            "flex": null,
            "flex_flow": null,
            "grid_area": null,
            "grid_auto_columns": null,
            "grid_auto_flow": null,
            "grid_auto_rows": null,
            "grid_column": null,
            "grid_gap": null,
            "grid_row": null,
            "grid_template_areas": null,
            "grid_template_columns": null,
            "grid_template_rows": null,
            "height": "25px",
            "justify_content": null,
            "justify_items": null,
            "left": null,
            "margin": null,
            "max_height": null,
            "max_width": null,
            "min_height": null,
            "min_width": null,
            "object_fit": null,
            "object_position": null,
            "order": null,
            "overflow": null,
            "overflow_x": null,
            "overflow_y": null,
            "padding": "0px",
            "right": null,
            "top": null,
            "visibility": null,
            "width": "25px"
          }
        },
        "a480e02d517c47b99ea9b722a73804e5": {
          "model_module": "@jupyter-widgets/controls",
          "model_name": "ButtonStyleModel",
          "model_module_version": "1.5.0",
          "state": {
            "_model_module": "@jupyter-widgets/controls",
            "_model_module_version": "1.5.0",
            "_model_name": "ButtonStyleModel",
            "_view_count": null,
            "_view_module": "@jupyter-widgets/base",
            "_view_module_version": "1.2.0",
            "_view_name": "StyleView",
            "button_color": null,
            "font_weight": ""
          }
        },
        "45f42d42d75d4544a2c6f867090864fe": {
          "model_module": "@jupyter-widgets/base",
          "model_name": "LayoutModel",
          "model_module_version": "1.2.0",
          "state": {
            "_model_module": "@jupyter-widgets/base",
            "_model_module_version": "1.2.0",
            "_model_name": "LayoutModel",
            "_view_count": null,
            "_view_module": "@jupyter-widgets/base",
            "_view_module_version": "1.2.0",
            "_view_name": "LayoutView",
            "align_content": null,
            "align_items": null,
            "align_self": null,
            "border": null,
            "bottom": null,
            "display": null,
            "flex": null,
            "flex_flow": null,
            "grid_area": null,
            "grid_auto_columns": null,
            "grid_auto_flow": null,
            "grid_auto_rows": null,
            "grid_column": null,
            "grid_gap": null,
            "grid_row": null,
            "grid_template_areas": null,
            "grid_template_columns": null,
            "grid_template_rows": null,
            "height": "25px",
            "justify_content": null,
            "justify_items": null,
            "left": null,
            "margin": null,
            "max_height": null,
            "max_width": null,
            "min_height": null,
            "min_width": null,
            "object_fit": null,
            "object_position": null,
            "order": null,
            "overflow": null,
            "overflow_x": null,
            "overflow_y": null,
            "padding": "0px",
            "right": null,
            "top": null,
            "visibility": null,
            "width": "25px"
          }
        },
        "b7e972b364a14e3dbdbdd5afb0c7762b": {
          "model_module": "@jupyter-widgets/controls",
          "model_name": "ButtonStyleModel",
          "model_module_version": "1.5.0",
          "state": {
            "_model_module": "@jupyter-widgets/controls",
            "_model_module_version": "1.5.0",
            "_model_name": "ButtonStyleModel",
            "_view_count": null,
            "_view_module": "@jupyter-widgets/base",
            "_view_module_version": "1.2.0",
            "_view_name": "StyleView",
            "button_color": null,
            "font_weight": ""
          }
        }
      }
    }
  },
  "nbformat": 4,
  "nbformat_minor": 0
}