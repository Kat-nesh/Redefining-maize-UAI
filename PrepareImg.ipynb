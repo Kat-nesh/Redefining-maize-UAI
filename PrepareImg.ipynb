{
  "cells": [
    {
      "cell_type": "markdown",
      "metadata": {
        "id": "view-in-github",
        "colab_type": "text"
      },
      "source": [
        "<a href=\"https://colab.research.google.com/github/Kat-nesh/Redefining-maize-UAI/blob/main/PrepareImg.ipynb\" target=\"_parent\"><img src=\"https://colab.research.google.com/assets/colab-badge.svg\" alt=\"Open In Colab\"/></a>"
      ]
    },
    {
      "cell_type": "code",
      "execution_count": null,
      "metadata": {
        "id": "UurBJtc2AEh4"
      },
      "outputs": [],
      "source": [
        "import pandas as pd\n",
        "import geopandas as gpd\n",
        "import numpy as np\n",
        "import seaborn as sns\n",
        "import matplotlib.pylab as plt\n",
        "from geemap import ml\n",
        "from sklearn import ensemble\n",
        "from geemap import ml\n",
        "from sklearn import ensemble\n",
        "from sklearn import tree\n",
        "from sklearn.metrics import accuracy_score\n",
        "from sklearn.ensemble import RandomForestRegressor\n",
        "from sklearn.inspection import permutation_importance\n",
        "from matplotlib import pyplot as plt\n",
        "from sklearn.model_selection import LeaveOneOut\n",
        "from sklearn.model_selection import LeaveOneGroupOut\n",
        "from sklearn.model_selection import cross_val_score\n",
        "plt.rcParams.update({'figure.figsize': (12.0,8.0)})\n",
        "plt.rcParams.update({'font.size' : 14})"
      ]
    },
    {
      "cell_type": "code",
      "execution_count": null,
      "metadata": {
        "id": "R_EtFur190_n",
        "colab": {
          "base_uri": "https://localhost:8080/",
          "height": 17
        },
        "outputId": "c0c0dce3-cba1-41e0-f404-3b1e326c27cd"
      },
      "outputs": [
        {
          "output_type": "display_data",
          "data": {
            "text/plain": [
              "<IPython.core.display.HTML object>"
            ],
            "text/html": [
              "\n",
              "            <style>\n",
              "                .geemap-dark {\n",
              "                    --jp-widgets-color: white;\n",
              "                    --jp-widgets-label-color: white;\n",
              "                    --jp-ui-font-color1: white;\n",
              "                    --jp-layout-color2: #454545;\n",
              "                    background-color: #383838;\n",
              "                }\n",
              "\n",
              "                .geemap-dark .jupyter-button {\n",
              "                    --jp-layout-color3: #383838;\n",
              "                }\n",
              "\n",
              "                .geemap-colab {\n",
              "                    background-color: var(--colab-primary-surface-color, white);\n",
              "                }\n",
              "\n",
              "                .geemap-colab .jupyter-button {\n",
              "                    --jp-layout-color3: var(--colab-primary-surface-color, white);\n",
              "                }\n",
              "            </style>\n",
              "            "
            ]
          },
          "metadata": {}
        }
      ],
      "source": [
        "#test img\n",
        "from IPython.core.magics.execution import Restart\n",
        "try:\n",
        "  import geemap\n",
        "  import ee\n",
        "  import geopandas\n",
        "  import math\n",
        "except Exception as e:\n",
        "  !pip install geopandas\n",
        "  !pip install geemap\n",
        "  Restart()\n",
        "finally:\n",
        "  import geemap\n",
        "  import ee\n",
        "try:\n",
        "  ee.Initialize(project='ee-maizeyield')\n",
        "except Exception as e:\n",
        "  ee.Authenticate()\n",
        "  ee.Initialize(project='ee-maizeyield')\n"
      ]
    },
    {
      "cell_type": "code",
      "execution_count": null,
      "metadata": {
        "colab": {
          "base_uri": "https://localhost:8080/",
          "height": 35
        },
        "id": "pSEDJKp_t0Rc",
        "outputId": "6eed1549-825f-4388-c58b-798264e4f724"
      },
      "outputs": [
        {
          "output_type": "display_data",
          "data": {
            "text/plain": [
              "<IPython.core.display.HTML object>"
            ],
            "text/html": [
              "\n",
              "            <style>\n",
              "                .geemap-dark {\n",
              "                    --jp-widgets-color: white;\n",
              "                    --jp-widgets-label-color: white;\n",
              "                    --jp-ui-font-color1: white;\n",
              "                    --jp-layout-color2: #454545;\n",
              "                    background-color: #383838;\n",
              "                }\n",
              "\n",
              "                .geemap-dark .jupyter-button {\n",
              "                    --jp-layout-color3: #383838;\n",
              "                }\n",
              "\n",
              "                .geemap-colab {\n",
              "                    background-color: var(--colab-primary-surface-color, white);\n",
              "                }\n",
              "\n",
              "                .geemap-colab .jupyter-button {\n",
              "                    --jp-layout-color3: var(--colab-primary-surface-color, white);\n",
              "                }\n",
              "            </style>\n",
              "            "
            ]
          },
          "metadata": {}
        },
        {
          "output_type": "execute_result",
          "data": {
            "text/plain": [
              "'projects/ee-maizeyield/assets/LR_18'"
            ],
            "application/vnd.google.colaboratory.intrinsic+json": {
              "type": "string"
            }
          },
          "metadata": {},
          "execution_count": 4
        }
      ],
      "source": [
        "user_id = geemap.ee_user_id()\n",
        "user_id"
      ]
    },
    {
      "cell_type": "markdown",
      "metadata": {
        "id": "KviXykxCtmaS"
      },
      "source": [
        "# Add Indices"
      ]
    },
    {
      "cell_type": "code",
      "execution_count": null,
      "metadata": {
        "colab": {
          "base_uri": "https://localhost:8080/"
        },
        "id": "OnCawMKFNAF4",
        "outputId": "b372b3d7-2696-4e59-c572-09ee3d5ac16e"
      },
      "outputs": [
        {
          "output_type": "display_data",
          "data": {
            "text/plain": [
              "<IPython.core.display.HTML object>"
            ],
            "text/html": [
              "\n",
              "            <style>\n",
              "                .geemap-dark {\n",
              "                    --jp-widgets-color: white;\n",
              "                    --jp-widgets-label-color: white;\n",
              "                    --jp-ui-font-color1: white;\n",
              "                    --jp-layout-color2: #454545;\n",
              "                    background-color: #383838;\n",
              "                }\n",
              "\n",
              "                .geemap-dark .jupyter-button {\n",
              "                    --jp-layout-color3: #383838;\n",
              "                }\n",
              "\n",
              "                .geemap-colab {\n",
              "                    background-color: var(--colab-primary-surface-color, white);\n",
              "                }\n",
              "\n",
              "                .geemap-colab .jupyter-button {\n",
              "                    --jp-layout-color3: var(--colab-primary-surface-color, white);\n",
              "                }\n",
              "            </style>\n",
              "            "
            ]
          },
          "metadata": {}
        }
      ],
      "source": [
        "# ADD INDICES\n",
        "def addIndices(image,AOI):\n",
        "\n",
        "  rangeBands = {\n",
        "                      'blue': image.select('blue'),\n",
        "                      'green':image.select('green'),\n",
        "                      'red': image.select('red'),\n",
        "                      'nir': image.select('nir'),\n",
        "                      'swir1': image.select('swir1'),\n",
        "                      'swir2': image.select('swir2')\n",
        "                    }\n",
        "   #NDVI\n",
        "  ndvi = image.expression('(nir - red) / (nir + red)',rangeBands)\n",
        "\n",
        "  # SAVI\n",
        "  savi = image.expression('1.5 * ((nir - red) / (nir + red + 0.5))',rangeBands)\n",
        "\n",
        "  #EVI\n",
        "  evi = image.expression('2.5 * ((nir - red) / (nir + 6 * red - 7.5 * blue + 1))',rangeBands)\n",
        "\n",
        "  #Green Normalized difference Vegetation Index (GNDVI)\n",
        "\n",
        "  gndvi = image.expression('(nir - green) / (nir + green)',rangeBands)\n",
        "\n",
        "  #Normalize Differennce Mositure Index (NDMI)\n",
        "  ndmi = image.expression('(nir - swir1) / (nir + swir1)',rangeBands)\n",
        "\n",
        "  # normalized special index (NSI)\n",
        "  nsi = image.expression('100 * ((swir1 - nir) / (nir - red))',rangeBands)\n",
        "\n",
        "  #Modified Soil Adjusted Vegetation Index MSAVI\n",
        "  msavi =image.expression('(2 * nir + 1 - sqrt(pow((2 * nir + 1), 2) - 8 * (nir - red)) ) / 2',rangeBands)\n",
        "\n",
        "  #Green Chlorophyll Index (GCI)\n",
        "  gci =image.expression('(nir/green) - 1',rangeBands)\n",
        "\n",
        "  #Green Leaf Index (GLI)\n",
        "  gli =image.expression('((green - red) + (green - blue)) / ((2 * green) + red + blue)',rangeBands)\n",
        "\n",
        "  # Structure Insensitive Pigment Index (sipi)\n",
        "  sipi =image.expression('(nir - blue) / (nir - red)',rangeBands)\n",
        "\n",
        "  # Simple Ration RVI (Ratio Vegetation Index)\n",
        "  sr =image.expression('nir/red',rangeBands)\n",
        "\n",
        "  # OSAVI (Optimized Soil-Adjusted Vegetation Index):\n",
        "  # ((NIR - Red) / (NIR + Red + 0.16)) * (1 + 0.16)\n",
        "  osavi =image.expression('((nir - red) / (nir + red + 0.16)) * (1 + 0.16)',rangeBands)\n",
        "\n",
        "  # GCI2 (Green Chlorophyll Index 2):\n",
        "  # (NIR - 2.4 * Red + Blue) / (NIR + 2.4 * Red + Blue)\n",
        "  gci2 =image.expression('(nir - 2.4 * red + blue) / (nir + 2.4 * red + blue)',rangeBands)\n",
        "\n",
        "  # ARVI2 (Atmospherically Resistant Vegetation Index 2):\n",
        "  # (nir - (2 * red - blue)) / (nir + (2 * red - blue))\n",
        "  arvi2 =image.expression('(nir - (2 * red - blue)) / (nir + (2 * red - blue))',rangeBands)\n",
        "\n",
        "  # MTVI2 (Modified Triangular Vegetation Index 2):\n",
        "  # 1.5 * (1.2 * (nir - green) - 2.5 * (red - green)) / sqrt((2 * nir + 1)^2 - (6 * nir - 5 * sqrt(red) - 0.5))\n",
        "  mtvi2 =image.expression('1.5 * (1.2 * (nir - green) - 2.5 * (red - green)) / sqrt((2 * nir + 1)**2 - (6 * nir - 5 * sqrt(red) - 0.5))',rangeBands)\n",
        "\n",
        "  # RDVI (Renormalized Difference Vegetation Index):\n",
        "  # (nir - red) / sqrt(nir + red)\n",
        "  rdvi =image.expression('(nir - red) / sqrt(nir + red)',rangeBands)\n",
        "\n",
        "  # GVI (Global Vegetation Index):\n",
        "  # (nir / (nir + green)) - (red / (red + blue))\n",
        "  gvi =image.expression('(nir / (nir + green)) - (red / (red + blue))',rangeBands)\n",
        "\n",
        "\n",
        "  # NDII (Normalized Difference Infrared Index):\n",
        "  # (nir - swir2) / (nir + swir2)\n",
        "  ndii =image.expression('(nir - swir2) / (nir + swir2)',rangeBands)\n",
        "\n",
        "  # where swir2 is the shortwave-infrared band centered at 2215 nm.\n",
        "\n",
        "\n",
        "  # NDWI (Normalized Difference Water Index): # (green - nir) / (green + nir)\n",
        "  ndwi =image.expression('(green - nir) / (green + nir)',rangeBands)\n",
        "\n",
        "  # GRVI (Green-Red Vegetation Index): # Green / Red\n",
        "  grvi =image.expression('green / red',rangeBands)\n",
        "\n",
        "  # LAI (Leaf Area Index): # 3.618 * ((nir - red) / (nir + red)) - 0.118\n",
        "  lai =image.expression('3.618 * ((nir - red) / (nir + red)) - 0.118',rangeBands)\n",
        "\n",
        "  # TCARI (Transformed Chlorophyll Absorption in Reflectance Index):\n",
        "  # 3 * ((nir - red) - 0.2 * (red - green) * (nir / red))\n",
        "  tcari =image.expression('3 * ((nir - red) - 0.2 * (red - green) * (nir / red))',rangeBands)\n",
        "\n",
        "  # MCARI (Modified Chlorophyll Absorption in Reflectance Index):\n",
        "  # (1.5 * (2.5 * (nir - green) - 1.3 * (nir - red))) / sqrt((2 * nir + 1)^2 - (6 * nir - 5 * sqrt(red) - 0.5))\n",
        "  mcari =image.expression(' (1.5 * (2.5 * (nir - green) - 1.3 * (nir - red))) / sqrt((2 * nir + 1)**2 - (6 * nir - 5 * sqrt(red) - 0.5))',rangeBands)\n",
        "\n",
        "  # WDVI (Weighted Difference Vegetation Index):\n",
        "  # nir - 0.5 * red\n",
        "  wdvi =image.expression('nir - 0.5 * red',rangeBands)\n",
        "\n",
        "  # PSSRa (Plant Senescence Reflectance Ratio Index):\n",
        "  # (red / nir) / (red / green)\n",
        "  pssra =image.expression('(red / nir) / (red / green)',rangeBands)\n",
        "\n",
        "  # DVI (Difference Vegetation Index):\n",
        "  # nir - red\n",
        "  dvi =image.expression('nir - red',rangeBands)\n",
        "\n",
        "\n",
        "  image = image.addBands(ndvi.clip(AOI).rename('ndvi'))\\\n",
        "                .addBands(savi.clip(AOI).rename('savi'))\\\n",
        "                .addBands(evi.clip(AOI).rename('evi'))\\\n",
        "                .addBands(gndvi.clip(AOI).rename('gndvi'))\\\n",
        "                .addBands(ndmi.clip(AOI).rename('ndmi'))\\\n",
        "                .addBands(nsi.clip(AOI).rename('nsi'))\\\n",
        "                .addBands(msavi.clip(AOI).rename('msavi'))\\\n",
        "                .addBands(gci.clip(AOI).rename('gci'))\\\n",
        "                .addBands(gli.clip(AOI).rename('gli'))\\\n",
        "                .addBands(sipi.clip(AOI).rename('sipi'))\\\n",
        "                .addBands(sr.clip(AOI).rename('sr'))\\\n",
        "                .addBands(osavi.clip(AOI).rename('osavi'))\\\n",
        "                .addBands(gci2.clip(AOI).rename('gci2'))\\\n",
        "                .addBands(arvi2.clip(AOI).rename('arvi2'))\\\n",
        "                .addBands(mtvi2.clip(AOI).rename('mtvi2'))\\\n",
        "                .addBands(rdvi.clip(AOI).rename('rdvi'))\\\n",
        "                .addBands(gvi.clip(AOI).rename('gvi'))\\\n",
        "                .addBands(ndii.clip(AOI).rename('ndii'))\\\n",
        "                .addBands(ndwi.clip(AOI).rename('ndwi'))\\\n",
        "                .addBands(grvi.clip(AOI).rename('grvi'))\\\n",
        "                .addBands(lai.clip(AOI).rename('lai'))\\\n",
        "                .addBands(tcari.clip(AOI).rename('tcari'))\\\n",
        "                .addBands(mcari.clip(AOI).rename('mcari'))\\\n",
        "                .addBands(wdvi.clip(AOI).rename('wdvi'))\\\n",
        "                .addBands(pssra.clip(AOI).rename('pssra'))\\\n",
        "                .addBands(dvi.clip(AOI).rename('dvi'))\n",
        "\n",
        "  return image.float()"
      ]
    },
    {
      "cell_type": "markdown",
      "metadata": {
        "id": "rlOfaDOatuF7"
      },
      "source": [
        "# Prepare L8"
      ]
    },
    {
      "cell_type": "code",
      "execution_count": null,
      "metadata": {
        "colab": {
          "base_uri": "https://localhost:8080/"
        },
        "id": "fim3ujhyNONM",
        "outputId": "48e04486-3c87-401f-aae1-cda832fef693"
      },
      "outputs": [
        {
          "output_type": "display_data",
          "data": {
            "text/plain": [
              "<IPython.core.display.HTML object>"
            ],
            "text/html": [
              "\n",
              "            <style>\n",
              "                .geemap-dark {\n",
              "                    --jp-widgets-color: white;\n",
              "                    --jp-widgets-label-color: white;\n",
              "                    --jp-ui-font-color1: white;\n",
              "                    --jp-layout-color2: #454545;\n",
              "                    background-color: #383838;\n",
              "                }\n",
              "\n",
              "                .geemap-dark .jupyter-button {\n",
              "                    --jp-layout-color3: #383838;\n",
              "                }\n",
              "\n",
              "                .geemap-colab {\n",
              "                    background-color: var(--colab-primary-surface-color, white);\n",
              "                }\n",
              "\n",
              "                .geemap-colab .jupyter-button {\n",
              "                    --jp-layout-color3: var(--colab-primary-surface-color, white);\n",
              "                }\n",
              "            </style>\n",
              "            "
            ]
          },
          "metadata": {}
        }
      ],
      "source": [
        "# Prepare L8\n",
        "def l8prep(start_date,end_date,image_col,AOI):\n",
        "  # Load the L8 Collection and Processs\n",
        "  temp_date = ee.Date(\"2013-02-01\")\n",
        "  if start_date.millis().lt(temp_date.millis()).getInfo():\n",
        "    l8 = image_col.filterDate(start_date,end_date).filterBounds(AOI).select('SR_B1', 'SR_B2', 'SR_B3', 'SR_B4', 'SR_B5','SR_B7')\n",
        "  else:\n",
        "    l8 = image_col.filterDate(start_date,end_date).filterBounds(AOI).select('SR_B2', 'SR_B3', 'SR_B4', 'SR_B5', 'SR_B6','SR_B7')\n",
        "\n",
        "  l8_mean = l8.mean().rename(['blue','green','red','nir','swir1','swir2'])\n",
        "  l8_median = l8.median().rename(['blue','green','red','nir','swir1','swir2'])\n",
        "  l8_min = l8.min().rename(['blue','green','red','nir','swir1','swir2'])\n",
        "  l8_max = l8.max().rename(['blue','green','red','nir','swir1','swir2'])\n",
        "  l8_sd = l8.reduce(ee.Reducer.stdDev()).rename(['blue','green','red','nir','swir1','swir2'])\n",
        "  l8_pc10 = l8.reduce(ee.Reducer.percentile([10])).rename(['blue','green','red','nir','swir1','swir2'])\n",
        "  l8_pc50 = l8.reduce(ee.Reducer.percentile([50])).rename(['blue','green','red','nir','swir1','swir2'])\n",
        "  l8_pc90 = l8.reduce(ee.Reducer.percentile([90])).rename(['blue','green','red','nir','swir1','swir2'])\n",
        "  return {\n",
        "        'mean': l8_mean,\n",
        "        'median': l8_median,\n",
        "        'min': l8_min,\n",
        "        'max': l8_max,\n",
        "        'stdDev': l8_sd,\n",
        "        'percentile10': l8_pc10,\n",
        "        'percentile50': l8_pc50,\n",
        "        'percentile90': l8_pc90\n",
        "    }"
      ]
    },
    {
      "cell_type": "code",
      "execution_count": null,
      "metadata": {
        "colab": {
          "base_uri": "https://localhost:8080/"
        },
        "id": "5yzDugOTWOL0",
        "outputId": "a0518227-ebe6-41a4-dc89-94b84e017b8a"
      },
      "outputs": [
        {
          "output_type": "display_data",
          "data": {
            "text/plain": [
              "<IPython.core.display.HTML object>"
            ],
            "text/html": [
              "\n",
              "            <style>\n",
              "                .geemap-dark {\n",
              "                    --jp-widgets-color: white;\n",
              "                    --jp-widgets-label-color: white;\n",
              "                    --jp-ui-font-color1: white;\n",
              "                    --jp-layout-color2: #454545;\n",
              "                    background-color: #383838;\n",
              "                }\n",
              "\n",
              "                .geemap-dark .jupyter-button {\n",
              "                    --jp-layout-color3: #383838;\n",
              "                }\n",
              "\n",
              "                .geemap-colab {\n",
              "                    background-color: var(--colab-primary-surface-color, white);\n",
              "                }\n",
              "\n",
              "                .geemap-colab .jupyter-button {\n",
              "                    --jp-layout-color3: var(--colab-primary-surface-color, white);\n",
              "                }\n",
              "            </style>\n",
              "            "
            ]
          },
          "metadata": {}
        }
      ],
      "source": [
        "start = ee.Date(\"2010-04-01\")\n",
        "end = ee.Date(\"2023-08-31\")\n",
        "prod = ee.FeatureCollection(\"projects/ee-maizeyield/assets/county_maize_yield_2010-18\")\n",
        "AOI = prod.geometry()\n",
        "l8 = ee.ImageCollection(\"LANDSAT/LC08/C02/T1_L2\")#.filterDate(start,end).filterBounds(AOI).select('SR_B2', 'SR_B3', 'SR_B4', 'SR_B5', 'SR_B6','SR_B7')\n",
        "l7 = ee.ImageCollection(\"LANDSAT/LE07/C02/T1_L2\")#.filterDate(start,end).filterBounds(AOI).select('SR_B1', 'SR_B2', 'SR_B3', 'SR_B4', 'SR_B5','SR_B7')"
      ]
    },
    {
      "cell_type": "code",
      "execution_count": null,
      "metadata": {
        "id": "ogKzSXVxWgFb",
        "collapsed": true,
        "colab": {
          "base_uri": "https://localhost:8080/"
        },
        "outputId": "3be11090-2fa1-4a2a-e4fc-0aac04667a03"
      },
      "outputs": [
        {
          "output_type": "display_data",
          "data": {
            "text/plain": [
              "<IPython.core.display.HTML object>"
            ],
            "text/html": [
              "\n",
              "            <style>\n",
              "                .geemap-dark {\n",
              "                    --jp-widgets-color: white;\n",
              "                    --jp-widgets-label-color: white;\n",
              "                    --jp-ui-font-color1: white;\n",
              "                    --jp-layout-color2: #454545;\n",
              "                    background-color: #383838;\n",
              "                }\n",
              "\n",
              "                .geemap-dark .jupyter-button {\n",
              "                    --jp-layout-color3: #383838;\n",
              "                }\n",
              "\n",
              "                .geemap-colab {\n",
              "                    background-color: var(--colab-primary-surface-color, white);\n",
              "                }\n",
              "\n",
              "                .geemap-colab .jupyter-button {\n",
              "                    --jp-layout-color3: var(--colab-primary-surface-color, white);\n",
              "                }\n",
              "            </style>\n",
              "            "
            ]
          },
          "metadata": {}
        }
      ],
      "source": [
        "Map= geemap.Map()\n",
        "Map.centerObject(AOI,6)\n",
        "Map.addLayer(AOI)"
      ]
    },
    {
      "cell_type": "code",
      "execution_count": null,
      "metadata": {
        "colab": {
          "base_uri": "https://localhost:8080/"
        },
        "id": "-BYU523Qjv7N",
        "outputId": "acb84d18-25f5-4587-c025-80968555d8ac"
      },
      "outputs": [
        {
          "output_type": "display_data",
          "data": {
            "text/plain": [
              "<IPython.core.display.HTML object>"
            ],
            "text/html": [
              "\n",
              "            <style>\n",
              "                .geemap-dark {\n",
              "                    --jp-widgets-color: white;\n",
              "                    --jp-widgets-label-color: white;\n",
              "                    --jp-ui-font-color1: white;\n",
              "                    --jp-layout-color2: #454545;\n",
              "                    background-color: #383838;\n",
              "                }\n",
              "\n",
              "                .geemap-dark .jupyter-button {\n",
              "                    --jp-layout-color3: #383838;\n",
              "                }\n",
              "\n",
              "                .geemap-colab {\n",
              "                    background-color: var(--colab-primary-surface-color, white);\n",
              "                }\n",
              "\n",
              "                .geemap-colab .jupyter-button {\n",
              "                    --jp-layout-color3: var(--colab-primary-surface-color, white);\n",
              "                }\n",
              "            </style>\n",
              "            "
            ]
          },
          "metadata": {}
        }
      ],
      "source": [
        "def processL8 (start, end, img, AOI,type):\n",
        "  l8_results =  l8prep(start, end, img, AOI)\n",
        "  mean = l8_results [type]\n",
        "  idx = addIndices(mean,AOI)\n",
        "  return idx"
      ]
    },
    {
      "cell_type": "markdown",
      "metadata": {
        "id": "0YhmrHH5t_n5"
      },
      "source": [
        "# Processed L8"
      ]
    },
    {
      "cell_type": "code",
      "source": [
        "scale = 463.3127165275"
      ],
      "metadata": {
        "colab": {
          "base_uri": "https://localhost:8080/"
        },
        "id": "qVtHSK6NdRG4",
        "outputId": "270ed1e6-9506-4879-c723-619b8e85d2d8"
      },
      "execution_count": null,
      "outputs": [
        {
          "output_type": "display_data",
          "data": {
            "text/plain": [
              "<IPython.core.display.HTML object>"
            ],
            "text/html": [
              "\n",
              "            <style>\n",
              "                .geemap-dark {\n",
              "                    --jp-widgets-color: white;\n",
              "                    --jp-widgets-label-color: white;\n",
              "                    --jp-ui-font-color1: white;\n",
              "                    --jp-layout-color2: #454545;\n",
              "                    background-color: #383838;\n",
              "                }\n",
              "\n",
              "                .geemap-dark .jupyter-button {\n",
              "                    --jp-layout-color3: #383838;\n",
              "                }\n",
              "\n",
              "                .geemap-colab {\n",
              "                    background-color: var(--colab-primary-surface-color, white);\n",
              "                }\n",
              "\n",
              "                .geemap-colab .jupyter-button {\n",
              "                    --jp-layout-color3: var(--colab-primary-surface-color, white);\n",
              "                }\n",
              "            </style>\n",
              "            "
            ]
          },
          "metadata": {}
        }
      ]
    },
    {
      "cell_type": "code",
      "execution_count": null,
      "metadata": {
        "colab": {
          "base_uri": "https://localhost:8080/"
        },
        "id": "lT34JQgqy7Hy",
        "outputId": "6d881f0b-9055-48a4-af16-6ba784b0bf7e"
      },
      "outputs": [
        {
          "output_type": "display_data",
          "data": {
            "text/plain": [
              "<IPython.core.display.HTML object>"
            ],
            "text/html": [
              "\n",
              "            <style>\n",
              "                .geemap-dark {\n",
              "                    --jp-widgets-color: white;\n",
              "                    --jp-widgets-label-color: white;\n",
              "                    --jp-ui-font-color1: white;\n",
              "                    --jp-layout-color2: #454545;\n",
              "                    background-color: #383838;\n",
              "                }\n",
              "\n",
              "                .geemap-dark .jupyter-button {\n",
              "                    --jp-layout-color3: #383838;\n",
              "                }\n",
              "\n",
              "                .geemap-colab {\n",
              "                    background-color: var(--colab-primary-surface-color, white);\n",
              "                }\n",
              "\n",
              "                .geemap-colab .jupyter-button {\n",
              "                    --jp-layout-color3: var(--colab-primary-surface-color, white);\n",
              "                }\n",
              "            </style>\n",
              "            "
            ]
          },
          "metadata": {}
        }
      ],
      "source": [
        "year = '2010'\n",
        "start = ee.Date(year+'-04-01')\n",
        "end   = ee.Date(year+'-08-31')\n",
        "l8_2010 =processL8(start,end,l7,AOI,'mean').set({\"Year\":year,'Name':year+'_L8_processed'})\n",
        "# l8_2010 =processL8(start,end,l7,AOI,'median').set({\"Year\":year,'Name':year+'_L8_processed'})\n",
        "# l8_2010 =processL8(start,end,l7,AOI,'min').set({\"Year\":year,'Name':year+'_L8_processed'})\n",
        "# l8_2010 =processL8(start,end,l7,AOI,'max').set({\"Year\":year,'Name':year+'_L8_processed'})\n",
        "# l8_2010 =processL8(start,end,l7,AOI,'stdDev').set({\"Year\":year,'Name':year+'_L8_processed'})\n",
        "# l8_2010 =processL8(start,end,l7,AOI,'percentile10').set({\"Year\":year,'Name':year+'_L8_processed'})\n",
        "# l8_2010 =processL8(start,end,l7,AOI,'percentile50').set({\"Year\":year,'Name':year+'_L8_processed'})\n",
        "# l8_2010 =processL8(start,end,l7,AOI,'percentile90').set({\"Year\":year,'Name':year+'_L8_processed'})\n",
        "\n",
        "\n",
        "l8_2010_prj = l8_2010.reproject('EPSG:4326',scale=scale)\n",
        "# l8_2010_prj_red = l8_2010_prj.reduceResolution(reducer=ee.Reducer.mean())\n",
        "\n",
        "# export_params = {\n",
        "#   'assetId': user_id +'/Outputs/Out5k/l8_2010',\n",
        "#   'region': AOI,\n",
        "#   'scale': 30,\n",
        "#   'maxPixels': 1e13\n",
        "# }\n",
        "\n",
        "# # Export the image to the asset\n",
        "# task = ee.batch.Export.image.toAsset(l8_2010, description='l8_2010', **export_params)\n",
        "# task.start()"
      ]
    },
    {
      "cell_type": "code",
      "source": [
        "#l8_2010_prj.getInfo()#['bands'][0]['crs']\n",
        "# Map.addLayer(l8_2010_prj,{'min':0,'max':10000},'l8_2010')\n",
        "# Map.addLayer(l8_2010_prj_red,{'min':0,'max':10000},'l8_2010_red')\n",
        "# Map"
      ],
      "metadata": {
        "id": "YmSDry1hLLCy",
        "collapsed": true,
        "colab": {
          "base_uri": "https://localhost:8080/"
        },
        "outputId": "4618fa55-a277-4be4-9545-4386c0bf29ee"
      },
      "execution_count": null,
      "outputs": [
        {
          "output_type": "display_data",
          "data": {
            "text/plain": [
              "<IPython.core.display.HTML object>"
            ],
            "text/html": [
              "\n",
              "            <style>\n",
              "                .geemap-dark {\n",
              "                    --jp-widgets-color: white;\n",
              "                    --jp-widgets-label-color: white;\n",
              "                    --jp-ui-font-color1: white;\n",
              "                    --jp-layout-color2: #454545;\n",
              "                    background-color: #383838;\n",
              "                }\n",
              "\n",
              "                .geemap-dark .jupyter-button {\n",
              "                    --jp-layout-color3: #383838;\n",
              "                }\n",
              "\n",
              "                .geemap-colab {\n",
              "                    background-color: var(--colab-primary-surface-color, white);\n",
              "                }\n",
              "\n",
              "                .geemap-colab .jupyter-button {\n",
              "                    --jp-layout-color3: var(--colab-primary-surface-color, white);\n",
              "                }\n",
              "            </style>\n",
              "            "
            ]
          },
          "metadata": {}
        }
      ]
    },
    {
      "cell_type": "code",
      "execution_count": null,
      "metadata": {
        "colab": {
          "base_uri": "https://localhost:8080/"
        },
        "id": "Ifl_VHfhksjJ",
        "outputId": "6805cb56-e095-4c9f-a635-6a3a7d7b0b0f"
      },
      "outputs": [
        {
          "output_type": "display_data",
          "data": {
            "text/plain": [
              "<IPython.core.display.HTML object>"
            ],
            "text/html": [
              "\n",
              "            <style>\n",
              "                .geemap-dark {\n",
              "                    --jp-widgets-color: white;\n",
              "                    --jp-widgets-label-color: white;\n",
              "                    --jp-ui-font-color1: white;\n",
              "                    --jp-layout-color2: #454545;\n",
              "                    background-color: #383838;\n",
              "                }\n",
              "\n",
              "                .geemap-dark .jupyter-button {\n",
              "                    --jp-layout-color3: #383838;\n",
              "                }\n",
              "\n",
              "                .geemap-colab {\n",
              "                    background-color: var(--colab-primary-surface-color, white);\n",
              "                }\n",
              "\n",
              "                .geemap-colab .jupyter-button {\n",
              "                    --jp-layout-color3: var(--colab-primary-surface-color, white);\n",
              "                }\n",
              "            </style>\n",
              "            "
            ]
          },
          "metadata": {}
        }
      ],
      "source": [
        "year = '2011'\n",
        "start = ee.Date(year+'-04-01')\n",
        "end   = ee.Date(year+'-08-31')\n",
        "l8_2011 =processL8(start,end,l7,AOI,'mean').set({\"Year\":year,'Name':year+'_L8_processed'})\n",
        "# l8_2011 =processL8(start,end,l7,AOI,'median').set({\"Year\":year,'Name':year+'_L8_processed'})\n",
        "# l8_2011 =processL8(start,end,l7,AOI,'min').set({\"Year\":year,'Name':year+'_L8_processed'})\n",
        "# l8_2011 =processL8(start,end,l7,AOI,'max').set({\"Year\":year,'Name':year+'_L8_processed'})\n",
        "# l8_2011 =processL8(start,end,l7,AOI,'stdDev').set({\"Year\":year,'Name':year+'_L8_processed'})\n",
        "# l8_2011 =processL8(start,end,l7,AOI,'percentile10').set({\"Year\":year,'Name':year+'_L8_processed'})\n",
        "# l8_2011 =processL8(start,end,l7,AOI,'percentile50').set({\"Year\":year,'Name':year+'_L8_processed'})\n",
        "# l8_2011 =processL8(start,end,l7,AOI,'percentile90').set({\"Year\":year,'Name':year+'_L8_processed'})\n",
        "l8_2011_prj = l8_2011.reproject('EPSG:4326',scale=scale)\n",
        "# export_params = {\n",
        "#   'assetId': user_id +'/Outputs/Out5k/l8_2011',\n",
        "#   'region': AOI,\n",
        "#   'scale': 30,\n",
        "#   'maxPixels': 1e13\n",
        "# }\n",
        "\n",
        "# # Export the image to the asset\n",
        "# task = ee.batch.Export.image.toAsset(l8_2011, description='l8_2011', **export_params)\n",
        "# task.start()"
      ]
    },
    {
      "cell_type": "code",
      "execution_count": null,
      "metadata": {
        "colab": {
          "base_uri": "https://localhost:8080/"
        },
        "id": "vA5FTumHYyJK",
        "outputId": "dace4f45-a7ba-4e88-93d9-55813de42740"
      },
      "outputs": [
        {
          "output_type": "display_data",
          "data": {
            "text/plain": [
              "<IPython.core.display.HTML object>"
            ],
            "text/html": [
              "\n",
              "            <style>\n",
              "                .geemap-dark {\n",
              "                    --jp-widgets-color: white;\n",
              "                    --jp-widgets-label-color: white;\n",
              "                    --jp-ui-font-color1: white;\n",
              "                    --jp-layout-color2: #454545;\n",
              "                    background-color: #383838;\n",
              "                }\n",
              "\n",
              "                .geemap-dark .jupyter-button {\n",
              "                    --jp-layout-color3: #383838;\n",
              "                }\n",
              "\n",
              "                .geemap-colab {\n",
              "                    background-color: var(--colab-primary-surface-color, white);\n",
              "                }\n",
              "\n",
              "                .geemap-colab .jupyter-button {\n",
              "                    --jp-layout-color3: var(--colab-primary-surface-color, white);\n",
              "                }\n",
              "            </style>\n",
              "            "
            ]
          },
          "metadata": {}
        }
      ],
      "source": [
        "year = '2012'\n",
        "start = ee.Date(year+'-04-01')\n",
        "end   = ee.Date(year+'-08-31')\n",
        "l8_2012 =processL8(start,end,l7,AOI,'mean').set({\"Year\":year,'Name':year+'_L8_processed'})\n",
        "# l8_2012 =processL8(start,end,l7,AOI,'median').set({\"Year\":year,'Name':year+'_L8_processed'})\n",
        "# l8_2012 =processL8(start,end,l7,AOI,'min').set({\"Year\":year,'Name':year+'_L8_processed'})\n",
        "# l8_2012 =processL8(start,end,l7,AOI,'max').set({\"Year\":year,'Name':year+'_L8_processed'})\n",
        "# l8_2012 =processL8(start,end,l7,AOI,'stdDev').set({\"Year\":year,'Name':year+'_L8_processed'})\n",
        "# l8_2012 =processL8(start,end,l7,AOI,'percentile10').set({\"Year\":year,'Name':year+'_L8_processed'})\n",
        "# l8_2012 =processL8(start,end,l7,AOI,'percentile50').set({\"Year\":year,'Name':year+'_L8_processed'})\n",
        "# l8_2012 =processL8(start,end,l7,AOI,'percentile90').set({\"Year\":year,'Name':year+'_L8_processed'})\n",
        "\n",
        "l8_2012_prj = l8_2012.reproject('EPSG:4326',scale=scale)\n",
        "\n",
        "# export_params = {\n",
        "#   'assetId': user_id +'/Outputs/Out5k/l8_2012',\n",
        "#   'region': AOI,\n",
        "#   'scale': 30,\n",
        "#   'maxPixels': 1e13\n",
        "# }\n",
        "\n",
        "# # Export the image to the asset\n",
        "# task = ee.batch.Export.image.toAsset(l8_2012, description='l8_2012', **export_params)\n",
        "# # task.start()"
      ]
    },
    {
      "cell_type": "code",
      "execution_count": null,
      "metadata": {
        "colab": {
          "base_uri": "https://localhost:8080/"
        },
        "id": "qh7zv5bSRvmm",
        "outputId": "2498fe63-77dc-415c-c832-25a5df4bbec6"
      },
      "outputs": [
        {
          "output_type": "display_data",
          "data": {
            "text/plain": [
              "<IPython.core.display.HTML object>"
            ],
            "text/html": [
              "\n",
              "            <style>\n",
              "                .geemap-dark {\n",
              "                    --jp-widgets-color: white;\n",
              "                    --jp-widgets-label-color: white;\n",
              "                    --jp-ui-font-color1: white;\n",
              "                    --jp-layout-color2: #454545;\n",
              "                    background-color: #383838;\n",
              "                }\n",
              "\n",
              "                .geemap-dark .jupyter-button {\n",
              "                    --jp-layout-color3: #383838;\n",
              "                }\n",
              "\n",
              "                .geemap-colab {\n",
              "                    background-color: var(--colab-primary-surface-color, white);\n",
              "                }\n",
              "\n",
              "                .geemap-colab .jupyter-button {\n",
              "                    --jp-layout-color3: var(--colab-primary-surface-color, white);\n",
              "                }\n",
              "            </style>\n",
              "            "
            ]
          },
          "metadata": {}
        }
      ],
      "source": [
        "# task.status()"
      ]
    },
    {
      "cell_type": "code",
      "execution_count": null,
      "metadata": {
        "colab": {
          "base_uri": "https://localhost:8080/"
        },
        "id": "iXYUMeszYyBR",
        "outputId": "9baacf13-590e-4800-fe91-257d2e3b7154"
      },
      "outputs": [
        {
          "output_type": "display_data",
          "data": {
            "text/plain": [
              "<IPython.core.display.HTML object>"
            ],
            "text/html": [
              "\n",
              "            <style>\n",
              "                .geemap-dark {\n",
              "                    --jp-widgets-color: white;\n",
              "                    --jp-widgets-label-color: white;\n",
              "                    --jp-ui-font-color1: white;\n",
              "                    --jp-layout-color2: #454545;\n",
              "                    background-color: #383838;\n",
              "                }\n",
              "\n",
              "                .geemap-dark .jupyter-button {\n",
              "                    --jp-layout-color3: #383838;\n",
              "                }\n",
              "\n",
              "                .geemap-colab {\n",
              "                    background-color: var(--colab-primary-surface-color, white);\n",
              "                }\n",
              "\n",
              "                .geemap-colab .jupyter-button {\n",
              "                    --jp-layout-color3: var(--colab-primary-surface-color, white);\n",
              "                }\n",
              "            </style>\n",
              "            "
            ]
          },
          "metadata": {}
        }
      ],
      "source": [
        "year = '2013'\n",
        "start = ee.Date(year+'-04-01')\n",
        "end   = ee.Date(year+'-08-31')\n",
        "l8_2013 =processL8(start,end,l8,AOI,'mean').set({\"Year\":year,'Name':year+'_L8_processed'})\n",
        "# l8_2013 =processL8(start,end,l8,AOI,'median').set({\"Year\":year,'Name':year+'_L8_processed'})\n",
        "# l8_2013 =processL8(start,end,l8,AOI,'min').set({\"Year\":year,'Name':year+'_L8_processed'})\n",
        "# l8_2013 =processL8(start,end,l8,AOI,'max').set({\"Year\":year,'Name':year+'_L8_processed'})\n",
        "# l8_2013 =processL8(start,end,l8,AOI,'stdDev').set({\"Year\":year,'Name':year+'_L8_processed'})\n",
        "# l8_2013 =processL8(start,end,l8,AOI,'percentile10').set({\"Year\":year,'Name':year+'_L8_processed'})\n",
        "# l8_2013 =processL8(start,end,l8,AOI,'percentile50').set({\"Year\":year,'Name':year+'_L8_processed'})\n",
        "# l8_2013 =processL8(start,end,l8,AOI,'percentile90').set({\"Year\":year,'Name':year+'_L8_processed'})\n",
        "\n",
        "l8_2013_prj = l8_2013.reproject('EPSG:4326',scale=scale)"
      ]
    },
    {
      "cell_type": "code",
      "execution_count": null,
      "metadata": {
        "colab": {
          "base_uri": "https://localhost:8080/"
        },
        "id": "eoqq_PIpYx5_",
        "outputId": "edf27616-6541-4da7-e764-9af71b8fd295"
      },
      "outputs": [
        {
          "output_type": "display_data",
          "data": {
            "text/plain": [
              "<IPython.core.display.HTML object>"
            ],
            "text/html": [
              "\n",
              "            <style>\n",
              "                .geemap-dark {\n",
              "                    --jp-widgets-color: white;\n",
              "                    --jp-widgets-label-color: white;\n",
              "                    --jp-ui-font-color1: white;\n",
              "                    --jp-layout-color2: #454545;\n",
              "                    background-color: #383838;\n",
              "                }\n",
              "\n",
              "                .geemap-dark .jupyter-button {\n",
              "                    --jp-layout-color3: #383838;\n",
              "                }\n",
              "\n",
              "                .geemap-colab {\n",
              "                    background-color: var(--colab-primary-surface-color, white);\n",
              "                }\n",
              "\n",
              "                .geemap-colab .jupyter-button {\n",
              "                    --jp-layout-color3: var(--colab-primary-surface-color, white);\n",
              "                }\n",
              "            </style>\n",
              "            "
            ]
          },
          "metadata": {}
        }
      ],
      "source": [
        "year = '2014'\n",
        "start = ee.Date(year+'-04-01')\n",
        "end   = ee.Date(year+'-08-31')\n",
        "l8_2014 =processL8(start,end,l8,AOI,'mean').set({\"Year\":year,'Name':year+'_L8_processed'})\n",
        "# l8_2014 =processL8(start,end,l8,AOI,'median').set({\"Year\":year,'Name':year+'_L8_processed'})\n",
        "# l8_2014 =processL8(start,end,l8,AOI,'min').set({\"Year\":year,'Name':year+'_L8_processed'})\n",
        "# l8_2014 =processL8(start,end,l8,AOI,'max').set({\"Year\":year,'Name':year+'_L8_processed'})\n",
        "# l8_2014 =processL8(start,end,l8,AOI,'stdDev').set({\"Year\":year,'Name':year+'_L8_processed'})\n",
        "# l8_2014 =processL8(start,end,l8,AOI,'percentile10').set({\"Year\":year,'Name':year+'_L8_processed'})\n",
        "# l8_2014 =processL8(start,end,l8,AOI,'percentile50').set({\"Year\":year,'Name':year+'_L8_processed'})\n",
        "# l8_2014 =processL8(start,end,l8,AOI,'percentile90').set({\"Year\":year,'Name':year+'_L8_processed'})\n",
        "\n",
        "l8_2014_prj = l8_2014.reproject('EPSG:4326',scale=scale)\n"
      ]
    },
    {
      "cell_type": "code",
      "execution_count": null,
      "metadata": {
        "colab": {
          "base_uri": "https://localhost:8080/"
        },
        "id": "5rYlm72cYxuR",
        "outputId": "d2e791fd-7358-4489-b8d6-b3b940c15bae"
      },
      "outputs": [
        {
          "output_type": "display_data",
          "data": {
            "text/plain": [
              "<IPython.core.display.HTML object>"
            ],
            "text/html": [
              "\n",
              "            <style>\n",
              "                .geemap-dark {\n",
              "                    --jp-widgets-color: white;\n",
              "                    --jp-widgets-label-color: white;\n",
              "                    --jp-ui-font-color1: white;\n",
              "                    --jp-layout-color2: #454545;\n",
              "                    background-color: #383838;\n",
              "                }\n",
              "\n",
              "                .geemap-dark .jupyter-button {\n",
              "                    --jp-layout-color3: #383838;\n",
              "                }\n",
              "\n",
              "                .geemap-colab {\n",
              "                    background-color: var(--colab-primary-surface-color, white);\n",
              "                }\n",
              "\n",
              "                .geemap-colab .jupyter-button {\n",
              "                    --jp-layout-color3: var(--colab-primary-surface-color, white);\n",
              "                }\n",
              "            </style>\n",
              "            "
            ]
          },
          "metadata": {}
        }
      ],
      "source": [
        "year = '2015'\n",
        "start = ee.Date(year+'-04-01')\n",
        "end   = ee.Date(year+'-08-31')\n",
        "l8_2015 =processL8(start,end,l8,AOI,'mean').set({\"Year\":year,'Name':year+'_L8_processed'})\n",
        "# l8_2015 =processL8(start,end,l8,AOI,'median').set({\"Year\":year,'Name':year+'_L8_processed'})\n",
        "# l8_2015 =processL8(start,end,l8,AOI,'min').set({\"Year\":year,'Name':year+'_L8_processed'})\n",
        "# l8_2015 =processL8(start,end,l8,AOI,'max').set({\"Year\":year,'Name':year+'_L8_processed'})\n",
        "# l8_2015 =processL8(start,end,l8,AOI,'stdDev').set({\"Year\":year,'Name':year+'_L8_processed'})\n",
        "# l8_2015 =processL8(start,end,l8,AOI,'percentile10').set({\"Year\":year,'Name':year+'_L8_processed'})\n",
        "# l8_2015 =processL8(start,end,l8,AOI,'percentile50').set({\"Year\":year,'Name':year+'_L8_processed'})\n",
        "# l8_2015 =processL8(start,end,l8,AOI,'percentile90').set({\"Year\":year,'Name':year+'_L8_processed'})\n",
        "\n",
        "l8_2015_prj = l8_2015.reproject('EPSG:4326',scale=scale)\n"
      ]
    },
    {
      "cell_type": "code",
      "execution_count": null,
      "metadata": {
        "colab": {
          "base_uri": "https://localhost:8080/"
        },
        "id": "NDrwYlfXY6VU",
        "outputId": "2c6945b5-fd46-4ef9-8e6f-231f1219f53c"
      },
      "outputs": [
        {
          "output_type": "display_data",
          "data": {
            "text/plain": [
              "<IPython.core.display.HTML object>"
            ],
            "text/html": [
              "\n",
              "            <style>\n",
              "                .geemap-dark {\n",
              "                    --jp-widgets-color: white;\n",
              "                    --jp-widgets-label-color: white;\n",
              "                    --jp-ui-font-color1: white;\n",
              "                    --jp-layout-color2: #454545;\n",
              "                    background-color: #383838;\n",
              "                }\n",
              "\n",
              "                .geemap-dark .jupyter-button {\n",
              "                    --jp-layout-color3: #383838;\n",
              "                }\n",
              "\n",
              "                .geemap-colab {\n",
              "                    background-color: var(--colab-primary-surface-color, white);\n",
              "                }\n",
              "\n",
              "                .geemap-colab .jupyter-button {\n",
              "                    --jp-layout-color3: var(--colab-primary-surface-color, white);\n",
              "                }\n",
              "            </style>\n",
              "            "
            ]
          },
          "metadata": {}
        }
      ],
      "source": [
        "year = '2016'\n",
        "start = ee.Date(year+'-04-01')\n",
        "end   = ee.Date(year+'-08-31')\n",
        "l8_2016 =processL8(start,end,l8,AOI,'mean').set({\"Year\":year,'Name':year+'_L8_processed'})\n",
        "# l8_2016 =processL8(start,end,l8,AOI,'median').set({\"Year\":year,'Name':year+'_L8_processed'})\n",
        "# l8_2016 =processL8(start,end,l8,AOI,'min').set({\"Year\":year,'Name':year+'_L8_processed'})\n",
        "# l8_2016 =processL8(start,end,l8,AOI,'max').set({\"Year\":year,'Name':year+'_L8_processed'})\n",
        "# l8_2016 =processL8(start,end,l8,AOI,'stdDev').set({\"Year\":year,'Name':year+'_L8_processed'})\n",
        "# l8_2016 =processL8(start,end,l8,AOI,'percentile10').set({\"Year\":year,'Name':year+'_L8_processed'})\n",
        "# l8_2016 =processL8(start,end,l8,AOI,'percentile50').set({\"Year\":year,'Name':year+'_L8_processed'})\n",
        "# l8_2016 =processL8(start,end,l8,AOI,'percentile90').set({\"Year\":year,'Name':year+'_L8_processed'})\n",
        "\n",
        "l8_2016_prj = l8_2016.reproject('EPSG:4326',scale=scale)\n",
        "\n"
      ]
    },
    {
      "cell_type": "code",
      "execution_count": null,
      "metadata": {
        "colab": {
          "base_uri": "https://localhost:8080/"
        },
        "id": "8LZLWReRY7in",
        "outputId": "7d82a871-2988-4814-90de-845ee524d514"
      },
      "outputs": [
        {
          "output_type": "display_data",
          "data": {
            "text/plain": [
              "<IPython.core.display.HTML object>"
            ],
            "text/html": [
              "\n",
              "            <style>\n",
              "                .geemap-dark {\n",
              "                    --jp-widgets-color: white;\n",
              "                    --jp-widgets-label-color: white;\n",
              "                    --jp-ui-font-color1: white;\n",
              "                    --jp-layout-color2: #454545;\n",
              "                    background-color: #383838;\n",
              "                }\n",
              "\n",
              "                .geemap-dark .jupyter-button {\n",
              "                    --jp-layout-color3: #383838;\n",
              "                }\n",
              "\n",
              "                .geemap-colab {\n",
              "                    background-color: var(--colab-primary-surface-color, white);\n",
              "                }\n",
              "\n",
              "                .geemap-colab .jupyter-button {\n",
              "                    --jp-layout-color3: var(--colab-primary-surface-color, white);\n",
              "                }\n",
              "            </style>\n",
              "            "
            ]
          },
          "metadata": {}
        }
      ],
      "source": [
        "year = '2017'\n",
        "start = ee.Date(year+'-04-01')\n",
        "end   = ee.Date(year+'-08-31')\n",
        "l8_2017 =processL8(start,end,l8,AOI,'mean').set({\"Year\":year,'Name':year+'_L8_processed'})\n",
        "# l8_2017 =processL8(start,end,l8,AOI,'median').set({\"Year\":year,'Name':year+'_L8_processed'})\n",
        "# l8_2017 =processL8(start,end,l8,AOI,'min').set({\"Year\":year,'Name':year+'_L8_processed'})\n",
        "# l8_2017 =processL8(start,end,l8,AOI,'max').set({\"Year\":year,'Name':year+'_L8_processed'})\n",
        "# l8_2017 =processL8(start,end,l8,AOI,'stdDev').set({\"Year\":year,'Name':year+'_L8_processed'})\n",
        "# l8_2017 =processL8(start,end,l8,AOI,'percentile10').set({\"Year\":year,'Name':year+'_L8_processed'})\n",
        "# l8_2017 =processL8(start,end,l8,AOI,'percentile50').set({\"Year\":year,'Name':year+'_L8_processed'})\n",
        "# l8_2017 =processL8(start,end,l8,AOI,'percentile90').set({\"Year\":year,'Name':year+'_L8_processed'})\n",
        "\n",
        "l8_2017_prj = l8_2017.reproject('EPSG:4326',scale=scale)\n"
      ]
    },
    {
      "cell_type": "code",
      "execution_count": null,
      "metadata": {
        "colab": {
          "base_uri": "https://localhost:8080/"
        },
        "id": "4JtaA9P4Y8wd",
        "outputId": "44536bd7-fd5b-4111-ab44-a4301fc5b8d0"
      },
      "outputs": [
        {
          "output_type": "display_data",
          "data": {
            "text/plain": [
              "<IPython.core.display.HTML object>"
            ],
            "text/html": [
              "\n",
              "            <style>\n",
              "                .geemap-dark {\n",
              "                    --jp-widgets-color: white;\n",
              "                    --jp-widgets-label-color: white;\n",
              "                    --jp-ui-font-color1: white;\n",
              "                    --jp-layout-color2: #454545;\n",
              "                    background-color: #383838;\n",
              "                }\n",
              "\n",
              "                .geemap-dark .jupyter-button {\n",
              "                    --jp-layout-color3: #383838;\n",
              "                }\n",
              "\n",
              "                .geemap-colab {\n",
              "                    background-color: var(--colab-primary-surface-color, white);\n",
              "                }\n",
              "\n",
              "                .geemap-colab .jupyter-button {\n",
              "                    --jp-layout-color3: var(--colab-primary-surface-color, white);\n",
              "                }\n",
              "            </style>\n",
              "            "
            ]
          },
          "metadata": {}
        }
      ],
      "source": [
        "year = '2018'\n",
        "start = ee.Date(year+'-04-01')\n",
        "end   = ee.Date(year+'-08-31')\n",
        "l8_2018 =processL8(start,end,l8,AOI,'mean').set({\"Year\":year,'Name':year+'_L8_processed'})\n",
        "# l8_2018 =processL8(start,end,l8,AOI,'median').set({\"Year\":year,'Name':year+'_L8_processed'})\n",
        "# l8_2018 =processL8(start,end,l8,AOI,'min').set({\"Year\":year,'Name':year+'_L8_processed'})\n",
        "# l8_2018 =processL8(start,end,l8,AOI,'max').set({\"Year\":year,'Name':year+'_L8_processed'})\n",
        "# l8_2018 =processL8(start,end,l8,AOI,'stdDev').set({\"Year\":year,'Name':year+'_L8_processed'})\n",
        "# l8_2018 =processL8(start,end,l8,AOI,'percentile10').set({\"Year\":year,'Name':year+'_L8_processed'})\n",
        "# l8_2018 =processL8(start,end,l8,AOI,'percentile50').set({\"Year\":year,'Name':year+'_L8_processed'})\n",
        "# l8_2018 =processL8(start,end,l8,AOI,'percentile90').set({\"Year\":year,'Name':year+'_L8_processed'})\n",
        "\n",
        "l8_2018_prj = l8_2018.reproject('EPSG:4326',scale=scale)\n"
      ]
    },
    {
      "cell_type": "code",
      "execution_count": null,
      "metadata": {
        "colab": {
          "base_uri": "https://localhost:8080/"
        },
        "id": "zIUZ4Jy2ct77",
        "outputId": "2d5bad5a-cee8-4e64-fa50-c88a33971616"
      },
      "outputs": [
        {
          "output_type": "display_data",
          "data": {
            "text/plain": [
              "<IPython.core.display.HTML object>"
            ],
            "text/html": [
              "\n",
              "            <style>\n",
              "                .geemap-dark {\n",
              "                    --jp-widgets-color: white;\n",
              "                    --jp-widgets-label-color: white;\n",
              "                    --jp-ui-font-color1: white;\n",
              "                    --jp-layout-color2: #454545;\n",
              "                    background-color: #383838;\n",
              "                }\n",
              "\n",
              "                .geemap-dark .jupyter-button {\n",
              "                    --jp-layout-color3: #383838;\n",
              "                }\n",
              "\n",
              "                .geemap-colab {\n",
              "                    background-color: var(--colab-primary-surface-color, white);\n",
              "                }\n",
              "\n",
              "                .geemap-colab .jupyter-button {\n",
              "                    --jp-layout-color3: var(--colab-primary-surface-color, white);\n",
              "                }\n",
              "            </style>\n",
              "            "
            ]
          },
          "metadata": {}
        }
      ],
      "source": [
        "year = '2019'\n",
        "start = ee.Date(year+'-04-01')\n",
        "end   = ee.Date(year+'-08-31')\n",
        "l8_2019 =processL8(start,end,l8,AOI,'mean').set({\"Year\":year,'Name':year+'_L8_processed'})\n",
        "# l8_2019 =processL8(start,end,l8,AOI,'median').set({\"Year\":year,'Name':year+'_L8_processed'})\n",
        "# l8_2019 =processL8(start,end,l8,AOI,'min').set({\"Year\":year,'Name':year+'_L8_processed'})\n",
        "# l8_2019 =processL8(start,end,l8,AOI,'max').set({\"Year\":year,'Name':year+'_L8_processed'})\n",
        "# l8_2019 =processL8(start,end,l8,AOI,'stdDev').set({\"Year\":year,'Name':year+'_L8_processed'})\n",
        "# l8_2019 =processL8(start,end,l8,AOI,'percentile10').set({\"Year\":year,'Name':year+'_L8_processed'})\n",
        "# l8_2019 =processL8(start,end,l8,AOI,'percentile50').set({\"Year\":year,'Name':year+'_L8_processed'})\n",
        "# l8_2019 =processL8(start,end,l8,AOI,'percentile90').set({\"Year\":year,'Name':year+'_L8_processed'})\n",
        "\n",
        "l8_2019_prj = l8_2019.reproject('EPSG:4326',scale=scale)\n"
      ]
    },
    {
      "cell_type": "code",
      "execution_count": null,
      "metadata": {
        "colab": {
          "base_uri": "https://localhost:8080/"
        },
        "id": "67nLUT8ocum2",
        "outputId": "5bcd3d30-660b-4fda-ac77-f08966592ce1"
      },
      "outputs": [
        {
          "output_type": "display_data",
          "data": {
            "text/plain": [
              "<IPython.core.display.HTML object>"
            ],
            "text/html": [
              "\n",
              "            <style>\n",
              "                .geemap-dark {\n",
              "                    --jp-widgets-color: white;\n",
              "                    --jp-widgets-label-color: white;\n",
              "                    --jp-ui-font-color1: white;\n",
              "                    --jp-layout-color2: #454545;\n",
              "                    background-color: #383838;\n",
              "                }\n",
              "\n",
              "                .geemap-dark .jupyter-button {\n",
              "                    --jp-layout-color3: #383838;\n",
              "                }\n",
              "\n",
              "                .geemap-colab {\n",
              "                    background-color: var(--colab-primary-surface-color, white);\n",
              "                }\n",
              "\n",
              "                .geemap-colab .jupyter-button {\n",
              "                    --jp-layout-color3: var(--colab-primary-surface-color, white);\n",
              "                }\n",
              "            </style>\n",
              "            "
            ]
          },
          "metadata": {}
        }
      ],
      "source": [
        "year = '2020'\n",
        "start = ee.Date(year+'-04-01')\n",
        "end   = ee.Date(year+'-08-31')\n",
        "l8_2020 =processL8(start,end,l8,AOI,'mean').set({\"Year\":year,'Name':year+'_L8_processed'})\n",
        "# l8_2020 =processL8(start,end,l8,AOI,'median').set({\"Year\":year,'Name':year+'_L8_processed'})\n",
        "# l8_2020 =processL8(start,end,l8,AOI,'min').set({\"Year\":year,'Name':year+'_L8_processed'})\n",
        "# l8_2020 =processL8(start,end,l8,AOI,'max').set({\"Year\":year,'Name':year+'_L8_processed'})\n",
        "# l8_2020 =processL8(start,end,l8,AOI,'stdDev').set({\"Year\":year,'Name':year+'_L8_processed'})\n",
        "# l8_2020 =processL8(start,end,l8,AOI,'percentile10').set({\"Year\":year,'Name':year+'_L8_processed'})\n",
        "# l8_2020 =processL8(start,end,l8,AOI,'percentile50').set({\"Year\":year,'Name':year+'_L8_processed'})\n",
        "# l8_2020 =processL8(start,end,l8,AOI,'percentile90').set({\"Year\":year,'Name':year+'_L8_processed'})\n",
        "\n",
        "l8_2020_prj = l8_2020.reproject('EPSG:4326',scale=scale)\n"
      ]
    },
    {
      "cell_type": "code",
      "execution_count": null,
      "metadata": {
        "colab": {
          "base_uri": "https://localhost:8080/"
        },
        "id": "UG0gcQFfcvVF",
        "outputId": "86ba8358-5a53-4ad0-a1dd-6e9f2fbc73d3"
      },
      "outputs": [
        {
          "output_type": "display_data",
          "data": {
            "text/plain": [
              "<IPython.core.display.HTML object>"
            ],
            "text/html": [
              "\n",
              "            <style>\n",
              "                .geemap-dark {\n",
              "                    --jp-widgets-color: white;\n",
              "                    --jp-widgets-label-color: white;\n",
              "                    --jp-ui-font-color1: white;\n",
              "                    --jp-layout-color2: #454545;\n",
              "                    background-color: #383838;\n",
              "                }\n",
              "\n",
              "                .geemap-dark .jupyter-button {\n",
              "                    --jp-layout-color3: #383838;\n",
              "                }\n",
              "\n",
              "                .geemap-colab {\n",
              "                    background-color: var(--colab-primary-surface-color, white);\n",
              "                }\n",
              "\n",
              "                .geemap-colab .jupyter-button {\n",
              "                    --jp-layout-color3: var(--colab-primary-surface-color, white);\n",
              "                }\n",
              "            </style>\n",
              "            "
            ]
          },
          "metadata": {}
        }
      ],
      "source": [
        "year = '2021'\n",
        "start = ee.Date(year+'-04-01')\n",
        "end   = ee.Date(year+'-08-31')\n",
        "l8_2021 =processL8(start,end,l8,AOI,'mean').set({\"Year\":year,'Name':year+'_L8_processed'})\n",
        "# l8_2021 =processL8(start,end,l8,AOI,'median').set({\"Year\":year,'Name':year+'_L8_processed'})\n",
        "# l8_2021 =processL8(start,end,l8,AOI,'min').set({\"Year\":year,'Name':year+'_L8_processed'})\n",
        "# l8_2021 =processL8(start,end,l8,AOI,'max').set({\"Year\":year,'Name':year+'_L8_processed'})\n",
        "# l8_2021 =processL8(start,end,l8,AOI,'stdDev').set({\"Year\":year,'Name':year+'_L8_processed'})\n",
        "# l8_2021 =processL8(start,end,l8,AOI,'percentile10').set({\"Year\":year,'Name':year+'_L8_processed'})\n",
        "# l8_2021 =processL8(start,end,l8,AOI,'percentile50').set({\"Year\":year,'Name':year+'_L8_processed'})\n",
        "# l8_2021 =processL8(start,end,l8,AOI,'percentile90').set({\"Year\":year,'Name':year+'_L8_processed'})\n",
        "\n",
        "l8_2021_prj = l8_2021.reproject('EPSG:4326',scale=scale)\n"
      ]
    },
    {
      "cell_type": "code",
      "execution_count": null,
      "metadata": {
        "colab": {
          "base_uri": "https://localhost:8080/"
        },
        "id": "SWw71AJWdVqe",
        "outputId": "65ea34cd-8c8e-42e0-84e2-195e6ae03978"
      },
      "outputs": [
        {
          "output_type": "display_data",
          "data": {
            "text/plain": [
              "<IPython.core.display.HTML object>"
            ],
            "text/html": [
              "\n",
              "            <style>\n",
              "                .geemap-dark {\n",
              "                    --jp-widgets-color: white;\n",
              "                    --jp-widgets-label-color: white;\n",
              "                    --jp-ui-font-color1: white;\n",
              "                    --jp-layout-color2: #454545;\n",
              "                    background-color: #383838;\n",
              "                }\n",
              "\n",
              "                .geemap-dark .jupyter-button {\n",
              "                    --jp-layout-color3: #383838;\n",
              "                }\n",
              "\n",
              "                .geemap-colab {\n",
              "                    background-color: var(--colab-primary-surface-color, white);\n",
              "                }\n",
              "\n",
              "                .geemap-colab .jupyter-button {\n",
              "                    --jp-layout-color3: var(--colab-primary-surface-color, white);\n",
              "                }\n",
              "            </style>\n",
              "            "
            ]
          },
          "metadata": {}
        }
      ],
      "source": [
        "year = '2022'\n",
        "start = ee.Date(year+'-04-01')\n",
        "end   = ee.Date(year+'-08-31')\n",
        "l8_2022 =processL8(start,end,l8,AOI,'mean').set({\"Year\":year,'Name':year+'_L8_processed'})\n",
        "# l8_2022 =processL8(start,end,l8,AOI,'median').set({\"Year\":year,'Name':year+'_L8_processed'})\n",
        "# l8_2022 =processL8(start,end,l8,AOI,'min').set({\"Year\":year,'Name':year+'_L8_processed'})\n",
        "# l8_2022 =processL8(start,end,l8,AOI,'max').set({\"Year\":year,'Name':year+'_L8_processed'})\n",
        "# l8_2022 =processL8(start,end,l8,AOI,'stdDev').set({\"Year\":year,'Name':year+'_L8_processed'})\n",
        "# l8_2022 =processL8(start,end,l8,AOI,'percentile10').set({\"Year\":year,'Name':year+'_L8_processed'})\n",
        "# l8_2022 =processL8(start,end,l8,AOI,'percentile50').set({\"Year\":year,'Name':year+'_L8_processed'})\n",
        "# l8_2022 =processL8(start,end,l8,AOI,'percentile90').set({\"Year\":year,'Name':year+'_L8_processed'})\n",
        "\n",
        "l8_2022_prj = l8_2022.reproject('EPSG:4326',scale=scale)\n"
      ]
    },
    {
      "cell_type": "code",
      "execution_count": null,
      "metadata": {
        "colab": {
          "base_uri": "https://localhost:8080/"
        },
        "id": "Ut6pgaiVda69",
        "outputId": "aa5f130b-7bad-4697-f172-8ebd94017a41"
      },
      "outputs": [
        {
          "output_type": "display_data",
          "data": {
            "text/plain": [
              "<IPython.core.display.HTML object>"
            ],
            "text/html": [
              "\n",
              "            <style>\n",
              "                .geemap-dark {\n",
              "                    --jp-widgets-color: white;\n",
              "                    --jp-widgets-label-color: white;\n",
              "                    --jp-ui-font-color1: white;\n",
              "                    --jp-layout-color2: #454545;\n",
              "                    background-color: #383838;\n",
              "                }\n",
              "\n",
              "                .geemap-dark .jupyter-button {\n",
              "                    --jp-layout-color3: #383838;\n",
              "                }\n",
              "\n",
              "                .geemap-colab {\n",
              "                    background-color: var(--colab-primary-surface-color, white);\n",
              "                }\n",
              "\n",
              "                .geemap-colab .jupyter-button {\n",
              "                    --jp-layout-color3: var(--colab-primary-surface-color, white);\n",
              "                }\n",
              "            </style>\n",
              "            "
            ]
          },
          "metadata": {}
        }
      ],
      "source": [
        "year = '2023'\n",
        "start = ee.Date(year+'-04-01')\n",
        "end   = ee.Date(year+'-08-31')\n",
        "l8_2023 =processL8(start,end,l8,AOI,'mean').set({\"Year\":year,'Name':year+'_L8_processed'})\n",
        "# l8_2023 =processL8(start,end,l8,AOI,'median').set({\"Year\":year,'Name':year+'_L8_processed'})\n",
        "# l8_2023 =processL8(start,end,l8,AOI,'min').set({\"Year\":year,'Name':year+'_L8_processed'})\n",
        "# l8_2023 =processL8(start,end,l8,AOI,'max').set({\"Year\":year,'Name':year+'_L8_processed'})\n",
        "# l8_2023 =processL8(start,end,l8,AOI,'stdDev').set({\"Year\":year,'Name':year+'_L8_processed'})\n",
        "# l8_2023 =processL8(start,end,l8,AOI,'percentile10').set({\"Year\":year,'Name':year+'_L8_processed'})\n",
        "# l8_2023 =processL8(start,end,l8,AOI,'percentile50').set({\"Year\":year,'Name':year+'_L8_processed'})\n",
        "# l8_2023 =processL8(start,end,l8,AOI,'percentile90').set({\"Year\":year,'Name':year+'_L8_processed'})\n",
        "\n",
        "l8_2023_prj = l8_2023.reproject('EPSG:4326',scale=scale)\n"
      ]
    },
    {
      "cell_type": "code",
      "execution_count": null,
      "metadata": {
        "colab": {
          "base_uri": "https://localhost:8080/"
        },
        "id": "yePQG21LZiGx",
        "outputId": "1756063b-20f3-46b6-d823-e69584ba91ce"
      },
      "outputs": [
        {
          "output_type": "display_data",
          "data": {
            "text/plain": [
              "<IPython.core.display.HTML object>"
            ],
            "text/html": [
              "\n",
              "            <style>\n",
              "                .geemap-dark {\n",
              "                    --jp-widgets-color: white;\n",
              "                    --jp-widgets-label-color: white;\n",
              "                    --jp-ui-font-color1: white;\n",
              "                    --jp-layout-color2: #454545;\n",
              "                    background-color: #383838;\n",
              "                }\n",
              "\n",
              "                .geemap-dark .jupyter-button {\n",
              "                    --jp-layout-color3: #383838;\n",
              "                }\n",
              "\n",
              "                .geemap-colab {\n",
              "                    background-color: var(--colab-primary-surface-color, white);\n",
              "                }\n",
              "\n",
              "                .geemap-colab .jupyter-button {\n",
              "                    --jp-layout-color3: var(--colab-primary-surface-color, white);\n",
              "                }\n",
              "            </style>\n",
              "            "
            ]
          },
          "metadata": {}
        }
      ],
      "source": [
        "# imageList = [l8_2010,l8_2011,l8_2012,l8_2013,l8_2014,l8_2015,l8_2015,l8_2016,l8_2017,l8_2018,\n",
        "#              l8_2019,l8_2020,l8_2021,l8_2022,l8_2023]\n",
        "imageList = [l8_2010_prj,l8_2011_prj,l8_2012_prj,l8_2013_prj,l8_2014_prj,l8_2015_prj,l8_2016_prj,\n",
        "             l8_2017_prj,l8_2018_prj,l8_2019_prj,l8_2020_prj,l8_2021_prj,l8_2022_prj,l8_2023_prj]"
      ]
    },
    {
      "cell_type": "code",
      "execution_count": null,
      "metadata": {
        "colab": {
          "base_uri": "https://localhost:8080/"
        },
        "id": "GAsVe5OqZrco",
        "outputId": "b7d52acb-e1b8-436f-e1f3-a1347eed1131"
      },
      "outputs": [
        {
          "output_type": "display_data",
          "data": {
            "text/plain": [
              "<IPython.core.display.HTML object>"
            ],
            "text/html": [
              "\n",
              "            <style>\n",
              "                .geemap-dark {\n",
              "                    --jp-widgets-color: white;\n",
              "                    --jp-widgets-label-color: white;\n",
              "                    --jp-ui-font-color1: white;\n",
              "                    --jp-layout-color2: #454545;\n",
              "                    background-color: #383838;\n",
              "                }\n",
              "\n",
              "                .geemap-dark .jupyter-button {\n",
              "                    --jp-layout-color3: #383838;\n",
              "                }\n",
              "\n",
              "                .geemap-colab {\n",
              "                    background-color: var(--colab-primary-surface-color, white);\n",
              "                }\n",
              "\n",
              "                .geemap-colab .jupyter-button {\n",
              "                    --jp-layout-color3: var(--colab-primary-surface-color, white);\n",
              "                }\n",
              "            </style>\n",
              "            "
            ]
          },
          "metadata": {}
        }
      ],
      "source": [
        "# // Merge the list of images into an image collection\n",
        "imgcol = ee.ImageCollection.fromImages(imageList)"
      ]
    },
    {
      "cell_type": "code",
      "execution_count": null,
      "metadata": {
        "colab": {
          "base_uri": "https://localhost:8080/"
        },
        "id": "i6mBVbSlZuOu",
        "outputId": "b2d20bac-fab0-44b7-f488-4d4d0133e1f6"
      },
      "outputs": [
        {
          "output_type": "display_data",
          "data": {
            "text/plain": [
              "<IPython.core.display.HTML object>"
            ],
            "text/html": [
              "\n",
              "            <style>\n",
              "                .geemap-dark {\n",
              "                    --jp-widgets-color: white;\n",
              "                    --jp-widgets-label-color: white;\n",
              "                    --jp-ui-font-color1: white;\n",
              "                    --jp-layout-color2: #454545;\n",
              "                    background-color: #383838;\n",
              "                }\n",
              "\n",
              "                .geemap-dark .jupyter-button {\n",
              "                    --jp-layout-color3: #383838;\n",
              "                }\n",
              "\n",
              "                .geemap-colab {\n",
              "                    background-color: var(--colab-primary-surface-color, white);\n",
              "                }\n",
              "\n",
              "                .geemap-colab .jupyter-button {\n",
              "                    --jp-layout-color3: var(--colab-primary-surface-color, white);\n",
              "                }\n",
              "            </style>\n",
              "            "
            ]
          },
          "metadata": {}
        }
      ],
      "source": [
        "imgcol_ = imgcol.toBands()\n",
        "# imgcol_\n"
      ]
    },
    {
      "cell_type": "markdown",
      "metadata": {
        "id": "ckz98hnLvu7X"
      },
      "source": [
        "# Export L8 CSV"
      ]
    },
    {
      "cell_type": "code",
      "execution_count": null,
      "metadata": {
        "colab": {
          "base_uri": "https://localhost:8080/"
        },
        "id": "1HadAPQtZwkX",
        "outputId": "4e4a0932-93e9-493f-d7a8-09cb0d3bed1c"
      },
      "outputs": [
        {
          "output_type": "display_data",
          "data": {
            "text/plain": [
              "<IPython.core.display.HTML object>"
            ],
            "text/html": [
              "\n",
              "            <style>\n",
              "                .geemap-dark {\n",
              "                    --jp-widgets-color: white;\n",
              "                    --jp-widgets-label-color: white;\n",
              "                    --jp-ui-font-color1: white;\n",
              "                    --jp-layout-color2: #454545;\n",
              "                    background-color: #383838;\n",
              "                }\n",
              "\n",
              "                .geemap-dark .jupyter-button {\n",
              "                    --jp-layout-color3: #383838;\n",
              "                }\n",
              "\n",
              "                .geemap-colab {\n",
              "                    background-color: var(--colab-primary-surface-color, white);\n",
              "                }\n",
              "\n",
              "                .geemap-colab .jupyter-button {\n",
              "                    --jp-layout-color3: var(--colab-primary-surface-color, white);\n",
              "                }\n",
              "            </style>\n",
              "            "
            ]
          },
          "metadata": {}
        }
      ],
      "source": [
        "# # Reduce Regions to Counties\n",
        "# test_reg = l8_2010.reduceRegions(**{\n",
        "#     'collection':prod,\n",
        "#     'reducer': ee.Reducer.mean(),\n",
        "#     'scale': 30,\n",
        "\n",
        "# })\n"
      ]
    },
    {
      "cell_type": "code",
      "execution_count": null,
      "metadata": {
        "colab": {
          "base_uri": "https://localhost:8080/"
        },
        "id": "ZPfW2lAFZ3lc",
        "outputId": "e811435c-80c5-4e41-ace3-acb38a673a89"
      },
      "outputs": [
        {
          "output_type": "display_data",
          "data": {
            "text/plain": [
              "<IPython.core.display.HTML object>"
            ],
            "text/html": [
              "\n",
              "            <style>\n",
              "                .geemap-dark {\n",
              "                    --jp-widgets-color: white;\n",
              "                    --jp-widgets-label-color: white;\n",
              "                    --jp-ui-font-color1: white;\n",
              "                    --jp-layout-color2: #454545;\n",
              "                    background-color: #383838;\n",
              "                }\n",
              "\n",
              "                .geemap-dark .jupyter-button {\n",
              "                    --jp-layout-color3: #383838;\n",
              "                }\n",
              "\n",
              "                .geemap-colab {\n",
              "                    background-color: var(--colab-primary-surface-color, white);\n",
              "                }\n",
              "\n",
              "                .geemap-colab .jupyter-button {\n",
              "                    --jp-layout-color3: var(--colab-primary-surface-color, white);\n",
              "                }\n",
              "            </style>\n",
              "            "
            ]
          },
          "metadata": {}
        }
      ],
      "source": [
        "# geemap.ee_export_vector(test_reg, 'l8_agg_2010.csv')"
      ]
    },
    {
      "cell_type": "code",
      "execution_count": null,
      "metadata": {
        "colab": {
          "base_uri": "https://localhost:8080/"
        },
        "id": "p73Y_vn0emiY",
        "outputId": "a40c02b4-dfe6-443c-c6e1-ea3b48bb0fe7"
      },
      "outputs": [
        {
          "output_type": "display_data",
          "data": {
            "text/plain": [
              "<IPython.core.display.HTML object>"
            ],
            "text/html": [
              "\n",
              "            <style>\n",
              "                .geemap-dark {\n",
              "                    --jp-widgets-color: white;\n",
              "                    --jp-widgets-label-color: white;\n",
              "                    --jp-ui-font-color1: white;\n",
              "                    --jp-layout-color2: #454545;\n",
              "                    background-color: #383838;\n",
              "                }\n",
              "\n",
              "                .geemap-dark .jupyter-button {\n",
              "                    --jp-layout-color3: #383838;\n",
              "                }\n",
              "\n",
              "                .geemap-colab {\n",
              "                    background-color: var(--colab-primary-surface-color, white);\n",
              "                }\n",
              "\n",
              "                .geemap-colab .jupyter-button {\n",
              "                    --jp-layout-color3: var(--colab-primary-surface-color, white);\n",
              "                }\n",
              "            </style>\n",
              "            "
            ]
          },
          "metadata": {}
        }
      ],
      "source": [
        "# # Reduce Regions to Counties\n",
        "# test_reg = l8_2011.reduceRegions(**{\n",
        "#     'collection':prod,\n",
        "#     'reducer': ee.Reducer.mean(),\n",
        "#     'scale': 30,\n",
        "\n",
        "# })\n"
      ]
    },
    {
      "cell_type": "code",
      "execution_count": null,
      "metadata": {
        "colab": {
          "base_uri": "https://localhost:8080/"
        },
        "id": "2e5koR1YemL-",
        "outputId": "a86239c4-1c47-453e-8a1b-f00792b71b07"
      },
      "outputs": [
        {
          "output_type": "display_data",
          "data": {
            "text/plain": [
              "<IPython.core.display.HTML object>"
            ],
            "text/html": [
              "\n",
              "            <style>\n",
              "                .geemap-dark {\n",
              "                    --jp-widgets-color: white;\n",
              "                    --jp-widgets-label-color: white;\n",
              "                    --jp-ui-font-color1: white;\n",
              "                    --jp-layout-color2: #454545;\n",
              "                    background-color: #383838;\n",
              "                }\n",
              "\n",
              "                .geemap-dark .jupyter-button {\n",
              "                    --jp-layout-color3: #383838;\n",
              "                }\n",
              "\n",
              "                .geemap-colab {\n",
              "                    background-color: var(--colab-primary-surface-color, white);\n",
              "                }\n",
              "\n",
              "                .geemap-colab .jupyter-button {\n",
              "                    --jp-layout-color3: var(--colab-primary-surface-color, white);\n",
              "                }\n",
              "            </style>\n",
              "            "
            ]
          },
          "metadata": {}
        }
      ],
      "source": [
        "# geemap.ee_export_vector(test_reg, 'l8_agg_2011.csv')"
      ]
    },
    {
      "cell_type": "code",
      "execution_count": null,
      "metadata": {
        "colab": {
          "base_uri": "https://localhost:8080/"
        },
        "id": "ceVdhTr5evUf",
        "outputId": "f6ef9e88-419a-448b-f5a5-a3bf4c5dc93f"
      },
      "outputs": [
        {
          "output_type": "display_data",
          "data": {
            "text/plain": [
              "<IPython.core.display.HTML object>"
            ],
            "text/html": [
              "\n",
              "            <style>\n",
              "                .geemap-dark {\n",
              "                    --jp-widgets-color: white;\n",
              "                    --jp-widgets-label-color: white;\n",
              "                    --jp-ui-font-color1: white;\n",
              "                    --jp-layout-color2: #454545;\n",
              "                    background-color: #383838;\n",
              "                }\n",
              "\n",
              "                .geemap-dark .jupyter-button {\n",
              "                    --jp-layout-color3: #383838;\n",
              "                }\n",
              "\n",
              "                .geemap-colab {\n",
              "                    background-color: var(--colab-primary-surface-color, white);\n",
              "                }\n",
              "\n",
              "                .geemap-colab .jupyter-button {\n",
              "                    --jp-layout-color3: var(--colab-primary-surface-color, white);\n",
              "                }\n",
              "            </style>\n",
              "            "
            ]
          },
          "metadata": {}
        }
      ],
      "source": [
        "# Reduce Regions to Counties\n",
        "# test_reg = l8_2012.reduceRegions(**{\n",
        "#     'collection':prod,\n",
        "#     'reducer': ee.Reducer.mean(),\n",
        "#     'scale': 30,\n",
        "\n",
        "# })\n"
      ]
    },
    {
      "cell_type": "code",
      "execution_count": null,
      "metadata": {
        "colab": {
          "base_uri": "https://localhost:8080/"
        },
        "id": "v1z8BOulevJj",
        "outputId": "f24f6a54-5f39-4ddd-fb67-abc79520384b"
      },
      "outputs": [
        {
          "output_type": "display_data",
          "data": {
            "text/plain": [
              "<IPython.core.display.HTML object>"
            ],
            "text/html": [
              "\n",
              "            <style>\n",
              "                .geemap-dark {\n",
              "                    --jp-widgets-color: white;\n",
              "                    --jp-widgets-label-color: white;\n",
              "                    --jp-ui-font-color1: white;\n",
              "                    --jp-layout-color2: #454545;\n",
              "                    background-color: #383838;\n",
              "                }\n",
              "\n",
              "                .geemap-dark .jupyter-button {\n",
              "                    --jp-layout-color3: #383838;\n",
              "                }\n",
              "\n",
              "                .geemap-colab {\n",
              "                    background-color: var(--colab-primary-surface-color, white);\n",
              "                }\n",
              "\n",
              "                .geemap-colab .jupyter-button {\n",
              "                    --jp-layout-color3: var(--colab-primary-surface-color, white);\n",
              "                }\n",
              "            </style>\n",
              "            "
            ]
          },
          "metadata": {}
        }
      ],
      "source": [
        "# geemap.ee_export_vector(test_reg, 'l8_agg_2012.csv')"
      ]
    },
    {
      "cell_type": "code",
      "execution_count": null,
      "metadata": {
        "colab": {
          "base_uri": "https://localhost:8080/"
        },
        "id": "x09aB4aZe1Cf",
        "outputId": "f230f904-82d1-4889-cccc-163771058b6e"
      },
      "outputs": [
        {
          "output_type": "display_data",
          "data": {
            "text/plain": [
              "<IPython.core.display.HTML object>"
            ],
            "text/html": [
              "\n",
              "            <style>\n",
              "                .geemap-dark {\n",
              "                    --jp-widgets-color: white;\n",
              "                    --jp-widgets-label-color: white;\n",
              "                    --jp-ui-font-color1: white;\n",
              "                    --jp-layout-color2: #454545;\n",
              "                    background-color: #383838;\n",
              "                }\n",
              "\n",
              "                .geemap-dark .jupyter-button {\n",
              "                    --jp-layout-color3: #383838;\n",
              "                }\n",
              "\n",
              "                .geemap-colab {\n",
              "                    background-color: var(--colab-primary-surface-color, white);\n",
              "                }\n",
              "\n",
              "                .geemap-colab .jupyter-button {\n",
              "                    --jp-layout-color3: var(--colab-primary-surface-color, white);\n",
              "                }\n",
              "            </style>\n",
              "            "
            ]
          },
          "metadata": {}
        }
      ],
      "source": [
        "# # Reduce Regions to Counties\n",
        "# test_reg = l8_2013.reduceRegions(**{\n",
        "#     'collection':prod,\n",
        "# #     'reducer': ee.Reducer.mean(),\n",
        "# #     'scale': 30,\n",
        "\n",
        "# })"
      ]
    },
    {
      "cell_type": "code",
      "execution_count": null,
      "metadata": {
        "colab": {
          "base_uri": "https://localhost:8080/"
        },
        "id": "CXvaQKA6e02m",
        "outputId": "31a627a5-35a2-4f5b-cc56-d973f0d33ec6"
      },
      "outputs": [
        {
          "output_type": "display_data",
          "data": {
            "text/plain": [
              "<IPython.core.display.HTML object>"
            ],
            "text/html": [
              "\n",
              "            <style>\n",
              "                .geemap-dark {\n",
              "                    --jp-widgets-color: white;\n",
              "                    --jp-widgets-label-color: white;\n",
              "                    --jp-ui-font-color1: white;\n",
              "                    --jp-layout-color2: #454545;\n",
              "                    background-color: #383838;\n",
              "                }\n",
              "\n",
              "                .geemap-dark .jupyter-button {\n",
              "                    --jp-layout-color3: #383838;\n",
              "                }\n",
              "\n",
              "                .geemap-colab {\n",
              "                    background-color: var(--colab-primary-surface-color, white);\n",
              "                }\n",
              "\n",
              "                .geemap-colab .jupyter-button {\n",
              "                    --jp-layout-color3: var(--colab-primary-surface-color, white);\n",
              "                }\n",
              "            </style>\n",
              "            "
            ]
          },
          "metadata": {}
        }
      ],
      "source": [
        "# geemap.ee_export_vector(test_reg, 'l8_agg_2013.csv')"
      ]
    },
    {
      "cell_type": "code",
      "execution_count": null,
      "metadata": {
        "colab": {
          "base_uri": "https://localhost:8080/"
        },
        "id": "oM3cO7qOfX-f",
        "outputId": "af2339ae-81b3-4199-b5b2-496b4b028c9d"
      },
      "outputs": [
        {
          "output_type": "display_data",
          "data": {
            "text/plain": [
              "<IPython.core.display.HTML object>"
            ],
            "text/html": [
              "\n",
              "            <style>\n",
              "                .geemap-dark {\n",
              "                    --jp-widgets-color: white;\n",
              "                    --jp-widgets-label-color: white;\n",
              "                    --jp-ui-font-color1: white;\n",
              "                    --jp-layout-color2: #454545;\n",
              "                    background-color: #383838;\n",
              "                }\n",
              "\n",
              "                .geemap-dark .jupyter-button {\n",
              "                    --jp-layout-color3: #383838;\n",
              "                }\n",
              "\n",
              "                .geemap-colab {\n",
              "                    background-color: var(--colab-primary-surface-color, white);\n",
              "                }\n",
              "\n",
              "                .geemap-colab .jupyter-button {\n",
              "                    --jp-layout-color3: var(--colab-primary-surface-color, white);\n",
              "                }\n",
              "            </style>\n",
              "            "
            ]
          },
          "metadata": {}
        }
      ],
      "source": [
        "# # Reduce Regions to Counties\n",
        "# test_reg = l8_2014.reduceRegions(**{\n",
        "#     'collection':prod,\n",
        "#     'reducer': ee.Reducer.mean(),\n",
        "#     'scale': 30,\n",
        "\n",
        "# })\n"
      ]
    },
    {
      "cell_type": "code",
      "execution_count": null,
      "metadata": {
        "colab": {
          "base_uri": "https://localhost:8080/"
        },
        "id": "4v8yH65de3dj",
        "outputId": "dc793b7b-7aee-4bd8-c0d2-4e4703bb4d48"
      },
      "outputs": [
        {
          "output_type": "display_data",
          "data": {
            "text/plain": [
              "<IPython.core.display.HTML object>"
            ],
            "text/html": [
              "\n",
              "            <style>\n",
              "                .geemap-dark {\n",
              "                    --jp-widgets-color: white;\n",
              "                    --jp-widgets-label-color: white;\n",
              "                    --jp-ui-font-color1: white;\n",
              "                    --jp-layout-color2: #454545;\n",
              "                    background-color: #383838;\n",
              "                }\n",
              "\n",
              "                .geemap-dark .jupyter-button {\n",
              "                    --jp-layout-color3: #383838;\n",
              "                }\n",
              "\n",
              "                .geemap-colab {\n",
              "                    background-color: var(--colab-primary-surface-color, white);\n",
              "                }\n",
              "\n",
              "                .geemap-colab .jupyter-button {\n",
              "                    --jp-layout-color3: var(--colab-primary-surface-color, white);\n",
              "                }\n",
              "            </style>\n",
              "            "
            ]
          },
          "metadata": {}
        }
      ],
      "source": [
        "# geemap.ee_export_vector(test_reg, 'l8_agg_2014.csv')"
      ]
    },
    {
      "cell_type": "code",
      "execution_count": null,
      "metadata": {
        "colab": {
          "base_uri": "https://localhost:8080/"
        },
        "id": "rvhnw6DIfafy",
        "outputId": "06d563ae-8d9c-4e7c-e22f-bee726d9ccf0"
      },
      "outputs": [
        {
          "output_type": "display_data",
          "data": {
            "text/plain": [
              "<IPython.core.display.HTML object>"
            ],
            "text/html": [
              "\n",
              "            <style>\n",
              "                .geemap-dark {\n",
              "                    --jp-widgets-color: white;\n",
              "                    --jp-widgets-label-color: white;\n",
              "                    --jp-ui-font-color1: white;\n",
              "                    --jp-layout-color2: #454545;\n",
              "                    background-color: #383838;\n",
              "                }\n",
              "\n",
              "                .geemap-dark .jupyter-button {\n",
              "                    --jp-layout-color3: #383838;\n",
              "                }\n",
              "\n",
              "                .geemap-colab {\n",
              "                    background-color: var(--colab-primary-surface-color, white);\n",
              "                }\n",
              "\n",
              "                .geemap-colab .jupyter-button {\n",
              "                    --jp-layout-color3: var(--colab-primary-surface-color, white);\n",
              "                }\n",
              "            </style>\n",
              "            "
            ]
          },
          "metadata": {}
        }
      ],
      "source": [
        "# # Reduce Regions to Counties\n",
        "# test_reg = l8_2015.reduceRegions(**{\n",
        "#     'collection':prod,\n",
        "#     'reducer': ee.Reducer.mean(),\n",
        "#     'scale': 30,\n",
        "\n",
        "# })\n"
      ]
    },
    {
      "cell_type": "code",
      "execution_count": null,
      "metadata": {
        "colab": {
          "base_uri": "https://localhost:8080/"
        },
        "id": "kT6TuDwpe9Ds",
        "outputId": "b9e2b76a-9010-4809-e2be-230d2a254aa7"
      },
      "outputs": [
        {
          "output_type": "display_data",
          "data": {
            "text/plain": [
              "<IPython.core.display.HTML object>"
            ],
            "text/html": [
              "\n",
              "            <style>\n",
              "                .geemap-dark {\n",
              "                    --jp-widgets-color: white;\n",
              "                    --jp-widgets-label-color: white;\n",
              "                    --jp-ui-font-color1: white;\n",
              "                    --jp-layout-color2: #454545;\n",
              "                    background-color: #383838;\n",
              "                }\n",
              "\n",
              "                .geemap-dark .jupyter-button {\n",
              "                    --jp-layout-color3: #383838;\n",
              "                }\n",
              "\n",
              "                .geemap-colab {\n",
              "                    background-color: var(--colab-primary-surface-color, white);\n",
              "                }\n",
              "\n",
              "                .geemap-colab .jupyter-button {\n",
              "                    --jp-layout-color3: var(--colab-primary-surface-color, white);\n",
              "                }\n",
              "            </style>\n",
              "            "
            ]
          },
          "metadata": {}
        }
      ],
      "source": [
        "# geemap.ee_export_vector(test_reg, 'l8_agg_2015.csv')"
      ]
    },
    {
      "cell_type": "code",
      "execution_count": null,
      "metadata": {
        "colab": {
          "base_uri": "https://localhost:8080/"
        },
        "id": "1xoWaZKlfc2r",
        "outputId": "66ca6b7f-0e46-46a3-ca0c-4ecca0164f81"
      },
      "outputs": [
        {
          "output_type": "display_data",
          "data": {
            "text/plain": [
              "<IPython.core.display.HTML object>"
            ],
            "text/html": [
              "\n",
              "            <style>\n",
              "                .geemap-dark {\n",
              "                    --jp-widgets-color: white;\n",
              "                    --jp-widgets-label-color: white;\n",
              "                    --jp-ui-font-color1: white;\n",
              "                    --jp-layout-color2: #454545;\n",
              "                    background-color: #383838;\n",
              "                }\n",
              "\n",
              "                .geemap-dark .jupyter-button {\n",
              "                    --jp-layout-color3: #383838;\n",
              "                }\n",
              "\n",
              "                .geemap-colab {\n",
              "                    background-color: var(--colab-primary-surface-color, white);\n",
              "                }\n",
              "\n",
              "                .geemap-colab .jupyter-button {\n",
              "                    --jp-layout-color3: var(--colab-primary-surface-color, white);\n",
              "                }\n",
              "            </style>\n",
              "            "
            ]
          },
          "metadata": {}
        }
      ],
      "source": [
        "# Reduce Regions to Counties\n",
        "# test_reg = l8_2016.reduceRegions(**{\n",
        "#     'collection':prod,\n",
        "#     'reducer': ee.Reducer.mean(),\n",
        "#     'scale': 30,\n",
        "\n",
        "# })\n"
      ]
    },
    {
      "cell_type": "code",
      "execution_count": null,
      "metadata": {
        "colab": {
          "base_uri": "https://localhost:8080/"
        },
        "id": "GfPDLIe-e8eP",
        "outputId": "5b15903a-e71d-482b-e99c-ac2baa1816fd"
      },
      "outputs": [
        {
          "output_type": "display_data",
          "data": {
            "text/plain": [
              "<IPython.core.display.HTML object>"
            ],
            "text/html": [
              "\n",
              "            <style>\n",
              "                .geemap-dark {\n",
              "                    --jp-widgets-color: white;\n",
              "                    --jp-widgets-label-color: white;\n",
              "                    --jp-ui-font-color1: white;\n",
              "                    --jp-layout-color2: #454545;\n",
              "                    background-color: #383838;\n",
              "                }\n",
              "\n",
              "                .geemap-dark .jupyter-button {\n",
              "                    --jp-layout-color3: #383838;\n",
              "                }\n",
              "\n",
              "                .geemap-colab {\n",
              "                    background-color: var(--colab-primary-surface-color, white);\n",
              "                }\n",
              "\n",
              "                .geemap-colab .jupyter-button {\n",
              "                    --jp-layout-color3: var(--colab-primary-surface-color, white);\n",
              "                }\n",
              "            </style>\n",
              "            "
            ]
          },
          "metadata": {}
        }
      ],
      "source": [
        "# geemap.ee_export_vector(test_reg, 'l8_agg_2016.csv')"
      ]
    },
    {
      "cell_type": "code",
      "execution_count": null,
      "metadata": {
        "colab": {
          "base_uri": "https://localhost:8080/"
        },
        "id": "s8S_3hFRfgv2",
        "outputId": "4ee89094-4241-4173-be6d-74c07ff525db"
      },
      "outputs": [
        {
          "output_type": "display_data",
          "data": {
            "text/plain": [
              "<IPython.core.display.HTML object>"
            ],
            "text/html": [
              "\n",
              "            <style>\n",
              "                .geemap-dark {\n",
              "                    --jp-widgets-color: white;\n",
              "                    --jp-widgets-label-color: white;\n",
              "                    --jp-ui-font-color1: white;\n",
              "                    --jp-layout-color2: #454545;\n",
              "                    background-color: #383838;\n",
              "                }\n",
              "\n",
              "                .geemap-dark .jupyter-button {\n",
              "                    --jp-layout-color3: #383838;\n",
              "                }\n",
              "\n",
              "                .geemap-colab {\n",
              "                    background-color: var(--colab-primary-surface-color, white);\n",
              "                }\n",
              "\n",
              "                .geemap-colab .jupyter-button {\n",
              "                    --jp-layout-color3: var(--colab-primary-surface-color, white);\n",
              "                }\n",
              "            </style>\n",
              "            "
            ]
          },
          "metadata": {}
        }
      ],
      "source": [
        "# # Reduce Regions to Counties\n",
        "# test_reg = l8_2017.reduceRegions(**{\n",
        "#     'collection':prod,\n",
        "#     'reducer': ee.Reducer.mean(),\n",
        "#     'scale': 30,\n",
        "\n",
        "# })\n"
      ]
    },
    {
      "cell_type": "code",
      "execution_count": null,
      "metadata": {
        "colab": {
          "base_uri": "https://localhost:8080/"
        },
        "id": "C18o-rf3e8CH",
        "outputId": "ead045bb-fabf-4f2c-b704-c55d661aec45"
      },
      "outputs": [
        {
          "output_type": "display_data",
          "data": {
            "text/plain": [
              "<IPython.core.display.HTML object>"
            ],
            "text/html": [
              "\n",
              "            <style>\n",
              "                .geemap-dark {\n",
              "                    --jp-widgets-color: white;\n",
              "                    --jp-widgets-label-color: white;\n",
              "                    --jp-ui-font-color1: white;\n",
              "                    --jp-layout-color2: #454545;\n",
              "                    background-color: #383838;\n",
              "                }\n",
              "\n",
              "                .geemap-dark .jupyter-button {\n",
              "                    --jp-layout-color3: #383838;\n",
              "                }\n",
              "\n",
              "                .geemap-colab {\n",
              "                    background-color: var(--colab-primary-surface-color, white);\n",
              "                }\n",
              "\n",
              "                .geemap-colab .jupyter-button {\n",
              "                    --jp-layout-color3: var(--colab-primary-surface-color, white);\n",
              "                }\n",
              "            </style>\n",
              "            "
            ]
          },
          "metadata": {}
        }
      ],
      "source": [
        "# geemap.ee_export_vector(test_reg, 'l8_agg_2017.csv')"
      ]
    },
    {
      "cell_type": "code",
      "execution_count": null,
      "metadata": {
        "colab": {
          "base_uri": "https://localhost:8080/"
        },
        "id": "rWVhfLxofiZP",
        "outputId": "d891b860-cc85-4d31-c114-ced9b77230e3"
      },
      "outputs": [
        {
          "output_type": "display_data",
          "data": {
            "text/plain": [
              "<IPython.core.display.HTML object>"
            ],
            "text/html": [
              "\n",
              "            <style>\n",
              "                .geemap-dark {\n",
              "                    --jp-widgets-color: white;\n",
              "                    --jp-widgets-label-color: white;\n",
              "                    --jp-ui-font-color1: white;\n",
              "                    --jp-layout-color2: #454545;\n",
              "                    background-color: #383838;\n",
              "                }\n",
              "\n",
              "                .geemap-dark .jupyter-button {\n",
              "                    --jp-layout-color3: #383838;\n",
              "                }\n",
              "\n",
              "                .geemap-colab {\n",
              "                    background-color: var(--colab-primary-surface-color, white);\n",
              "                }\n",
              "\n",
              "                .geemap-colab .jupyter-button {\n",
              "                    --jp-layout-color3: var(--colab-primary-surface-color, white);\n",
              "                }\n",
              "            </style>\n",
              "            "
            ]
          },
          "metadata": {}
        }
      ],
      "source": [
        "# # Reduce Regions to Counties\n",
        "# test_reg = l8_2018.reduceRegions(**{\n",
        "#     'collection':prod,\n",
        "#     'reducer': ee.Reducer.mean(),\n",
        "#     'scale': 30,\n",
        "\n",
        "# })\n"
      ]
    },
    {
      "cell_type": "code",
      "execution_count": null,
      "metadata": {
        "colab": {
          "base_uri": "https://localhost:8080/"
        },
        "id": "L5kVIkcGe7oF",
        "outputId": "881dd2aa-327a-4531-ad41-fa854b30da1c"
      },
      "outputs": [
        {
          "output_type": "display_data",
          "data": {
            "text/plain": [
              "<IPython.core.display.HTML object>"
            ],
            "text/html": [
              "\n",
              "            <style>\n",
              "                .geemap-dark {\n",
              "                    --jp-widgets-color: white;\n",
              "                    --jp-widgets-label-color: white;\n",
              "                    --jp-ui-font-color1: white;\n",
              "                    --jp-layout-color2: #454545;\n",
              "                    background-color: #383838;\n",
              "                }\n",
              "\n",
              "                .geemap-dark .jupyter-button {\n",
              "                    --jp-layout-color3: #383838;\n",
              "                }\n",
              "\n",
              "                .geemap-colab {\n",
              "                    background-color: var(--colab-primary-surface-color, white);\n",
              "                }\n",
              "\n",
              "                .geemap-colab .jupyter-button {\n",
              "                    --jp-layout-color3: var(--colab-primary-surface-color, white);\n",
              "                }\n",
              "            </style>\n",
              "            "
            ]
          },
          "metadata": {}
        }
      ],
      "source": [
        "# geemap.ee_export_vector(test_reg, 'l8_agg_2018.csv')"
      ]
    },
    {
      "cell_type": "code",
      "execution_count": null,
      "metadata": {
        "colab": {
          "base_uri": "https://localhost:8080/"
        },
        "id": "tcPihUAzfkyj",
        "outputId": "b98045df-47a3-4722-86cd-2eb074b07165"
      },
      "outputs": [
        {
          "output_type": "display_data",
          "data": {
            "text/plain": [
              "<IPython.core.display.HTML object>"
            ],
            "text/html": [
              "\n",
              "            <style>\n",
              "                .geemap-dark {\n",
              "                    --jp-widgets-color: white;\n",
              "                    --jp-widgets-label-color: white;\n",
              "                    --jp-ui-font-color1: white;\n",
              "                    --jp-layout-color2: #454545;\n",
              "                    background-color: #383838;\n",
              "                }\n",
              "\n",
              "                .geemap-dark .jupyter-button {\n",
              "                    --jp-layout-color3: #383838;\n",
              "                }\n",
              "\n",
              "                .geemap-colab {\n",
              "                    background-color: var(--colab-primary-surface-color, white);\n",
              "                }\n",
              "\n",
              "                .geemap-colab .jupyter-button {\n",
              "                    --jp-layout-color3: var(--colab-primary-surface-color, white);\n",
              "                }\n",
              "            </style>\n",
              "            "
            ]
          },
          "metadata": {}
        }
      ],
      "source": [
        "# # Reduce Regions to Counties\n",
        "# test_reg = l8_2019.reduceRegions(**{\n",
        "#     'collection':prod,\n",
        "#     'reducer': ee.Reducer.mean(),\n",
        "#     'scale': 30,\n",
        "\n",
        "# })\n"
      ]
    },
    {
      "cell_type": "code",
      "execution_count": null,
      "metadata": {
        "colab": {
          "base_uri": "https://localhost:8080/"
        },
        "id": "CCR-0oJRe7PW",
        "outputId": "02371495-7a6a-49ca-e92e-43c5f864f9f0"
      },
      "outputs": [
        {
          "output_type": "display_data",
          "data": {
            "text/plain": [
              "<IPython.core.display.HTML object>"
            ],
            "text/html": [
              "\n",
              "            <style>\n",
              "                .geemap-dark {\n",
              "                    --jp-widgets-color: white;\n",
              "                    --jp-widgets-label-color: white;\n",
              "                    --jp-ui-font-color1: white;\n",
              "                    --jp-layout-color2: #454545;\n",
              "                    background-color: #383838;\n",
              "                }\n",
              "\n",
              "                .geemap-dark .jupyter-button {\n",
              "                    --jp-layout-color3: #383838;\n",
              "                }\n",
              "\n",
              "                .geemap-colab {\n",
              "                    background-color: var(--colab-primary-surface-color, white);\n",
              "                }\n",
              "\n",
              "                .geemap-colab .jupyter-button {\n",
              "                    --jp-layout-color3: var(--colab-primary-surface-color, white);\n",
              "                }\n",
              "            </style>\n",
              "            "
            ]
          },
          "metadata": {}
        }
      ],
      "source": [
        "# geemap.ee_export_vector(test_reg, 'l8_agg_2019.csv')"
      ]
    },
    {
      "cell_type": "code",
      "execution_count": null,
      "metadata": {
        "colab": {
          "base_uri": "https://localhost:8080/"
        },
        "id": "GQT-oJI6fmia",
        "outputId": "242e285c-92a7-4943-cf63-f1bc0448f324"
      },
      "outputs": [
        {
          "output_type": "display_data",
          "data": {
            "text/plain": [
              "<IPython.core.display.HTML object>"
            ],
            "text/html": [
              "\n",
              "            <style>\n",
              "                .geemap-dark {\n",
              "                    --jp-widgets-color: white;\n",
              "                    --jp-widgets-label-color: white;\n",
              "                    --jp-ui-font-color1: white;\n",
              "                    --jp-layout-color2: #454545;\n",
              "                    background-color: #383838;\n",
              "                }\n",
              "\n",
              "                .geemap-dark .jupyter-button {\n",
              "                    --jp-layout-color3: #383838;\n",
              "                }\n",
              "\n",
              "                .geemap-colab {\n",
              "                    background-color: var(--colab-primary-surface-color, white);\n",
              "                }\n",
              "\n",
              "                .geemap-colab .jupyter-button {\n",
              "                    --jp-layout-color3: var(--colab-primary-surface-color, white);\n",
              "                }\n",
              "            </style>\n",
              "            "
            ]
          },
          "metadata": {}
        }
      ],
      "source": [
        "# # Reduce Regions to Counties\n",
        "# test_reg = l8_2020.reduceRegions(**{\n",
        "#     'collection':prod,\n",
        "#     'reducer': ee.Reducer.mean(),\n",
        "#     'scale': 30,\n",
        "# })\n"
      ]
    },
    {
      "cell_type": "code",
      "execution_count": null,
      "metadata": {
        "colab": {
          "base_uri": "https://localhost:8080/"
        },
        "id": "PN17Ijiwe6Ec",
        "outputId": "344f7ccc-e37c-4b71-e603-d97e50237948"
      },
      "outputs": [
        {
          "output_type": "display_data",
          "data": {
            "text/plain": [
              "<IPython.core.display.HTML object>"
            ],
            "text/html": [
              "\n",
              "            <style>\n",
              "                .geemap-dark {\n",
              "                    --jp-widgets-color: white;\n",
              "                    --jp-widgets-label-color: white;\n",
              "                    --jp-ui-font-color1: white;\n",
              "                    --jp-layout-color2: #454545;\n",
              "                    background-color: #383838;\n",
              "                }\n",
              "\n",
              "                .geemap-dark .jupyter-button {\n",
              "                    --jp-layout-color3: #383838;\n",
              "                }\n",
              "\n",
              "                .geemap-colab {\n",
              "                    background-color: var(--colab-primary-surface-color, white);\n",
              "                }\n",
              "\n",
              "                .geemap-colab .jupyter-button {\n",
              "                    --jp-layout-color3: var(--colab-primary-surface-color, white);\n",
              "                }\n",
              "            </style>\n",
              "            "
            ]
          },
          "metadata": {}
        }
      ],
      "source": [
        "# geemap.ee_export_vector(test_reg, 'l8_agg_2020.csv')"
      ]
    },
    {
      "cell_type": "code",
      "execution_count": null,
      "metadata": {
        "colab": {
          "base_uri": "https://localhost:8080/"
        },
        "id": "ZGF32u_Tfoyc",
        "outputId": "7e3f34f7-f8b1-4601-ead7-a9bc10d19b2f"
      },
      "outputs": [
        {
          "output_type": "display_data",
          "data": {
            "text/plain": [
              "<IPython.core.display.HTML object>"
            ],
            "text/html": [
              "\n",
              "            <style>\n",
              "                .geemap-dark {\n",
              "                    --jp-widgets-color: white;\n",
              "                    --jp-widgets-label-color: white;\n",
              "                    --jp-ui-font-color1: white;\n",
              "                    --jp-layout-color2: #454545;\n",
              "                    background-color: #383838;\n",
              "                }\n",
              "\n",
              "                .geemap-dark .jupyter-button {\n",
              "                    --jp-layout-color3: #383838;\n",
              "                }\n",
              "\n",
              "                .geemap-colab {\n",
              "                    background-color: var(--colab-primary-surface-color, white);\n",
              "                }\n",
              "\n",
              "                .geemap-colab .jupyter-button {\n",
              "                    --jp-layout-color3: var(--colab-primary-surface-color, white);\n",
              "                }\n",
              "            </style>\n",
              "            "
            ]
          },
          "metadata": {}
        }
      ],
      "source": [
        "# # Reduce Regions to Counties\n",
        "# test_reg = l8_2021.reduceRegions(**{\n",
        "#     'collection':prod,\n",
        "#     'reducer': ee.Reducer.mean(),\n",
        "#     'scale': 30,\n",
        "\n",
        "# })\n"
      ]
    },
    {
      "cell_type": "code",
      "execution_count": null,
      "metadata": {
        "colab": {
          "base_uri": "https://localhost:8080/"
        },
        "id": "4hiIqmdEe5pl",
        "outputId": "871fa255-0175-4848-b9f9-56ed153e5ad2"
      },
      "outputs": [
        {
          "output_type": "display_data",
          "data": {
            "text/plain": [
              "<IPython.core.display.HTML object>"
            ],
            "text/html": [
              "\n",
              "            <style>\n",
              "                .geemap-dark {\n",
              "                    --jp-widgets-color: white;\n",
              "                    --jp-widgets-label-color: white;\n",
              "                    --jp-ui-font-color1: white;\n",
              "                    --jp-layout-color2: #454545;\n",
              "                    background-color: #383838;\n",
              "                }\n",
              "\n",
              "                .geemap-dark .jupyter-button {\n",
              "                    --jp-layout-color3: #383838;\n",
              "                }\n",
              "\n",
              "                .geemap-colab {\n",
              "                    background-color: var(--colab-primary-surface-color, white);\n",
              "                }\n",
              "\n",
              "                .geemap-colab .jupyter-button {\n",
              "                    --jp-layout-color3: var(--colab-primary-surface-color, white);\n",
              "                }\n",
              "            </style>\n",
              "            "
            ]
          },
          "metadata": {}
        }
      ],
      "source": [
        "# geemap.ee_export_vector(test_reg, 'l8_agg_2021.csv')"
      ]
    },
    {
      "cell_type": "code",
      "execution_count": null,
      "metadata": {
        "colab": {
          "base_uri": "https://localhost:8080/"
        },
        "id": "Yyogtx8Ifq7m",
        "outputId": "fcd3585b-2da1-46c9-cb3b-333702d679c1"
      },
      "outputs": [
        {
          "output_type": "display_data",
          "data": {
            "text/plain": [
              "<IPython.core.display.HTML object>"
            ],
            "text/html": [
              "\n",
              "            <style>\n",
              "                .geemap-dark {\n",
              "                    --jp-widgets-color: white;\n",
              "                    --jp-widgets-label-color: white;\n",
              "                    --jp-ui-font-color1: white;\n",
              "                    --jp-layout-color2: #454545;\n",
              "                    background-color: #383838;\n",
              "                }\n",
              "\n",
              "                .geemap-dark .jupyter-button {\n",
              "                    --jp-layout-color3: #383838;\n",
              "                }\n",
              "\n",
              "                .geemap-colab {\n",
              "                    background-color: var(--colab-primary-surface-color, white);\n",
              "                }\n",
              "\n",
              "                .geemap-colab .jupyter-button {\n",
              "                    --jp-layout-color3: var(--colab-primary-surface-color, white);\n",
              "                }\n",
              "            </style>\n",
              "            "
            ]
          },
          "metadata": {}
        }
      ],
      "source": [
        "# Reduce Regions to Counties\n",
        "# test_reg = l8_2022.reduceRegions(**{\n",
        "#     'collection':prod,\n",
        "#     'reducer': ee.Reducer.mean(),\n",
        "#     'scale': 30,\n",
        "\n",
        "# })\n"
      ]
    },
    {
      "cell_type": "code",
      "execution_count": null,
      "metadata": {
        "colab": {
          "base_uri": "https://localhost:8080/"
        },
        "id": "3QS76Jmse5NJ",
        "outputId": "ced0524b-4571-4816-9527-4a5b5a4976f7"
      },
      "outputs": [
        {
          "output_type": "display_data",
          "data": {
            "text/plain": [
              "<IPython.core.display.HTML object>"
            ],
            "text/html": [
              "\n",
              "            <style>\n",
              "                .geemap-dark {\n",
              "                    --jp-widgets-color: white;\n",
              "                    --jp-widgets-label-color: white;\n",
              "                    --jp-ui-font-color1: white;\n",
              "                    --jp-layout-color2: #454545;\n",
              "                    background-color: #383838;\n",
              "                }\n",
              "\n",
              "                .geemap-dark .jupyter-button {\n",
              "                    --jp-layout-color3: #383838;\n",
              "                }\n",
              "\n",
              "                .geemap-colab {\n",
              "                    background-color: var(--colab-primary-surface-color, white);\n",
              "                }\n",
              "\n",
              "                .geemap-colab .jupyter-button {\n",
              "                    --jp-layout-color3: var(--colab-primary-surface-color, white);\n",
              "                }\n",
              "            </style>\n",
              "            "
            ]
          },
          "metadata": {}
        }
      ],
      "source": [
        "# geemap.ee_export_vector(test_reg, 'l8_agg_2022.csv')"
      ]
    },
    {
      "cell_type": "code",
      "execution_count": null,
      "metadata": {
        "colab": {
          "base_uri": "https://localhost:8080/"
        },
        "id": "eEY0AqX3fszk",
        "outputId": "cf0f1a40-c2cc-4394-9552-e2de33994536"
      },
      "outputs": [
        {
          "output_type": "display_data",
          "data": {
            "text/plain": [
              "<IPython.core.display.HTML object>"
            ],
            "text/html": [
              "\n",
              "            <style>\n",
              "                .geemap-dark {\n",
              "                    --jp-widgets-color: white;\n",
              "                    --jp-widgets-label-color: white;\n",
              "                    --jp-ui-font-color1: white;\n",
              "                    --jp-layout-color2: #454545;\n",
              "                    background-color: #383838;\n",
              "                }\n",
              "\n",
              "                .geemap-dark .jupyter-button {\n",
              "                    --jp-layout-color3: #383838;\n",
              "                }\n",
              "\n",
              "                .geemap-colab {\n",
              "                    background-color: var(--colab-primary-surface-color, white);\n",
              "                }\n",
              "\n",
              "                .geemap-colab .jupyter-button {\n",
              "                    --jp-layout-color3: var(--colab-primary-surface-color, white);\n",
              "                }\n",
              "            </style>\n",
              "            "
            ]
          },
          "metadata": {}
        }
      ],
      "source": [
        "# # Reduce Regions to Counties\n",
        "# test_reg = l8_2023.reduceRegions(**{\n",
        "#     'collection':prod,\n",
        "#     'reducer': ee.Reducer.mean(),\n",
        "#     'scale': 30,\n",
        "\n",
        "# })\n"
      ]
    },
    {
      "cell_type": "code",
      "execution_count": null,
      "metadata": {
        "colab": {
          "base_uri": "https://localhost:8080/"
        },
        "id": "OfyE8l7se4y1",
        "outputId": "c8c10fe6-231e-49b0-9eb7-d0b729a7b5fd"
      },
      "outputs": [
        {
          "output_type": "display_data",
          "data": {
            "text/plain": [
              "<IPython.core.display.HTML object>"
            ],
            "text/html": [
              "\n",
              "            <style>\n",
              "                .geemap-dark {\n",
              "                    --jp-widgets-color: white;\n",
              "                    --jp-widgets-label-color: white;\n",
              "                    --jp-ui-font-color1: white;\n",
              "                    --jp-layout-color2: #454545;\n",
              "                    background-color: #383838;\n",
              "                }\n",
              "\n",
              "                .geemap-dark .jupyter-button {\n",
              "                    --jp-layout-color3: #383838;\n",
              "                }\n",
              "\n",
              "                .geemap-colab {\n",
              "                    background-color: var(--colab-primary-surface-color, white);\n",
              "                }\n",
              "\n",
              "                .geemap-colab .jupyter-button {\n",
              "                    --jp-layout-color3: var(--colab-primary-surface-color, white);\n",
              "                }\n",
              "            </style>\n",
              "            "
            ]
          },
          "metadata": {}
        }
      ],
      "source": [
        "# geemap.ee_export_vector(test_reg, 'l8_agg_2023.csv')"
      ]
    },
    {
      "cell_type": "markdown",
      "metadata": {
        "id": "xVooFVB0wONz"
      },
      "source": [
        "# Process MODIS"
      ]
    },
    {
      "cell_type": "code",
      "execution_count": null,
      "metadata": {
        "colab": {
          "base_uri": "https://localhost:8080/"
        },
        "id": "WMpwkv8PihPH",
        "outputId": "5748ffef-d17c-411c-f828-b7b6b4bd3195"
      },
      "outputs": [
        {
          "output_type": "display_data",
          "data": {
            "text/plain": [
              "<IPython.core.display.HTML object>"
            ],
            "text/html": [
              "\n",
              "            <style>\n",
              "                .geemap-dark {\n",
              "                    --jp-widgets-color: white;\n",
              "                    --jp-widgets-label-color: white;\n",
              "                    --jp-ui-font-color1: white;\n",
              "                    --jp-layout-color2: #454545;\n",
              "                    background-color: #383838;\n",
              "                }\n",
              "\n",
              "                .geemap-dark .jupyter-button {\n",
              "                    --jp-layout-color3: #383838;\n",
              "                }\n",
              "\n",
              "                .geemap-colab {\n",
              "                    background-color: var(--colab-primary-surface-color, white);\n",
              "                }\n",
              "\n",
              "                .geemap-colab .jupyter-button {\n",
              "                    --jp-layout-color3: var(--colab-primary-surface-color, white);\n",
              "                }\n",
              "            </style>\n",
              "            "
            ]
          },
          "metadata": {}
        }
      ],
      "source": [
        "\n",
        "def getQABits(image, start, end, newName):\n",
        "    # Compute the bits we need to extract.\n",
        "    pattern = 0\n",
        "    for i in range(start, end, 1):\n",
        "      pattern += math.pow(2, i)\n",
        "\n",
        "    # Return a single band image of the extracted QA bits, giving the band\n",
        "    # a new name.\n",
        "    return image.select([0], [newName]).bitwiseAnd(pattern).rightShift(start)\n"
      ]
    },
    {
      "cell_type": "code",
      "execution_count": null,
      "metadata": {
        "colab": {
          "base_uri": "https://localhost:8080/"
        },
        "id": "mU04YwIQimFo",
        "outputId": "ebe22837-f80e-426c-99e2-a8a5ee4893d0"
      },
      "outputs": [
        {
          "output_type": "display_data",
          "data": {
            "text/plain": [
              "<IPython.core.display.HTML object>"
            ],
            "text/html": [
              "\n",
              "            <style>\n",
              "                .geemap-dark {\n",
              "                    --jp-widgets-color: white;\n",
              "                    --jp-widgets-label-color: white;\n",
              "                    --jp-ui-font-color1: white;\n",
              "                    --jp-layout-color2: #454545;\n",
              "                    background-color: #383838;\n",
              "                }\n",
              "\n",
              "                .geemap-dark .jupyter-button {\n",
              "                    --jp-layout-color3: #383838;\n",
              "                }\n",
              "\n",
              "                .geemap-colab {\n",
              "                    background-color: var(--colab-primary-surface-color, white);\n",
              "                }\n",
              "\n",
              "                .geemap-colab .jupyter-button {\n",
              "                    --jp-layout-color3: var(--colab-primary-surface-color, white);\n",
              "                }\n",
              "            </style>\n",
              "            "
            ]
          },
          "metadata": {}
        }
      ],
      "source": [
        "\n",
        "# ---Creat Masks based on StateQA (band12) and QA (band8) bands FOR mod09\n",
        "def maskStateQA(image):\n",
        "  # Select the StateQA band.\n",
        "  QA = image.select('StateQA')\n",
        "  #Get cloud and shadow flag bit.\n",
        "  cloud = getQABits(QA, 0, 2, 'cloud_shadow') \\\n",
        "                        .expression(\"b(0)==0\")\n",
        "  #Get water flag bit.\n",
        "  water = getQABits(QA, 3, 5, 'water_state') \\\n",
        "                        .expression(\"b(0)==1\")\n",
        "  #Get aerosol flags (https:#earthscience.stackexchange.com/questions/10046/modis-surface-reflectance-data-state-qa-aerosol-quantity-field-meaning-is-unclea)\n",
        "  #https:#www.mdpi.com/2072-4292/5/7/3495/htm\n",
        "  aerosol = getQABits(QA, 6, 7, 'aerosol_state') \\\n",
        "                        .expression(\"b(0)==1\")\n",
        "  #Cirrus detected\n",
        "  cirrus = getQABits(QA, 8, 9, 'cirrus_state') \\\n",
        "                        .expression(\"b(0)==0\")\n",
        "  #Fire and snow\n",
        "  otherstates = getQABits(QA, 11, 12, 'other_states') \\\n",
        "                        .expression(\"b(0)==0\")\n",
        "  # Select the QA band now.\n",
        "  QA = image.select('QA')\n",
        "  #Get band quality state flags bit.NB: ITS VERY STRICT TAKES OU MOST PIXELS\n",
        "  #bandqa = getQABits(QA, 0, 29, 'band_quality')\n",
        "                        #.expression(\"b(0)==0\")\n",
        "  #atmospheric & adjancency correction performed state flags bit.\n",
        "  corrected = getQABits(QA, 30, 31, 'state_corr')\n",
        "                        #.expression(\"b(0)==1\")\n",
        "  # Return an image masking specified areas.\n",
        "  image = image.updateMask(cloud)\n",
        "  image = image.updateMask(water)\n",
        "  image = image.updateMask(aerosol)\n",
        "  image = image.updateMask(cirrus)\n",
        "  image = image.updateMask(otherstates)\n",
        "  #image = image.updateMask(bandqa)\n",
        "  image = image.updateMask(corrected)\n",
        "  return image"
      ]
    },
    {
      "cell_type": "code",
      "execution_count": null,
      "metadata": {
        "colab": {
          "base_uri": "https://localhost:8080/"
        },
        "id": "kyaaJOPMinG-",
        "outputId": "28082058-5052-4576-a6b8-015209762e38"
      },
      "outputs": [
        {
          "output_type": "display_data",
          "data": {
            "text/plain": [
              "<IPython.core.display.HTML object>"
            ],
            "text/html": [
              "\n",
              "            <style>\n",
              "                .geemap-dark {\n",
              "                    --jp-widgets-color: white;\n",
              "                    --jp-widgets-label-color: white;\n",
              "                    --jp-ui-font-color1: white;\n",
              "                    --jp-layout-color2: #454545;\n",
              "                    background-color: #383838;\n",
              "                }\n",
              "\n",
              "                .geemap-dark .jupyter-button {\n",
              "                    --jp-layout-color3: #383838;\n",
              "                }\n",
              "\n",
              "                .geemap-colab {\n",
              "                    background-color: var(--colab-primary-surface-color, white);\n",
              "                }\n",
              "\n",
              "                .geemap-colab .jupyter-button {\n",
              "                    --jp-layout-color3: var(--colab-primary-surface-color, white);\n",
              "                }\n",
              "            </style>\n",
              "            "
            ]
          },
          "metadata": {}
        }
      ],
      "source": [
        "\n",
        "# ---Create FPAR and LAI Masks based on StateQA (band12) and QA (band8) bands FOR mod09\n",
        "def MOD15A2Hmask(image):\n",
        "  # Select the StateQA band.\n",
        "  QA = image.select('FparExtra_QC')\n",
        "  #Get cloud and shadow flag bit.\n",
        "  cloud = getQABits(QA, 0, 6, 'No_atmophericEffects') \\\n",
        "                        .expression(\"b(0)==0\")\n",
        "  # Return an image masking specified areas.\n",
        "  image = image.updateMask(cloud)\n",
        "  return image\n"
      ]
    },
    {
      "cell_type": "code",
      "execution_count": null,
      "metadata": {
        "colab": {
          "base_uri": "https://localhost:8080/"
        },
        "id": "yVoTW57nittV",
        "outputId": "f5b0094d-d9e4-4d48-affc-0ab84a33ecbe"
      },
      "outputs": [
        {
          "output_type": "display_data",
          "data": {
            "text/plain": [
              "<IPython.core.display.HTML object>"
            ],
            "text/html": [
              "\n",
              "            <style>\n",
              "                .geemap-dark {\n",
              "                    --jp-widgets-color: white;\n",
              "                    --jp-widgets-label-color: white;\n",
              "                    --jp-ui-font-color1: white;\n",
              "                    --jp-layout-color2: #454545;\n",
              "                    background-color: #383838;\n",
              "                }\n",
              "\n",
              "                .geemap-dark .jupyter-button {\n",
              "                    --jp-layout-color3: #383838;\n",
              "                }\n",
              "\n",
              "                .geemap-colab {\n",
              "                    background-color: var(--colab-primary-surface-color, white);\n",
              "                }\n",
              "\n",
              "                .geemap-colab .jupyter-button {\n",
              "                    --jp-layout-color3: var(--colab-primary-surface-color, white);\n",
              "                }\n",
              "            </style>\n",
              "            "
            ]
          },
          "metadata": {}
        }
      ],
      "source": [
        "# ---Creat GPP Masks based on StateQA (band12) and QA (band8) bands FOR mod09\n",
        "def MOD17mask(image):\n",
        "  # Select the StateQA band.\n",
        "  QA = image.select('Psn_QC')\n",
        "  #Get good quality flag bit.\n",
        "  qc = getQABits(QA, 0, 7, 'good_quality').expression(\"b(0)==0\")\n",
        "  # Return an image masking specified areas.\n",
        "  image = image.updateMask(qc)\n",
        "  return image"
      ]
    },
    {
      "cell_type": "code",
      "execution_count": null,
      "metadata": {
        "colab": {
          "base_uri": "https://localhost:8080/"
        },
        "id": "4kvQEdlKiy3L",
        "outputId": "897c7fe8-c371-4350-e43d-c6d3ace5e947"
      },
      "outputs": [
        {
          "output_type": "display_data",
          "data": {
            "text/plain": [
              "<IPython.core.display.HTML object>"
            ],
            "text/html": [
              "\n",
              "            <style>\n",
              "                .geemap-dark {\n",
              "                    --jp-widgets-color: white;\n",
              "                    --jp-widgets-label-color: white;\n",
              "                    --jp-ui-font-color1: white;\n",
              "                    --jp-layout-color2: #454545;\n",
              "                    background-color: #383838;\n",
              "                }\n",
              "\n",
              "                .geemap-dark .jupyter-button {\n",
              "                    --jp-layout-color3: #383838;\n",
              "                }\n",
              "\n",
              "                .geemap-colab {\n",
              "                    background-color: var(--colab-primary-surface-color, white);\n",
              "                }\n",
              "\n",
              "                .geemap-colab .jupyter-button {\n",
              "                    --jp-layout-color3: var(--colab-primary-surface-color, white);\n",
              "                }\n",
              "            </style>\n",
              "            "
            ]
          },
          "metadata": {}
        }
      ],
      "source": [
        "# #  * Function to mask clouds using the Sentinel-2 QA band\n",
        "\n",
        "def maskS2clouds(image):\n",
        "  qa = image.select('QA60')\n",
        "\n",
        "  # Bits 10 and 11 are clouds and cirrus, respectively.\n",
        "  cloudBitMask = 1 << 10\n",
        "  cirrusBitMask = 1 << 11\n",
        "\n",
        "  # Both flags should be set to zero, indicating clear conditions.\n",
        "  mask = qa.bitwiseAnd(cloudBitMask).eq(0) \\\n",
        "      .And(qa.bitwiseAnd(cirrusBitMask).eq(0))\n",
        "\n",
        "  return image.updateMask(mask).divide(10000)"
      ]
    },
    {
      "cell_type": "code",
      "execution_count": null,
      "metadata": {
        "colab": {
          "base_uri": "https://localhost:8080/"
        },
        "id": "6M18NLtZhcO5",
        "outputId": "02cb00d5-5dfe-4e8a-cd2a-8204c02abd66"
      },
      "outputs": [
        {
          "output_type": "display_data",
          "data": {
            "text/plain": [
              "<IPython.core.display.HTML object>"
            ],
            "text/html": [
              "\n",
              "            <style>\n",
              "                .geemap-dark {\n",
              "                    --jp-widgets-color: white;\n",
              "                    --jp-widgets-label-color: white;\n",
              "                    --jp-ui-font-color1: white;\n",
              "                    --jp-layout-color2: #454545;\n",
              "                    background-color: #383838;\n",
              "                }\n",
              "\n",
              "                .geemap-dark .jupyter-button {\n",
              "                    --jp-layout-color3: #383838;\n",
              "                }\n",
              "\n",
              "                .geemap-colab {\n",
              "                    background-color: var(--colab-primary-surface-color, white);\n",
              "                }\n",
              "\n",
              "                .geemap-colab .jupyter-button {\n",
              "                    --jp-layout-color3: var(--colab-primary-surface-color, white);\n",
              "                }\n",
              "            </style>\n",
              "            "
            ]
          },
          "metadata": {}
        }
      ],
      "source": [
        "# Prepare GPP\n",
        "def gpp_prep(image_col,AOI,year):\n",
        "  img = image_col.filterDate(year+'-01-01',year+'-12-31').filterBounds(AOI)\n",
        "  #Import NPP -----Annual\n",
        "  gpp = img.select('Gpp')\n",
        "  return gpp\n"
      ]
    },
    {
      "cell_type": "code",
      "source": [
        "# npp_col = ee.ImageCollection('MODIS/061/MOD17A3HGF')#.select('Npp').filter(ee.Filter.date(start, end)).filter(ee.Filter.calendarRange(4, 8,'month'))\n",
        "# gpp_col = ee.ImageCollection(\"MODIS/006/MOD17A2H\")#.select('Gpp')"
      ],
      "metadata": {
        "colab": {
          "base_uri": "https://localhost:8080/"
        },
        "id": "FnqUcMklYzgQ",
        "outputId": "39276ce9-46f1-40fe-fae8-5b04464bf64c"
      },
      "execution_count": null,
      "outputs": [
        {
          "output_type": "display_data",
          "data": {
            "text/plain": [
              "<IPython.core.display.HTML object>"
            ],
            "text/html": [
              "\n",
              "            <style>\n",
              "                .geemap-dark {\n",
              "                    --jp-widgets-color: white;\n",
              "                    --jp-widgets-label-color: white;\n",
              "                    --jp-ui-font-color1: white;\n",
              "                    --jp-layout-color2: #454545;\n",
              "                    background-color: #383838;\n",
              "                }\n",
              "\n",
              "                .geemap-dark .jupyter-button {\n",
              "                    --jp-layout-color3: #383838;\n",
              "                }\n",
              "\n",
              "                .geemap-colab {\n",
              "                    background-color: var(--colab-primary-surface-color, white);\n",
              "                }\n",
              "\n",
              "                .geemap-colab .jupyter-button {\n",
              "                    --jp-layout-color3: var(--colab-primary-surface-color, white);\n",
              "                }\n",
              "            </style>\n",
              "            "
            ]
          },
          "metadata": {}
        }
      ]
    },
    {
      "cell_type": "code",
      "source": [
        "# img = gpp_col.filterDate(start,end).filter(ee.Filter.calendarRange(4, 8,'month')).filterBounds(AOI)\n",
        "# msk = img.mean()\n",
        "# msk\n",
        "# QA = msk.select('Psn_QC')\n",
        "# # print(QA.getInfo())\n",
        "# #   #Get good quality flag bit.\n",
        "# qc = getQABits(QA, 0, 7, 'good_quality').expression(\"b(0)==0\")\n",
        "# # qc.getInfo()\n",
        "# #   # Return an image masking specified areas.\n",
        "# # image = image.updateMask(qc)"
      ],
      "metadata": {
        "colab": {
          "base_uri": "https://localhost:8080/"
        },
        "id": "vmBzrWWKKKGw",
        "outputId": "459f1aae-6032-4cfb-bb70-d36d2a9a2197"
      },
      "execution_count": null,
      "outputs": [
        {
          "output_type": "display_data",
          "data": {
            "text/plain": [
              "<IPython.core.display.HTML object>"
            ],
            "text/html": [
              "\n",
              "            <style>\n",
              "                .geemap-dark {\n",
              "                    --jp-widgets-color: white;\n",
              "                    --jp-widgets-label-color: white;\n",
              "                    --jp-ui-font-color1: white;\n",
              "                    --jp-layout-color2: #454545;\n",
              "                    background-color: #383838;\n",
              "                }\n",
              "\n",
              "                .geemap-dark .jupyter-button {\n",
              "                    --jp-layout-color3: #383838;\n",
              "                }\n",
              "\n",
              "                .geemap-colab {\n",
              "                    background-color: var(--colab-primary-surface-color, white);\n",
              "                }\n",
              "\n",
              "                .geemap-colab .jupyter-button {\n",
              "                    --jp-layout-color3: var(--colab-primary-surface-color, white);\n",
              "                }\n",
              "            </style>\n",
              "            "
            ]
          },
          "metadata": {}
        }
      ]
    },
    {
      "cell_type": "code",
      "execution_count": null,
      "metadata": {
        "colab": {
          "base_uri": "https://localhost:8080/"
        },
        "id": "mQ8UsKUniNqv",
        "outputId": "47cb7c90-e23b-4ed6-ebce-b13c3ebe4c72"
      },
      "outputs": [
        {
          "output_type": "display_data",
          "data": {
            "text/plain": [
              "<IPython.core.display.HTML object>"
            ],
            "text/html": [
              "\n",
              "            <style>\n",
              "                .geemap-dark {\n",
              "                    --jp-widgets-color: white;\n",
              "                    --jp-widgets-label-color: white;\n",
              "                    --jp-ui-font-color1: white;\n",
              "                    --jp-layout-color2: #454545;\n",
              "                    background-color: #383838;\n",
              "                }\n",
              "\n",
              "                .geemap-dark .jupyter-button {\n",
              "                    --jp-layout-color3: #383838;\n",
              "                }\n",
              "\n",
              "                .geemap-colab {\n",
              "                    background-color: var(--colab-primary-surface-color, white);\n",
              "                }\n",
              "\n",
              "                .geemap-colab .jupyter-button {\n",
              "                    --jp-layout-color3: var(--colab-primary-surface-color, white);\n",
              "                }\n",
              "            </style>\n",
              "            "
            ]
          },
          "metadata": {}
        }
      ],
      "source": [
        "# Prepare NPP\n",
        "def npp_prep(image_col,AOI,year):\n",
        "  img = image_col.filterDate(year+'-01-01',year+'-12-31').filterBounds(AOI)\n",
        "  #Import NPP -----Annual\n",
        "  npp = img.select('Npp')\n",
        "  return npp\n"
      ]
    },
    {
      "cell_type": "code",
      "execution_count": null,
      "metadata": {
        "colab": {
          "base_uri": "https://localhost:8080/"
        },
        "id": "YkzTafTEnmAr",
        "outputId": "4f634a18-b949-4638-c1d2-db02e8532579"
      },
      "outputs": [
        {
          "output_type": "display_data",
          "data": {
            "text/plain": [
              "<IPython.core.display.HTML object>"
            ],
            "text/html": [
              "\n",
              "            <style>\n",
              "                .geemap-dark {\n",
              "                    --jp-widgets-color: white;\n",
              "                    --jp-widgets-label-color: white;\n",
              "                    --jp-ui-font-color1: white;\n",
              "                    --jp-layout-color2: #454545;\n",
              "                    background-color: #383838;\n",
              "                }\n",
              "\n",
              "                .geemap-dark .jupyter-button {\n",
              "                    --jp-layout-color3: #383838;\n",
              "                }\n",
              "\n",
              "                .geemap-colab {\n",
              "                    background-color: var(--colab-primary-surface-color, white);\n",
              "                }\n",
              "\n",
              "                .geemap-colab .jupyter-button {\n",
              "                    --jp-layout-color3: var(--colab-primary-surface-color, white);\n",
              "                }\n",
              "            </style>\n",
              "            "
            ]
          },
          "metadata": {}
        }
      ],
      "source": [
        "# Prepare FPAR\n",
        "def fpar_prep(start_date,end_date,image_col,AOI):\n",
        "  img = image_col.filterDate(start_date,end_date).filter(ee.Filter.calendarRange(4, 8,'month')).filterBounds(AOI)\n",
        "  # Import Fraction of Photosynthetically Active Radiation (FPAR)\n",
        "  fpar = MOD15A2Hmask(img.mean()).select('Fpar_500m')\n",
        "  return fpar\n"
      ]
    },
    {
      "cell_type": "code",
      "execution_count": null,
      "metadata": {
        "colab": {
          "base_uri": "https://localhost:8080/"
        },
        "id": "l4ok19cQoBCh",
        "outputId": "1e937b51-0f36-4e58-9a57-4fb5969fa3e3"
      },
      "outputs": [
        {
          "output_type": "display_data",
          "data": {
            "text/plain": [
              "<IPython.core.display.HTML object>"
            ],
            "text/html": [
              "\n",
              "            <style>\n",
              "                .geemap-dark {\n",
              "                    --jp-widgets-color: white;\n",
              "                    --jp-widgets-label-color: white;\n",
              "                    --jp-ui-font-color1: white;\n",
              "                    --jp-layout-color2: #454545;\n",
              "                    background-color: #383838;\n",
              "                }\n",
              "\n",
              "                .geemap-dark .jupyter-button {\n",
              "                    --jp-layout-color3: #383838;\n",
              "                }\n",
              "\n",
              "                .geemap-colab {\n",
              "                    background-color: var(--colab-primary-surface-color, white);\n",
              "                }\n",
              "\n",
              "                .geemap-colab .jupyter-button {\n",
              "                    --jp-layout-color3: var(--colab-primary-surface-color, white);\n",
              "                }\n",
              "            </style>\n",
              "            "
            ]
          },
          "metadata": {}
        }
      ],
      "source": [
        "# Prepare LAI\n",
        "def lai_prep(start_date,end_date,image_col,AOI):\n",
        "  img = image_col.filterDate(start_date,end_date).filter(ee.Filter.calendarRange(4, 8,'month')).filterBounds(AOI)\n",
        "  # Import Leaf Area Index\n",
        "  lai  = MOD15A2Hmask(img.mean()).select('Lai_500m')\n",
        "  return lai"
      ]
    },
    {
      "cell_type": "markdown",
      "metadata": {
        "id": "5W3oMydgIv27"
      },
      "source": [
        "# Climatic"
      ]
    },
    {
      "cell_type": "markdown",
      "metadata": {
        "id": "9IFHnwdoUhU6"
      },
      "source": [
        "# Pre Req"
      ]
    },
    {
      "cell_type": "code",
      "execution_count": null,
      "metadata": {
        "colab": {
          "base_uri": "https://localhost:8080/",
          "height": 17
        },
        "id": "uYqkf1tFAGzi",
        "outputId": "34a0aacc-c2c2-4475-92e4-0a78f39860ce"
      },
      "outputs": [
        {
          "output_type": "display_data",
          "data": {
            "text/plain": [
              "<IPython.core.display.HTML object>"
            ],
            "text/html": [
              "\n",
              "            <style>\n",
              "                .geemap-dark {\n",
              "                    --jp-widgets-color: white;\n",
              "                    --jp-widgets-label-color: white;\n",
              "                    --jp-ui-font-color1: white;\n",
              "                    --jp-layout-color2: #454545;\n",
              "                    background-color: #383838;\n",
              "                }\n",
              "\n",
              "                .geemap-dark .jupyter-button {\n",
              "                    --jp-layout-color3: #383838;\n",
              "                }\n",
              "\n",
              "                .geemap-colab {\n",
              "                    background-color: var(--colab-primary-surface-color, white);\n",
              "                }\n",
              "\n",
              "                .geemap-colab .jupyter-button {\n",
              "                    --jp-layout-color3: var(--colab-primary-surface-color, white);\n",
              "                }\n",
              "            </style>\n",
              "            "
            ]
          },
          "metadata": {}
        }
      ],
      "source": [
        "start= ee.Date('2010-04-01')\n",
        "end = ee.Date('2023-08-31')\n",
        "bound = ee.FeatureCollection(\"users/Prod/boundary\")\n",
        "newzones = ee.FeatureCollection(\"users/Prod/zone_5\")\n",
        "AOI = bound.geometry()\n",
        "Map = geemap.Map()\n",
        "Map.centerObject(AOI, 6)\n",
        "Map.addLayer(AOI,{},'AOI')"
      ]
    },
    {
      "cell_type": "code",
      "execution_count": null,
      "metadata": {
        "colab": {
          "base_uri": "https://localhost:8080/",
          "height": 17
        },
        "id": "F3neaj4CbLWS",
        "outputId": "3cf5f8a6-84de-4a89-dc11-b7bd8bd29749"
      },
      "outputs": [
        {
          "output_type": "display_data",
          "data": {
            "text/plain": [
              "<IPython.core.display.HTML object>"
            ],
            "text/html": [
              "\n",
              "            <style>\n",
              "                .geemap-dark {\n",
              "                    --jp-widgets-color: white;\n",
              "                    --jp-widgets-label-color: white;\n",
              "                    --jp-ui-font-color1: white;\n",
              "                    --jp-layout-color2: #454545;\n",
              "                    background-color: #383838;\n",
              "                }\n",
              "\n",
              "                .geemap-dark .jupyter-button {\n",
              "                    --jp-layout-color3: #383838;\n",
              "                }\n",
              "\n",
              "                .geemap-colab {\n",
              "                    background-color: var(--colab-primary-surface-color, white);\n",
              "                }\n",
              "\n",
              "                .geemap-colab .jupyter-button {\n",
              "                    --jp-layout-color3: var(--colab-primary-surface-color, white);\n",
              "                }\n",
              "            </style>\n",
              "            "
            ]
          },
          "metadata": {}
        }
      ],
      "source": [
        "county = ee.FeatureCollection(\"projects/ee-maizeyield/assets/county_maize_yield_2010-18\")\n",
        "scale = 463.31271652791656\n",
        "years = ee.List.sequence(2010,2023)\n",
        "# years.getInfo()"
      ]
    },
    {
      "cell_type": "markdown",
      "metadata": {
        "id": "sWKWA5whRPyQ"
      },
      "source": [
        "# Visualization"
      ]
    },
    {
      "cell_type": "code",
      "execution_count": null,
      "metadata": {
        "colab": {
          "base_uri": "https://localhost:8080/"
        },
        "id": "Q0BRYWKECWr3",
        "outputId": "3403d736-60f5-456d-8f0b-279058a0712a"
      },
      "outputs": [
        {
          "output_type": "display_data",
          "data": {
            "text/plain": [
              "<IPython.core.display.HTML object>"
            ],
            "text/html": [
              "\n",
              "            <style>\n",
              "                .geemap-dark {\n",
              "                    --jp-widgets-color: white;\n",
              "                    --jp-widgets-label-color: white;\n",
              "                    --jp-ui-font-color1: white;\n",
              "                    --jp-layout-color2: #454545;\n",
              "                    background-color: #383838;\n",
              "                }\n",
              "\n",
              "                .geemap-dark .jupyter-button {\n",
              "                    --jp-layout-color3: #383838;\n",
              "                }\n",
              "\n",
              "                .geemap-colab {\n",
              "                    background-color: var(--colab-primary-surface-color, white);\n",
              "                }\n",
              "\n",
              "                .geemap-colab .jupyter-button {\n",
              "                    --jp-layout-color3: var(--colab-primary-surface-color, white);\n",
              "                }\n",
              "            </style>\n",
              "            "
            ]
          },
          "metadata": {}
        }
      ],
      "source": [
        "# // Visualization palette for total precipitation\n",
        "visTp = {\n",
        "  'min': 0,\n",
        "  'max': 0.1,\n",
        "  'palette': ['#FFFFFF', '#00FFFF', '#0080FF', '#DA00FF', '#FFA400', '#FF0000']\n",
        "}"
      ]
    },
    {
      "cell_type": "code",
      "execution_count": null,
      "metadata": {
        "colab": {
          "base_uri": "https://localhost:8080/"
        },
        "id": "niAGtbTIAnpJ",
        "outputId": "4c41ad2d-db2c-41a6-a6d2-13b976c87d7c"
      },
      "outputs": [
        {
          "output_type": "display_data",
          "data": {
            "text/plain": [
              "<IPython.core.display.HTML object>"
            ],
            "text/html": [
              "\n",
              "            <style>\n",
              "                .geemap-dark {\n",
              "                    --jp-widgets-color: white;\n",
              "                    --jp-widgets-label-color: white;\n",
              "                    --jp-ui-font-color1: white;\n",
              "                    --jp-layout-color2: #454545;\n",
              "                    background-color: #383838;\n",
              "                }\n",
              "\n",
              "                .geemap-dark .jupyter-button {\n",
              "                    --jp-layout-color3: #383838;\n",
              "                }\n",
              "\n",
              "                .geemap-colab {\n",
              "                    background-color: var(--colab-primary-surface-color, white);\n",
              "                }\n",
              "\n",
              "                .geemap-colab .jupyter-button {\n",
              "                    --jp-layout-color3: var(--colab-primary-surface-color, white);\n",
              "                }\n",
              "            </style>\n",
              "            "
            ]
          },
          "metadata": {}
        }
      ],
      "source": [
        "# // Visualization palette for Temperature\n",
        "vis2mt = {\n",
        "  'min': 250,\n",
        "  'max': 320,\n",
        "  'palette': [\n",
        "    '000080', '0000d9', '4000ff', '8000ff', '0080ff', '00ffff', '00ff80',\n",
        "    '80ff00', 'daff00', 'ffff00', 'fff500', 'ffda00', 'ffb000', 'ffa400',\n",
        "    'ff4f00', 'ff2500', 'ff0a00', 'ff00ff'\n",
        "  ]\n",
        "}"
      ]
    },
    {
      "cell_type": "code",
      "execution_count": null,
      "metadata": {
        "colab": {
          "base_uri": "https://localhost:8080/"
        },
        "id": "m95Cj3bgEUw4",
        "outputId": "10068779-3e6e-49f7-f41b-16004eb71529"
      },
      "outputs": [
        {
          "output_type": "display_data",
          "data": {
            "text/plain": [
              "<IPython.core.display.HTML object>"
            ],
            "text/html": [
              "\n",
              "            <style>\n",
              "                .geemap-dark {\n",
              "                    --jp-widgets-color: white;\n",
              "                    --jp-widgets-label-color: white;\n",
              "                    --jp-ui-font-color1: white;\n",
              "                    --jp-layout-color2: #454545;\n",
              "                    background-color: #383838;\n",
              "                }\n",
              "\n",
              "                .geemap-dark .jupyter-button {\n",
              "                    --jp-layout-color3: #383838;\n",
              "                }\n",
              "\n",
              "                .geemap-colab {\n",
              "                    background-color: var(--colab-primary-surface-color, white);\n",
              "                }\n",
              "\n",
              "                .geemap-colab .jupyter-button {\n",
              "                    --jp-layout-color3: var(--colab-primary-surface-color, white);\n",
              "                }\n",
              "            </style>\n",
              "            "
            ]
          },
          "metadata": {}
        }
      ],
      "source": [
        "# // Visualization palette for u- and v-component of 10m wind\n",
        "visWind = {\n",
        "  'min': 0,\n",
        "  'max': 30,\n",
        "  'palette': [\n",
        "    '#FFFFFF', '#FFFF71', '#DEFF00', '#9EFF00', '#77B038', '#007E55', '#005F51',\n",
        "    '#004B51', '#013A7B', '#023AAD'\n",
        "  ]\n",
        "}"
      ]
    },
    {
      "cell_type": "code",
      "execution_count": null,
      "metadata": {
        "colab": {
          "base_uri": "https://localhost:8080/"
        },
        "id": "ZZAMtCq8NWgc",
        "outputId": "3fb16496-5c30-4e3b-f2a7-aefe893154bc"
      },
      "outputs": [
        {
          "output_type": "display_data",
          "data": {
            "text/plain": [
              "<IPython.core.display.HTML object>"
            ],
            "text/html": [
              "\n",
              "            <style>\n",
              "                .geemap-dark {\n",
              "                    --jp-widgets-color: white;\n",
              "                    --jp-widgets-label-color: white;\n",
              "                    --jp-ui-font-color1: white;\n",
              "                    --jp-layout-color2: #454545;\n",
              "                    background-color: #383838;\n",
              "                }\n",
              "\n",
              "                .geemap-dark .jupyter-button {\n",
              "                    --jp-layout-color3: #383838;\n",
              "                }\n",
              "\n",
              "                .geemap-colab {\n",
              "                    background-color: var(--colab-primary-surface-color, white);\n",
              "                }\n",
              "\n",
              "                .geemap-colab .jupyter-button {\n",
              "                    --jp-layout-color3: var(--colab-primary-surface-color, white);\n",
              "                }\n",
              "            </style>\n",
              "            "
            ]
          },
          "metadata": {}
        }
      ],
      "source": [
        "visMtp = {\n",
        "  'min': 250.0,\n",
        "  'max': 320.0,\n",
        "  'palette': [\n",
        "    \"#000080\",\"#0000D9\",\"#4000FF\",\"#8000FF\",\"#0080FF\",\"#00FFFF\",\n",
        "    \"#00FF80\",\"#80FF00\",\"#DAFF00\",\"#FFFF00\",\"#FFF500\",\"#FFDA00\",\n",
        "    \"#FFB000\",\"#FFA400\",\"#FF4F00\",\"#FF2500\",\"#FF0A00\",\"#FF00FF\",\n",
        "  ]\n",
        "}"
      ]
    },
    {
      "cell_type": "code",
      "execution_count": null,
      "metadata": {
        "colab": {
          "base_uri": "https://localhost:8080/"
        },
        "id": "TXRjVd3oPnAi",
        "outputId": "1cfedd39-e4e1-4ec2-90d9-aa4cafa6e64a"
      },
      "outputs": [
        {
          "output_type": "display_data",
          "data": {
            "text/plain": [
              "<IPython.core.display.HTML object>"
            ],
            "text/html": [
              "\n",
              "            <style>\n",
              "                .geemap-dark {\n",
              "                    --jp-widgets-color: white;\n",
              "                    --jp-widgets-label-color: white;\n",
              "                    --jp-ui-font-color1: white;\n",
              "                    --jp-layout-color2: #454545;\n",
              "                    background-color: #383838;\n",
              "                }\n",
              "\n",
              "                .geemap-dark .jupyter-button {\n",
              "                    --jp-layout-color3: #383838;\n",
              "                }\n",
              "\n",
              "                .geemap-colab {\n",
              "                    background-color: var(--colab-primary-surface-color, white);\n",
              "                }\n",
              "\n",
              "                .geemap-colab .jupyter-button {\n",
              "                    --jp-layout-color3: var(--colab-primary-surface-color, white);\n",
              "                }\n",
              "            </style>\n",
              "            "
            ]
          },
          "metadata": {}
        }
      ],
      "source": [
        "visChirps = {\n",
        "  'min': 1.0,\n",
        "  'max': 17.0,\n",
        "  'palette': ['001137', '0aab1e', 'e7eb05', 'ff4a2d', 'e90000'],\n",
        "};"
      ]
    },
    {
      "cell_type": "markdown",
      "metadata": {
        "id": "15M_aUAkU0kE"
      },
      "source": [
        "# ERA 5 Rainfall"
      ]
    },
    {
      "cell_type": "code",
      "execution_count": null,
      "metadata": {
        "id": "dlm79nj6A29m",
        "collapsed": true,
        "colab": {
          "base_uri": "https://localhost:8080/"
        },
        "outputId": "af54ec25-0401-4ffa-e208-8b9ad5af6b46"
      },
      "outputs": [
        {
          "output_type": "display_data",
          "data": {
            "text/plain": [
              "<IPython.core.display.HTML object>"
            ],
            "text/html": [
              "\n",
              "            <style>\n",
              "                .geemap-dark {\n",
              "                    --jp-widgets-color: white;\n",
              "                    --jp-widgets-label-color: white;\n",
              "                    --jp-ui-font-color1: white;\n",
              "                    --jp-layout-color2: #454545;\n",
              "                    background-color: #383838;\n",
              "                }\n",
              "\n",
              "                .geemap-dark .jupyter-button {\n",
              "                    --jp-layout-color3: #383838;\n",
              "                }\n",
              "\n",
              "                .geemap-colab {\n",
              "                    background-color: var(--colab-primary-surface-color, white);\n",
              "                }\n",
              "\n",
              "                .geemap-colab .jupyter-button {\n",
              "                    --jp-layout-color3: var(--colab-primary-surface-color, white);\n",
              "                }\n",
              "            </style>\n",
              "            "
            ]
          },
          "metadata": {}
        }
      ],
      "source": [
        "\n",
        "# // Daily total precipitation sums\n",
        "era5_tp = ee.ImageCollection('ECMWF/ERA5/DAILY').select('total_precipitation').filter(ee.Filter.date(start, end)).filter(ee.Filter.calendarRange(4, 8,'month')).filterBounds(AOI)\n",
        "era_md = era5_tp.median().clip(AOI)\n",
        "# Map.addLayer(era_md,visTp,'ERA5 Total Prec')"
      ]
    },
    {
      "cell_type": "code",
      "execution_count": null,
      "metadata": {
        "colab": {
          "base_uri": "https://localhost:8080/"
        },
        "id": "LSMbtiRKeC1V",
        "outputId": "3d53c8f7-66d5-44b0-dd92-1c8f722fe2b6"
      },
      "outputs": [
        {
          "output_type": "display_data",
          "data": {
            "text/plain": [
              "<IPython.core.display.HTML object>"
            ],
            "text/html": [
              "\n",
              "            <style>\n",
              "                .geemap-dark {\n",
              "                    --jp-widgets-color: white;\n",
              "                    --jp-widgets-label-color: white;\n",
              "                    --jp-ui-font-color1: white;\n",
              "                    --jp-layout-color2: #454545;\n",
              "                    background-color: #383838;\n",
              "                }\n",
              "\n",
              "                .geemap-dark .jupyter-button {\n",
              "                    --jp-layout-color3: #383838;\n",
              "                }\n",
              "\n",
              "                .geemap-colab {\n",
              "                    background-color: var(--colab-primary-surface-color, white);\n",
              "                }\n",
              "\n",
              "                .geemap-colab .jupyter-button {\n",
              "                    --jp-layout-color3: var(--colab-primary-surface-color, white);\n",
              "                }\n",
              "            </style>\n",
              "            "
            ]
          },
          "metadata": {}
        }
      ],
      "source": [
        "# */\n",
        "# //--------------- Get the MEAN--------------------------------------\n",
        "era5_tp_mean = ee.ImageCollection.fromImages(years.map(lambda year: era5_tp.filter(ee.Filter.calendarRange(year, year, 'year')).mean().set('Year',year)))\n",
        "# .rename(['blue','green','red','nir','swir1'])))\n",
        "# era5_tp_mean\n"
      ]
    },
    {
      "cell_type": "code",
      "execution_count": null,
      "metadata": {
        "colab": {
          "base_uri": "https://localhost:8080/"
        },
        "id": "l-rCkMGysmR6",
        "outputId": "64d8d367-1978-4f27-8bbf-e88755fd819b"
      },
      "outputs": [
        {
          "output_type": "display_data",
          "data": {
            "text/plain": [
              "<IPython.core.display.HTML object>"
            ],
            "text/html": [
              "\n",
              "            <style>\n",
              "                .geemap-dark {\n",
              "                    --jp-widgets-color: white;\n",
              "                    --jp-widgets-label-color: white;\n",
              "                    --jp-ui-font-color1: white;\n",
              "                    --jp-layout-color2: #454545;\n",
              "                    background-color: #383838;\n",
              "                }\n",
              "\n",
              "                .geemap-dark .jupyter-button {\n",
              "                    --jp-layout-color3: #383838;\n",
              "                }\n",
              "\n",
              "                .geemap-colab {\n",
              "                    background-color: var(--colab-primary-surface-color, white);\n",
              "                }\n",
              "\n",
              "                .geemap-colab .jupyter-button {\n",
              "                    --jp-layout-color3: var(--colab-primary-surface-color, white);\n",
              "                }\n",
              "            </style>\n",
              "            "
            ]
          },
          "metadata": {}
        }
      ],
      "source": [
        "# era5_tp_mean.toBands().bandNames().getInfo()"
      ]
    },
    {
      "cell_type": "code",
      "execution_count": null,
      "metadata": {
        "colab": {
          "base_uri": "https://localhost:8080/"
        },
        "id": "5Guajcuefyq-",
        "outputId": "ef279080-76da-41c8-8407-824a4e8b3e4c",
        "collapsed": true
      },
      "outputs": [
        {
          "output_type": "display_data",
          "data": {
            "text/plain": [
              "<IPython.core.display.HTML object>"
            ],
            "text/html": [
              "\n",
              "            <style>\n",
              "                .geemap-dark {\n",
              "                    --jp-widgets-color: white;\n",
              "                    --jp-widgets-label-color: white;\n",
              "                    --jp-ui-font-color1: white;\n",
              "                    --jp-layout-color2: #454545;\n",
              "                    background-color: #383838;\n",
              "                }\n",
              "\n",
              "                .geemap-dark .jupyter-button {\n",
              "                    --jp-layout-color3: #383838;\n",
              "                }\n",
              "\n",
              "                .geemap-colab {\n",
              "                    background-color: var(--colab-primary-surface-color, white);\n",
              "                }\n",
              "\n",
              "                .geemap-colab .jupyter-button {\n",
              "                    --jp-layout-color3: var(--colab-primary-surface-color, white);\n",
              "                }\n",
              "            </style>\n",
              "            "
            ]
          },
          "metadata": {}
        }
      ],
      "source": [
        "era5_tp_mean_=era5_tp_mean.toBands().select(['0_total_precipitation', '1_total_precipitation', '2_total_precipitation'\n",
        ", '3_total_precipitation', '4_total_precipitation','5_total_precipitation', '6_total_precipitation', '7_total_precipitation',\n",
        " '8_total_precipitation','9_total_precipitation','10_total_precipitation'\n",
        "#  ,'11_total_precipitation','12_total_precipitation','13_total_precipitation'\n",
        " ],[\n",
        "'era5d_2010_total_precipitation','era5d_2011_total_precipitation','era5d_2012_total_precipitation','era5d_2013_total_precipitation',\n",
        "'era5d_2014_total_precipitation','era5d_2015_total_precipitation','era5d_2016_total_precipitation','era5d_2017_total_precipitation',\n",
        "'era5d_2018_total_precipitation',\n",
        " 'era5d_2019_total_precipitation','era5d_2020_total_precipitation',\n",
        "    #  'era5d_2021_total_precipitation' ,'era5d_2022_total_precipitation',  'era5d_2023_total_precipitation'\n",
        "])\n",
        "# era5_tp_mean_.getInfo()"
      ]
    },
    {
      "cell_type": "code",
      "source": [
        "# Map.addLayer(era_md,visTp,'ERA5 Total Prec')"
      ],
      "metadata": {
        "colab": {
          "base_uri": "https://localhost:8080/"
        },
        "id": "v8qxz7LMygiK",
        "outputId": "9060ab99-2240-497c-cb63-403a064e780a"
      },
      "execution_count": null,
      "outputs": [
        {
          "output_type": "display_data",
          "data": {
            "text/plain": [
              "<IPython.core.display.HTML object>"
            ],
            "text/html": [
              "\n",
              "            <style>\n",
              "                .geemap-dark {\n",
              "                    --jp-widgets-color: white;\n",
              "                    --jp-widgets-label-color: white;\n",
              "                    --jp-ui-font-color1: white;\n",
              "                    --jp-layout-color2: #454545;\n",
              "                    background-color: #383838;\n",
              "                }\n",
              "\n",
              "                .geemap-dark .jupyter-button {\n",
              "                    --jp-layout-color3: #383838;\n",
              "                }\n",
              "\n",
              "                .geemap-colab {\n",
              "                    background-color: var(--colab-primary-surface-color, white);\n",
              "                }\n",
              "\n",
              "                .geemap-colab .jupyter-button {\n",
              "                    --jp-layout-color3: var(--colab-primary-surface-color, white);\n",
              "                }\n",
              "            </style>\n",
              "            "
            ]
          },
          "metadata": {}
        }
      ]
    },
    {
      "cell_type": "code",
      "execution_count": null,
      "metadata": {
        "colab": {
          "base_uri": "https://localhost:8080/"
        },
        "id": "Uowzg4CvE3bR",
        "outputId": "2b49878e-e18f-401a-9f86-3d57cdbbd6e8"
      },
      "outputs": [
        {
          "output_type": "display_data",
          "data": {
            "text/plain": [
              "<IPython.core.display.HTML object>"
            ],
            "text/html": [
              "\n",
              "            <style>\n",
              "                .geemap-dark {\n",
              "                    --jp-widgets-color: white;\n",
              "                    --jp-widgets-label-color: white;\n",
              "                    --jp-ui-font-color1: white;\n",
              "                    --jp-layout-color2: #454545;\n",
              "                    background-color: #383838;\n",
              "                }\n",
              "\n",
              "                .geemap-dark .jupyter-button {\n",
              "                    --jp-layout-color3: #383838;\n",
              "                }\n",
              "\n",
              "                .geemap-colab {\n",
              "                    background-color: var(--colab-primary-surface-color, white);\n",
              "                }\n",
              "\n",
              "                .geemap-colab .jupyter-button {\n",
              "                    --jp-layout-color3: var(--colab-primary-surface-color, white);\n",
              "                }\n",
              "            </style>\n",
              "            "
            ]
          },
          "metadata": {}
        }
      ],
      "source": [
        "era5_monthly = ee.ImageCollection(\"ECMWF/ERA5/MONTHLY\").select('total_precipitation').filter(ee.Filter.date(start, end)).filter(ee.Filter.calendarRange(4, 8,'month')).filterBounds(AOI)\n",
        "# era_mmd = era5_monthly.median().clip(AOI)\n",
        "# Map.addLayer(era_mmd,visMtp,'ERA5 Montly Prec')\n",
        "# era5_monthly"
      ]
    },
    {
      "cell_type": "code",
      "execution_count": null,
      "metadata": {
        "colab": {
          "base_uri": "https://localhost:8080/"
        },
        "id": "Z-LCd6POqeGm",
        "outputId": "26ee952b-7477-423d-a828-9e9d9daef370"
      },
      "outputs": [
        {
          "output_type": "display_data",
          "data": {
            "text/plain": [
              "<IPython.core.display.HTML object>"
            ],
            "text/html": [
              "\n",
              "            <style>\n",
              "                .geemap-dark {\n",
              "                    --jp-widgets-color: white;\n",
              "                    --jp-widgets-label-color: white;\n",
              "                    --jp-ui-font-color1: white;\n",
              "                    --jp-layout-color2: #454545;\n",
              "                    background-color: #383838;\n",
              "                }\n",
              "\n",
              "                .geemap-dark .jupyter-button {\n",
              "                    --jp-layout-color3: #383838;\n",
              "                }\n",
              "\n",
              "                .geemap-colab {\n",
              "                    background-color: var(--colab-primary-surface-color, white);\n",
              "                }\n",
              "\n",
              "                .geemap-colab .jupyter-button {\n",
              "                    --jp-layout-color3: var(--colab-primary-surface-color, white);\n",
              "                }\n",
              "            </style>\n",
              "            "
            ]
          },
          "metadata": {}
        }
      ],
      "source": [
        "# */\n",
        "# //--------------- Get the MEAN--------------------------------------\n",
        "era5_monthly_mean = ee.ImageCollection.fromImages(years.map(lambda year: era5_monthly.filter(ee.Filter.calendarRange(year, year, 'year')).mean()))\n",
        "# .rename(['blue','green','red','nir','swir1'])))\n",
        "# era5_monthly_mean"
      ]
    },
    {
      "cell_type": "code",
      "execution_count": null,
      "metadata": {
        "colab": {
          "base_uri": "https://localhost:8080/"
        },
        "id": "ZUkV9L3Wycn8",
        "outputId": "7ba2ab9c-eae5-4a1f-b9e2-bec39490e704"
      },
      "outputs": [
        {
          "output_type": "display_data",
          "data": {
            "text/plain": [
              "<IPython.core.display.HTML object>"
            ],
            "text/html": [
              "\n",
              "            <style>\n",
              "                .geemap-dark {\n",
              "                    --jp-widgets-color: white;\n",
              "                    --jp-widgets-label-color: white;\n",
              "                    --jp-ui-font-color1: white;\n",
              "                    --jp-layout-color2: #454545;\n",
              "                    background-color: #383838;\n",
              "                }\n",
              "\n",
              "                .geemap-dark .jupyter-button {\n",
              "                    --jp-layout-color3: #383838;\n",
              "                }\n",
              "\n",
              "                .geemap-colab {\n",
              "                    background-color: var(--colab-primary-surface-color, white);\n",
              "                }\n",
              "\n",
              "                .geemap-colab .jupyter-button {\n",
              "                    --jp-layout-color3: var(--colab-primary-surface-color, white);\n",
              "                }\n",
              "            </style>\n",
              "            "
            ]
          },
          "metadata": {}
        }
      ],
      "source": [
        "# era5_monthly_mean.toBands().bandNames().getInfo()"
      ]
    },
    {
      "cell_type": "code",
      "execution_count": null,
      "metadata": {
        "colab": {
          "base_uri": "https://localhost:8080/"
        },
        "id": "bDonvX1CycoG",
        "outputId": "05c49169-d7ca-43d9-c0ab-cfac10a636a5",
        "collapsed": true
      },
      "outputs": [
        {
          "output_type": "display_data",
          "data": {
            "text/plain": [
              "<IPython.core.display.HTML object>"
            ],
            "text/html": [
              "\n",
              "            <style>\n",
              "                .geemap-dark {\n",
              "                    --jp-widgets-color: white;\n",
              "                    --jp-widgets-label-color: white;\n",
              "                    --jp-ui-font-color1: white;\n",
              "                    --jp-layout-color2: #454545;\n",
              "                    background-color: #383838;\n",
              "                }\n",
              "\n",
              "                .geemap-dark .jupyter-button {\n",
              "                    --jp-layout-color3: #383838;\n",
              "                }\n",
              "\n",
              "                .geemap-colab {\n",
              "                    background-color: var(--colab-primary-surface-color, white);\n",
              "                }\n",
              "\n",
              "                .geemap-colab .jupyter-button {\n",
              "                    --jp-layout-color3: var(--colab-primary-surface-color, white);\n",
              "                }\n",
              "            </style>\n",
              "            "
            ]
          },
          "metadata": {}
        }
      ],
      "source": [
        "era5_monthly_mean_=era5_monthly_mean.toBands().select(\n",
        "  ['0_total_precipitation', '1_total_precipitation', '2_total_precipitation'\n",
        "  , '3_total_precipitation', '4_total_precipitation','5_total_precipitation', '6_total_precipitation', '7_total_precipitation',\n",
        "   '8_total_precipitation','9_total_precipitation','10_total_precipitation'\n",
        "  #  ,'11_total_precipitation','12_total_precipitation','13_total_precipitation'\n",
        "   ],[\n",
        "    'era5m_2010_total_precipitation','era5m_2011_total_precipitation','era5m_2012_total_precipitation','era5m_2013_total_precipitation','era5m_2014_total_precipitation'\n",
        "    ,'era5m_2015_total_precipitation','era5m_2016_total_precipitation','era5m_2017_total_precipitation','era5m_2018_total_precipitation',\n",
        "    'era5m_2019_total_precipitation','era5m_2020_total_precipitation'\n",
        "    # ,'era5m_2021_total_precipitation' ,'era5m_2022_total_precipitation','era5m_2023_total_precipitation'\n",
        "    ])\n",
        "# era5_monthly_mean_.getInfo()"
      ]
    },
    {
      "cell_type": "markdown",
      "metadata": {
        "id": "rPcKQi6yU9GY"
      },
      "source": [
        "# ERA 5 Temperature"
      ]
    },
    {
      "cell_type": "markdown",
      "metadata": {
        "id": "vNRWUAoDVsPd"
      },
      "source": [
        "**Daily Mean Temperature**"
      ]
    },
    {
      "cell_type": "code",
      "execution_count": null,
      "metadata": {
        "colab": {
          "base_uri": "https://localhost:8080/"
        },
        "id": "Hl_IwYO9_eTj",
        "outputId": "cd863d00-0eb0-4d40-cbb8-a1f2db5a4d21"
      },
      "outputs": [
        {
          "output_type": "display_data",
          "data": {
            "text/plain": [
              "<IPython.core.display.HTML object>"
            ],
            "text/html": [
              "\n",
              "            <style>\n",
              "                .geemap-dark {\n",
              "                    --jp-widgets-color: white;\n",
              "                    --jp-widgets-label-color: white;\n",
              "                    --jp-ui-font-color1: white;\n",
              "                    --jp-layout-color2: #454545;\n",
              "                    background-color: #383838;\n",
              "                }\n",
              "\n",
              "                .geemap-dark .jupyter-button {\n",
              "                    --jp-layout-color3: #383838;\n",
              "                }\n",
              "\n",
              "                .geemap-colab {\n",
              "                    background-color: var(--colab-primary-surface-color, white);\n",
              "                }\n",
              "\n",
              "                .geemap-colab .jupyter-button {\n",
              "                    --jp-layout-color3: var(--colab-primary-surface-color, white);\n",
              "                }\n",
              "            </style>\n",
              "            "
            ]
          },
          "metadata": {}
        }
      ],
      "source": [
        "# // Daily Mean Temperature\n",
        "era5_mean_temp = ee.ImageCollection('ECMWF/ERA5/DAILY').select('mean_2m_air_temperature').filter(ee.Filter.date(start, end)).filter(ee.Filter.calendarRange(4, 8,'month'))\n",
        "# era_md = era5_tp.median().clip(AOI)\n",
        "# Map.addLayer(era_md,visTp,'ERA5 Total Temp')\n",
        "# era5_mean_temp"
      ]
    },
    {
      "cell_type": "code",
      "execution_count": null,
      "metadata": {
        "colab": {
          "base_uri": "https://localhost:8080/"
        },
        "id": "bup5uXASF8xq",
        "outputId": "997b55e6-d805-491b-d958-956c437f3802"
      },
      "outputs": [
        {
          "output_type": "display_data",
          "data": {
            "text/plain": [
              "<IPython.core.display.HTML object>"
            ],
            "text/html": [
              "\n",
              "            <style>\n",
              "                .geemap-dark {\n",
              "                    --jp-widgets-color: white;\n",
              "                    --jp-widgets-label-color: white;\n",
              "                    --jp-ui-font-color1: white;\n",
              "                    --jp-layout-color2: #454545;\n",
              "                    background-color: #383838;\n",
              "                }\n",
              "\n",
              "                .geemap-dark .jupyter-button {\n",
              "                    --jp-layout-color3: #383838;\n",
              "                }\n",
              "\n",
              "                .geemap-colab {\n",
              "                    background-color: var(--colab-primary-surface-color, white);\n",
              "                }\n",
              "\n",
              "                .geemap-colab .jupyter-button {\n",
              "                    --jp-layout-color3: var(--colab-primary-surface-color, white);\n",
              "                }\n",
              "            </style>\n",
              "            "
            ]
          },
          "metadata": {}
        }
      ],
      "source": [
        "# */\n",
        "# //--------------- Get the MEAN--------------------------------------\n",
        "era5_mean_temp_mean = ee.ImageCollection.fromImages(years.map(lambda year: era5_mean_temp.filter(ee.Filter.calendarRange(year, year, 'year')).mean().set('Year',year)))\n",
        "# .rename(['blue','green','red','nir','swir1'])))\n",
        "# era5_mean_temp_mean"
      ]
    },
    {
      "cell_type": "code",
      "execution_count": null,
      "metadata": {
        "colab": {
          "base_uri": "https://localhost:8080/"
        },
        "id": "RnudorrNS-aS",
        "outputId": "39f68dca-4386-4d13-8c81-90ba78b3fbb3"
      },
      "outputs": [
        {
          "output_type": "display_data",
          "data": {
            "text/plain": [
              "<IPython.core.display.HTML object>"
            ],
            "text/html": [
              "\n",
              "            <style>\n",
              "                .geemap-dark {\n",
              "                    --jp-widgets-color: white;\n",
              "                    --jp-widgets-label-color: white;\n",
              "                    --jp-ui-font-color1: white;\n",
              "                    --jp-layout-color2: #454545;\n",
              "                    background-color: #383838;\n",
              "                }\n",
              "\n",
              "                .geemap-dark .jupyter-button {\n",
              "                    --jp-layout-color3: #383838;\n",
              "                }\n",
              "\n",
              "                .geemap-colab {\n",
              "                    background-color: var(--colab-primary-surface-color, white);\n",
              "                }\n",
              "\n",
              "                .geemap-colab .jupyter-button {\n",
              "                    --jp-layout-color3: var(--colab-primary-surface-color, white);\n",
              "                }\n",
              "            </style>\n",
              "            "
            ]
          },
          "metadata": {}
        }
      ],
      "source": [
        "# era5_mean_temp_mean.toBands().bandNames().getInfo()"
      ]
    },
    {
      "cell_type": "code",
      "execution_count": null,
      "metadata": {
        "colab": {
          "base_uri": "https://localhost:8080/"
        },
        "id": "wgCr3gYWV50L",
        "outputId": "f69447d6-698a-41b5-a2e5-7cc312ef415f",
        "collapsed": true
      },
      "outputs": [
        {
          "output_type": "display_data",
          "data": {
            "text/plain": [
              "<IPython.core.display.HTML object>"
            ],
            "text/html": [
              "\n",
              "            <style>\n",
              "                .geemap-dark {\n",
              "                    --jp-widgets-color: white;\n",
              "                    --jp-widgets-label-color: white;\n",
              "                    --jp-ui-font-color1: white;\n",
              "                    --jp-layout-color2: #454545;\n",
              "                    background-color: #383838;\n",
              "                }\n",
              "\n",
              "                .geemap-dark .jupyter-button {\n",
              "                    --jp-layout-color3: #383838;\n",
              "                }\n",
              "\n",
              "                .geemap-colab {\n",
              "                    background-color: var(--colab-primary-surface-color, white);\n",
              "                }\n",
              "\n",
              "                .geemap-colab .jupyter-button {\n",
              "                    --jp-layout-color3: var(--colab-primary-surface-color, white);\n",
              "                }\n",
              "            </style>\n",
              "            "
            ]
          },
          "metadata": {}
        }
      ],
      "source": [
        "era5_mean_temp_mean_=era5_mean_temp_mean.toBands().select(era5_mean_temp_mean.toBands().bandNames().getInfo()\n",
        "    # ['0_mean_2m_air_temperature', '1_mean_2m_air_temperature', '2_mean_2m_air_temperature', '3_mean_2m_air_temperature', '4_mean_2m_air_temperature','5_mean_2m_air_temperature', '6_mean_2m_air_temperature',\n",
        "    #  '7_mean_2m_air_temperature','8_mean_2m_air_temperature','9_mean_2m_air_temperature','10_mean_2m_air_temperature'\n",
        "    #  ,'11_mean_2m_air_temperature','12_mean_2m_air_temperature','13_mean_2m_air_temperature'\n",
        "     ,[\n",
        " 'era5_2010_mean_temp','era5_2011_mean_temp','era5_2012_mean_temp','era5_2013_mean_temp', 'era5_2014_mean_temp',\n",
        " 'era5_2015_mean_temp', 'era5_2016_mean_temp','era5_2017_mean_temp', 'era5_2018_mean_temp' ,'era5_2019_mean_temp'\n",
        " ,'era5_2020_mean_temp'\n",
        "#  ,'era5_2021_mean_temp','era5_2022_mean_temp' ,'era5_2023_mean_temp'\n",
        " ])\n",
        "# era5_mean_temp_mean_.getInfo()"
      ]
    },
    {
      "cell_type": "markdown",
      "metadata": {
        "id": "PkBx1DplV7b5"
      },
      "source": [
        "**Daily Min Temperature**"
      ]
    },
    {
      "cell_type": "code",
      "execution_count": null,
      "metadata": {
        "colab": {
          "base_uri": "https://localhost:8080/"
        },
        "id": "1GGB-fc5_eOT",
        "outputId": "2c7e009d-2751-4292-efcd-197131a3ebc8"
      },
      "outputs": [
        {
          "output_type": "display_data",
          "data": {
            "text/plain": [
              "<IPython.core.display.HTML object>"
            ],
            "text/html": [
              "\n",
              "            <style>\n",
              "                .geemap-dark {\n",
              "                    --jp-widgets-color: white;\n",
              "                    --jp-widgets-label-color: white;\n",
              "                    --jp-ui-font-color1: white;\n",
              "                    --jp-layout-color2: #454545;\n",
              "                    background-color: #383838;\n",
              "                }\n",
              "\n",
              "                .geemap-dark .jupyter-button {\n",
              "                    --jp-layout-color3: #383838;\n",
              "                }\n",
              "\n",
              "                .geemap-colab {\n",
              "                    background-color: var(--colab-primary-surface-color, white);\n",
              "                }\n",
              "\n",
              "                .geemap-colab .jupyter-button {\n",
              "                    --jp-layout-color3: var(--colab-primary-surface-color, white);\n",
              "                }\n",
              "            </style>\n",
              "            "
            ]
          },
          "metadata": {}
        }
      ],
      "source": [
        "# // Daily MIn Temperature\n",
        "era5_min_temp = ee.ImageCollection('ECMWF/ERA5/DAILY').select('minimum_2m_air_temperature').filter(ee.Filter.date(start, end)).filter(ee.Filter.calendarRange(4, 8,'month'))\n",
        "# era5_min_temp"
      ]
    },
    {
      "cell_type": "code",
      "execution_count": null,
      "metadata": {
        "colab": {
          "base_uri": "https://localhost:8080/"
        },
        "id": "XuOmwHZiF98-",
        "outputId": "6c182cd8-6aae-424c-b526-66c1d4d90269"
      },
      "outputs": [
        {
          "output_type": "display_data",
          "data": {
            "text/plain": [
              "<IPython.core.display.HTML object>"
            ],
            "text/html": [
              "\n",
              "            <style>\n",
              "                .geemap-dark {\n",
              "                    --jp-widgets-color: white;\n",
              "                    --jp-widgets-label-color: white;\n",
              "                    --jp-ui-font-color1: white;\n",
              "                    --jp-layout-color2: #454545;\n",
              "                    background-color: #383838;\n",
              "                }\n",
              "\n",
              "                .geemap-dark .jupyter-button {\n",
              "                    --jp-layout-color3: #383838;\n",
              "                }\n",
              "\n",
              "                .geemap-colab {\n",
              "                    background-color: var(--colab-primary-surface-color, white);\n",
              "                }\n",
              "\n",
              "                .geemap-colab .jupyter-button {\n",
              "                    --jp-layout-color3: var(--colab-primary-surface-color, white);\n",
              "                }\n",
              "            </style>\n",
              "            "
            ]
          },
          "metadata": {}
        }
      ],
      "source": [
        "# //--------------- Get the MEAN--------------------------------------\n",
        "era5_min_temp_mean = ee.ImageCollection.fromImages(years.map(lambda year: era5_min_temp.filter(ee.Filter.calendarRange(year, year, 'year')).mean().set('Year',year)))\n",
        "# era5_min_temp_mean"
      ]
    },
    {
      "cell_type": "code",
      "execution_count": null,
      "metadata": {
        "colab": {
          "base_uri": "https://localhost:8080/"
        },
        "id": "0pWNPnHXhc_b",
        "outputId": "aeba3a66-8b28-4514-94f1-878130ecaa71",
        "collapsed": true
      },
      "outputs": [
        {
          "output_type": "display_data",
          "data": {
            "text/plain": [
              "<IPython.core.display.HTML object>"
            ],
            "text/html": [
              "\n",
              "            <style>\n",
              "                .geemap-dark {\n",
              "                    --jp-widgets-color: white;\n",
              "                    --jp-widgets-label-color: white;\n",
              "                    --jp-ui-font-color1: white;\n",
              "                    --jp-layout-color2: #454545;\n",
              "                    background-color: #383838;\n",
              "                }\n",
              "\n",
              "                .geemap-dark .jupyter-button {\n",
              "                    --jp-layout-color3: #383838;\n",
              "                }\n",
              "\n",
              "                .geemap-colab {\n",
              "                    background-color: var(--colab-primary-surface-color, white);\n",
              "                }\n",
              "\n",
              "                .geemap-colab .jupyter-button {\n",
              "                    --jp-layout-color3: var(--colab-primary-surface-color, white);\n",
              "                }\n",
              "            </style>\n",
              "            "
            ]
          },
          "metadata": {}
        }
      ],
      "source": [
        "era5_min_temp_mean_=era5_min_temp_mean.toBands().select(era5_min_temp_mean.toBands().bandNames().getInfo()\n",
        "    # ['0_minimum_2m_air_temperature', '1_minimum_2m_air_temperature', '2_minimum_2m_air_temperature', '3_minimum_2m_air_temperature', '4_minimum_2m_air_temperature','5_minimum_2m_air_temperature', '6_minimum_2m_air_temperature', '7_minimum_2m_air_temperature',\n",
        "    #  '8_minimum_2m_air_temperature','9_minimum_2m_air_temperature','10_minimum_2m_air_temperature'\n",
        "    #  ,'11_minimum_2m_air_temperature','12_minimum_2m_air_temperature','13_minimum_2m_air_temperature']\n",
        "    ,[\n",
        " 'era5_2010_min_temp','era5_2011_min_temp','era5_2012_min_temp','era5_2013_min_temp', 'era5_2014_min_temp',\n",
        " 'era5_2015_min_temp','era5_2016_min_temp','era5_2017_min_temp', 'era5_2018_min_temp', 'era5_2019_min_temp','era5_2020_min_temp'\n",
        "#  ,'era5_2021_min_temp','era5_2022_min_temp' ,'era5_2023_min_temp'\n",
        " ])\n",
        "# era5_min_temp_mean_.getInfo()"
      ]
    },
    {
      "cell_type": "markdown",
      "metadata": {
        "id": "F8nIPi9NWLr6"
      },
      "source": [
        "**Daily Max Temperature**"
      ]
    },
    {
      "cell_type": "code",
      "execution_count": null,
      "metadata": {
        "colab": {
          "base_uri": "https://localhost:8080/"
        },
        "id": "_eBQmazs_d5Y",
        "outputId": "331f39ad-d495-42f3-be75-cc2c0bc00f67"
      },
      "outputs": [
        {
          "output_type": "display_data",
          "data": {
            "text/plain": [
              "<IPython.core.display.HTML object>"
            ],
            "text/html": [
              "\n",
              "            <style>\n",
              "                .geemap-dark {\n",
              "                    --jp-widgets-color: white;\n",
              "                    --jp-widgets-label-color: white;\n",
              "                    --jp-ui-font-color1: white;\n",
              "                    --jp-layout-color2: #454545;\n",
              "                    background-color: #383838;\n",
              "                }\n",
              "\n",
              "                .geemap-dark .jupyter-button {\n",
              "                    --jp-layout-color3: #383838;\n",
              "                }\n",
              "\n",
              "                .geemap-colab {\n",
              "                    background-color: var(--colab-primary-surface-color, white);\n",
              "                }\n",
              "\n",
              "                .geemap-colab .jupyter-button {\n",
              "                    --jp-layout-color3: var(--colab-primary-surface-color, white);\n",
              "                }\n",
              "            </style>\n",
              "            "
            ]
          },
          "metadata": {}
        }
      ],
      "source": [
        "# // Daily Max Temperature\n",
        "era5_max_temp = ee.ImageCollection('ECMWF/ERA5/DAILY').select('maximum_2m_air_temperature').filter(ee.Filter.date(start, end)).filter(ee.Filter.calendarRange(4, 8,'month'))\n",
        "# era5_max_temp"
      ]
    },
    {
      "cell_type": "code",
      "execution_count": null,
      "metadata": {
        "colab": {
          "base_uri": "https://localhost:8080/"
        },
        "id": "248FQ6vBF-_R",
        "outputId": "db84a349-5544-4a60-aaa4-9a12d6c5c1c7"
      },
      "outputs": [
        {
          "output_type": "display_data",
          "data": {
            "text/plain": [
              "<IPython.core.display.HTML object>"
            ],
            "text/html": [
              "\n",
              "            <style>\n",
              "                .geemap-dark {\n",
              "                    --jp-widgets-color: white;\n",
              "                    --jp-widgets-label-color: white;\n",
              "                    --jp-ui-font-color1: white;\n",
              "                    --jp-layout-color2: #454545;\n",
              "                    background-color: #383838;\n",
              "                }\n",
              "\n",
              "                .geemap-dark .jupyter-button {\n",
              "                    --jp-layout-color3: #383838;\n",
              "                }\n",
              "\n",
              "                .geemap-colab {\n",
              "                    background-color: var(--colab-primary-surface-color, white);\n",
              "                }\n",
              "\n",
              "                .geemap-colab .jupyter-button {\n",
              "                    --jp-layout-color3: var(--colab-primary-surface-color, white);\n",
              "                }\n",
              "            </style>\n",
              "            "
            ]
          },
          "metadata": {}
        }
      ],
      "source": [
        "# //--------------- Get the MEAN--------------------------------------\n",
        "era5_max_temp_mean = ee.ImageCollection.fromImages(years.map(lambda year: era5_max_temp.filter(ee.Filter.calendarRange(year, year, 'year')).mean().set('Year',year)))\n",
        "# era5_max_temp_mean"
      ]
    },
    {
      "cell_type": "code",
      "execution_count": null,
      "metadata": {
        "colab": {
          "base_uri": "https://localhost:8080/"
        },
        "id": "tgQy_tz7_dwT",
        "outputId": "93086a4b-39db-4fbe-b6e0-1a2f2588c6f0",
        "collapsed": true
      },
      "outputs": [
        {
          "output_type": "display_data",
          "data": {
            "text/plain": [
              "<IPython.core.display.HTML object>"
            ],
            "text/html": [
              "\n",
              "            <style>\n",
              "                .geemap-dark {\n",
              "                    --jp-widgets-color: white;\n",
              "                    --jp-widgets-label-color: white;\n",
              "                    --jp-ui-font-color1: white;\n",
              "                    --jp-layout-color2: #454545;\n",
              "                    background-color: #383838;\n",
              "                }\n",
              "\n",
              "                .geemap-dark .jupyter-button {\n",
              "                    --jp-layout-color3: #383838;\n",
              "                }\n",
              "\n",
              "                .geemap-colab {\n",
              "                    background-color: var(--colab-primary-surface-color, white);\n",
              "                }\n",
              "\n",
              "                .geemap-colab .jupyter-button {\n",
              "                    --jp-layout-color3: var(--colab-primary-surface-color, white);\n",
              "                }\n",
              "            </style>\n",
              "            "
            ]
          },
          "metadata": {}
        }
      ],
      "source": [
        "era5_max_temp_mean_=era5_max_temp_mean.toBands().select(era5_max_temp_mean.toBands().bandNames().getInfo()\n",
        "    #   ['0_maximum_2m_air_temperature', '1_maximum_2m_air_temperature', '2_maximum_2m_air_temperature',\n",
        "    #    '3_maximum_2m_air_temperature', '4_maximum_2m_air_temperature','5_maximum_2m_air_temperature',\n",
        "    #    '6_maximum_2m_air_temperature', '7_maximum_2m_air_temperature',\n",
        "    #  '8_maximum_2m_air_temperature','9_maximum_2m_air_temperature','10_maximum_2m_air_temperature'\n",
        "    #  ,'11_maximum_2m_air_temperature','12_maximum_2m_air_temperature','13_maximum_2m_air_temperature']\n",
        "       ,[\n",
        " 'era5_2010_max_temp','era5_2011_max_temp','era5_2012_max_temp','era5_2013_max_temp', 'era5_2014_max_temp',\n",
        " 'era5_2015_max_temp','era5_2016_max_temp','era5_2017_max_temp', 'era5_2018_max_temp',\n",
        " 'era5_2019_max_temp','era5_2020_max_temp'\n",
        "#  ,'era5_2021_max_temp' ,'era5_2022_max_temp' ,'era5_2023_max_temp'\n",
        " ])\n",
        "# era5_max_temp_mean_.getInfo()"
      ]
    },
    {
      "cell_type": "markdown",
      "metadata": {
        "id": "aSZqTBCHWaEn"
      },
      "source": [
        "**Monthly Max Temperature**\n"
      ]
    },
    {
      "cell_type": "code",
      "execution_count": null,
      "metadata": {
        "colab": {
          "base_uri": "https://localhost:8080/"
        },
        "id": "bWgfoi3oWmaU",
        "outputId": "4a9b7b60-3a62-42d4-cd17-54b4fdda5339"
      },
      "outputs": [
        {
          "output_type": "display_data",
          "data": {
            "text/plain": [
              "<IPython.core.display.HTML object>"
            ],
            "text/html": [
              "\n",
              "            <style>\n",
              "                .geemap-dark {\n",
              "                    --jp-widgets-color: white;\n",
              "                    --jp-widgets-label-color: white;\n",
              "                    --jp-ui-font-color1: white;\n",
              "                    --jp-layout-color2: #454545;\n",
              "                    background-color: #383838;\n",
              "                }\n",
              "\n",
              "                .geemap-dark .jupyter-button {\n",
              "                    --jp-layout-color3: #383838;\n",
              "                }\n",
              "\n",
              "                .geemap-colab {\n",
              "                    background-color: var(--colab-primary-surface-color, white);\n",
              "                }\n",
              "\n",
              "                .geemap-colab .jupyter-button {\n",
              "                    --jp-layout-color3: var(--colab-primary-surface-color, white);\n",
              "                }\n",
              "            </style>\n",
              "            "
            ]
          },
          "metadata": {}
        }
      ],
      "source": [
        "era5m_temp = ee.ImageCollection(\"ECMWF/ERA5/MONTHLY\").select('mean_2m_air_temperature').filter(ee.Filter.date(start, end)).filter(ee.Filter.calendarRange(4, 8,'month'))\n",
        "# era_mmd = era5_monthly.median().clip(AOI)\n",
        "# Map.addLayer(era_mmd,visMtp,'ERA5 Montly Prec')\n",
        "# era5m_temp"
      ]
    },
    {
      "cell_type": "code",
      "execution_count": null,
      "metadata": {
        "colab": {
          "base_uri": "https://localhost:8080/"
        },
        "id": "l9HOu1KgWmaU",
        "outputId": "f0086ef9-5089-4ebb-ad78-b548a3d01327"
      },
      "outputs": [
        {
          "output_type": "display_data",
          "data": {
            "text/plain": [
              "<IPython.core.display.HTML object>"
            ],
            "text/html": [
              "\n",
              "            <style>\n",
              "                .geemap-dark {\n",
              "                    --jp-widgets-color: white;\n",
              "                    --jp-widgets-label-color: white;\n",
              "                    --jp-ui-font-color1: white;\n",
              "                    --jp-layout-color2: #454545;\n",
              "                    background-color: #383838;\n",
              "                }\n",
              "\n",
              "                .geemap-dark .jupyter-button {\n",
              "                    --jp-layout-color3: #383838;\n",
              "                }\n",
              "\n",
              "                .geemap-colab {\n",
              "                    background-color: var(--colab-primary-surface-color, white);\n",
              "                }\n",
              "\n",
              "                .geemap-colab .jupyter-button {\n",
              "                    --jp-layout-color3: var(--colab-primary-surface-color, white);\n",
              "                }\n",
              "            </style>\n",
              "            "
            ]
          },
          "metadata": {}
        }
      ],
      "source": [
        "# */\n",
        "# //--------------- Get the MEAN--------------------------------------\n",
        "era5m_temp_mean = ee.ImageCollection.fromImages(years.map(lambda year: era5m_temp.filter(ee.Filter.calendarRange(year, year, 'year')).mean()))\n",
        "# .rename(['blue','green','red','nir','swir1'])))\n",
        "# era5m_temp_mean"
      ]
    },
    {
      "cell_type": "code",
      "execution_count": null,
      "metadata": {
        "colab": {
          "base_uri": "https://localhost:8080/"
        },
        "id": "CHA4d-MeWmaV",
        "outputId": "d57c8cfb-deb2-47a9-9a1f-94fa57a01c2c",
        "collapsed": true
      },
      "outputs": [
        {
          "output_type": "display_data",
          "data": {
            "text/plain": [
              "<IPython.core.display.HTML object>"
            ],
            "text/html": [
              "\n",
              "            <style>\n",
              "                .geemap-dark {\n",
              "                    --jp-widgets-color: white;\n",
              "                    --jp-widgets-label-color: white;\n",
              "                    --jp-ui-font-color1: white;\n",
              "                    --jp-layout-color2: #454545;\n",
              "                    background-color: #383838;\n",
              "                }\n",
              "\n",
              "                .geemap-dark .jupyter-button {\n",
              "                    --jp-layout-color3: #383838;\n",
              "                }\n",
              "\n",
              "                .geemap-colab {\n",
              "                    background-color: var(--colab-primary-surface-color, white);\n",
              "                }\n",
              "\n",
              "                .geemap-colab .jupyter-button {\n",
              "                    --jp-layout-color3: var(--colab-primary-surface-color, white);\n",
              "                }\n",
              "            </style>\n",
              "            "
            ]
          },
          "metadata": {}
        }
      ],
      "source": [
        "# era5m_temp_mean.toBands().bandNames().getInfo()"
      ]
    },
    {
      "cell_type": "code",
      "execution_count": null,
      "metadata": {
        "colab": {
          "base_uri": "https://localhost:8080/"
        },
        "id": "ZKBTs7OSXMO_",
        "outputId": "767c6fb1-096a-4e00-c01e-689939f8958d",
        "collapsed": true
      },
      "outputs": [
        {
          "output_type": "display_data",
          "data": {
            "text/plain": [
              "<IPython.core.display.HTML object>"
            ],
            "text/html": [
              "\n",
              "            <style>\n",
              "                .geemap-dark {\n",
              "                    --jp-widgets-color: white;\n",
              "                    --jp-widgets-label-color: white;\n",
              "                    --jp-ui-font-color1: white;\n",
              "                    --jp-layout-color2: #454545;\n",
              "                    background-color: #383838;\n",
              "                }\n",
              "\n",
              "                .geemap-dark .jupyter-button {\n",
              "                    --jp-layout-color3: #383838;\n",
              "                }\n",
              "\n",
              "                .geemap-colab {\n",
              "                    background-color: var(--colab-primary-surface-color, white);\n",
              "                }\n",
              "\n",
              "                .geemap-colab .jupyter-button {\n",
              "                    --jp-layout-color3: var(--colab-primary-surface-color, white);\n",
              "                }\n",
              "            </style>\n",
              "            "
            ]
          },
          "metadata": {}
        }
      ],
      "source": [
        "era5m_temp_mean_=era5m_temp_mean.toBands().select(era5m_temp_mean.toBands().bandNames().getInfo()\n",
        "    # ['0_mean_2m_air_temperature', '1_mean_2m_air_temperature', '2_mean_2m_air_temperature', '3_mean_2m_air_temperature', '4_mean_2m_air_temperature','5_mean_2m_air_temperature', '6_mean_2m_air_temperature',\n",
        "    #  '7_mean_2m_air_temperature','8_mean_2m_air_temperature','9_mean_2m_air_temperature','10_mean_2m_air_temperature'\n",
        "    #  ,'11_mean_2m_air_temperature','12_mean_2m_air_temperature','13_mean_2m_air_temperature'\n",
        "     ,[\n",
        " 'era5m_2010_mean_temp','era5m_2011_mean_temp','era5m_2012_mean_temp','era5m_2013_mean_temp', 'era5m_2014_mean_temp',\n",
        " 'era5m_2015_mean_temp', 'era5m_2016_mean_temp','era5m_2017_mean_temp', 'era5m_2018_mean_temp' ,'era5m_2019_mean_temp'\n",
        " ,'era5m_2020_mean_temp'\n",
        "#  ,'era5m_2021_mean_temp','era5m_2022_mean_temp' ,'era5m_2023_mean_temp'\n",
        " ])\n",
        "# era5m_temp_mean_.getInfo()"
      ]
    },
    {
      "cell_type": "markdown",
      "metadata": {
        "id": "cYCElEF7X0KM"
      },
      "source": [
        "**Monthly MIn Temperature**"
      ]
    },
    {
      "cell_type": "code",
      "execution_count": null,
      "metadata": {
        "colab": {
          "base_uri": "https://localhost:8080/"
        },
        "id": "XHXzv-7dXxgT",
        "outputId": "0a4309a4-84f9-4a45-f59e-15e29fbd754f"
      },
      "outputs": [
        {
          "output_type": "display_data",
          "data": {
            "text/plain": [
              "<IPython.core.display.HTML object>"
            ],
            "text/html": [
              "\n",
              "            <style>\n",
              "                .geemap-dark {\n",
              "                    --jp-widgets-color: white;\n",
              "                    --jp-widgets-label-color: white;\n",
              "                    --jp-ui-font-color1: white;\n",
              "                    --jp-layout-color2: #454545;\n",
              "                    background-color: #383838;\n",
              "                }\n",
              "\n",
              "                .geemap-dark .jupyter-button {\n",
              "                    --jp-layout-color3: #383838;\n",
              "                }\n",
              "\n",
              "                .geemap-colab {\n",
              "                    background-color: var(--colab-primary-surface-color, white);\n",
              "                }\n",
              "\n",
              "                .geemap-colab .jupyter-button {\n",
              "                    --jp-layout-color3: var(--colab-primary-surface-color, white);\n",
              "                }\n",
              "            </style>\n",
              "            "
            ]
          },
          "metadata": {}
        }
      ],
      "source": [
        "# // Monthly MIn Temperature\n",
        "era5m_min_temp = ee.ImageCollection('ECMWF/ERA5/MONTHLY').select('minimum_2m_air_temperature').filter(ee.Filter.date(start, end)).filter(ee.Filter.calendarRange(4, 8,'month'))\n",
        "# era5m_min_temp"
      ]
    },
    {
      "cell_type": "code",
      "execution_count": null,
      "metadata": {
        "colab": {
          "base_uri": "https://localhost:8080/"
        },
        "id": "tJuxhS5VXxgT",
        "outputId": "68a44760-0ac7-4b85-d1ba-a61907e220d1"
      },
      "outputs": [
        {
          "output_type": "display_data",
          "data": {
            "text/plain": [
              "<IPython.core.display.HTML object>"
            ],
            "text/html": [
              "\n",
              "            <style>\n",
              "                .geemap-dark {\n",
              "                    --jp-widgets-color: white;\n",
              "                    --jp-widgets-label-color: white;\n",
              "                    --jp-ui-font-color1: white;\n",
              "                    --jp-layout-color2: #454545;\n",
              "                    background-color: #383838;\n",
              "                }\n",
              "\n",
              "                .geemap-dark .jupyter-button {\n",
              "                    --jp-layout-color3: #383838;\n",
              "                }\n",
              "\n",
              "                .geemap-colab {\n",
              "                    background-color: var(--colab-primary-surface-color, white);\n",
              "                }\n",
              "\n",
              "                .geemap-colab .jupyter-button {\n",
              "                    --jp-layout-color3: var(--colab-primary-surface-color, white);\n",
              "                }\n",
              "            </style>\n",
              "            "
            ]
          },
          "metadata": {}
        }
      ],
      "source": [
        "# //--------------- Get the MEAN--------------------------------------\n",
        "era5m_min_temp_mean = ee.ImageCollection.fromImages(years.map(lambda year: era5m_min_temp.filter(ee.Filter.calendarRange(year, year, 'year')).mean().set('Year',year)))\n",
        "# era5m_min_temp_mean"
      ]
    },
    {
      "cell_type": "code",
      "execution_count": null,
      "metadata": {
        "colab": {
          "base_uri": "https://localhost:8080/"
        },
        "id": "vRXqwz97XxgT",
        "outputId": "bbba161c-d3e1-4be7-e87f-d784955cc27f",
        "collapsed": true
      },
      "outputs": [
        {
          "output_type": "display_data",
          "data": {
            "text/plain": [
              "<IPython.core.display.HTML object>"
            ],
            "text/html": [
              "\n",
              "            <style>\n",
              "                .geemap-dark {\n",
              "                    --jp-widgets-color: white;\n",
              "                    --jp-widgets-label-color: white;\n",
              "                    --jp-ui-font-color1: white;\n",
              "                    --jp-layout-color2: #454545;\n",
              "                    background-color: #383838;\n",
              "                }\n",
              "\n",
              "                .geemap-dark .jupyter-button {\n",
              "                    --jp-layout-color3: #383838;\n",
              "                }\n",
              "\n",
              "                .geemap-colab {\n",
              "                    background-color: var(--colab-primary-surface-color, white);\n",
              "                }\n",
              "\n",
              "                .geemap-colab .jupyter-button {\n",
              "                    --jp-layout-color3: var(--colab-primary-surface-color, white);\n",
              "                }\n",
              "            </style>\n",
              "            "
            ]
          },
          "metadata": {}
        }
      ],
      "source": [
        "era5m_min_temp_mean_=era5m_min_temp_mean.toBands().select(era5m_min_temp_mean.toBands().bandNames().getInfo()\n",
        "    # ['0_minimum_2m_air_temperature', '1_minimum_2m_air_temperature', '2_minimum_2m_air_temperature', '3_minimum_2m_air_temperature', '4_minimum_2m_air_temperature','5_minimum_2m_air_temperature', '6_minimum_2m_air_temperature', '7_minimum_2m_air_temperature',\n",
        "    #  '8_minimum_2m_air_temperature','9_minimum_2m_air_temperature','10_minimum_2m_air_temperature'\n",
        "    #  ,'11_minimum_2m_air_temperature','12_minimum_2m_air_temperature','13_minimum_2m_air_temperature']\n",
        "    ,[\n",
        " 'era5m_2010_min_temp','era5m_2011_min_temp','era5m_2012_min_temp','era5m_2013_min_temp', 'era5m_2014_min_temp',\n",
        " 'era5m_2015_min_temp','era5m_2016_min_temp','era5m_2017_min_temp', 'era5m_2018_min_temp', 'era5m_2019_min_temp','era5m_2020_min_temp'\n",
        "#  ,'era5m_2021_min_temp','era5m_2022_min_temp' ,'era5m_2023_min_temp'\n",
        " ])\n",
        "# era5m_min_temp_mean_.getInfo()"
      ]
    },
    {
      "cell_type": "markdown",
      "metadata": {
        "id": "PQskeqY9YapA"
      },
      "source": [
        "**Monthly Max Temperature**"
      ]
    },
    {
      "cell_type": "code",
      "execution_count": null,
      "metadata": {
        "colab": {
          "base_uri": "https://localhost:8080/"
        },
        "id": "s7oROanyYYiG",
        "outputId": "5118da57-3b38-433b-b54f-3d95bd0ea274"
      },
      "outputs": [
        {
          "output_type": "display_data",
          "data": {
            "text/plain": [
              "<IPython.core.display.HTML object>"
            ],
            "text/html": [
              "\n",
              "            <style>\n",
              "                .geemap-dark {\n",
              "                    --jp-widgets-color: white;\n",
              "                    --jp-widgets-label-color: white;\n",
              "                    --jp-ui-font-color1: white;\n",
              "                    --jp-layout-color2: #454545;\n",
              "                    background-color: #383838;\n",
              "                }\n",
              "\n",
              "                .geemap-dark .jupyter-button {\n",
              "                    --jp-layout-color3: #383838;\n",
              "                }\n",
              "\n",
              "                .geemap-colab {\n",
              "                    background-color: var(--colab-primary-surface-color, white);\n",
              "                }\n",
              "\n",
              "                .geemap-colab .jupyter-button {\n",
              "                    --jp-layout-color3: var(--colab-primary-surface-color, white);\n",
              "                }\n",
              "            </style>\n",
              "            "
            ]
          },
          "metadata": {}
        }
      ],
      "source": [
        "# // Daily Max Temperature\n",
        "era5m_max_temp = ee.ImageCollection('ECMWF/ERA5/MONTHLY').select('maximum_2m_air_temperature').filter(ee.Filter.date(start, end)).filter(ee.Filter.calendarRange(4, 8,'month'))\n",
        "# era5m_max_temp"
      ]
    },
    {
      "cell_type": "code",
      "execution_count": null,
      "metadata": {
        "colab": {
          "base_uri": "https://localhost:8080/"
        },
        "id": "OpFBn3KSYYiH",
        "outputId": "1052dde9-e4d6-4314-cde7-c4ce64d01db3"
      },
      "outputs": [
        {
          "output_type": "display_data",
          "data": {
            "text/plain": [
              "<IPython.core.display.HTML object>"
            ],
            "text/html": [
              "\n",
              "            <style>\n",
              "                .geemap-dark {\n",
              "                    --jp-widgets-color: white;\n",
              "                    --jp-widgets-label-color: white;\n",
              "                    --jp-ui-font-color1: white;\n",
              "                    --jp-layout-color2: #454545;\n",
              "                    background-color: #383838;\n",
              "                }\n",
              "\n",
              "                .geemap-dark .jupyter-button {\n",
              "                    --jp-layout-color3: #383838;\n",
              "                }\n",
              "\n",
              "                .geemap-colab {\n",
              "                    background-color: var(--colab-primary-surface-color, white);\n",
              "                }\n",
              "\n",
              "                .geemap-colab .jupyter-button {\n",
              "                    --jp-layout-color3: var(--colab-primary-surface-color, white);\n",
              "                }\n",
              "            </style>\n",
              "            "
            ]
          },
          "metadata": {}
        }
      ],
      "source": [
        "# */\n",
        "# //--------------- Get the MEAN--------------------------------------\n",
        "era5m_max_temp_mean = ee.ImageCollection.fromImages(years.map(lambda year: era5m_max_temp.filter(ee.Filter.calendarRange(year, year, 'year')).mean().set('Year',year)))\n",
        "# era5m_max_temp_mean"
      ]
    },
    {
      "cell_type": "code",
      "execution_count": null,
      "metadata": {
        "colab": {
          "base_uri": "https://localhost:8080/"
        },
        "id": "AnavYqQlYYiH",
        "outputId": "1d91ad90-9c08-4f70-e305-ea931b26129e",
        "collapsed": true
      },
      "outputs": [
        {
          "output_type": "display_data",
          "data": {
            "text/plain": [
              "<IPython.core.display.HTML object>"
            ],
            "text/html": [
              "\n",
              "            <style>\n",
              "                .geemap-dark {\n",
              "                    --jp-widgets-color: white;\n",
              "                    --jp-widgets-label-color: white;\n",
              "                    --jp-ui-font-color1: white;\n",
              "                    --jp-layout-color2: #454545;\n",
              "                    background-color: #383838;\n",
              "                }\n",
              "\n",
              "                .geemap-dark .jupyter-button {\n",
              "                    --jp-layout-color3: #383838;\n",
              "                }\n",
              "\n",
              "                .geemap-colab {\n",
              "                    background-color: var(--colab-primary-surface-color, white);\n",
              "                }\n",
              "\n",
              "                .geemap-colab .jupyter-button {\n",
              "                    --jp-layout-color3: var(--colab-primary-surface-color, white);\n",
              "                }\n",
              "            </style>\n",
              "            "
            ]
          },
          "metadata": {}
        }
      ],
      "source": [
        "era5m_max_temp_mean_=era5m_max_temp_mean.toBands().select(era5m_max_temp_mean.toBands().bandNames().getInfo()\n",
        "    #   ['0_maximum_2m_air_temperature', '1_maximum_2m_air_temperature', '2_maximum_2m_air_temperature',\n",
        "    #    '3_maximum_2m_air_temperature', '4_maximum_2m_air_temperature','5_maximum_2m_air_temperature',\n",
        "    #    '6_maximum_2m_air_temperature', '7_maximum_2m_air_temperature',\n",
        "    #  '8_maximum_2m_air_temperature','9_maximum_2m_air_temperature','10_maximum_2m_air_temperature'\n",
        "    #  ,'11_maximum_2m_air_temperature','12_maximum_2m_air_temperature','13_maximum_2m_air_temperature']\n",
        "       ,[\n",
        " 'era5m_2010_max_temp','era5m_2011_max_temp','era5m_2012_max_temp','era5m_2013_max_temp', 'era5m_2014_max_temp',\n",
        " 'era5m_2015_max_temp','era5m_2016_max_temp','era5m_2017_max_temp', 'era5m_2018_max_temp',\n",
        " 'era5m_2019_max_temp','era5m_2020_max_temp'\n",
        "#  ,'era5m_2021_max_temp' ,'era5m_2022_max_temp' ,'era5m_2023_max_temp'\n",
        " ])\n",
        "# era5m_max_temp_mean_.getInfo()"
      ]
    },
    {
      "cell_type": "markdown",
      "metadata": {
        "id": "M6Qg2NI8VIp8"
      },
      "source": [
        "# ERA 5 Wind"
      ]
    },
    {
      "cell_type": "code",
      "execution_count": null,
      "metadata": {
        "colab": {
          "base_uri": "https://localhost:8080/"
        },
        "id": "Qnn4x1c9A0MH",
        "outputId": "dacb2b1d-46e7-4faf-88dc-e078e3c34004"
      },
      "outputs": [
        {
          "output_type": "display_data",
          "data": {
            "text/plain": [
              "<IPython.core.display.HTML object>"
            ],
            "text/html": [
              "\n",
              "            <style>\n",
              "                .geemap-dark {\n",
              "                    --jp-widgets-color: white;\n",
              "                    --jp-widgets-label-color: white;\n",
              "                    --jp-ui-font-color1: white;\n",
              "                    --jp-layout-color2: #454545;\n",
              "                    background-color: #383838;\n",
              "                }\n",
              "\n",
              "                .geemap-dark .jupyter-button {\n",
              "                    --jp-layout-color3: #383838;\n",
              "                }\n",
              "\n",
              "                .geemap-colab {\n",
              "                    background-color: var(--colab-primary-surface-color, white);\n",
              "                }\n",
              "\n",
              "                .geemap-colab .jupyter-button {\n",
              "                    --jp-layout-color3: var(--colab-primary-surface-color, white);\n",
              "                }\n",
              "            </style>\n",
              "            "
            ]
          },
          "metadata": {}
        }
      ],
      "source": [
        "# // Daily mean 10m u-component of wind\n",
        "era5_u_wind_10m = ee.ImageCollection('ECMWF/ERA5/DAILY').select('u_component_of_wind_10m').filter(ee.Filter.date(start, end)).filter(ee.Filter.calendarRange(4, 8,'month'))\n",
        "# era5_u_wind_10m"
      ]
    },
    {
      "cell_type": "code",
      "execution_count": null,
      "metadata": {
        "colab": {
          "base_uri": "https://localhost:8080/"
        },
        "id": "DPUTu3u3qSpa",
        "outputId": "11401ffb-ef65-4bab-f2bd-ef3bf93b2e64"
      },
      "outputs": [
        {
          "output_type": "display_data",
          "data": {
            "text/plain": [
              "<IPython.core.display.HTML object>"
            ],
            "text/html": [
              "\n",
              "            <style>\n",
              "                .geemap-dark {\n",
              "                    --jp-widgets-color: white;\n",
              "                    --jp-widgets-label-color: white;\n",
              "                    --jp-ui-font-color1: white;\n",
              "                    --jp-layout-color2: #454545;\n",
              "                    background-color: #383838;\n",
              "                }\n",
              "\n",
              "                .geemap-dark .jupyter-button {\n",
              "                    --jp-layout-color3: #383838;\n",
              "                }\n",
              "\n",
              "                .geemap-colab {\n",
              "                    background-color: var(--colab-primary-surface-color, white);\n",
              "                }\n",
              "\n",
              "                .geemap-colab .jupyter-button {\n",
              "                    --jp-layout-color3: var(--colab-primary-surface-color, white);\n",
              "                }\n",
              "            </style>\n",
              "            "
            ]
          },
          "metadata": {}
        }
      ],
      "source": [
        "# //--------------- Get the MEAN--------------------------------------\n",
        "era5_u_wind_10m_mean = ee.ImageCollection.fromImages(years.map(lambda year: era5_u_wind_10m.filter(ee.Filter.calendarRange(year, year, 'year')).mean()))\n",
        "# .rename(['blue','green','red','nir','swir1'])))\n",
        "# era5_u_wind_10m_mean"
      ]
    },
    {
      "cell_type": "code",
      "execution_count": null,
      "metadata": {
        "colab": {
          "base_uri": "https://localhost:8080/"
        },
        "id": "Ew-GKRsrw3V6",
        "outputId": "12c484c4-7be3-4691-9c3e-fc3a9f86bfef",
        "collapsed": true
      },
      "outputs": [
        {
          "output_type": "display_data",
          "data": {
            "text/plain": [
              "<IPython.core.display.HTML object>"
            ],
            "text/html": [
              "\n",
              "            <style>\n",
              "                .geemap-dark {\n",
              "                    --jp-widgets-color: white;\n",
              "                    --jp-widgets-label-color: white;\n",
              "                    --jp-ui-font-color1: white;\n",
              "                    --jp-layout-color2: #454545;\n",
              "                    background-color: #383838;\n",
              "                }\n",
              "\n",
              "                .geemap-dark .jupyter-button {\n",
              "                    --jp-layout-color3: #383838;\n",
              "                }\n",
              "\n",
              "                .geemap-colab {\n",
              "                    background-color: var(--colab-primary-surface-color, white);\n",
              "                }\n",
              "\n",
              "                .geemap-colab .jupyter-button {\n",
              "                    --jp-layout-color3: var(--colab-primary-surface-color, white);\n",
              "                }\n",
              "            </style>\n",
              "            "
            ]
          },
          "metadata": {}
        }
      ],
      "source": [
        "# era5_u_wind_10m_mean.toBands().bandNames().getInfo()"
      ]
    },
    {
      "cell_type": "code",
      "execution_count": null,
      "metadata": {
        "colab": {
          "base_uri": "https://localhost:8080/"
        },
        "id": "sR9FZerKw3WH",
        "outputId": "74ea93bc-9624-4771-c467-0248406d1dbf",
        "collapsed": true
      },
      "outputs": [
        {
          "output_type": "display_data",
          "data": {
            "text/plain": [
              "<IPython.core.display.HTML object>"
            ],
            "text/html": [
              "\n",
              "            <style>\n",
              "                .geemap-dark {\n",
              "                    --jp-widgets-color: white;\n",
              "                    --jp-widgets-label-color: white;\n",
              "                    --jp-ui-font-color1: white;\n",
              "                    --jp-layout-color2: #454545;\n",
              "                    background-color: #383838;\n",
              "                }\n",
              "\n",
              "                .geemap-dark .jupyter-button {\n",
              "                    --jp-layout-color3: #383838;\n",
              "                }\n",
              "\n",
              "                .geemap-colab {\n",
              "                    background-color: var(--colab-primary-surface-color, white);\n",
              "                }\n",
              "\n",
              "                .geemap-colab .jupyter-button {\n",
              "                    --jp-layout-color3: var(--colab-primary-surface-color, white);\n",
              "                }\n",
              "            </style>\n",
              "            "
            ]
          },
          "metadata": {}
        }
      ],
      "source": [
        "era5_u_wind_10m_mean_=era5_u_wind_10m_mean.toBands().select(era5_u_wind_10m_mean.toBands().bandNames().getInfo()\n",
        "    # ['0_u_component_of_wind_10m', '1_u_component_of_wind_10m', '2_u_component_of_wind_10m'\n",
        "    # , '3_u_component_of_wind_10m', '4_u_component_of_wind_10m',\n",
        "    #  '5_u_component_of_wind_10m', '6_u_component_of_wind_10m', '7_u_component_of_wind_10m', '8_u_component_of_wind_10m'\n",
        "    # '9_u_component_of_wind_10m','10_u_component_of_wind_10m','11_u_component_of_wind_10m','12_u_component_of_wind_10m','13_u_component_of_wind_10m']\n",
        "    ,[\n",
        " 'era5_2010_u_component_of_wind_10m','era5_2011_u_component_of_wind_10m','era5_2012_u_component_of_wind_10m','era5_2013_u_component_of_wind_10m',\n",
        " 'era5_2014_u_component_of_wind_10m','era5_2015_u_component_of_wind_10m','era5_2016_u_component_of_wind_10m','era5_2017_u_component_of_wind_10m',\n",
        " 'era5_2018_u_component_of_wind_10m', 'era5_2019_u_component_of_wind_10m','era5_2020_u_component_of_wind_10m'\n",
        "#  ,'era5_2021_u_component_of_wind_10m' ,'era5_2022_u_component_of_wind_10m' ,'era5_2023_u_component_of_wind_10m'\n",
        " ])\n",
        "# era5_u_wind_10m_mean_.getInfo()"
      ]
    },
    {
      "cell_type": "markdown",
      "metadata": {
        "id": "IveUJHN0ZCjE"
      },
      "source": [
        "**Monthly mean 10m u-component of wind**"
      ]
    },
    {
      "cell_type": "code",
      "execution_count": null,
      "metadata": {
        "colab": {
          "base_uri": "https://localhost:8080/"
        },
        "id": "WI32mqauFvE5",
        "outputId": "44340bdc-64af-4934-ea76-5a373630446b"
      },
      "outputs": [
        {
          "output_type": "display_data",
          "data": {
            "text/plain": [
              "<IPython.core.display.HTML object>"
            ],
            "text/html": [
              "\n",
              "            <style>\n",
              "                .geemap-dark {\n",
              "                    --jp-widgets-color: white;\n",
              "                    --jp-widgets-label-color: white;\n",
              "                    --jp-ui-font-color1: white;\n",
              "                    --jp-layout-color2: #454545;\n",
              "                    background-color: #383838;\n",
              "                }\n",
              "\n",
              "                .geemap-dark .jupyter-button {\n",
              "                    --jp-layout-color3: #383838;\n",
              "                }\n",
              "\n",
              "                .geemap-colab {\n",
              "                    background-color: var(--colab-primary-surface-color, white);\n",
              "                }\n",
              "\n",
              "                .geemap-colab .jupyter-button {\n",
              "                    --jp-layout-color3: var(--colab-primary-surface-color, white);\n",
              "                }\n",
              "            </style>\n",
              "            "
            ]
          },
          "metadata": {}
        }
      ],
      "source": [
        "# // Monthly mean 10m u-component of wind\n",
        "era5_u_wind_10monthly = ee.ImageCollection('ECMWF/ERA5/MONTHLY').select('u_component_of_wind_10m').filter(ee.Filter.date(start, end)).filter(ee.Filter.calendarRange(4, 8,'month'))\n",
        "# era5_u_wind_10m"
      ]
    },
    {
      "cell_type": "code",
      "execution_count": null,
      "metadata": {
        "colab": {
          "base_uri": "https://localhost:8080/"
        },
        "id": "XWINEvvXFvFA",
        "outputId": "a66f86e9-58a7-414c-c943-b53cb46fd5af"
      },
      "outputs": [
        {
          "output_type": "display_data",
          "data": {
            "text/plain": [
              "<IPython.core.display.HTML object>"
            ],
            "text/html": [
              "\n",
              "            <style>\n",
              "                .geemap-dark {\n",
              "                    --jp-widgets-color: white;\n",
              "                    --jp-widgets-label-color: white;\n",
              "                    --jp-ui-font-color1: white;\n",
              "                    --jp-layout-color2: #454545;\n",
              "                    background-color: #383838;\n",
              "                }\n",
              "\n",
              "                .geemap-dark .jupyter-button {\n",
              "                    --jp-layout-color3: #383838;\n",
              "                }\n",
              "\n",
              "                .geemap-colab {\n",
              "                    background-color: var(--colab-primary-surface-color, white);\n",
              "                }\n",
              "\n",
              "                .geemap-colab .jupyter-button {\n",
              "                    --jp-layout-color3: var(--colab-primary-surface-color, white);\n",
              "                }\n",
              "            </style>\n",
              "            "
            ]
          },
          "metadata": {}
        }
      ],
      "source": [
        "# //--------------- Get the MEAN--------------------------------------\n",
        "era5_u_wind_10monthly_mean = ee.ImageCollection.fromImages(years.map(lambda year: era5_u_wind_10monthly.filter(ee.Filter.calendarRange(year, year, 'year')).mean()))\n",
        "\n",
        "# era5_u_wind_10monthly_mean"
      ]
    },
    {
      "cell_type": "code",
      "execution_count": null,
      "metadata": {
        "colab": {
          "base_uri": "https://localhost:8080/"
        },
        "id": "K7KvpG1lFvFA",
        "outputId": "dd9f5930-c7d2-45ef-9963-b8cf63af8658"
      },
      "outputs": [
        {
          "output_type": "display_data",
          "data": {
            "text/plain": [
              "<IPython.core.display.HTML object>"
            ],
            "text/html": [
              "\n",
              "            <style>\n",
              "                .geemap-dark {\n",
              "                    --jp-widgets-color: white;\n",
              "                    --jp-widgets-label-color: white;\n",
              "                    --jp-ui-font-color1: white;\n",
              "                    --jp-layout-color2: #454545;\n",
              "                    background-color: #383838;\n",
              "                }\n",
              "\n",
              "                .geemap-dark .jupyter-button {\n",
              "                    --jp-layout-color3: #383838;\n",
              "                }\n",
              "\n",
              "                .geemap-colab {\n",
              "                    background-color: var(--colab-primary-surface-color, white);\n",
              "                }\n",
              "\n",
              "                .geemap-colab .jupyter-button {\n",
              "                    --jp-layout-color3: var(--colab-primary-surface-color, white);\n",
              "                }\n",
              "            </style>\n",
              "            "
            ]
          },
          "metadata": {}
        }
      ],
      "source": [
        "# era5_u_wind_10monthly_mean.toBands().bandNames().getInfo()"
      ]
    },
    {
      "cell_type": "code",
      "execution_count": null,
      "metadata": {
        "colab": {
          "base_uri": "https://localhost:8080/"
        },
        "id": "HC1z10LxFvFA",
        "outputId": "31023613-9456-4e53-ac84-c8e0da831454"
      },
      "outputs": [
        {
          "output_type": "display_data",
          "data": {
            "text/plain": [
              "<IPython.core.display.HTML object>"
            ],
            "text/html": [
              "\n",
              "            <style>\n",
              "                .geemap-dark {\n",
              "                    --jp-widgets-color: white;\n",
              "                    --jp-widgets-label-color: white;\n",
              "                    --jp-ui-font-color1: white;\n",
              "                    --jp-layout-color2: #454545;\n",
              "                    background-color: #383838;\n",
              "                }\n",
              "\n",
              "                .geemap-dark .jupyter-button {\n",
              "                    --jp-layout-color3: #383838;\n",
              "                }\n",
              "\n",
              "                .geemap-colab {\n",
              "                    background-color: var(--colab-primary-surface-color, white);\n",
              "                }\n",
              "\n",
              "                .geemap-colab .jupyter-button {\n",
              "                    --jp-layout-color3: var(--colab-primary-surface-color, white);\n",
              "                }\n",
              "            </style>\n",
              "            "
            ]
          },
          "metadata": {}
        }
      ],
      "source": [
        "era5_u_wind_10monthly_mean_=era5_u_wind_10monthly_mean.toBands().select(era5_u_wind_10monthly_mean.toBands().bandNames().getInfo()\n",
        "  #   ['0_u_component_of_wind_10m', '1_u_component_of_wind_10m', '2_u_component_of_wind_10m'\n",
        "  #   , '3_u_component_of_wind_10m', '4_u_component_of_wind_10m',\n",
        "  #    '5_u_component_of_wind_10m', '6_u_component_of_wind_10m', '7_u_component_of_wind_10m', '8_u_component_of_wind_10m'\n",
        "  #  , '9_u_component_of_wind_10m','10_u_component_of_wind_10m'\n",
        "    #  ,'11_u_component_of_wind_10m','12_u_component_of_wind_10m','13_u_component_of_wind_10m']\n",
        "     ,[\n",
        "'era5m_2010_u_component_of_wind_10m','era5m_2011_u_component_of_wind_10m','era5m_2012_u_component_of_wind_10m','era5m_2013_u_component_of_wind_10m',\n",
        " 'era5m_2014_u_component_of_wind_10m','era5m_2015_u_component_of_wind_10m','era5m_2016_u_component_of_wind_10m','era5m_2017_u_component_of_wind_10m', 'era5m_2018_u_component_of_wind_10m'\n",
        " ,'era5m_2019_u_component_of_wind_10m','era5m_2020_u_component_of_wind_10m'\n",
        "#  ,'era5m_2021_u_component_of_wind_10m'  ,'era5m_2022_u_component_of_wind_10m' ,'era5m_2023_u_component_of_wind_10m'\n",
        " ])\n",
        "# era5_u_wind_10monthly_mean_.getInfo()"
      ]
    },
    {
      "cell_type": "markdown",
      "metadata": {
        "id": "wL_s6Xx5VSFz"
      },
      "source": [
        "# CHIRPS Rainfall"
      ]
    },
    {
      "cell_type": "code",
      "execution_count": null,
      "metadata": {
        "colab": {
          "base_uri": "https://localhost:8080/"
        },
        "id": "fELbb8gSPB-g",
        "outputId": "7961f310-9ec0-42ac-b3c8-ffa55ee757a5"
      },
      "outputs": [
        {
          "output_type": "display_data",
          "data": {
            "text/plain": [
              "<IPython.core.display.HTML object>"
            ],
            "text/html": [
              "\n",
              "            <style>\n",
              "                .geemap-dark {\n",
              "                    --jp-widgets-color: white;\n",
              "                    --jp-widgets-label-color: white;\n",
              "                    --jp-ui-font-color1: white;\n",
              "                    --jp-layout-color2: #454545;\n",
              "                    background-color: #383838;\n",
              "                }\n",
              "\n",
              "                .geemap-dark .jupyter-button {\n",
              "                    --jp-layout-color3: #383838;\n",
              "                }\n",
              "\n",
              "                .geemap-colab {\n",
              "                    background-color: var(--colab-primary-surface-color, white);\n",
              "                }\n",
              "\n",
              "                .geemap-colab .jupyter-button {\n",
              "                    --jp-layout-color3: var(--colab-primary-surface-color, white);\n",
              "                }\n",
              "            </style>\n",
              "            "
            ]
          },
          "metadata": {}
        }
      ],
      "source": [
        "chirps_d = ee.ImageCollection('UCSB-CHG/CHIRPS/DAILY').select('precipitation')\\\n",
        "                    .filter(ee.Filter.date(start, end))\\\n",
        "                    .filter(ee.Filter.calendarRange(4, 8,'month'))\n",
        "# chirps_dm = chirps_d.median().clip(AOI)\n",
        "# Map.addLayer(chirps_dm,visChirps,'CHIRPS Daily Prec')\n",
        "# chirps_d"
      ]
    },
    {
      "cell_type": "code",
      "execution_count": null,
      "metadata": {
        "colab": {
          "base_uri": "https://localhost:8080/"
        },
        "id": "dAado6J0qoCK",
        "outputId": "0fefb3a3-28ef-4033-d175-924e3200bc5a"
      },
      "outputs": [
        {
          "output_type": "display_data",
          "data": {
            "text/plain": [
              "<IPython.core.display.HTML object>"
            ],
            "text/html": [
              "\n",
              "            <style>\n",
              "                .geemap-dark {\n",
              "                    --jp-widgets-color: white;\n",
              "                    --jp-widgets-label-color: white;\n",
              "                    --jp-ui-font-color1: white;\n",
              "                    --jp-layout-color2: #454545;\n",
              "                    background-color: #383838;\n",
              "                }\n",
              "\n",
              "                .geemap-dark .jupyter-button {\n",
              "                    --jp-layout-color3: #383838;\n",
              "                }\n",
              "\n",
              "                .geemap-colab {\n",
              "                    background-color: var(--colab-primary-surface-color, white);\n",
              "                }\n",
              "\n",
              "                .geemap-colab .jupyter-button {\n",
              "                    --jp-layout-color3: var(--colab-primary-surface-color, white);\n",
              "                }\n",
              "            </style>\n",
              "            "
            ]
          },
          "metadata": {}
        }
      ],
      "source": [
        "# */\n",
        "# //--------------- Get the MEAN--------------------------------------\n",
        "chirps_d_mean = ee.ImageCollection.fromImages(years.map(lambda year: chirps_d.filter(ee.Filter.calendarRange(year, year, 'year')).mean()))\n",
        "# .rename(['blue','green','red','nir','swir1'])))\n",
        "# chirps_d_mean"
      ]
    },
    {
      "cell_type": "code",
      "execution_count": null,
      "metadata": {
        "colab": {
          "base_uri": "https://localhost:8080/"
        },
        "id": "7p7m6gGZzgEP",
        "outputId": "ebd7c1d5-809e-48a3-bdbd-8605417f9c85"
      },
      "outputs": [
        {
          "output_type": "display_data",
          "data": {
            "text/plain": [
              "<IPython.core.display.HTML object>"
            ],
            "text/html": [
              "\n",
              "            <style>\n",
              "                .geemap-dark {\n",
              "                    --jp-widgets-color: white;\n",
              "                    --jp-widgets-label-color: white;\n",
              "                    --jp-ui-font-color1: white;\n",
              "                    --jp-layout-color2: #454545;\n",
              "                    background-color: #383838;\n",
              "                }\n",
              "\n",
              "                .geemap-dark .jupyter-button {\n",
              "                    --jp-layout-color3: #383838;\n",
              "                }\n",
              "\n",
              "                .geemap-colab {\n",
              "                    background-color: var(--colab-primary-surface-color, white);\n",
              "                }\n",
              "\n",
              "                .geemap-colab .jupyter-button {\n",
              "                    --jp-layout-color3: var(--colab-primary-surface-color, white);\n",
              "                }\n",
              "            </style>\n",
              "            "
            ]
          },
          "metadata": {}
        }
      ],
      "source": [
        "# chirps_d_mean.toBands().bandNames().getInfo()"
      ]
    },
    {
      "cell_type": "code",
      "execution_count": null,
      "metadata": {
        "colab": {
          "base_uri": "https://localhost:8080/"
        },
        "id": "_YQoSl9GzgEa",
        "outputId": "b749f4d0-8238-49b8-8c7a-5b054f5addd7",
        "collapsed": true
      },
      "outputs": [
        {
          "output_type": "display_data",
          "data": {
            "text/plain": [
              "<IPython.core.display.HTML object>"
            ],
            "text/html": [
              "\n",
              "            <style>\n",
              "                .geemap-dark {\n",
              "                    --jp-widgets-color: white;\n",
              "                    --jp-widgets-label-color: white;\n",
              "                    --jp-ui-font-color1: white;\n",
              "                    --jp-layout-color2: #454545;\n",
              "                    background-color: #383838;\n",
              "                }\n",
              "\n",
              "                .geemap-dark .jupyter-button {\n",
              "                    --jp-layout-color3: #383838;\n",
              "                }\n",
              "\n",
              "                .geemap-colab {\n",
              "                    background-color: var(--colab-primary-surface-color, white);\n",
              "                }\n",
              "\n",
              "                .geemap-colab .jupyter-button {\n",
              "                    --jp-layout-color3: var(--colab-primary-surface-color, white);\n",
              "                }\n",
              "            </style>\n",
              "            "
            ]
          },
          "metadata": {}
        }
      ],
      "source": [
        "chirps_d_mean_=chirps_d_mean.toBands().select(chirps_d_mean.toBands().bandNames().getInfo()\n",
        "  # ['0_precipitation', '1_precipitation', '2_precipitation', '3_precipitation', '4_precipitation'\n",
        "  # , '5_precipitation', '6_precipitation',\n",
        "  #  '7_precipitation', '8_precipitation','9_precipitation','10_precipitation','11_precipitation','12_precipitation','13_precipitation']\n",
        " ,[\n",
        "  'chirps_2010_precipitation','chirps_2011_precipitation','chirps_2012_precipitation','chirps_2013_precipitation','chirps_2014_precipitation',\n",
        "  'chirps_2015_precipitation',  'chirps_2016_precipitation','chirps_2017_precipitation','chirps_2018_precipitation',\n",
        "  'chirps_2019_precipitation','chirps_2020_precipitation','chirps_2021_precipitation','chirps_2022_precipitation','chirps_2023_precipitation'\n",
        "  ])\n",
        "# chirps_d_mean_.getInfo()"
      ]
    },
    {
      "cell_type": "markdown",
      "metadata": {
        "id": "CcnASY7WceGw"
      },
      "source": [
        "**Monthly Chirps Rainfall**"
      ]
    },
    {
      "cell_type": "code",
      "execution_count": null,
      "metadata": {
        "colab": {
          "base_uri": "https://localhost:8080/"
        },
        "id": "YqYFsOoLQKbd",
        "outputId": "ab1850b1-e6bf-406e-ac66-1420bcf31dda"
      },
      "outputs": [
        {
          "output_type": "display_data",
          "data": {
            "text/plain": [
              "<IPython.core.display.HTML object>"
            ],
            "text/html": [
              "\n",
              "            <style>\n",
              "                .geemap-dark {\n",
              "                    --jp-widgets-color: white;\n",
              "                    --jp-widgets-label-color: white;\n",
              "                    --jp-ui-font-color1: white;\n",
              "                    --jp-layout-color2: #454545;\n",
              "                    background-color: #383838;\n",
              "                }\n",
              "\n",
              "                .geemap-dark .jupyter-button {\n",
              "                    --jp-layout-color3: #383838;\n",
              "                }\n",
              "\n",
              "                .geemap-colab {\n",
              "                    background-color: var(--colab-primary-surface-color, white);\n",
              "                }\n",
              "\n",
              "                .geemap-colab .jupyter-button {\n",
              "                    --jp-layout-color3: var(--colab-primary-surface-color, white);\n",
              "                }\n",
              "            </style>\n",
              "            "
            ]
          },
          "metadata": {}
        }
      ],
      "source": [
        "chirps_m = ee.ImageCollection('UCSB-CHG/CHIRPS/PENTAD').select('precipitation').filter(ee.Filter.date(start, end)).filter(ee.Filter.calendarRange(4, 8,'month'))\n",
        "# chirps_mm = chirps_d.median().clip(AOI)\n",
        "# Map.addLayer(chirps_mm,visChirps,'CHIRPS Montly Prec')\n",
        "# chirps_m"
      ]
    },
    {
      "cell_type": "code",
      "execution_count": null,
      "metadata": {
        "colab": {
          "base_uri": "https://localhost:8080/"
        },
        "id": "UseVq70fqy5N",
        "outputId": "5c49a1c1-9bdd-438f-a826-211d954bb695"
      },
      "outputs": [
        {
          "output_type": "display_data",
          "data": {
            "text/plain": [
              "<IPython.core.display.HTML object>"
            ],
            "text/html": [
              "\n",
              "            <style>\n",
              "                .geemap-dark {\n",
              "                    --jp-widgets-color: white;\n",
              "                    --jp-widgets-label-color: white;\n",
              "                    --jp-ui-font-color1: white;\n",
              "                    --jp-layout-color2: #454545;\n",
              "                    background-color: #383838;\n",
              "                }\n",
              "\n",
              "                .geemap-dark .jupyter-button {\n",
              "                    --jp-layout-color3: #383838;\n",
              "                }\n",
              "\n",
              "                .geemap-colab {\n",
              "                    background-color: var(--colab-primary-surface-color, white);\n",
              "                }\n",
              "\n",
              "                .geemap-colab .jupyter-button {\n",
              "                    --jp-layout-color3: var(--colab-primary-surface-color, white);\n",
              "                }\n",
              "            </style>\n",
              "            "
            ]
          },
          "metadata": {}
        }
      ],
      "source": [
        "# */\n",
        "# //--------------- Get the MEAN--------------------------------------\n",
        "chirps_m_mean = ee.ImageCollection.fromImages(years.map(lambda year: chirps_m.filter(ee.Filter.calendarRange(year, year, 'year')).mean()))\n",
        "# .rename(['blue','green','red','nir','swir1'])))\n",
        "# chirps_m_mean"
      ]
    },
    {
      "cell_type": "code",
      "execution_count": null,
      "metadata": {
        "colab": {
          "base_uri": "https://localhost:8080/"
        },
        "id": "56kGEYrm1Ro2",
        "outputId": "9b87c49a-f5be-4490-82b3-fd4c6182981e",
        "collapsed": true
      },
      "outputs": [
        {
          "output_type": "display_data",
          "data": {
            "text/plain": [
              "<IPython.core.display.HTML object>"
            ],
            "text/html": [
              "\n",
              "            <style>\n",
              "                .geemap-dark {\n",
              "                    --jp-widgets-color: white;\n",
              "                    --jp-widgets-label-color: white;\n",
              "                    --jp-ui-font-color1: white;\n",
              "                    --jp-layout-color2: #454545;\n",
              "                    background-color: #383838;\n",
              "                }\n",
              "\n",
              "                .geemap-dark .jupyter-button {\n",
              "                    --jp-layout-color3: #383838;\n",
              "                }\n",
              "\n",
              "                .geemap-colab {\n",
              "                    background-color: var(--colab-primary-surface-color, white);\n",
              "                }\n",
              "\n",
              "                .geemap-colab .jupyter-button {\n",
              "                    --jp-layout-color3: var(--colab-primary-surface-color, white);\n",
              "                }\n",
              "            </style>\n",
              "            "
            ]
          },
          "metadata": {}
        }
      ],
      "source": [
        "# chirps_m_mean.toBands().bandNames().getInfo()"
      ]
    },
    {
      "cell_type": "code",
      "execution_count": null,
      "metadata": {
        "colab": {
          "base_uri": "https://localhost:8080/"
        },
        "id": "C2FK6vbe1Ro3",
        "outputId": "a1d81324-0997-4f32-afa2-0f3c3886f876",
        "collapsed": true
      },
      "outputs": [
        {
          "output_type": "display_data",
          "data": {
            "text/plain": [
              "<IPython.core.display.HTML object>"
            ],
            "text/html": [
              "\n",
              "            <style>\n",
              "                .geemap-dark {\n",
              "                    --jp-widgets-color: white;\n",
              "                    --jp-widgets-label-color: white;\n",
              "                    --jp-ui-font-color1: white;\n",
              "                    --jp-layout-color2: #454545;\n",
              "                    background-color: #383838;\n",
              "                }\n",
              "\n",
              "                .geemap-dark .jupyter-button {\n",
              "                    --jp-layout-color3: #383838;\n",
              "                }\n",
              "\n",
              "                .geemap-colab {\n",
              "                    background-color: var(--colab-primary-surface-color, white);\n",
              "                }\n",
              "\n",
              "                .geemap-colab .jupyter-button {\n",
              "                    --jp-layout-color3: var(--colab-primary-surface-color, white);\n",
              "                }\n",
              "            </style>\n",
              "            "
            ]
          },
          "metadata": {}
        }
      ],
      "source": [
        "chirps_m_mean_=chirps_m_mean.toBands().select(chirps_m_mean.toBands().bandNames().getInfo()\n",
        "  # ['0_precipitation', '1_precipitation', '2_precipitation', '3_precipitation', '4_precipitation'\n",
        "  # , '5_precipitation', '6_precipitation', '7_precipitation', '8_precipitation',\n",
        "  #  '9_precipitation', '10_precipitation', '11_precipitation', '12_precipitation', '13_precipitation' ]\n",
        "   ,[\n",
        "  'chirpsm_2010_precipitation','chirpsm_2011_precipitation','chirpsm_2012_precipitation','chirpsm_2013_precipitation','chirpsm_2014_precipitation',\n",
        "  'chirpsm_2015_precipitation','chirpsm_2016_precipitation','chirpsm_2017_precipitation','chirpsm_2018_precipitation',\n",
        "  'chirpsm_2019_precipitation','chirpsm_2020_precipitation','chirpsm_2021_precipitation','chirpsm_2022_precipitation','chirpsm_2023_precipitation'\n",
        "  ])\n",
        "# chirps_m_mean_.getInfo()"
      ]
    },
    {
      "cell_type": "markdown",
      "metadata": {
        "id": "MouNmwLVbHRw"
      },
      "source": [
        "# MODIS LST"
      ]
    },
    {
      "cell_type": "code",
      "execution_count": null,
      "metadata": {
        "colab": {
          "base_uri": "https://localhost:8080/"
        },
        "id": "at1FzX-3RP0z",
        "outputId": "9ff81171-c28c-4faa-f5cb-e2e39ed361c8"
      },
      "outputs": [
        {
          "output_type": "display_data",
          "data": {
            "text/plain": [
              "<IPython.core.display.HTML object>"
            ],
            "text/html": [
              "\n",
              "            <style>\n",
              "                .geemap-dark {\n",
              "                    --jp-widgets-color: white;\n",
              "                    --jp-widgets-label-color: white;\n",
              "                    --jp-ui-font-color1: white;\n",
              "                    --jp-layout-color2: #454545;\n",
              "                    background-color: #383838;\n",
              "                }\n",
              "\n",
              "                .geemap-dark .jupyter-button {\n",
              "                    --jp-layout-color3: #383838;\n",
              "                }\n",
              "\n",
              "                .geemap-colab {\n",
              "                    background-color: var(--colab-primary-surface-color, white);\n",
              "                }\n",
              "\n",
              "                .geemap-colab .jupyter-button {\n",
              "                    --jp-layout-color3: var(--colab-primary-surface-color, white);\n",
              "                }\n",
              "            </style>\n",
              "            "
            ]
          },
          "metadata": {}
        }
      ],
      "source": [
        "start= ee.Date('2010-04-01')\n",
        "end = ee.Date('2023-08-31')\n",
        "years = ee.List.sequence(2010,2023)"
      ]
    },
    {
      "cell_type": "code",
      "execution_count": null,
      "metadata": {
        "colab": {
          "base_uri": "https://localhost:8080/"
        },
        "id": "mZ9C8WXFQPRY",
        "outputId": "7484ee0d-4005-4fca-a1af-facfe2748cad"
      },
      "outputs": [
        {
          "output_type": "display_data",
          "data": {
            "text/plain": [
              "<IPython.core.display.HTML object>"
            ],
            "text/html": [
              "\n",
              "            <style>\n",
              "                .geemap-dark {\n",
              "                    --jp-widgets-color: white;\n",
              "                    --jp-widgets-label-color: white;\n",
              "                    --jp-ui-font-color1: white;\n",
              "                    --jp-layout-color2: #454545;\n",
              "                    background-color: #383838;\n",
              "                }\n",
              "\n",
              "                .geemap-dark .jupyter-button {\n",
              "                    --jp-layout-color3: #383838;\n",
              "                }\n",
              "\n",
              "                .geemap-colab {\n",
              "                    background-color: var(--colab-primary-surface-color, white);\n",
              "                }\n",
              "\n",
              "                .geemap-colab .jupyter-button {\n",
              "                    --jp-layout-color3: var(--colab-primary-surface-color, white);\n",
              "                }\n",
              "            </style>\n",
              "            "
            ]
          },
          "metadata": {}
        }
      ],
      "source": [
        "modislst_m = ee.ImageCollection('MODIS/061/MOD11A1').select('LST_Day_1km').filter(ee.Filter.date(start, end)).filter(ee.Filter.calendarRange(4, 8,'month'))\n",
        "# modislst_m"
      ]
    },
    {
      "cell_type": "code",
      "execution_count": null,
      "metadata": {
        "colab": {
          "base_uri": "https://localhost:8080/"
        },
        "id": "VWP6XX2JQPFr",
        "outputId": "a19a70f3-fc70-4bbe-d3b5-400706b6c682"
      },
      "outputs": [
        {
          "output_type": "display_data",
          "data": {
            "text/plain": [
              "<IPython.core.display.HTML object>"
            ],
            "text/html": [
              "\n",
              "            <style>\n",
              "                .geemap-dark {\n",
              "                    --jp-widgets-color: white;\n",
              "                    --jp-widgets-label-color: white;\n",
              "                    --jp-ui-font-color1: white;\n",
              "                    --jp-layout-color2: #454545;\n",
              "                    background-color: #383838;\n",
              "                }\n",
              "\n",
              "                .geemap-dark .jupyter-button {\n",
              "                    --jp-layout-color3: #383838;\n",
              "                }\n",
              "\n",
              "                .geemap-colab {\n",
              "                    background-color: var(--colab-primary-surface-color, white);\n",
              "                }\n",
              "\n",
              "                .geemap-colab .jupyter-button {\n",
              "                    --jp-layout-color3: var(--colab-primary-surface-color, white);\n",
              "                }\n",
              "            </style>\n",
              "            "
            ]
          },
          "metadata": {}
        }
      ],
      "source": [
        "# */\n",
        "# //--------------- Get the MEAN--------------------------------------\n",
        "modislst_m_mean = ee.ImageCollection.fromImages(years.map(lambda year: modislst_m.filter(ee.Filter.calendarRange(year, year, 'year')).mean()))\n",
        "# .rename(['blue','green','red','nir','swir1'])))\n",
        "# modislst_m_mean"
      ]
    },
    {
      "cell_type": "code",
      "execution_count": null,
      "metadata": {
        "id": "jaX-3IodQO4r",
        "colab": {
          "base_uri": "https://localhost:8080/"
        },
        "outputId": "628cca44-81cd-407b-b300-d75e55475f66"
      },
      "outputs": [
        {
          "output_type": "display_data",
          "data": {
            "text/plain": [
              "<IPython.core.display.HTML object>"
            ],
            "text/html": [
              "\n",
              "            <style>\n",
              "                .geemap-dark {\n",
              "                    --jp-widgets-color: white;\n",
              "                    --jp-widgets-label-color: white;\n",
              "                    --jp-ui-font-color1: white;\n",
              "                    --jp-layout-color2: #454545;\n",
              "                    background-color: #383838;\n",
              "                }\n",
              "\n",
              "                .geemap-dark .jupyter-button {\n",
              "                    --jp-layout-color3: #383838;\n",
              "                }\n",
              "\n",
              "                .geemap-colab {\n",
              "                    background-color: var(--colab-primary-surface-color, white);\n",
              "                }\n",
              "\n",
              "                .geemap-colab .jupyter-button {\n",
              "                    --jp-layout-color3: var(--colab-primary-surface-color, white);\n",
              "                }\n",
              "            </style>\n",
              "            "
            ]
          },
          "metadata": {}
        }
      ],
      "source": [
        "# modislst_m_mean.toBands().bandNames().getInfo()"
      ]
    },
    {
      "cell_type": "code",
      "execution_count": null,
      "metadata": {
        "colab": {
          "base_uri": "https://localhost:8080/"
        },
        "id": "r1sY-E4sQZO0",
        "outputId": "190d7684-0f2b-4711-d8db-6a7dd08bfc3b"
      },
      "outputs": [
        {
          "output_type": "display_data",
          "data": {
            "text/plain": [
              "<IPython.core.display.HTML object>"
            ],
            "text/html": [
              "\n",
              "            <style>\n",
              "                .geemap-dark {\n",
              "                    --jp-widgets-color: white;\n",
              "                    --jp-widgets-label-color: white;\n",
              "                    --jp-ui-font-color1: white;\n",
              "                    --jp-layout-color2: #454545;\n",
              "                    background-color: #383838;\n",
              "                }\n",
              "\n",
              "                .geemap-dark .jupyter-button {\n",
              "                    --jp-layout-color3: #383838;\n",
              "                }\n",
              "\n",
              "                .geemap-colab {\n",
              "                    background-color: var(--colab-primary-surface-color, white);\n",
              "                }\n",
              "\n",
              "                .geemap-colab .jupyter-button {\n",
              "                    --jp-layout-color3: var(--colab-primary-surface-color, white);\n",
              "                }\n",
              "            </style>\n",
              "            "
            ]
          },
          "metadata": {}
        }
      ],
      "source": [
        "modislst_m_mean_=modislst_m_mean.toBands().select(modislst_m_mean.toBands().bandNames().getInfo()\n",
        "#   ['0_LST_Day_1km', '1_LST_Day_1km', '2_LST_Day_1km', '3_LST_Day_1km', '4_LST_Day_1km', '5_LST_Day_1km', '6_LST_Day_1km', '7_LST_Day_1km',\n",
        "#  '8_LST_Day_1km', '9_LST_Day_1km', '10_LST_Day_1km', '11_LST_Day_1km', '12_LST_Day_1km', '13_LST_Day_1km' ]\n",
        "  ,[\n",
        "  'modis_2010_lst','modis_2011_lst','modis_2012_lst','modis_2013_lst','modis_2014_lst',\n",
        "  'modis_2015_lst','modis_2016_lst','modis_2017_lst','modis_2018_lst',\n",
        "  'modis_2019_lst','modis_2020_lst','modis_2021_lst','modis_2022_lst','modis_2023_lst'])\n",
        "# modislst_m_mean_.getInfo()"
      ]
    },
    {
      "cell_type": "markdown",
      "metadata": {
        "id": "HKVOk__bbMP4"
      },
      "source": [
        "# MERGE IMGCOL"
      ]
    },
    {
      "cell_type": "code",
      "execution_count": null,
      "metadata": {
        "colab": {
          "base_uri": "https://localhost:8080/"
        },
        "id": "uT7_ebw4sRt2",
        "outputId": "224a7bd0-aead-40e6-c1c3-5c54a89029bd"
      },
      "outputs": [
        {
          "output_type": "display_data",
          "data": {
            "text/plain": [
              "<IPython.core.display.HTML object>"
            ],
            "text/html": [
              "\n",
              "            <style>\n",
              "                .geemap-dark {\n",
              "                    --jp-widgets-color: white;\n",
              "                    --jp-widgets-label-color: white;\n",
              "                    --jp-ui-font-color1: white;\n",
              "                    --jp-layout-color2: #454545;\n",
              "                    background-color: #383838;\n",
              "                }\n",
              "\n",
              "                .geemap-dark .jupyter-button {\n",
              "                    --jp-layout-color3: #383838;\n",
              "                }\n",
              "\n",
              "                .geemap-colab {\n",
              "                    background-color: var(--colab-primary-surface-color, white);\n",
              "                }\n",
              "\n",
              "                .geemap-colab .jupyter-button {\n",
              "                    --jp-layout-color3: var(--colab-primary-surface-color, white);\n",
              "                }\n",
              "            </style>\n",
              "            "
            ]
          },
          "metadata": {}
        }
      ],
      "source": [
        "imageList = [era5_tp_mean_,\n",
        "             era5_monthly_mean_,\n",
        "             era5_mean_temp_mean_,\n",
        "             era5_min_temp_mean_,\n",
        "             era5_max_temp_mean_,\n",
        "             era5m_temp_mean_,\n",
        "             era5m_min_temp_mean_,\n",
        "             era5m_max_temp_mean_,\n",
        "             era5_u_wind_10m_mean_,\n",
        "             era5_u_wind_10monthly_mean_,\n",
        "             chirps_d_mean_,chirps_m_mean_,\n",
        "             modislst_m_mean_,\n",
        "             l8_2010,l8_2011,l8_2012,l8_2013,l8_2014,l8_2015,l8_2016,l8_2017,l8_2018,l8_2019,l8_2020,l8_2021,l8_2022]\n",
        "\n",
        "# imageList = [chirps_d_mean_,chirps_m_mean_]"
      ]
    },
    {
      "cell_type": "code",
      "execution_count": null,
      "metadata": {
        "id": "HWk9m-ACrpVp",
        "colab": {
          "base_uri": "https://localhost:8080/"
        },
        "outputId": "d4d0df5c-1340-479b-c4d3-10d5541cb89e"
      },
      "outputs": [
        {
          "output_type": "display_data",
          "data": {
            "text/plain": [
              "<IPython.core.display.HTML object>"
            ],
            "text/html": [
              "\n",
              "            <style>\n",
              "                .geemap-dark {\n",
              "                    --jp-widgets-color: white;\n",
              "                    --jp-widgets-label-color: white;\n",
              "                    --jp-ui-font-color1: white;\n",
              "                    --jp-layout-color2: #454545;\n",
              "                    background-color: #383838;\n",
              "                }\n",
              "\n",
              "                .geemap-dark .jupyter-button {\n",
              "                    --jp-layout-color3: #383838;\n",
              "                }\n",
              "\n",
              "                .geemap-colab {\n",
              "                    background-color: var(--colab-primary-surface-color, white);\n",
              "                }\n",
              "\n",
              "                .geemap-colab .jupyter-button {\n",
              "                    --jp-layout-color3: var(--colab-primary-surface-color, white);\n",
              "                }\n",
              "            </style>\n",
              "            "
            ]
          },
          "metadata": {}
        }
      ],
      "source": [
        "# // Merge the list of images into an image collection\n",
        "imgcol = ee.ImageCollection.fromImages(imageList)\n"
      ]
    },
    {
      "cell_type": "code",
      "execution_count": null,
      "metadata": {
        "id": "KKY0Vmpf2Tjq",
        "colab": {
          "base_uri": "https://localhost:8080/"
        },
        "outputId": "930d879c-b02c-4800-9e3b-8ecaf88b989f"
      },
      "outputs": [
        {
          "output_type": "display_data",
          "data": {
            "text/plain": [
              "<IPython.core.display.HTML object>"
            ],
            "text/html": [
              "\n",
              "            <style>\n",
              "                .geemap-dark {\n",
              "                    --jp-widgets-color: white;\n",
              "                    --jp-widgets-label-color: white;\n",
              "                    --jp-ui-font-color1: white;\n",
              "                    --jp-layout-color2: #454545;\n",
              "                    background-color: #383838;\n",
              "                }\n",
              "\n",
              "                .geemap-dark .jupyter-button {\n",
              "                    --jp-layout-color3: #383838;\n",
              "                }\n",
              "\n",
              "                .geemap-colab {\n",
              "                    background-color: var(--colab-primary-surface-color, white);\n",
              "                }\n",
              "\n",
              "                .geemap-colab .jupyter-button {\n",
              "                    --jp-layout-color3: var(--colab-primary-surface-color, white);\n",
              "                }\n",
              "            </style>\n",
              "            "
            ]
          },
          "metadata": {}
        }
      ],
      "source": [
        "imgcol_ = imgcol.toBands()\n",
        "# imgcol_.getInfo()"
      ]
    },
    {
      "cell_type": "code",
      "execution_count": null,
      "metadata": {
        "id": "z8Ves9qz75hJ",
        "colab": {
          "base_uri": "https://localhost:8080/"
        },
        "outputId": "dfebfcfb-40a7-43e9-af75-b6413fb5acb7"
      },
      "outputs": [
        {
          "output_type": "display_data",
          "data": {
            "text/plain": [
              "<IPython.core.display.HTML object>"
            ],
            "text/html": [
              "\n",
              "            <style>\n",
              "                .geemap-dark {\n",
              "                    --jp-widgets-color: white;\n",
              "                    --jp-widgets-label-color: white;\n",
              "                    --jp-ui-font-color1: white;\n",
              "                    --jp-layout-color2: #454545;\n",
              "                    background-color: #383838;\n",
              "                }\n",
              "\n",
              "                .geemap-dark .jupyter-button {\n",
              "                    --jp-layout-color3: #383838;\n",
              "                }\n",
              "\n",
              "                .geemap-colab {\n",
              "                    background-color: var(--colab-primary-surface-color, white);\n",
              "                }\n",
              "\n",
              "                .geemap-colab .jupyter-button {\n",
              "                    --jp-layout-color3: var(--colab-primary-surface-color, white);\n",
              "                }\n",
              "            </style>\n",
              "            "
            ]
          },
          "metadata": {}
        }
      ],
      "source": [
        "imgcol_repr = imgcol_.reproject(crs='EPSG:4326', scale=30)"
      ]
    },
    {
      "cell_type": "code",
      "execution_count": null,
      "metadata": {
        "id": "vg1KxmRmLUMh",
        "colab": {
          "base_uri": "https://localhost:8080/"
        },
        "outputId": "998cdc2e-4de4-4617-cc00-347c89506228"
      },
      "outputs": [
        {
          "output_type": "display_data",
          "data": {
            "text/plain": [
              "<IPython.core.display.HTML object>"
            ],
            "text/html": [
              "\n",
              "            <style>\n",
              "                .geemap-dark {\n",
              "                    --jp-widgets-color: white;\n",
              "                    --jp-widgets-label-color: white;\n",
              "                    --jp-ui-font-color1: white;\n",
              "                    --jp-layout-color2: #454545;\n",
              "                    background-color: #383838;\n",
              "                }\n",
              "\n",
              "                .geemap-dark .jupyter-button {\n",
              "                    --jp-layout-color3: #383838;\n",
              "                }\n",
              "\n",
              "                .geemap-colab {\n",
              "                    background-color: var(--colab-primary-surface-color, white);\n",
              "                }\n",
              "\n",
              "                .geemap-colab .jupyter-button {\n",
              "                    --jp-layout-color3: var(--colab-primary-surface-color, white);\n",
              "                }\n",
              "            </style>\n",
              "            "
            ]
          },
          "metadata": {}
        }
      ],
      "source": [
        "asset_id = ee.FeatureCollection(\"projects/ee-maizeyield/assets/LR_18/rf_12_20\")\n"
      ]
    },
    {
      "cell_type": "code",
      "execution_count": null,
      "metadata": {
        "id": "YfibI7xKLMci",
        "colab": {
          "base_uri": "https://localhost:8080/"
        },
        "outputId": "d7f0fce7-2b6d-4527-f8a2-905b799b42ec"
      },
      "outputs": [
        {
          "output_type": "display_data",
          "data": {
            "text/plain": [
              "<IPython.core.display.HTML object>"
            ],
            "text/html": [
              "\n",
              "            <style>\n",
              "                .geemap-dark {\n",
              "                    --jp-widgets-color: white;\n",
              "                    --jp-widgets-label-color: white;\n",
              "                    --jp-ui-font-color1: white;\n",
              "                    --jp-layout-color2: #454545;\n",
              "                    background-color: #383838;\n",
              "                }\n",
              "\n",
              "                .geemap-dark .jupyter-button {\n",
              "                    --jp-layout-color3: #383838;\n",
              "                }\n",
              "\n",
              "                .geemap-colab {\n",
              "                    background-color: var(--colab-primary-surface-color, white);\n",
              "                }\n",
              "\n",
              "                .geemap-colab .jupyter-button {\n",
              "                    --jp-layout-color3: var(--colab-primary-surface-color, white);\n",
              "                }\n",
              "            </style>\n",
              "            "
            ]
          },
          "metadata": {}
        }
      ],
      "source": [
        "# read the exported tree feature collection\n",
        "rf_fc = ee.FeatureCollection(asset_id)\n",
        "\n",
        "# convert it to a classifier, very similar to the `ml.trees_to_classifier` function\n",
        "another_classifier = ml.fc_to_classifier(rf_fc)\n"
      ]
    },
    {
      "cell_type": "code",
      "execution_count": null,
      "metadata": {
        "id": "Fwg2lNwnraLP",
        "colab": {
          "base_uri": "https://localhost:8080/"
        },
        "outputId": "c3433990-6cc0-436c-9772-e78bab85b35b"
      },
      "outputs": [
        {
          "output_type": "display_data",
          "data": {
            "text/plain": [
              "<IPython.core.display.HTML object>"
            ],
            "text/html": [
              "\n",
              "            <style>\n",
              "                .geemap-dark {\n",
              "                    --jp-widgets-color: white;\n",
              "                    --jp-widgets-label-color: white;\n",
              "                    --jp-ui-font-color1: white;\n",
              "                    --jp-layout-color2: #454545;\n",
              "                    background-color: #383838;\n",
              "                }\n",
              "\n",
              "                .geemap-dark .jupyter-button {\n",
              "                    --jp-layout-color3: #383838;\n",
              "                }\n",
              "\n",
              "                .geemap-colab {\n",
              "                    background-color: var(--colab-primary-surface-color, white);\n",
              "                }\n",
              "\n",
              "                .geemap-colab .jupyter-button {\n",
              "                    --jp-layout-color3: var(--colab-primary-surface-color, white);\n",
              "                }\n",
              "            </style>\n",
              "            "
            ]
          },
          "metadata": {}
        }
      ],
      "source": [
        "# feature_names = [ 'nsi','gli', 'sipi','era5_wind', 'era5m_prec','era5_mean_temp', 'era5_min_temp', 'era5_max_temp',\n",
        "#         'era5m_mean_temp','chirpsm_prec']\n",
        "\n",
        "feature_names = ['era5d_prec','era5_min_temp','gpp','npp', 'wdvi','chirpsd_prec','gli','gvi','arvi2']"
      ]
    },
    {
      "cell_type": "code",
      "execution_count": null,
      "metadata": {
        "id": "kI2CnDGGPN1O",
        "colab": {
          "base_uri": "https://localhost:8080/"
        },
        "outputId": "00040351-a428-4aca-f17d-386eec93c48b"
      },
      "outputs": [
        {
          "output_type": "display_data",
          "data": {
            "text/plain": [
              "<IPython.core.display.HTML object>"
            ],
            "text/html": [
              "\n",
              "            <style>\n",
              "                .geemap-dark {\n",
              "                    --jp-widgets-color: white;\n",
              "                    --jp-widgets-label-color: white;\n",
              "                    --jp-ui-font-color1: white;\n",
              "                    --jp-layout-color2: #454545;\n",
              "                    background-color: #383838;\n",
              "                }\n",
              "\n",
              "                .geemap-dark .jupyter-button {\n",
              "                    --jp-layout-color3: #383838;\n",
              "                }\n",
              "\n",
              "                .geemap-colab {\n",
              "                    background-color: var(--colab-primary-surface-color, white);\n",
              "                }\n",
              "\n",
              "                .geemap-colab .jupyter-button {\n",
              "                    --jp-layout-color3: var(--colab-primary-surface-color, white);\n",
              "                }\n",
              "            </style>\n",
              "            "
            ]
          },
          "metadata": {}
        }
      ],
      "source": [
        "# 'COUNTY', 'Year', 'ndvi', 'savi', 'evi', 'gndvi', 'ndmi', 'nsi',\n",
        "#        'msavi', 'gci', 'gli', 'sipi', 'sr', 'osavi', 'gci2', 'arvi2', 'mtvi2',\n",
        "#        'rdvi', 'gvi', 'ndii', 'ndwi', 'grvi', 'lai', 'tcari', 'mcari', 'wdvi',\n",
        "#        'pssra', 'dvi', 'era5d_prec', 'era5_wind', 'era5m_wind', 'era5m_prec',\n",
        "#        'era5_mean_temp', 'era5_min_temp', 'era5_max_temp', 'era5m_mean_temp',\n",
        "#        'era5m_min_temp', 'era5m_max_temp', 'chirpsd_prec', 'chirpsm_prec',\n",
        "#        'gpp','npp', 'Yield2', 'mod_lst'"
      ]
    },
    {
      "cell_type": "markdown",
      "metadata": {
        "id": "nMQ4KKrfGySD"
      },
      "source": [
        "# 2010"
      ]
    },
    {
      "cell_type": "code",
      "source": [
        "year = '2010'\n",
        "start = ee.Date('2010-04-01')\n",
        "end = ee.Date('2010-08-31')\n"
      ],
      "metadata": {
        "id": "EPVrf1TWXGUC",
        "colab": {
          "base_uri": "https://localhost:8080/",
          "height": 17
        },
        "outputId": "01dd6b5d-1824-4206-ffb3-7a6e4ff76798"
      },
      "execution_count": null,
      "outputs": [
        {
          "output_type": "display_data",
          "data": {
            "text/plain": [
              "<IPython.core.display.HTML object>"
            ],
            "text/html": [
              "\n",
              "            <style>\n",
              "                .geemap-dark {\n",
              "                    --jp-widgets-color: white;\n",
              "                    --jp-widgets-label-color: white;\n",
              "                    --jp-ui-font-color1: white;\n",
              "                    --jp-layout-color2: #454545;\n",
              "                    background-color: #383838;\n",
              "                }\n",
              "\n",
              "                .geemap-dark .jupyter-button {\n",
              "                    --jp-layout-color3: #383838;\n",
              "                }\n",
              "\n",
              "                .geemap-colab {\n",
              "                    background-color: var(--colab-primary-surface-color, white);\n",
              "                }\n",
              "\n",
              "                .geemap-colab .jupyter-button {\n",
              "                    --jp-layout-color3: var(--colab-primary-surface-color, white);\n",
              "                }\n",
              "            </style>\n",
              "            "
            ]
          },
          "metadata": {}
        }
      ]
    },
    {
      "cell_type": "code",
      "source": [
        "gpp_col = ee.ImageCollection(\"MODIS/061/MOD17A3HGF\")#.select('Gpp')\n",
        "npp_col = ee.ImageCollection(\"MODIS/061/MOD17A3HGF\")#.select('Gpp')\n"
      ],
      "metadata": {
        "id": "5aI7tDhwi7RD",
        "colab": {
          "base_uri": "https://localhost:8080/",
          "height": 17
        },
        "outputId": "5c2ed243-9a29-407c-a836-99bc109baa8f"
      },
      "execution_count": null,
      "outputs": [
        {
          "output_type": "display_data",
          "data": {
            "text/plain": [
              "<IPython.core.display.HTML object>"
            ],
            "text/html": [
              "\n",
              "            <style>\n",
              "                .geemap-dark {\n",
              "                    --jp-widgets-color: white;\n",
              "                    --jp-widgets-label-color: white;\n",
              "                    --jp-ui-font-color1: white;\n",
              "                    --jp-layout-color2: #454545;\n",
              "                    background-color: #383838;\n",
              "                }\n",
              "\n",
              "                .geemap-dark .jupyter-button {\n",
              "                    --jp-layout-color3: #383838;\n",
              "                }\n",
              "\n",
              "                .geemap-colab {\n",
              "                    background-color: var(--colab-primary-surface-color, white);\n",
              "                }\n",
              "\n",
              "                .geemap-colab .jupyter-button {\n",
              "                    --jp-layout-color3: var(--colab-primary-surface-color, white);\n",
              "                }\n",
              "            </style>\n",
              "            "
            ]
          },
          "metadata": {}
        }
      ]
    },
    {
      "cell_type": "code",
      "execution_count": null,
      "metadata": {
        "id": "1Whx_f3sMPZL",
        "colab": {
          "base_uri": "https://localhost:8080/",
          "height": 17
        },
        "outputId": "713fab72-e59c-4a01-eaa7-976de9d99d45"
      },
      "outputs": [
        {
          "output_type": "display_data",
          "data": {
            "text/plain": [
              "<IPython.core.display.HTML object>"
            ],
            "text/html": [
              "\n",
              "            <style>\n",
              "                .geemap-dark {\n",
              "                    --jp-widgets-color: white;\n",
              "                    --jp-widgets-label-color: white;\n",
              "                    --jp-ui-font-color1: white;\n",
              "                    --jp-layout-color2: #454545;\n",
              "                    background-color: #383838;\n",
              "                }\n",
              "\n",
              "                .geemap-dark .jupyter-button {\n",
              "                    --jp-layout-color3: #383838;\n",
              "                }\n",
              "\n",
              "                .geemap-colab {\n",
              "                    background-color: var(--colab-primary-surface-color, white);\n",
              "                }\n",
              "\n",
              "                .geemap-colab .jupyter-button {\n",
              "                    --jp-layout-color3: var(--colab-primary-surface-color, white);\n",
              "                }\n",
              "            </style>\n",
              "            "
            ]
          },
          "metadata": {}
        }
      ],
      "source": [
        "era5d_prec = era5_tp_mean_.select(era5_tp_mean_.bandNames().getInfo()[0]).rename('era5d_prec')\n",
        "# era5_wind = era5_u_wind_10m_mean_.select(era5_u_wind_10m_mean_.bandNames().getInfo()[0]).rename('era5_wind')\n",
        "# era5m_wind = era5_u_wind_10monthly_mean_.select(era5_u_wind_10monthly_mean_.bandNames().getInfo()[0]).rename('era5m_wind')\n",
        "# era5m_prec = era5_monthly_mean_.select(era5_monthly_mean_.bandNames().getInfo()[0]).rename('era5m_prec')\n",
        "# era5_mean_temp = era5_mean_temp_mean_.select(era5_mean_temp_mean_.bandNames().getInfo()[0]).rename('era5_mean_temp')\n",
        "era5_min_temp =  era5_min_temp_mean_.select(era5_min_temp_mean_.bandNames().getInfo()[0]).rename('era5_min_temp')\n",
        "# era5_max_temp = era5_max_temp_mean_.select(era5_max_temp_mean_.bandNames().getInfo()[0]).rename('era5_max_temp')\n",
        "# era5m_mean_temp = era5m_temp_mean_.select(era5m_temp_mean_.bandNames().getInfo()[0]).rename('era5m_mean_temp')\n",
        "# era5m_min_temp = era5m_min_temp_mean_.select(era5m_min_temp_mean_.bandNames().getInfo()[0]).rename('era5m_min_temp')\n",
        "# era5m_max_temp = era5m_max_temp_mean_.select(era5m_max_temp_mean_.bandNames().getInfo()[0]).rename('era5m_max_temp')\n",
        "chirpsd_prec =chirps_d_mean_.select(chirps_d_mean_.bandNames().getInfo()[0]).rename('chirpsd_prec')\n",
        "# chirpsm_prec =chirps_m_mean_.select(chirps_m_mean_.bandNames().getInfo()[0]).rename('chirpsm_prec')\n",
        "# mod_lst = modislst_m_mean_.select(modislst_m_mean_.bandNames().getInfo()[0]).rename('mod_lst')\n",
        "gpp_2010 = gpp_prep(gpp_col,AOI,year).toBands().select(gpp_prep(gpp_col,AOI,year).toBands().bandNames()).rename('gpp')\n",
        "npp_2010 = npp_prep(npp_col,AOI,year).toBands().select(npp_prep(npp_col,AOI,year).toBands().bandNames()).rename('npp')\n",
        "wdvi = l8_2010.select('wdvi')\n",
        "gli = l8_2010.select('gli')\n",
        "gvi =l8_2010.select('gvi')\n",
        "arvi2 =l8_2010.select('arvi2')\n"
      ]
    },
    {
      "cell_type": "code",
      "execution_count": null,
      "metadata": {
        "id": "trrC6k7IneLb",
        "colab": {
          "base_uri": "https://localhost:8080/",
          "height": 17
        },
        "outputId": "eef62641-4336-4925-f9b5-71dcb71a3af8"
      },
      "outputs": [
        {
          "output_type": "display_data",
          "data": {
            "text/plain": [
              "<IPython.core.display.HTML object>"
            ],
            "text/html": [
              "\n",
              "            <style>\n",
              "                .geemap-dark {\n",
              "                    --jp-widgets-color: white;\n",
              "                    --jp-widgets-label-color: white;\n",
              "                    --jp-ui-font-color1: white;\n",
              "                    --jp-layout-color2: #454545;\n",
              "                    background-color: #383838;\n",
              "                }\n",
              "\n",
              "                .geemap-dark .jupyter-button {\n",
              "                    --jp-layout-color3: #383838;\n",
              "                }\n",
              "\n",
              "                .geemap-colab {\n",
              "                    background-color: var(--colab-primary-surface-color, white);\n",
              "                }\n",
              "\n",
              "                .geemap-colab .jupyter-button {\n",
              "                    --jp-layout-color3: var(--colab-primary-surface-color, white);\n",
              "                }\n",
              "            </style>\n",
              "            "
            ]
          },
          "metadata": {}
        }
      ],
      "source": [
        "img_2010 = era5d_prec.addBands(era5_min_temp)\\\n",
        ".addBands(chirpsd_prec)\\\n",
        ".addBands(npp_2010)\\\n",
        ".addBands(gpp_2010)\\\n",
        ".addBands(wdvi)\\\n",
        ".addBands(gli)\\\n",
        ".addBands(gvi)\\\n",
        ".addBands(arvi2)\n",
        "\n",
        "# .addBands(era5m_min_temp)\\# .addBands(era5m_wind)\\\n",
        "# .addBands(era5m_max_temp)\\\n",
        "# .addBands(chirpsd_prec)\\# .addBands(gpp)\\\n",
        "# .addBands(npp)\\\n",
        "# .addBands(mod_lst)"
      ]
    },
    {
      "cell_type": "code",
      "source": [
        "rsn2 = gpp_2010.select('gpp').projection()\n",
        "# print(rsn2.nominalScale())\n"
      ],
      "metadata": {
        "colab": {
          "base_uri": "https://localhost:8080/",
          "height": 1000
        },
        "id": "NnY0zPUg0Ufr",
        "outputId": "fbcc2e41-11b9-43c9-de00-5701e2e2e6c0",
        "collapsed": true
      },
      "execution_count": null,
      "outputs": [
        {
          "output_type": "display_data",
          "data": {
            "text/plain": [
              "<IPython.core.display.HTML object>"
            ],
            "text/html": [
              "\n",
              "            <style>\n",
              "                .geemap-dark {\n",
              "                    --jp-widgets-color: white;\n",
              "                    --jp-widgets-label-color: white;\n",
              "                    --jp-ui-font-color1: white;\n",
              "                    --jp-layout-color2: #454545;\n",
              "                    background-color: #383838;\n",
              "                }\n",
              "\n",
              "                .geemap-dark .jupyter-button {\n",
              "                    --jp-layout-color3: #383838;\n",
              "                }\n",
              "\n",
              "                .geemap-colab {\n",
              "                    background-color: var(--colab-primary-surface-color, white);\n",
              "                }\n",
              "\n",
              "                .geemap-colab .jupyter-button {\n",
              "                    --jp-layout-color3: var(--colab-primary-surface-color, white);\n",
              "                }\n",
              "            </style>\n",
              "            "
            ]
          },
          "metadata": {}
        },
        {
          "output_type": "stream",
          "name": "stdout",
          "text": [
            "ee.Number({\n",
            "  \"functionInvocationValue\": {\n",
            "    \"functionName\": \"Projection.nominalScale\",\n",
            "    \"arguments\": {\n",
            "      \"proj\": {\n",
            "        \"functionInvocationValue\": {\n",
            "          \"functionName\": \"Image.projection\",\n",
            "          \"arguments\": {\n",
            "            \"image\": {\n",
            "              \"functionInvocationValue\": {\n",
            "                \"functionName\": \"Image.select\",\n",
            "                \"arguments\": {\n",
            "                  \"bandSelectors\": {\n",
            "                    \"constantValue\": [\n",
            "                      \"gpp\"\n",
            "                    ]\n",
            "                  },\n",
            "                  \"input\": {\n",
            "                    \"functionInvocationValue\": {\n",
            "                      \"functionName\": \"Image.rename\",\n",
            "                      \"arguments\": {\n",
            "                        \"input\": {\n",
            "                          \"functionInvocationValue\": {\n",
            "                            \"functionName\": \"Image.select\",\n",
            "                            \"arguments\": {\n",
            "                              \"bandSelectors\": {\n",
            "                                \"functionInvocationValue\": {\n",
            "                                  \"functionName\": \"Image.bandNames\",\n",
            "                                  \"arguments\": {\n",
            "                                    \"image\": {\n",
            "                                      \"functionInvocationValue\": {\n",
            "                                        \"functionName\": \"ImageCollection.toBands\",\n",
            "                                        \"arguments\": {\n",
            "                                          \"collection\": {\n",
            "                                            \"functionInvocationValue\": {\n",
            "                                              \"functionName\": \"Collection.map\",\n",
            "                                              \"arguments\": {\n",
            "                                                \"baseAlgorithm\": {\n",
            "                                                  \"functionDefinitionValue\": {\n",
            "                                                    \"argumentNames\": [\n",
            "                                                      \"_MAPPING_VAR_0_0\"\n",
            "                                                    ],\n",
            "                                                    \"body\": {\n",
            "                                                      \"functionInvocationValue\": {\n",
            "                                                        \"functionName\": \"Image.select\",\n",
            "                                                        \"arguments\": {\n",
            "                                                          \"bandSelectors\": {\n",
            "                                                            \"constantValue\": [\n",
            "                                                              \"Gpp\"\n",
            "                                                            ]\n",
            "                                                          },\n",
            "                                                          \"input\": {\n",
            "                                                            \"argumentReference\": \"_MAPPING_VAR_0_0\"\n",
            "                                                          }\n",
            "                                                        }\n",
            "                                                      }\n",
            "                                                    }\n",
            "                                                  }\n",
            "                                                },\n",
            "                                                \"collection\": {\n",
            "                                                  \"functionInvocationValue\": {\n",
            "                                                    \"functionName\": \"Collection.filter\",\n",
            "                                                    \"arguments\": {\n",
            "                                                      \"collection\": {\n",
            "                                                        \"functionInvocationValue\": {\n",
            "                                                          \"functionName\": \"Collection.filter\",\n",
            "                                                          \"arguments\": {\n",
            "                                                            \"collection\": {\n",
            "                                                              \"functionInvocationValue\": {\n",
            "                                                                \"functionName\": \"ImageCollection.load\",\n",
            "                                                                \"arguments\": {\n",
            "                                                                  \"id\": {\n",
            "                                                                    \"constantValue\": \"MODIS/061/MOD17A3HGF\"\n",
            "                                                                  }\n",
            "                                                                }\n",
            "                                                              }\n",
            "                                                            },\n",
            "                                                            \"filter\": {\n",
            "                                                              \"functionInvocationValue\": {\n",
            "                                                                \"functionName\": \"Filter.dateRangeContains\",\n",
            "                                                                \"arguments\": {\n",
            "                                                                  \"leftValue\": {\n",
            "                                                                    \"functionInvocationValue\": {\n",
            "                                                                      \"functionName\": \"DateRange\",\n",
            "                                                                      \"arguments\": {\n",
            "                                                                        \"end\": {\n",
            "                                                                          \"constantValue\": \"2010-12-31\"\n",
            "                                                                        },\n",
            "                                                                        \"start\": {\n",
            "                                                                          \"constantValue\": \"2010-01-01\"\n",
            "                                                                        }\n",
            "                                                                      }\n",
            "                                                                    }\n",
            "                                                                  },\n",
            "                                                                  \"rightField\": {\n",
            "                                                                    \"constantValue\": \"system:time_start\"\n",
            "                                                                  }\n",
            "                                                                }\n",
            "                                                              }\n",
            "                                                            }\n",
            "                                                          }\n",
            "                                                        }\n",
            "                                                      },\n",
            "                                                      \"filter\": {\n",
            "                                                        \"functionInvocationValue\": {\n",
            "                                                          \"functionName\": \"Filter.intersects\",\n",
            "                                                          \"arguments\": {\n",
            "                                                            \"leftField\": {\n",
            "                                                              \"constantValue\": \".all\"\n",
            "                                                            },\n",
            "                                                            \"rightValue\": {\n",
            "                                                              \"functionInvocationValue\": {\n",
            "                                                                \"functionName\": \"Feature\",\n",
            "                                                                \"arguments\": {\n",
            "                                                                  \"geometry\": {\n",
            "                                                                    \"functionInvocationValue\": {\n",
            "                                                                      \"functionName\": \"Collection.geometry\",\n",
            "                                                                      \"arguments\": {\n",
            "                                                                        \"collection\": {\n",
            "                                                                          \"functionInvocationValue\": {\n",
            "                                                                            \"functionName\": \"Collection.loadTable\",\n",
            "                                                                            \"arguments\": {\n",
            "                                                                              \"tableId\": {\n",
            "                                                                                \"constantValue\": \"users/Prod/boundary\"\n",
            "                                                                              }\n",
            "                                                                            }\n",
            "                                                                          }\n",
            "                                                                        }\n",
            "                                                                      }\n",
            "                                                                    }\n",
            "                                                                  }\n",
            "                                                                }\n",
            "                                                              }\n",
            "                                                            }\n",
            "                                                          }\n",
            "                                                        }\n",
            "                                                      }\n",
            "                                                    }\n",
            "                                                  }\n",
            "                                                }\n",
            "                                              }\n",
            "                                            }\n",
            "                                          }\n",
            "                                        }\n",
            "                                      }\n",
            "                                    }\n",
            "                                  }\n",
            "                                }\n",
            "                              },\n",
            "                              \"input\": {\n",
            "                                \"functionInvocationValue\": {\n",
            "                                  \"functionName\": \"ImageCollection.toBands\",\n",
            "                                  \"arguments\": {\n",
            "                                    \"collection\": {\n",
            "                                      \"functionInvocationValue\": {\n",
            "                                        \"functionName\": \"Collection.map\",\n",
            "                                        \"arguments\": {\n",
            "                                          \"baseAlgorithm\": {\n",
            "                                            \"functionDefinitionValue\": {\n",
            "                                              \"argumentNames\": [\n",
            "                                                \"_MAPPING_VAR_0_0\"\n",
            "                                              ],\n",
            "                                              \"body\": {\n",
            "                                                \"functionInvocationValue\": {\n",
            "                                                  \"functionName\": \"Image.select\",\n",
            "                                                  \"arguments\": {\n",
            "                                                    \"bandSelectors\": {\n",
            "                                                      \"constantValue\": [\n",
            "                                                        \"Gpp\"\n",
            "                                                      ]\n",
            "                                                    },\n",
            "                                                    \"input\": {\n",
            "                                                      \"argumentReference\": \"_MAPPING_VAR_0_0\"\n",
            "                                                    }\n",
            "                                                  }\n",
            "                                                }\n",
            "                                              }\n",
            "                                            }\n",
            "                                          },\n",
            "                                          \"collection\": {\n",
            "                                            \"functionInvocationValue\": {\n",
            "                                              \"functionName\": \"Collection.filter\",\n",
            "                                              \"arguments\": {\n",
            "                                                \"collection\": {\n",
            "                                                  \"functionInvocationValue\": {\n",
            "                                                    \"functionName\": \"Collection.filter\",\n",
            "                                                    \"arguments\": {\n",
            "                                                      \"collection\": {\n",
            "                                                        \"functionInvocationValue\": {\n",
            "                                                          \"functionName\": \"ImageCollection.load\",\n",
            "                                                          \"arguments\": {\n",
            "                                                            \"id\": {\n",
            "                                                              \"constantValue\": \"MODIS/061/MOD17A3HGF\"\n",
            "                                                            }\n",
            "                                                          }\n",
            "                                                        }\n",
            "                                                      },\n",
            "                                                      \"filter\": {\n",
            "                                                        \"functionInvocationValue\": {\n",
            "                                                          \"functionName\": \"Filter.dateRangeContains\",\n",
            "                                                          \"arguments\": {\n",
            "                                                            \"leftValue\": {\n",
            "                                                              \"functionInvocationValue\": {\n",
            "                                                                \"functionName\": \"DateRange\",\n",
            "                                                                \"arguments\": {\n",
            "                                                                  \"end\": {\n",
            "                                                                    \"constantValue\": \"2010-12-31\"\n",
            "                                                                  },\n",
            "                                                                  \"start\": {\n",
            "                                                                    \"constantValue\": \"2010-01-01\"\n",
            "                                                                  }\n",
            "                                                                }\n",
            "                                                              }\n",
            "                                                            },\n",
            "                                                            \"rightField\": {\n",
            "                                                              \"constantValue\": \"system:time_start\"\n",
            "                                                            }\n",
            "                                                          }\n",
            "                                                        }\n",
            "                                                      }\n",
            "                                                    }\n",
            "                                                  }\n",
            "                                                },\n",
            "                                                \"filter\": {\n",
            "                                                  \"functionInvocationValue\": {\n",
            "                                                    \"functionName\": \"Filter.intersects\",\n",
            "                                                    \"arguments\": {\n",
            "                                                      \"leftField\": {\n",
            "                                                        \"constantValue\": \".all\"\n",
            "                                                      },\n",
            "                                                      \"rightValue\": {\n",
            "                                                        \"functionInvocationValue\": {\n",
            "                                                          \"functionName\": \"Feature\",\n",
            "                                                          \"arguments\": {\n",
            "                                                            \"geometry\": {\n",
            "                                                              \"functionInvocationValue\": {\n",
            "                                                                \"functionName\": \"Collection.geometry\",\n",
            "                                                                \"arguments\": {\n",
            "                                                                  \"collection\": {\n",
            "                                                                    \"functionInvocationValue\": {\n",
            "                                                                      \"functionName\": \"Collection.loadTable\",\n",
            "                                                                      \"arguments\": {\n",
            "                                                                        \"tableId\": {\n",
            "                                                                          \"constantValue\": \"users/Prod/boundary\"\n",
            "                                                                        }\n",
            "                                                                      }\n",
            "                                                                    }\n",
            "                                                                  }\n",
            "                                                                }\n",
            "                                                              }\n",
            "                                                            }\n",
            "                                                          }\n",
            "                                                        }\n",
            "                                                      }\n",
            "                                                    }\n",
            "                                                  }\n",
            "                                                }\n",
            "                                              }\n",
            "                                            }\n",
            "                                          }\n",
            "                                        }\n",
            "                                      }\n",
            "                                    }\n",
            "                                  }\n",
            "                                }\n",
            "                              }\n",
            "                            }\n",
            "                          }\n",
            "                        },\n",
            "                        \"names\": {\n",
            "                          \"constantValue\": [\n",
            "                            \"gpp\"\n",
            "                          ]\n",
            "                        }\n",
            "                      }\n",
            "                    }\n",
            "                  }\n",
            "                }\n",
            "              }\n",
            "            }\n",
            "          }\n",
            "        }\n",
            "      }\n",
            "    }\n",
            "  }\n",
            "})\n"
          ]
        }
      ]
    },
    {
      "cell_type": "code",
      "source": [
        "# img_2010_repr = img_2010.reproject(crs='EPSG:4326', scale=500)\n",
        "era5d_prec_r = era5d_prec.resample().reproject(rsn2)\n",
        "# era5_wind = era5_u_wind_10m_mean_.select(era5_u_wind_10m_mean_.bandNames().getInfo()[0]).rename('era5_wind')\n",
        "# era5m_wind = era5_u_wind_10monthly_mean_.select(era5_u_wind_10monthly_mean_.bandNames().getInfo()[0]).rename('era5m_wind')\n",
        "# era5m_prec = era5_monthly_mean_.select(era5_monthly_mean_.bandNames().getInfo()[0]).rename('era5m_prec')\n",
        "# era5_mean_temp = era5_mean_temp_mean_.select(era5_mean_temp_mean_.bandNames().getInfo()[0]).rename('era5_mean_temp')\n",
        "era5_min_temp_r =  era5_min_temp.resample().reproject(rsn2)\n",
        "# era5_max_temp = era5_max_temp_mean_.select(era5_max_temp_mean_.bandNames().getInfo()[0]).rename('era5_max_temp')\n",
        "# era5m_mean_temp = era5m_temp_mean_.select(era5m_temp_mean_.bandNames().getInfo()[0]).rename('era5m_mean_temp')\n",
        "# era5m_min_temp = era5m_min_temp_mean_.select(era5m_min_temp_mean_.bandNames().getInfo()[0]).rename('era5m_min_temp')\n",
        "# era5m_max_temp = era5m_max_temp_mean_.select(era5m_max_temp_mean_.bandNames().getInfo()[0]).rename('era5m_max_temp')\n",
        "chirpsd_prec_r =chirpsd_prec.resample().reproject(rsn2)\n",
        "# chirpsm_prec =chirps_m_mean_.select(chirps_m_mean_.bandNames().getInfo()[0]).rename('chirpsm_prec')\n",
        "# mod_lst = modislst_m_mean_.select(modislst_m_mean_.bandNames().getInfo()[0]).rename('mod_lst')\n",
        "gpp_2010_r = gpp_2010.reproject(rsn2)\n",
        "npp_2010_r = npp_2010.reproject(rsn2)\n",
        "wdvi_r = wdvi.reproject(rsn2)\n",
        "gli_r = gli.reproject(rsn2)\n",
        "gvi_r = gvi.reproject(rsn2)\n",
        "arvi2_r =arvi2.reproject(rsn2)"
      ],
      "metadata": {
        "colab": {
          "base_uri": "https://localhost:8080/",
          "height": 17
        },
        "id": "Xf6M2217F7xn",
        "outputId": "ef9e1910-a5c3-4212-861b-ffab80ecba67"
      },
      "execution_count": null,
      "outputs": [
        {
          "output_type": "display_data",
          "data": {
            "text/plain": [
              "<IPython.core.display.HTML object>"
            ],
            "text/html": [
              "\n",
              "            <style>\n",
              "                .geemap-dark {\n",
              "                    --jp-widgets-color: white;\n",
              "                    --jp-widgets-label-color: white;\n",
              "                    --jp-ui-font-color1: white;\n",
              "                    --jp-layout-color2: #454545;\n",
              "                    background-color: #383838;\n",
              "                }\n",
              "\n",
              "                .geemap-dark .jupyter-button {\n",
              "                    --jp-layout-color3: #383838;\n",
              "                }\n",
              "\n",
              "                .geemap-colab {\n",
              "                    background-color: var(--colab-primary-surface-color, white);\n",
              "                }\n",
              "\n",
              "                .geemap-colab .jupyter-button {\n",
              "                    --jp-layout-color3: var(--colab-primary-surface-color, white);\n",
              "                }\n",
              "            </style>\n",
              "            "
            ]
          },
          "metadata": {}
        }
      ]
    },
    {
      "cell_type": "code",
      "source": [
        "# era5d_prec_r.resample('bilinear').reproject(crs=crs, scale=scale)"
      ],
      "metadata": {
        "id": "sLgGhIc23uaz",
        "colab": {
          "base_uri": "https://localhost:8080/",
          "height": 17
        },
        "outputId": "494631ee-52b8-47e0-af1e-25acd8eaa999"
      },
      "execution_count": null,
      "outputs": [
        {
          "output_type": "display_data",
          "data": {
            "text/plain": [
              "<IPython.core.display.HTML object>"
            ],
            "text/html": [
              "\n",
              "            <style>\n",
              "                .geemap-dark {\n",
              "                    --jp-widgets-color: white;\n",
              "                    --jp-widgets-label-color: white;\n",
              "                    --jp-ui-font-color1: white;\n",
              "                    --jp-layout-color2: #454545;\n",
              "                    background-color: #383838;\n",
              "                }\n",
              "\n",
              "                .geemap-dark .jupyter-button {\n",
              "                    --jp-layout-color3: #383838;\n",
              "                }\n",
              "\n",
              "                .geemap-colab {\n",
              "                    background-color: var(--colab-primary-surface-color, white);\n",
              "                }\n",
              "\n",
              "                .geemap-colab .jupyter-button {\n",
              "                    --jp-layout-color3: var(--colab-primary-surface-color, white);\n",
              "                }\n",
              "            </style>\n",
              "            "
            ]
          },
          "metadata": {}
        }
      ]
    },
    {
      "cell_type": "code",
      "source": [
        "img_2010_r = era5d_prec_r.addBands(era5_min_temp_r)\\\n",
        ".addBands(chirpsd_prec_r)\\\n",
        ".addBands(npp_2010_r)\\\n",
        ".addBands(gpp_2010_r)\\\n",
        ".addBands(wdvi_r)\\\n",
        ".addBands(gli_r)\\\n",
        ".addBands(gvi_r)\\\n",
        ".addBands(arvi2_r)"
      ],
      "metadata": {
        "id": "7tWCJsp0w0DF",
        "colab": {
          "base_uri": "https://localhost:8080/",
          "height": 17
        },
        "outputId": "8acaaa9f-3687-403d-9f6c-cc4505b37565"
      },
      "execution_count": null,
      "outputs": [
        {
          "output_type": "display_data",
          "data": {
            "text/plain": [
              "<IPython.core.display.HTML object>"
            ],
            "text/html": [
              "\n",
              "            <style>\n",
              "                .geemap-dark {\n",
              "                    --jp-widgets-color: white;\n",
              "                    --jp-widgets-label-color: white;\n",
              "                    --jp-ui-font-color1: white;\n",
              "                    --jp-layout-color2: #454545;\n",
              "                    background-color: #383838;\n",
              "                }\n",
              "\n",
              "                .geemap-dark .jupyter-button {\n",
              "                    --jp-layout-color3: #383838;\n",
              "                }\n",
              "\n",
              "                .geemap-colab {\n",
              "                    background-color: var(--colab-primary-surface-color, white);\n",
              "                }\n",
              "\n",
              "                .geemap-colab .jupyter-button {\n",
              "                    --jp-layout-color3: var(--colab-primary-surface-color, white);\n",
              "                }\n",
              "            </style>\n",
              "            "
            ]
          },
          "metadata": {}
        }
      ]
    },
    {
      "cell_type": "code",
      "source": [
        "img_2010_r.bandNames().getInfo()"
      ],
      "metadata": {
        "colab": {
          "base_uri": "https://localhost:8080/",
          "height": 178
        },
        "id": "15Uuqz84V84y",
        "outputId": "f43fe40d-1a78-4026-8b9f-dac4c4127e82"
      },
      "execution_count": null,
      "outputs": [
        {
          "output_type": "display_data",
          "data": {
            "text/plain": [
              "<IPython.core.display.HTML object>"
            ],
            "text/html": [
              "\n",
              "            <style>\n",
              "                .geemap-dark {\n",
              "                    --jp-widgets-color: white;\n",
              "                    --jp-widgets-label-color: white;\n",
              "                    --jp-ui-font-color1: white;\n",
              "                    --jp-layout-color2: #454545;\n",
              "                    background-color: #383838;\n",
              "                }\n",
              "\n",
              "                .geemap-dark .jupyter-button {\n",
              "                    --jp-layout-color3: #383838;\n",
              "                }\n",
              "\n",
              "                .geemap-colab {\n",
              "                    background-color: var(--colab-primary-surface-color, white);\n",
              "                }\n",
              "\n",
              "                .geemap-colab .jupyter-button {\n",
              "                    --jp-layout-color3: var(--colab-primary-surface-color, white);\n",
              "                }\n",
              "            </style>\n",
              "            "
            ]
          },
          "metadata": {}
        },
        {
          "output_type": "execute_result",
          "data": {
            "text/plain": [
              "['era5d_prec',\n",
              " 'era5_min_temp',\n",
              " 'chirpsd_prec',\n",
              " 'npp',\n",
              " 'gpp',\n",
              " 'wdvi',\n",
              " 'gli',\n",
              " 'gvi',\n",
              " 'arvi2']"
            ]
          },
          "metadata": {},
          "execution_count": 357
        }
      ]
    },
    {
      "cell_type": "code",
      "execution_count": null,
      "metadata": {
        "id": "jv0wjLqMMOPv",
        "colab": {
          "base_uri": "https://localhost:8080/",
          "height": 17
        },
        "outputId": "4b775571-f048-4ee7-efbe-414eaad4ca6b"
      },
      "outputs": [
        {
          "output_type": "display_data",
          "data": {
            "text/plain": [
              "<IPython.core.display.HTML object>"
            ],
            "text/html": [
              "\n",
              "            <style>\n",
              "                .geemap-dark {\n",
              "                    --jp-widgets-color: white;\n",
              "                    --jp-widgets-label-color: white;\n",
              "                    --jp-ui-font-color1: white;\n",
              "                    --jp-layout-color2: #454545;\n",
              "                    background-color: #383838;\n",
              "                }\n",
              "\n",
              "                .geemap-dark .jupyter-button {\n",
              "                    --jp-layout-color3: #383838;\n",
              "                }\n",
              "\n",
              "                .geemap-colab {\n",
              "                    background-color: var(--colab-primary-surface-color, white);\n",
              "                }\n",
              "\n",
              "                .geemap-colab .jupyter-button {\n",
              "                    --jp-layout-color3: var(--colab-primary-surface-color, white);\n",
              "                }\n",
              "            </style>\n",
              "            "
            ]
          },
          "metadata": {}
        }
      ],
      "source": [
        "# classify the image again but with the classifier from the persisted trees\n",
        "# classified = img_2010.select(feature_names).classify(another_classifier)\n",
        "classified = img_2010_r.select(feature_names).classify(another_classifier)"
      ]
    },
    {
      "cell_type": "code",
      "execution_count": null,
      "metadata": {
        "id": "iKMdqACIzeru",
        "colab": {
          "base_uri": "https://localhost:8080/",
          "height": 17
        },
        "outputId": "cfb1073e-ebe7-441b-81b2-e896b20e9e18"
      },
      "outputs": [
        {
          "output_type": "display_data",
          "data": {
            "text/plain": [
              "<IPython.core.display.HTML object>"
            ],
            "text/html": [
              "\n",
              "            <style>\n",
              "                .geemap-dark {\n",
              "                    --jp-widgets-color: white;\n",
              "                    --jp-widgets-label-color: white;\n",
              "                    --jp-ui-font-color1: white;\n",
              "                    --jp-layout-color2: #454545;\n",
              "                    background-color: #383838;\n",
              "                }\n",
              "\n",
              "                .geemap-dark .jupyter-button {\n",
              "                    --jp-layout-color3: #383838;\n",
              "                }\n",
              "\n",
              "                .geemap-colab {\n",
              "                    background-color: var(--colab-primary-surface-color, white);\n",
              "                }\n",
              "\n",
              "                .geemap-colab .jupyter-button {\n",
              "                    --jp-layout-color3: var(--colab-primary-surface-color, white);\n",
              "                }\n",
              "            </style>\n",
              "            "
            ]
          },
          "metadata": {}
        }
      ],
      "source": [
        "# Reduce Regions to Counties\n",
        "class_2010 = classified.reduceRegions(**{\n",
        "    'collection':AOI,\n",
        "    'reducer': ee.Reducer.mean(),\n",
        "    'scale': scale\n",
        "})\n"
      ]
    },
    {
      "cell_type": "code",
      "source": [
        "Map.addLayer(newzones,{},'Newzones')\n",
        "Map"
      ],
      "metadata": {
        "colab": {
          "base_uri": "https://localhost:8080/",
          "height": 621,
          "referenced_widgets": [
            "55682e99f3614135b713e09290a8bbb2",
            "3ef0a1c5b5884c32bd6f6795cd42d565",
            "d9955c70f3f64e64974f841c034bd0ea",
            "ede46906cd244f369d50a578e3487294",
            "ccf7cbcb09da4791909577952b0ced8e",
            "2d4a57a778774dd985a31af3742c597a",
            "3f40ba6e670a45129945f0fa8286cc52",
            "b89a5ab718ad43af9d64beb6e7032021",
            "d992c4470b394ef7b18600b8ee1449b0",
            "67e77cbd4af5415b81680707a02e726e",
            "1cf0d1fbbecd4c9883a1f0acc5db014d",
            "38bc67b3e9c140ae9102213b03f003ce",
            "fc34668b4a5e4242ba8438c7af04ad22",
            "b2ce4d466d3f4c01bac5efa569c3fcf5",
            "79bd494c280d40fda0048475a663c9ae",
            "1f53980f90234c3db7f27a35e83d65bb",
            "1cccbd3280c7471d90f8cc3bbde6bd4a",
            "5a84b0319aae465abbe57342e0fe7d08",
            "4b367e576ba24db5985bea3e207bd85f",
            "52dd9d838c6e4d2b8107f0a2fcbcf4d5",
            "1ccbf3f7634841deb9a5a0682b3dd7dc",
            "e5c9d1b243c7431db938e71055d855d5",
            "0af4b041446a40e0bbdbf0cb523e154d",
            "ea66f7f181814f0ea549bb3f935694de",
            "f848e756d05b4a409c4c1a4d6b179d45",
            "2de0d2d7944c46d187a4e218b8bd6b18",
            "e33191aa484c4fee8c4594ffafcfcd4a",
            "a1b0b2b75d2642869f4b733e0202d4a6",
            "060c631cba2248759e0bc9996ed65b86",
            "6ce9392a10ac4f73ab2aa73c723ea5d5",
            "37256ac85b124f11b897b5a797f734cb",
            "62b90909f8394d8daa3b018f9cb814ac",
            "5c074d60cd4a40e193a68982657da911",
            "d061deef7cc54ab08d1264a96e18448f",
            "1f01aa6b4d404c5f8c1c816aee0fbd2f",
            "ff3acf89819d42c091334b8ba48eac2c",
            "80eaefc345bb4d0eaa4387166014a6f0",
            "d8bc70e85e5a4d129e4ca5978c83967e",
            "8c9a181128754bea8641eb18d705aef1",
            "b0873c96ea3340ffa690507fb10efbfb",
            "e5e5aa42235a42809c3f381b991d41e0",
            "3ce150d864c146c087a3fb793cf6a00b",
            "34398f8ed86545aaa5bd487ba68e446b",
            "2541e8397d8046df8f3cafd1c7f9f294",
            "632aaa834393411e9fa134c668fdf968",
            "c66eed2442724484aa64916b2df55d34",
            "656fa323f23349a798ac9ffd8b82a602",
            "daea3636f8c24c3d8023077db312b001",
            "ee5a903ec636400b86f08adc1ea20f57",
            "be82f81ec2ac480b9694bdf47fd47ee1",
            "39d1eb83bdb844788b6f37456b8f0ca4",
            "2e85494667a34838b1d5903e449fa1e4",
            "4d9f47da68664577b59a08f558ea5fdd",
            "f3df0d59047449019c10e4210b090745",
            "1e68cd64afd34eea829144128bafe0ac",
            "1ce95d15809045d2b04a990dd76016c4",
            "0caa4118e28e41cfbf667635f892f86f",
            "95d6e188477646e895a36f7995f26da2",
            "79e9d7f2bc224b0ba9833097f98c9b3c",
            "72c78eac530f43d09265141a3e60bf17",
            "854a8fd5b1ca48099cd4f8f50f86f008",
            "1baa4fe58e8d46c19f19759dd8670205",
            "e9f58b13dc94419eb7912ee0c9400e60",
            "2b7d6f930ee84ae2880204665cecd744",
            "0bd4e2155e12411d9139c8520c687087",
            "99d463d318b84b9099d586726ac5e63d",
            "60af496ea4554d548f478042f99cf45a",
            "85f96f8a31d049338627f5ef13fbb029",
            "b3b66f9afdb348db8063972e1c622b16",
            "58a64a23ae394663816f347f9f14b7b7",
            "a962714e84b44e63b46cc912c7126356",
            "90f5e5dc83e641a7a8e8b9c9e340cb9e",
            "718f0934483c453d80920f353491cc18",
            "91579e72e4d84fb79cd578bd8a5706ff",
            "61b2ed653ff943f8a8d14992f86f007f",
            "06fc7f5e737348a485fa805eeba643c3",
            "751acca5b40746528ab291d6a626e1d1",
            "a4155dab8004400d95640647f15a9ff8",
            "59dc25025b234f71868c69f88f45a9cf",
            "7e5ffbfdfc2e4bc29610bb823dccebe0",
            "487a9f899f014be4a2c3e0599d013969",
            "513c37913b98402cbe553cfd05d6961c",
            "52d8a6b2f613477e8ffeefcb7031715b",
            "98e1d4701a364b08bba1b552f0f2dca0",
            "a9ed6c72056f4310a02625cff57d623c",
            "74b8d444ad4e42be85fab20743a3d072",
            "1ccbeb20cc7e483cbcb1a789ffd7672c",
            "18d34955850c4b6ea8d8c7f535994bd3",
            "d1702727308b4f8c93d1ac85b84ef348",
            "c5e0da8f115d49df80fb959b36b4e775",
            "0d9f6291d90c48f08ed32b8833a903e4",
            "a98b67b43f2a442896180ddc40d732f5",
            "59744177f4b14421bf3ac096556956f0",
            "65bda89a981c46c38f012e3370ef64c5",
            "68488170577540fda3a60dd9f66db263",
            "be33aaf4fb32470398db484e454d2662",
            "d026e85ff10a41f1adb0658c24a6c46c",
            "c4eaf892f63b4ed2b24664652f5be0a8",
            "c2cf971fdf32443fa34c09c0c636e219",
            "6cab00414979493f944cb6a266507caa",
            "bead467db8b444bbba3080441a6fa839",
            "dcf95b2e9d404eec8ee646931d4841b6",
            "004a2518c9a64bd8a5a16f3bf84b5eff",
            "0fbb4f3acc934cc38043274e51506a1a",
            "6a054ed95c7d4cab904cda5637831758",
            "812c100cebb449858fdf50b5654d1142",
            "1b2c57225eb64d38acfb40875d22e13c",
            "c916b594334b440896e9951b736971f2",
            "0564da914e6047e0817d5167cdc7e872",
            "b7fe36177ab04e9f9d3180c9d8ecdceb",
            "bd9231f39c68408a8c31dff27f11a1a5",
            "5e637dab4ffb4940bd96a99f5022ee43",
            "09905d81d37b460b807d21a4642df984",
            "64b9e35d4f63428e9411c851d72cb08a",
            "31d1d50bcd4d43aaae58054b9e9d514f",
            "35587fb6aa35490b9acd884b4b30020f",
            "3d4d2db6bfe14a68bf7fe8e91ec16760",
            "c2f5ba5429a54b9881120522dc5b4e68",
            "cf28ca8deaa24c379a62c1476a5d90f3",
            "e944c21354e14a589703448ccd902d28",
            "76408d3023ec4037924262f13edc183f",
            "524d9cf65f074e9ab1fcc5804871ea40",
            "c3a8d4e1558b497799a6f28eddd97a86",
            "5a655b75cade4725b60ea97e0b03afc7",
            "1bdd47aead604bff98e68998ae189a8b",
            "e05a01e64f624c128b59e4473c4f468f",
            "541d2b924eb441dbb0fad9929da50376",
            "27e67d6cc187469cad8eef0999e17326",
            "49b9ada647af4345ad3714a6c2398835",
            "ed644e472bd842c090c156b5b6354c52",
            "2d1c9a01d5244e3196915f500ca9f850",
            "41a1c7e5cf754e81b7588cc4ef0f3031",
            "bfe3db011e8d461ca8200c86a73f704b",
            "7f11251cf07942a89c22439a1226e5cf"
          ]
        },
        "id": "lwnLK3hbS_C1",
        "outputId": "a86f45d2-df52-47b5-935c-6aa1d2ce80dc"
      },
      "execution_count": null,
      "outputs": [
        {
          "output_type": "display_data",
          "data": {
            "text/plain": [
              "<IPython.core.display.HTML object>"
            ],
            "text/html": [
              "\n",
              "            <style>\n",
              "                .geemap-dark {\n",
              "                    --jp-widgets-color: white;\n",
              "                    --jp-widgets-label-color: white;\n",
              "                    --jp-ui-font-color1: white;\n",
              "                    --jp-layout-color2: #454545;\n",
              "                    background-color: #383838;\n",
              "                }\n",
              "\n",
              "                .geemap-dark .jupyter-button {\n",
              "                    --jp-layout-color3: #383838;\n",
              "                }\n",
              "\n",
              "                .geemap-colab {\n",
              "                    background-color: var(--colab-primary-surface-color, white);\n",
              "                }\n",
              "\n",
              "                .geemap-colab .jupyter-button {\n",
              "                    --jp-layout-color3: var(--colab-primary-surface-color, white);\n",
              "                }\n",
              "            </style>\n",
              "            "
            ]
          },
          "metadata": {}
        },
        {
          "output_type": "display_data",
          "data": {
            "text/plain": [
              "Map(bottom=4525.0, center=[-5.659718554577286, 48.27392578125001], controls=(WidgetControl(options=['position'…"
            ],
            "application/vnd.jupyter.widget-view+json": {
              "version_major": 2,
              "version_minor": 0,
              "model_id": "55682e99f3614135b713e09290a8bbb2"
            }
          },
          "metadata": {
            "application/vnd.jupyter.widget-view+json": {
              "colab": {
                "custom_widget_manager": {
                  "url": "https://ssl.gstatic.com/colaboratory-static/widgets/colab-cdn-widget-manager/2b70e893a8ba7c0f/manager.min.js"
                }
              }
            }
          }
        }
      ]
    },
    {
      "cell_type": "code",
      "source": [
        "# Reduce Regions to Counties\n",
        "class_2010_n = img_2010_r.reduceRegions(**{\n",
        "    'collection':newzones,\n",
        "    'reducer': ee.Reducer.median(),\n",
        "    'scale': scale,\n",
        "     'crs':'EPSG:4326'\n",
        "})\n",
        "\n"
      ],
      "metadata": {
        "colab": {
          "base_uri": "https://localhost:8080/",
          "height": 17
        },
        "id": "m3bQ10xpWhHw",
        "outputId": "58ca8607-8ff1-4f7a-db15-ec37014f5c44"
      },
      "execution_count": null,
      "outputs": [
        {
          "output_type": "display_data",
          "data": {
            "text/plain": [
              "<IPython.core.display.HTML object>"
            ],
            "text/html": [
              "\n",
              "            <style>\n",
              "                .geemap-dark {\n",
              "                    --jp-widgets-color: white;\n",
              "                    --jp-widgets-label-color: white;\n",
              "                    --jp-ui-font-color1: white;\n",
              "                    --jp-layout-color2: #454545;\n",
              "                    background-color: #383838;\n",
              "                }\n",
              "\n",
              "                .geemap-dark .jupyter-button {\n",
              "                    --jp-layout-color3: #383838;\n",
              "                }\n",
              "\n",
              "                .geemap-colab {\n",
              "                    background-color: var(--colab-primary-surface-color, white);\n",
              "                }\n",
              "\n",
              "                .geemap-colab .jupyter-button {\n",
              "                    --jp-layout-color3: var(--colab-primary-surface-color, white);\n",
              "                }\n",
              "            </style>\n",
              "            "
            ]
          },
          "metadata": {}
        }
      ]
    },
    {
      "cell_type": "code",
      "source": [
        "# class_2010_n = class_2010_n.map(lambda f: ee.Algorithms.If(f.geometry().coordinates().size(), f, None))"
      ],
      "metadata": {
        "colab": {
          "base_uri": "https://localhost:8080/",
          "height": 17
        },
        "collapsed": true,
        "id": "6vANx2ERXD8E",
        "outputId": "8bf1eb12-2d4a-419b-ac2f-c452178928d9"
      },
      "execution_count": null,
      "outputs": [
        {
          "output_type": "display_data",
          "data": {
            "text/plain": [
              "<IPython.core.display.HTML object>"
            ],
            "text/html": [
              "\n",
              "            <style>\n",
              "                .geemap-dark {\n",
              "                    --jp-widgets-color: white;\n",
              "                    --jp-widgets-label-color: white;\n",
              "                    --jp-ui-font-color1: white;\n",
              "                    --jp-layout-color2: #454545;\n",
              "                    background-color: #383838;\n",
              "                }\n",
              "\n",
              "                .geemap-dark .jupyter-button {\n",
              "                    --jp-layout-color3: #383838;\n",
              "                }\n",
              "\n",
              "                .geemap-colab {\n",
              "                    background-color: var(--colab-primary-surface-color, white);\n",
              "                }\n",
              "\n",
              "                .geemap-colab .jupyter-button {\n",
              "                    --jp-layout-color3: var(--colab-primary-surface-color, white);\n",
              "                }\n",
              "            </style>\n",
              "            "
            ]
          },
          "metadata": {}
        }
      ]
    },
    {
      "cell_type": "code",
      "source": [
        "# class_2010_n.aggregate_count('constant').getInfo()"
      ],
      "metadata": {
        "colab": {
          "base_uri": "https://localhost:8080/",
          "height": 35
        },
        "id": "tCx51-smTMVG",
        "outputId": "f36cbf73-e8e6-45b5-e459-5cb6b5578325"
      },
      "execution_count": null,
      "outputs": [
        {
          "output_type": "display_data",
          "data": {
            "text/plain": [
              "<IPython.core.display.HTML object>"
            ],
            "text/html": [
              "\n",
              "            <style>\n",
              "                .geemap-dark {\n",
              "                    --jp-widgets-color: white;\n",
              "                    --jp-widgets-label-color: white;\n",
              "                    --jp-ui-font-color1: white;\n",
              "                    --jp-layout-color2: #454545;\n",
              "                    background-color: #383838;\n",
              "                }\n",
              "\n",
              "                .geemap-dark .jupyter-button {\n",
              "                    --jp-layout-color3: #383838;\n",
              "                }\n",
              "\n",
              "                .geemap-colab {\n",
              "                    background-color: var(--colab-primary-surface-color, white);\n",
              "                }\n",
              "\n",
              "                .geemap-colab .jupyter-button {\n",
              "                    --jp-layout-color3: var(--colab-primary-surface-color, white);\n",
              "                }\n",
              "            </style>\n",
              "            "
            ]
          },
          "metadata": {}
        },
        {
          "output_type": "execute_result",
          "data": {
            "text/plain": [
              "0"
            ]
          },
          "metadata": {},
          "execution_count": 377
        }
      ]
    },
    {
      "cell_type": "code",
      "source": [
        "# Reduce Regions to Counties\n",
        "class_2010_n = img_2010_r.reduceRegions(**{\n",
        "    'collection':newzones,\n",
        "    'reducer': ee.Reducer.median(),\n",
        "    'scale': scale,\n",
        "     'crs':'EPSG:4326'\n",
        "})\n",
        "\n",
        "task = ee.batch.Export.table.toDrive(collection=class_2010_n, folder='ee_demos', description='class_2010_n', fileFormat='SHP')\n",
        "task.start()"
      ],
      "metadata": {
        "colab": {
          "base_uri": "https://localhost:8080/",
          "height": 17
        },
        "id": "UL0KOXR6W00m",
        "outputId": "02122d71-477b-42e8-805d-73f6e5614246"
      },
      "execution_count": null,
      "outputs": [
        {
          "output_type": "display_data",
          "data": {
            "text/plain": [
              "<IPython.core.display.HTML object>"
            ],
            "text/html": [
              "\n",
              "            <style>\n",
              "                .geemap-dark {\n",
              "                    --jp-widgets-color: white;\n",
              "                    --jp-widgets-label-color: white;\n",
              "                    --jp-ui-font-color1: white;\n",
              "                    --jp-layout-color2: #454545;\n",
              "                    background-color: #383838;\n",
              "                }\n",
              "\n",
              "                .geemap-dark .jupyter-button {\n",
              "                    --jp-layout-color3: #383838;\n",
              "                }\n",
              "\n",
              "                .geemap-colab {\n",
              "                    background-color: var(--colab-primary-surface-color, white);\n",
              "                }\n",
              "\n",
              "                .geemap-colab .jupyter-button {\n",
              "                    --jp-layout-color3: var(--colab-primary-surface-color, white);\n",
              "                }\n",
              "            </style>\n",
              "            "
            ]
          },
          "metadata": {}
        }
      ]
    },
    {
      "cell_type": "code",
      "execution_count": null,
      "metadata": {
        "id": "o2JdYUNn21yi",
        "colab": {
          "base_uri": "https://localhost:8080/",
          "height": 17
        },
        "outputId": "7646862d-3f5b-40d7-a08e-502f36860955"
      },
      "outputs": [
        {
          "output_type": "display_data",
          "data": {
            "text/plain": [
              "<IPython.core.display.HTML object>"
            ],
            "text/html": [
              "\n",
              "            <style>\n",
              "                .geemap-dark {\n",
              "                    --jp-widgets-color: white;\n",
              "                    --jp-widgets-label-color: white;\n",
              "                    --jp-ui-font-color1: white;\n",
              "                    --jp-layout-color2: #454545;\n",
              "                    background-color: #383838;\n",
              "                }\n",
              "\n",
              "                .geemap-dark .jupyter-button {\n",
              "                    --jp-layout-color3: #383838;\n",
              "                }\n",
              "\n",
              "                .geemap-colab {\n",
              "                    background-color: var(--colab-primary-surface-color, white);\n",
              "                }\n",
              "\n",
              "                .geemap-colab .jupyter-button {\n",
              "                    --jp-layout-color3: var(--colab-primary-surface-color, white);\n",
              "                }\n",
              "            </style>\n",
              "            "
            ]
          },
          "metadata": {}
        }
      ],
      "source": [
        "# task = ee.batch.Export.image.toAsset(**{\n",
        "#   'image': classified,\n",
        "#   'description': 'Class2010',\n",
        "#   'assetId': 'users/Prod/Outputs/Class2010_newZ',\n",
        "#   'scale': 463.31271652791656,\n",
        "#   'region': county.geometry()\n",
        "#  })\n",
        "# task.start()"
      ]
    },
    {
      "cell_type": "code",
      "source": [
        "# task = ee.batch.Export.image.toDrive(**{\n",
        "#   'image': classified,\n",
        "#   'description': 'Class2010',\n",
        "#   'folder':'ee_demos',\n",
        "#   'scale': scale,\n",
        "#   'region': AOI,\n",
        "#   'crs':'EPSG:4326'\n",
        "#  })\n",
        "\n",
        "# # task.start()"
      ],
      "metadata": {
        "id": "aL0YXqnEDNUi",
        "colab": {
          "base_uri": "https://localhost:8080/",
          "height": 17
        },
        "outputId": "2bfbf790-f983-44c9-822e-9bba53ed62d2"
      },
      "execution_count": null,
      "outputs": [
        {
          "output_type": "display_data",
          "data": {
            "text/plain": [
              "<IPython.core.display.HTML object>"
            ],
            "text/html": [
              "\n",
              "            <style>\n",
              "                .geemap-dark {\n",
              "                    --jp-widgets-color: white;\n",
              "                    --jp-widgets-label-color: white;\n",
              "                    --jp-ui-font-color1: white;\n",
              "                    --jp-layout-color2: #454545;\n",
              "                    background-color: #383838;\n",
              "                }\n",
              "\n",
              "                .geemap-dark .jupyter-button {\n",
              "                    --jp-layout-color3: #383838;\n",
              "                }\n",
              "\n",
              "                .geemap-colab {\n",
              "                    background-color: var(--colab-primary-surface-color, white);\n",
              "                }\n",
              "\n",
              "                .geemap-colab .jupyter-button {\n",
              "                    --jp-layout-color3: var(--colab-primary-surface-color, white);\n",
              "                }\n",
              "            </style>\n",
              "            "
            ]
          },
          "metadata": {}
        }
      ]
    },
    {
      "cell_type": "code",
      "execution_count": null,
      "metadata": {
        "id": "NbwFtAz0HKCJ",
        "colab": {
          "base_uri": "https://localhost:8080/",
          "height": 231
        },
        "outputId": "aacec19d-e9e8-4fc7-b082-82cbc298500d"
      },
      "outputs": [
        {
          "output_type": "display_data",
          "data": {
            "text/plain": [
              "<IPython.core.display.HTML object>"
            ],
            "text/html": [
              "\n",
              "            <style>\n",
              "                .geemap-dark {\n",
              "                    --jp-widgets-color: white;\n",
              "                    --jp-widgets-label-color: white;\n",
              "                    --jp-ui-font-color1: white;\n",
              "                    --jp-layout-color2: #454545;\n",
              "                    background-color: #383838;\n",
              "                }\n",
              "\n",
              "                .geemap-dark .jupyter-button {\n",
              "                    --jp-layout-color3: #383838;\n",
              "                }\n",
              "\n",
              "                .geemap-colab {\n",
              "                    background-color: var(--colab-primary-surface-color, white);\n",
              "                }\n",
              "\n",
              "                .geemap-colab .jupyter-button {\n",
              "                    --jp-layout-color3: var(--colab-primary-surface-color, white);\n",
              "                }\n",
              "            </style>\n",
              "            "
            ]
          },
          "metadata": {}
        },
        {
          "output_type": "execute_result",
          "data": {
            "text/plain": [
              "{'state': 'COMPLETED',\n",
              " 'description': 'class_2010_n',\n",
              " 'priority': 100,\n",
              " 'creation_timestamp_ms': 1740645432524,\n",
              " 'update_timestamp_ms': 1740645503018,\n",
              " 'start_timestamp_ms': 1740645440032,\n",
              " 'task_type': 'EXPORT_FEATURES',\n",
              " 'destination_uris': ['https://drive.google.com/#folders/1PnnfRcWoguMmhUR6tgBDpXFIi7ueBPJR'],\n",
              " 'attempt': 1,\n",
              " 'batch_eecu_usage_seconds': 75.51627349853516,\n",
              " 'id': 'OXNH7TD3P42OYPNUPY7FYYOG',\n",
              " 'name': 'projects/ee-maizeyield/operations/OXNH7TD3P42OYPNUPY7FYYOG'}"
            ]
          },
          "metadata": {},
          "execution_count": 416
        }
      ],
      "source": [
        "task.status()"
      ]
    },
    {
      "cell_type": "markdown",
      "metadata": {
        "id": "gFOHUlLgG2z_"
      },
      "source": [
        "# 2011"
      ]
    },
    {
      "cell_type": "code",
      "execution_count": null,
      "metadata": {
        "id": "mKNWKrc1Eu0k",
        "colab": {
          "base_uri": "https://localhost:8080/",
          "height": 17
        },
        "outputId": "d2391c7a-dced-4a62-a729-ade9c0e9f6c7"
      },
      "outputs": [
        {
          "output_type": "display_data",
          "data": {
            "text/plain": [
              "<IPython.core.display.HTML object>"
            ],
            "text/html": [
              "\n",
              "            <style>\n",
              "                .geemap-dark {\n",
              "                    --jp-widgets-color: white;\n",
              "                    --jp-widgets-label-color: white;\n",
              "                    --jp-ui-font-color1: white;\n",
              "                    --jp-layout-color2: #454545;\n",
              "                    background-color: #383838;\n",
              "                }\n",
              "\n",
              "                .geemap-dark .jupyter-button {\n",
              "                    --jp-layout-color3: #383838;\n",
              "                }\n",
              "\n",
              "                .geemap-colab {\n",
              "                    background-color: var(--colab-primary-surface-color, white);\n",
              "                }\n",
              "\n",
              "                .geemap-colab .jupyter-button {\n",
              "                    --jp-layout-color3: var(--colab-primary-surface-color, white);\n",
              "                }\n",
              "            </style>\n",
              "            "
            ]
          },
          "metadata": {}
        }
      ],
      "source": [
        "year ='2011'\n",
        "start = ee.Date('2011-04-01')\n",
        "end = ee.Date('2011-08-31')\n",
        "scale = 463.31271652791656"
      ]
    },
    {
      "cell_type": "code",
      "execution_count": null,
      "metadata": {
        "id": "ivTZhU6rEvh0",
        "colab": {
          "base_uri": "https://localhost:8080/",
          "height": 17
        },
        "outputId": "9220b7ba-e736-498f-fb72-6f1fad493abe"
      },
      "outputs": [
        {
          "output_type": "display_data",
          "data": {
            "text/plain": [
              "<IPython.core.display.HTML object>"
            ],
            "text/html": [
              "\n",
              "            <style>\n",
              "                .geemap-dark {\n",
              "                    --jp-widgets-color: white;\n",
              "                    --jp-widgets-label-color: white;\n",
              "                    --jp-ui-font-color1: white;\n",
              "                    --jp-layout-color2: #454545;\n",
              "                    background-color: #383838;\n",
              "                }\n",
              "\n",
              "                .geemap-dark .jupyter-button {\n",
              "                    --jp-layout-color3: #383838;\n",
              "                }\n",
              "\n",
              "                .geemap-colab {\n",
              "                    background-color: var(--colab-primary-surface-color, white);\n",
              "                }\n",
              "\n",
              "                .geemap-colab .jupyter-button {\n",
              "                    --jp-layout-color3: var(--colab-primary-surface-color, white);\n",
              "                }\n",
              "            </style>\n",
              "            "
            ]
          },
          "metadata": {}
        }
      ],
      "source": [
        "era5d_prec = era5_tp_mean_.select(era5_tp_mean_.bandNames().getInfo()[1]).rename('era5d_prec')\n",
        "# era5_wind = era5_u_wind_10m_mean_.select(era5_u_wind_10m_mean_.bandNames().getInfo()[1]).rename('era5_wind')\n",
        "# era5m_wind = era5_u_wind_10monthly_mean_.select(era5_u_wind_10monthly_mean_.bandNames().getInfo()[1]).rename('era5m_wind')\n",
        "# era5m_prec = era5_monthly_mean_.select(era5_monthly_mean_.bandNames().getInfo()[1]).rename('era5m_prec')\n",
        "# era5_mean_temp = era5_mean_temp_mean_.select(era5_mean_temp_mean_.bandNames().getInfo()[1]).rename('era5_mean_temp')\n",
        "era5_min_temp =  era5_min_temp_mean_.select(era5_min_temp_mean_.bandNames().getInfo()[1]).rename('era5_min_temp')\n",
        "# era5_max_temp = era5_max_temp_mean_.select(era5_max_temp_mean_.bandNames().getInfo()[1]).rename('era5_max_temp')\n",
        "# era5m_mean_temp = era5m_temp_mean_.select(era5m_temp_mean_.bandNames().getInfo()[1]).rename('era5m_mean_temp')\n",
        "# era5m_min_temp = era5m_min_temp_mean_.select(era5m_min_temp_mean_.bandNames().getInfo()[1]).rename('era5m_min_temp')\n",
        "# era5m_max_temp = era5m_max_temp_mean_.select(era5m_max_temp_mean_.bandNames().getInfo()[1]).rename('era5m_max_temp')\n",
        "chirpsd_prec =chirps_d_mean_.select(chirps_d_mean_.bandNames().getInfo()[1]).rename('chirpsd_prec')\n",
        "# chirpsm_prec =chirps_m_mean_.select(chirps_m_mean_.bandNames().getInfo()[1]).rename('chirpsm_prec')\n",
        "# mod_lst = modislst_m_mean_.select(modislst_m_mean_.bandNames().getInfo()[1]).rename('mod_lst')\n",
        "gpp = gpp_prep(gpp_col,AOI,year).toBands().select(gpp_prep(gpp_col,AOI,year).toBands().bandNames()).rename('gpp')\n",
        "npp = npp_prep(npp_col,AOI,year).toBands().select(npp_prep(npp_col,AOI,year).toBands().bandNames()).rename('npp')\n",
        "wdvi = l8_2011.select('wdvi')\n",
        "gli = l8_2011.select('gli')\n",
        "gvi =l8_2011.select('gvi')\n",
        "arvi2 =l8_2011.select('arvi2')\n",
        "\n"
      ]
    },
    {
      "cell_type": "code",
      "source": [
        "img_2011 = era5d_prec.addBands(era5_min_temp)\\\n",
        ".addBands(chirpsd_prec)\\\n",
        ".addBands(npp)\\\n",
        ".addBands(gpp)\\\n",
        ".addBands(wdvi)\\\n",
        ".addBands(gli)\\\n",
        ".addBands(gvi)\\\n",
        ".addBands(arvi2)\n",
        "\n",
        "# .addBands(era5m_min_temp)\\# .addBands(era5m_wind)\\\n",
        "# .addBands(era5m_max_temp)\\\n",
        "# .addBands(chirpsd_prec)\\# .addBands(gpp)\\\n",
        "# .addBands(npp)\\\n",
        "# .addBands(mod_lst)"
      ],
      "metadata": {
        "id": "48HjMz1vXdb9",
        "colab": {
          "base_uri": "https://localhost:8080/",
          "height": 17
        },
        "outputId": "b1cd7d09-8ab5-49cd-be84-3ff1d17cc3d1"
      },
      "execution_count": null,
      "outputs": [
        {
          "output_type": "display_data",
          "data": {
            "text/plain": [
              "<IPython.core.display.HTML object>"
            ],
            "text/html": [
              "\n",
              "            <style>\n",
              "                .geemap-dark {\n",
              "                    --jp-widgets-color: white;\n",
              "                    --jp-widgets-label-color: white;\n",
              "                    --jp-ui-font-color1: white;\n",
              "                    --jp-layout-color2: #454545;\n",
              "                    background-color: #383838;\n",
              "                }\n",
              "\n",
              "                .geemap-dark .jupyter-button {\n",
              "                    --jp-layout-color3: #383838;\n",
              "                }\n",
              "\n",
              "                .geemap-colab {\n",
              "                    background-color: var(--colab-primary-surface-color, white);\n",
              "                }\n",
              "\n",
              "                .geemap-colab .jupyter-button {\n",
              "                    --jp-layout-color3: var(--colab-primary-surface-color, white);\n",
              "                }\n",
              "            </style>\n",
              "            "
            ]
          },
          "metadata": {}
        }
      ]
    },
    {
      "cell_type": "code",
      "source": [
        "# img_2010_repr = img_2010.reproject(crs='EPSG:4326', scale=500)\n",
        "era5d_prec_r = era5d_prec.resample().reproject(rsn2)\n",
        "# era5_wind = era5_u_wind_10m_mean_.select(era5_u_wind_10m_mean_.bandNames().getInfo()[0]).rename('era5_wind')\n",
        "# era5m_wind = era5_u_wind_10monthly_mean_.select(era5_u_wind_10monthly_mean_.bandNames().getInfo()[0]).rename('era5m_wind')\n",
        "# era5m_prec = era5_monthly_mean_.select(era5_monthly_mean_.bandNames().getInfo()[0]).rename('era5m_prec')\n",
        "# era5_mean_temp = era5_mean_temp_mean_.select(era5_mean_temp_mean_.bandNames().getInfo()[0]).rename('era5_mean_temp')\n",
        "era5_min_temp_r =  era5_min_temp.resample().reproject(rsn2)\n",
        "# era5_max_temp = era5_max_temp_mean_.select(era5_max_temp_mean_.bandNames().getInfo()[0]).rename('era5_max_temp')\n",
        "# era5m_mean_temp = era5m_temp_mean_.select(era5m_temp_mean_.bandNames().getInfo()[0]).rename('era5m_mean_temp')\n",
        "# era5m_min_temp = era5m_min_temp_mean_.select(era5m_min_temp_mean_.bandNames().getInfo()[0]).rename('era5m_min_temp')\n",
        "# era5m_max_temp = era5m_max_temp_mean_.select(era5m_max_temp_mean_.bandNames().getInfo()[0]).rename('era5m_max_temp')\n",
        "chirpsd_prec_r =chirpsd_prec.resample().reproject(rsn2)\n",
        "# chirpsm_prec =chirps_m_mean_.select(chirps_m_mean_.bandNames().getInfo()[0]).rename('chirpsm_prec')\n",
        "# mod_lst = modislst_m_mean_.select(modislst_m_mean_.bandNames().getInfo()[0]).rename('mod_lst')\n",
        "gpp_r = gpp.reproject(rsn2)\n",
        "npp_r = npp.reproject(rsn2)\n",
        "wdvi_r = wdvi.reproject(rsn2)\n",
        "gli_r = gli.reproject(rsn2)\n",
        "gvi_r = gvi.reproject(rsn2)\n",
        "arvi2_r =arvi2.reproject(rsn2)"
      ],
      "metadata": {
        "id": "yGrvZMGmXO-K",
        "colab": {
          "base_uri": "https://localhost:8080/",
          "height": 17
        },
        "outputId": "54b808e2-c783-4738-b350-f3ccc55acb99"
      },
      "execution_count": null,
      "outputs": [
        {
          "output_type": "display_data",
          "data": {
            "text/plain": [
              "<IPython.core.display.HTML object>"
            ],
            "text/html": [
              "\n",
              "            <style>\n",
              "                .geemap-dark {\n",
              "                    --jp-widgets-color: white;\n",
              "                    --jp-widgets-label-color: white;\n",
              "                    --jp-ui-font-color1: white;\n",
              "                    --jp-layout-color2: #454545;\n",
              "                    background-color: #383838;\n",
              "                }\n",
              "\n",
              "                .geemap-dark .jupyter-button {\n",
              "                    --jp-layout-color3: #383838;\n",
              "                }\n",
              "\n",
              "                .geemap-colab {\n",
              "                    background-color: var(--colab-primary-surface-color, white);\n",
              "                }\n",
              "\n",
              "                .geemap-colab .jupyter-button {\n",
              "                    --jp-layout-color3: var(--colab-primary-surface-color, white);\n",
              "                }\n",
              "            </style>\n",
              "            "
            ]
          },
          "metadata": {}
        }
      ]
    },
    {
      "cell_type": "code",
      "source": [
        "img_2011_r = era5d_prec_r.addBands(era5_min_temp_r)\\\n",
        ".addBands(chirpsd_prec_r)\\\n",
        ".addBands(npp_r)\\\n",
        ".addBands(gpp_r)\\\n",
        ".addBands(wdvi_r)\\\n",
        ".addBands(gli_r)\\\n",
        ".addBands(gvi_r)\\\n",
        ".addBands(arvi2_r)"
      ],
      "metadata": {
        "id": "qU8GfUdqXuZT",
        "colab": {
          "base_uri": "https://localhost:8080/",
          "height": 17
        },
        "outputId": "c458f2bd-d414-41f0-a15f-f57b427c68be"
      },
      "execution_count": null,
      "outputs": [
        {
          "output_type": "display_data",
          "data": {
            "text/plain": [
              "<IPython.core.display.HTML object>"
            ],
            "text/html": [
              "\n",
              "            <style>\n",
              "                .geemap-dark {\n",
              "                    --jp-widgets-color: white;\n",
              "                    --jp-widgets-label-color: white;\n",
              "                    --jp-ui-font-color1: white;\n",
              "                    --jp-layout-color2: #454545;\n",
              "                    background-color: #383838;\n",
              "                }\n",
              "\n",
              "                .geemap-dark .jupyter-button {\n",
              "                    --jp-layout-color3: #383838;\n",
              "                }\n",
              "\n",
              "                .geemap-colab {\n",
              "                    background-color: var(--colab-primary-surface-color, white);\n",
              "                }\n",
              "\n",
              "                .geemap-colab .jupyter-button {\n",
              "                    --jp-layout-color3: var(--colab-primary-surface-color, white);\n",
              "                }\n",
              "            </style>\n",
              "            "
            ]
          },
          "metadata": {}
        }
      ]
    },
    {
      "cell_type": "code",
      "source": [
        "# classify the image again but with the classifier from the persisted trees\n",
        "classified = img_2011_r.select(feature_names).classify(another_classifier)\n",
        "# Reduce Regions to Counties\n",
        "class_2011 = classified.reduceRegions(**{\n",
        "    'collection':AOI,\n",
        "    'reducer': ee.Reducer.mean(),\n",
        "    'scale': scale\n",
        "})\n",
        "# task = ee.batch.Export.image.toAsset(**{\n",
        "#   'image': classified,\n",
        "#   'description': 'Class2011',\n",
        "#   'assetId': 'users/Prod/Outputs/Out5k/Class2011',\n",
        "#   'scale': scale,\n",
        "#   'region': county.geometry()\n",
        "# })\n",
        "\n",
        "# task.start()"
      ],
      "metadata": {
        "id": "TQRJ_LmhXZ3V",
        "colab": {
          "base_uri": "https://localhost:8080/",
          "height": 17
        },
        "outputId": "15d25425-fbce-4cd8-9a92-3657a0188ef0"
      },
      "execution_count": null,
      "outputs": [
        {
          "output_type": "display_data",
          "data": {
            "text/plain": [
              "<IPython.core.display.HTML object>"
            ],
            "text/html": [
              "\n",
              "            <style>\n",
              "                .geemap-dark {\n",
              "                    --jp-widgets-color: white;\n",
              "                    --jp-widgets-label-color: white;\n",
              "                    --jp-ui-font-color1: white;\n",
              "                    --jp-layout-color2: #454545;\n",
              "                    background-color: #383838;\n",
              "                }\n",
              "\n",
              "                .geemap-dark .jupyter-button {\n",
              "                    --jp-layout-color3: #383838;\n",
              "                }\n",
              "\n",
              "                .geemap-colab {\n",
              "                    background-color: var(--colab-primary-surface-color, white);\n",
              "                }\n",
              "\n",
              "                .geemap-colab .jupyter-button {\n",
              "                    --jp-layout-color3: var(--colab-primary-surface-color, white);\n",
              "                }\n",
              "            </style>\n",
              "            "
            ]
          },
          "metadata": {}
        }
      ]
    },
    {
      "cell_type": "code",
      "source": [
        "# Reduce Regions to Counties\n",
        "class_2011_n = img_2011_r.reduceRegions(**{\n",
        "    'collection':newzones,\n",
        "    'reducer': ee.Reducer.median(),\n",
        "    'scale': scale,\n",
        "     'crs':'EPSG:4326'\n",
        "})\n",
        "\n",
        "task = ee.batch.Export.table.toDrive(collection=class_2011_n, folder='ee_demos', description='class_2011_n', fileFormat='SHP')\n",
        "task.start()"
      ],
      "metadata": {
        "colab": {
          "base_uri": "https://localhost:8080/",
          "height": 17
        },
        "id": "s16NM7r_kKdl",
        "outputId": "d45957a2-035e-45cf-b9cf-d052049eeec1"
      },
      "execution_count": null,
      "outputs": [
        {
          "output_type": "display_data",
          "data": {
            "text/plain": [
              "<IPython.core.display.HTML object>"
            ],
            "text/html": [
              "\n",
              "            <style>\n",
              "                .geemap-dark {\n",
              "                    --jp-widgets-color: white;\n",
              "                    --jp-widgets-label-color: white;\n",
              "                    --jp-ui-font-color1: white;\n",
              "                    --jp-layout-color2: #454545;\n",
              "                    background-color: #383838;\n",
              "                }\n",
              "\n",
              "                .geemap-dark .jupyter-button {\n",
              "                    --jp-layout-color3: #383838;\n",
              "                }\n",
              "\n",
              "                .geemap-colab {\n",
              "                    background-color: var(--colab-primary-surface-color, white);\n",
              "                }\n",
              "\n",
              "                .geemap-colab .jupyter-button {\n",
              "                    --jp-layout-color3: var(--colab-primary-surface-color, white);\n",
              "                }\n",
              "            </style>\n",
              "            "
            ]
          },
          "metadata": {}
        }
      ]
    },
    {
      "cell_type": "code",
      "source": [
        "task = ee.batch.Export.image.toDrive(**{\n",
        "  'image': classified,\n",
        "  'description': 'Class2011',\n",
        "  'folder':'ee_demos',\n",
        "  'scale': scale,\n",
        "  'region': AOI,\n",
        "  'crs':'EPSG:4326'\n",
        " })\n",
        "\n",
        "# task.start()"
      ],
      "metadata": {
        "id": "ZofL8W-MXDr3",
        "colab": {
          "base_uri": "https://localhost:8080/",
          "height": 17
        },
        "outputId": "540ff8ca-8d35-44eb-abc5-7405a7bf18ef"
      },
      "execution_count": null,
      "outputs": [
        {
          "output_type": "display_data",
          "data": {
            "text/plain": [
              "<IPython.core.display.HTML object>"
            ],
            "text/html": [
              "\n",
              "            <style>\n",
              "                .geemap-dark {\n",
              "                    --jp-widgets-color: white;\n",
              "                    --jp-widgets-label-color: white;\n",
              "                    --jp-ui-font-color1: white;\n",
              "                    --jp-layout-color2: #454545;\n",
              "                    background-color: #383838;\n",
              "                }\n",
              "\n",
              "                .geemap-dark .jupyter-button {\n",
              "                    --jp-layout-color3: #383838;\n",
              "                }\n",
              "\n",
              "                .geemap-colab {\n",
              "                    background-color: var(--colab-primary-surface-color, white);\n",
              "                }\n",
              "\n",
              "                .geemap-colab .jupyter-button {\n",
              "                    --jp-layout-color3: var(--colab-primary-surface-color, white);\n",
              "                }\n",
              "            </style>\n",
              "            "
            ]
          },
          "metadata": {}
        }
      ]
    },
    {
      "cell_type": "code",
      "execution_count": null,
      "metadata": {
        "id": "8wvgvx6a8j-F",
        "colab": {
          "base_uri": "https://localhost:8080/",
          "height": 213
        },
        "outputId": "86350b31-b99f-4af9-9414-4be664737532"
      },
      "outputs": [
        {
          "output_type": "display_data",
          "data": {
            "text/plain": [
              "<IPython.core.display.HTML object>"
            ],
            "text/html": [
              "\n",
              "            <style>\n",
              "                .geemap-dark {\n",
              "                    --jp-widgets-color: white;\n",
              "                    --jp-widgets-label-color: white;\n",
              "                    --jp-ui-font-color1: white;\n",
              "                    --jp-layout-color2: #454545;\n",
              "                    background-color: #383838;\n",
              "                }\n",
              "\n",
              "                .geemap-dark .jupyter-button {\n",
              "                    --jp-layout-color3: #383838;\n",
              "                }\n",
              "\n",
              "                .geemap-colab {\n",
              "                    background-color: var(--colab-primary-surface-color, white);\n",
              "                }\n",
              "\n",
              "                .geemap-colab .jupyter-button {\n",
              "                    --jp-layout-color3: var(--colab-primary-surface-color, white);\n",
              "                }\n",
              "            </style>\n",
              "            "
            ]
          },
          "metadata": {}
        },
        {
          "output_type": "execute_result",
          "data": {
            "text/plain": [
              "{'state': 'RUNNING',\n",
              " 'description': 'class_2011_n',\n",
              " 'priority': 100,\n",
              " 'creation_timestamp_ms': 1740645684201,\n",
              " 'update_timestamp_ms': 1740645724397,\n",
              " 'start_timestamp_ms': 1740645694219,\n",
              " 'task_type': 'EXPORT_FEATURES',\n",
              " 'attempt': 1,\n",
              " 'batch_eecu_usage_seconds': 1.774157762,\n",
              " 'id': '2SYBQTISRU5HJ3EAPSV7XTIY',\n",
              " 'name': 'projects/ee-maizeyield/operations/2SYBQTISRU5HJ3EAPSV7XTIY'}"
            ]
          },
          "metadata": {},
          "execution_count": 453
        }
      ],
      "source": [
        " task.status()"
      ]
    },
    {
      "cell_type": "markdown",
      "metadata": {
        "id": "0FEbri4UG8Tp"
      },
      "source": [
        "\n",
        "# 2012"
      ]
    },
    {
      "cell_type": "code",
      "source": [
        "year ='2012'\n",
        "start = ee.Date('2012-04-01')\n",
        "end = ee.Date('2012-08-31')\n",
        "scale = 463.31271652791656"
      ],
      "metadata": {
        "id": "YXUwY7oUa96I",
        "colab": {
          "base_uri": "https://localhost:8080/",
          "height": 17
        },
        "outputId": "253fd095-df22-4d68-a00b-a93e9b1720ab"
      },
      "execution_count": null,
      "outputs": [
        {
          "output_type": "display_data",
          "data": {
            "text/plain": [
              "<IPython.core.display.HTML object>"
            ],
            "text/html": [
              "\n",
              "            <style>\n",
              "                .geemap-dark {\n",
              "                    --jp-widgets-color: white;\n",
              "                    --jp-widgets-label-color: white;\n",
              "                    --jp-ui-font-color1: white;\n",
              "                    --jp-layout-color2: #454545;\n",
              "                    background-color: #383838;\n",
              "                }\n",
              "\n",
              "                .geemap-dark .jupyter-button {\n",
              "                    --jp-layout-color3: #383838;\n",
              "                }\n",
              "\n",
              "                .geemap-colab {\n",
              "                    background-color: var(--colab-primary-surface-color, white);\n",
              "                }\n",
              "\n",
              "                .geemap-colab .jupyter-button {\n",
              "                    --jp-layout-color3: var(--colab-primary-surface-color, white);\n",
              "                }\n",
              "            </style>\n",
              "            "
            ]
          },
          "metadata": {}
        }
      ]
    },
    {
      "cell_type": "code",
      "execution_count": null,
      "metadata": {
        "id": "XJ1O6UsdFoXB",
        "colab": {
          "base_uri": "https://localhost:8080/",
          "height": 17
        },
        "outputId": "db300c17-b064-4f28-9ce3-32b9b58f4951"
      },
      "outputs": [
        {
          "output_type": "display_data",
          "data": {
            "text/plain": [
              "<IPython.core.display.HTML object>"
            ],
            "text/html": [
              "\n",
              "            <style>\n",
              "                .geemap-dark {\n",
              "                    --jp-widgets-color: white;\n",
              "                    --jp-widgets-label-color: white;\n",
              "                    --jp-ui-font-color1: white;\n",
              "                    --jp-layout-color2: #454545;\n",
              "                    background-color: #383838;\n",
              "                }\n",
              "\n",
              "                .geemap-dark .jupyter-button {\n",
              "                    --jp-layout-color3: #383838;\n",
              "                }\n",
              "\n",
              "                .geemap-colab {\n",
              "                    background-color: var(--colab-primary-surface-color, white);\n",
              "                }\n",
              "\n",
              "                .geemap-colab .jupyter-button {\n",
              "                    --jp-layout-color3: var(--colab-primary-surface-color, white);\n",
              "                }\n",
              "            </style>\n",
              "            "
            ]
          },
          "metadata": {}
        }
      ],
      "source": [
        "era5d_prec = era5_tp_mean_.select(era5_tp_mean_.bandNames().getInfo()[2]).rename('era5d_prec')\n",
        "# era5_wind = era5_u_wind_10m_mean_.select(era5_u_wind_10m_mean_.bandNames().getInfo()[2]).rename('era5_wind')\n",
        "# era5m_wind = era5_u_wind_10monthly_mean_.select(era5_u_wind_10monthly_mean_.bandNames().getInfo()[2]).rename('era5m_wind')\n",
        "# era5m_prec = era5_monthly_mean_.select(era5_monthly_mean_.bandNames().getInfo()[2]).rename('era5m_prec')\n",
        "# era5_mean_temp = era5_mean_temp_mean_.select(era5_mean_temp_mean_.bandNames().getInfo()[2]).rename('era5_mean_temp')\n",
        "era5_min_temp =  era5_min_temp_mean_.select(era5_min_temp_mean_.bandNames().getInfo()[2]).rename('era5_min_temp')\n",
        "# era5_max_temp = era5_max_temp_mean_.select(era5_max_temp_mean_.bandNames().getInfo()[2]).rename('era5_max_temp')\n",
        "# era5m_mean_temp = era5m_temp_mean_.select(era5m_temp_mean_.bandNames().getInfo()[2]).rename('era5m_mean_temp')\n",
        "# era5m_min_temp = era5m_min_temp_mean_.select(era5m_min_temp_mean_.bandNames().getInfo()[2]).rename('era5m_min_temp')\n",
        "# era5m_max_temp = era5m_max_temp_mean_.select(era5m_max_temp_mean_.bandNames().getInfo()[2]).rename('era5m_max_temp')\n",
        "chirpsd_prec =chirps_d_mean_.select(chirps_d_mean_.bandNames().getInfo()[2]).rename('chirpsd_prec')\n",
        "# chirpsm_prec =chirps_m_mean_.select(chirps_m_mean_.bandNames().getInfo()[2]).rename('chirpsm_prec')\n",
        "# mod_lst = modislst_m_mean_.select(modislst_m_mean_.bandNames().getInfo()[2]).rename('mod_lst')\n",
        "gpp = gpp_prep(gpp_col,AOI,year).toBands().select(gpp_prep(gpp_col,AOI,year).toBands().bandNames()).rename('gpp')\n",
        "npp = npp_prep(npp_col,AOI,year).toBands().select(npp_prep(npp_col,AOI,year).toBands().bandNames()).rename('npp')\n",
        "wdvi = l8_2012.select('wdvi')\n",
        "gli = l8_2012.select('gli')\n",
        "gvi =l8_2012.select('gvi')\n",
        "arvi2 =l8_2012.select('arvi2')\n"
      ]
    },
    {
      "cell_type": "code",
      "source": [
        "# img_2010_repr = img_2010.reproject(crs='EPSG:4326', scale=500)\n",
        "era5d_prec_r = era5d_prec.resample().reproject(rsn2)\n",
        "# era5_wind = era5_u_wind_10m_mean_.select(era5_u_wind_10m_mean_.bandNames().getInfo()[0]).rename('era5_wind')\n",
        "# era5m_wind = era5_u_wind_10monthly_mean_.select(era5_u_wind_10monthly_mean_.bandNames().getInfo()[0]).rename('era5m_wind')\n",
        "# era5m_prec = era5_monthly_mean_.select(era5_monthly_mean_.bandNames().getInfo()[0]).rename('era5m_prec')\n",
        "# era5_mean_temp = era5_mean_temp_mean_.select(era5_mean_temp_mean_.bandNames().getInfo()[0]).rename('era5_mean_temp')\n",
        "era5_min_temp_r =  era5_min_temp.resample().reproject(rsn2)\n",
        "# era5_max_temp = era5_max_temp_mean_.select(era5_max_temp_mean_.bandNames().getInfo()[0]).rename('era5_max_temp')\n",
        "# era5m_mean_temp = era5m_temp_mean_.select(era5m_temp_mean_.bandNames().getInfo()[0]).rename('era5m_mean_temp')\n",
        "# era5m_min_temp = era5m_min_temp_mean_.select(era5m_min_temp_mean_.bandNames().getInfo()[0]).rename('era5m_min_temp')\n",
        "# era5m_max_temp = era5m_max_temp_mean_.select(era5m_max_temp_mean_.bandNames().getInfo()[0]).rename('era5m_max_temp')\n",
        "chirpsd_prec_r =chirpsd_prec.resample().reproject(rsn2)\n",
        "# chirpsm_prec =chirps_m_mean_.select(chirps_m_mean_.bandNames().getInfo()[0]).rename('chirpsm_prec')\n",
        "# mod_lst = modislst_m_mean_.select(modislst_m_mean_.bandNames().getInfo()[0]).rename('mod_lst')\n",
        "gpp_r = gpp.reproject(rsn2)\n",
        "npp_r = npp.reproject(rsn2)\n",
        "wdvi_r = wdvi.reproject(rsn2)\n",
        "gli_r = gli.reproject(rsn2)\n",
        "gvi_r = gvi.reproject(rsn2)\n",
        "arvi2_r =arvi2.reproject(rsn2)\n",
        "\n",
        "img_2012_r = era5d_prec_r.addBands(era5_min_temp_r)\\\n",
        ".addBands(chirpsd_prec_r)\\\n",
        ".addBands(npp_r)\\\n",
        ".addBands(gpp_r)\\\n",
        ".addBands(wdvi_r)\\\n",
        ".addBands(gli_r)\\\n",
        ".addBands(gvi_r)\\\n",
        ".addBands(arvi2_r)\n",
        "classified = img_2012_r.select(feature_names).classify(another_classifier)\n",
        "# Reduce Regions to Counties\n",
        "class_2012 = classified.reduceRegions(**{\n",
        "    'collection':AOI,\n",
        "    'reducer': ee.Reducer.mean(),\n",
        "    'scale': scale\n",
        "})\n",
        "\n",
        "task = ee.batch.Export.image.toDrive(**{\n",
        "  'image': classified,\n",
        "  'description': 'Class2012',\n",
        "  'folder':'ee_demos',\n",
        "  'scale': scale,\n",
        "  'region': AOI,\n",
        "  'crs':'EPSG:4326'\n",
        " })\n",
        "\n",
        "# task.start()"
      ],
      "metadata": {
        "id": "x-MhGCaybh3g",
        "colab": {
          "base_uri": "https://localhost:8080/",
          "height": 17
        },
        "outputId": "6abd95e3-bded-4820-9750-ba00e1b7334f"
      },
      "execution_count": null,
      "outputs": [
        {
          "output_type": "display_data",
          "data": {
            "text/plain": [
              "<IPython.core.display.HTML object>"
            ],
            "text/html": [
              "\n",
              "            <style>\n",
              "                .geemap-dark {\n",
              "                    --jp-widgets-color: white;\n",
              "                    --jp-widgets-label-color: white;\n",
              "                    --jp-ui-font-color1: white;\n",
              "                    --jp-layout-color2: #454545;\n",
              "                    background-color: #383838;\n",
              "                }\n",
              "\n",
              "                .geemap-dark .jupyter-button {\n",
              "                    --jp-layout-color3: #383838;\n",
              "                }\n",
              "\n",
              "                .geemap-colab {\n",
              "                    background-color: var(--colab-primary-surface-color, white);\n",
              "                }\n",
              "\n",
              "                .geemap-colab .jupyter-button {\n",
              "                    --jp-layout-color3: var(--colab-primary-surface-color, white);\n",
              "                }\n",
              "            </style>\n",
              "            "
            ]
          },
          "metadata": {}
        }
      ]
    },
    {
      "cell_type": "code",
      "source": [
        "# Reduce Regions to Counties\n",
        "class_2012_n = img_2012_r.reduceRegions(**{\n",
        "    'collection':newzones,\n",
        "    'reducer': ee.Reducer.median(),\n",
        "    'scale': scale,\n",
        "     'crs':'EPSG:4326'\n",
        "})\n",
        "\n",
        "task = ee.batch.Export.table.toDrive(collection=class_2010_n, folder='ee_demos', description='class_2012_n', fileFormat='SHP')\n",
        "task.start()"
      ],
      "metadata": {
        "colab": {
          "base_uri": "https://localhost:8080/",
          "height": 17
        },
        "id": "xnHmjAcdkkBk",
        "outputId": "be316779-8ece-446c-dcc5-f1e8f2958158"
      },
      "execution_count": null,
      "outputs": [
        {
          "output_type": "display_data",
          "data": {
            "text/plain": [
              "<IPython.core.display.HTML object>"
            ],
            "text/html": [
              "\n",
              "            <style>\n",
              "                .geemap-dark {\n",
              "                    --jp-widgets-color: white;\n",
              "                    --jp-widgets-label-color: white;\n",
              "                    --jp-ui-font-color1: white;\n",
              "                    --jp-layout-color2: #454545;\n",
              "                    background-color: #383838;\n",
              "                }\n",
              "\n",
              "                .geemap-dark .jupyter-button {\n",
              "                    --jp-layout-color3: #383838;\n",
              "                }\n",
              "\n",
              "                .geemap-colab {\n",
              "                    background-color: var(--colab-primary-surface-color, white);\n",
              "                }\n",
              "\n",
              "                .geemap-colab .jupyter-button {\n",
              "                    --jp-layout-color3: var(--colab-primary-surface-color, white);\n",
              "                }\n",
              "            </style>\n",
              "            "
            ]
          },
          "metadata": {}
        }
      ]
    },
    {
      "cell_type": "code",
      "execution_count": null,
      "metadata": {
        "id": "D1Sk7vIyGQXa",
        "colab": {
          "base_uri": "https://localhost:8080/",
          "height": 35
        },
        "collapsed": true,
        "outputId": "23a6f7a2-b0b7-4c4c-8840-9f1632194068"
      },
      "outputs": [
        {
          "output_type": "display_data",
          "data": {
            "text/plain": [
              "<IPython.core.display.HTML object>"
            ],
            "text/html": [
              "\n",
              "            <style>\n",
              "                .geemap-dark {\n",
              "                    --jp-widgets-color: white;\n",
              "                    --jp-widgets-label-color: white;\n",
              "                    --jp-ui-font-color1: white;\n",
              "                    --jp-layout-color2: #454545;\n",
              "                    background-color: #383838;\n",
              "                }\n",
              "\n",
              "                .geemap-dark .jupyter-button {\n",
              "                    --jp-layout-color3: #383838;\n",
              "                }\n",
              "\n",
              "                .geemap-colab {\n",
              "                    background-color: var(--colab-primary-surface-color, white);\n",
              "                }\n",
              "\n",
              "                .geemap-colab .jupyter-button {\n",
              "                    --jp-layout-color3: var(--colab-primary-surface-color, white);\n",
              "                }\n",
              "            </style>\n",
              "            "
            ]
          },
          "metadata": {}
        },
        {
          "output_type": "execute_result",
          "data": {
            "text/plain": [
              "{'state': <State.UNSUBMITTED: 'UNSUBMITTED'>}"
            ]
          },
          "metadata": {},
          "execution_count": 469
        }
      ],
      "source": [
        "task.status()"
      ]
    },
    {
      "cell_type": "markdown",
      "metadata": {
        "id": "I7OypHRaHCrH"
      },
      "source": [
        "# 2013"
      ]
    },
    {
      "cell_type": "code",
      "source": [
        "year ='2013'\n",
        "start = ee.Date('2013-04-01')\n",
        "end = ee.Date('2013-08-31')\n",
        "scale = 463.31271652791656"
      ],
      "metadata": {
        "id": "5C0XslgOe3J_",
        "colab": {
          "base_uri": "https://localhost:8080/",
          "height": 17
        },
        "outputId": "a70ef952-febc-459b-b578-f22d1d458822"
      },
      "execution_count": null,
      "outputs": [
        {
          "output_type": "display_data",
          "data": {
            "text/plain": [
              "<IPython.core.display.HTML object>"
            ],
            "text/html": [
              "\n",
              "            <style>\n",
              "                .geemap-dark {\n",
              "                    --jp-widgets-color: white;\n",
              "                    --jp-widgets-label-color: white;\n",
              "                    --jp-ui-font-color1: white;\n",
              "                    --jp-layout-color2: #454545;\n",
              "                    background-color: #383838;\n",
              "                }\n",
              "\n",
              "                .geemap-dark .jupyter-button {\n",
              "                    --jp-layout-color3: #383838;\n",
              "                }\n",
              "\n",
              "                .geemap-colab {\n",
              "                    background-color: var(--colab-primary-surface-color, white);\n",
              "                }\n",
              "\n",
              "                .geemap-colab .jupyter-button {\n",
              "                    --jp-layout-color3: var(--colab-primary-surface-color, white);\n",
              "                }\n",
              "            </style>\n",
              "            "
            ]
          },
          "metadata": {}
        }
      ]
    },
    {
      "cell_type": "code",
      "execution_count": null,
      "metadata": {
        "id": "RAiwrp5lGUpc",
        "colab": {
          "base_uri": "https://localhost:8080/",
          "height": 17
        },
        "outputId": "559a3bc8-f7d9-4724-fb4f-3af0c4029a63"
      },
      "outputs": [
        {
          "output_type": "display_data",
          "data": {
            "text/plain": [
              "<IPython.core.display.HTML object>"
            ],
            "text/html": [
              "\n",
              "            <style>\n",
              "                .geemap-dark {\n",
              "                    --jp-widgets-color: white;\n",
              "                    --jp-widgets-label-color: white;\n",
              "                    --jp-ui-font-color1: white;\n",
              "                    --jp-layout-color2: #454545;\n",
              "                    background-color: #383838;\n",
              "                }\n",
              "\n",
              "                .geemap-dark .jupyter-button {\n",
              "                    --jp-layout-color3: #383838;\n",
              "                }\n",
              "\n",
              "                .geemap-colab {\n",
              "                    background-color: var(--colab-primary-surface-color, white);\n",
              "                }\n",
              "\n",
              "                .geemap-colab .jupyter-button {\n",
              "                    --jp-layout-color3: var(--colab-primary-surface-color, white);\n",
              "                }\n",
              "            </style>\n",
              "            "
            ]
          },
          "metadata": {}
        }
      ],
      "source": [
        "\n",
        "era5d_prec = era5_tp_mean_.select(era5_tp_mean_.bandNames().getInfo()[3]).rename('era5d_prec')\n",
        "# era5_wind = era5_u_wind_10m_mean_.select(era5_u_wind_10m_mean_.bandNames().getInfo()[3]).rename('era5_wind')\n",
        "# era5m_wind = era5_u_wind_10monthly_mean_.select(era5_u_wind_10monthly_mean_.bandNames().getInfo()[3]).rename('era5m_wind')\n",
        "# era5m_prec = era5_monthly_mean_.select(era5_monthly_mean_.bandNames().getInfo()[3]).rename('era5m_prec')\n",
        "# era5_mean_temp = era5_mean_temp_mean_.select(era5_mean_temp_mean_.bandNames().getInfo()[3]).rename('era5_mean_temp')\n",
        "era5_min_temp =  era5_min_temp_mean_.select(era5_min_temp_mean_.bandNames().getInfo()[3]).rename('era5_min_temp')\n",
        "# era5_max_temp = era5_max_temp_mean_.select(era5_max_temp_mean_.bandNames().getInfo()[3]).rename('era5_max_temp')\n",
        "# era5m_mean_temp = era5m_temp_mean_.select(era5m_temp_mean_.bandNames().getInfo()[3]).rename('era5m_mean_temp')\n",
        "# era5m_min_temp = era5m_min_temp_mean_.select(era5m_min_temp_mean_.bandNames().getInfo()[3]).rename('era5m_min_temp')\n",
        "# era5m_max_temp = era5m_max_temp_mean_.select(era5m_max_temp_mean_.bandNames().getInfo()[3]).rename('era5m_max_temp')\n",
        "chirpsd_prec =chirps_d_mean_.select(chirps_d_mean_.bandNames().getInfo()[3]).rename('chirpsd_prec')\n",
        "# chirpsm_prec =chirps_m_mean_.select(chirps_m_mean_.bandNames().getInfo()[3]).rename('chirpsm_prec')\n",
        "# mod_lst = modislst_m_mean_.select(modislst_m_mean_.bandNames().getInfo()[3]).rename('mod_lst')\n",
        "gpp = gpp_prep(gpp_col,AOI,year).toBands().select(gpp_prep(gpp_col,AOI,year).toBands().bandNames()).rename('gpp')\n",
        "npp = npp_prep(npp_col,AOI,year).toBands().select(npp_prep(npp_col,AOI,year).toBands().bandNames()).rename('npp')\n",
        "wdvi = l8_2013.select('wdvi')\n",
        "gli = l8_2013.select('gli')\n",
        "gvi =l8_2013.select('gvi')\n",
        "arvi2 =l8_2013.select('arvi2')\n",
        "\n",
        "# task = ee.batch.Export.image.toAsset(**{\n",
        "#   'image': classified,\n",
        "#   'description': 'Class2013',\n",
        "#   'assetId': 'users/Prod/Outputs/Out5k/Class2013',\n",
        "#   'scale': scale,\n",
        "#   'region': county.geometry()\n",
        "# })\n",
        "# task.start()"
      ]
    },
    {
      "cell_type": "code",
      "source": [
        "# img_2010_repr = img_2010.reproject(crs='EPSG:4326', scale=500)\n",
        "era5d_prec_r = era5d_prec.resample().reproject(rsn2)\n",
        "# era5_wind = era5_u_wind_10m_mean_.select(era5_u_wind_10m_mean_.bandNames().getInfo()[0]).rename('era5_wind')\n",
        "# era5m_wind = era5_u_wind_10monthly_mean_.select(era5_u_wind_10monthly_mean_.bandNames().getInfo()[0]).rename('era5m_wind')\n",
        "# era5m_prec = era5_monthly_mean_.select(era5_monthly_mean_.bandNames().getInfo()[0]).rename('era5m_prec')\n",
        "# era5_mean_temp = era5_mean_temp_mean_.select(era5_mean_temp_mean_.bandNames().getInfo()[0]).rename('era5_mean_temp')\n",
        "era5_min_temp_r =  era5_min_temp.resample().reproject(rsn2)\n",
        "# era5_max_temp = era5_max_temp_mean_.select(era5_max_temp_mean_.bandNames().getInfo()[0]).rename('era5_max_temp')\n",
        "# era5m_mean_temp = era5m_temp_mean_.select(era5m_temp_mean_.bandNames().getInfo()[0]).rename('era5m_mean_temp')\n",
        "# era5m_min_temp = era5m_min_temp_mean_.select(era5m_min_temp_mean_.bandNames().getInfo()[0]).rename('era5m_min_temp')\n",
        "# era5m_max_temp = era5m_max_temp_mean_.select(era5m_max_temp_mean_.bandNames().getInfo()[0]).rename('era5m_max_temp')\n",
        "chirpsd_prec_r =chirpsd_prec.resample().reproject(rsn2)\n",
        "# chirpsm_prec =chirps_m_mean_.select(chirps_m_mean_.bandNames().getInfo()[0]).rename('chirpsm_prec')\n",
        "# mod_lst = modislst_m_mean_.select(modislst_m_mean_.bandNames().getInfo()[0]).rename('mod_lst')\n",
        "gpp_r = gpp.reproject(rsn2)\n",
        "npp_r = npp.reproject(rsn2)\n",
        "wdvi_r = wdvi.reproject(rsn2)\n",
        "gli_r = gli.reproject(rsn2)\n",
        "gvi_r = gvi.reproject(rsn2)\n",
        "arvi2_r =arvi2.reproject(rsn2)\n",
        "\n",
        "img_2013_r = era5d_prec_r.addBands(era5_min_temp_r)\\\n",
        ".addBands(chirpsd_prec_r)\\\n",
        ".addBands(npp_r)\\\n",
        ".addBands(gpp_r)\\\n",
        ".addBands(wdvi_r)\\\n",
        ".addBands(gli_r)\\\n",
        ".addBands(gvi_r)\\\n",
        ".addBands(arvi2_r)\n",
        "classified = img_2013_r.select(feature_names).classify(another_classifier)\n",
        "# Reduce Regions to Counties\n",
        "class_2013 = classified.reduceRegions(**{\n",
        "    'collection':county,\n",
        "    'reducer': ee.Reducer.mean(),\n",
        "    'scale': scale\n",
        "})\n",
        "\n",
        "task = ee.batch.Export.image.toDrive(**{\n",
        "  'image': classified,\n",
        "  'description': 'Class2013',\n",
        "  'folder':'ee_demos',\n",
        "  'scale': scale,\n",
        "  'region': county.geometry(),\n",
        "  'crs':'EPSG:4326'\n",
        " })\n",
        "\n",
        "# task.start()"
      ],
      "metadata": {
        "id": "BqAEyHrBfFQe",
        "colab": {
          "base_uri": "https://localhost:8080/",
          "height": 17
        },
        "outputId": "51dbf705-3e79-44d4-93a1-0132b7c4ac56"
      },
      "execution_count": null,
      "outputs": [
        {
          "output_type": "display_data",
          "data": {
            "text/plain": [
              "<IPython.core.display.HTML object>"
            ],
            "text/html": [
              "\n",
              "            <style>\n",
              "                .geemap-dark {\n",
              "                    --jp-widgets-color: white;\n",
              "                    --jp-widgets-label-color: white;\n",
              "                    --jp-ui-font-color1: white;\n",
              "                    --jp-layout-color2: #454545;\n",
              "                    background-color: #383838;\n",
              "                }\n",
              "\n",
              "                .geemap-dark .jupyter-button {\n",
              "                    --jp-layout-color3: #383838;\n",
              "                }\n",
              "\n",
              "                .geemap-colab {\n",
              "                    background-color: var(--colab-primary-surface-color, white);\n",
              "                }\n",
              "\n",
              "                .geemap-colab .jupyter-button {\n",
              "                    --jp-layout-color3: var(--colab-primary-surface-color, white);\n",
              "                }\n",
              "            </style>\n",
              "            "
            ]
          },
          "metadata": {}
        }
      ]
    },
    {
      "cell_type": "code",
      "source": [
        "# Reduce Regions to Counties\n",
        "class_2013_n = img_2013_r.reduceRegions(**{\n",
        "    'collection':newzones,\n",
        "    'reducer': ee.Reducer.median(),\n",
        "    'scale': scale,\n",
        "     'crs':'EPSG:4326'\n",
        "})\n",
        "\n",
        "task = ee.batch.Export.table.toDrive(collection=class_2013_n, folder='ee_demos', description='class_2013_n', fileFormat='SHP')\n",
        "task.start()"
      ],
      "metadata": {
        "colab": {
          "base_uri": "https://localhost:8080/",
          "height": 17
        },
        "id": "8lQfswD5kyF0",
        "outputId": "635ec710-4cc8-4004-8b23-6529249f0b54"
      },
      "execution_count": null,
      "outputs": [
        {
          "output_type": "display_data",
          "data": {
            "text/plain": [
              "<IPython.core.display.HTML object>"
            ],
            "text/html": [
              "\n",
              "            <style>\n",
              "                .geemap-dark {\n",
              "                    --jp-widgets-color: white;\n",
              "                    --jp-widgets-label-color: white;\n",
              "                    --jp-ui-font-color1: white;\n",
              "                    --jp-layout-color2: #454545;\n",
              "                    background-color: #383838;\n",
              "                }\n",
              "\n",
              "                .geemap-dark .jupyter-button {\n",
              "                    --jp-layout-color3: #383838;\n",
              "                }\n",
              "\n",
              "                .geemap-colab {\n",
              "                    background-color: var(--colab-primary-surface-color, white);\n",
              "                }\n",
              "\n",
              "                .geemap-colab .jupyter-button {\n",
              "                    --jp-layout-color3: var(--colab-primary-surface-color, white);\n",
              "                }\n",
              "            </style>\n",
              "            "
            ]
          },
          "metadata": {}
        }
      ]
    },
    {
      "cell_type": "code",
      "execution_count": null,
      "metadata": {
        "id": "Jlwu4TlEGm1L",
        "colab": {
          "base_uri": "https://localhost:8080/",
          "height": 196
        },
        "outputId": "08c6f679-30d0-4c6e-ec3d-e4f3243f51f3"
      },
      "outputs": [
        {
          "output_type": "display_data",
          "data": {
            "text/plain": [
              "<IPython.core.display.HTML object>"
            ],
            "text/html": [
              "\n",
              "            <style>\n",
              "                .geemap-dark {\n",
              "                    --jp-widgets-color: white;\n",
              "                    --jp-widgets-label-color: white;\n",
              "                    --jp-ui-font-color1: white;\n",
              "                    --jp-layout-color2: #454545;\n",
              "                    background-color: #383838;\n",
              "                }\n",
              "\n",
              "                .geemap-dark .jupyter-button {\n",
              "                    --jp-layout-color3: #383838;\n",
              "                }\n",
              "\n",
              "                .geemap-colab {\n",
              "                    background-color: var(--colab-primary-surface-color, white);\n",
              "                }\n",
              "\n",
              "                .geemap-colab .jupyter-button {\n",
              "                    --jp-layout-color3: var(--colab-primary-surface-color, white);\n",
              "                }\n",
              "            </style>\n",
              "            "
            ]
          },
          "metadata": {}
        },
        {
          "output_type": "execute_result",
          "data": {
            "text/plain": [
              "{'state': 'RUNNING',\n",
              " 'description': 'class_2013_n',\n",
              " 'priority': 100,\n",
              " 'creation_timestamp_ms': 1740645885498,\n",
              " 'update_timestamp_ms': 1740645896412,\n",
              " 'start_timestamp_ms': 1740645896244,\n",
              " 'task_type': 'EXPORT_FEATURES',\n",
              " 'attempt': 1,\n",
              " 'id': 'WWDUDY6MIRGPIVMHKJWIIND5',\n",
              " 'name': 'projects/ee-maizeyield/operations/WWDUDY6MIRGPIVMHKJWIIND5'}"
            ]
          },
          "metadata": {},
          "execution_count": 477
        }
      ],
      "source": [
        "task.status()"
      ]
    },
    {
      "cell_type": "markdown",
      "metadata": {
        "id": "kRV8pfgPHHSF"
      },
      "source": [
        "# 2014"
      ]
    },
    {
      "cell_type": "code",
      "source": [
        "year ='2014'\n",
        "start = ee.Date('2014-04-01')\n",
        "end = ee.Date('2014-08-31')\n",
        "scale = 463.31271652791656"
      ],
      "metadata": {
        "id": "9iRalMjzhQA-",
        "colab": {
          "base_uri": "https://localhost:8080/",
          "height": 17
        },
        "outputId": "2b2c7885-a439-428f-fd23-2e157dc21796"
      },
      "execution_count": null,
      "outputs": [
        {
          "output_type": "display_data",
          "data": {
            "text/plain": [
              "<IPython.core.display.HTML object>"
            ],
            "text/html": [
              "\n",
              "            <style>\n",
              "                .geemap-dark {\n",
              "                    --jp-widgets-color: white;\n",
              "                    --jp-widgets-label-color: white;\n",
              "                    --jp-ui-font-color1: white;\n",
              "                    --jp-layout-color2: #454545;\n",
              "                    background-color: #383838;\n",
              "                }\n",
              "\n",
              "                .geemap-dark .jupyter-button {\n",
              "                    --jp-layout-color3: #383838;\n",
              "                }\n",
              "\n",
              "                .geemap-colab {\n",
              "                    background-color: var(--colab-primary-surface-color, white);\n",
              "                }\n",
              "\n",
              "                .geemap-colab .jupyter-button {\n",
              "                    --jp-layout-color3: var(--colab-primary-surface-color, white);\n",
              "                }\n",
              "            </style>\n",
              "            "
            ]
          },
          "metadata": {}
        }
      ]
    },
    {
      "cell_type": "code",
      "execution_count": null,
      "metadata": {
        "id": "Hr_nvo-AHmZU",
        "colab": {
          "base_uri": "https://localhost:8080/",
          "height": 17
        },
        "outputId": "97cb1107-f4e0-4cce-a40b-e2221f6f1ed7"
      },
      "outputs": [
        {
          "output_type": "display_data",
          "data": {
            "text/plain": [
              "<IPython.core.display.HTML object>"
            ],
            "text/html": [
              "\n",
              "            <style>\n",
              "                .geemap-dark {\n",
              "                    --jp-widgets-color: white;\n",
              "                    --jp-widgets-label-color: white;\n",
              "                    --jp-ui-font-color1: white;\n",
              "                    --jp-layout-color2: #454545;\n",
              "                    background-color: #383838;\n",
              "                }\n",
              "\n",
              "                .geemap-dark .jupyter-button {\n",
              "                    --jp-layout-color3: #383838;\n",
              "                }\n",
              "\n",
              "                .geemap-colab {\n",
              "                    background-color: var(--colab-primary-surface-color, white);\n",
              "                }\n",
              "\n",
              "                .geemap-colab .jupyter-button {\n",
              "                    --jp-layout-color3: var(--colab-primary-surface-color, white);\n",
              "                }\n",
              "            </style>\n",
              "            "
            ]
          },
          "metadata": {}
        }
      ],
      "source": [
        "\n",
        "era5d_prec = era5_tp_mean_.select(era5_tp_mean_.bandNames().getInfo()[4]).rename('era5d_prec')\n",
        "# era5_wind = era5_u_wind_10m_mean_.select(era5_u_wind_10m_mean_.bandNames().getInfo()[4]).rename('era5_wind')\n",
        "# era5m_wind = era5_u_wind_10monthly_mean_.select(era5_u_wind_10monthly_mean_.bandNames().getInfo()[4]).rename('era5m_wind')\n",
        "# era5m_prec = era5_monthly_mean_.select(era5_monthly_mean_.bandNames().getInfo()[4]).rename('era5m_prec')\n",
        "# era5_mean_temp = era5_mean_temp_mean_.select(era5_mean_temp_mean_.bandNames().getInfo()[4]).rename('era5_mean_temp')\n",
        "era5_min_temp =  era5_min_temp_mean_.select(era5_min_temp_mean_.bandNames().getInfo()[4]).rename('era5_min_temp')\n",
        "# era5_max_temp = era5_max_temp_mean_.select(era5_max_temp_mean_.bandNames().getInfo()[4]).rename('era5_max_temp')\n",
        "# era5m_mean_temp = era5m_temp_mean_.select(era5m_temp_mean_.bandNames().getInfo()[4]).rename('era5m_mean_temp')\n",
        "# era5m_min_temp = era5m_min_temp_mean_.select(era5m_min_temp_mean_.bandNames().getInfo()[4]).rename('era5m_min_temp')\n",
        "# era5m_max_temp = era5m_max_temp_mean_.select(era5m_max_temp_mean_.bandNames().getInfo()[4]).rename('era5m_max_temp')\n",
        "chirpsd_prec =chirps_d_mean_.select(chirps_d_mean_.bandNames().getInfo()[4]).rename('chirpsd_prec')\n",
        "# chirpsm_prec =chirps_m_mean_.select(chirps_m_mean_.bandNames().getInfo()[4]).rename('chirpsm_prec')\n",
        "# mod_lst = modislst_m_mean_.select(modislst_m_mean_.bandNames().getInfo()[4]).rename('mod_lst')\n",
        "gpp = gpp_prep(gpp_col,AOI,year).toBands().select(gpp_prep(gpp_col,AOI,year).toBands().bandNames()).rename('gpp')\n",
        "npp = npp_prep(npp_col,AOI,year).toBands().select(npp_prep(npp_col,AOI,year).toBands().bandNames()).rename('npp')\n",
        "wdvi = l8_2014.select('wdvi')\n",
        "gli = l8_2014.select('gli')\n",
        "gvi =l8_2014.select('gvi')\n",
        "arvi2 =l8_2014.select('arvi2')\n",
        "# task = ee.batch.Export.image.toAsset(**{\n",
        "#   'image': classified,\n",
        "#   'description': 'Class2014',\n",
        "#   'assetId': 'users/Prod/Outputs/Out5k/Class2014',\n",
        "#   'scale': scale,\n",
        "#   'region': county.geometry()\n",
        "# })\n",
        "# task.start()"
      ]
    },
    {
      "cell_type": "code",
      "source": [
        "# img_2010_repr = img_2010.reproject(crs='EPSG:4326', scale=500)\n",
        "era5d_prec_r = era5d_prec.resample().reproject(rsn2)\n",
        "# era5_wind = era5_u_wind_10m_mean_.select(era5_u_wind_10m_mean_.bandNames().getInfo()[0]).rename('era5_wind')\n",
        "# era5m_wind = era5_u_wind_10monthly_mean_.select(era5_u_wind_10monthly_mean_.bandNames().getInfo()[0]).rename('era5m_wind')\n",
        "# era5m_prec = era5_monthly_mean_.select(era5_monthly_mean_.bandNames().getInfo()[0]).rename('era5m_prec')\n",
        "# era5_mean_temp = era5_mean_temp_mean_.select(era5_mean_temp_mean_.bandNames().getInfo()[0]).rename('era5_mean_temp')\n",
        "era5_min_temp_r =  era5_min_temp.resample().reproject(rsn2)\n",
        "# era5_max_temp = era5_max_temp_mean_.select(era5_max_temp_mean_.bandNames().getInfo()[0]).rename('era5_max_temp')\n",
        "# era5m_mean_temp = era5m_temp_mean_.select(era5m_temp_mean_.bandNames().getInfo()[0]).rename('era5m_mean_temp')\n",
        "# era5m_min_temp = era5m_min_temp_mean_.select(era5m_min_temp_mean_.bandNames().getInfo()[0]).rename('era5m_min_temp')\n",
        "# era5m_max_temp = era5m_max_temp_mean_.select(era5m_max_temp_mean_.bandNames().getInfo()[0]).rename('era5m_max_temp')\n",
        "chirpsd_prec_r =chirpsd_prec.resample().reproject(rsn2)\n",
        "# chirpsm_prec =chirps_m_mean_.select(chirps_m_mean_.bandNames().getInfo()[0]).rename('chirpsm_prec')\n",
        "# mod_lst = modislst_m_mean_.select(modislst_m_mean_.bandNames().getInfo()[0]).rename('mod_lst')\n",
        "gpp_r = gpp.reproject(rsn2)\n",
        "npp_r = npp.reproject(rsn2)\n",
        "wdvi_r = wdvi.reproject(rsn2)\n",
        "gli_r = gli.reproject(rsn2)\n",
        "gvi_r = gvi.reproject(rsn2)\n",
        "arvi2_r =arvi2.reproject(rsn2)\n",
        "\n",
        "img_2014_r = era5d_prec_r.addBands(era5_min_temp_r)\\\n",
        ".addBands(chirpsd_prec_r)\\\n",
        ".addBands(npp_r)\\\n",
        ".addBands(gpp_r)\\\n",
        ".addBands(wdvi_r)\\\n",
        ".addBands(gli_r)\\\n",
        ".addBands(gvi_r)\\\n",
        ".addBands(arvi2_r)\n",
        "\n",
        "classified = img_2014_r.select(feature_names).classify(another_classifier)\n",
        "# Reduce Regions to Counties\n",
        "class_2014 = classified.reduceRegions(**{\n",
        "    'collection':county,\n",
        "    'reducer': ee.Reducer.mean(),\n",
        "    'scale': scale\n",
        "})\n",
        "\n",
        "task = ee.batch.Export.image.toDrive(**{\n",
        "  'image': classified,\n",
        "  'description': 'Class2014',\n",
        "  'folder':'ee_demos',\n",
        "  'scale': scale,\n",
        "  'region': county.geometry(),\n",
        "  'crs':'EPSG:4326'\n",
        " })\n",
        "\n",
        "# task.start()"
      ],
      "metadata": {
        "id": "AYB4g8-vhWMZ",
        "colab": {
          "base_uri": "https://localhost:8080/",
          "height": 17
        },
        "outputId": "693f9541-4033-4b08-b7d1-de64e361bd47"
      },
      "execution_count": null,
      "outputs": [
        {
          "output_type": "display_data",
          "data": {
            "text/plain": [
              "<IPython.core.display.HTML object>"
            ],
            "text/html": [
              "\n",
              "            <style>\n",
              "                .geemap-dark {\n",
              "                    --jp-widgets-color: white;\n",
              "                    --jp-widgets-label-color: white;\n",
              "                    --jp-ui-font-color1: white;\n",
              "                    --jp-layout-color2: #454545;\n",
              "                    background-color: #383838;\n",
              "                }\n",
              "\n",
              "                .geemap-dark .jupyter-button {\n",
              "                    --jp-layout-color3: #383838;\n",
              "                }\n",
              "\n",
              "                .geemap-colab {\n",
              "                    background-color: var(--colab-primary-surface-color, white);\n",
              "                }\n",
              "\n",
              "                .geemap-colab .jupyter-button {\n",
              "                    --jp-layout-color3: var(--colab-primary-surface-color, white);\n",
              "                }\n",
              "            </style>\n",
              "            "
            ]
          },
          "metadata": {}
        }
      ]
    },
    {
      "cell_type": "code",
      "source": [
        "# Reduce Regions to Counties\n",
        "class_2014_n = img_2014_r.reduceRegions(**{\n",
        "    'collection':newzones,\n",
        "    'reducer': ee.Reducer.median(),\n",
        "    'scale': scale,\n",
        "     'crs':'EPSG:4326'\n",
        "})\n",
        "\n",
        "task = ee.batch.Export.table.toDrive(collection=class_2014_n, folder='ee_demos', description='class_2014_n', fileFormat='SHP')\n",
        "task.start()"
      ],
      "metadata": {
        "colab": {
          "base_uri": "https://localhost:8080/",
          "height": 17
        },
        "id": "EwKr7vRDlLPw",
        "outputId": "85df72b8-9d08-4938-912c-8d38d3e51908"
      },
      "execution_count": null,
      "outputs": [
        {
          "output_type": "display_data",
          "data": {
            "text/plain": [
              "<IPython.core.display.HTML object>"
            ],
            "text/html": [
              "\n",
              "            <style>\n",
              "                .geemap-dark {\n",
              "                    --jp-widgets-color: white;\n",
              "                    --jp-widgets-label-color: white;\n",
              "                    --jp-ui-font-color1: white;\n",
              "                    --jp-layout-color2: #454545;\n",
              "                    background-color: #383838;\n",
              "                }\n",
              "\n",
              "                .geemap-dark .jupyter-button {\n",
              "                    --jp-layout-color3: #383838;\n",
              "                }\n",
              "\n",
              "                .geemap-colab {\n",
              "                    background-color: var(--colab-primary-surface-color, white);\n",
              "                }\n",
              "\n",
              "                .geemap-colab .jupyter-button {\n",
              "                    --jp-layout-color3: var(--colab-primary-surface-color, white);\n",
              "                }\n",
              "            </style>\n",
              "            "
            ]
          },
          "metadata": {}
        }
      ]
    },
    {
      "cell_type": "code",
      "execution_count": null,
      "metadata": {
        "id": "sZGYQ5wRHjgc",
        "colab": {
          "base_uri": "https://localhost:8080/",
          "height": 178
        },
        "outputId": "1064afff-b1b1-4fd5-9e91-6995f08acf8e"
      },
      "outputs": [
        {
          "output_type": "display_data",
          "data": {
            "text/plain": [
              "<IPython.core.display.HTML object>"
            ],
            "text/html": [
              "\n",
              "            <style>\n",
              "                .geemap-dark {\n",
              "                    --jp-widgets-color: white;\n",
              "                    --jp-widgets-label-color: white;\n",
              "                    --jp-ui-font-color1: white;\n",
              "                    --jp-layout-color2: #454545;\n",
              "                    background-color: #383838;\n",
              "                }\n",
              "\n",
              "                .geemap-dark .jupyter-button {\n",
              "                    --jp-layout-color3: #383838;\n",
              "                }\n",
              "\n",
              "                .geemap-colab {\n",
              "                    background-color: var(--colab-primary-surface-color, white);\n",
              "                }\n",
              "\n",
              "                .geemap-colab .jupyter-button {\n",
              "                    --jp-layout-color3: var(--colab-primary-surface-color, white);\n",
              "                }\n",
              "            </style>\n",
              "            "
            ]
          },
          "metadata": {}
        },
        {
          "output_type": "execute_result",
          "data": {
            "text/plain": [
              "{'state': 'READY',\n",
              " 'description': 'class_2014_n',\n",
              " 'priority': 100,\n",
              " 'creation_timestamp_ms': 1740645921248,\n",
              " 'update_timestamp_ms': 1740645927075,\n",
              " 'start_timestamp_ms': 0,\n",
              " 'task_type': 'EXPORT_FEATURES',\n",
              " 'id': 'JFWVESW7O6HN3APY4TAT6U7U',\n",
              " 'name': 'projects/ee-maizeyield/operations/JFWVESW7O6HN3APY4TAT6U7U'}"
            ]
          },
          "metadata": {},
          "execution_count": 483
        }
      ],
      "source": [
        "task.status()"
      ]
    },
    {
      "cell_type": "markdown",
      "metadata": {
        "id": "oCEXPmBBHKpi"
      },
      "source": [
        "# 2015"
      ]
    },
    {
      "cell_type": "code",
      "source": [
        "year ='2015'\n",
        "start = ee.Date('2015-04-01')\n",
        "end = ee.Date('2015-08-31')\n",
        "scale = 463.31271652791656"
      ],
      "metadata": {
        "id": "Di6RdGMomV92",
        "colab": {
          "base_uri": "https://localhost:8080/",
          "height": 17
        },
        "outputId": "236f91dc-6f32-4609-b1b7-ee96487f49b8"
      },
      "execution_count": null,
      "outputs": [
        {
          "output_type": "display_data",
          "data": {
            "text/plain": [
              "<IPython.core.display.HTML object>"
            ],
            "text/html": [
              "\n",
              "            <style>\n",
              "                .geemap-dark {\n",
              "                    --jp-widgets-color: white;\n",
              "                    --jp-widgets-label-color: white;\n",
              "                    --jp-ui-font-color1: white;\n",
              "                    --jp-layout-color2: #454545;\n",
              "                    background-color: #383838;\n",
              "                }\n",
              "\n",
              "                .geemap-dark .jupyter-button {\n",
              "                    --jp-layout-color3: #383838;\n",
              "                }\n",
              "\n",
              "                .geemap-colab {\n",
              "                    background-color: var(--colab-primary-surface-color, white);\n",
              "                }\n",
              "\n",
              "                .geemap-colab .jupyter-button {\n",
              "                    --jp-layout-color3: var(--colab-primary-surface-color, white);\n",
              "                }\n",
              "            </style>\n",
              "            "
            ]
          },
          "metadata": {}
        }
      ]
    },
    {
      "cell_type": "code",
      "execution_count": null,
      "metadata": {
        "id": "IyImXXX8Hnjz",
        "colab": {
          "base_uri": "https://localhost:8080/",
          "height": 17
        },
        "outputId": "7c01d788-c451-4aad-cd01-c8debba71f2b"
      },
      "outputs": [
        {
          "output_type": "display_data",
          "data": {
            "text/plain": [
              "<IPython.core.display.HTML object>"
            ],
            "text/html": [
              "\n",
              "            <style>\n",
              "                .geemap-dark {\n",
              "                    --jp-widgets-color: white;\n",
              "                    --jp-widgets-label-color: white;\n",
              "                    --jp-ui-font-color1: white;\n",
              "                    --jp-layout-color2: #454545;\n",
              "                    background-color: #383838;\n",
              "                }\n",
              "\n",
              "                .geemap-dark .jupyter-button {\n",
              "                    --jp-layout-color3: #383838;\n",
              "                }\n",
              "\n",
              "                .geemap-colab {\n",
              "                    background-color: var(--colab-primary-surface-color, white);\n",
              "                }\n",
              "\n",
              "                .geemap-colab .jupyter-button {\n",
              "                    --jp-layout-color3: var(--colab-primary-surface-color, white);\n",
              "                }\n",
              "            </style>\n",
              "            "
            ]
          },
          "metadata": {}
        }
      ],
      "source": [
        "\n",
        "era5d_prec = era5_tp_mean_.select(era5_tp_mean_.bandNames().getInfo()[5]).rename('era5d_prec')\n",
        "# era5_wind = era5_u_wind_10m_mean_.select(era5_u_wind_10m_mean_.bandNames().getInfo()[5]).rename('era5_wind')\n",
        "# era5m_wind = era5_u_wind_10monthly_mean_.select(era5_u_wind_10monthly_mean_.bandNames().getInfo()[5]).rename('era5m_wind')\n",
        "# era5m_prec = era5_monthly_mean_.select(era5_monthly_mean_.bandNames().getInfo()[5]).rename('era5m_prec')\n",
        "# era5_mean_temp = era5_mean_temp_mean_.select(era5_mean_temp_mean_.bandNames().getInfo()[5]).rename('era5_mean_temp')\n",
        "era5_min_temp =  era5_min_temp_mean_.select(era5_min_temp_mean_.bandNames().getInfo()[5]).rename('era5_min_temp')\n",
        "# era5_max_temp = era5_max_temp_mean_.select(era5_max_temp_mean_.bandNames().getInfo()[5]).rename('era5_max_temp')\n",
        "# era5m_mean_temp = era5m_temp_mean_.select(era5m_temp_mean_.bandNames().getInfo()[5]).rename('era5m_mean_temp')\n",
        "# era5m_min_temp = era5m_min_temp_mean_.select(era5m_min_temp_mean_.bandNames().getInfo()[5]).rename('era5m_min_temp')\n",
        "# era5m_max_temp = era5m_max_temp_mean_.select(era5m_max_temp_mean_.bandNames().getInfo()[5]).rename('era5m_max_temp')\n",
        "chirpsd_prec =chirps_d_mean_.select(chirps_d_mean_.bandNames().getInfo()[5]).rename('chirpsd_prec')\n",
        "# chirpsm_prec =chirps_m_mean_.select(chirps_m_mean_.bandNames().getInfo()[5]).rename('chirpsm_prec')\n",
        "# mod_lst = modislst_m_mean_.select(modislst_m_mean_.bandNames().getInfo()[5]).rename('mod_lst')\n",
        "gpp = gpp_prep(gpp_col,AOI,year).toBands().select(gpp_prep(gpp_col,AOI,year).toBands().bandNames()).rename('gpp')\n",
        "npp = npp_prep(npp_col,AOI,year).toBands().select(npp_prep(npp_col,AOI,year).toBands().bandNames()).rename('npp')\n",
        "wdvi = l8_2015.select('wdvi')\n",
        "gli = l8_2015.select('gli')\n",
        "gvi =l8_2015.select('gvi')\n",
        "arvi2 =l8_2015.select('arvi2')\n",
        "\n",
        "# task = ee.batch.Export.image.toAsset(**{\n",
        "#   'image': classified,\n",
        "#   'description': 'Class2015',\n",
        "#   'assetId': 'users/Prod/Outputs/Out5k/Class2015',\n",
        "#   'scale': scale,\n",
        "#   'region': county.geometry()\n",
        "# })\n",
        "# task.start()"
      ]
    },
    {
      "cell_type": "code",
      "source": [
        "# img_2010_repr = img_2010.reproject(crs='EPSG:4326', scale=500)\n",
        "era5d_prec_r = era5d_prec.resample().reproject(rsn2)\n",
        "# era5_wind = era5_u_wind_10m_mean_.select(era5_u_wind_10m_mean_.bandNames().getInfo()[0]).rename('era5_wind')\n",
        "# era5m_wind = era5_u_wind_10monthly_mean_.select(era5_u_wind_10monthly_mean_.bandNames().getInfo()[0]).rename('era5m_wind')\n",
        "# era5m_prec = era5_monthly_mean_.select(era5_monthly_mean_.bandNames().getInfo()[0]).rename('era5m_prec')\n",
        "# era5_mean_temp = era5_mean_temp_mean_.select(era5_mean_temp_mean_.bandNames().getInfo()[0]).rename('era5_mean_temp')\n",
        "era5_min_temp_r =  era5_min_temp.resample().reproject(rsn2)\n",
        "# era5_max_temp = era5_max_temp_mean_.select(era5_max_temp_mean_.bandNames().getInfo()[0]).rename('era5_max_temp')\n",
        "# era5m_mean_temp = era5m_temp_mean_.select(era5m_temp_mean_.bandNames().getInfo()[0]).rename('era5m_mean_temp')\n",
        "# era5m_min_temp = era5m_min_temp_mean_.select(era5m_min_temp_mean_.bandNames().getInfo()[0]).rename('era5m_min_temp')\n",
        "# era5m_max_temp = era5m_max_temp_mean_.select(era5m_max_temp_mean_.bandNames().getInfo()[0]).rename('era5m_max_temp')\n",
        "chirpsd_prec_r =chirpsd_prec.resample().reproject(rsn2)\n",
        "# chirpsm_prec =chirps_m_mean_.select(chirps_m_mean_.bandNames().getInfo()[0]).rename('chirpsm_prec')\n",
        "# mod_lst = modislst_m_mean_.select(modislst_m_mean_.bandNames().getInfo()[0]).rename('mod_lst')\n",
        "gpp_r = gpp.reproject(rsn2)\n",
        "npp_r = npp.reproject(rsn2)\n",
        "wdvi_r = wdvi.reproject(rsn2)\n",
        "gli_r = gli.reproject(rsn2)\n",
        "gvi_r = gvi.reproject(rsn2)\n",
        "arvi2_r =arvi2.reproject(rsn2)\n",
        "\n",
        "img_2015_r = era5d_prec_r.addBands(era5_min_temp_r)\\\n",
        ".addBands(chirpsd_prec_r)\\\n",
        ".addBands(npp_r)\\\n",
        ".addBands(gpp_r)\\\n",
        ".addBands(wdvi_r)\\\n",
        ".addBands(gli_r)\\\n",
        ".addBands(gvi_r)\\\n",
        ".addBands(arvi2_r)\n",
        "\n",
        "classified = img_2015_r.select(feature_names).classify(another_classifier)\n",
        "# Reduce Regions to Counties\n",
        "class_2015 = classified.reduceRegions(**{\n",
        "    'collection':county,\n",
        "    'reducer': ee.Reducer.mean(),\n",
        "    'scale': scale\n",
        "})\n",
        "\n",
        "task = ee.batch.Export.image.toDrive(**{\n",
        "  'image': classified,\n",
        "  'description': 'Class2015',\n",
        "  'folder':'ee_demos',\n",
        "  'scale': scale,\n",
        "  'region': county.geometry(),\n",
        "  'crs':'EPSG:4326'\n",
        " })\n",
        "\n",
        "# task.start()"
      ],
      "metadata": {
        "id": "GIIxuCRWkg0v",
        "colab": {
          "base_uri": "https://localhost:8080/",
          "height": 17
        },
        "outputId": "5a810aa7-e2ad-457e-b488-27d77a32cc6d"
      },
      "execution_count": null,
      "outputs": [
        {
          "output_type": "display_data",
          "data": {
            "text/plain": [
              "<IPython.core.display.HTML object>"
            ],
            "text/html": [
              "\n",
              "            <style>\n",
              "                .geemap-dark {\n",
              "                    --jp-widgets-color: white;\n",
              "                    --jp-widgets-label-color: white;\n",
              "                    --jp-ui-font-color1: white;\n",
              "                    --jp-layout-color2: #454545;\n",
              "                    background-color: #383838;\n",
              "                }\n",
              "\n",
              "                .geemap-dark .jupyter-button {\n",
              "                    --jp-layout-color3: #383838;\n",
              "                }\n",
              "\n",
              "                .geemap-colab {\n",
              "                    background-color: var(--colab-primary-surface-color, white);\n",
              "                }\n",
              "\n",
              "                .geemap-colab .jupyter-button {\n",
              "                    --jp-layout-color3: var(--colab-primary-surface-color, white);\n",
              "                }\n",
              "            </style>\n",
              "            "
            ]
          },
          "metadata": {}
        }
      ]
    },
    {
      "cell_type": "code",
      "source": [
        "# Reduce Regions to Counties\n",
        "class_2015_n = img_2015_r.reduceRegions(**{\n",
        "    'collection':newzones,\n",
        "    'reducer': ee.Reducer.median(),\n",
        "    'scale': scale,\n",
        "     'crs':'EPSG:4326'\n",
        "})\n",
        "\n",
        "task = ee.batch.Export.table.toDrive(collection=class_2015_n, folder='ee_demos', description='class_2015_n', fileFormat='SHP')\n",
        "task.start()"
      ],
      "metadata": {
        "colab": {
          "base_uri": "https://localhost:8080/",
          "height": 17
        },
        "id": "88sapR8llT8p",
        "outputId": "b753a6e4-3a30-4973-9c8a-87dfa7581a7b"
      },
      "execution_count": null,
      "outputs": [
        {
          "output_type": "display_data",
          "data": {
            "text/plain": [
              "<IPython.core.display.HTML object>"
            ],
            "text/html": [
              "\n",
              "            <style>\n",
              "                .geemap-dark {\n",
              "                    --jp-widgets-color: white;\n",
              "                    --jp-widgets-label-color: white;\n",
              "                    --jp-ui-font-color1: white;\n",
              "                    --jp-layout-color2: #454545;\n",
              "                    background-color: #383838;\n",
              "                }\n",
              "\n",
              "                .geemap-dark .jupyter-button {\n",
              "                    --jp-layout-color3: #383838;\n",
              "                }\n",
              "\n",
              "                .geemap-colab {\n",
              "                    background-color: var(--colab-primary-surface-color, white);\n",
              "                }\n",
              "\n",
              "                .geemap-colab .jupyter-button {\n",
              "                    --jp-layout-color3: var(--colab-primary-surface-color, white);\n",
              "                }\n",
              "            </style>\n",
              "            "
            ]
          },
          "metadata": {}
        }
      ]
    },
    {
      "cell_type": "code",
      "execution_count": null,
      "metadata": {
        "id": "TVTd7oXfHnMg",
        "colab": {
          "base_uri": "https://localhost:8080/",
          "height": 178
        },
        "outputId": "c5bcd5b5-a5a2-477c-e8f6-b7339c67d3e0"
      },
      "outputs": [
        {
          "output_type": "display_data",
          "data": {
            "text/plain": [
              "<IPython.core.display.HTML object>"
            ],
            "text/html": [
              "\n",
              "            <style>\n",
              "                .geemap-dark {\n",
              "                    --jp-widgets-color: white;\n",
              "                    --jp-widgets-label-color: white;\n",
              "                    --jp-ui-font-color1: white;\n",
              "                    --jp-layout-color2: #454545;\n",
              "                    background-color: #383838;\n",
              "                }\n",
              "\n",
              "                .geemap-dark .jupyter-button {\n",
              "                    --jp-layout-color3: #383838;\n",
              "                }\n",
              "\n",
              "                .geemap-colab {\n",
              "                    background-color: var(--colab-primary-surface-color, white);\n",
              "                }\n",
              "\n",
              "                .geemap-colab .jupyter-button {\n",
              "                    --jp-layout-color3: var(--colab-primary-surface-color, white);\n",
              "                }\n",
              "            </style>\n",
              "            "
            ]
          },
          "metadata": {}
        },
        {
          "output_type": "execute_result",
          "data": {
            "text/plain": [
              "{'state': 'READY',\n",
              " 'description': 'class_2015_n',\n",
              " 'priority': 100,\n",
              " 'creation_timestamp_ms': 1740645962712,\n",
              " 'update_timestamp_ms': 1740645962712,\n",
              " 'start_timestamp_ms': 0,\n",
              " 'task_type': 'EXPORT_FEATURES',\n",
              " 'id': '44EWL4KBOOTKWMCUIBA4UMIP',\n",
              " 'name': 'projects/ee-maizeyield/operations/44EWL4KBOOTKWMCUIBA4UMIP'}"
            ]
          },
          "metadata": {},
          "execution_count": 489
        }
      ],
      "source": [
        "task.status()"
      ]
    },
    {
      "cell_type": "markdown",
      "metadata": {
        "id": "0CvlyO6qHLTn"
      },
      "source": [
        "\n",
        "# 2016"
      ]
    },
    {
      "cell_type": "code",
      "source": [
        "year ='2016'\n",
        "start = ee.Date('2016-04-01')\n",
        "end = ee.Date('2016-08-31')\n",
        "scale = 463.31271652791656"
      ],
      "metadata": {
        "id": "Ifne1FvLnhaX",
        "colab": {
          "base_uri": "https://localhost:8080/",
          "height": 17
        },
        "outputId": "742f6370-e516-4406-ef34-0cd3a948763a"
      },
      "execution_count": null,
      "outputs": [
        {
          "output_type": "display_data",
          "data": {
            "text/plain": [
              "<IPython.core.display.HTML object>"
            ],
            "text/html": [
              "\n",
              "            <style>\n",
              "                .geemap-dark {\n",
              "                    --jp-widgets-color: white;\n",
              "                    --jp-widgets-label-color: white;\n",
              "                    --jp-ui-font-color1: white;\n",
              "                    --jp-layout-color2: #454545;\n",
              "                    background-color: #383838;\n",
              "                }\n",
              "\n",
              "                .geemap-dark .jupyter-button {\n",
              "                    --jp-layout-color3: #383838;\n",
              "                }\n",
              "\n",
              "                .geemap-colab {\n",
              "                    background-color: var(--colab-primary-surface-color, white);\n",
              "                }\n",
              "\n",
              "                .geemap-colab .jupyter-button {\n",
              "                    --jp-layout-color3: var(--colab-primary-surface-color, white);\n",
              "                }\n",
              "            </style>\n",
              "            "
            ]
          },
          "metadata": {}
        }
      ]
    },
    {
      "cell_type": "code",
      "execution_count": null,
      "metadata": {
        "id": "S23GZuYqHpOk",
        "colab": {
          "base_uri": "https://localhost:8080/",
          "height": 17
        },
        "outputId": "336bb260-82be-4d95-ee1d-e2ce71dfbb1a"
      },
      "outputs": [
        {
          "output_type": "display_data",
          "data": {
            "text/plain": [
              "<IPython.core.display.HTML object>"
            ],
            "text/html": [
              "\n",
              "            <style>\n",
              "                .geemap-dark {\n",
              "                    --jp-widgets-color: white;\n",
              "                    --jp-widgets-label-color: white;\n",
              "                    --jp-ui-font-color1: white;\n",
              "                    --jp-layout-color2: #454545;\n",
              "                    background-color: #383838;\n",
              "                }\n",
              "\n",
              "                .geemap-dark .jupyter-button {\n",
              "                    --jp-layout-color3: #383838;\n",
              "                }\n",
              "\n",
              "                .geemap-colab {\n",
              "                    background-color: var(--colab-primary-surface-color, white);\n",
              "                }\n",
              "\n",
              "                .geemap-colab .jupyter-button {\n",
              "                    --jp-layout-color3: var(--colab-primary-surface-color, white);\n",
              "                }\n",
              "            </style>\n",
              "            "
            ]
          },
          "metadata": {}
        }
      ],
      "source": [
        "\n",
        "era5d_prec = era5_tp_mean_.select(era5_tp_mean_.bandNames().getInfo()[6]).rename('era5d_prec')\n",
        "# era5_wind = era5_u_wind_10m_mean_.select(era5_u_wind_10m_mean_.bandNames().getInfo()[6]).rename('era5_wind')\n",
        "# era5m_wind = era5_u_wind_10monthly_mean_.select(era5_u_wind_10monthly_mean_.bandNames().getInfo()[6]).rename('era5m_wind')\n",
        "# era5m_prec = era5_monthly_mean_.select(era5_monthly_mean_.bandNames().getInfo()[6]).rename('era5m_prec')\n",
        "# era5_mean_temp = era5_mean_temp_mean_.select(era5_mean_temp_mean_.bandNames().getInfo()[6]).rename('era5_mean_temp')\n",
        "era5_min_temp =  era5_min_temp_mean_.select(era5_min_temp_mean_.bandNames().getInfo()[6]).rename('era5_min_temp')\n",
        "# era5_max_temp = era5_max_temp_mean_.select(era5_max_temp_mean_.bandNames().getInfo()[6]).rename('era5_max_temp')\n",
        "# era5m_mean_temp = era5m_temp_mean_.select(era5m_temp_mean_.bandNames().getInfo()[6]).rename('era5m_mean_temp')\n",
        "# era5m_min_temp = era5m_min_temp_mean_.select(era5m_min_temp_mean_.bandNames().getInfo()[6]).rename('era5m_min_temp')\n",
        "# era5m_max_temp = era5m_max_temp_mean_.select(era5m_max_temp_mean_.bandNames().getInfo()[6]).rename('era5m_max_temp')\n",
        "chirpsd_prec =chirps_d_mean_.select(chirps_d_mean_.bandNames().getInfo()[6]).rename('chirpsd_prec')\n",
        "# chirpsm_prec =chirps_m_mean_.select(chirps_m_mean_.bandNames().getInfo()[6]).rename('chirpsm_prec')\n",
        "# mod_lst = modislst_m_mean_.select(modislst_m_mean_.bandNames().getInfo()[6]).rename('mod_lst')\n",
        "gpp = gpp_prep(gpp_col,AOI,year).toBands().select(gpp_prep(gpp_col,AOI,year).toBands().bandNames()).rename('gpp')\n",
        "npp = npp_prep(npp_col,AOI,year).toBands().select(npp_prep(npp_col,AOI,year).toBands().bandNames()).rename('npp')\n",
        "wdvi = l8_2016.select('wdvi')\n",
        "gli = l8_2016.select('gli')\n",
        "gvi =l8_2016.select('gvi')\n",
        "arvi2 =l8_2016.select('arvi2')\n",
        "\n",
        "# task = ee.batch.Export.image.toAsset(**{\n",
        "#   'image': classified,\n",
        "#   'description': 'Class2016',\n",
        "#   'assetId': 'users/Prod/Outputs/Out5k/Class2016',\n",
        "#   'scale': scale,\n",
        "#   'region': county.geometry()\n",
        "# })\n",
        "# task.start()"
      ]
    },
    {
      "cell_type": "code",
      "source": [
        "# img_2010_repr = img_2010.reproject(crs='EPSG:4326', scale=500)\n",
        "era5d_prec_r = era5d_prec.resample().reproject(rsn2)\n",
        "# era5_wind = era5_u_wind_10m_mean_.select(era5_u_wind_10m_mean_.bandNames().getInfo()[0]).rename('era5_wind')\n",
        "# era5m_wind = era5_u_wind_10monthly_mean_.select(era5_u_wind_10monthly_mean_.bandNames().getInfo()[0]).rename('era5m_wind')\n",
        "# era5m_prec = era5_monthly_mean_.select(era5_monthly_mean_.bandNames().getInfo()[0]).rename('era5m_prec')\n",
        "# era5_mean_temp = era5_mean_temp_mean_.select(era5_mean_temp_mean_.bandNames().getInfo()[0]).rename('era5_mean_temp')\n",
        "era5_min_temp_r =  era5_min_temp.resample().reproject(rsn2)\n",
        "# era5_max_temp = era5_max_temp_mean_.select(era5_max_temp_mean_.bandNames().getInfo()[0]).rename('era5_max_temp')\n",
        "# era5m_mean_temp = era5m_temp_mean_.select(era5m_temp_mean_.bandNames().getInfo()[0]).rename('era5m_mean_temp')\n",
        "# era5m_min_temp = era5m_min_temp_mean_.select(era5m_min_temp_mean_.bandNames().getInfo()[0]).rename('era5m_min_temp')\n",
        "# era5m_max_temp = era5m_max_temp_mean_.select(era5m_max_temp_mean_.bandNames().getInfo()[0]).rename('era5m_max_temp')\n",
        "chirpsd_prec_r =chirpsd_prec.resample().reproject(rsn2)\n",
        "# chirpsm_prec =chirps_m_mean_.select(chirps_m_mean_.bandNames().getInfo()[0]).rename('chirpsm_prec')\n",
        "# mod_lst = modislst_m_mean_.select(modislst_m_mean_.bandNames().getInfo()[0]).rename('mod_lst')\n",
        "gpp_r = gpp.reproject(rsn2)\n",
        "npp_r = npp.reproject(rsn2)\n",
        "wdvi_r = wdvi.reproject(rsn2)\n",
        "gli_r = gli.reproject(rsn2)\n",
        "gvi_r = gvi.reproject(rsn2)\n",
        "arvi2_r =arvi2.reproject(rsn2)\n",
        "\n",
        "img_2016_r = era5d_prec_r.addBands(era5_min_temp_r)\\\n",
        ".addBands(chirpsd_prec_r)\\\n",
        ".addBands(npp_r)\\\n",
        ".addBands(gpp_r)\\\n",
        ".addBands(wdvi_r)\\\n",
        ".addBands(gli_r)\\\n",
        ".addBands(gvi_r)\\\n",
        ".addBands(arvi2_r)\n",
        "\n",
        "classified = img_2016_r.select(feature_names).classify(another_classifier)\n",
        "# Reduce Regions to Counties\n",
        "class_2016 = classified.reduceRegions(**{\n",
        "    'collection':county,\n",
        "    'reducer': ee.Reducer.mean(),\n",
        "    'scale': scale\n",
        "})\n",
        "\n",
        "task = ee.batch.Export.image.toDrive(**{\n",
        "  'image': classified,\n",
        "  'description': 'Class2016',\n",
        "  'folder':'ee_demos',\n",
        "  'scale': scale,\n",
        "  'region': county.geometry(),\n",
        "  'crs':'EPSG:4326'\n",
        " })\n",
        "\n",
        "# task.start()"
      ],
      "metadata": {
        "id": "RKDs1trHoFhk",
        "colab": {
          "base_uri": "https://localhost:8080/",
          "height": 17
        },
        "outputId": "9312aa86-654f-4b0b-caba-147f465ebcf8"
      },
      "execution_count": null,
      "outputs": [
        {
          "output_type": "display_data",
          "data": {
            "text/plain": [
              "<IPython.core.display.HTML object>"
            ],
            "text/html": [
              "\n",
              "            <style>\n",
              "                .geemap-dark {\n",
              "                    --jp-widgets-color: white;\n",
              "                    --jp-widgets-label-color: white;\n",
              "                    --jp-ui-font-color1: white;\n",
              "                    --jp-layout-color2: #454545;\n",
              "                    background-color: #383838;\n",
              "                }\n",
              "\n",
              "                .geemap-dark .jupyter-button {\n",
              "                    --jp-layout-color3: #383838;\n",
              "                }\n",
              "\n",
              "                .geemap-colab {\n",
              "                    background-color: var(--colab-primary-surface-color, white);\n",
              "                }\n",
              "\n",
              "                .geemap-colab .jupyter-button {\n",
              "                    --jp-layout-color3: var(--colab-primary-surface-color, white);\n",
              "                }\n",
              "            </style>\n",
              "            "
            ]
          },
          "metadata": {}
        }
      ]
    },
    {
      "cell_type": "code",
      "source": [
        "# Reduce Regions to Counties\n",
        "class_2016_n = img_2016_r.reduceRegions(**{\n",
        "    'collection':newzones,\n",
        "    'reducer': ee.Reducer.median(),\n",
        "    'scale': scale,\n",
        "     'crs':'EPSG:4326'\n",
        "})\n",
        "\n",
        "task = ee.batch.Export.table.toDrive(collection=class_2016_n, folder='ee_demos', description='class_2016_n', fileFormat='SHP')\n",
        "task.start()"
      ],
      "metadata": {
        "colab": {
          "base_uri": "https://localhost:8080/",
          "height": 17
        },
        "id": "FcIkGlv-lc0k",
        "outputId": "d235667e-f51b-4c40-f065-bb75d050675a"
      },
      "execution_count": null,
      "outputs": [
        {
          "output_type": "display_data",
          "data": {
            "text/plain": [
              "<IPython.core.display.HTML object>"
            ],
            "text/html": [
              "\n",
              "            <style>\n",
              "                .geemap-dark {\n",
              "                    --jp-widgets-color: white;\n",
              "                    --jp-widgets-label-color: white;\n",
              "                    --jp-ui-font-color1: white;\n",
              "                    --jp-layout-color2: #454545;\n",
              "                    background-color: #383838;\n",
              "                }\n",
              "\n",
              "                .geemap-dark .jupyter-button {\n",
              "                    --jp-layout-color3: #383838;\n",
              "                }\n",
              "\n",
              "                .geemap-colab {\n",
              "                    background-color: var(--colab-primary-surface-color, white);\n",
              "                }\n",
              "\n",
              "                .geemap-colab .jupyter-button {\n",
              "                    --jp-layout-color3: var(--colab-primary-surface-color, white);\n",
              "                }\n",
              "            </style>\n",
              "            "
            ]
          },
          "metadata": {}
        }
      ]
    },
    {
      "cell_type": "code",
      "execution_count": null,
      "metadata": {
        "id": "W6x3z2mVHo_z",
        "colab": {
          "base_uri": "https://localhost:8080/",
          "height": 178
        },
        "outputId": "81418779-ee10-4f56-ceab-55369683ed9e"
      },
      "outputs": [
        {
          "output_type": "display_data",
          "data": {
            "text/plain": [
              "<IPython.core.display.HTML object>"
            ],
            "text/html": [
              "\n",
              "            <style>\n",
              "                .geemap-dark {\n",
              "                    --jp-widgets-color: white;\n",
              "                    --jp-widgets-label-color: white;\n",
              "                    --jp-ui-font-color1: white;\n",
              "                    --jp-layout-color2: #454545;\n",
              "                    background-color: #383838;\n",
              "                }\n",
              "\n",
              "                .geemap-dark .jupyter-button {\n",
              "                    --jp-layout-color3: #383838;\n",
              "                }\n",
              "\n",
              "                .geemap-colab {\n",
              "                    background-color: var(--colab-primary-surface-color, white);\n",
              "                }\n",
              "\n",
              "                .geemap-colab .jupyter-button {\n",
              "                    --jp-layout-color3: var(--colab-primary-surface-color, white);\n",
              "                }\n",
              "            </style>\n",
              "            "
            ]
          },
          "metadata": {}
        },
        {
          "output_type": "execute_result",
          "data": {
            "text/plain": [
              "{'state': 'READY',\n",
              " 'description': 'class_2016_n',\n",
              " 'priority': 100,\n",
              " 'creation_timestamp_ms': 1740646093885,\n",
              " 'update_timestamp_ms': 1740646093885,\n",
              " 'start_timestamp_ms': 0,\n",
              " 'task_type': 'EXPORT_FEATURES',\n",
              " 'id': 'HCHWTIWK2OYLPSNJZKEV3NB4',\n",
              " 'name': 'projects/ee-maizeyield/operations/HCHWTIWK2OYLPSNJZKEV3NB4'}"
            ]
          },
          "metadata": {},
          "execution_count": 504
        }
      ],
      "source": [
        "task.status()"
      ]
    },
    {
      "cell_type": "markdown",
      "metadata": {
        "id": "e6M2Jl64HL6s"
      },
      "source": [
        "# 2017"
      ]
    },
    {
      "cell_type": "code",
      "source": [
        "year ='2017'\n",
        "start = ee.Date('2017-04-01')\n",
        "end = ee.Date('2017-08-31')\n",
        "scale = 463.31271652791656"
      ],
      "metadata": {
        "id": "TFVER0W4uLTU",
        "colab": {
          "base_uri": "https://localhost:8080/",
          "height": 17
        },
        "outputId": "d9445d66-2670-4999-ea51-b0d5a728bd47"
      },
      "execution_count": null,
      "outputs": [
        {
          "output_type": "display_data",
          "data": {
            "text/plain": [
              "<IPython.core.display.HTML object>"
            ],
            "text/html": [
              "\n",
              "            <style>\n",
              "                .geemap-dark {\n",
              "                    --jp-widgets-color: white;\n",
              "                    --jp-widgets-label-color: white;\n",
              "                    --jp-ui-font-color1: white;\n",
              "                    --jp-layout-color2: #454545;\n",
              "                    background-color: #383838;\n",
              "                }\n",
              "\n",
              "                .geemap-dark .jupyter-button {\n",
              "                    --jp-layout-color3: #383838;\n",
              "                }\n",
              "\n",
              "                .geemap-colab {\n",
              "                    background-color: var(--colab-primary-surface-color, white);\n",
              "                }\n",
              "\n",
              "                .geemap-colab .jupyter-button {\n",
              "                    --jp-layout-color3: var(--colab-primary-surface-color, white);\n",
              "                }\n",
              "            </style>\n",
              "            "
            ]
          },
          "metadata": {}
        }
      ]
    },
    {
      "cell_type": "code",
      "execution_count": null,
      "metadata": {
        "id": "UszCefNdHrUi",
        "colab": {
          "base_uri": "https://localhost:8080/",
          "height": 17
        },
        "outputId": "6134a954-91a4-4608-b1f9-c0eb00e4e41a"
      },
      "outputs": [
        {
          "output_type": "display_data",
          "data": {
            "text/plain": [
              "<IPython.core.display.HTML object>"
            ],
            "text/html": [
              "\n",
              "            <style>\n",
              "                .geemap-dark {\n",
              "                    --jp-widgets-color: white;\n",
              "                    --jp-widgets-label-color: white;\n",
              "                    --jp-ui-font-color1: white;\n",
              "                    --jp-layout-color2: #454545;\n",
              "                    background-color: #383838;\n",
              "                }\n",
              "\n",
              "                .geemap-dark .jupyter-button {\n",
              "                    --jp-layout-color3: #383838;\n",
              "                }\n",
              "\n",
              "                .geemap-colab {\n",
              "                    background-color: var(--colab-primary-surface-color, white);\n",
              "                }\n",
              "\n",
              "                .geemap-colab .jupyter-button {\n",
              "                    --jp-layout-color3: var(--colab-primary-surface-color, white);\n",
              "                }\n",
              "            </style>\n",
              "            "
            ]
          },
          "metadata": {}
        }
      ],
      "source": [
        "\n",
        "era5d_prec = era5_tp_mean_.select(era5_tp_mean_.bandNames().getInfo()[7]).rename('era5d_prec')\n",
        "# era5_wind = era5_u_wind_10m_mean_.select(era5_u_wind_10m_mean_.bandNames().getInfo()[7]).rename('era5_wind')\n",
        "# era5m_wind = era5_u_wind_10monthly_mean_.select(era5_u_wind_10monthly_mean_.bandNames().getInfo()[7]).rename('era5m_wind')\n",
        "# era5m_prec = era5_monthly_mean_.select(era5_monthly_mean_.bandNames().getInfo()[7]).rename('era5m_prec')\n",
        "# era5_mean_temp = era5_mean_temp_mean_.select(era5_mean_temp_mean_.bandNames().getInfo()[7]).rename('era5_mean_temp')\n",
        "era5_min_temp =  era5_min_temp_mean_.select(era5_min_temp_mean_.bandNames().getInfo()[7]).rename('era5_min_temp')\n",
        "# era5_max_temp = era5_max_temp_mean_.select(era5_max_temp_mean_.bandNames().getInfo()[7]).rename('era5_max_temp')\n",
        "# era5m_mean_temp = era5m_temp_mean_.select(era5m_temp_mean_.bandNames().getInfo()[7]).rename('era5m_mean_temp')\n",
        "# era5m_min_temp = era5m_min_temp_mean_.select(era5m_min_temp_mean_.bandNames().getInfo()[7]).rename('era5m_min_temp')\n",
        "# era5m_max_temp = era5m_max_temp_mean_.select(era5m_max_temp_mean_.bandNames().getInfo()[7]).rename('era5m_max_temp')\n",
        "chirpsd_prec =chirps_d_mean_.select(chirps_d_mean_.bandNames().getInfo()[7]).rename('chirpsd_prec')\n",
        "# chirpsm_prec =chirps_m_mean_.select(chirps_m_mean_.bandNames().getInfo()[7]).rename('chirpsm_prec')\n",
        "# mod_lst = modislst_m_mean_.select(modislst_m_mean_.bandNames().getInfo()[7]).rename('mod_lst')\n",
        "gpp = gpp_prep(gpp_col,AOI,year).toBands().select(gpp_prep(gpp_col,AOI,year).toBands().bandNames()).rename('gpp')\n",
        "npp = npp_prep(npp_col,AOI,year).toBands().select(npp_prep(npp_col,AOI,year).toBands().bandNames()).rename('npp')\n",
        "wdvi = l8_2017.select('wdvi')\n",
        "gli = l8_2017.select('gli')\n",
        "gvi =l8_2017.select('gvi')\n",
        "arvi2 =l8_2017.select('arvi2')\n",
        "\n",
        "# task = ee.batch.Export.image.toAsset(**{\n",
        "#   'image': classified,\n",
        "#   'description': 'Class2017',\n",
        "#   'assetId': 'users/Prod/Outputs/Out5k/Class2017',\n",
        "#   'scale': scale,\n",
        "#   'region': county.geometry()\n",
        "# })\n",
        "# task.start()"
      ]
    },
    {
      "cell_type": "code",
      "source": [
        "# img_2010_repr = img_2010.reproject(crs='EPSG:4326', scale=500)\n",
        "era5d_prec_r = era5d_prec.resample().reproject(rsn2)\n",
        "# era5_wind = era5_u_wind_10m_mean_.select(era5_u_wind_10m_mean_.bandNames().getInfo()[0]).rename('era5_wind')\n",
        "# era5m_wind = era5_u_wind_10monthly_mean_.select(era5_u_wind_10monthly_mean_.bandNames().getInfo()[0]).rename('era5m_wind')\n",
        "# era5m_prec = era5_monthly_mean_.select(era5_monthly_mean_.bandNames().getInfo()[0]).rename('era5m_prec')\n",
        "# era5_mean_temp = era5_mean_temp_mean_.select(era5_mean_temp_mean_.bandNames().getInfo()[0]).rename('era5_mean_temp')\n",
        "era5_min_temp_r =  era5_min_temp.resample().reproject(rsn2)\n",
        "# era5_max_temp = era5_max_temp_mean_.select(era5_max_temp_mean_.bandNames().getInfo()[0]).rename('era5_max_temp')\n",
        "# era5m_mean_temp = era5m_temp_mean_.select(era5m_temp_mean_.bandNames().getInfo()[0]).rename('era5m_mean_temp')\n",
        "# era5m_min_temp = era5m_min_temp_mean_.select(era5m_min_temp_mean_.bandNames().getInfo()[0]).rename('era5m_min_temp')\n",
        "# era5m_max_temp = era5m_max_temp_mean_.select(era5m_max_temp_mean_.bandNames().getInfo()[0]).rename('era5m_max_temp')\n",
        "chirpsd_prec_r =chirpsd_prec.resample().reproject(rsn2)\n",
        "# chirpsm_prec =chirps_m_mean_.select(chirps_m_mean_.bandNames().getInfo()[0]).rename('chirpsm_prec')\n",
        "# mod_lst = modislst_m_mean_.select(modislst_m_mean_.bandNames().getInfo()[0]).rename('mod_lst')\n",
        "gpp_r = gpp.reproject(rsn2)\n",
        "npp_r = npp.reproject(rsn2)\n",
        "wdvi_r = wdvi.reproject(rsn2)\n",
        "gli_r = gli.reproject(rsn2)\n",
        "gvi_r = gvi.reproject(rsn2)\n",
        "arvi2_r =arvi2.reproject(rsn2)\n",
        "\n",
        "img_2017_r = era5d_prec_r.addBands(era5_min_temp_r)\\\n",
        ".addBands(chirpsd_prec_r)\\\n",
        ".addBands(npp_r)\\\n",
        ".addBands(gpp_r)\\\n",
        ".addBands(wdvi_r)\\\n",
        ".addBands(gli_r)\\\n",
        ".addBands(gvi_r)\\\n",
        ".addBands(arvi2_r)\n",
        "\n",
        "classified = img_2017_r.select(feature_names).classify(another_classifier)\n",
        "# Reduce Regions to Counties\n",
        "class_2017 = classified.reduceRegions(**{\n",
        "    'collection':county,\n",
        "    'reducer': ee.Reducer.mean(),\n",
        "    'scale': scale\n",
        "})\n",
        "\n",
        "task = ee.batch.Export.image.toDrive(**{\n",
        "  'image': classified,\n",
        "  'description': 'Class2017',\n",
        "  'folder':'ee_demos',\n",
        "  'scale': scale,\n",
        "  'region': county.geometry(),\n",
        "  'crs':'EPSG:4326'\n",
        " })\n",
        "\n",
        "# task.start()"
      ],
      "metadata": {
        "id": "wF8HyFKRvTUb",
        "colab": {
          "base_uri": "https://localhost:8080/",
          "height": 17
        },
        "outputId": "d65b4b3d-6f5b-4f0b-be5a-cb62e96c0add"
      },
      "execution_count": null,
      "outputs": [
        {
          "output_type": "display_data",
          "data": {
            "text/plain": [
              "<IPython.core.display.HTML object>"
            ],
            "text/html": [
              "\n",
              "            <style>\n",
              "                .geemap-dark {\n",
              "                    --jp-widgets-color: white;\n",
              "                    --jp-widgets-label-color: white;\n",
              "                    --jp-ui-font-color1: white;\n",
              "                    --jp-layout-color2: #454545;\n",
              "                    background-color: #383838;\n",
              "                }\n",
              "\n",
              "                .geemap-dark .jupyter-button {\n",
              "                    --jp-layout-color3: #383838;\n",
              "                }\n",
              "\n",
              "                .geemap-colab {\n",
              "                    background-color: var(--colab-primary-surface-color, white);\n",
              "                }\n",
              "\n",
              "                .geemap-colab .jupyter-button {\n",
              "                    --jp-layout-color3: var(--colab-primary-surface-color, white);\n",
              "                }\n",
              "            </style>\n",
              "            "
            ]
          },
          "metadata": {}
        }
      ]
    },
    {
      "cell_type": "code",
      "source": [
        "# Reduce Regions to Counties\n",
        "class_2017_n = img_2017_r.reduceRegions(**{\n",
        "    'collection':newzones,\n",
        "    'reducer': ee.Reducer.median(),\n",
        "    'scale': scale,\n",
        "     'crs':'EPSG:4326'\n",
        "})\n",
        "\n",
        "task = ee.batch.Export.table.toDrive(collection=class_2017_n, folder='ee_demos', description='class_2017_n', fileFormat='SHP')\n",
        "task.start()"
      ],
      "metadata": {
        "colab": {
          "base_uri": "https://localhost:8080/",
          "height": 17
        },
        "id": "1F7ALFDBlvRt",
        "outputId": "453c6b20-5b8d-43fa-8a52-7a94f22adefe"
      },
      "execution_count": null,
      "outputs": [
        {
          "output_type": "display_data",
          "data": {
            "text/plain": [
              "<IPython.core.display.HTML object>"
            ],
            "text/html": [
              "\n",
              "            <style>\n",
              "                .geemap-dark {\n",
              "                    --jp-widgets-color: white;\n",
              "                    --jp-widgets-label-color: white;\n",
              "                    --jp-ui-font-color1: white;\n",
              "                    --jp-layout-color2: #454545;\n",
              "                    background-color: #383838;\n",
              "                }\n",
              "\n",
              "                .geemap-dark .jupyter-button {\n",
              "                    --jp-layout-color3: #383838;\n",
              "                }\n",
              "\n",
              "                .geemap-colab {\n",
              "                    background-color: var(--colab-primary-surface-color, white);\n",
              "                }\n",
              "\n",
              "                .geemap-colab .jupyter-button {\n",
              "                    --jp-layout-color3: var(--colab-primary-surface-color, white);\n",
              "                }\n",
              "            </style>\n",
              "            "
            ]
          },
          "metadata": {}
        }
      ]
    },
    {
      "cell_type": "code",
      "execution_count": null,
      "metadata": {
        "id": "eL8ewlgUHq-7",
        "colab": {
          "base_uri": "https://localhost:8080/",
          "height": 178
        },
        "outputId": "f0bef552-2448-4c05-da2a-4203677a9593"
      },
      "outputs": [
        {
          "output_type": "display_data",
          "data": {
            "text/plain": [
              "<IPython.core.display.HTML object>"
            ],
            "text/html": [
              "\n",
              "            <style>\n",
              "                .geemap-dark {\n",
              "                    --jp-widgets-color: white;\n",
              "                    --jp-widgets-label-color: white;\n",
              "                    --jp-ui-font-color1: white;\n",
              "                    --jp-layout-color2: #454545;\n",
              "                    background-color: #383838;\n",
              "                }\n",
              "\n",
              "                .geemap-dark .jupyter-button {\n",
              "                    --jp-layout-color3: #383838;\n",
              "                }\n",
              "\n",
              "                .geemap-colab {\n",
              "                    background-color: var(--colab-primary-surface-color, white);\n",
              "                }\n",
              "\n",
              "                .geemap-colab .jupyter-button {\n",
              "                    --jp-layout-color3: var(--colab-primary-surface-color, white);\n",
              "                }\n",
              "            </style>\n",
              "            "
            ]
          },
          "metadata": {}
        },
        {
          "output_type": "execute_result",
          "data": {
            "text/plain": [
              "{'state': 'READY',\n",
              " 'description': 'class_2017_n',\n",
              " 'priority': 100,\n",
              " 'creation_timestamp_ms': 1740646111696,\n",
              " 'update_timestamp_ms': 1740646111696,\n",
              " 'start_timestamp_ms': 0,\n",
              " 'task_type': 'EXPORT_FEATURES',\n",
              " 'id': 'PGWY6HPJNIDWS4E7QASLC7CU',\n",
              " 'name': 'projects/ee-maizeyield/operations/PGWY6HPJNIDWS4E7QASLC7CU'}"
            ]
          },
          "metadata": {},
          "execution_count": 509
        }
      ],
      "source": [
        "task.status()"
      ]
    },
    {
      "cell_type": "markdown",
      "metadata": {
        "id": "tsLa4n0XHMh9"
      },
      "source": [
        "# 2018"
      ]
    },
    {
      "cell_type": "code",
      "source": [],
      "metadata": {
        "id": "4cl3z7eZRsR8"
      },
      "execution_count": null,
      "outputs": []
    },
    {
      "cell_type": "code",
      "source": [
        "year ='2018'\n",
        "start = ee.Date('2018-04-01')\n",
        "end = ee.Date('2018-08-31')\n",
        "scale = 463.31271652791656"
      ],
      "metadata": {
        "id": "Z6Hnp5Arw3JQ",
        "colab": {
          "base_uri": "https://localhost:8080/",
          "height": 17
        },
        "outputId": "4b012a91-9e14-444f-fc14-2b81f943f237"
      },
      "execution_count": null,
      "outputs": [
        {
          "output_type": "display_data",
          "data": {
            "text/plain": [
              "<IPython.core.display.HTML object>"
            ],
            "text/html": [
              "\n",
              "            <style>\n",
              "                .geemap-dark {\n",
              "                    --jp-widgets-color: white;\n",
              "                    --jp-widgets-label-color: white;\n",
              "                    --jp-ui-font-color1: white;\n",
              "                    --jp-layout-color2: #454545;\n",
              "                    background-color: #383838;\n",
              "                }\n",
              "\n",
              "                .geemap-dark .jupyter-button {\n",
              "                    --jp-layout-color3: #383838;\n",
              "                }\n",
              "\n",
              "                .geemap-colab {\n",
              "                    background-color: var(--colab-primary-surface-color, white);\n",
              "                }\n",
              "\n",
              "                .geemap-colab .jupyter-button {\n",
              "                    --jp-layout-color3: var(--colab-primary-surface-color, white);\n",
              "                }\n",
              "            </style>\n",
              "            "
            ]
          },
          "metadata": {}
        }
      ]
    },
    {
      "cell_type": "code",
      "execution_count": null,
      "metadata": {
        "id": "be0fxiqBHs-4",
        "colab": {
          "base_uri": "https://localhost:8080/",
          "height": 17
        },
        "outputId": "f84f7ad5-cb2a-40ac-f993-c77d3defd8f5"
      },
      "outputs": [
        {
          "output_type": "display_data",
          "data": {
            "text/plain": [
              "<IPython.core.display.HTML object>"
            ],
            "text/html": [
              "\n",
              "            <style>\n",
              "                .geemap-dark {\n",
              "                    --jp-widgets-color: white;\n",
              "                    --jp-widgets-label-color: white;\n",
              "                    --jp-ui-font-color1: white;\n",
              "                    --jp-layout-color2: #454545;\n",
              "                    background-color: #383838;\n",
              "                }\n",
              "\n",
              "                .geemap-dark .jupyter-button {\n",
              "                    --jp-layout-color3: #383838;\n",
              "                }\n",
              "\n",
              "                .geemap-colab {\n",
              "                    background-color: var(--colab-primary-surface-color, white);\n",
              "                }\n",
              "\n",
              "                .geemap-colab .jupyter-button {\n",
              "                    --jp-layout-color3: var(--colab-primary-surface-color, white);\n",
              "                }\n",
              "            </style>\n",
              "            "
            ]
          },
          "metadata": {}
        }
      ],
      "source": [
        "\n",
        "era5d_prec = era5_tp_mean_.select(era5_tp_mean_.bandNames().getInfo()[8]).rename('era5d_prec')\n",
        "era5_wind = era5_u_wind_10m_mean_.select(era5_u_wind_10m_mean_.bandNames().getInfo()[8]).rename('era5_wind')\n",
        "# era5m_wind = era5_u_wind_10monthly_mean_.select(era5_u_wind_10monthly_mean_.bandNames().getInfo()[8]).rename('era5m_wind')\n",
        "era5m_prec = era5_monthly_mean_.select(era5_monthly_mean_.bandNames().getInfo()[8]).rename('era5m_prec')\n",
        "era5_mean_temp = era5_mean_temp_mean_.select(era5_mean_temp_mean_.bandNames().getInfo()[8]).rename('era5_mean_temp')\n",
        "era5_min_temp =  era5_min_temp_mean_.select(era5_min_temp_mean_.bandNames().getInfo()[8]).rename('era5_min_temp')\n",
        "era5_max_temp = era5_max_temp_mean_.select(era5_max_temp_mean_.bandNames().getInfo()[8]).rename('era5_max_temp')\n",
        "era5m_mean_temp = era5m_temp_mean_.select(era5m_temp_mean_.bandNames().getInfo()[8]).rename('era5m_mean_temp')\n",
        "# era5m_min_temp = era5m_min_temp_mean_.select(era5m_min_temp_mean_.bandNames().getInfo()[8]).rename('era5m_min_temp')\n",
        "# era5m_max_temp = era5m_max_temp_mean_.select(era5m_max_temp_mean_.bandNames().getInfo()[8]).rename('era5m_max_temp')\n",
        "# chirpsd_prec =chirps_d_mean_.select(chirps_d_mean_.bandNames().getInfo()[8]).rename('chirpsd_prec')\n",
        "chirpsm_prec =chirps_m_mean_.select(chirps_m_mean_.bandNames().getInfo()[8]).rename('chirpsm_prec')\n",
        "# mod_lst = modislst_m_mean_.select(modislst_m_mean_.bandNames().getInfo()[8]).rename('mod_lst')\n",
        "gpp = gpp_prep(gpp_col,AOI,year).toBands().select(gpp_prep(gpp_col,AOI,year).toBands().bandNames()).rename('gpp')\n",
        "npp = npp_prep(npp_col,AOI,year).toBands().select(npp_prep(npp_col,AOI,year).toBands().bandNames()).rename('npp')\n",
        "wdvi = l8_2018.select('wdvi')\n",
        "gli = l8_2018.select('gli')\n",
        "gvi =l8_2018.select('gvi')\n",
        "arvi2 =l8_2018.select('arvi2')\n",
        "\n",
        "# img_2018 = era5d_prec.addBands(era5_wind)\\\n",
        "# .addBands(era5m_prec)\\\n",
        "# .addBands(era5_mean_temp)\\\n",
        "# .addBands(era5_min_temp)\\\n",
        "# .addBands(era5_max_temp)\\\n",
        "# .addBands(era5m_mean_temp)\\\n",
        "# .addBands(chirpsm_prec)\\\n",
        "# .addBands(nsi)\\\n",
        "# .addBands(gli)\\\n",
        "# .addBands(sipi)\n",
        "\n",
        "# # .addBands(era5m_min_temp)\\# .addBands(era5m_wind)\\\n",
        "# # .addBands(era5m_max_temp)\\\n",
        "# # .addBands(chirpsd_prec)\\# .addBands(gpp)\\\n",
        "# # .addBands(npp)\\\n",
        "# # .addBands(mod_lst)\n",
        "# # classify the image again but with the classifier from the persisted trees\n",
        "# classified = img_2018.select(feature_names).classify(another_classifier)\n",
        "# # Reduce Regions to Counties\n",
        "# class_2018 = classified.reduceRegions(**{\n",
        "#     'collection':county,\n",
        "#     'reducer': ee.Reducer.mean(),\n",
        "#     'scale': scale\n",
        "# })\n",
        "# task = ee.batch.Export.image.toAsset(**{\n",
        "#   'image': classified,\n",
        "#   'description': 'Class2018',\n",
        "#   'assetId': 'users/Prod/Outputs/Out5k/Class2018',\n",
        "#   'scale': scale,\n",
        "#   'region': county.geometry()\n",
        "# })\n",
        "# task.start()"
      ]
    },
    {
      "cell_type": "code",
      "source": [
        "# img_2010_repr = img_2010.reproject(crs='EPSG:4326', scale=scale)\n",
        "era5d_prec_r = era5d_prec.resample().reproject(rsn2)\n",
        "# era5_wind = era5_u_wind_10m_mean_.select(era5_u_wind_10m_mean_.bandNames().getInfo()[0]).rename('era5_wind')\n",
        "# era5m_wind = era5_u_wind_10monthly_mean_.select(era5_u_wind_10monthly_mean_.bandNames().getInfo()[0]).rename('era5m_wind')\n",
        "# era5m_prec = era5_monthly_mean_.select(era5_monthly_mean_.bandNames().getInfo()[0]).rename('era5m_prec')\n",
        "# era5_mean_temp = era5_mean_temp_mean_.select(era5_mean_temp_mean_.bandNames().getInfo()[0]).rename('era5_mean_temp')\n",
        "era5_min_temp_r =  era5_min_temp.resample().reproject(rsn2)\n",
        "# era5_max_temp = era5_max_temp_mean_.select(era5_max_temp_mean_.bandNames().getInfo()[0]).rename('era5_max_temp')\n",
        "# era5m_mean_temp = era5m_temp_mean_.select(era5m_temp_mean_.bandNames().getInfo()[0]).rename('era5m_mean_temp')\n",
        "# era5m_min_temp = era5m_min_temp_mean_.select(era5m_min_temp_mean_.bandNames().getInfo()[0]).rename('era5m_min_temp')\n",
        "# era5m_max_temp = era5m_max_temp_mean_.select(era5m_max_temp_mean_.bandNames().getInfo()[0]).rename('era5m_max_temp')\n",
        "chirpsd_prec_r =chirpsd_prec.resample().reproject(rsn2)\n",
        "# chirpsm_prec =chirps_m_mean_.select(chirps_m_mean_.bandNames().getInfo()[0]).rename('chirpsm_prec')\n",
        "# mod_lst = modislst_m_mean_.select(modislst_m_mean_.bandNames().getInfo()[0]).rename('mod_lst')\n",
        "gpp_r = gpp.reproject(rsn2)\n",
        "npp_r = npp.reproject(rsn2)\n",
        "wdvi_r = wdvi.reproject(rsn2)\n",
        "gli_r = gli.reproject(rsn2)\n",
        "gvi_r = gvi.reproject(rsn2)\n",
        "arvi2_r =arvi2.reproject(rsn2)\n",
        "\n",
        "img_2018_r = era5d_prec_r.addBands(era5_min_temp_r)\\\n",
        ".addBands(chirpsd_prec_r)\\\n",
        ".addBands(npp_r)\\\n",
        ".addBands(gpp_r)\\\n",
        ".addBands(wdvi_r)\\\n",
        ".addBands(gli_r)\\\n",
        ".addBands(gvi_r)\\\n",
        ".addBands(arvi2_r)\n",
        "\n",
        "classified = img_2018_r.select(feature_names).classify(another_classifier)\n",
        "# Reduce Regions to Counties\n",
        "class_2018 = classified.reduceRegions(**{\n",
        "    'collection':AOI,\n",
        "    'reducer': ee.Reducer.mean(),\n",
        "    'scale': scale\n",
        "})\n",
        "\n",
        "task = ee.batch.Export.image.toDrive(**{\n",
        "  'image': classified,\n",
        "  'description': 'Class2018',\n",
        "  'folder':'ee_demos',\n",
        "  'scale': scale,\n",
        "  'region': AOI,\n",
        "  'crs':'EPSG:4326'\n",
        " })\n",
        "\n"
      ],
      "metadata": {
        "id": "pmi9HUOXxKjO",
        "colab": {
          "base_uri": "https://localhost:8080/",
          "height": 17
        },
        "outputId": "0d099411-87d1-4558-beb5-3bb2e2edcbf6"
      },
      "execution_count": null,
      "outputs": [
        {
          "output_type": "display_data",
          "data": {
            "text/plain": [
              "<IPython.core.display.HTML object>"
            ],
            "text/html": [
              "\n",
              "            <style>\n",
              "                .geemap-dark {\n",
              "                    --jp-widgets-color: white;\n",
              "                    --jp-widgets-label-color: white;\n",
              "                    --jp-ui-font-color1: white;\n",
              "                    --jp-layout-color2: #454545;\n",
              "                    background-color: #383838;\n",
              "                }\n",
              "\n",
              "                .geemap-dark .jupyter-button {\n",
              "                    --jp-layout-color3: #383838;\n",
              "                }\n",
              "\n",
              "                .geemap-colab {\n",
              "                    background-color: var(--colab-primary-surface-color, white);\n",
              "                }\n",
              "\n",
              "                .geemap-colab .jupyter-button {\n",
              "                    --jp-layout-color3: var(--colab-primary-surface-color, white);\n",
              "                }\n",
              "            </style>\n",
              "            "
            ]
          },
          "metadata": {}
        }
      ]
    },
    {
      "cell_type": "code",
      "source": [
        "# Reduce Regions to Counties\n",
        "class_2018_n = img_2018_r.reduceRegions(**{\n",
        "    'collection':newzones,\n",
        "    'reducer': ee.Reducer.median(),\n",
        "    'scale': scale,\n",
        "     'crs':'EPSG:4326'\n",
        "})\n",
        "\n",
        "task = ee.batch.Export.table.toDrive(collection=class_2018_n, folder='ee_demos', description='class_2018_n', fileFormat='SHP')\n",
        "task.start()"
      ],
      "metadata": {
        "colab": {
          "base_uri": "https://localhost:8080/",
          "height": 17
        },
        "id": "9eOVi-msmDKU",
        "outputId": "f75006e0-503f-4f1f-bce8-6cff8848e8cb"
      },
      "execution_count": null,
      "outputs": [
        {
          "output_type": "display_data",
          "data": {
            "text/plain": [
              "<IPython.core.display.HTML object>"
            ],
            "text/html": [
              "\n",
              "            <style>\n",
              "                .geemap-dark {\n",
              "                    --jp-widgets-color: white;\n",
              "                    --jp-widgets-label-color: white;\n",
              "                    --jp-ui-font-color1: white;\n",
              "                    --jp-layout-color2: #454545;\n",
              "                    background-color: #383838;\n",
              "                }\n",
              "\n",
              "                .geemap-dark .jupyter-button {\n",
              "                    --jp-layout-color3: #383838;\n",
              "                }\n",
              "\n",
              "                .geemap-colab {\n",
              "                    background-color: var(--colab-primary-surface-color, white);\n",
              "                }\n",
              "\n",
              "                .geemap-colab .jupyter-button {\n",
              "                    --jp-layout-color3: var(--colab-primary-surface-color, white);\n",
              "                }\n",
              "            </style>\n",
              "            "
            ]
          },
          "metadata": {}
        }
      ]
    },
    {
      "cell_type": "code",
      "execution_count": null,
      "metadata": {
        "id": "A8UUOFpZHsyJ",
        "colab": {
          "base_uri": "https://localhost:8080/",
          "height": 178
        },
        "outputId": "111ba62f-0b33-444d-862f-3b795f52591c"
      },
      "outputs": [
        {
          "output_type": "display_data",
          "data": {
            "text/plain": [
              "<IPython.core.display.HTML object>"
            ],
            "text/html": [
              "\n",
              "            <style>\n",
              "                .geemap-dark {\n",
              "                    --jp-widgets-color: white;\n",
              "                    --jp-widgets-label-color: white;\n",
              "                    --jp-ui-font-color1: white;\n",
              "                    --jp-layout-color2: #454545;\n",
              "                    background-color: #383838;\n",
              "                }\n",
              "\n",
              "                .geemap-dark .jupyter-button {\n",
              "                    --jp-layout-color3: #383838;\n",
              "                }\n",
              "\n",
              "                .geemap-colab {\n",
              "                    background-color: var(--colab-primary-surface-color, white);\n",
              "                }\n",
              "\n",
              "                .geemap-colab .jupyter-button {\n",
              "                    --jp-layout-color3: var(--colab-primary-surface-color, white);\n",
              "                }\n",
              "            </style>\n",
              "            "
            ]
          },
          "metadata": {}
        },
        {
          "output_type": "execute_result",
          "data": {
            "text/plain": [
              "{'state': 'READY',\n",
              " 'description': 'class_2018_n',\n",
              " 'priority': 100,\n",
              " 'creation_timestamp_ms': 1740646151039,\n",
              " 'update_timestamp_ms': 1740646151039,\n",
              " 'start_timestamp_ms': 0,\n",
              " 'task_type': 'EXPORT_FEATURES',\n",
              " 'id': 'A7GSQXZYZNWTHT2FUZ44XJ2X',\n",
              " 'name': 'projects/ee-maizeyield/operations/A7GSQXZYZNWTHT2FUZ44XJ2X'}"
            ]
          },
          "metadata": {},
          "execution_count": 514
        }
      ],
      "source": [
        "# task.start()\n",
        "task.status()"
      ]
    },
    {
      "cell_type": "markdown",
      "metadata": {
        "id": "6R2Xd3DWHNMI"
      },
      "source": [
        "# 2019"
      ]
    },
    {
      "cell_type": "code",
      "source": [
        "year ='2019'\n",
        "start = ee.Date('2019-04-01')\n",
        "end = ee.Date('2019-08-31')\n",
        "scale = 463.31271652791656"
      ],
      "metadata": {
        "id": "zbfH9KPgzN-_",
        "colab": {
          "base_uri": "https://localhost:8080/",
          "height": 17
        },
        "outputId": "4783890f-e848-4926-ddcd-e9bb63c78c5a"
      },
      "execution_count": null,
      "outputs": [
        {
          "output_type": "display_data",
          "data": {
            "text/plain": [
              "<IPython.core.display.HTML object>"
            ],
            "text/html": [
              "\n",
              "            <style>\n",
              "                .geemap-dark {\n",
              "                    --jp-widgets-color: white;\n",
              "                    --jp-widgets-label-color: white;\n",
              "                    --jp-ui-font-color1: white;\n",
              "                    --jp-layout-color2: #454545;\n",
              "                    background-color: #383838;\n",
              "                }\n",
              "\n",
              "                .geemap-dark .jupyter-button {\n",
              "                    --jp-layout-color3: #383838;\n",
              "                }\n",
              "\n",
              "                .geemap-colab {\n",
              "                    background-color: var(--colab-primary-surface-color, white);\n",
              "                }\n",
              "\n",
              "                .geemap-colab .jupyter-button {\n",
              "                    --jp-layout-color3: var(--colab-primary-surface-color, white);\n",
              "                }\n",
              "            </style>\n",
              "            "
            ]
          },
          "metadata": {}
        }
      ]
    },
    {
      "cell_type": "code",
      "execution_count": null,
      "metadata": {
        "id": "tZsIUfbNHu-S",
        "colab": {
          "base_uri": "https://localhost:8080/",
          "height": 17
        },
        "outputId": "5fce2b15-96a5-4ea6-da72-5e350c376514"
      },
      "outputs": [
        {
          "output_type": "display_data",
          "data": {
            "text/plain": [
              "<IPython.core.display.HTML object>"
            ],
            "text/html": [
              "\n",
              "            <style>\n",
              "                .geemap-dark {\n",
              "                    --jp-widgets-color: white;\n",
              "                    --jp-widgets-label-color: white;\n",
              "                    --jp-ui-font-color1: white;\n",
              "                    --jp-layout-color2: #454545;\n",
              "                    background-color: #383838;\n",
              "                }\n",
              "\n",
              "                .geemap-dark .jupyter-button {\n",
              "                    --jp-layout-color3: #383838;\n",
              "                }\n",
              "\n",
              "                .geemap-colab {\n",
              "                    background-color: var(--colab-primary-surface-color, white);\n",
              "                }\n",
              "\n",
              "                .geemap-colab .jupyter-button {\n",
              "                    --jp-layout-color3: var(--colab-primary-surface-color, white);\n",
              "                }\n",
              "            </style>\n",
              "            "
            ]
          },
          "metadata": {}
        }
      ],
      "source": [
        "\n",
        "era5d_prec = era5_tp_mean_.select(era5_tp_mean_.bandNames().getInfo()[9]).rename('era5d_prec')\n",
        "# era5_wind = era5_u_wind_10m_mean_.select(era5_u_wind_10m_mean_.bandNames().getInfo()[9]).rename('era5_wind')\n",
        "# era5m_wind = era5_u_wind_10monthly_mean_.select(era5_u_wind_10monthly_mean_.bandNames().getInfo()[9]).rename('era5m_wind')\n",
        "# era5m_prec = era5_monthly_mean_.select(era5_monthly_mean_.bandNames().getInfo()[9]).rename('era5m_prec')\n",
        "# era5_mean_temp = era5_mean_temp_mean_.select(era5_mean_temp_mean_.bandNames().getInfo()[9]).rename('era5_mean_temp')\n",
        "era5_min_temp =  era5_min_temp_mean_.select(era5_min_temp_mean_.bandNames().getInfo()[9]).rename('era5_min_temp')\n",
        "# era5_max_temp = era5_max_temp_mean_.select(era5_max_temp_mean_.bandNames().getInfo()[9]).rename('era5_max_temp')\n",
        "# era5m_mean_temp = era5m_temp_mean_.select(era5m_temp_mean_.bandNames().getInfo()[9]).rename('era5m_mean_temp')\n",
        "# era5m_min_temp = era5m_min_temp_mean_.select(era5m_min_temp_mean_.bandNames().getInfo()[9]).rename('era5m_min_temp')\n",
        "# era5m_max_temp = era5m_max_temp_mean_.select(era5m_max_temp_mean_.bandNames().getInfo()[9]).rename('era5m_max_temp')\n",
        "chirpsd_prec =chirps_d_mean_.select(chirps_d_mean_.bandNames().getInfo()[9]).rename('chirpsd_prec')\n",
        "# chirpsm_prec =chirps_m_mean_.select(chirps_m_mean_.bandNames().getInfo()[9]).rename('chirpsm_prec')\n",
        "# mod_lst = modislst_m_mean_.select(modislst_m_mean_.bandNames().getInfo()[9]).rename('mod_lst')\n",
        "gpp = gpp_prep(gpp_col,AOI,year).toBands().select(gpp_prep(gpp_col,AOI,year).toBands().bandNames()).rename('gpp')\n",
        "npp = npp_prep(npp_col,AOI,year).toBands().select(npp_prep(npp_col,AOI,year).toBands().bandNames()).rename('npp')\n",
        "wdvi = l8_2019.select('wdvi')\n",
        "gli = l8_2019.select('gli')\n",
        "gvi =l8_2019.select('gvi')\n",
        "arvi2 =l8_2019.select('arvi2')\n",
        "\n",
        "\n",
        "# img_2019 = era5d_prec.addBands(era5_wind)\\\n",
        "# .addBands(era5m_prec)\\\n",
        "# .addBands(era5_mean_temp)\\\n",
        "# .addBands(era5_min_temp)\\\n",
        "# .addBands(era5_max_temp)\\\n",
        "# .addBands(era5m_mean_temp)\\\n",
        "# .addBands(chirpsm_prec)\\\n",
        "# .addBands(nsi)\\\n",
        "# .addBands(gli)\\\n",
        "# .addBands(sipi)\n",
        "\n",
        "# # .addBands(era5m_min_temp)\\# .addBands(era5m_wind)\\\n",
        "# # .addBands(era5m_max_temp)\\\n",
        "# # .addBands(chirpsd_prec)\\# .addBands(gpp)\\\n",
        "# # .addBands(npp)\\\n",
        "# # .addBands(mod_lst)\n",
        "# # classify the image again but with the classifier from the persisted trees\n",
        "# classified = img_2019.select(feature_names).classify(another_classifier)\n",
        "# # Reduce Regions to Counties\n",
        "# class_2019 = classified.reduceRegions(**{\n",
        "#     'collection':county,\n",
        "#     'reducer': ee.Reducer.mean(),\n",
        "#     'scale': scale\n",
        "# })\n",
        "# task = ee.batch.Export.image.toAsset(**{\n",
        "#   'image': classified,\n",
        "#   'description': 'Class2019',\n",
        "#   'assetId': 'users/Prod/Outputs/Out5k/Class2019',\n",
        "#   'scale': scale,\n",
        "#   'region': county.geometry()\n",
        "# })\n",
        "# task.start()"
      ]
    },
    {
      "cell_type": "code",
      "source": [
        "# img_2010_repr = img_2010.reproject(crs='EPSG:4326', scale=scale)\n",
        "era5d_prec_r = era5d_prec.resample().reproject(rsn2)\n",
        "# era5_wind = era5_u_wind_10m_mean_.select(era5_u_wind_10m_mean_.bandNames().getInfo()[0]).rename('era5_wind')\n",
        "# era5m_wind = era5_u_wind_10monthly_mean_.select(era5_u_wind_10monthly_mean_.bandNames().getInfo()[0]).rename('era5m_wind')\n",
        "# era5m_prec = era5_monthly_mean_.select(era5_monthly_mean_.bandNames().getInfo()[0]).rename('era5m_prec')\n",
        "# era5_mean_temp = era5_mean_temp_mean_.select(era5_mean_temp_mean_.bandNames().getInfo()[0]).rename('era5_mean_temp')\n",
        "era5_min_temp_r =  era5_min_temp.resample().reproject(rsn2)\n",
        "# era5_max_temp = era5_max_temp_mean_.select(era5_max_temp_mean_.bandNames().getInfo()[0]).rename('era5_max_temp')\n",
        "# era5m_mean_temp = era5m_temp_mean_.select(era5m_temp_mean_.bandNames().getInfo()[0]).rename('era5m_mean_temp')\n",
        "# era5m_min_temp = era5m_min_temp_mean_.select(era5m_min_temp_mean_.bandNames().getInfo()[0]).rename('era5m_min_temp')\n",
        "# era5m_max_temp = era5m_max_temp_mean_.select(era5m_max_temp_mean_.bandNames().getInfo()[0]).rename('era5m_max_temp')\n",
        "chirpsd_prec_r =chirpsd_prec.resample().reproject(rsn2)\n",
        "# chirpsm_prec =chirps_m_mean_.select(chirps_m_mean_.bandNames().getInfo()[0]).rename('chirpsm_prec')\n",
        "# mod_lst = modislst_m_mean_.select(modislst_m_mean_.bandNames().getInfo()[0]).rename('mod_lst')\n",
        "gpp_r = gpp.reproject(rsn2)\n",
        "npp_r = npp.reproject(rsn2)\n",
        "wdvi_r = wdvi.reproject(rsn2)\n",
        "gli_r = gli.reproject(rsn2)\n",
        "gvi_r = gvi.reproject(rsn2)\n",
        "arvi2_r =arvi2.reproject(rsn2)\n",
        "\n",
        "img_2019_r = era5d_prec_r.addBands(era5_min_temp_r)\\\n",
        ".addBands(chirpsd_prec_r)\\\n",
        ".addBands(npp_r)\\\n",
        ".addBands(gpp_r)\\\n",
        ".addBands(wdvi_r)\\\n",
        ".addBands(gli_r)\\\n",
        ".addBands(gvi_r)\\\n",
        ".addBands(arvi2_r)\n",
        "\n",
        "classified = img_2019_r.select(feature_names).classify(another_classifier)\n",
        "# Reduce Regions to Counties\n",
        "class_2019 = classified.reduceRegions(**{\n",
        "    'collection':AOI,\n",
        "    'reducer': ee.Reducer.mean(),\n",
        "    'scale': scale\n",
        "})\n",
        "\n",
        "task = ee.batch.Export.image.toDrive(**{\n",
        "  'image': classified,\n",
        "  'description': 'Class2019',\n",
        "  'folder':'ee_demos',\n",
        "  'scale': scale,\n",
        "  'region': AOI,\n",
        "  'crs':'EPSG:4326'\n",
        " })\n",
        "\n",
        "# task.start()"
      ],
      "metadata": {
        "id": "6WE9RblUztNM",
        "colab": {
          "base_uri": "https://localhost:8080/",
          "height": 17
        },
        "outputId": "6ad96a5a-03e2-4346-9798-bed6db636647"
      },
      "execution_count": null,
      "outputs": [
        {
          "output_type": "display_data",
          "data": {
            "text/plain": [
              "<IPython.core.display.HTML object>"
            ],
            "text/html": [
              "\n",
              "            <style>\n",
              "                .geemap-dark {\n",
              "                    --jp-widgets-color: white;\n",
              "                    --jp-widgets-label-color: white;\n",
              "                    --jp-ui-font-color1: white;\n",
              "                    --jp-layout-color2: #454545;\n",
              "                    background-color: #383838;\n",
              "                }\n",
              "\n",
              "                .geemap-dark .jupyter-button {\n",
              "                    --jp-layout-color3: #383838;\n",
              "                }\n",
              "\n",
              "                .geemap-colab {\n",
              "                    background-color: var(--colab-primary-surface-color, white);\n",
              "                }\n",
              "\n",
              "                .geemap-colab .jupyter-button {\n",
              "                    --jp-layout-color3: var(--colab-primary-surface-color, white);\n",
              "                }\n",
              "            </style>\n",
              "            "
            ]
          },
          "metadata": {}
        }
      ]
    },
    {
      "cell_type": "code",
      "source": [
        "# Reduce Regions to Counties\n",
        "class_2019_n = img_2019_r.reduceRegions(**{\n",
        "    'collection':newzones,\n",
        "    'reducer': ee.Reducer.median(),\n",
        "    'scale': scale,\n",
        "     'crs':'EPSG:4326'\n",
        "})\n",
        "\n",
        "task = ee.batch.Export.table.toDrive(collection=class_2019_n, folder='ee_demos', description='class_2019_n', fileFormat='SHP')\n",
        "task.start()"
      ],
      "metadata": {
        "colab": {
          "base_uri": "https://localhost:8080/",
          "height": 17
        },
        "id": "-fnr9rHAmOhU",
        "outputId": "b5265fdd-c83e-4eb0-8ac2-b32f9172c021"
      },
      "execution_count": null,
      "outputs": [
        {
          "output_type": "display_data",
          "data": {
            "text/plain": [
              "<IPython.core.display.HTML object>"
            ],
            "text/html": [
              "\n",
              "            <style>\n",
              "                .geemap-dark {\n",
              "                    --jp-widgets-color: white;\n",
              "                    --jp-widgets-label-color: white;\n",
              "                    --jp-ui-font-color1: white;\n",
              "                    --jp-layout-color2: #454545;\n",
              "                    background-color: #383838;\n",
              "                }\n",
              "\n",
              "                .geemap-dark .jupyter-button {\n",
              "                    --jp-layout-color3: #383838;\n",
              "                }\n",
              "\n",
              "                .geemap-colab {\n",
              "                    background-color: var(--colab-primary-surface-color, white);\n",
              "                }\n",
              "\n",
              "                .geemap-colab .jupyter-button {\n",
              "                    --jp-layout-color3: var(--colab-primary-surface-color, white);\n",
              "                }\n",
              "            </style>\n",
              "            "
            ]
          },
          "metadata": {}
        }
      ]
    },
    {
      "cell_type": "code",
      "source": [
        "# Reduce Regions to Counties\n",
        "class_2019_n = img_2019_r.reduceRegions(**{\n",
        "    'collection':newzones,\n",
        "    'reducer': ee.Reducer.median(),\n",
        "    'scale': scale,\n",
        "     'crs':'EPSG:4326'\n",
        "})\n",
        "\n",
        "task = ee.batch.Export.table.toDrive(collection=class_2019_n, folder='ee_demos', description='class_2019_n', fileFormat='SHP')\n",
        "task.start()\n"
      ],
      "metadata": {
        "id": "EhhT8o0c5_m-"
      },
      "execution_count": null,
      "outputs": []
    },
    {
      "cell_type": "code",
      "execution_count": null,
      "metadata": {
        "id": "MIXRE1AzHusp",
        "colab": {
          "base_uri": "https://localhost:8080/",
          "height": 231
        },
        "outputId": "700bee18-514c-4d03-b1de-26f319eb7e52"
      },
      "outputs": [
        {
          "output_type": "display_data",
          "data": {
            "text/plain": [
              "<IPython.core.display.HTML object>"
            ],
            "text/html": [
              "\n",
              "            <style>\n",
              "                .geemap-dark {\n",
              "                    --jp-widgets-color: white;\n",
              "                    --jp-widgets-label-color: white;\n",
              "                    --jp-ui-font-color1: white;\n",
              "                    --jp-layout-color2: #454545;\n",
              "                    background-color: #383838;\n",
              "                }\n",
              "\n",
              "                .geemap-dark .jupyter-button {\n",
              "                    --jp-layout-color3: #383838;\n",
              "                }\n",
              "\n",
              "                .geemap-colab {\n",
              "                    background-color: var(--colab-primary-surface-color, white);\n",
              "                }\n",
              "\n",
              "                .geemap-colab .jupyter-button {\n",
              "                    --jp-layout-color3: var(--colab-primary-surface-color, white);\n",
              "                }\n",
              "            </style>\n",
              "            "
            ]
          },
          "metadata": {}
        },
        {
          "output_type": "execute_result",
          "data": {
            "text/plain": [
              "{'state': 'COMPLETED',\n",
              " 'description': 'class_2019_n',\n",
              " 'priority': 100,\n",
              " 'creation_timestamp_ms': 1740651263576,\n",
              " 'update_timestamp_ms': 1740651409794,\n",
              " 'start_timestamp_ms': 1740651273436,\n",
              " 'task_type': 'EXPORT_FEATURES',\n",
              " 'destination_uris': ['https://drive.google.com/#folders/1PnnfRcWoguMmhUR6tgBDpXFIi7ueBPJR'],\n",
              " 'attempt': 1,\n",
              " 'batch_eecu_usage_seconds': 514.9331665039062,\n",
              " 'id': 'EBTDWBETGFOF5CEYGDFR5B3Y',\n",
              " 'name': 'projects/ee-maizeyield/operations/EBTDWBETGFOF5CEYGDFR5B3Y'}"
            ]
          },
          "metadata": {},
          "execution_count": 529
        }
      ],
      "source": [
        "# task.start()\n",
        "task.status()"
      ]
    },
    {
      "cell_type": "markdown",
      "metadata": {
        "id": "ubCDXjMNHNul"
      },
      "source": [
        "# 2020"
      ]
    },
    {
      "cell_type": "code",
      "source": [
        "year ='2020'\n",
        "start = ee.Date('2020-04-01')\n",
        "end = ee.Date('2020-08-31')\n",
        "scale = 463.31271652791656"
      ],
      "metadata": {
        "id": "xJY-1-yS5prx",
        "colab": {
          "base_uri": "https://localhost:8080/",
          "height": 17
        },
        "outputId": "c241183d-2002-4a0e-8491-3e160496c44e"
      },
      "execution_count": null,
      "outputs": [
        {
          "output_type": "display_data",
          "data": {
            "text/plain": [
              "<IPython.core.display.HTML object>"
            ],
            "text/html": [
              "\n",
              "            <style>\n",
              "                .geemap-dark {\n",
              "                    --jp-widgets-color: white;\n",
              "                    --jp-widgets-label-color: white;\n",
              "                    --jp-ui-font-color1: white;\n",
              "                    --jp-layout-color2: #454545;\n",
              "                    background-color: #383838;\n",
              "                }\n",
              "\n",
              "                .geemap-dark .jupyter-button {\n",
              "                    --jp-layout-color3: #383838;\n",
              "                }\n",
              "\n",
              "                .geemap-colab {\n",
              "                    background-color: var(--colab-primary-surface-color, white);\n",
              "                }\n",
              "\n",
              "                .geemap-colab .jupyter-button {\n",
              "                    --jp-layout-color3: var(--colab-primary-surface-color, white);\n",
              "                }\n",
              "            </style>\n",
              "            "
            ]
          },
          "metadata": {}
        }
      ]
    },
    {
      "cell_type": "code",
      "execution_count": null,
      "metadata": {
        "id": "8t3X5uACHwcw",
        "colab": {
          "base_uri": "https://localhost:8080/",
          "height": 17
        },
        "outputId": "e7e7b844-24c5-4e4b-863b-f9f4c65577cf"
      },
      "outputs": [
        {
          "output_type": "display_data",
          "data": {
            "text/plain": [
              "<IPython.core.display.HTML object>"
            ],
            "text/html": [
              "\n",
              "            <style>\n",
              "                .geemap-dark {\n",
              "                    --jp-widgets-color: white;\n",
              "                    --jp-widgets-label-color: white;\n",
              "                    --jp-ui-font-color1: white;\n",
              "                    --jp-layout-color2: #454545;\n",
              "                    background-color: #383838;\n",
              "                }\n",
              "\n",
              "                .geemap-dark .jupyter-button {\n",
              "                    --jp-layout-color3: #383838;\n",
              "                }\n",
              "\n",
              "                .geemap-colab {\n",
              "                    background-color: var(--colab-primary-surface-color, white);\n",
              "                }\n",
              "\n",
              "                .geemap-colab .jupyter-button {\n",
              "                    --jp-layout-color3: var(--colab-primary-surface-color, white);\n",
              "                }\n",
              "            </style>\n",
              "            "
            ]
          },
          "metadata": {}
        }
      ],
      "source": [
        "\n",
        "era5d_prec = era5_tp_mean_.select(era5_tp_mean_.bandNames().getInfo()[10]).rename('era5d_prec')\n",
        "# era5_wind = era5_u_wind_10m_mean_.select(era5_u_wind_10m_mean_.bandNames().getInfo()[10]).rename('era5_wind')\n",
        "# era5m_wind = era5_u_wind_10monthly_mean_.select(era5_u_wind_10monthly_mean_.bandNames().getInfo()[10]).rename('era5m_wind')\n",
        "# era5m_prec = era5_monthly_mean_.select(era5_monthly_mean_.bandNames().getInfo()[10]).rename('era5m_prec')\n",
        "# era5_mean_temp = era5_mean_temp_mean_.select(era5_mean_temp_mean_.bandNames().getInfo()[10]).rename('era5_mean_temp')\n",
        "era5_min_temp =  era5_min_temp_mean_.select(era5_min_temp_mean_.bandNames().getInfo()[10]).rename('era5_min_temp')\n",
        "# era5_max_temp = era5_max_temp_mean_.select(era5_max_temp_mean_.bandNames().getInfo()[10]).rename('era5_max_temp')\n",
        "# era5m_mean_temp = era5m_temp_mean_.select(era5m_temp_mean_.bandNames().getInfo()[10]).rename('era5m_mean_temp')\n",
        "# era5m_min_temp = era5m_min_temp_mean_.select(era5m_min_temp_mean_.bandNames().getInfo()[10]).rename('era5m_min_temp')\n",
        "# era5m_max_temp = era5m_max_temp_mean_.select(era5m_max_temp_mean_.bandNames().getInfo()[10]).rename('era5m_max_temp')\n",
        "chirpsd_prec =chirps_d_mean_.select(chirps_d_mean_.bandNames().getInfo()[10]).rename('chirpsd_prec')\n",
        "# chirpsm_prec =chirps_m_mean_.select(chirps_m_mean_.bandNames().getInfo()[10]).rename('chirpsm_prec')\n",
        "# mod_lst = modislst_m_mean_.select(modislst_m_mean_.bandNames().getInfo()[10]).rename('mod_lst')\n",
        "gpp = gpp_prep(gpp_col,AOI,year).toBands().select(gpp_prep(gpp_col,AOI,year).toBands().bandNames()).rename('gpp')\n",
        "npp = npp_prep(npp_col,AOI,year).toBands().select(npp_prep(npp_col,AOI,year).toBands().bandNames()).rename('npp')\n",
        "wdvi = l8_2020.select('wdvi')\n",
        "gli = l8_2020.select('gli')\n",
        "gvi =l8_2020.select('gvi')\n",
        "arvi2 =l8_2020.select('arvi2')\n",
        "\n",
        "\n",
        "# img_2020 = era5d_prec.addBands(era5_wind)\\\n",
        "# .addBands(era5m_prec)\\\n",
        "# .addBands(era5_mean_temp)\\\n",
        "# .addBands(era5_min_temp)\\\n",
        "# .addBands(era5_max_temp)\\\n",
        "# .addBands(era5m_mean_temp)\\\n",
        "# .addBands(chirpsm_prec)\\\n",
        "# .addBands(nsi)\\\n",
        "# .addBands(gli)\\\n",
        "# .addBands(sipi)\n",
        "\n",
        "# # .addBands(era5m_min_temp)\\# .addBands(era5m_wind)\\\n",
        "# # .addBands(era5m_max_temp)\\\n",
        "# # .addBands(chirpsd_prec)\\# .addBands(gpp)\\\n",
        "# # .addBands(npp)\\\n",
        "# # .addBands(mod_lst)\n",
        "# # classify the image again but with the classifier from the persisted trees\n",
        "# classified = img_2020.select(feature_names).classify(another_classifier)\n",
        "# # Reduce Regions to Counties\n",
        "# class_2020 = classified.reduceRegions(**{\n",
        "#     'collection':county,\n",
        "#     'reducer': ee.Reducer.mean(),\n",
        "#     'scale': scale\n",
        "# })\n",
        "# task = ee.batch.Export.image.toAsset(**{\n",
        "#   'image': classified,\n",
        "#   'description': 'Class2020',\n",
        "#   'assetId': 'users/Prod/Outputs/Out5k/Class2020',\n",
        "#   'scale': scale,\n",
        "#   'region': county.geometry()\n",
        "# })\n",
        "# task.start()"
      ]
    },
    {
      "cell_type": "code",
      "source": [
        "# img_2010_repr = img_2010.reproject(crs='EPSG:4326', scale=500)\n",
        "era5d_prec_r = era5d_prec.resample().reproject(rsn2)\n",
        "# era5_wind = era5_u_wind_10m_mean_.select(era5_u_wind_10m_mean_.bandNames().getInfo()[0]).rename('era5_wind')\n",
        "# era5m_wind = era5_u_wind_10monthly_mean_.select(era5_u_wind_10monthly_mean_.bandNames().getInfo()[0]).rename('era5m_wind')\n",
        "# era5m_prec = era5_monthly_mean_.select(era5_monthly_mean_.bandNames().getInfo()[0]).rename('era5m_prec')\n",
        "# era5_mean_temp = era5_mean_temp_mean_.select(era5_mean_temp_mean_.bandNames().getInfo()[0]).rename('era5_mean_temp')\n",
        "era5_min_temp_r =  era5_min_temp.resample().reproject(rsn2)\n",
        "# era5_max_temp = era5_max_temp_mean_.select(era5_max_temp_mean_.bandNames().getInfo()[0]).rename('era5_max_temp')\n",
        "# era5m_mean_temp = era5m_temp_mean_.select(era5m_temp_mean_.bandNames().getInfo()[0]).rename('era5m_mean_temp')\n",
        "# era5m_min_temp = era5m_min_temp_mean_.select(era5m_min_temp_mean_.bandNames().getInfo()[0]).rename('era5m_min_temp')\n",
        "# era5m_max_temp = era5m_max_temp_mean_.select(era5m_max_temp_mean_.bandNames().getInfo()[0]).rename('era5m_max_temp')\n",
        "chirpsd_prec_r =chirpsd_prec.resample().reproject(rsn2)\n",
        "# chirpsm_prec =chirps_m_mean_.select(chirps_m_mean_.bandNames().getInfo()[0]).rename('chirpsm_prec')\n",
        "# mod_lst = modislst_m_mean_.select(modislst_m_mean_.bandNames().getInfo()[0]).rename('mod_lst')\n",
        "gpp_r = gpp.reproject(rsn2)\n",
        "npp_r = npp.reproject(rsn2)\n",
        "wdvi_r = wdvi.reproject(rsn2)\n",
        "gli_r = gli.reproject(rsn2)\n",
        "gvi_r = gvi.reproject(rsn2)\n",
        "arvi2_r =arvi2.reproject(rsn2)\n",
        "\n",
        "img_2020_r = era5d_prec_r.addBands(era5_min_temp_r)\\\n",
        ".addBands(chirpsd_prec_r)\\\n",
        ".addBands(npp_r)\\\n",
        ".addBands(gpp_r)\\\n",
        ".addBands(wdvi_r)\\\n",
        ".addBands(gli_r)\\\n",
        ".addBands(gvi_r)\\\n",
        ".addBands(arvi2_r)\n",
        "\n",
        "classified = img_2020_r.select(feature_names).classify(another_classifier)\n",
        "# Reduce Regions to Counties\n",
        "class_2020 = classified.reduceRegions(**{\n",
        "    'collection':AOI,\n",
        "    'reducer': ee.Reducer.mean(),\n",
        "    'scale': scale\n",
        "})\n",
        "\n",
        "task = ee.batch.Export.image.toDrive(**{\n",
        "  'image': classified,\n",
        "  'description': 'Class2020',\n",
        "  'folder':'ee_demos',\n",
        "  'scale': scale,\n",
        "  'region': AOI,\n",
        "  'crs':'EPSG:4326'\n",
        " })\n",
        "\n",
        "# task.start()"
      ],
      "metadata": {
        "id": "EN4obceQ5vz5",
        "colab": {
          "base_uri": "https://localhost:8080/",
          "height": 17
        },
        "outputId": "45e680ca-d187-467c-99c3-8c9f59d845ae"
      },
      "execution_count": null,
      "outputs": [
        {
          "output_type": "display_data",
          "data": {
            "text/plain": [
              "<IPython.core.display.HTML object>"
            ],
            "text/html": [
              "\n",
              "            <style>\n",
              "                .geemap-dark {\n",
              "                    --jp-widgets-color: white;\n",
              "                    --jp-widgets-label-color: white;\n",
              "                    --jp-ui-font-color1: white;\n",
              "                    --jp-layout-color2: #454545;\n",
              "                    background-color: #383838;\n",
              "                }\n",
              "\n",
              "                .geemap-dark .jupyter-button {\n",
              "                    --jp-layout-color3: #383838;\n",
              "                }\n",
              "\n",
              "                .geemap-colab {\n",
              "                    background-color: var(--colab-primary-surface-color, white);\n",
              "                }\n",
              "\n",
              "                .geemap-colab .jupyter-button {\n",
              "                    --jp-layout-color3: var(--colab-primary-surface-color, white);\n",
              "                }\n",
              "            </style>\n",
              "            "
            ]
          },
          "metadata": {}
        }
      ]
    },
    {
      "cell_type": "code",
      "source": [],
      "metadata": {
        "id": "VwJIe-3S5jau"
      },
      "execution_count": null,
      "outputs": []
    },
    {
      "cell_type": "code",
      "execution_count": null,
      "metadata": {
        "id": "uAzLMGh0HwOw",
        "colab": {
          "base_uri": "https://localhost:8080/",
          "height": 35
        },
        "outputId": "0bfda83c-0a4b-4bbd-c198-88093bf1678f"
      },
      "outputs": [
        {
          "output_type": "display_data",
          "data": {
            "text/plain": [
              "<IPython.core.display.HTML object>"
            ],
            "text/html": [
              "\n",
              "            <style>\n",
              "                .geemap-dark {\n",
              "                    --jp-widgets-color: white;\n",
              "                    --jp-widgets-label-color: white;\n",
              "                    --jp-ui-font-color1: white;\n",
              "                    --jp-layout-color2: #454545;\n",
              "                    background-color: #383838;\n",
              "                }\n",
              "\n",
              "                .geemap-dark .jupyter-button {\n",
              "                    --jp-layout-color3: #383838;\n",
              "                }\n",
              "\n",
              "                .geemap-colab {\n",
              "                    background-color: var(--colab-primary-surface-color, white);\n",
              "                }\n",
              "\n",
              "                .geemap-colab .jupyter-button {\n",
              "                    --jp-layout-color3: var(--colab-primary-surface-color, white);\n",
              "                }\n",
              "            </style>\n",
              "            "
            ]
          },
          "metadata": {}
        },
        {
          "output_type": "execute_result",
          "data": {
            "text/plain": [
              "{'state': <State.UNSUBMITTED: 'UNSUBMITTED'>}"
            ]
          },
          "metadata": {},
          "execution_count": 194
        }
      ],
      "source": [
        "# task.start()\n",
        "task.status()"
      ]
    },
    {
      "cell_type": "code",
      "execution_count": null,
      "metadata": {
        "id": "HBsS72VXmvEb",
        "colab": {
          "base_uri": "https://localhost:8080/",
          "height": 17
        },
        "outputId": "2702a886-f090-48c7-b7fb-adc57d2bee74"
      },
      "outputs": [
        {
          "output_type": "display_data",
          "data": {
            "text/plain": [
              "<IPython.core.display.HTML object>"
            ],
            "text/html": [
              "\n",
              "            <style>\n",
              "                .geemap-dark {\n",
              "                    --jp-widgets-color: white;\n",
              "                    --jp-widgets-label-color: white;\n",
              "                    --jp-ui-font-color1: white;\n",
              "                    --jp-layout-color2: #454545;\n",
              "                    background-color: #383838;\n",
              "                }\n",
              "\n",
              "                .geemap-dark .jupyter-button {\n",
              "                    --jp-layout-color3: #383838;\n",
              "                }\n",
              "\n",
              "                .geemap-colab {\n",
              "                    background-color: var(--colab-primary-surface-color, white);\n",
              "                }\n",
              "\n",
              "                .geemap-colab .jupyter-button {\n",
              "                    --jp-layout-color3: var(--colab-primary-surface-color, white);\n",
              "                }\n",
              "            </style>\n",
              "            "
            ]
          },
          "metadata": {}
        }
      ],
      "source": [
        "# class_2020 = classified.reduceRegions(**{\n",
        "#     'collection':county,\n",
        "#     'reducer': ee.Reducer.mean(),\n",
        "#     'scale': scale\n",
        "# })"
      ]
    },
    {
      "cell_type": "code",
      "execution_count": null,
      "metadata": {
        "id": "hq9KE90CkgpZ",
        "colab": {
          "base_uri": "https://localhost:8080/",
          "height": 17
        },
        "outputId": "10f9eeaa-21a2-44c9-a03b-4421f3c2c93c"
      },
      "outputs": [
        {
          "output_type": "display_data",
          "data": {
            "text/plain": [
              "<IPython.core.display.HTML object>"
            ],
            "text/html": [
              "\n",
              "            <style>\n",
              "                .geemap-dark {\n",
              "                    --jp-widgets-color: white;\n",
              "                    --jp-widgets-label-color: white;\n",
              "                    --jp-ui-font-color1: white;\n",
              "                    --jp-layout-color2: #454545;\n",
              "                    background-color: #383838;\n",
              "                }\n",
              "\n",
              "                .geemap-dark .jupyter-button {\n",
              "                    --jp-layout-color3: #383838;\n",
              "                }\n",
              "\n",
              "                .geemap-colab {\n",
              "                    background-color: var(--colab-primary-surface-color, white);\n",
              "                }\n",
              "\n",
              "                .geemap-colab .jupyter-button {\n",
              "                    --jp-layout-color3: var(--colab-primary-surface-color, white);\n",
              "                }\n",
              "            </style>\n",
              "            "
            ]
          },
          "metadata": {}
        }
      ],
      "source": [
        "# geemap.ee_export_vector(class_2020, 'class_2020.csv')\n"
      ]
    },
    {
      "cell_type": "markdown",
      "metadata": {
        "id": "ELRiJhNCHOTu"
      },
      "source": [
        "# 2021"
      ]
    },
    {
      "cell_type": "code",
      "execution_count": null,
      "metadata": {
        "id": "lN5AGay7Hx4T"
      },
      "outputs": [],
      "source": []
    },
    {
      "cell_type": "markdown",
      "metadata": {
        "id": "9aN1bfn_HdXh"
      },
      "source": [
        "# 2022"
      ]
    },
    {
      "cell_type": "code",
      "execution_count": null,
      "metadata": {
        "id": "3PzYheMvHzhg"
      },
      "outputs": [],
      "source": []
    },
    {
      "cell_type": "markdown",
      "metadata": {
        "id": "fE-fEVA7Hf4q"
      },
      "source": [
        "# 2023"
      ]
    },
    {
      "cell_type": "code",
      "execution_count": null,
      "metadata": {
        "id": "WOzspC17rwAV",
        "colab": {
          "base_uri": "https://localhost:8080/"
        },
        "outputId": "5a49fadb-fd07-4d9a-c39f-4c2fe3cf3216"
      },
      "outputs": [
        {
          "output_type": "display_data",
          "data": {
            "text/plain": [
              "<IPython.core.display.HTML object>"
            ],
            "text/html": [
              "\n",
              "            <style>\n",
              "                .geemap-dark {\n",
              "                    --jp-widgets-color: white;\n",
              "                    --jp-widgets-label-color: white;\n",
              "                    --jp-ui-font-color1: white;\n",
              "                    --jp-layout-color2: #454545;\n",
              "                    background-color: #383838;\n",
              "                }\n",
              "\n",
              "                .geemap-dark .jupyter-button {\n",
              "                    --jp-layout-color3: #383838;\n",
              "                }\n",
              "\n",
              "                .geemap-colab {\n",
              "                    background-color: var(--colab-primary-surface-color, white);\n",
              "                }\n",
              "\n",
              "                .geemap-colab .jupyter-button {\n",
              "                    --jp-layout-color3: var(--colab-primary-surface-color, white);\n",
              "                }\n",
              "            </style>\n",
              "            "
            ]
          },
          "metadata": {}
        }
      ],
      "source": [
        "# Map.addLayer(classified)"
      ]
    },
    {
      "cell_type": "markdown",
      "metadata": {
        "id": "WSYn6zLVbSUB"
      },
      "source": [
        "# EXPORT CSV"
      ]
    },
    {
      "cell_type": "code",
      "execution_count": null,
      "metadata": {
        "id": "z4WKGYXTUDpv",
        "colab": {
          "base_uri": "https://localhost:8080/"
        },
        "outputId": "6db0a327-e131-41f5-c23a-6b188a4d4a80"
      },
      "outputs": [
        {
          "output_type": "display_data",
          "data": {
            "text/plain": [
              "<IPython.core.display.HTML object>"
            ],
            "text/html": [
              "\n",
              "            <style>\n",
              "                .geemap-dark {\n",
              "                    --jp-widgets-color: white;\n",
              "                    --jp-widgets-label-color: white;\n",
              "                    --jp-ui-font-color1: white;\n",
              "                    --jp-layout-color2: #454545;\n",
              "                    background-color: #383838;\n",
              "                }\n",
              "\n",
              "                .geemap-dark .jupyter-button {\n",
              "                    --jp-layout-color3: #383838;\n",
              "                }\n",
              "\n",
              "                .geemap-colab {\n",
              "                    background-color: var(--colab-primary-surface-color, white);\n",
              "                }\n",
              "\n",
              "                .geemap-colab .jupyter-button {\n",
              "                    --jp-layout-color3: var(--colab-primary-surface-color, white);\n",
              "                }\n",
              "            </style>\n",
              "            "
            ]
          },
          "metadata": {}
        }
      ],
      "source": [
        "# geemap.ee_export_vector(test_reg, 'climatemod.csv')\n"
      ]
    },
    {
      "cell_type": "code",
      "execution_count": null,
      "metadata": {
        "id": "hACXpjqPfug9",
        "colab": {
          "base_uri": "https://localhost:8080/"
        },
        "outputId": "c8cb4ed7-24ca-4e49-fe4a-aebd4bb7c0b1"
      },
      "outputs": [
        {
          "output_type": "display_data",
          "data": {
            "text/plain": [
              "<IPython.core.display.HTML object>"
            ],
            "text/html": [
              "\n",
              "            <style>\n",
              "                .geemap-dark {\n",
              "                    --jp-widgets-color: white;\n",
              "                    --jp-widgets-label-color: white;\n",
              "                    --jp-ui-font-color1: white;\n",
              "                    --jp-layout-color2: #454545;\n",
              "                    background-color: #383838;\n",
              "                }\n",
              "\n",
              "                .geemap-dark .jupyter-button {\n",
              "                    --jp-layout-color3: #383838;\n",
              "                }\n",
              "\n",
              "                .geemap-colab {\n",
              "                    background-color: var(--colab-primary-surface-color, white);\n",
              "                }\n",
              "\n",
              "                .geemap-colab .jupyter-button {\n",
              "                    --jp-layout-color3: var(--colab-primary-surface-color, white);\n",
              "                }\n",
              "            </style>\n",
              "            "
            ]
          },
          "metadata": {}
        }
      ],
      "source": [
        "# Define the visualization parameters.\n",
        "# vizParams = {\n",
        "#   'bands': ['B5', 'B4', 'B3'],\n",
        "#   'min': 0,\n",
        "#   'max': 0.5,\n",
        "#   'gamma': [0.95, 1.1, 1]\n",
        "# }\n"
      ]
    },
    {
      "cell_type": "code",
      "execution_count": null,
      "metadata": {
        "id": "IrXLkRL8ObXN",
        "colab": {
          "base_uri": "https://localhost:8080/"
        },
        "outputId": "04ed1936-82cb-4e6a-8c9e-8660cc73be2a"
      },
      "outputs": [
        {
          "output_type": "display_data",
          "data": {
            "text/plain": [
              "<IPython.core.display.HTML object>"
            ],
            "text/html": [
              "\n",
              "            <style>\n",
              "                .geemap-dark {\n",
              "                    --jp-widgets-color: white;\n",
              "                    --jp-widgets-label-color: white;\n",
              "                    --jp-ui-font-color1: white;\n",
              "                    --jp-layout-color2: #454545;\n",
              "                    background-color: #383838;\n",
              "                }\n",
              "\n",
              "                .geemap-dark .jupyter-button {\n",
              "                    --jp-layout-color3: #383838;\n",
              "                }\n",
              "\n",
              "                .geemap-colab {\n",
              "                    background-color: var(--colab-primary-surface-color, white);\n",
              "                }\n",
              "\n",
              "                .geemap-colab .jupyter-button {\n",
              "                    --jp-layout-color3: var(--colab-primary-surface-color, white);\n",
              "                }\n",
              "            </style>\n",
              "            "
            ]
          },
          "metadata": {}
        }
      ],
      "source": [
        "# Map.addLayer(test_reg,{},'Climate Variables')\n",
        "# Map"
      ]
    },
    {
      "cell_type": "code",
      "source": [],
      "metadata": {
        "id": "4a4ih4mPNYuN"
      },
      "execution_count": null,
      "outputs": []
    },
    {
      "cell_type": "code",
      "source": [],
      "metadata": {
        "id": "xul8h7CDeB9j"
      },
      "execution_count": null,
      "outputs": []
    }
  ],
  "metadata": {
    "colab": {
      "collapsed_sections": [
        "KviXykxCtmaS",
        "rlOfaDOatuF7",
        "0YhmrHH5t_n5",
        "ckz98hnLvu7X",
        "xVooFVB0wONz",
        "9IFHnwdoUhU6",
        "sWKWA5whRPyQ",
        "15M_aUAkU0kE",
        "rPcKQi6yU9GY",
        "M6Qg2NI8VIp8",
        "wL_s6Xx5VSFz",
        "MouNmwLVbHRw",
        "HKVOk__bbMP4",
        "nMQ4KKrfGySD",
        "gFOHUlLgG2z_",
        "0FEbri4UG8Tp",
        "I7OypHRaHCrH",
        "kRV8pfgPHHSF",
        "oCEXPmBBHKpi",
        "0CvlyO6qHLTn",
        "e6M2Jl64HL6s",
        "tsLa4n0XHMh9",
        "6R2Xd3DWHNMI",
        "ubCDXjMNHNul",
        "9aN1bfn_HdXh",
        "fE-fEVA7Hf4q",
        "WSYn6zLVbSUB"
      ],
      "provenance": [],
      "toc_visible": true,
      "authorship_tag": "ABX9TyMT5pvnvmQ2nz3oi5FWKUd3",
      "include_colab_link": true
    },
    "kernelspec": {
      "display_name": "Python 3",
      "name": "python3"
    },
    "language_info": {
      "name": "python"
    },
    "widgets": {
      "application/vnd.jupyter.widget-state+json": {
        "55682e99f3614135b713e09290a8bbb2": {
          "model_module": "jupyter-leaflet",
          "model_name": "LeafletMapModel",
          "model_module_version": "^0.19",
          "state": {
            "_dom_classes": [],
            "_model_module": "jupyter-leaflet",
            "_model_module_version": "^0.19",
            "_model_name": "LeafletMapModel",
            "_view_count": null,
            "_view_module": "jupyter-leaflet",
            "_view_module_version": "^0.19",
            "_view_name": "LeafletMapView",
            "bottom": 17554,
            "bounce_at_zoom_limits": true,
            "box_zoom": true,
            "center": [
              -9.514079262770892,
              37.15026855468751
            ],
            "close_popup_on_click": true,
            "controls": [
              "IPY_MODEL_3ef0a1c5b5884c32bd6f6795cd42d565",
              "IPY_MODEL_d9955c70f3f64e64974f841c034bd0ea",
              "IPY_MODEL_ede46906cd244f369d50a578e3487294",
              "IPY_MODEL_ccf7cbcb09da4791909577952b0ced8e",
              "IPY_MODEL_2d4a57a778774dd985a31af3742c597a",
              "IPY_MODEL_3f40ba6e670a45129945f0fa8286cc52",
              "IPY_MODEL_b89a5ab718ad43af9d64beb6e7032021",
              "IPY_MODEL_d992c4470b394ef7b18600b8ee1449b0"
            ],
            "crs": {
              "name": "EPSG3857",
              "custom": false
            },
            "default_style": "IPY_MODEL_67e77cbd4af5415b81680707a02e726e",
            "double_click_zoom": true,
            "dragging": true,
            "dragging_style": "IPY_MODEL_1cf0d1fbbecd4c9883a1f0acc5db014d",
            "east": 43.09936523437501,
            "fullscreen": false,
            "inertia": true,
            "inertia_deceleration": 3000,
            "inertia_max_speed": 1500,
            "interpolation": "bilinear",
            "keyboard": true,
            "keyboard_pan_offset": 80,
            "keyboard_zoom_offset": 1,
            "layers": [
              "IPY_MODEL_38bc67b3e9c140ae9102213b03f003ce",
              "IPY_MODEL_fc34668b4a5e4242ba8438c7af04ad22",
              "IPY_MODEL_b2ce4d466d3f4c01bac5efa569c3fcf5",
              "IPY_MODEL_79bd494c280d40fda0048475a663c9ae",
              "IPY_MODEL_1f53980f90234c3db7f27a35e83d65bb",
              "IPY_MODEL_1cccbd3280c7471d90f8cc3bbde6bd4a"
            ],
            "layout": "IPY_MODEL_5a84b0319aae465abbe57342e0fe7d08",
            "left": 19224,
            "max_zoom": 24,
            "min_zoom": null,
            "modisdate": "2025-02-26",
            "north": -6.249776453227819,
            "options": [
              "bounce_at_zoom_limits",
              "box_zoom",
              "center",
              "close_popup_on_click",
              "double_click_zoom",
              "dragging",
              "fullscreen",
              "inertia",
              "inertia_deceleration",
              "inertia_max_speed",
              "interpolation",
              "keyboard",
              "keyboard_pan_offset",
              "keyboard_zoom_offset",
              "max_zoom",
              "min_zoom",
              "prefer_canvas",
              "scroll_wheel_zoom",
              "tap",
              "tap_tolerance",
              "touch_zoom",
              "world_copy_jump",
              "zoom",
              "zoom_animation_threshold",
              "zoom_delta",
              "zoom_snap"
            ],
            "panes": {},
            "prefer_canvas": false,
            "right": 20307,
            "scroll_wheel_zoom": true,
            "south": -12.747516274952714,
            "style": "IPY_MODEL_67e77cbd4af5415b81680707a02e726e",
            "tap": true,
            "tap_tolerance": 15,
            "top": 16954,
            "touch_zoom": true,
            "west": 31.201171875000004,
            "window_url": "https://dsqznnecihe-496ff2e9c6d22116-0-colab.googleusercontent.com/outputframe.html?vrz=colab_20250220-060115_RC00_729035613",
            "world_copy_jump": false,
            "zoom": 7,
            "zoom_animation_threshold": 4,
            "zoom_delta": 1,
            "zoom_snap": 1
          }
        },
        "3ef0a1c5b5884c32bd6f6795cd42d565": {
          "model_module": "jupyter-leaflet",
          "model_name": "LeafletWidgetControlModel",
          "model_module_version": "^0.19",
          "state": {
            "_model_module": "jupyter-leaflet",
            "_model_module_version": "^0.19",
            "_model_name": "LeafletWidgetControlModel",
            "_view_count": null,
            "_view_module": "jupyter-leaflet",
            "_view_module_version": "^0.19",
            "_view_name": "LeafletWidgetControlView",
            "max_height": null,
            "max_width": null,
            "min_height": null,
            "min_width": null,
            "options": [
              "position",
              "transparent_bg"
            ],
            "position": "topleft",
            "transparent_bg": false,
            "widget": "IPY_MODEL_4b367e576ba24db5985bea3e207bd85f"
          }
        },
        "d9955c70f3f64e64974f841c034bd0ea": {
          "model_module": "jupyter-leaflet",
          "model_name": "LeafletZoomControlModel",
          "model_module_version": "^0.19",
          "state": {
            "_model_module": "jupyter-leaflet",
            "_model_module_version": "^0.19",
            "_model_name": "LeafletZoomControlModel",
            "_view_count": null,
            "_view_module": "jupyter-leaflet",
            "_view_module_version": "^0.19",
            "_view_name": "LeafletZoomControlView",
            "options": [
              "position",
              "zoom_in_text",
              "zoom_in_title",
              "zoom_out_text",
              "zoom_out_title"
            ],
            "position": "topleft",
            "zoom_in_text": "+",
            "zoom_in_title": "Zoom in",
            "zoom_out_text": "-",
            "zoom_out_title": "Zoom out"
          }
        },
        "ede46906cd244f369d50a578e3487294": {
          "model_module": "jupyter-leaflet",
          "model_name": "LeafletFullScreenControlModel",
          "model_module_version": "^0.19",
          "state": {
            "_model_module": "jupyter-leaflet",
            "_model_module_version": "^0.19",
            "_model_name": "LeafletFullScreenControlModel",
            "_view_count": null,
            "_view_module": "jupyter-leaflet",
            "_view_module_version": "^0.19",
            "_view_name": "LeafletFullScreenControlView",
            "options": [
              "position"
            ],
            "position": "topleft"
          }
        },
        "ccf7cbcb09da4791909577952b0ced8e": {
          "model_module": "jupyter-leaflet",
          "model_name": "LeafletDrawControlModel",
          "model_module_version": "^0.19",
          "state": {
            "_model_module": "jupyter-leaflet",
            "_model_module_version": "^0.19",
            "_model_name": "LeafletDrawControlModel",
            "_view_count": null,
            "_view_module": "jupyter-leaflet",
            "_view_module_version": "^0.19",
            "_view_name": "LeafletDrawControlView",
            "circle": {},
            "circlemarker": {},
            "data": [],
            "edit": true,
            "marker": {
              "shapeOptions": {
                "color": "#3388ff"
              }
            },
            "options": [
              "position"
            ],
            "polygon": {
              "shapeOptions": {}
            },
            "polyline": {
              "shapeOptions": {}
            },
            "position": "topleft",
            "rectangle": {
              "shapeOptions": {
                "color": "#3388ff"
              }
            },
            "remove": true
          }
        },
        "2d4a57a778774dd985a31af3742c597a": {
          "model_module": "jupyter-leaflet",
          "model_name": "LeafletScaleControlModel",
          "model_module_version": "^0.19",
          "state": {
            "_model_module": "jupyter-leaflet",
            "_model_module_version": "^0.19",
            "_model_name": "LeafletScaleControlModel",
            "_view_count": null,
            "_view_module": "jupyter-leaflet",
            "_view_module_version": "^0.19",
            "_view_name": "LeafletScaleControlView",
            "imperial": true,
            "max_width": 100,
            "metric": true,
            "options": [
              "imperial",
              "max_width",
              "metric",
              "position",
              "update_when_idle"
            ],
            "position": "bottomleft",
            "update_when_idle": false
          }
        },
        "3f40ba6e670a45129945f0fa8286cc52": {
          "model_module": "jupyter-leaflet",
          "model_name": "LeafletMeasureControlModel",
          "model_module_version": "^0.19",
          "state": {
            "_custom_units": {},
            "_model_module": "jupyter-leaflet",
            "_model_module_version": "^0.19",
            "_model_name": "LeafletMeasureControlModel",
            "_view_count": null,
            "_view_module": "jupyter-leaflet",
            "_view_module_version": "^0.19",
            "_view_name": "LeafletMeasureControlView",
            "active_color": "orange",
            "capture_z_index": 10000,
            "completed_color": "#C8F2BE",
            "options": [
              "active_color",
              "capture_z_index",
              "completed_color",
              "popup_options",
              "position",
              "primary_area_unit",
              "primary_length_unit",
              "secondary_area_unit",
              "secondary_length_unit"
            ],
            "popup_options": {
              "className": "leaflet-measure-resultpopup",
              "autoPanPadding": [
                10,
                10
              ]
            },
            "position": "bottomleft",
            "primary_area_unit": "acres",
            "primary_length_unit": "kilometers",
            "secondary_area_unit": null,
            "secondary_length_unit": null
          }
        },
        "b89a5ab718ad43af9d64beb6e7032021": {
          "model_module": "jupyter-leaflet",
          "model_name": "LeafletWidgetControlModel",
          "model_module_version": "^0.19",
          "state": {
            "_model_module": "jupyter-leaflet",
            "_model_module_version": "^0.19",
            "_model_name": "LeafletWidgetControlModel",
            "_view_count": null,
            "_view_module": "jupyter-leaflet",
            "_view_module_version": "^0.19",
            "_view_name": "LeafletWidgetControlView",
            "max_height": null,
            "max_width": null,
            "min_height": null,
            "min_width": null,
            "options": [
              "position",
              "transparent_bg"
            ],
            "position": "topright",
            "transparent_bg": false,
            "widget": "IPY_MODEL_52dd9d838c6e4d2b8107f0a2fcbcf4d5"
          }
        },
        "d992c4470b394ef7b18600b8ee1449b0": {
          "model_module": "jupyter-leaflet",
          "model_name": "LeafletAttributionControlModel",
          "model_module_version": "^0.19",
          "state": {
            "_model_module": "jupyter-leaflet",
            "_model_module_version": "^0.19",
            "_model_name": "LeafletAttributionControlModel",
            "_view_count": null,
            "_view_module": "jupyter-leaflet",
            "_view_module_version": "^0.19",
            "_view_name": "LeafletAttributionControlView",
            "options": [
              "position",
              "prefix"
            ],
            "position": "bottomright",
            "prefix": "ipyleaflet"
          }
        },
        "67e77cbd4af5415b81680707a02e726e": {
          "model_module": "jupyter-leaflet",
          "model_name": "LeafletMapStyleModel",
          "model_module_version": "^0.19",
          "state": {
            "_model_module": "jupyter-leaflet",
            "_model_module_version": "^0.19",
            "_model_name": "LeafletMapStyleModel",
            "_view_count": null,
            "_view_module": "@jupyter-widgets/base",
            "_view_module_version": "1.2.0",
            "_view_name": "StyleView",
            "cursor": "grab"
          }
        },
        "1cf0d1fbbecd4c9883a1f0acc5db014d": {
          "model_module": "jupyter-leaflet",
          "model_name": "LeafletMapStyleModel",
          "model_module_version": "^0.19",
          "state": {
            "_model_module": "jupyter-leaflet",
            "_model_module_version": "^0.19",
            "_model_name": "LeafletMapStyleModel",
            "_view_count": null,
            "_view_module": "@jupyter-widgets/base",
            "_view_module_version": "1.2.0",
            "_view_name": "StyleView",
            "cursor": "move"
          }
        },
        "38bc67b3e9c140ae9102213b03f003ce": {
          "model_module": "jupyter-leaflet",
          "model_name": "LeafletTileLayerModel",
          "model_module_version": "^0.19",
          "state": {
            "_model_module": "jupyter-leaflet",
            "_model_module_version": "^0.19",
            "_model_name": "LeafletTileLayerModel",
            "_view_count": null,
            "_view_module": "jupyter-leaflet",
            "_view_module_version": "^0.19",
            "_view_name": "LeafletTileLayerView",
            "attribution": "&copy; <a href=\"https://www.openstreetmap.org/copyright\">OpenStreetMap</a> contributors",
            "base": true,
            "bottom": true,
            "bounds": null,
            "detect_retina": false,
            "loading": false,
            "max_native_zoom": null,
            "max_zoom": 30,
            "min_native_zoom": null,
            "min_zoom": 1,
            "name": "OpenStreetMap.Mapnik",
            "no_wrap": false,
            "opacity": 1,
            "options": [
              "attribution",
              "bounds",
              "detect_retina",
              "max_native_zoom",
              "max_zoom",
              "min_native_zoom",
              "min_zoom",
              "no_wrap",
              "tile_size",
              "tms",
              "zoom_offset"
            ],
            "pane": "",
            "popup": null,
            "popup_max_height": null,
            "popup_max_width": 300,
            "popup_min_width": 50,
            "show_loading": false,
            "subitems": [],
            "tile_size": 256,
            "tms": false,
            "url": "https://tile.openstreetmap.org/{z}/{x}/{y}.png",
            "visible": true,
            "zoom_offset": 0
          }
        },
        "fc34668b4a5e4242ba8438c7af04ad22": {
          "model_module": "jupyter-leaflet",
          "model_name": "LeafletTileLayerModel",
          "model_module_version": "^0.19",
          "state": {
            "_model_module": "jupyter-leaflet",
            "_model_module_version": "^0.19",
            "_model_name": "LeafletTileLayerModel",
            "_view_count": null,
            "_view_module": "jupyter-leaflet",
            "_view_module_version": "^0.19",
            "_view_name": "LeafletTileLayerView",
            "attribution": "Google Earth Engine",
            "base": false,
            "bottom": true,
            "bounds": null,
            "detect_retina": false,
            "loading": false,
            "max_native_zoom": null,
            "max_zoom": 24,
            "min_native_zoom": null,
            "min_zoom": 0,
            "name": "AOI",
            "no_wrap": false,
            "opacity": 1,
            "options": [
              "attribution",
              "bounds",
              "detect_retina",
              "max_native_zoom",
              "max_zoom",
              "min_native_zoom",
              "min_zoom",
              "no_wrap",
              "tile_size",
              "tms",
              "zoom_offset"
            ],
            "pane": "",
            "popup": null,
            "popup_max_height": null,
            "popup_max_width": 300,
            "popup_min_width": 50,
            "show_loading": false,
            "subitems": [],
            "tile_size": 256,
            "tms": false,
            "url": "https://earthengine.googleapis.com/v1/projects/ee-maizeyield/maps/5c48f9d01909ec0a0e21eb8b4e97b492-4a9108f2e337dff5c440e2875fda5d71/tiles/{z}/{x}/{y}",
            "visible": false,
            "zoom_offset": 0
          }
        },
        "b2ce4d466d3f4c01bac5efa569c3fcf5": {
          "model_module": "jupyter-leaflet",
          "model_name": "LeafletTileLayerModel",
          "model_module_version": "^0.19",
          "state": {
            "_model_module": "jupyter-leaflet",
            "_model_module_version": "^0.19",
            "_model_name": "LeafletTileLayerModel",
            "_view_count": null,
            "_view_module": "jupyter-leaflet",
            "_view_module_version": "^0.19",
            "_view_name": "LeafletTileLayerView",
            "attribution": "Google Earth Engine",
            "base": false,
            "bottom": true,
            "bounds": null,
            "detect_retina": false,
            "loading": false,
            "max_native_zoom": null,
            "max_zoom": 24,
            "min_native_zoom": null,
            "min_zoom": 0,
            "name": "Layer 2",
            "no_wrap": false,
            "opacity": 1,
            "options": [
              "attribution",
              "bounds",
              "detect_retina",
              "max_native_zoom",
              "max_zoom",
              "min_native_zoom",
              "min_zoom",
              "no_wrap",
              "tile_size",
              "tms",
              "zoom_offset"
            ],
            "pane": "",
            "popup": null,
            "popup_max_height": null,
            "popup_max_width": 300,
            "popup_min_width": 50,
            "show_loading": false,
            "subitems": [],
            "tile_size": 256,
            "tms": false,
            "url": "https://earthengine.googleapis.com/v1/projects/ee-maizeyield/maps/5c48f9d01909ec0a0e21eb8b4e97b492-9481744524774853859eea1aff8ed347/tiles/{z}/{x}/{y}",
            "visible": false,
            "zoom_offset": 0
          }
        },
        "79bd494c280d40fda0048475a663c9ae": {
          "model_module": "jupyter-leaflet",
          "model_name": "LeafletTileLayerModel",
          "model_module_version": "^0.19",
          "state": {
            "_model_module": "jupyter-leaflet",
            "_model_module_version": "^0.19",
            "_model_name": "LeafletTileLayerModel",
            "_view_count": null,
            "_view_module": "jupyter-leaflet",
            "_view_module_version": "^0.19",
            "_view_name": "LeafletTileLayerView",
            "attribution": "Google Earth Engine",
            "base": false,
            "bottom": true,
            "bounds": null,
            "detect_retina": false,
            "loading": false,
            "max_native_zoom": null,
            "max_zoom": 24,
            "min_native_zoom": null,
            "min_zoom": 0,
            "name": "Layer 3",
            "no_wrap": false,
            "opacity": 1,
            "options": [
              "attribution",
              "bounds",
              "detect_retina",
              "max_native_zoom",
              "max_zoom",
              "min_native_zoom",
              "min_zoom",
              "no_wrap",
              "tile_size",
              "tms",
              "zoom_offset"
            ],
            "pane": "",
            "popup": null,
            "popup_max_height": null,
            "popup_max_width": 300,
            "popup_min_width": 50,
            "show_loading": false,
            "subitems": [],
            "tile_size": 256,
            "tms": false,
            "url": "https://earthengine.googleapis.com/v1/projects/ee-maizeyield/maps/05c4536c5349dc6998cf1cec9e22bb17-69667c0756cef14e947512bf7f3817b5/tiles/{z}/{x}/{y}",
            "visible": false,
            "zoom_offset": 0
          }
        },
        "1f53980f90234c3db7f27a35e83d65bb": {
          "model_module": "jupyter-leaflet",
          "model_name": "LeafletTileLayerModel",
          "model_module_version": "^0.19",
          "state": {
            "_model_module": "jupyter-leaflet",
            "_model_module_version": "^0.19",
            "_model_name": "LeafletTileLayerModel",
            "_view_count": null,
            "_view_module": "jupyter-leaflet",
            "_view_module_version": "^0.19",
            "_view_name": "LeafletTileLayerView",
            "attribution": "Google Earth Engine",
            "base": false,
            "bottom": true,
            "bounds": null,
            "detect_retina": false,
            "loading": false,
            "max_native_zoom": null,
            "max_zoom": 24,
            "min_native_zoom": null,
            "min_zoom": 0,
            "name": "Layer 4",
            "no_wrap": false,
            "opacity": 1,
            "options": [
              "attribution",
              "bounds",
              "detect_retina",
              "max_native_zoom",
              "max_zoom",
              "min_native_zoom",
              "min_zoom",
              "no_wrap",
              "tile_size",
              "tms",
              "zoom_offset"
            ],
            "pane": "",
            "popup": null,
            "popup_max_height": null,
            "popup_max_width": 300,
            "popup_min_width": 50,
            "show_loading": false,
            "subitems": [],
            "tile_size": 256,
            "tms": false,
            "url": "https://earthengine.googleapis.com/v1/projects/ee-maizeyield/maps/53b9e018ba51bb16e0e52c3aca6a75f4-38971427c4c45a61fbcf48974fc3f494/tiles/{z}/{x}/{y}",
            "visible": false,
            "zoom_offset": 0
          }
        },
        "1cccbd3280c7471d90f8cc3bbde6bd4a": {
          "model_module": "jupyter-leaflet",
          "model_name": "LeafletTileLayerModel",
          "model_module_version": "^0.19",
          "state": {
            "_model_module": "jupyter-leaflet",
            "_model_module_version": "^0.19",
            "_model_name": "LeafletTileLayerModel",
            "_view_count": null,
            "_view_module": "jupyter-leaflet",
            "_view_module_version": "^0.19",
            "_view_name": "LeafletTileLayerView",
            "attribution": "Google Earth Engine",
            "base": false,
            "bottom": true,
            "bounds": null,
            "detect_retina": false,
            "loading": false,
            "max_native_zoom": null,
            "max_zoom": 24,
            "min_native_zoom": null,
            "min_zoom": 0,
            "name": "Newzones",
            "no_wrap": false,
            "opacity": 1,
            "options": [
              "attribution",
              "bounds",
              "detect_retina",
              "max_native_zoom",
              "max_zoom",
              "min_native_zoom",
              "min_zoom",
              "no_wrap",
              "tile_size",
              "tms",
              "zoom_offset"
            ],
            "pane": "",
            "popup": null,
            "popup_max_height": null,
            "popup_max_width": 300,
            "popup_min_width": 50,
            "show_loading": false,
            "subitems": [],
            "tile_size": 256,
            "tms": false,
            "url": "https://earthengine.googleapis.com/v1/projects/ee-maizeyield/maps/53b9e018ba51bb16e0e52c3aca6a75f4-0b691cb6c465a024c05067ca7bbf557b/tiles/{z}/{x}/{y}",
            "visible": true,
            "zoom_offset": 0
          }
        },
        "5a84b0319aae465abbe57342e0fe7d08": {
          "model_module": "@jupyter-widgets/base",
          "model_name": "LayoutModel",
          "model_module_version": "1.2.0",
          "state": {
            "_model_module": "@jupyter-widgets/base",
            "_model_module_version": "1.2.0",
            "_model_name": "LayoutModel",
            "_view_count": null,
            "_view_module": "@jupyter-widgets/base",
            "_view_module_version": "1.2.0",
            "_view_name": "LayoutView",
            "align_content": null,
            "align_items": null,
            "align_self": null,
            "border": null,
            "bottom": null,
            "display": null,
            "flex": null,
            "flex_flow": null,
            "grid_area": null,
            "grid_auto_columns": null,
            "grid_auto_flow": null,
            "grid_auto_rows": null,
            "grid_column": null,
            "grid_gap": null,
            "grid_row": null,
            "grid_template_areas": null,
            "grid_template_columns": null,
            "grid_template_rows": null,
            "height": "600px",
            "justify_content": null,
            "justify_items": null,
            "left": null,
            "margin": null,
            "max_height": null,
            "max_width": null,
            "min_height": null,
            "min_width": null,
            "object_fit": null,
            "object_position": null,
            "order": null,
            "overflow": null,
            "overflow_x": null,
            "overflow_y": null,
            "padding": null,
            "right": null,
            "top": null,
            "visibility": null,
            "width": null
          }
        },
        "4b367e576ba24db5985bea3e207bd85f": {
          "model_module": "@jupyter-widgets/controls",
          "model_name": "HBoxModel",
          "model_module_version": "1.5.0",
          "state": {
            "_dom_classes": [
              "geemap-colab"
            ],
            "_model_module": "@jupyter-widgets/controls",
            "_model_module_version": "1.5.0",
            "_model_name": "HBoxModel",
            "_view_count": null,
            "_view_module": "@jupyter-widgets/controls",
            "_view_module_version": "1.5.0",
            "_view_name": "HBoxView",
            "box_style": "",
            "children": [
              "IPY_MODEL_1ccbf3f7634841deb9a5a0682b3dd7dc"
            ],
            "layout": "IPY_MODEL_e5c9d1b243c7431db938e71055d855d5"
          }
        },
        "52dd9d838c6e4d2b8107f0a2fcbcf4d5": {
          "model_module": "@jupyter-widgets/controls",
          "model_name": "VBoxModel",
          "model_module_version": "1.5.0",
          "state": {
            "_dom_classes": [
              "geemap-colab"
            ],
            "_model_module": "@jupyter-widgets/controls",
            "_model_module_version": "1.5.0",
            "_model_name": "VBoxModel",
            "_view_count": null,
            "_view_module": "@jupyter-widgets/controls",
            "_view_module_version": "1.5.0",
            "_view_name": "VBoxView",
            "box_style": "",
            "children": [
              "IPY_MODEL_0af4b041446a40e0bbdbf0cb523e154d",
              "IPY_MODEL_ea66f7f181814f0ea549bb3f935694de"
            ],
            "layout": "IPY_MODEL_f848e756d05b4a409c4c1a4d6b179d45"
          }
        },
        "1ccbf3f7634841deb9a5a0682b3dd7dc": {
          "model_module": "@jupyter-widgets/controls",
          "model_name": "ToggleButtonModel",
          "model_module_version": "1.5.0",
          "state": {
            "_dom_classes": [],
            "_model_module": "@jupyter-widgets/controls",
            "_model_module_version": "1.5.0",
            "_model_name": "ToggleButtonModel",
            "_view_count": null,
            "_view_module": "@jupyter-widgets/controls",
            "_view_module_version": "1.5.0",
            "_view_name": "ToggleButtonView",
            "button_style": "",
            "description": "",
            "description_tooltip": null,
            "disabled": false,
            "icon": "globe",
            "layout": "IPY_MODEL_2de0d2d7944c46d187a4e218b8bd6b18",
            "style": "IPY_MODEL_e33191aa484c4fee8c4594ffafcfcd4a",
            "tooltip": "Search location/data",
            "value": false
          }
        },
        "e5c9d1b243c7431db938e71055d855d5": {
          "model_module": "@jupyter-widgets/base",
          "model_name": "LayoutModel",
          "model_module_version": "1.2.0",
          "state": {
            "_model_module": "@jupyter-widgets/base",
            "_model_module_version": "1.2.0",
            "_model_name": "LayoutModel",
            "_view_count": null,
            "_view_module": "@jupyter-widgets/base",
            "_view_module_version": "1.2.0",
            "_view_name": "LayoutView",
            "align_content": null,
            "align_items": null,
            "align_self": null,
            "border": null,
            "bottom": null,
            "display": null,
            "flex": null,
            "flex_flow": null,
            "grid_area": null,
            "grid_auto_columns": null,
            "grid_auto_flow": null,
            "grid_auto_rows": null,
            "grid_column": null,
            "grid_gap": null,
            "grid_row": null,
            "grid_template_areas": null,
            "grid_template_columns": null,
            "grid_template_rows": null,
            "height": null,
            "justify_content": null,
            "justify_items": null,
            "left": null,
            "margin": null,
            "max_height": null,
            "max_width": null,
            "min_height": null,
            "min_width": null,
            "object_fit": null,
            "object_position": null,
            "order": null,
            "overflow": null,
            "overflow_x": null,
            "overflow_y": null,
            "padding": null,
            "right": null,
            "top": null,
            "visibility": null,
            "width": null
          }
        },
        "0af4b041446a40e0bbdbf0cb523e154d": {
          "model_module": "@jupyter-widgets/controls",
          "model_name": "HBoxModel",
          "model_module_version": "1.5.0",
          "state": {
            "_dom_classes": [],
            "_model_module": "@jupyter-widgets/controls",
            "_model_module_version": "1.5.0",
            "_model_name": "HBoxModel",
            "_view_count": null,
            "_view_module": "@jupyter-widgets/controls",
            "_view_module_version": "1.5.0",
            "_view_name": "HBoxView",
            "box_style": "",
            "children": [
              "IPY_MODEL_a1b0b2b75d2642869f4b733e0202d4a6",
              "IPY_MODEL_060c631cba2248759e0bc9996ed65b86"
            ],
            "layout": "IPY_MODEL_6ce9392a10ac4f73ab2aa73c723ea5d5"
          }
        },
        "ea66f7f181814f0ea549bb3f935694de": {
          "model_module": "@jupyter-widgets/controls",
          "model_name": "VBoxModel",
          "model_module_version": "1.5.0",
          "state": {
            "_dom_classes": [],
            "_model_module": "@jupyter-widgets/controls",
            "_model_module_version": "1.5.0",
            "_model_name": "VBoxModel",
            "_view_count": null,
            "_view_module": "@jupyter-widgets/controls",
            "_view_module_version": "1.5.0",
            "_view_name": "VBoxView",
            "box_style": "",
            "children": [
              "IPY_MODEL_37256ac85b124f11b897b5a797f734cb"
            ],
            "layout": "IPY_MODEL_62b90909f8394d8daa3b018f9cb814ac"
          }
        },
        "f848e756d05b4a409c4c1a4d6b179d45": {
          "model_module": "@jupyter-widgets/base",
          "model_name": "LayoutModel",
          "model_module_version": "1.2.0",
          "state": {
            "_model_module": "@jupyter-widgets/base",
            "_model_module_version": "1.2.0",
            "_model_name": "LayoutModel",
            "_view_count": null,
            "_view_module": "@jupyter-widgets/base",
            "_view_module_version": "1.2.0",
            "_view_name": "LayoutView",
            "align_content": null,
            "align_items": null,
            "align_self": null,
            "border": null,
            "bottom": null,
            "display": null,
            "flex": null,
            "flex_flow": null,
            "grid_area": null,
            "grid_auto_columns": null,
            "grid_auto_flow": null,
            "grid_auto_rows": null,
            "grid_column": null,
            "grid_gap": null,
            "grid_row": null,
            "grid_template_areas": null,
            "grid_template_columns": null,
            "grid_template_rows": null,
            "height": null,
            "justify_content": null,
            "justify_items": null,
            "left": null,
            "margin": null,
            "max_height": null,
            "max_width": null,
            "min_height": null,
            "min_width": null,
            "object_fit": null,
            "object_position": null,
            "order": null,
            "overflow": null,
            "overflow_x": null,
            "overflow_y": null,
            "padding": null,
            "right": null,
            "top": null,
            "visibility": null,
            "width": null
          }
        },
        "2de0d2d7944c46d187a4e218b8bd6b18": {
          "model_module": "@jupyter-widgets/base",
          "model_name": "LayoutModel",
          "model_module_version": "1.2.0",
          "state": {
            "_model_module": "@jupyter-widgets/base",
            "_model_module_version": "1.2.0",
            "_model_name": "LayoutModel",
            "_view_count": null,
            "_view_module": "@jupyter-widgets/base",
            "_view_module_version": "1.2.0",
            "_view_name": "LayoutView",
            "align_content": null,
            "align_items": null,
            "align_self": null,
            "border": null,
            "bottom": null,
            "display": null,
            "flex": null,
            "flex_flow": null,
            "grid_area": null,
            "grid_auto_columns": null,
            "grid_auto_flow": null,
            "grid_auto_rows": null,
            "grid_column": null,
            "grid_gap": null,
            "grid_row": null,
            "grid_template_areas": null,
            "grid_template_columns": null,
            "grid_template_rows": null,
            "height": "28px",
            "justify_content": null,
            "justify_items": null,
            "left": null,
            "margin": null,
            "max_height": null,
            "max_width": null,
            "min_height": null,
            "min_width": null,
            "object_fit": null,
            "object_position": null,
            "order": null,
            "overflow": null,
            "overflow_x": null,
            "overflow_y": null,
            "padding": "0px 0px 0px 4px",
            "right": null,
            "top": null,
            "visibility": null,
            "width": "28px"
          }
        },
        "e33191aa484c4fee8c4594ffafcfcd4a": {
          "model_module": "@jupyter-widgets/controls",
          "model_name": "DescriptionStyleModel",
          "model_module_version": "1.5.0",
          "state": {
            "_model_module": "@jupyter-widgets/controls",
            "_model_module_version": "1.5.0",
            "_model_name": "DescriptionStyleModel",
            "_view_count": null,
            "_view_module": "@jupyter-widgets/base",
            "_view_module_version": "1.2.0",
            "_view_name": "StyleView",
            "description_width": ""
          }
        },
        "a1b0b2b75d2642869f4b733e0202d4a6": {
          "model_module": "@jupyter-widgets/controls",
          "model_name": "ToggleButtonModel",
          "model_module_version": "1.5.0",
          "state": {
            "_dom_classes": [],
            "_model_module": "@jupyter-widgets/controls",
            "_model_module_version": "1.5.0",
            "_model_name": "ToggleButtonModel",
            "_view_count": null,
            "_view_module": "@jupyter-widgets/controls",
            "_view_module_version": "1.5.0",
            "_view_name": "ToggleButtonView",
            "button_style": "",
            "description": "",
            "description_tooltip": null,
            "disabled": false,
            "icon": "server",
            "layout": "IPY_MODEL_5c074d60cd4a40e193a68982657da911",
            "style": "IPY_MODEL_d061deef7cc54ab08d1264a96e18448f",
            "tooltip": "Layers",
            "value": true
          }
        },
        "060c631cba2248759e0bc9996ed65b86": {
          "model_module": "@jupyter-widgets/controls",
          "model_name": "ToggleButtonModel",
          "model_module_version": "1.5.0",
          "state": {
            "_dom_classes": [],
            "_model_module": "@jupyter-widgets/controls",
            "_model_module_version": "1.5.0",
            "_model_name": "ToggleButtonModel",
            "_view_count": null,
            "_view_module": "@jupyter-widgets/controls",
            "_view_module_version": "1.5.0",
            "_view_name": "ToggleButtonView",
            "button_style": "",
            "description": "",
            "description_tooltip": null,
            "disabled": false,
            "icon": "wrench",
            "layout": "IPY_MODEL_1f01aa6b4d404c5f8c1c816aee0fbd2f",
            "style": "IPY_MODEL_ff3acf89819d42c091334b8ba48eac2c",
            "tooltip": "Toolbar",
            "value": false
          }
        },
        "6ce9392a10ac4f73ab2aa73c723ea5d5": {
          "model_module": "@jupyter-widgets/base",
          "model_name": "LayoutModel",
          "model_module_version": "1.2.0",
          "state": {
            "_model_module": "@jupyter-widgets/base",
            "_model_module_version": "1.2.0",
            "_model_name": "LayoutModel",
            "_view_count": null,
            "_view_module": "@jupyter-widgets/base",
            "_view_module_version": "1.2.0",
            "_view_name": "LayoutView",
            "align_content": null,
            "align_items": "center",
            "align_self": null,
            "border": null,
            "bottom": null,
            "display": "flex",
            "flex": null,
            "flex_flow": null,
            "grid_area": null,
            "grid_auto_columns": null,
            "grid_auto_flow": null,
            "grid_auto_rows": null,
            "grid_column": null,
            "grid_gap": null,
            "grid_row": null,
            "grid_template_areas": null,
            "grid_template_columns": null,
            "grid_template_rows": null,
            "height": null,
            "justify_content": "flex-end",
            "justify_items": null,
            "left": null,
            "margin": null,
            "max_height": null,
            "max_width": null,
            "min_height": null,
            "min_width": null,
            "object_fit": null,
            "object_position": null,
            "order": null,
            "overflow": null,
            "overflow_x": null,
            "overflow_y": null,
            "padding": null,
            "right": null,
            "top": null,
            "visibility": null,
            "width": null
          }
        },
        "37256ac85b124f11b897b5a797f734cb": {
          "model_module": "@jupyter-widgets/controls",
          "model_name": "VBoxModel",
          "model_module_version": "1.5.0",
          "state": {
            "_dom_classes": [
              "geemap-colab"
            ],
            "_model_module": "@jupyter-widgets/controls",
            "_model_module_version": "1.5.0",
            "_model_name": "VBoxModel",
            "_view_count": null,
            "_view_module": "@jupyter-widgets/controls",
            "_view_module_version": "1.5.0",
            "_view_name": "VBoxView",
            "box_style": "",
            "children": [
              "IPY_MODEL_80eaefc345bb4d0eaa4387166014a6f0",
              "IPY_MODEL_d8bc70e85e5a4d129e4ca5978c83967e"
            ],
            "layout": "IPY_MODEL_8c9a181128754bea8641eb18d705aef1"
          }
        },
        "62b90909f8394d8daa3b018f9cb814ac": {
          "model_module": "@jupyter-widgets/base",
          "model_name": "LayoutModel",
          "model_module_version": "1.2.0",
          "state": {
            "_model_module": "@jupyter-widgets/base",
            "_model_module_version": "1.2.0",
            "_model_name": "LayoutModel",
            "_view_count": null,
            "_view_module": "@jupyter-widgets/base",
            "_view_module_version": "1.2.0",
            "_view_name": "LayoutView",
            "align_content": null,
            "align_items": null,
            "align_self": null,
            "border": null,
            "bottom": null,
            "display": null,
            "flex": null,
            "flex_flow": null,
            "grid_area": null,
            "grid_auto_columns": null,
            "grid_auto_flow": null,
            "grid_auto_rows": null,
            "grid_column": null,
            "grid_gap": null,
            "grid_row": null,
            "grid_template_areas": null,
            "grid_template_columns": null,
            "grid_template_rows": null,
            "height": null,
            "justify_content": null,
            "justify_items": null,
            "left": null,
            "margin": null,
            "max_height": null,
            "max_width": null,
            "min_height": null,
            "min_width": null,
            "object_fit": null,
            "object_position": null,
            "order": null,
            "overflow": null,
            "overflow_x": null,
            "overflow_y": null,
            "padding": null,
            "right": null,
            "top": null,
            "visibility": null,
            "width": null
          }
        },
        "5c074d60cd4a40e193a68982657da911": {
          "model_module": "@jupyter-widgets/base",
          "model_name": "LayoutModel",
          "model_module_version": "1.2.0",
          "state": {
            "_model_module": "@jupyter-widgets/base",
            "_model_module_version": "1.2.0",
            "_model_name": "LayoutModel",
            "_view_count": null,
            "_view_module": "@jupyter-widgets/base",
            "_view_module_version": "1.2.0",
            "_view_name": "LayoutView",
            "align_content": null,
            "align_items": null,
            "align_self": null,
            "border": null,
            "bottom": null,
            "display": null,
            "flex": null,
            "flex_flow": null,
            "grid_area": null,
            "grid_auto_columns": null,
            "grid_auto_flow": null,
            "grid_auto_rows": null,
            "grid_column": null,
            "grid_gap": null,
            "grid_row": null,
            "grid_template_areas": null,
            "grid_template_columns": null,
            "grid_template_rows": null,
            "height": "28px",
            "justify_content": null,
            "justify_items": null,
            "left": null,
            "margin": null,
            "max_height": null,
            "max_width": null,
            "min_height": null,
            "min_width": null,
            "object_fit": null,
            "object_position": null,
            "order": null,
            "overflow": null,
            "overflow_x": null,
            "overflow_y": null,
            "padding": null,
            "right": null,
            "top": null,
            "visibility": null,
            "width": "72px"
          }
        },
        "d061deef7cc54ab08d1264a96e18448f": {
          "model_module": "@jupyter-widgets/controls",
          "model_name": "DescriptionStyleModel",
          "model_module_version": "1.5.0",
          "state": {
            "_model_module": "@jupyter-widgets/controls",
            "_model_module_version": "1.5.0",
            "_model_name": "DescriptionStyleModel",
            "_view_count": null,
            "_view_module": "@jupyter-widgets/base",
            "_view_module_version": "1.2.0",
            "_view_name": "StyleView",
            "description_width": ""
          }
        },
        "1f01aa6b4d404c5f8c1c816aee0fbd2f": {
          "model_module": "@jupyter-widgets/base",
          "model_name": "LayoutModel",
          "model_module_version": "1.2.0",
          "state": {
            "_model_module": "@jupyter-widgets/base",
            "_model_module_version": "1.2.0",
            "_model_name": "LayoutModel",
            "_view_count": null,
            "_view_module": "@jupyter-widgets/base",
            "_view_module_version": "1.2.0",
            "_view_name": "LayoutView",
            "align_content": null,
            "align_items": null,
            "align_self": null,
            "border": null,
            "bottom": null,
            "display": null,
            "flex": null,
            "flex_flow": null,
            "grid_area": null,
            "grid_auto_columns": null,
            "grid_auto_flow": null,
            "grid_auto_rows": null,
            "grid_column": null,
            "grid_gap": null,
            "grid_row": null,
            "grid_template_areas": null,
            "grid_template_columns": null,
            "grid_template_rows": null,
            "height": "28px",
            "justify_content": null,
            "justify_items": null,
            "left": null,
            "margin": null,
            "max_height": null,
            "max_width": null,
            "min_height": null,
            "min_width": null,
            "object_fit": null,
            "object_position": null,
            "order": null,
            "overflow": null,
            "overflow_x": null,
            "overflow_y": null,
            "padding": "0px 0px 0px 4px",
            "right": null,
            "top": null,
            "visibility": null,
            "width": "28px"
          }
        },
        "ff3acf89819d42c091334b8ba48eac2c": {
          "model_module": "@jupyter-widgets/controls",
          "model_name": "DescriptionStyleModel",
          "model_module_version": "1.5.0",
          "state": {
            "_model_module": "@jupyter-widgets/controls",
            "_model_module_version": "1.5.0",
            "_model_name": "DescriptionStyleModel",
            "_view_count": null,
            "_view_module": "@jupyter-widgets/base",
            "_view_module_version": "1.2.0",
            "_view_name": "StyleView",
            "description_width": ""
          }
        },
        "80eaefc345bb4d0eaa4387166014a6f0": {
          "model_module": "@jupyter-widgets/controls",
          "model_name": "HBoxModel",
          "model_module_version": "1.5.0",
          "state": {
            "_dom_classes": [],
            "_model_module": "@jupyter-widgets/controls",
            "_model_module_version": "1.5.0",
            "_model_name": "HBoxModel",
            "_view_count": null,
            "_view_module": "@jupyter-widgets/controls",
            "_view_module_version": "1.5.0",
            "_view_name": "HBoxView",
            "box_style": "",
            "children": [
              "IPY_MODEL_b0873c96ea3340ffa690507fb10efbfb",
              "IPY_MODEL_e5e5aa42235a42809c3f381b991d41e0"
            ],
            "layout": "IPY_MODEL_3ce150d864c146c087a3fb793cf6a00b"
          }
        },
        "d8bc70e85e5a4d129e4ca5978c83967e": {
          "model_module": "@jupyter-widgets/controls",
          "model_name": "VBoxModel",
          "model_module_version": "1.5.0",
          "state": {
            "_dom_classes": [],
            "_model_module": "@jupyter-widgets/controls",
            "_model_module_version": "1.5.0",
            "_model_name": "VBoxModel",
            "_view_count": null,
            "_view_module": "@jupyter-widgets/controls",
            "_view_module_version": "1.5.0",
            "_view_name": "VBoxView",
            "box_style": "",
            "children": [
              "IPY_MODEL_34398f8ed86545aaa5bd487ba68e446b",
              "IPY_MODEL_2541e8397d8046df8f3cafd1c7f9f294",
              "IPY_MODEL_632aaa834393411e9fa134c668fdf968",
              "IPY_MODEL_c66eed2442724484aa64916b2df55d34",
              "IPY_MODEL_656fa323f23349a798ac9ffd8b82a602",
              "IPY_MODEL_daea3636f8c24c3d8023077db312b001",
              "IPY_MODEL_ee5a903ec636400b86f08adc1ea20f57"
            ],
            "layout": "IPY_MODEL_be82f81ec2ac480b9694bdf47fd47ee1"
          }
        },
        "8c9a181128754bea8641eb18d705aef1": {
          "model_module": "@jupyter-widgets/base",
          "model_name": "LayoutModel",
          "model_module_version": "1.2.0",
          "state": {
            "_model_module": "@jupyter-widgets/base",
            "_model_module_version": "1.2.0",
            "_model_name": "LayoutModel",
            "_view_count": null,
            "_view_module": "@jupyter-widgets/base",
            "_view_module_version": "1.2.0",
            "_view_name": "LayoutView",
            "align_content": null,
            "align_items": null,
            "align_self": null,
            "border": null,
            "bottom": null,
            "display": null,
            "flex": null,
            "flex_flow": null,
            "grid_area": null,
            "grid_auto_columns": null,
            "grid_auto_flow": null,
            "grid_auto_rows": null,
            "grid_column": null,
            "grid_gap": null,
            "grid_row": null,
            "grid_template_areas": null,
            "grid_template_columns": null,
            "grid_template_rows": null,
            "height": null,
            "justify_content": null,
            "justify_items": null,
            "left": null,
            "margin": null,
            "max_height": null,
            "max_width": null,
            "min_height": null,
            "min_width": null,
            "object_fit": null,
            "object_position": null,
            "order": null,
            "overflow": null,
            "overflow_x": null,
            "overflow_y": null,
            "padding": null,
            "right": null,
            "top": null,
            "visibility": null,
            "width": null
          }
        },
        "b0873c96ea3340ffa690507fb10efbfb": {
          "model_module": "@jupyter-widgets/controls",
          "model_name": "ButtonModel",
          "model_module_version": "1.5.0",
          "state": {
            "_dom_classes": [],
            "_model_module": "@jupyter-widgets/controls",
            "_model_module_version": "1.5.0",
            "_model_name": "ButtonModel",
            "_view_count": null,
            "_view_module": "@jupyter-widgets/controls",
            "_view_module_version": "1.5.0",
            "_view_name": "ButtonView",
            "button_style": "primary",
            "description": "",
            "disabled": false,
            "icon": "times",
            "layout": "IPY_MODEL_39d1eb83bdb844788b6f37456b8f0ca4",
            "style": "IPY_MODEL_2e85494667a34838b1d5903e449fa1e4",
            "tooltip": "Close the tool"
          }
        },
        "e5e5aa42235a42809c3f381b991d41e0": {
          "model_module": "@jupyter-widgets/controls",
          "model_name": "ToggleButtonModel",
          "model_module_version": "1.5.0",
          "state": {
            "_dom_classes": [],
            "_model_module": "@jupyter-widgets/controls",
            "_model_module_version": "1.5.0",
            "_model_name": "ToggleButtonModel",
            "_view_count": null,
            "_view_module": "@jupyter-widgets/controls",
            "_view_module_version": "1.5.0",
            "_view_name": "ToggleButtonView",
            "button_style": "",
            "description": "",
            "description_tooltip": null,
            "disabled": false,
            "icon": "server",
            "layout": "IPY_MODEL_4d9f47da68664577b59a08f558ea5fdd",
            "style": "IPY_MODEL_f3df0d59047449019c10e4210b090745",
            "tooltip": "Layer Manager",
            "value": true
          }
        },
        "3ce150d864c146c087a3fb793cf6a00b": {
          "model_module": "@jupyter-widgets/base",
          "model_name": "LayoutModel",
          "model_module_version": "1.2.0",
          "state": {
            "_model_module": "@jupyter-widgets/base",
            "_model_module_version": "1.2.0",
            "_model_name": "LayoutModel",
            "_view_count": null,
            "_view_module": "@jupyter-widgets/base",
            "_view_module_version": "1.2.0",
            "_view_name": "LayoutView",
            "align_content": null,
            "align_items": null,
            "align_self": null,
            "border": null,
            "bottom": null,
            "display": "none",
            "flex": null,
            "flex_flow": null,
            "grid_area": null,
            "grid_auto_columns": null,
            "grid_auto_flow": null,
            "grid_auto_rows": null,
            "grid_column": null,
            "grid_gap": null,
            "grid_row": null,
            "grid_template_areas": null,
            "grid_template_columns": null,
            "grid_template_rows": null,
            "height": null,
            "justify_content": null,
            "justify_items": null,
            "left": null,
            "margin": null,
            "max_height": null,
            "max_width": null,
            "min_height": null,
            "min_width": null,
            "object_fit": null,
            "object_position": null,
            "order": null,
            "overflow": null,
            "overflow_x": null,
            "overflow_y": null,
            "padding": null,
            "right": null,
            "top": null,
            "visibility": null,
            "width": null
          }
        },
        "34398f8ed86545aaa5bd487ba68e446b": {
          "model_module": "@jupyter-widgets/controls",
          "model_name": "CheckboxModel",
          "model_module_version": "1.5.0",
          "state": {
            "_dom_classes": [],
            "_model_module": "@jupyter-widgets/controls",
            "_model_module_version": "1.5.0",
            "_model_name": "CheckboxModel",
            "_view_count": null,
            "_view_module": "@jupyter-widgets/controls",
            "_view_module_version": "1.5.0",
            "_view_name": "CheckboxView",
            "description": "All layers on/off",
            "description_tooltip": null,
            "disabled": false,
            "indent": false,
            "layout": "IPY_MODEL_1e68cd64afd34eea829144128bafe0ac",
            "style": "IPY_MODEL_1ce95d15809045d2b04a990dd76016c4",
            "value": false
          }
        },
        "2541e8397d8046df8f3cafd1c7f9f294": {
          "model_module": "@jupyter-widgets/controls",
          "model_name": "HBoxModel",
          "model_module_version": "1.5.0",
          "state": {
            "_dom_classes": [],
            "_model_module": "@jupyter-widgets/controls",
            "_model_module_version": "1.5.0",
            "_model_name": "HBoxModel",
            "_view_count": null,
            "_view_module": "@jupyter-widgets/controls",
            "_view_module_version": "1.5.0",
            "_view_name": "HBoxView",
            "box_style": "",
            "children": [
              "IPY_MODEL_0caa4118e28e41cfbf667635f892f86f",
              "IPY_MODEL_95d6e188477646e895a36f7995f26da2",
              "IPY_MODEL_79e9d7f2bc224b0ba9833097f98c9b3c",
              "IPY_MODEL_72c78eac530f43d09265141a3e60bf17"
            ],
            "layout": "IPY_MODEL_854a8fd5b1ca48099cd4f8f50f86f008"
          }
        },
        "632aaa834393411e9fa134c668fdf968": {
          "model_module": "@jupyter-widgets/controls",
          "model_name": "HBoxModel",
          "model_module_version": "1.5.0",
          "state": {
            "_dom_classes": [],
            "_model_module": "@jupyter-widgets/controls",
            "_model_module_version": "1.5.0",
            "_model_name": "HBoxModel",
            "_view_count": null,
            "_view_module": "@jupyter-widgets/controls",
            "_view_module_version": "1.5.0",
            "_view_name": "HBoxView",
            "box_style": "",
            "children": [
              "IPY_MODEL_1baa4fe58e8d46c19f19759dd8670205",
              "IPY_MODEL_e9f58b13dc94419eb7912ee0c9400e60",
              "IPY_MODEL_2b7d6f930ee84ae2880204665cecd744",
              "IPY_MODEL_0bd4e2155e12411d9139c8520c687087"
            ],
            "layout": "IPY_MODEL_99d463d318b84b9099d586726ac5e63d"
          }
        },
        "c66eed2442724484aa64916b2df55d34": {
          "model_module": "@jupyter-widgets/controls",
          "model_name": "HBoxModel",
          "model_module_version": "1.5.0",
          "state": {
            "_dom_classes": [],
            "_model_module": "@jupyter-widgets/controls",
            "_model_module_version": "1.5.0",
            "_model_name": "HBoxModel",
            "_view_count": null,
            "_view_module": "@jupyter-widgets/controls",
            "_view_module_version": "1.5.0",
            "_view_name": "HBoxView",
            "box_style": "",
            "children": [
              "IPY_MODEL_60af496ea4554d548f478042f99cf45a",
              "IPY_MODEL_85f96f8a31d049338627f5ef13fbb029",
              "IPY_MODEL_b3b66f9afdb348db8063972e1c622b16",
              "IPY_MODEL_58a64a23ae394663816f347f9f14b7b7"
            ],
            "layout": "IPY_MODEL_a962714e84b44e63b46cc912c7126356"
          }
        },
        "656fa323f23349a798ac9ffd8b82a602": {
          "model_module": "@jupyter-widgets/controls",
          "model_name": "HBoxModel",
          "model_module_version": "1.5.0",
          "state": {
            "_dom_classes": [],
            "_model_module": "@jupyter-widgets/controls",
            "_model_module_version": "1.5.0",
            "_model_name": "HBoxModel",
            "_view_count": null,
            "_view_module": "@jupyter-widgets/controls",
            "_view_module_version": "1.5.0",
            "_view_name": "HBoxView",
            "box_style": "",
            "children": [
              "IPY_MODEL_90f5e5dc83e641a7a8e8b9c9e340cb9e",
              "IPY_MODEL_718f0934483c453d80920f353491cc18",
              "IPY_MODEL_91579e72e4d84fb79cd578bd8a5706ff",
              "IPY_MODEL_61b2ed653ff943f8a8d14992f86f007f"
            ],
            "layout": "IPY_MODEL_06fc7f5e737348a485fa805eeba643c3"
          }
        },
        "daea3636f8c24c3d8023077db312b001": {
          "model_module": "@jupyter-widgets/controls",
          "model_name": "HBoxModel",
          "model_module_version": "1.5.0",
          "state": {
            "_dom_classes": [],
            "_model_module": "@jupyter-widgets/controls",
            "_model_module_version": "1.5.0",
            "_model_name": "HBoxModel",
            "_view_count": null,
            "_view_module": "@jupyter-widgets/controls",
            "_view_module_version": "1.5.0",
            "_view_name": "HBoxView",
            "box_style": "",
            "children": [
              "IPY_MODEL_751acca5b40746528ab291d6a626e1d1",
              "IPY_MODEL_a4155dab8004400d95640647f15a9ff8",
              "IPY_MODEL_59dc25025b234f71868c69f88f45a9cf",
              "IPY_MODEL_7e5ffbfdfc2e4bc29610bb823dccebe0"
            ],
            "layout": "IPY_MODEL_487a9f899f014be4a2c3e0599d013969"
          }
        },
        "ee5a903ec636400b86f08adc1ea20f57": {
          "model_module": "@jupyter-widgets/controls",
          "model_name": "HBoxModel",
          "model_module_version": "1.5.0",
          "state": {
            "_dom_classes": [],
            "_model_module": "@jupyter-widgets/controls",
            "_model_module_version": "1.5.0",
            "_model_name": "HBoxModel",
            "_view_count": null,
            "_view_module": "@jupyter-widgets/controls",
            "_view_module_version": "1.5.0",
            "_view_name": "HBoxView",
            "box_style": "",
            "children": [
              "IPY_MODEL_513c37913b98402cbe553cfd05d6961c",
              "IPY_MODEL_52d8a6b2f613477e8ffeefcb7031715b",
              "IPY_MODEL_98e1d4701a364b08bba1b552f0f2dca0",
              "IPY_MODEL_a9ed6c72056f4310a02625cff57d623c"
            ],
            "layout": "IPY_MODEL_74b8d444ad4e42be85fab20743a3d072"
          }
        },
        "be82f81ec2ac480b9694bdf47fd47ee1": {
          "model_module": "@jupyter-widgets/base",
          "model_name": "LayoutModel",
          "model_module_version": "1.2.0",
          "state": {
            "_model_module": "@jupyter-widgets/base",
            "_model_module_version": "1.2.0",
            "_model_name": "LayoutModel",
            "_view_count": null,
            "_view_module": "@jupyter-widgets/base",
            "_view_module_version": "1.2.0",
            "_view_name": "LayoutView",
            "align_content": null,
            "align_items": null,
            "align_self": null,
            "border": null,
            "bottom": null,
            "display": null,
            "flex": null,
            "flex_flow": null,
            "grid_area": null,
            "grid_auto_columns": null,
            "grid_auto_flow": null,
            "grid_auto_rows": null,
            "grid_column": null,
            "grid_gap": null,
            "grid_row": null,
            "grid_template_areas": null,
            "grid_template_columns": null,
            "grid_template_rows": null,
            "height": null,
            "justify_content": null,
            "justify_items": null,
            "left": null,
            "margin": null,
            "max_height": null,
            "max_width": null,
            "min_height": null,
            "min_width": null,
            "object_fit": null,
            "object_position": null,
            "order": null,
            "overflow": null,
            "overflow_x": null,
            "overflow_y": null,
            "padding": null,
            "right": null,
            "top": null,
            "visibility": null,
            "width": null
          }
        },
        "39d1eb83bdb844788b6f37456b8f0ca4": {
          "model_module": "@jupyter-widgets/base",
          "model_name": "LayoutModel",
          "model_module_version": "1.2.0",
          "state": {
            "_model_module": "@jupyter-widgets/base",
            "_model_module_version": "1.2.0",
            "_model_name": "LayoutModel",
            "_view_count": null,
            "_view_module": "@jupyter-widgets/base",
            "_view_module_version": "1.2.0",
            "_view_name": "LayoutView",
            "align_content": null,
            "align_items": null,
            "align_self": null,
            "border": null,
            "bottom": null,
            "display": null,
            "flex": null,
            "flex_flow": null,
            "grid_area": null,
            "grid_auto_columns": null,
            "grid_auto_flow": null,
            "grid_auto_rows": null,
            "grid_column": null,
            "grid_gap": null,
            "grid_row": null,
            "grid_template_areas": null,
            "grid_template_columns": null,
            "grid_template_rows": null,
            "height": "28px",
            "justify_content": null,
            "justify_items": null,
            "left": null,
            "margin": null,
            "max_height": null,
            "max_width": null,
            "min_height": null,
            "min_width": null,
            "object_fit": null,
            "object_position": null,
            "order": null,
            "overflow": null,
            "overflow_x": null,
            "overflow_y": null,
            "padding": "0px",
            "right": null,
            "top": null,
            "visibility": null,
            "width": "28px"
          }
        },
        "2e85494667a34838b1d5903e449fa1e4": {
          "model_module": "@jupyter-widgets/controls",
          "model_name": "ButtonStyleModel",
          "model_module_version": "1.5.0",
          "state": {
            "_model_module": "@jupyter-widgets/controls",
            "_model_module_version": "1.5.0",
            "_model_name": "ButtonStyleModel",
            "_view_count": null,
            "_view_module": "@jupyter-widgets/base",
            "_view_module_version": "1.2.0",
            "_view_name": "StyleView",
            "button_color": null,
            "font_weight": ""
          }
        },
        "4d9f47da68664577b59a08f558ea5fdd": {
          "model_module": "@jupyter-widgets/base",
          "model_name": "LayoutModel",
          "model_module_version": "1.2.0",
          "state": {
            "_model_module": "@jupyter-widgets/base",
            "_model_module_version": "1.2.0",
            "_model_name": "LayoutModel",
            "_view_count": null,
            "_view_module": "@jupyter-widgets/base",
            "_view_module_version": "1.2.0",
            "_view_name": "LayoutView",
            "align_content": null,
            "align_items": null,
            "align_self": null,
            "border": null,
            "bottom": null,
            "display": null,
            "flex": null,
            "flex_flow": null,
            "grid_area": null,
            "grid_auto_columns": null,
            "grid_auto_flow": null,
            "grid_auto_rows": null,
            "grid_column": null,
            "grid_gap": null,
            "grid_row": null,
            "grid_template_areas": null,
            "grid_template_columns": null,
            "grid_template_rows": null,
            "height": "28px",
            "justify_content": null,
            "justify_items": null,
            "left": null,
            "margin": null,
            "max_height": null,
            "max_width": null,
            "min_height": null,
            "min_width": null,
            "object_fit": null,
            "object_position": null,
            "order": null,
            "overflow": null,
            "overflow_x": null,
            "overflow_y": null,
            "padding": "0px 0px 0px 4px",
            "right": null,
            "top": null,
            "visibility": null,
            "width": "28px"
          }
        },
        "f3df0d59047449019c10e4210b090745": {
          "model_module": "@jupyter-widgets/controls",
          "model_name": "DescriptionStyleModel",
          "model_module_version": "1.5.0",
          "state": {
            "_model_module": "@jupyter-widgets/controls",
            "_model_module_version": "1.5.0",
            "_model_name": "DescriptionStyleModel",
            "_view_count": null,
            "_view_module": "@jupyter-widgets/base",
            "_view_module_version": "1.2.0",
            "_view_name": "StyleView",
            "description_width": ""
          }
        },
        "1e68cd64afd34eea829144128bafe0ac": {
          "model_module": "@jupyter-widgets/base",
          "model_name": "LayoutModel",
          "model_module_version": "1.2.0",
          "state": {
            "_model_module": "@jupyter-widgets/base",
            "_model_module_version": "1.2.0",
            "_model_name": "LayoutModel",
            "_view_count": null,
            "_view_module": "@jupyter-widgets/base",
            "_view_module_version": "1.2.0",
            "_view_name": "LayoutView",
            "align_content": null,
            "align_items": null,
            "align_self": null,
            "border": null,
            "bottom": null,
            "display": null,
            "flex": null,
            "flex_flow": null,
            "grid_area": null,
            "grid_auto_columns": null,
            "grid_auto_flow": null,
            "grid_auto_rows": null,
            "grid_column": null,
            "grid_gap": null,
            "grid_row": null,
            "grid_template_areas": null,
            "grid_template_columns": null,
            "grid_template_rows": null,
            "height": "18px",
            "justify_content": null,
            "justify_items": null,
            "left": null,
            "margin": null,
            "max_height": null,
            "max_width": null,
            "min_height": null,
            "min_width": null,
            "object_fit": null,
            "object_position": null,
            "order": null,
            "overflow": null,
            "overflow_x": null,
            "overflow_y": null,
            "padding": "0px 4px 25px 4px",
            "right": null,
            "top": null,
            "visibility": null,
            "width": "30ex"
          }
        },
        "1ce95d15809045d2b04a990dd76016c4": {
          "model_module": "@jupyter-widgets/controls",
          "model_name": "DescriptionStyleModel",
          "model_module_version": "1.5.0",
          "state": {
            "_model_module": "@jupyter-widgets/controls",
            "_model_module_version": "1.5.0",
            "_model_name": "DescriptionStyleModel",
            "_view_count": null,
            "_view_module": "@jupyter-widgets/base",
            "_view_module_version": "1.2.0",
            "_view_name": "StyleView",
            "description_width": ""
          }
        },
        "0caa4118e28e41cfbf667635f892f86f": {
          "model_module": "@jupyter-widgets/controls",
          "model_name": "CheckboxModel",
          "model_module_version": "1.5.0",
          "state": {
            "_dom_classes": [],
            "_model_module": "@jupyter-widgets/controls",
            "_model_module_version": "1.5.0",
            "_model_name": "CheckboxModel",
            "_view_count": null,
            "_view_module": "@jupyter-widgets/controls",
            "_view_module_version": "1.5.0",
            "_view_name": "CheckboxView",
            "description": "OpenStreetMap.Mapnik",
            "description_tooltip": null,
            "disabled": false,
            "indent": false,
            "layout": "IPY_MODEL_1ccbeb20cc7e483cbcb1a789ffd7672c",
            "style": "IPY_MODEL_18d34955850c4b6ea8d8c7f535994bd3",
            "value": true
          }
        },
        "95d6e188477646e895a36f7995f26da2": {
          "model_module": "@jupyter-widgets/controls",
          "model_name": "FloatSliderModel",
          "model_module_version": "1.5.0",
          "state": {
            "_dom_classes": [],
            "_model_module": "@jupyter-widgets/controls",
            "_model_module_version": "1.5.0",
            "_model_name": "FloatSliderModel",
            "_view_count": null,
            "_view_module": "@jupyter-widgets/controls",
            "_view_module_version": "1.5.0",
            "_view_name": "FloatSliderView",
            "continuous_update": true,
            "description": "",
            "description_tooltip": null,
            "disabled": false,
            "layout": "IPY_MODEL_d1702727308b4f8c93d1ac85b84ef348",
            "max": 1,
            "min": 0,
            "orientation": "horizontal",
            "readout": false,
            "readout_format": ".2f",
            "step": 0.01,
            "style": "IPY_MODEL_c5e0da8f115d49df80fb959b36b4e775",
            "value": 1
          }
        },
        "79e9d7f2bc224b0ba9833097f98c9b3c": {
          "model_module": "@jupyter-widgets/controls",
          "model_name": "ButtonModel",
          "model_module_version": "1.5.0",
          "state": {
            "_dom_classes": [],
            "_model_module": "@jupyter-widgets/controls",
            "_model_module_version": "1.5.0",
            "_model_name": "ButtonModel",
            "_view_count": null,
            "_view_module": "@jupyter-widgets/controls",
            "_view_module_version": "1.5.0",
            "_view_name": "ButtonView",
            "button_style": "",
            "description": "",
            "disabled": false,
            "icon": "gear",
            "layout": "IPY_MODEL_0d9f6291d90c48f08ed32b8833a903e4",
            "style": "IPY_MODEL_a98b67b43f2a442896180ddc40d732f5",
            "tooltip": "OpenStreetMap.Mapnik"
          }
        },
        "72c78eac530f43d09265141a3e60bf17": {
          "model_module": "@jupyter-widgets/controls",
          "model_name": "ButtonModel",
          "model_module_version": "1.5.0",
          "state": {
            "_dom_classes": [],
            "_model_module": "@jupyter-widgets/controls",
            "_model_module_version": "1.5.0",
            "_model_name": "ButtonModel",
            "_view_count": null,
            "_view_module": "@jupyter-widgets/controls",
            "_view_module_version": "1.5.0",
            "_view_name": "ButtonView",
            "button_style": "",
            "description": "",
            "disabled": false,
            "icon": "times",
            "layout": "IPY_MODEL_59744177f4b14421bf3ac096556956f0",
            "style": "IPY_MODEL_65bda89a981c46c38f012e3370ef64c5",
            "tooltip": "Loaded"
          }
        },
        "854a8fd5b1ca48099cd4f8f50f86f008": {
          "model_module": "@jupyter-widgets/base",
          "model_name": "LayoutModel",
          "model_module_version": "1.2.0",
          "state": {
            "_model_module": "@jupyter-widgets/base",
            "_model_module_version": "1.2.0",
            "_model_name": "LayoutModel",
            "_view_count": null,
            "_view_module": "@jupyter-widgets/base",
            "_view_module_version": "1.2.0",
            "_view_name": "LayoutView",
            "align_content": null,
            "align_items": null,
            "align_self": null,
            "border": null,
            "bottom": null,
            "display": null,
            "flex": null,
            "flex_flow": null,
            "grid_area": null,
            "grid_auto_columns": null,
            "grid_auto_flow": null,
            "grid_auto_rows": null,
            "grid_column": null,
            "grid_gap": null,
            "grid_row": null,
            "grid_template_areas": null,
            "grid_template_columns": null,
            "grid_template_rows": null,
            "height": null,
            "justify_content": null,
            "justify_items": null,
            "left": null,
            "margin": null,
            "max_height": null,
            "max_width": null,
            "min_height": null,
            "min_width": null,
            "object_fit": null,
            "object_position": null,
            "order": null,
            "overflow": null,
            "overflow_x": null,
            "overflow_y": null,
            "padding": "0px 4px 0px 4px",
            "right": null,
            "top": null,
            "visibility": null,
            "width": null
          }
        },
        "1baa4fe58e8d46c19f19759dd8670205": {
          "model_module": "@jupyter-widgets/controls",
          "model_name": "CheckboxModel",
          "model_module_version": "1.5.0",
          "state": {
            "_dom_classes": [],
            "_model_module": "@jupyter-widgets/controls",
            "_model_module_version": "1.5.0",
            "_model_name": "CheckboxModel",
            "_view_count": null,
            "_view_module": "@jupyter-widgets/controls",
            "_view_module_version": "1.5.0",
            "_view_name": "CheckboxView",
            "description": "AOI",
            "description_tooltip": null,
            "disabled": false,
            "indent": false,
            "layout": "IPY_MODEL_68488170577540fda3a60dd9f66db263",
            "style": "IPY_MODEL_be33aaf4fb32470398db484e454d2662",
            "value": false
          }
        },
        "e9f58b13dc94419eb7912ee0c9400e60": {
          "model_module": "@jupyter-widgets/controls",
          "model_name": "FloatSliderModel",
          "model_module_version": "1.5.0",
          "state": {
            "_dom_classes": [],
            "_model_module": "@jupyter-widgets/controls",
            "_model_module_version": "1.5.0",
            "_model_name": "FloatSliderModel",
            "_view_count": null,
            "_view_module": "@jupyter-widgets/controls",
            "_view_module_version": "1.5.0",
            "_view_name": "FloatSliderView",
            "continuous_update": true,
            "description": "",
            "description_tooltip": null,
            "disabled": false,
            "layout": "IPY_MODEL_d026e85ff10a41f1adb0658c24a6c46c",
            "max": 1,
            "min": 0,
            "orientation": "horizontal",
            "readout": false,
            "readout_format": ".2f",
            "step": 0.01,
            "style": "IPY_MODEL_c4eaf892f63b4ed2b24664652f5be0a8",
            "value": 1
          }
        },
        "2b7d6f930ee84ae2880204665cecd744": {
          "model_module": "@jupyter-widgets/controls",
          "model_name": "ButtonModel",
          "model_module_version": "1.5.0",
          "state": {
            "_dom_classes": [],
            "_model_module": "@jupyter-widgets/controls",
            "_model_module_version": "1.5.0",
            "_model_name": "ButtonModel",
            "_view_count": null,
            "_view_module": "@jupyter-widgets/controls",
            "_view_module_version": "1.5.0",
            "_view_name": "ButtonView",
            "button_style": "",
            "description": "",
            "disabled": false,
            "icon": "gear",
            "layout": "IPY_MODEL_c2cf971fdf32443fa34c09c0c636e219",
            "style": "IPY_MODEL_6cab00414979493f944cb6a266507caa",
            "tooltip": "AOI"
          }
        },
        "0bd4e2155e12411d9139c8520c687087": {
          "model_module": "@jupyter-widgets/controls",
          "model_name": "ButtonModel",
          "model_module_version": "1.5.0",
          "state": {
            "_dom_classes": [],
            "_model_module": "@jupyter-widgets/controls",
            "_model_module_version": "1.5.0",
            "_model_name": "ButtonModel",
            "_view_count": null,
            "_view_module": "@jupyter-widgets/controls",
            "_view_module_version": "1.5.0",
            "_view_name": "ButtonView",
            "button_style": "",
            "description": "",
            "disabled": false,
            "icon": "times",
            "layout": "IPY_MODEL_bead467db8b444bbba3080441a6fa839",
            "style": "IPY_MODEL_dcf95b2e9d404eec8ee646931d4841b6",
            "tooltip": "Loaded"
          }
        },
        "99d463d318b84b9099d586726ac5e63d": {
          "model_module": "@jupyter-widgets/base",
          "model_name": "LayoutModel",
          "model_module_version": "1.2.0",
          "state": {
            "_model_module": "@jupyter-widgets/base",
            "_model_module_version": "1.2.0",
            "_model_name": "LayoutModel",
            "_view_count": null,
            "_view_module": "@jupyter-widgets/base",
            "_view_module_version": "1.2.0",
            "_view_name": "LayoutView",
            "align_content": null,
            "align_items": null,
            "align_self": null,
            "border": null,
            "bottom": null,
            "display": null,
            "flex": null,
            "flex_flow": null,
            "grid_area": null,
            "grid_auto_columns": null,
            "grid_auto_flow": null,
            "grid_auto_rows": null,
            "grid_column": null,
            "grid_gap": null,
            "grid_row": null,
            "grid_template_areas": null,
            "grid_template_columns": null,
            "grid_template_rows": null,
            "height": null,
            "justify_content": null,
            "justify_items": null,
            "left": null,
            "margin": null,
            "max_height": null,
            "max_width": null,
            "min_height": null,
            "min_width": null,
            "object_fit": null,
            "object_position": null,
            "order": null,
            "overflow": null,
            "overflow_x": null,
            "overflow_y": null,
            "padding": "0px 4px 0px 4px",
            "right": null,
            "top": null,
            "visibility": null,
            "width": null
          }
        },
        "60af496ea4554d548f478042f99cf45a": {
          "model_module": "@jupyter-widgets/controls",
          "model_name": "CheckboxModel",
          "model_module_version": "1.5.0",
          "state": {
            "_dom_classes": [],
            "_model_module": "@jupyter-widgets/controls",
            "_model_module_version": "1.5.0",
            "_model_name": "CheckboxModel",
            "_view_count": null,
            "_view_module": "@jupyter-widgets/controls",
            "_view_module_version": "1.5.0",
            "_view_name": "CheckboxView",
            "description": "Layer 2",
            "description_tooltip": null,
            "disabled": false,
            "indent": false,
            "layout": "IPY_MODEL_004a2518c9a64bd8a5a16f3bf84b5eff",
            "style": "IPY_MODEL_0fbb4f3acc934cc38043274e51506a1a",
            "value": false
          }
        },
        "85f96f8a31d049338627f5ef13fbb029": {
          "model_module": "@jupyter-widgets/controls",
          "model_name": "FloatSliderModel",
          "model_module_version": "1.5.0",
          "state": {
            "_dom_classes": [],
            "_model_module": "@jupyter-widgets/controls",
            "_model_module_version": "1.5.0",
            "_model_name": "FloatSliderModel",
            "_view_count": null,
            "_view_module": "@jupyter-widgets/controls",
            "_view_module_version": "1.5.0",
            "_view_name": "FloatSliderView",
            "continuous_update": true,
            "description": "",
            "description_tooltip": null,
            "disabled": false,
            "layout": "IPY_MODEL_6a054ed95c7d4cab904cda5637831758",
            "max": 1,
            "min": 0,
            "orientation": "horizontal",
            "readout": false,
            "readout_format": ".2f",
            "step": 0.01,
            "style": "IPY_MODEL_812c100cebb449858fdf50b5654d1142",
            "value": 1
          }
        },
        "b3b66f9afdb348db8063972e1c622b16": {
          "model_module": "@jupyter-widgets/controls",
          "model_name": "ButtonModel",
          "model_module_version": "1.5.0",
          "state": {
            "_dom_classes": [],
            "_model_module": "@jupyter-widgets/controls",
            "_model_module_version": "1.5.0",
            "_model_name": "ButtonModel",
            "_view_count": null,
            "_view_module": "@jupyter-widgets/controls",
            "_view_module_version": "1.5.0",
            "_view_name": "ButtonView",
            "button_style": "",
            "description": "",
            "disabled": false,
            "icon": "gear",
            "layout": "IPY_MODEL_1b2c57225eb64d38acfb40875d22e13c",
            "style": "IPY_MODEL_c916b594334b440896e9951b736971f2",
            "tooltip": "Layer 2"
          }
        },
        "58a64a23ae394663816f347f9f14b7b7": {
          "model_module": "@jupyter-widgets/controls",
          "model_name": "ButtonModel",
          "model_module_version": "1.5.0",
          "state": {
            "_dom_classes": [],
            "_model_module": "@jupyter-widgets/controls",
            "_model_module_version": "1.5.0",
            "_model_name": "ButtonModel",
            "_view_count": null,
            "_view_module": "@jupyter-widgets/controls",
            "_view_module_version": "1.5.0",
            "_view_name": "ButtonView",
            "button_style": "",
            "description": "",
            "disabled": false,
            "icon": "times",
            "layout": "IPY_MODEL_0564da914e6047e0817d5167cdc7e872",
            "style": "IPY_MODEL_b7fe36177ab04e9f9d3180c9d8ecdceb",
            "tooltip": "Loaded"
          }
        },
        "a962714e84b44e63b46cc912c7126356": {
          "model_module": "@jupyter-widgets/base",
          "model_name": "LayoutModel",
          "model_module_version": "1.2.0",
          "state": {
            "_model_module": "@jupyter-widgets/base",
            "_model_module_version": "1.2.0",
            "_model_name": "LayoutModel",
            "_view_count": null,
            "_view_module": "@jupyter-widgets/base",
            "_view_module_version": "1.2.0",
            "_view_name": "LayoutView",
            "align_content": null,
            "align_items": null,
            "align_self": null,
            "border": null,
            "bottom": null,
            "display": null,
            "flex": null,
            "flex_flow": null,
            "grid_area": null,
            "grid_auto_columns": null,
            "grid_auto_flow": null,
            "grid_auto_rows": null,
            "grid_column": null,
            "grid_gap": null,
            "grid_row": null,
            "grid_template_areas": null,
            "grid_template_columns": null,
            "grid_template_rows": null,
            "height": null,
            "justify_content": null,
            "justify_items": null,
            "left": null,
            "margin": null,
            "max_height": null,
            "max_width": null,
            "min_height": null,
            "min_width": null,
            "object_fit": null,
            "object_position": null,
            "order": null,
            "overflow": null,
            "overflow_x": null,
            "overflow_y": null,
            "padding": "0px 4px 0px 4px",
            "right": null,
            "top": null,
            "visibility": null,
            "width": null
          }
        },
        "90f5e5dc83e641a7a8e8b9c9e340cb9e": {
          "model_module": "@jupyter-widgets/controls",
          "model_name": "CheckboxModel",
          "model_module_version": "1.5.0",
          "state": {
            "_dom_classes": [],
            "_model_module": "@jupyter-widgets/controls",
            "_model_module_version": "1.5.0",
            "_model_name": "CheckboxModel",
            "_view_count": null,
            "_view_module": "@jupyter-widgets/controls",
            "_view_module_version": "1.5.0",
            "_view_name": "CheckboxView",
            "description": "Layer 3",
            "description_tooltip": null,
            "disabled": false,
            "indent": false,
            "layout": "IPY_MODEL_bd9231f39c68408a8c31dff27f11a1a5",
            "style": "IPY_MODEL_5e637dab4ffb4940bd96a99f5022ee43",
            "value": false
          }
        },
        "718f0934483c453d80920f353491cc18": {
          "model_module": "@jupyter-widgets/controls",
          "model_name": "FloatSliderModel",
          "model_module_version": "1.5.0",
          "state": {
            "_dom_classes": [],
            "_model_module": "@jupyter-widgets/controls",
            "_model_module_version": "1.5.0",
            "_model_name": "FloatSliderModel",
            "_view_count": null,
            "_view_module": "@jupyter-widgets/controls",
            "_view_module_version": "1.5.0",
            "_view_name": "FloatSliderView",
            "continuous_update": true,
            "description": "",
            "description_tooltip": null,
            "disabled": false,
            "layout": "IPY_MODEL_09905d81d37b460b807d21a4642df984",
            "max": 1,
            "min": 0,
            "orientation": "horizontal",
            "readout": false,
            "readout_format": ".2f",
            "step": 0.01,
            "style": "IPY_MODEL_64b9e35d4f63428e9411c851d72cb08a",
            "value": 1
          }
        },
        "91579e72e4d84fb79cd578bd8a5706ff": {
          "model_module": "@jupyter-widgets/controls",
          "model_name": "ButtonModel",
          "model_module_version": "1.5.0",
          "state": {
            "_dom_classes": [],
            "_model_module": "@jupyter-widgets/controls",
            "_model_module_version": "1.5.0",
            "_model_name": "ButtonModel",
            "_view_count": null,
            "_view_module": "@jupyter-widgets/controls",
            "_view_module_version": "1.5.0",
            "_view_name": "ButtonView",
            "button_style": "",
            "description": "",
            "disabled": false,
            "icon": "gear",
            "layout": "IPY_MODEL_31d1d50bcd4d43aaae58054b9e9d514f",
            "style": "IPY_MODEL_35587fb6aa35490b9acd884b4b30020f",
            "tooltip": "Layer 3"
          }
        },
        "61b2ed653ff943f8a8d14992f86f007f": {
          "model_module": "@jupyter-widgets/controls",
          "model_name": "ButtonModel",
          "model_module_version": "1.5.0",
          "state": {
            "_dom_classes": [],
            "_model_module": "@jupyter-widgets/controls",
            "_model_module_version": "1.5.0",
            "_model_name": "ButtonModel",
            "_view_count": null,
            "_view_module": "@jupyter-widgets/controls",
            "_view_module_version": "1.5.0",
            "_view_name": "ButtonView",
            "button_style": "",
            "description": "",
            "disabled": false,
            "icon": "times",
            "layout": "IPY_MODEL_3d4d2db6bfe14a68bf7fe8e91ec16760",
            "style": "IPY_MODEL_c2f5ba5429a54b9881120522dc5b4e68",
            "tooltip": "Loaded"
          }
        },
        "06fc7f5e737348a485fa805eeba643c3": {
          "model_module": "@jupyter-widgets/base",
          "model_name": "LayoutModel",
          "model_module_version": "1.2.0",
          "state": {
            "_model_module": "@jupyter-widgets/base",
            "_model_module_version": "1.2.0",
            "_model_name": "LayoutModel",
            "_view_count": null,
            "_view_module": "@jupyter-widgets/base",
            "_view_module_version": "1.2.0",
            "_view_name": "LayoutView",
            "align_content": null,
            "align_items": null,
            "align_self": null,
            "border": null,
            "bottom": null,
            "display": null,
            "flex": null,
            "flex_flow": null,
            "grid_area": null,
            "grid_auto_columns": null,
            "grid_auto_flow": null,
            "grid_auto_rows": null,
            "grid_column": null,
            "grid_gap": null,
            "grid_row": null,
            "grid_template_areas": null,
            "grid_template_columns": null,
            "grid_template_rows": null,
            "height": null,
            "justify_content": null,
            "justify_items": null,
            "left": null,
            "margin": null,
            "max_height": null,
            "max_width": null,
            "min_height": null,
            "min_width": null,
            "object_fit": null,
            "object_position": null,
            "order": null,
            "overflow": null,
            "overflow_x": null,
            "overflow_y": null,
            "padding": "0px 4px 0px 4px",
            "right": null,
            "top": null,
            "visibility": null,
            "width": null
          }
        },
        "751acca5b40746528ab291d6a626e1d1": {
          "model_module": "@jupyter-widgets/controls",
          "model_name": "CheckboxModel",
          "model_module_version": "1.5.0",
          "state": {
            "_dom_classes": [],
            "_model_module": "@jupyter-widgets/controls",
            "_model_module_version": "1.5.0",
            "_model_name": "CheckboxModel",
            "_view_count": null,
            "_view_module": "@jupyter-widgets/controls",
            "_view_module_version": "1.5.0",
            "_view_name": "CheckboxView",
            "description": "Layer 4",
            "description_tooltip": null,
            "disabled": false,
            "indent": false,
            "layout": "IPY_MODEL_cf28ca8deaa24c379a62c1476a5d90f3",
            "style": "IPY_MODEL_e944c21354e14a589703448ccd902d28",
            "value": false
          }
        },
        "a4155dab8004400d95640647f15a9ff8": {
          "model_module": "@jupyter-widgets/controls",
          "model_name": "FloatSliderModel",
          "model_module_version": "1.5.0",
          "state": {
            "_dom_classes": [],
            "_model_module": "@jupyter-widgets/controls",
            "_model_module_version": "1.5.0",
            "_model_name": "FloatSliderModel",
            "_view_count": null,
            "_view_module": "@jupyter-widgets/controls",
            "_view_module_version": "1.5.0",
            "_view_name": "FloatSliderView",
            "continuous_update": true,
            "description": "",
            "description_tooltip": null,
            "disabled": false,
            "layout": "IPY_MODEL_76408d3023ec4037924262f13edc183f",
            "max": 1,
            "min": 0,
            "orientation": "horizontal",
            "readout": false,
            "readout_format": ".2f",
            "step": 0.01,
            "style": "IPY_MODEL_524d9cf65f074e9ab1fcc5804871ea40",
            "value": 1
          }
        },
        "59dc25025b234f71868c69f88f45a9cf": {
          "model_module": "@jupyter-widgets/controls",
          "model_name": "ButtonModel",
          "model_module_version": "1.5.0",
          "state": {
            "_dom_classes": [],
            "_model_module": "@jupyter-widgets/controls",
            "_model_module_version": "1.5.0",
            "_model_name": "ButtonModel",
            "_view_count": null,
            "_view_module": "@jupyter-widgets/controls",
            "_view_module_version": "1.5.0",
            "_view_name": "ButtonView",
            "button_style": "",
            "description": "",
            "disabled": false,
            "icon": "gear",
            "layout": "IPY_MODEL_c3a8d4e1558b497799a6f28eddd97a86",
            "style": "IPY_MODEL_5a655b75cade4725b60ea97e0b03afc7",
            "tooltip": "Layer 4"
          }
        },
        "7e5ffbfdfc2e4bc29610bb823dccebe0": {
          "model_module": "@jupyter-widgets/controls",
          "model_name": "ButtonModel",
          "model_module_version": "1.5.0",
          "state": {
            "_dom_classes": [],
            "_model_module": "@jupyter-widgets/controls",
            "_model_module_version": "1.5.0",
            "_model_name": "ButtonModel",
            "_view_count": null,
            "_view_module": "@jupyter-widgets/controls",
            "_view_module_version": "1.5.0",
            "_view_name": "ButtonView",
            "button_style": "",
            "description": "",
            "disabled": false,
            "icon": "times",
            "layout": "IPY_MODEL_1bdd47aead604bff98e68998ae189a8b",
            "style": "IPY_MODEL_e05a01e64f624c128b59e4473c4f468f",
            "tooltip": "Loaded"
          }
        },
        "487a9f899f014be4a2c3e0599d013969": {
          "model_module": "@jupyter-widgets/base",
          "model_name": "LayoutModel",
          "model_module_version": "1.2.0",
          "state": {
            "_model_module": "@jupyter-widgets/base",
            "_model_module_version": "1.2.0",
            "_model_name": "LayoutModel",
            "_view_count": null,
            "_view_module": "@jupyter-widgets/base",
            "_view_module_version": "1.2.0",
            "_view_name": "LayoutView",
            "align_content": null,
            "align_items": null,
            "align_self": null,
            "border": null,
            "bottom": null,
            "display": null,
            "flex": null,
            "flex_flow": null,
            "grid_area": null,
            "grid_auto_columns": null,
            "grid_auto_flow": null,
            "grid_auto_rows": null,
            "grid_column": null,
            "grid_gap": null,
            "grid_row": null,
            "grid_template_areas": null,
            "grid_template_columns": null,
            "grid_template_rows": null,
            "height": null,
            "justify_content": null,
            "justify_items": null,
            "left": null,
            "margin": null,
            "max_height": null,
            "max_width": null,
            "min_height": null,
            "min_width": null,
            "object_fit": null,
            "object_position": null,
            "order": null,
            "overflow": null,
            "overflow_x": null,
            "overflow_y": null,
            "padding": "0px 4px 0px 4px",
            "right": null,
            "top": null,
            "visibility": null,
            "width": null
          }
        },
        "513c37913b98402cbe553cfd05d6961c": {
          "model_module": "@jupyter-widgets/controls",
          "model_name": "CheckboxModel",
          "model_module_version": "1.5.0",
          "state": {
            "_dom_classes": [],
            "_model_module": "@jupyter-widgets/controls",
            "_model_module_version": "1.5.0",
            "_model_name": "CheckboxModel",
            "_view_count": null,
            "_view_module": "@jupyter-widgets/controls",
            "_view_module_version": "1.5.0",
            "_view_name": "CheckboxView",
            "description": "Newzones",
            "description_tooltip": null,
            "disabled": false,
            "indent": false,
            "layout": "IPY_MODEL_541d2b924eb441dbb0fad9929da50376",
            "style": "IPY_MODEL_27e67d6cc187469cad8eef0999e17326",
            "value": true
          }
        },
        "52d8a6b2f613477e8ffeefcb7031715b": {
          "model_module": "@jupyter-widgets/controls",
          "model_name": "FloatSliderModel",
          "model_module_version": "1.5.0",
          "state": {
            "_dom_classes": [],
            "_model_module": "@jupyter-widgets/controls",
            "_model_module_version": "1.5.0",
            "_model_name": "FloatSliderModel",
            "_view_count": null,
            "_view_module": "@jupyter-widgets/controls",
            "_view_module_version": "1.5.0",
            "_view_name": "FloatSliderView",
            "continuous_update": true,
            "description": "",
            "description_tooltip": null,
            "disabled": false,
            "layout": "IPY_MODEL_49b9ada647af4345ad3714a6c2398835",
            "max": 1,
            "min": 0,
            "orientation": "horizontal",
            "readout": false,
            "readout_format": ".2f",
            "step": 0.01,
            "style": "IPY_MODEL_ed644e472bd842c090c156b5b6354c52",
            "value": 1
          }
        },
        "98e1d4701a364b08bba1b552f0f2dca0": {
          "model_module": "@jupyter-widgets/controls",
          "model_name": "ButtonModel",
          "model_module_version": "1.5.0",
          "state": {
            "_dom_classes": [],
            "_model_module": "@jupyter-widgets/controls",
            "_model_module_version": "1.5.0",
            "_model_name": "ButtonModel",
            "_view_count": null,
            "_view_module": "@jupyter-widgets/controls",
            "_view_module_version": "1.5.0",
            "_view_name": "ButtonView",
            "button_style": "",
            "description": "",
            "disabled": false,
            "icon": "gear",
            "layout": "IPY_MODEL_2d1c9a01d5244e3196915f500ca9f850",
            "style": "IPY_MODEL_41a1c7e5cf754e81b7588cc4ef0f3031",
            "tooltip": "Newzones"
          }
        },
        "a9ed6c72056f4310a02625cff57d623c": {
          "model_module": "@jupyter-widgets/controls",
          "model_name": "ButtonModel",
          "model_module_version": "1.5.0",
          "state": {
            "_dom_classes": [],
            "_model_module": "@jupyter-widgets/controls",
            "_model_module_version": "1.5.0",
            "_model_name": "ButtonModel",
            "_view_count": null,
            "_view_module": "@jupyter-widgets/controls",
            "_view_module_version": "1.5.0",
            "_view_name": "ButtonView",
            "button_style": "",
            "description": "",
            "disabled": false,
            "icon": "times",
            "layout": "IPY_MODEL_bfe3db011e8d461ca8200c86a73f704b",
            "style": "IPY_MODEL_7f11251cf07942a89c22439a1226e5cf",
            "tooltip": "Loaded"
          }
        },
        "74b8d444ad4e42be85fab20743a3d072": {
          "model_module": "@jupyter-widgets/base",
          "model_name": "LayoutModel",
          "model_module_version": "1.2.0",
          "state": {
            "_model_module": "@jupyter-widgets/base",
            "_model_module_version": "1.2.0",
            "_model_name": "LayoutModel",
            "_view_count": null,
            "_view_module": "@jupyter-widgets/base",
            "_view_module_version": "1.2.0",
            "_view_name": "LayoutView",
            "align_content": null,
            "align_items": null,
            "align_self": null,
            "border": null,
            "bottom": null,
            "display": null,
            "flex": null,
            "flex_flow": null,
            "grid_area": null,
            "grid_auto_columns": null,
            "grid_auto_flow": null,
            "grid_auto_rows": null,
            "grid_column": null,
            "grid_gap": null,
            "grid_row": null,
            "grid_template_areas": null,
            "grid_template_columns": null,
            "grid_template_rows": null,
            "height": null,
            "justify_content": null,
            "justify_items": null,
            "left": null,
            "margin": null,
            "max_height": null,
            "max_width": null,
            "min_height": null,
            "min_width": null,
            "object_fit": null,
            "object_position": null,
            "order": null,
            "overflow": null,
            "overflow_x": null,
            "overflow_y": null,
            "padding": "0px 4px 0px 4px",
            "right": null,
            "top": null,
            "visibility": null,
            "width": null
          }
        },
        "1ccbeb20cc7e483cbcb1a789ffd7672c": {
          "model_module": "@jupyter-widgets/base",
          "model_name": "LayoutModel",
          "model_module_version": "1.2.0",
          "state": {
            "_model_module": "@jupyter-widgets/base",
            "_model_module_version": "1.2.0",
            "_model_name": "LayoutModel",
            "_view_count": null,
            "_view_module": "@jupyter-widgets/base",
            "_view_module_version": "1.2.0",
            "_view_name": "LayoutView",
            "align_content": null,
            "align_items": null,
            "align_self": null,
            "border": null,
            "bottom": null,
            "display": null,
            "flex": null,
            "flex_flow": null,
            "grid_area": null,
            "grid_auto_columns": null,
            "grid_auto_flow": null,
            "grid_auto_rows": null,
            "grid_column": null,
            "grid_gap": null,
            "grid_row": null,
            "grid_template_areas": null,
            "grid_template_columns": null,
            "grid_template_rows": null,
            "height": "18px",
            "justify_content": null,
            "justify_items": null,
            "left": null,
            "margin": null,
            "max_height": null,
            "max_width": null,
            "min_height": null,
            "min_width": null,
            "object_fit": null,
            "object_position": null,
            "order": null,
            "overflow": null,
            "overflow_x": null,
            "overflow_y": null,
            "padding": null,
            "right": null,
            "top": null,
            "visibility": null,
            "width": "140px"
          }
        },
        "18d34955850c4b6ea8d8c7f535994bd3": {
          "model_module": "@jupyter-widgets/controls",
          "model_name": "DescriptionStyleModel",
          "model_module_version": "1.5.0",
          "state": {
            "_model_module": "@jupyter-widgets/controls",
            "_model_module_version": "1.5.0",
            "_model_name": "DescriptionStyleModel",
            "_view_count": null,
            "_view_module": "@jupyter-widgets/base",
            "_view_module_version": "1.2.0",
            "_view_name": "StyleView",
            "description_width": ""
          }
        },
        "d1702727308b4f8c93d1ac85b84ef348": {
          "model_module": "@jupyter-widgets/base",
          "model_name": "LayoutModel",
          "model_module_version": "1.2.0",
          "state": {
            "_model_module": "@jupyter-widgets/base",
            "_model_module_version": "1.2.0",
            "_model_name": "LayoutModel",
            "_view_count": null,
            "_view_module": "@jupyter-widgets/base",
            "_view_module_version": "1.2.0",
            "_view_name": "LayoutView",
            "align_content": null,
            "align_items": null,
            "align_self": null,
            "border": null,
            "bottom": null,
            "display": null,
            "flex": null,
            "flex_flow": null,
            "grid_area": null,
            "grid_auto_columns": null,
            "grid_auto_flow": null,
            "grid_auto_rows": null,
            "grid_column": null,
            "grid_gap": null,
            "grid_row": null,
            "grid_template_areas": null,
            "grid_template_columns": null,
            "grid_template_rows": null,
            "height": null,
            "justify_content": null,
            "justify_items": null,
            "left": null,
            "margin": null,
            "max_height": null,
            "max_width": null,
            "min_height": null,
            "min_width": null,
            "object_fit": null,
            "object_position": null,
            "order": null,
            "overflow": null,
            "overflow_x": null,
            "overflow_y": null,
            "padding": "0px 3px 0px 0px",
            "right": null,
            "top": null,
            "visibility": null,
            "width": "70px"
          }
        },
        "c5e0da8f115d49df80fb959b36b4e775": {
          "model_module": "@jupyter-widgets/controls",
          "model_name": "SliderStyleModel",
          "model_module_version": "1.5.0",
          "state": {
            "_model_module": "@jupyter-widgets/controls",
            "_model_module_version": "1.5.0",
            "_model_name": "SliderStyleModel",
            "_view_count": null,
            "_view_module": "@jupyter-widgets/base",
            "_view_module_version": "1.2.0",
            "_view_name": "StyleView",
            "description_width": "",
            "handle_color": null
          }
        },
        "0d9f6291d90c48f08ed32b8833a903e4": {
          "model_module": "@jupyter-widgets/base",
          "model_name": "LayoutModel",
          "model_module_version": "1.2.0",
          "state": {
            "_model_module": "@jupyter-widgets/base",
            "_model_module_version": "1.2.0",
            "_model_name": "LayoutModel",
            "_view_count": null,
            "_view_module": "@jupyter-widgets/base",
            "_view_module_version": "1.2.0",
            "_view_name": "LayoutView",
            "align_content": null,
            "align_items": null,
            "align_self": null,
            "border": null,
            "bottom": null,
            "display": null,
            "flex": null,
            "flex_flow": null,
            "grid_area": null,
            "grid_auto_columns": null,
            "grid_auto_flow": null,
            "grid_auto_rows": null,
            "grid_column": null,
            "grid_gap": null,
            "grid_row": null,
            "grid_template_areas": null,
            "grid_template_columns": null,
            "grid_template_rows": null,
            "height": "25px",
            "justify_content": null,
            "justify_items": null,
            "left": null,
            "margin": null,
            "max_height": null,
            "max_width": null,
            "min_height": null,
            "min_width": null,
            "object_fit": null,
            "object_position": null,
            "order": null,
            "overflow": null,
            "overflow_x": null,
            "overflow_y": null,
            "padding": "0px",
            "right": null,
            "top": null,
            "visibility": null,
            "width": "25px"
          }
        },
        "a98b67b43f2a442896180ddc40d732f5": {
          "model_module": "@jupyter-widgets/controls",
          "model_name": "ButtonStyleModel",
          "model_module_version": "1.5.0",
          "state": {
            "_model_module": "@jupyter-widgets/controls",
            "_model_module_version": "1.5.0",
            "_model_name": "ButtonStyleModel",
            "_view_count": null,
            "_view_module": "@jupyter-widgets/base",
            "_view_module_version": "1.2.0",
            "_view_name": "StyleView",
            "button_color": null,
            "font_weight": ""
          }
        },
        "59744177f4b14421bf3ac096556956f0": {
          "model_module": "@jupyter-widgets/base",
          "model_name": "LayoutModel",
          "model_module_version": "1.2.0",
          "state": {
            "_model_module": "@jupyter-widgets/base",
            "_model_module_version": "1.2.0",
            "_model_name": "LayoutModel",
            "_view_count": null,
            "_view_module": "@jupyter-widgets/base",
            "_view_module_version": "1.2.0",
            "_view_name": "LayoutView",
            "align_content": null,
            "align_items": null,
            "align_self": null,
            "border": null,
            "bottom": null,
            "display": null,
            "flex": null,
            "flex_flow": null,
            "grid_area": null,
            "grid_auto_columns": null,
            "grid_auto_flow": null,
            "grid_auto_rows": null,
            "grid_column": null,
            "grid_gap": null,
            "grid_row": null,
            "grid_template_areas": null,
            "grid_template_columns": null,
            "grid_template_rows": null,
            "height": "25px",
            "justify_content": null,
            "justify_items": null,
            "left": null,
            "margin": null,
            "max_height": null,
            "max_width": null,
            "min_height": null,
            "min_width": null,
            "object_fit": null,
            "object_position": null,
            "order": null,
            "overflow": null,
            "overflow_x": null,
            "overflow_y": null,
            "padding": "0px",
            "right": null,
            "top": null,
            "visibility": null,
            "width": "25px"
          }
        },
        "65bda89a981c46c38f012e3370ef64c5": {
          "model_module": "@jupyter-widgets/controls",
          "model_name": "ButtonStyleModel",
          "model_module_version": "1.5.0",
          "state": {
            "_model_module": "@jupyter-widgets/controls",
            "_model_module_version": "1.5.0",
            "_model_name": "ButtonStyleModel",
            "_view_count": null,
            "_view_module": "@jupyter-widgets/base",
            "_view_module_version": "1.2.0",
            "_view_name": "StyleView",
            "button_color": null,
            "font_weight": ""
          }
        },
        "68488170577540fda3a60dd9f66db263": {
          "model_module": "@jupyter-widgets/base",
          "model_name": "LayoutModel",
          "model_module_version": "1.2.0",
          "state": {
            "_model_module": "@jupyter-widgets/base",
            "_model_module_version": "1.2.0",
            "_model_name": "LayoutModel",
            "_view_count": null,
            "_view_module": "@jupyter-widgets/base",
            "_view_module_version": "1.2.0",
            "_view_name": "LayoutView",
            "align_content": null,
            "align_items": null,
            "align_self": null,
            "border": null,
            "bottom": null,
            "display": null,
            "flex": null,
            "flex_flow": null,
            "grid_area": null,
            "grid_auto_columns": null,
            "grid_auto_flow": null,
            "grid_auto_rows": null,
            "grid_column": null,
            "grid_gap": null,
            "grid_row": null,
            "grid_template_areas": null,
            "grid_template_columns": null,
            "grid_template_rows": null,
            "height": "18px",
            "justify_content": null,
            "justify_items": null,
            "left": null,
            "margin": null,
            "max_height": null,
            "max_width": null,
            "min_height": null,
            "min_width": null,
            "object_fit": null,
            "object_position": null,
            "order": null,
            "overflow": null,
            "overflow_x": null,
            "overflow_y": null,
            "padding": null,
            "right": null,
            "top": null,
            "visibility": null,
            "width": "140px"
          }
        },
        "be33aaf4fb32470398db484e454d2662": {
          "model_module": "@jupyter-widgets/controls",
          "model_name": "DescriptionStyleModel",
          "model_module_version": "1.5.0",
          "state": {
            "_model_module": "@jupyter-widgets/controls",
            "_model_module_version": "1.5.0",
            "_model_name": "DescriptionStyleModel",
            "_view_count": null,
            "_view_module": "@jupyter-widgets/base",
            "_view_module_version": "1.2.0",
            "_view_name": "StyleView",
            "description_width": ""
          }
        },
        "d026e85ff10a41f1adb0658c24a6c46c": {
          "model_module": "@jupyter-widgets/base",
          "model_name": "LayoutModel",
          "model_module_version": "1.2.0",
          "state": {
            "_model_module": "@jupyter-widgets/base",
            "_model_module_version": "1.2.0",
            "_model_name": "LayoutModel",
            "_view_count": null,
            "_view_module": "@jupyter-widgets/base",
            "_view_module_version": "1.2.0",
            "_view_name": "LayoutView",
            "align_content": null,
            "align_items": null,
            "align_self": null,
            "border": null,
            "bottom": null,
            "display": null,
            "flex": null,
            "flex_flow": null,
            "grid_area": null,
            "grid_auto_columns": null,
            "grid_auto_flow": null,
            "grid_auto_rows": null,
            "grid_column": null,
            "grid_gap": null,
            "grid_row": null,
            "grid_template_areas": null,
            "grid_template_columns": null,
            "grid_template_rows": null,
            "height": null,
            "justify_content": null,
            "justify_items": null,
            "left": null,
            "margin": null,
            "max_height": null,
            "max_width": null,
            "min_height": null,
            "min_width": null,
            "object_fit": null,
            "object_position": null,
            "order": null,
            "overflow": null,
            "overflow_x": null,
            "overflow_y": null,
            "padding": "0px 3px 0px 0px",
            "right": null,
            "top": null,
            "visibility": null,
            "width": "70px"
          }
        },
        "c4eaf892f63b4ed2b24664652f5be0a8": {
          "model_module": "@jupyter-widgets/controls",
          "model_name": "SliderStyleModel",
          "model_module_version": "1.5.0",
          "state": {
            "_model_module": "@jupyter-widgets/controls",
            "_model_module_version": "1.5.0",
            "_model_name": "SliderStyleModel",
            "_view_count": null,
            "_view_module": "@jupyter-widgets/base",
            "_view_module_version": "1.2.0",
            "_view_name": "StyleView",
            "description_width": "",
            "handle_color": null
          }
        },
        "c2cf971fdf32443fa34c09c0c636e219": {
          "model_module": "@jupyter-widgets/base",
          "model_name": "LayoutModel",
          "model_module_version": "1.2.0",
          "state": {
            "_model_module": "@jupyter-widgets/base",
            "_model_module_version": "1.2.0",
            "_model_name": "LayoutModel",
            "_view_count": null,
            "_view_module": "@jupyter-widgets/base",
            "_view_module_version": "1.2.0",
            "_view_name": "LayoutView",
            "align_content": null,
            "align_items": null,
            "align_self": null,
            "border": null,
            "bottom": null,
            "display": null,
            "flex": null,
            "flex_flow": null,
            "grid_area": null,
            "grid_auto_columns": null,
            "grid_auto_flow": null,
            "grid_auto_rows": null,
            "grid_column": null,
            "grid_gap": null,
            "grid_row": null,
            "grid_template_areas": null,
            "grid_template_columns": null,
            "grid_template_rows": null,
            "height": "25px",
            "justify_content": null,
            "justify_items": null,
            "left": null,
            "margin": null,
            "max_height": null,
            "max_width": null,
            "min_height": null,
            "min_width": null,
            "object_fit": null,
            "object_position": null,
            "order": null,
            "overflow": null,
            "overflow_x": null,
            "overflow_y": null,
            "padding": "0px",
            "right": null,
            "top": null,
            "visibility": null,
            "width": "25px"
          }
        },
        "6cab00414979493f944cb6a266507caa": {
          "model_module": "@jupyter-widgets/controls",
          "model_name": "ButtonStyleModel",
          "model_module_version": "1.5.0",
          "state": {
            "_model_module": "@jupyter-widgets/controls",
            "_model_module_version": "1.5.0",
            "_model_name": "ButtonStyleModel",
            "_view_count": null,
            "_view_module": "@jupyter-widgets/base",
            "_view_module_version": "1.2.0",
            "_view_name": "StyleView",
            "button_color": null,
            "font_weight": ""
          }
        },
        "bead467db8b444bbba3080441a6fa839": {
          "model_module": "@jupyter-widgets/base",
          "model_name": "LayoutModel",
          "model_module_version": "1.2.0",
          "state": {
            "_model_module": "@jupyter-widgets/base",
            "_model_module_version": "1.2.0",
            "_model_name": "LayoutModel",
            "_view_count": null,
            "_view_module": "@jupyter-widgets/base",
            "_view_module_version": "1.2.0",
            "_view_name": "LayoutView",
            "align_content": null,
            "align_items": null,
            "align_self": null,
            "border": null,
            "bottom": null,
            "display": null,
            "flex": null,
            "flex_flow": null,
            "grid_area": null,
            "grid_auto_columns": null,
            "grid_auto_flow": null,
            "grid_auto_rows": null,
            "grid_column": null,
            "grid_gap": null,
            "grid_row": null,
            "grid_template_areas": null,
            "grid_template_columns": null,
            "grid_template_rows": null,
            "height": "25px",
            "justify_content": null,
            "justify_items": null,
            "left": null,
            "margin": null,
            "max_height": null,
            "max_width": null,
            "min_height": null,
            "min_width": null,
            "object_fit": null,
            "object_position": null,
            "order": null,
            "overflow": null,
            "overflow_x": null,
            "overflow_y": null,
            "padding": "0px",
            "right": null,
            "top": null,
            "visibility": null,
            "width": "25px"
          }
        },
        "dcf95b2e9d404eec8ee646931d4841b6": {
          "model_module": "@jupyter-widgets/controls",
          "model_name": "ButtonStyleModel",
          "model_module_version": "1.5.0",
          "state": {
            "_model_module": "@jupyter-widgets/controls",
            "_model_module_version": "1.5.0",
            "_model_name": "ButtonStyleModel",
            "_view_count": null,
            "_view_module": "@jupyter-widgets/base",
            "_view_module_version": "1.2.0",
            "_view_name": "StyleView",
            "button_color": null,
            "font_weight": ""
          }
        },
        "004a2518c9a64bd8a5a16f3bf84b5eff": {
          "model_module": "@jupyter-widgets/base",
          "model_name": "LayoutModel",
          "model_module_version": "1.2.0",
          "state": {
            "_model_module": "@jupyter-widgets/base",
            "_model_module_version": "1.2.0",
            "_model_name": "LayoutModel",
            "_view_count": null,
            "_view_module": "@jupyter-widgets/base",
            "_view_module_version": "1.2.0",
            "_view_name": "LayoutView",
            "align_content": null,
            "align_items": null,
            "align_self": null,
            "border": null,
            "bottom": null,
            "display": null,
            "flex": null,
            "flex_flow": null,
            "grid_area": null,
            "grid_auto_columns": null,
            "grid_auto_flow": null,
            "grid_auto_rows": null,
            "grid_column": null,
            "grid_gap": null,
            "grid_row": null,
            "grid_template_areas": null,
            "grid_template_columns": null,
            "grid_template_rows": null,
            "height": "18px",
            "justify_content": null,
            "justify_items": null,
            "left": null,
            "margin": null,
            "max_height": null,
            "max_width": null,
            "min_height": null,
            "min_width": null,
            "object_fit": null,
            "object_position": null,
            "order": null,
            "overflow": null,
            "overflow_x": null,
            "overflow_y": null,
            "padding": null,
            "right": null,
            "top": null,
            "visibility": null,
            "width": "140px"
          }
        },
        "0fbb4f3acc934cc38043274e51506a1a": {
          "model_module": "@jupyter-widgets/controls",
          "model_name": "DescriptionStyleModel",
          "model_module_version": "1.5.0",
          "state": {
            "_model_module": "@jupyter-widgets/controls",
            "_model_module_version": "1.5.0",
            "_model_name": "DescriptionStyleModel",
            "_view_count": null,
            "_view_module": "@jupyter-widgets/base",
            "_view_module_version": "1.2.0",
            "_view_name": "StyleView",
            "description_width": ""
          }
        },
        "6a054ed95c7d4cab904cda5637831758": {
          "model_module": "@jupyter-widgets/base",
          "model_name": "LayoutModel",
          "model_module_version": "1.2.0",
          "state": {
            "_model_module": "@jupyter-widgets/base",
            "_model_module_version": "1.2.0",
            "_model_name": "LayoutModel",
            "_view_count": null,
            "_view_module": "@jupyter-widgets/base",
            "_view_module_version": "1.2.0",
            "_view_name": "LayoutView",
            "align_content": null,
            "align_items": null,
            "align_self": null,
            "border": null,
            "bottom": null,
            "display": null,
            "flex": null,
            "flex_flow": null,
            "grid_area": null,
            "grid_auto_columns": null,
            "grid_auto_flow": null,
            "grid_auto_rows": null,
            "grid_column": null,
            "grid_gap": null,
            "grid_row": null,
            "grid_template_areas": null,
            "grid_template_columns": null,
            "grid_template_rows": null,
            "height": null,
            "justify_content": null,
            "justify_items": null,
            "left": null,
            "margin": null,
            "max_height": null,
            "max_width": null,
            "min_height": null,
            "min_width": null,
            "object_fit": null,
            "object_position": null,
            "order": null,
            "overflow": null,
            "overflow_x": null,
            "overflow_y": null,
            "padding": "0px 3px 0px 0px",
            "right": null,
            "top": null,
            "visibility": null,
            "width": "70px"
          }
        },
        "812c100cebb449858fdf50b5654d1142": {
          "model_module": "@jupyter-widgets/controls",
          "model_name": "SliderStyleModel",
          "model_module_version": "1.5.0",
          "state": {
            "_model_module": "@jupyter-widgets/controls",
            "_model_module_version": "1.5.0",
            "_model_name": "SliderStyleModel",
            "_view_count": null,
            "_view_module": "@jupyter-widgets/base",
            "_view_module_version": "1.2.0",
            "_view_name": "StyleView",
            "description_width": "",
            "handle_color": null
          }
        },
        "1b2c57225eb64d38acfb40875d22e13c": {
          "model_module": "@jupyter-widgets/base",
          "model_name": "LayoutModel",
          "model_module_version": "1.2.0",
          "state": {
            "_model_module": "@jupyter-widgets/base",
            "_model_module_version": "1.2.0",
            "_model_name": "LayoutModel",
            "_view_count": null,
            "_view_module": "@jupyter-widgets/base",
            "_view_module_version": "1.2.0",
            "_view_name": "LayoutView",
            "align_content": null,
            "align_items": null,
            "align_self": null,
            "border": null,
            "bottom": null,
            "display": null,
            "flex": null,
            "flex_flow": null,
            "grid_area": null,
            "grid_auto_columns": null,
            "grid_auto_flow": null,
            "grid_auto_rows": null,
            "grid_column": null,
            "grid_gap": null,
            "grid_row": null,
            "grid_template_areas": null,
            "grid_template_columns": null,
            "grid_template_rows": null,
            "height": "25px",
            "justify_content": null,
            "justify_items": null,
            "left": null,
            "margin": null,
            "max_height": null,
            "max_width": null,
            "min_height": null,
            "min_width": null,
            "object_fit": null,
            "object_position": null,
            "order": null,
            "overflow": null,
            "overflow_x": null,
            "overflow_y": null,
            "padding": "0px",
            "right": null,
            "top": null,
            "visibility": null,
            "width": "25px"
          }
        },
        "c916b594334b440896e9951b736971f2": {
          "model_module": "@jupyter-widgets/controls",
          "model_name": "ButtonStyleModel",
          "model_module_version": "1.5.0",
          "state": {
            "_model_module": "@jupyter-widgets/controls",
            "_model_module_version": "1.5.0",
            "_model_name": "ButtonStyleModel",
            "_view_count": null,
            "_view_module": "@jupyter-widgets/base",
            "_view_module_version": "1.2.0",
            "_view_name": "StyleView",
            "button_color": null,
            "font_weight": ""
          }
        },
        "0564da914e6047e0817d5167cdc7e872": {
          "model_module": "@jupyter-widgets/base",
          "model_name": "LayoutModel",
          "model_module_version": "1.2.0",
          "state": {
            "_model_module": "@jupyter-widgets/base",
            "_model_module_version": "1.2.0",
            "_model_name": "LayoutModel",
            "_view_count": null,
            "_view_module": "@jupyter-widgets/base",
            "_view_module_version": "1.2.0",
            "_view_name": "LayoutView",
            "align_content": null,
            "align_items": null,
            "align_self": null,
            "border": null,
            "bottom": null,
            "display": null,
            "flex": null,
            "flex_flow": null,
            "grid_area": null,
            "grid_auto_columns": null,
            "grid_auto_flow": null,
            "grid_auto_rows": null,
            "grid_column": null,
            "grid_gap": null,
            "grid_row": null,
            "grid_template_areas": null,
            "grid_template_columns": null,
            "grid_template_rows": null,
            "height": "25px",
            "justify_content": null,
            "justify_items": null,
            "left": null,
            "margin": null,
            "max_height": null,
            "max_width": null,
            "min_height": null,
            "min_width": null,
            "object_fit": null,
            "object_position": null,
            "order": null,
            "overflow": null,
            "overflow_x": null,
            "overflow_y": null,
            "padding": "0px",
            "right": null,
            "top": null,
            "visibility": null,
            "width": "25px"
          }
        },
        "b7fe36177ab04e9f9d3180c9d8ecdceb": {
          "model_module": "@jupyter-widgets/controls",
          "model_name": "ButtonStyleModel",
          "model_module_version": "1.5.0",
          "state": {
            "_model_module": "@jupyter-widgets/controls",
            "_model_module_version": "1.5.0",
            "_model_name": "ButtonStyleModel",
            "_view_count": null,
            "_view_module": "@jupyter-widgets/base",
            "_view_module_version": "1.2.0",
            "_view_name": "StyleView",
            "button_color": null,
            "font_weight": ""
          }
        },
        "bd9231f39c68408a8c31dff27f11a1a5": {
          "model_module": "@jupyter-widgets/base",
          "model_name": "LayoutModel",
          "model_module_version": "1.2.0",
          "state": {
            "_model_module": "@jupyter-widgets/base",
            "_model_module_version": "1.2.0",
            "_model_name": "LayoutModel",
            "_view_count": null,
            "_view_module": "@jupyter-widgets/base",
            "_view_module_version": "1.2.0",
            "_view_name": "LayoutView",
            "align_content": null,
            "align_items": null,
            "align_self": null,
            "border": null,
            "bottom": null,
            "display": null,
            "flex": null,
            "flex_flow": null,
            "grid_area": null,
            "grid_auto_columns": null,
            "grid_auto_flow": null,
            "grid_auto_rows": null,
            "grid_column": null,
            "grid_gap": null,
            "grid_row": null,
            "grid_template_areas": null,
            "grid_template_columns": null,
            "grid_template_rows": null,
            "height": "18px",
            "justify_content": null,
            "justify_items": null,
            "left": null,
            "margin": null,
            "max_height": null,
            "max_width": null,
            "min_height": null,
            "min_width": null,
            "object_fit": null,
            "object_position": null,
            "order": null,
            "overflow": null,
            "overflow_x": null,
            "overflow_y": null,
            "padding": null,
            "right": null,
            "top": null,
            "visibility": null,
            "width": "140px"
          }
        },
        "5e637dab4ffb4940bd96a99f5022ee43": {
          "model_module": "@jupyter-widgets/controls",
          "model_name": "DescriptionStyleModel",
          "model_module_version": "1.5.0",
          "state": {
            "_model_module": "@jupyter-widgets/controls",
            "_model_module_version": "1.5.0",
            "_model_name": "DescriptionStyleModel",
            "_view_count": null,
            "_view_module": "@jupyter-widgets/base",
            "_view_module_version": "1.2.0",
            "_view_name": "StyleView",
            "description_width": ""
          }
        },
        "09905d81d37b460b807d21a4642df984": {
          "model_module": "@jupyter-widgets/base",
          "model_name": "LayoutModel",
          "model_module_version": "1.2.0",
          "state": {
            "_model_module": "@jupyter-widgets/base",
            "_model_module_version": "1.2.0",
            "_model_name": "LayoutModel",
            "_view_count": null,
            "_view_module": "@jupyter-widgets/base",
            "_view_module_version": "1.2.0",
            "_view_name": "LayoutView",
            "align_content": null,
            "align_items": null,
            "align_self": null,
            "border": null,
            "bottom": null,
            "display": null,
            "flex": null,
            "flex_flow": null,
            "grid_area": null,
            "grid_auto_columns": null,
            "grid_auto_flow": null,
            "grid_auto_rows": null,
            "grid_column": null,
            "grid_gap": null,
            "grid_row": null,
            "grid_template_areas": null,
            "grid_template_columns": null,
            "grid_template_rows": null,
            "height": null,
            "justify_content": null,
            "justify_items": null,
            "left": null,
            "margin": null,
            "max_height": null,
            "max_width": null,
            "min_height": null,
            "min_width": null,
            "object_fit": null,
            "object_position": null,
            "order": null,
            "overflow": null,
            "overflow_x": null,
            "overflow_y": null,
            "padding": "0px 3px 0px 0px",
            "right": null,
            "top": null,
            "visibility": null,
            "width": "70px"
          }
        },
        "64b9e35d4f63428e9411c851d72cb08a": {
          "model_module": "@jupyter-widgets/controls",
          "model_name": "SliderStyleModel",
          "model_module_version": "1.5.0",
          "state": {
            "_model_module": "@jupyter-widgets/controls",
            "_model_module_version": "1.5.0",
            "_model_name": "SliderStyleModel",
            "_view_count": null,
            "_view_module": "@jupyter-widgets/base",
            "_view_module_version": "1.2.0",
            "_view_name": "StyleView",
            "description_width": "",
            "handle_color": null
          }
        },
        "31d1d50bcd4d43aaae58054b9e9d514f": {
          "model_module": "@jupyter-widgets/base",
          "model_name": "LayoutModel",
          "model_module_version": "1.2.0",
          "state": {
            "_model_module": "@jupyter-widgets/base",
            "_model_module_version": "1.2.0",
            "_model_name": "LayoutModel",
            "_view_count": null,
            "_view_module": "@jupyter-widgets/base",
            "_view_module_version": "1.2.0",
            "_view_name": "LayoutView",
            "align_content": null,
            "align_items": null,
            "align_self": null,
            "border": null,
            "bottom": null,
            "display": null,
            "flex": null,
            "flex_flow": null,
            "grid_area": null,
            "grid_auto_columns": null,
            "grid_auto_flow": null,
            "grid_auto_rows": null,
            "grid_column": null,
            "grid_gap": null,
            "grid_row": null,
            "grid_template_areas": null,
            "grid_template_columns": null,
            "grid_template_rows": null,
            "height": "25px",
            "justify_content": null,
            "justify_items": null,
            "left": null,
            "margin": null,
            "max_height": null,
            "max_width": null,
            "min_height": null,
            "min_width": null,
            "object_fit": null,
            "object_position": null,
            "order": null,
            "overflow": null,
            "overflow_x": null,
            "overflow_y": null,
            "padding": "0px",
            "right": null,
            "top": null,
            "visibility": null,
            "width": "25px"
          }
        },
        "35587fb6aa35490b9acd884b4b30020f": {
          "model_module": "@jupyter-widgets/controls",
          "model_name": "ButtonStyleModel",
          "model_module_version": "1.5.0",
          "state": {
            "_model_module": "@jupyter-widgets/controls",
            "_model_module_version": "1.5.0",
            "_model_name": "ButtonStyleModel",
            "_view_count": null,
            "_view_module": "@jupyter-widgets/base",
            "_view_module_version": "1.2.0",
            "_view_name": "StyleView",
            "button_color": null,
            "font_weight": ""
          }
        },
        "3d4d2db6bfe14a68bf7fe8e91ec16760": {
          "model_module": "@jupyter-widgets/base",
          "model_name": "LayoutModel",
          "model_module_version": "1.2.0",
          "state": {
            "_model_module": "@jupyter-widgets/base",
            "_model_module_version": "1.2.0",
            "_model_name": "LayoutModel",
            "_view_count": null,
            "_view_module": "@jupyter-widgets/base",
            "_view_module_version": "1.2.0",
            "_view_name": "LayoutView",
            "align_content": null,
            "align_items": null,
            "align_self": null,
            "border": null,
            "bottom": null,
            "display": null,
            "flex": null,
            "flex_flow": null,
            "grid_area": null,
            "grid_auto_columns": null,
            "grid_auto_flow": null,
            "grid_auto_rows": null,
            "grid_column": null,
            "grid_gap": null,
            "grid_row": null,
            "grid_template_areas": null,
            "grid_template_columns": null,
            "grid_template_rows": null,
            "height": "25px",
            "justify_content": null,
            "justify_items": null,
            "left": null,
            "margin": null,
            "max_height": null,
            "max_width": null,
            "min_height": null,
            "min_width": null,
            "object_fit": null,
            "object_position": null,
            "order": null,
            "overflow": null,
            "overflow_x": null,
            "overflow_y": null,
            "padding": "0px",
            "right": null,
            "top": null,
            "visibility": null,
            "width": "25px"
          }
        },
        "c2f5ba5429a54b9881120522dc5b4e68": {
          "model_module": "@jupyter-widgets/controls",
          "model_name": "ButtonStyleModel",
          "model_module_version": "1.5.0",
          "state": {
            "_model_module": "@jupyter-widgets/controls",
            "_model_module_version": "1.5.0",
            "_model_name": "ButtonStyleModel",
            "_view_count": null,
            "_view_module": "@jupyter-widgets/base",
            "_view_module_version": "1.2.0",
            "_view_name": "StyleView",
            "button_color": null,
            "font_weight": ""
          }
        },
        "cf28ca8deaa24c379a62c1476a5d90f3": {
          "model_module": "@jupyter-widgets/base",
          "model_name": "LayoutModel",
          "model_module_version": "1.2.0",
          "state": {
            "_model_module": "@jupyter-widgets/base",
            "_model_module_version": "1.2.0",
            "_model_name": "LayoutModel",
            "_view_count": null,
            "_view_module": "@jupyter-widgets/base",
            "_view_module_version": "1.2.0",
            "_view_name": "LayoutView",
            "align_content": null,
            "align_items": null,
            "align_self": null,
            "border": null,
            "bottom": null,
            "display": null,
            "flex": null,
            "flex_flow": null,
            "grid_area": null,
            "grid_auto_columns": null,
            "grid_auto_flow": null,
            "grid_auto_rows": null,
            "grid_column": null,
            "grid_gap": null,
            "grid_row": null,
            "grid_template_areas": null,
            "grid_template_columns": null,
            "grid_template_rows": null,
            "height": "18px",
            "justify_content": null,
            "justify_items": null,
            "left": null,
            "margin": null,
            "max_height": null,
            "max_width": null,
            "min_height": null,
            "min_width": null,
            "object_fit": null,
            "object_position": null,
            "order": null,
            "overflow": null,
            "overflow_x": null,
            "overflow_y": null,
            "padding": null,
            "right": null,
            "top": null,
            "visibility": null,
            "width": "140px"
          }
        },
        "e944c21354e14a589703448ccd902d28": {
          "model_module": "@jupyter-widgets/controls",
          "model_name": "DescriptionStyleModel",
          "model_module_version": "1.5.0",
          "state": {
            "_model_module": "@jupyter-widgets/controls",
            "_model_module_version": "1.5.0",
            "_model_name": "DescriptionStyleModel",
            "_view_count": null,
            "_view_module": "@jupyter-widgets/base",
            "_view_module_version": "1.2.0",
            "_view_name": "StyleView",
            "description_width": ""
          }
        },
        "76408d3023ec4037924262f13edc183f": {
          "model_module": "@jupyter-widgets/base",
          "model_name": "LayoutModel",
          "model_module_version": "1.2.0",
          "state": {
            "_model_module": "@jupyter-widgets/base",
            "_model_module_version": "1.2.0",
            "_model_name": "LayoutModel",
            "_view_count": null,
            "_view_module": "@jupyter-widgets/base",
            "_view_module_version": "1.2.0",
            "_view_name": "LayoutView",
            "align_content": null,
            "align_items": null,
            "align_self": null,
            "border": null,
            "bottom": null,
            "display": null,
            "flex": null,
            "flex_flow": null,
            "grid_area": null,
            "grid_auto_columns": null,
            "grid_auto_flow": null,
            "grid_auto_rows": null,
            "grid_column": null,
            "grid_gap": null,
            "grid_row": null,
            "grid_template_areas": null,
            "grid_template_columns": null,
            "grid_template_rows": null,
            "height": null,
            "justify_content": null,
            "justify_items": null,
            "left": null,
            "margin": null,
            "max_height": null,
            "max_width": null,
            "min_height": null,
            "min_width": null,
            "object_fit": null,
            "object_position": null,
            "order": null,
            "overflow": null,
            "overflow_x": null,
            "overflow_y": null,
            "padding": "0px 3px 0px 0px",
            "right": null,
            "top": null,
            "visibility": null,
            "width": "70px"
          }
        },
        "524d9cf65f074e9ab1fcc5804871ea40": {
          "model_module": "@jupyter-widgets/controls",
          "model_name": "SliderStyleModel",
          "model_module_version": "1.5.0",
          "state": {
            "_model_module": "@jupyter-widgets/controls",
            "_model_module_version": "1.5.0",
            "_model_name": "SliderStyleModel",
            "_view_count": null,
            "_view_module": "@jupyter-widgets/base",
            "_view_module_version": "1.2.0",
            "_view_name": "StyleView",
            "description_width": "",
            "handle_color": null
          }
        },
        "c3a8d4e1558b497799a6f28eddd97a86": {
          "model_module": "@jupyter-widgets/base",
          "model_name": "LayoutModel",
          "model_module_version": "1.2.0",
          "state": {
            "_model_module": "@jupyter-widgets/base",
            "_model_module_version": "1.2.0",
            "_model_name": "LayoutModel",
            "_view_count": null,
            "_view_module": "@jupyter-widgets/base",
            "_view_module_version": "1.2.0",
            "_view_name": "LayoutView",
            "align_content": null,
            "align_items": null,
            "align_self": null,
            "border": null,
            "bottom": null,
            "display": null,
            "flex": null,
            "flex_flow": null,
            "grid_area": null,
            "grid_auto_columns": null,
            "grid_auto_flow": null,
            "grid_auto_rows": null,
            "grid_column": null,
            "grid_gap": null,
            "grid_row": null,
            "grid_template_areas": null,
            "grid_template_columns": null,
            "grid_template_rows": null,
            "height": "25px",
            "justify_content": null,
            "justify_items": null,
            "left": null,
            "margin": null,
            "max_height": null,
            "max_width": null,
            "min_height": null,
            "min_width": null,
            "object_fit": null,
            "object_position": null,
            "order": null,
            "overflow": null,
            "overflow_x": null,
            "overflow_y": null,
            "padding": "0px",
            "right": null,
            "top": null,
            "visibility": null,
            "width": "25px"
          }
        },
        "5a655b75cade4725b60ea97e0b03afc7": {
          "model_module": "@jupyter-widgets/controls",
          "model_name": "ButtonStyleModel",
          "model_module_version": "1.5.0",
          "state": {
            "_model_module": "@jupyter-widgets/controls",
            "_model_module_version": "1.5.0",
            "_model_name": "ButtonStyleModel",
            "_view_count": null,
            "_view_module": "@jupyter-widgets/base",
            "_view_module_version": "1.2.0",
            "_view_name": "StyleView",
            "button_color": null,
            "font_weight": ""
          }
        },
        "1bdd47aead604bff98e68998ae189a8b": {
          "model_module": "@jupyter-widgets/base",
          "model_name": "LayoutModel",
          "model_module_version": "1.2.0",
          "state": {
            "_model_module": "@jupyter-widgets/base",
            "_model_module_version": "1.2.0",
            "_model_name": "LayoutModel",
            "_view_count": null,
            "_view_module": "@jupyter-widgets/base",
            "_view_module_version": "1.2.0",
            "_view_name": "LayoutView",
            "align_content": null,
            "align_items": null,
            "align_self": null,
            "border": null,
            "bottom": null,
            "display": null,
            "flex": null,
            "flex_flow": null,
            "grid_area": null,
            "grid_auto_columns": null,
            "grid_auto_flow": null,
            "grid_auto_rows": null,
            "grid_column": null,
            "grid_gap": null,
            "grid_row": null,
            "grid_template_areas": null,
            "grid_template_columns": null,
            "grid_template_rows": null,
            "height": "25px",
            "justify_content": null,
            "justify_items": null,
            "left": null,
            "margin": null,
            "max_height": null,
            "max_width": null,
            "min_height": null,
            "min_width": null,
            "object_fit": null,
            "object_position": null,
            "order": null,
            "overflow": null,
            "overflow_x": null,
            "overflow_y": null,
            "padding": "0px",
            "right": null,
            "top": null,
            "visibility": null,
            "width": "25px"
          }
        },
        "e05a01e64f624c128b59e4473c4f468f": {
          "model_module": "@jupyter-widgets/controls",
          "model_name": "ButtonStyleModel",
          "model_module_version": "1.5.0",
          "state": {
            "_model_module": "@jupyter-widgets/controls",
            "_model_module_version": "1.5.0",
            "_model_name": "ButtonStyleModel",
            "_view_count": null,
            "_view_module": "@jupyter-widgets/base",
            "_view_module_version": "1.2.0",
            "_view_name": "StyleView",
            "button_color": null,
            "font_weight": ""
          }
        },
        "541d2b924eb441dbb0fad9929da50376": {
          "model_module": "@jupyter-widgets/base",
          "model_name": "LayoutModel",
          "model_module_version": "1.2.0",
          "state": {
            "_model_module": "@jupyter-widgets/base",
            "_model_module_version": "1.2.0",
            "_model_name": "LayoutModel",
            "_view_count": null,
            "_view_module": "@jupyter-widgets/base",
            "_view_module_version": "1.2.0",
            "_view_name": "LayoutView",
            "align_content": null,
            "align_items": null,
            "align_self": null,
            "border": null,
            "bottom": null,
            "display": null,
            "flex": null,
            "flex_flow": null,
            "grid_area": null,
            "grid_auto_columns": null,
            "grid_auto_flow": null,
            "grid_auto_rows": null,
            "grid_column": null,
            "grid_gap": null,
            "grid_row": null,
            "grid_template_areas": null,
            "grid_template_columns": null,
            "grid_template_rows": null,
            "height": "18px",
            "justify_content": null,
            "justify_items": null,
            "left": null,
            "margin": null,
            "max_height": null,
            "max_width": null,
            "min_height": null,
            "min_width": null,
            "object_fit": null,
            "object_position": null,
            "order": null,
            "overflow": null,
            "overflow_x": null,
            "overflow_y": null,
            "padding": null,
            "right": null,
            "top": null,
            "visibility": null,
            "width": "140px"
          }
        },
        "27e67d6cc187469cad8eef0999e17326": {
          "model_module": "@jupyter-widgets/controls",
          "model_name": "DescriptionStyleModel",
          "model_module_version": "1.5.0",
          "state": {
            "_model_module": "@jupyter-widgets/controls",
            "_model_module_version": "1.5.0",
            "_model_name": "DescriptionStyleModel",
            "_view_count": null,
            "_view_module": "@jupyter-widgets/base",
            "_view_module_version": "1.2.0",
            "_view_name": "StyleView",
            "description_width": ""
          }
        },
        "49b9ada647af4345ad3714a6c2398835": {
          "model_module": "@jupyter-widgets/base",
          "model_name": "LayoutModel",
          "model_module_version": "1.2.0",
          "state": {
            "_model_module": "@jupyter-widgets/base",
            "_model_module_version": "1.2.0",
            "_model_name": "LayoutModel",
            "_view_count": null,
            "_view_module": "@jupyter-widgets/base",
            "_view_module_version": "1.2.0",
            "_view_name": "LayoutView",
            "align_content": null,
            "align_items": null,
            "align_self": null,
            "border": null,
            "bottom": null,
            "display": null,
            "flex": null,
            "flex_flow": null,
            "grid_area": null,
            "grid_auto_columns": null,
            "grid_auto_flow": null,
            "grid_auto_rows": null,
            "grid_column": null,
            "grid_gap": null,
            "grid_row": null,
            "grid_template_areas": null,
            "grid_template_columns": null,
            "grid_template_rows": null,
            "height": null,
            "justify_content": null,
            "justify_items": null,
            "left": null,
            "margin": null,
            "max_height": null,
            "max_width": null,
            "min_height": null,
            "min_width": null,
            "object_fit": null,
            "object_position": null,
            "order": null,
            "overflow": null,
            "overflow_x": null,
            "overflow_y": null,
            "padding": "0px 3px 0px 0px",
            "right": null,
            "top": null,
            "visibility": null,
            "width": "70px"
          }
        },
        "ed644e472bd842c090c156b5b6354c52": {
          "model_module": "@jupyter-widgets/controls",
          "model_name": "SliderStyleModel",
          "model_module_version": "1.5.0",
          "state": {
            "_model_module": "@jupyter-widgets/controls",
            "_model_module_version": "1.5.0",
            "_model_name": "SliderStyleModel",
            "_view_count": null,
            "_view_module": "@jupyter-widgets/base",
            "_view_module_version": "1.2.0",
            "_view_name": "StyleView",
            "description_width": "",
            "handle_color": null
          }
        },
        "2d1c9a01d5244e3196915f500ca9f850": {
          "model_module": "@jupyter-widgets/base",
          "model_name": "LayoutModel",
          "model_module_version": "1.2.0",
          "state": {
            "_model_module": "@jupyter-widgets/base",
            "_model_module_version": "1.2.0",
            "_model_name": "LayoutModel",
            "_view_count": null,
            "_view_module": "@jupyter-widgets/base",
            "_view_module_version": "1.2.0",
            "_view_name": "LayoutView",
            "align_content": null,
            "align_items": null,
            "align_self": null,
            "border": null,
            "bottom": null,
            "display": null,
            "flex": null,
            "flex_flow": null,
            "grid_area": null,
            "grid_auto_columns": null,
            "grid_auto_flow": null,
            "grid_auto_rows": null,
            "grid_column": null,
            "grid_gap": null,
            "grid_row": null,
            "grid_template_areas": null,
            "grid_template_columns": null,
            "grid_template_rows": null,
            "height": "25px",
            "justify_content": null,
            "justify_items": null,
            "left": null,
            "margin": null,
            "max_height": null,
            "max_width": null,
            "min_height": null,
            "min_width": null,
            "object_fit": null,
            "object_position": null,
            "order": null,
            "overflow": null,
            "overflow_x": null,
            "overflow_y": null,
            "padding": "0px",
            "right": null,
            "top": null,
            "visibility": null,
            "width": "25px"
          }
        },
        "41a1c7e5cf754e81b7588cc4ef0f3031": {
          "model_module": "@jupyter-widgets/controls",
          "model_name": "ButtonStyleModel",
          "model_module_version": "1.5.0",
          "state": {
            "_model_module": "@jupyter-widgets/controls",
            "_model_module_version": "1.5.0",
            "_model_name": "ButtonStyleModel",
            "_view_count": null,
            "_view_module": "@jupyter-widgets/base",
            "_view_module_version": "1.2.0",
            "_view_name": "StyleView",
            "button_color": null,
            "font_weight": ""
          }
        },
        "bfe3db011e8d461ca8200c86a73f704b": {
          "model_module": "@jupyter-widgets/base",
          "model_name": "LayoutModel",
          "model_module_version": "1.2.0",
          "state": {
            "_model_module": "@jupyter-widgets/base",
            "_model_module_version": "1.2.0",
            "_model_name": "LayoutModel",
            "_view_count": null,
            "_view_module": "@jupyter-widgets/base",
            "_view_module_version": "1.2.0",
            "_view_name": "LayoutView",
            "align_content": null,
            "align_items": null,
            "align_self": null,
            "border": null,
            "bottom": null,
            "display": null,
            "flex": null,
            "flex_flow": null,
            "grid_area": null,
            "grid_auto_columns": null,
            "grid_auto_flow": null,
            "grid_auto_rows": null,
            "grid_column": null,
            "grid_gap": null,
            "grid_row": null,
            "grid_template_areas": null,
            "grid_template_columns": null,
            "grid_template_rows": null,
            "height": "25px",
            "justify_content": null,
            "justify_items": null,
            "left": null,
            "margin": null,
            "max_height": null,
            "max_width": null,
            "min_height": null,
            "min_width": null,
            "object_fit": null,
            "object_position": null,
            "order": null,
            "overflow": null,
            "overflow_x": null,
            "overflow_y": null,
            "padding": "0px",
            "right": null,
            "top": null,
            "visibility": null,
            "width": "25px"
          }
        },
        "7f11251cf07942a89c22439a1226e5cf": {
          "model_module": "@jupyter-widgets/controls",
          "model_name": "ButtonStyleModel",
          "model_module_version": "1.5.0",
          "state": {
            "_model_module": "@jupyter-widgets/controls",
            "_model_module_version": "1.5.0",
            "_model_name": "ButtonStyleModel",
            "_view_count": null,
            "_view_module": "@jupyter-widgets/base",
            "_view_module_version": "1.2.0",
            "_view_name": "StyleView",
            "button_color": null,
            "font_weight": ""
          }
        }
      }
    }
  },
  "nbformat": 4,
  "nbformat_minor": 0
}